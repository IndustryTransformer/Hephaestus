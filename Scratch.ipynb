{
 "cells": [
  {
   "cell_type": "code",
   "execution_count": 1,
   "metadata": {},
   "outputs": [],
   "source": [
    "import jax.numpy as jnp\n",
    "import jax\n",
    "from flax import linen as nn\n",
    "import hephaestus as hp"
   ]
  },
  {
   "cell_type": "code",
   "execution_count": 2,
   "metadata": {},
   "outputs": [
    {
     "name": "stderr",
     "output_type": "stream",
     "text": [
      "WARNING: All log messages before absl::InitializeLog() is called are written to STDERR\n",
      "I0000 00:00:1695596652.641389       1 tfrt_cpu_pjrt_client.cc:349] TfrtCpuClient created.\n"
     ]
    }
   ],
   "source": [
    "class PositionalEncoding(nn.Module):\n",
    "    d_model: int\n",
    "    dropout: float\n",
    "    max_len = 10000\n",
    "\n",
    "    @nn.compact\n",
    "    def __call__(self, X):\n",
    "        # dropout = nn.Dropout(self.dropout) train=True\n",
    "        pe = jnp.zeros((1, self.max_len, self.d_model))\n",
    "        x = jnp.arange(self.max_len, dtype=jnp.float32).reshape(-1, 1) / jnp.power(\n",
    "            10000,\n",
    "            jnp.arange(0, self.d_model, 2, dtype=jnp.float32) / self.d_model,\n",
    "        )\n",
    "        pe = pe.at[:, :, 0::2].set(jnp.sin(x))\n",
    "        pe = pe.at[:, :, 1::2].set(jnp.cos(x))\n",
    "        X = X + pe[:, : X.shape[1], :]\n",
    "        # return dropout(X, deterministic=not train)\n",
    "\n",
    "        return X\n",
    "\n",
    "\n",
    "encoding_dim, num_steps = 32, 60\n",
    "pos_encoding = PositionalEncoding(encoding_dim, 0.6)\n",
    "x = jnp.zeros((3, num_steps, encoding_dim))\n",
    "init_variables = pos_encoding.init({\"params\": jax.random.PRNGKey(0)}, x, train=False)\n",
    "X = pos_encoding.apply(\n",
    "    init_variables, x, train=True, rngs={\"dropout\": jax.random.PRNGKey(4)}\n",
    ")"
   ]
  },
  {
   "cell_type": "code",
   "execution_count": 3,
   "metadata": {},
   "outputs": [
    {
     "data": {
      "text/plain": [
       "Array((), dtype=key<fry>) overlaying:\n",
       "[0 3]"
      ]
     },
     "execution_count": 3,
     "metadata": {},
     "output_type": "execute_result"
    }
   ],
   "source": [
    "jax.random.key(3)"
   ]
  },
  {
   "cell_type": "code",
   "execution_count": 4,
   "metadata": {},
   "outputs": [
    {
     "data": {
      "text/plain": [
       "(3, 60, 32)"
      ]
     },
     "execution_count": 4,
     "metadata": {},
     "output_type": "execute_result"
    }
   ],
   "source": [
    "X.shape"
   ]
  },
  {
   "cell_type": "code",
   "execution_count": 5,
   "metadata": {},
   "outputs": [
    {
     "data": {
      "text/plain": [
       "Array([[ 0.0000000e+00,  0.0000000e+00,  0.0000000e+00, ...,\n",
       "         0.0000000e+00,  0.0000000e+00,  0.0000000e+00],\n",
       "       [ 0.0000000e+00,  0.0000000e+00,  1.3329210e+00, ...,\n",
       "         0.0000000e+00,  4.4456986e-04,  0.0000000e+00],\n",
       "       [ 2.2732434e+00, -1.0403671e+00,  0.0000000e+00, ...,\n",
       "         0.0000000e+00,  0.0000000e+00,  0.0000000e+00],\n",
       "       ...,\n",
       "       [ 0.0000000e+00,  2.2496669e+00,  1.4880288e+00, ...,\n",
       "         0.0000000e+00,  2.5340049e-02,  0.0000000e+00],\n",
       "       [ 0.0000000e+00,  2.9795033e-01,  0.0000000e+00, ...,\n",
       "         0.0000000e+00,  0.0000000e+00,  0.0000000e+00],\n",
       "       [ 0.0000000e+00, -1.9277005e+00,  0.0000000e+00, ...,\n",
       "         2.4995649e+00,  0.0000000e+00,  0.0000000e+00]], dtype=float32)"
      ]
     },
     "execution_count": 5,
     "metadata": {},
     "output_type": "execute_result"
    }
   ],
   "source": [
    "X[0]"
   ]
  },
  {
   "cell_type": "code",
   "execution_count": 6,
   "metadata": {},
   "outputs": [
    {
     "data": {
      "text/plain": [
       "Array([[ 0.0000000e+00,  2.5000000e+00,  0.0000000e+00, ...,\n",
       "         0.0000000e+00,  0.0000000e+00,  2.5000000e+00],\n",
       "       [ 0.0000000e+00,  1.3507558e+00,  0.0000000e+00, ...,\n",
       "         0.0000000e+00,  4.4456986e-04,  0.0000000e+00],\n",
       "       [ 0.0000000e+00, -1.0403671e+00,  0.0000000e+00, ...,\n",
       "         0.0000000e+00,  8.8913972e-04,  0.0000000e+00],\n",
       "       ...,\n",
       "       [ 1.0904119e+00,  0.0000000e+00,  0.0000000e+00, ...,\n",
       "         0.0000000e+00,  2.5340049e-02,  0.0000000e+00],\n",
       "       [ 0.0000000e+00,  0.0000000e+00,  2.3299787e+00, ...,\n",
       "         0.0000000e+00,  2.5784597e-02,  2.4998670e+00],\n",
       "       [ 1.5918450e+00, -1.9277005e+00,  2.4543397e+00, ...,\n",
       "         0.0000000e+00,  0.0000000e+00,  2.4998624e+00]], dtype=float32)"
      ]
     },
     "execution_count": 6,
     "metadata": {},
     "output_type": "execute_result"
    }
   ],
   "source": [
    "X[1]"
   ]
  },
  {
   "cell_type": "code",
   "execution_count": 7,
   "metadata": {},
   "outputs": [
    {
     "data": {
      "text/plain": [
       "Array([[ 0.0000000e+00],\n",
       "       [ 9.9999998e-03],\n",
       "       [ 1.9999999e-04],\n",
       "       [ 3.0000001e-06],\n",
       "       [ 4.0000000e-08],\n",
       "       [ 3.5459349e-09],\n",
       "       [-8.2487839e-09],\n",
       "       [ 2.5321288e-08],\n",
       "       [ 4.2668500e-09],\n",
       "       [-6.0540075e-09]], dtype=float32)"
      ]
     },
     "execution_count": 7,
     "metadata": {},
     "output_type": "execute_result"
    }
   ],
   "source": [
    "pe = jnp.arange(10).reshape(-1, 1)\n",
    "pe = pe / jnp.power(100, pe)\n",
    "pe"
   ]
  },
  {
   "cell_type": "code",
   "execution_count": 8,
   "metadata": {},
   "outputs": [
    {
     "data": {
      "text/plain": [
       "Array([[ 0.0000000e+00],\n",
       "       [ 9.9998331e-03],\n",
       "       [ 1.9999999e-04],\n",
       "       [ 3.0000001e-06],\n",
       "       [ 4.0000000e-08],\n",
       "       [ 3.5459349e-09],\n",
       "       [-8.2487839e-09],\n",
       "       [ 2.5321288e-08],\n",
       "       [ 4.2668500e-09],\n",
       "       [-6.0540075e-09]], dtype=float32)"
      ]
     },
     "execution_count": 8,
     "metadata": {},
     "output_type": "execute_result"
    }
   ],
   "source": [
    "jnp.sin(pe)"
   ]
  },
  {
   "cell_type": "code",
   "execution_count": 9,
   "metadata": {},
   "outputs": [
    {
     "name": "stdout",
     "output_type": "stream",
     "text": [
      "(3, 9, 64)\n",
      "(27, 64)\n",
      "(1, 27, 64)\n"
     ]
    }
   ],
   "source": [
    "mat = jnp.arange(1728).reshape(3, 9, 64)\n",
    "print(mat.shape)\n",
    "mat1 = mat.reshape(-1, 64)\n",
    "print(mat1.shape)\n",
    "mat2 = jnp.expand_dims(mat1, axis=0)\n",
    "print(mat2.shape)"
   ]
  },
  {
   "cell_type": "code",
   "execution_count": 10,
   "metadata": {},
   "outputs": [],
   "source": [
    "one = jnp.ones((3, 9, 64))\n",
    "one1 = jnp.ones((9, 64))"
   ]
  },
  {
   "cell_type": "code",
   "execution_count": 11,
   "metadata": {},
   "outputs": [
    {
     "data": {
      "text/plain": [
       "(3, 9, 9)"
      ]
     },
     "execution_count": 11,
     "metadata": {},
     "output_type": "execute_result"
    }
   ],
   "source": [
    "jnp.matmul(mat, jnp.swapaxes(mat, -2, -1)).shape"
   ]
  },
  {
   "cell_type": "code",
   "execution_count": 12,
   "metadata": {},
   "outputs": [
    {
     "data": {
      "text/plain": [
       "(1, 9, 27)"
      ]
     },
     "execution_count": 12,
     "metadata": {},
     "output_type": "execute_result"
    }
   ],
   "source": [
    "jnp.matmul(one1, jnp.swapaxes(mat2, -2, -1)).shape"
   ]
  },
  {
   "cell_type": "code",
   "execution_count": 13,
   "metadata": {},
   "outputs": [
    {
     "data": {
      "text/plain": [
       "(432, 4)"
      ]
     },
     "execution_count": 13,
     "metadata": {},
     "output_type": "execute_result"
    }
   ],
   "source": [
    "mat.reshape(-1, 4).shape"
   ]
  },
  {
   "cell_type": "code",
   "execution_count": 14,
   "metadata": {},
   "outputs": [],
   "source": [
    "mat2 = jnp.ones((3, 9, 64))"
   ]
  },
  {
   "cell_type": "code",
   "execution_count": 15,
   "metadata": {},
   "outputs": [
    {
     "ename": "SyntaxError",
     "evalue": "invalid syntax (941626681.py, line 1)",
     "output_type": "error",
     "traceback": [
      "\u001b[0;36m  Cell \u001b[0;32mIn[15], line 1\u001b[0;36m\u001b[0m\n\u001b[0;31m    mat3 =\u001b[0m\n\u001b[0m           ^\u001b[0m\n\u001b[0;31mSyntaxError\u001b[0m\u001b[0;31m:\u001b[0m invalid syntax\n"
     ]
    }
   ],
   "source": [
    "mat3 = "
   ]
  },
  {
   "cell_type": "code",
   "execution_count": null,
   "metadata": {},
   "outputs": [
    {
     "data": {
      "text/plain": [
       "(1728,)"
      ]
     },
     "execution_count": 18,
     "metadata": {},
     "output_type": "execute_result"
    }
   ],
   "source": [
    "mat3.reshape(-1).shape"
   ]
  },
  {
   "cell_type": "code",
   "execution_count": null,
   "metadata": {},
   "outputs": [
    {
     "data": {
      "text/plain": [
       "(1, 27, 64)"
      ]
     },
     "execution_count": 20,
     "metadata": {},
     "output_type": "execute_result"
    }
   ],
   "source": [
    "jnp.expand_dims(mat3, axis=0).shape"
   ]
  },
  {
   "cell_type": "code",
   "execution_count": null,
   "metadata": {},
   "outputs": [],
   "source": []
  }
 ],
 "metadata": {
  "kernelspec": {
   "display_name": "hepheastus",
   "language": "python",
   "name": "python3"
  },
  "language_info": {
   "codemirror_mode": {
    "name": "ipython",
    "version": 3
   },
   "file_extension": ".py",
   "mimetype": "text/x-python",
   "name": "python",
   "nbconvert_exporter": "python",
   "pygments_lexer": "ipython3",
   "version": "3.11.4"
  },
  "orig_nbformat": 4
 },
 "nbformat": 4,
 "nbformat_minor": 2
}
