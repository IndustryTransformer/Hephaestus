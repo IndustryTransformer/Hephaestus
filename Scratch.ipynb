{
 "cells": [
  {
   "cell_type": "code",
   "execution_count": 82,
   "metadata": {},
   "outputs": [
    {
     "ename": "SyntaxError",
     "evalue": "invalid syntax (2507582064.py, line 4)",
     "output_type": "error",
     "traceback": [
      "\u001b[0;36m  Cell \u001b[0;32mIn[82], line 4\u001b[0;36m\u001b[0m\n\u001b[0;31m    import .hephaestus as hp\u001b[0m\n\u001b[0m           ^\u001b[0m\n\u001b[0;31mSyntaxError\u001b[0m\u001b[0;31m:\u001b[0m invalid syntax\n"
     ]
    }
   ],
   "source": [
    "import jax.numpy as jnp\n",
    "import jax\n",
    "from flax import linen as nn\n",
    "import .hephaestus as hp\n"
   ]
  },
  {
   "cell_type": "code",
   "execution_count": 59,
   "metadata": {},
   "outputs": [],
   "source": [
    "class PositionalEncoding(nn.Module):\n",
    "    d_model: int\n",
    "    dropout: float\n",
    "    max_len = 1000\n",
    "\n",
    "    @nn.compact\n",
    "    def __call__(self, X, train=True):\n",
    "        dropout = nn.Dropout(self.dropout)\n",
    "        pe = jnp.zeros((1, self.max_len, self.d_model))\n",
    "        x = jnp.arange(self.max_len, dtype=jnp.float32).reshape(-1, 1) / jnp.power(\n",
    "            10000,\n",
    "            jnp.arange(0, self.d_model, 2, dtype=jnp.float32) / self.d_model,\n",
    "        )\n",
    "        pe = pe.at[:, :, 0::2].set(jnp.sin(x))\n",
    "        pe = pe.at[:, :, 1::2].set(jnp.cos(x))\n",
    "        X = X + pe[:, : X.shape[1], :]\n",
    "        return dropout(X, deterministic=not train)\n",
    "\n",
    "\n",
    "encoding_dim, num_steps = 32, 60\n",
    "pos_encoding = PositionalEncoding(encoding_dim, 0.6)\n",
    "x = jnp.zeros((3, num_steps, encoding_dim))\n",
    "init_variables = pos_encoding.init({\"params\": jax.random.PRNGKey(0)}, x, train=False)\n",
    "X = pos_encoding.apply(\n",
    "    init_variables, x, train=True, rngs={\"dropout\": jax.random.PRNGKey(4)}\n",
    ")"
   ]
  },
  {
   "cell_type": "code",
   "execution_count": 60,
   "metadata": {},
   "outputs": [
    {
     "data": {
      "text/plain": [
       "Array((), dtype=key<fry>) overlaying:\n",
       "[0 3]"
      ]
     },
     "execution_count": 60,
     "metadata": {},
     "output_type": "execute_result"
    }
   ],
   "source": [
    "jax.random.key(3)"
   ]
  },
  {
   "cell_type": "code",
   "execution_count": 63,
   "metadata": {},
   "outputs": [
    {
     "data": {
      "text/plain": [
       "(3, 60, 32)"
      ]
     },
     "execution_count": 63,
     "metadata": {},
     "output_type": "execute_result"
    }
   ],
   "source": [
    "X.shape"
   ]
  },
  {
   "cell_type": "code",
   "execution_count": 64,
   "metadata": {},
   "outputs": [
    {
     "data": {
      "text/plain": [
       "Array([[ 0.0000000e+00,  0.0000000e+00,  0.0000000e+00, ...,\n",
       "         0.0000000e+00,  0.0000000e+00,  0.0000000e+00],\n",
       "       [ 0.0000000e+00,  0.0000000e+00,  1.3329210e+00, ...,\n",
       "         0.0000000e+00,  4.4456986e-04,  0.0000000e+00],\n",
       "       [ 2.2732434e+00, -1.0403671e+00,  0.0000000e+00, ...,\n",
       "         0.0000000e+00,  0.0000000e+00,  0.0000000e+00],\n",
       "       ...,\n",
       "       [ 0.0000000e+00,  2.2496669e+00,  1.4880288e+00, ...,\n",
       "         0.0000000e+00,  2.5340049e-02,  0.0000000e+00],\n",
       "       [ 0.0000000e+00,  2.9795033e-01,  0.0000000e+00, ...,\n",
       "         0.0000000e+00,  0.0000000e+00,  0.0000000e+00],\n",
       "       [ 0.0000000e+00, -1.9277005e+00,  0.0000000e+00, ...,\n",
       "         2.4995649e+00,  0.0000000e+00,  0.0000000e+00]], dtype=float32)"
      ]
     },
     "execution_count": 64,
     "metadata": {},
     "output_type": "execute_result"
    }
   ],
   "source": [
    "X[0]"
   ]
  },
  {
   "cell_type": "code",
   "execution_count": 65,
   "metadata": {},
   "outputs": [
    {
     "data": {
      "text/plain": [
       "Array([[ 0.0000000e+00,  2.5000000e+00,  0.0000000e+00, ...,\n",
       "         0.0000000e+00,  0.0000000e+00,  2.5000000e+00],\n",
       "       [ 0.0000000e+00,  1.3507558e+00,  0.0000000e+00, ...,\n",
       "         0.0000000e+00,  4.4456986e-04,  0.0000000e+00],\n",
       "       [ 0.0000000e+00, -1.0403671e+00,  0.0000000e+00, ...,\n",
       "         0.0000000e+00,  8.8913972e-04,  0.0000000e+00],\n",
       "       ...,\n",
       "       [ 1.0904119e+00,  0.0000000e+00,  0.0000000e+00, ...,\n",
       "         0.0000000e+00,  2.5340049e-02,  0.0000000e+00],\n",
       "       [ 0.0000000e+00,  0.0000000e+00,  2.3299787e+00, ...,\n",
       "         0.0000000e+00,  2.5784597e-02,  2.4998670e+00],\n",
       "       [ 1.5918450e+00, -1.9277005e+00,  2.4543397e+00, ...,\n",
       "         0.0000000e+00,  0.0000000e+00,  2.4998624e+00]], dtype=float32)"
      ]
     },
     "execution_count": 65,
     "metadata": {},
     "output_type": "execute_result"
    }
   ],
   "source": [
    "X[1]"
   ]
  },
  {
   "cell_type": "code",
   "execution_count": 74,
   "metadata": {},
   "outputs": [
    {
     "data": {
      "text/plain": [
       "Array([[ 0.0000000e+00],\n",
       "       [ 9.9999998e-03],\n",
       "       [ 1.9999999e-04],\n",
       "       [ 3.0000001e-06],\n",
       "       [ 4.0000000e-08],\n",
       "       [ 3.5459349e-09],\n",
       "       [-8.2487839e-09],\n",
       "       [ 2.5321288e-08],\n",
       "       [ 4.2668500e-09],\n",
       "       [-6.0540075e-09]], dtype=float32)"
      ]
     },
     "execution_count": 74,
     "metadata": {},
     "output_type": "execute_result"
    }
   ],
   "source": [
    "pe = jnp.arange(10).reshape(-1, 1)\n",
    "pe = pe / jnp.power(100, pe)\n",
    "pe"
   ]
  },
  {
   "cell_type": "code",
   "execution_count": 71,
   "metadata": {},
   "outputs": [
    {
     "data": {
      "text/plain": [
       "Array([[ 0.841471  ],\n",
       "       [-0.30561438],\n",
       "       [ 0.931639  ],\n",
       "       [-0.518611  ],\n",
       "       [ 0.9909816 ],\n",
       "       [-0.20013674],\n",
       "       [-0.10385309],\n",
       "       [-0.98619825],\n",
       "       [ 0.        ],\n",
       "       [ 0.        ]], dtype=float32)"
      ]
     },
     "execution_count": 71,
     "metadata": {},
     "output_type": "execute_result"
    }
   ],
   "source": [
    "jnp.sin(pe)"
   ]
  },
  {
   "cell_type": "code",
   "execution_count": 78,
   "metadata": {},
   "outputs": [
    {
     "data": {
      "text/plain": [
       "(8, 4, 4)"
      ]
     },
     "execution_count": 78,
     "metadata": {},
     "output_type": "execute_result"
    }
   ],
   "source": [
    "mat = jnp.arange(128).reshape(8, 4, 4)\n",
    "mat.shape"
   ]
  },
  {
   "cell_type": "code",
   "execution_count": 79,
   "metadata": {},
   "outputs": [
    {
     "data": {
      "text/plain": [
       "Array([[[  0,   1,   2,   3],\n",
       "        [  4,   5,   6,   7],\n",
       "        [  8,   9,  10,  11],\n",
       "        [ 12,  13,  14,  15]],\n",
       "\n",
       "       [[ 16,  17,  18,  19],\n",
       "        [ 20,  21,  22,  23],\n",
       "        [ 24,  25,  26,  27],\n",
       "        [ 28,  29,  30,  31]],\n",
       "\n",
       "       [[ 32,  33,  34,  35],\n",
       "        [ 36,  37,  38,  39],\n",
       "        [ 40,  41,  42,  43],\n",
       "        [ 44,  45,  46,  47]],\n",
       "\n",
       "       [[ 48,  49,  50,  51],\n",
       "        [ 52,  53,  54,  55],\n",
       "        [ 56,  57,  58,  59],\n",
       "        [ 60,  61,  62,  63]],\n",
       "\n",
       "       [[ 64,  65,  66,  67],\n",
       "        [ 68,  69,  70,  71],\n",
       "        [ 72,  73,  74,  75],\n",
       "        [ 76,  77,  78,  79]],\n",
       "\n",
       "       [[ 80,  81,  82,  83],\n",
       "        [ 84,  85,  86,  87],\n",
       "        [ 88,  89,  90,  91],\n",
       "        [ 92,  93,  94,  95]],\n",
       "\n",
       "       [[ 96,  97,  98,  99],\n",
       "        [100, 101, 102, 103],\n",
       "        [104, 105, 106, 107],\n",
       "        [108, 109, 110, 111]],\n",
       "\n",
       "       [[112, 113, 114, 115],\n",
       "        [116, 117, 118, 119],\n",
       "        [120, 121, 122, 123],\n",
       "        [124, 125, 126, 127]]], dtype=int32)"
      ]
     },
     "execution_count": 79,
     "metadata": {},
     "output_type": "execute_result"
    }
   ],
   "source": [
    "mat"
   ]
  },
  {
   "cell_type": "code",
   "execution_count": null,
   "metadata": {},
   "outputs": [],
   "source": [
    "ts = hp."
   ]
  }
 ],
 "metadata": {
  "kernelspec": {
   "display_name": "hepheastus",
   "language": "python",
   "name": "python3"
  },
  "language_info": {
   "codemirror_mode": {
    "name": "ipython",
    "version": 3
   },
   "file_extension": ".py",
   "mimetype": "text/x-python",
   "name": "python",
   "nbconvert_exporter": "python",
   "pygments_lexer": "ipython3",
   "version": "3.11.4"
  },
  "orig_nbformat": 4
 },
 "nbformat": 4,
 "nbformat_minor": 2
}
