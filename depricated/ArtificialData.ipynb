{
 "cells": [
  {
   "cell_type": "code",
   "execution_count": 8,
   "metadata": {},
   "outputs": [],
   "source": [
    "import polars as pl\n",
    "import numpy as np"
   ]
  },
  {
   "cell_type": "code",
   "execution_count": 11,
   "metadata": {},
   "outputs": [
    {
     "name": "stdout",
     "output_type": "stream",
     "text": [
      "6\n"
     ]
    }
   ],
   "source": [
    "math_operations = np.array([\"multiply\", \"divide\", \"add\", \"subtract\", \"square\", \"root\"])\n",
    "print(math_operations.shape[0])"
   ]
  },
  {
   "cell_type": "code",
   "execution_count": 14,
   "metadata": {},
   "outputs": [
    {
     "data": {
      "text/plain": [
       "array([6, 6, 9, 3, 0, 3, 5, 0, 2, 1, 8, 6, 4, 5, 7, 3, 3, 4, 4, 5, 8, 5,\n",
       "       2, 9, 6, 6, 6, 5, 8, 9, 4, 2, 6, 7, 3, 1, 4, 3, 2, 0, 5, 4, 2, 5,\n",
       "       4, 5, 0, 8, 0, 2, 1, 7, 8, 1, 3, 1, 4, 3, 9, 5])"
      ]
     },
     "execution_count": 14,
     "metadata": {},
     "output_type": "execute_result"
    }
   ],
   "source": [
    "np.random.randint(0, 10, 60)"
   ]
  },
  {
   "cell_type": "code",
   "execution_count": 18,
   "metadata": {},
   "outputs": [
    {
     "data": {
      "text/plain": [
       "array(['square', 'root', 'multiply', ..., 'square', 'square', 'divide'],\n",
       "      dtype='<U8')"
      ]
     },
     "execution_count": 18,
     "metadata": {},
     "output_type": "execute_result"
    }
   ],
   "source": [
    "np.random.choice(math_operations, 6000)"
   ]
  },
  {
   "cell_type": "code",
   "execution_count": 22,
   "metadata": {},
   "outputs": [
    {
     "data": {
      "text/html": [
       "<div><style>\n",
       ".dataframe > thead > tr > th,\n",
       ".dataframe > tbody > tr > td {\n",
       "  text-align: right;\n",
       "}\n",
       "</style>\n",
       "<small>shape: (5, 3)</small><table border=\"1\" class=\"dataframe\"><thead><tr><th>col1</th><th>operator</th><th>col2</th></tr><tr><td>i64</td><td>str</td><td>i64</td></tr></thead><tbody><tr><td>8</td><td>&quot;subtract&quot;</td><td>1</td></tr><tr><td>2</td><td>&quot;square&quot;</td><td>0</td></tr><tr><td>6</td><td>&quot;root&quot;</td><td>8</td></tr><tr><td>6</td><td>&quot;subtract&quot;</td><td>6</td></tr><tr><td>0</td><td>&quot;divide&quot;</td><td>1</td></tr></tbody></table></div>"
      ],
      "text/plain": [
       "shape: (5, 3)\n",
       "┌──────┬──────────┬──────┐\n",
       "│ col1 ┆ operator ┆ col2 │\n",
       "│ ---  ┆ ---      ┆ ---  │\n",
       "│ i64  ┆ str      ┆ i64  │\n",
       "╞══════╪══════════╪══════╡\n",
       "│ 8    ┆ subtract ┆ 1    │\n",
       "│ 2    ┆ square   ┆ 0    │\n",
       "│ 6    ┆ root     ┆ 8    │\n",
       "│ 6    ┆ subtract ┆ 6    │\n",
       "│ 0    ┆ divide   ┆ 1    │\n",
       "└──────┴──────────┴──────┘"
      ]
     },
     "execution_count": 22,
     "metadata": {},
     "output_type": "execute_result"
    }
   ],
   "source": [
    "df = pl.DataFrame(\n",
    "    {\n",
    "        \"col1\": np.random.randint(0, 10, 6000),\n",
    "        \"operator\": np.random.choice(math_operations, 6000),\n",
    "        \"col2\": np.random.randint(0, 10, 6000),\n",
    "    }\n",
    ")\n",
    "\n",
    "df.head()"
   ]
  },
  {
   "cell_type": "code",
   "execution_count": 23,
   "metadata": {},
   "outputs": [
    {
     "data": {
      "text/plain": [
       "array(['multiply', 'divide', 'add', 'subtract', 'square', 'root'],\n",
       "      dtype='<U8')"
      ]
     },
     "execution_count": 23,
     "metadata": {},
     "output_type": "execute_result"
    }
   ],
   "source": [
    "math_operations"
   ]
  },
  {
   "cell_type": "code",
   "execution_count": 46,
   "metadata": {},
   "outputs": [],
   "source": [
    "def find_result(row):\n",
    "    c1, opp, c2 = row\n",
    "\n",
    "    if opp == \"multiply\":\n",
    "        return c1 * c2\n",
    "    elif opp == 'divide':\n",
    "        if c2 != 0:\n",
    "            return c1/c2\n",
    "        else:\n",
    "            return None\n",
    "    elif opp == \"add\":\n",
    "        return c1+c2\n",
    "    elif opp == \"subtract\":\n",
    "        return c1-c2\n",
    "    elif opp == \"square\":\n",
    "        return c1^2\n",
    "    elif opp == \"root\":\n",
    "        return np.sqrt(c1)\n",
    "    else:\n",
    "        return 0\n"
   ]
  },
  {
   "cell_type": "code",
   "execution_count": 49,
   "metadata": {},
   "outputs": [],
   "source": [
    "x = df.apply(find_result)"
   ]
  },
  {
   "cell_type": "code",
   "execution_count": 50,
   "metadata": {},
   "outputs": [
    {
     "data": {
      "text/html": [
       "<div><style>\n",
       ".dataframe > thead > tr > th,\n",
       ".dataframe > tbody > tr > td {\n",
       "  text-align: right;\n",
       "}\n",
       "</style>\n",
       "<small>shape: (6_000, 1)</small><table border=\"1\" class=\"dataframe\"><thead><tr><th>apply</th></tr><tr><td>i64</td></tr></thead><tbody><tr><td>7</td></tr><tr><td>0</td></tr><tr><td>null</td></tr><tr><td>0</td></tr><tr><td>null</td></tr><tr><td>1</td></tr><tr><td>null</td></tr><tr><td>-2</td></tr><tr><td>0</td></tr><tr><td>null</td></tr><tr><td>null</td></tr><tr><td>12</td></tr><tr><td>&hellip;</td></tr><tr><td>1</td></tr><tr><td>2</td></tr><tr><td>1</td></tr><tr><td>3</td></tr><tr><td>5</td></tr><tr><td>null</td></tr><tr><td>0</td></tr><tr><td>10</td></tr><tr><td>6</td></tr><tr><td>4</td></tr><tr><td>null</td></tr><tr><td>null</td></tr></tbody></table></div>"
      ],
      "text/plain": [
       "shape: (6_000, 1)\n",
       "┌───────┐\n",
       "│ apply │\n",
       "│ ---   │\n",
       "│ i64   │\n",
       "╞═══════╡\n",
       "│ 7     │\n",
       "│ 0     │\n",
       "│ null  │\n",
       "│ 0     │\n",
       "│ …     │\n",
       "│ 6     │\n",
       "│ 4     │\n",
       "│ null  │\n",
       "│ null  │\n",
       "└───────┘"
      ]
     },
     "execution_count": 50,
     "metadata": {},
     "output_type": "execute_result"
    }
   ],
   "source": [
    "x"
   ]
  },
  {
   "cell_type": "code",
   "execution_count": null,
   "metadata": {},
   "outputs": [],
   "source": []
  }
 ],
 "metadata": {
  "kernelspec": {
   "display_name": "pytorch",
   "language": "python",
   "name": "python3"
  },
  "language_info": {
   "codemirror_mode": {
    "name": "ipython",
    "version": 3
   },
   "file_extension": ".py",
   "mimetype": "text/x-python",
   "name": "python",
   "nbconvert_exporter": "python",
   "pygments_lexer": "ipython3",
   "version": "3.11.3"
  },
  "orig_nbformat": 4
 },
 "nbformat": 4,
 "nbformat_minor": 2
}
