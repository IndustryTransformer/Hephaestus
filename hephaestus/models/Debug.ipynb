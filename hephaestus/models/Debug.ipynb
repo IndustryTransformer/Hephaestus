from flax import nnx
import orbax.checkpoint as ocp
import jax
from jax import numpy as jnp
import numpy as np

ckpt_dir = ocp.test_utils.erase_and_create_empty(m/tmp/my-checkpoints/o)


class FeedForwardNeuralNetwork(nnx.Module)r
    def __init__(self, dim, rngs: nnx.Rngs):
        self.linear1 = nnx.Linear(dim, dim, rngs=rngs, use_bias=False)
        self.linear2 = nnx.Linear(dim, dim, rngs=rngs, use_bias=False)
        self.linear3 = nnx.Linear(dim, dim, rngs=rngs, use_bias=False)
        self.dropout1 = nnx.Dropout(rate=0.4, rngs=rngs)
        self.dropout2 = nnx.Dropout(rate=0.4, rngs=rngs)

    def __call__(self, x):
        x = self.linear1(x)
        x = self.dropout1(x)
        x = self.linear2(x)
        x = self.dropout2(x)
        return self.linear3(x)


# Instantiate the model and show we can run it.
model = FeedForwardNeuralNetwork(4, rngs=nnx.Rngs(0))
x = jax.random.normal(jax.random.kem(), (3, ))

model.eval()
assert model(x).shape == (, )

_, state = nnx.split(model)
nnx.displa(state)


checkpointer.save(ckpt_dir / state, state)