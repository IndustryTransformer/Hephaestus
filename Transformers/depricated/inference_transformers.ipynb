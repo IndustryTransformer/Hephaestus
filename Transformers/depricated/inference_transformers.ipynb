{
 "cells": [
  {
   "cell_type": "markdown",
   "metadata": {
    "id": "sJo8MGMwu7Wf"
   },
   "source": [
    "## Define the model\n",
    "\n",
    "\n"
   ]
  },
  {
   "cell_type": "code",
   "execution_count": 1,
   "metadata": {
    "colab": {
     "base_uri": "https://localhost:8080/"
    },
    "id": "3clWEJ31wImv",
    "outputId": "5e8ef4e8-453a-4bae-957e-10b5454244ac",
    "tags": []
   },
   "outputs": [],
   "source": [
    "%%capture installs\n",
    "%pip install polars\n",
    "%pip install torchviz\n",
    "# %conda install -y conda install -c  python-graphviz\n",
    "# %conda install -c fastchan python-graphviz -y"
   ]
  },
  {
   "cell_type": "markdown",
   "metadata": {
    "id": "0smESe4au7Wh"
   },
   "source": [
    "In this tutorial, we train a ``nn.TransformerEncoder`` model on a\n",
    "language modeling task. The language modeling task is to assign a\n",
    "probability for the likelihood of a given word (or a sequence of words)\n",
    "to follow a sequence of words. A sequence of tokens are passed to the embedding\n",
    "layer first, followed by a positional encoding layer to account for the order\n",
    "of the word (see the next paragraph for more details). The\n",
    "``nn.TransformerEncoder`` consists of multiple layers of\n",
    "[nn.TransformerEncoderLayer](https://pytorch.org/docs/stable/generated/torch.nn.TransformerEncoderLayer.html)_.\n",
    "Along with the input sequence, a square attention mask is required because the\n",
    "self-attention layers in ``nn.TransformerEncoder`` are only allowed to attend\n",
    "the earlier positions in the sequence. For the language modeling task, any\n",
    "tokens on the future positions should be masked. To produce a probability\n",
    "distribution over output words, the output of the ``nn.TransformerEncoder``\n",
    "model is passed through a linear layer followed by a log-softmax function.\n",
    "\n",
    "\n"
   ]
  },
  {
   "cell_type": "code",
   "execution_count": 2,
   "metadata": {
    "id": "o_YarIxhu7Wi",
    "tags": []
   },
   "outputs": [],
   "source": [
    "import math\n",
    "import os\n",
    "import time\n",
    "from tempfile import TemporaryDirectory\n",
    "from typing import Tuple\n",
    "\n",
    "import re\n",
    "from numbers import Number\n",
    "\n",
    "from dataclasses import dataclass, field\n",
    "from typing import Any, Callable, Dict, List, Optional, Tuple, Union\n",
    "\n",
    "from tqdm import trange, tqdm\n",
    "\n",
    "import torch\n",
    "import polars as pl\n",
    "import numpy as np\n",
    "\n",
    "from torch.utils.data import DataLoader, Dataset\n",
    "\n",
    "import torch\n",
    "from torch import nn, Tensor\n",
    "import torch.nn.functional as F\n",
    "from torch.nn import TransformerEncoder, TransformerEncoderLayer\n",
    "from torch.utils.data import dataset\n",
    "\n"
   ]
  },
  {
   "cell_type": "code",
   "execution_count": 3,
   "metadata": {
    "colab": {
     "base_uri": "https://localhost:8080/",
     "height": 35
    },
    "id": "yqI8ATppxGcw",
    "outputId": "c8069e1b-7e2b-4767-c505-38450eec9810",
    "tags": []
   },
   "outputs": [
    {
     "data": {
      "text/plain": [
       "'2.1.0.dev20230623'"
      ]
     },
     "execution_count": 3,
     "metadata": {},
     "output_type": "execute_result"
    }
   ],
   "source": [
    "torch.__version__"
   ]
  },
  {
   "cell_type": "code",
   "execution_count": 4,
   "metadata": {
    "tags": []
   },
   "outputs": [
    {
     "name": "stdout",
     "output_type": "stream",
     "text": [
      "mps\n"
     ]
    }
   ],
   "source": [
    "if torch.backends.mps.is_built():\n",
    "    device_name = 'mps'\n",
    "elif torch.cuda.is_available():\n",
    "    device_name = 'cuda'\n",
    "else:\n",
    "    device_name = 'cpu'\n",
    "device = torch.device(device_name)\n",
    "print(device)"
   ]
  },
  {
   "cell_type": "code",
   "execution_count": 5,
   "metadata": {
    "colab": {
     "base_uri": "https://localhost:8080/",
     "height": 357
    },
    "id": "AA0aLnKp7ZUm",
    "outputId": "1dd592ff-9484-49c0-b7a3-4581b458798a",
    "tags": []
   },
   "outputs": [
    {
     "data": {
      "text/html": [
       "<div><style>\n",
       ".dataframe > thead > tr > th,\n",
       ".dataframe > tbody > tr > td {\n",
       "  text-align: right;\n",
       "}\n",
       "</style>\n",
       "<small>shape: (5, 25)</small><table border=\"1\" class=\"dataframe\"><thead><tr><th>x</th><th>y</th><th>station_name</th><th>climate_identifier</th><th>province_code</th><th>local_year</th><th>local_month</th><th>local_day</th><th>local_hour</th><th>temp</th><th>temp_flag</th><th>dew_point_temp</th><th>dew_point_temp_flag</th><th>humidex</th><th>precip_amount</th><th>precip_amount_flag</th><th>relative_humidity</th><th>relative_humidity_flag</th><th>station_pressure</th><th>station_pressure_flag</th><th>wind_chill</th><th>wind_direction</th><th>wind_direction_flag</th><th>wind_speed</th><th>wind_speed_flag</th></tr><tr><td>f64</td><td>f64</td><td>str</td><td>str</td><td>str</td><td>str</td><td>str</td><td>str</td><td>str</td><td>f64</td><td>str</td><td>f64</td><td>str</td><td>f64</td><td>f64</td><td>str</td><td>f64</td><td>str</td><td>f64</td><td>str</td><td>f64</td><td>f64</td><td>str</td><td>f64</td><td>str</td></tr></thead><tbody><tr><td>-114.000297</td><td>51.109447</td><td>&quot;CALGARY INT&#x27;L …</td><td>&quot;3031094&quot;</td><td>&quot;AB&quot;</td><td>&quot;2010&quot;</td><td>&quot;1&quot;</td><td>&quot;1&quot;</td><td>&quot;0&quot;</td><td>-21.6</td><td>&quot;missing&quot;</td><td>-23.9</td><td>&quot;missing&quot;</td><td>null</td><td>null</td><td>&quot;missing&quot;</td><td>82.0</td><td>&quot;missing&quot;</td><td>89.38</td><td>&quot;missing&quot;</td><td>null</td><td>null</td><td>&quot;M&quot;</td><td>null</td><td>&quot;M&quot;</td></tr><tr><td>-114.000297</td><td>51.109447</td><td>&quot;CALGARY INT&#x27;L …</td><td>&quot;3031094&quot;</td><td>&quot;AB&quot;</td><td>&quot;2010&quot;</td><td>&quot;1&quot;</td><td>&quot;1&quot;</td><td>&quot;1&quot;</td><td>-21.2</td><td>&quot;missing&quot;</td><td>-23.5</td><td>&quot;missing&quot;</td><td>null</td><td>null</td><td>&quot;missing&quot;</td><td>82.0</td><td>&quot;missing&quot;</td><td>89.25</td><td>&quot;missing&quot;</td><td>null</td><td>null</td><td>&quot;M&quot;</td><td>null</td><td>&quot;M&quot;</td></tr><tr><td>-114.000297</td><td>51.109447</td><td>&quot;CALGARY INT&#x27;L …</td><td>&quot;3031094&quot;</td><td>&quot;AB&quot;</td><td>&quot;2010&quot;</td><td>&quot;1&quot;</td><td>&quot;1&quot;</td><td>&quot;2&quot;</td><td>-20.8</td><td>&quot;missing&quot;</td><td>-23.0</td><td>&quot;missing&quot;</td><td>null</td><td>null</td><td>&quot;missing&quot;</td><td>82.0</td><td>&quot;missing&quot;</td><td>89.21</td><td>&quot;missing&quot;</td><td>null</td><td>null</td><td>&quot;M&quot;</td><td>null</td><td>&quot;M&quot;</td></tr><tr><td>-114.000297</td><td>51.109447</td><td>&quot;CALGARY INT&#x27;L …</td><td>&quot;3031094&quot;</td><td>&quot;AB&quot;</td><td>&quot;2010&quot;</td><td>&quot;1&quot;</td><td>&quot;1&quot;</td><td>&quot;3&quot;</td><td>-20.4</td><td>&quot;missing&quot;</td><td>-22.6</td><td>&quot;missing&quot;</td><td>null</td><td>null</td><td>&quot;missing&quot;</td><td>83.0</td><td>&quot;missing&quot;</td><td>89.12</td><td>&quot;missing&quot;</td><td>null</td><td>null</td><td>&quot;M&quot;</td><td>null</td><td>&quot;M&quot;</td></tr><tr><td>-114.000297</td><td>51.109447</td><td>&quot;CALGARY INT&#x27;L …</td><td>&quot;3031094&quot;</td><td>&quot;AB&quot;</td><td>&quot;2010&quot;</td><td>&quot;1&quot;</td><td>&quot;1&quot;</td><td>&quot;4&quot;</td><td>-20.4</td><td>&quot;missing&quot;</td><td>-22.7</td><td>&quot;missing&quot;</td><td>null</td><td>null</td><td>&quot;missing&quot;</td><td>82.0</td><td>&quot;missing&quot;</td><td>89.04</td><td>&quot;missing&quot;</td><td>null</td><td>null</td><td>&quot;M&quot;</td><td>null</td><td>&quot;M&quot;</td></tr></tbody></table></div>"
      ],
      "text/plain": [
       "shape: (5, 25)\n",
       "┌─────────┬────────┬────────────┬────────────┬───┬────────────┬────────────┬──────────┬────────────┐\n",
       "│ x       ┆ y      ┆ station_na ┆ climate_id ┆ … ┆ wind_direc ┆ wind_direc ┆ wind_spe ┆ wind_speed │\n",
       "│ ---     ┆ ---    ┆ me         ┆ entifier   ┆   ┆ tion       ┆ tion_flag  ┆ ed       ┆ _flag      │\n",
       "│ f64     ┆ f64    ┆ ---        ┆ ---        ┆   ┆ ---        ┆ ---        ┆ ---      ┆ ---        │\n",
       "│         ┆        ┆ str        ┆ str        ┆   ┆ f64        ┆ str        ┆ f64      ┆ str        │\n",
       "╞═════════╪════════╪════════════╪════════════╪═══╪════════════╪════════════╪══════════╪════════════╡\n",
       "│ -114.00 ┆ 51.109 ┆ CALGARY    ┆ 3031094    ┆ … ┆ null       ┆ M          ┆ null     ┆ M          │\n",
       "│ 0297    ┆ 447    ┆ INT'L CS   ┆            ┆   ┆            ┆            ┆          ┆            │\n",
       "│ -114.00 ┆ 51.109 ┆ CALGARY    ┆ 3031094    ┆ … ┆ null       ┆ M          ┆ null     ┆ M          │\n",
       "│ 0297    ┆ 447    ┆ INT'L CS   ┆            ┆   ┆            ┆            ┆          ┆            │\n",
       "│ -114.00 ┆ 51.109 ┆ CALGARY    ┆ 3031094    ┆ … ┆ null       ┆ M          ┆ null     ┆ M          │\n",
       "│ 0297    ┆ 447    ┆ INT'L CS   ┆            ┆   ┆            ┆            ┆          ┆            │\n",
       "│ -114.00 ┆ 51.109 ┆ CALGARY    ┆ 3031094    ┆ … ┆ null       ┆ M          ┆ null     ┆ M          │\n",
       "│ 0297    ┆ 447    ┆ INT'L CS   ┆            ┆   ┆            ┆            ┆          ┆            │\n",
       "│ -114.00 ┆ 51.109 ┆ CALGARY    ┆ 3031094    ┆ … ┆ null       ┆ M          ┆ null     ┆ M          │\n",
       "│ 0297    ┆ 447    ┆ INT'L CS   ┆            ┆   ┆            ┆            ┆          ┆            │\n",
       "└─────────┴────────┴────────────┴────────────┴───┴────────────┴────────────┴──────────┴────────────┘"
      ]
     },
     "execution_count": 5,
     "metadata": {},
     "output_type": "execute_result"
    }
   ],
   "source": [
    "weather = pl.read_parquet(\"~/Hephaestus/data/weather_clean.parquet\")\n",
    "weather.head()\n"
   ]
  },
  {
   "cell_type": "markdown",
   "metadata": {
    "id": "OzAjejIIu7Wj"
   },
   "source": [
    "``PositionalEncoding`` module injects some information about the\n",
    "relative or absolute position of the tokens in the sequence. The\n",
    "positional encodings have the same dimension as the embeddings so that\n",
    "the two can be summed. Here, we use ``sine`` and ``cosine`` functions of\n",
    "different frequencies.\n",
    "\n",
    "\n"
   ]
  },
  {
   "cell_type": "code",
   "execution_count": 6,
   "metadata": {
    "id": "VJu-X9OS8m3N",
    "tags": []
   },
   "outputs": [],
   "source": [
    "def scale_numeric(df):\n",
    "    for col in df.columns:\n",
    "        if df[col].dtype == pl.Float64 or df[col].dtype == pl.Int64:\n",
    "            df = df.with_columns(\n",
    "                ((pl.col(col) - pl.col(col).mean()) / pl.col(col).std()).alias(col)\n",
    "            )  # .select(pl.col([\"dew_point_temp\", \"NewCOL\"]))\n",
    "    return df\n",
    "\n",
    "\n",
    "weather = scale_numeric(weather)\n"
   ]
  },
  {
   "cell_type": "code",
   "execution_count": 7,
   "metadata": {
    "id": "JZFqyv5D8o31",
    "tags": []
   },
   "outputs": [],
   "source": [
    "def make_lower_remove_special_chars(df):\n",
    "    df = df.with_columns(\n",
    "        pl.col(pl.Utf8).str.to_lowercase().str.replace_all(\"[^a-zA-Z0-9]\", \" \")\n",
    "    )\n",
    "    return df\n",
    "\n",
    "\n",
    "weather = make_lower_remove_special_chars(weather)"
   ]
  },
  {
   "cell_type": "code",
   "execution_count": 49,
   "metadata": {},
   "outputs": [
    {
     "data": {
      "text/plain": [
       "['station_name',\n",
       " 'climate_identifier',\n",
       " 'province_code',\n",
       " 'local_year',\n",
       " 'local_month',\n",
       " 'local_day',\n",
       " 'local_hour',\n",
       " 'temp_flag',\n",
       " 'dew_point_temp_flag',\n",
       " 'precip_amount_flag',\n",
       " 'relative_humidity_flag',\n",
       " 'station_pressure_flag',\n",
       " 'wind_direction_flag',\n",
       " 'wind_speed_flag']"
      ]
     },
     "execution_count": 49,
     "metadata": {},
     "output_type": "execute_result"
    }
   ],
   "source": [
    "weather.select(pl.col(pl.Utf8)).columns"
   ]
  },
  {
   "cell_type": "code",
   "execution_count": 60,
   "metadata": {},
   "outputs": [
    {
     "data": {
      "text/plain": [
       "array(['lethbridge', 'cda', 'fort', 'mcmurray', 'cs', 'pincher', 'creek',\n",
       "       'climate', 'sundre', 'a', 'edmonton', 'international', 'cs',\n",
       "       'calgary', 'int', 'l', 'cs'], dtype='<U13')"
      ]
     },
     "execution_count": 60,
     "metadata": {},
     "output_type": "execute_result"
    }
   ],
   "source": [
    "x = weather[\"station_name\"].unique().to_numpy()\n",
    "np.concatenate([np.array(i.split(\" \")) for i in x])"
   ]
  },
  {
   "cell_type": "code",
   "execution_count": 61,
   "metadata": {
    "id": "uzf8dqGa8qyi",
    "tags": []
   },
   "outputs": [
    {
     "data": {
      "text/plain": [
       "array(['0', '1', '10', '11', '12', '13', '14', '15', '16', '17', '18',\n",
       "       '19', '2', '20', '2010', '2011', '2012', '2013', '2014', '2015',\n",
       "       '2016', '2017', '2018', '2019', '2020', '2021', '2022', '21', '22',\n",
       "       '23', '24', '25', '26', '27', '28', '29', '3', '30', '3012206',\n",
       "       '3026knq', '3031094', '3033890', '3035208', '3062696', '31', '4',\n",
       "       '5', '6', '7', '8', '9', 'a', 'ab', 'calgary', 'cda', 'climate',\n",
       "       'creek', 'cs', 'edmonton', 'fort', 'int', 'international', 'l',\n",
       "       'lethbridge', 'm', 'mcmurray', 'missing', 'pincher', 'sundre'],\n",
       "      dtype='<U32')"
      ]
     },
     "execution_count": 61,
     "metadata": {},
     "output_type": "execute_result"
    }
   ],
   "source": [
    "def get_unique_utf8_values(df):\n",
    "    arr = np.array([])\n",
    "    for col in df.select(pl.col(pl.Utf8)).columns:\n",
    "        col_vals = df[col].unique().to_numpy()\n",
    "        arr = np.append(arr, np.concatenate([np.array(val.split(\" \")) for val in col_vals]))\n",
    "\n",
    "    return np.unique(arr)\n",
    "\n",
    "\n",
    "weather_val_tokens = get_unique_utf8_values(weather)\n",
    "weather_val_tokens"
   ]
  },
  {
   "cell_type": "code",
   "execution_count": 62,
   "metadata": {
    "id": "qx2sWqAA8t64",
    "tags": []
   },
   "outputs": [
    {
     "data": {
      "text/plain": [
       "array(['amount', 'chill', 'climate', 'code', 'day', 'dew', 'direction',\n",
       "       'flag', 'hour', 'humidex', 'humidity', 'identifier', 'local',\n",
       "       'month', 'name', 'point', 'precip', 'pressure', 'province',\n",
       "       'relative', 'speed', 'station', 'temp', 'wind', 'x', 'y', 'year'],\n",
       "      dtype='<U10')"
      ]
     },
     "execution_count": 62,
     "metadata": {},
     "output_type": "execute_result"
    }
   ],
   "source": [
    "def get_col_tokens(df):\n",
    "    tokens = []\n",
    "    for col_name in df.columns:\n",
    "        sub_strs = re.split(r\"[^a-zA-Z0-9]\", col_name)\n",
    "        tokens.extend(sub_strs)\n",
    "    return np.unique(np.array(tokens))\n",
    "\n",
    "\n",
    "weather_col_tokens = get_col_tokens(weather)\n",
    "weather_col_tokens"
   ]
  },
  {
   "cell_type": "code",
   "execution_count": 10,
   "metadata": {
    "colab": {
     "base_uri": "https://localhost:8080/"
    },
    "id": "AZgAXkAI8wKq",
    "outputId": "da13b04e-67e3-42f3-b563-321df8fa4683",
    "tags": []
   },
   "outputs": [
    {
     "data": {
      "text/plain": [
       "array([',', '0', '1', '10', '11', '12', '13', '14', '15', '16', '17',\n",
       "       '18', '19', '2', '20', '2010', '2011', '2012', '2013', '2014',\n",
       "       '2015', '2016', '2017', '2018', '2019', '2020', '2021', '2022',\n",
       "       '21', '22', '23', '24', '25', '26', '27', '28', '29', '3', '30',\n",
       "       '3012206', '3026knq', '3031094', '3033890', '3035208', '3062696',\n",
       "       '31', '4', '5', '6', '7', '8', '9', ':', '<mask>', '<numeric>',\n",
       "       '<pad>', '<row-end>', '<row-start>', '<unk>', 'ab', 'amount',\n",
       "       'calgary int l cs', 'chill', 'climate', 'code', 'day', 'dew',\n",
       "       'direction', 'edmonton international cs', 'flag',\n",
       "       'fort mcmurray cs', 'hour', 'humidex', 'humidity', 'identifier',\n",
       "       'lethbridge cda', 'local', 'm', 'missing', 'month', 'name',\n",
       "       'pincher creek climate', 'point', 'precip', 'pressure', 'province',\n",
       "       'relative', 'speed', 'station', 'sundre a', 'temp', 'wind', 'x',\n",
       "       'y', 'year'], dtype=object)"
      ]
     },
     "execution_count": 10,
     "metadata": {},
     "output_type": "execute_result"
    }
   ],
   "source": [
    "special_tokens = np.array(\n",
    "    [\n",
    "        \"missing\",\n",
    "        \"<mask>\",\n",
    "        \"<pad>\",\n",
    "        \"<unk>\",\n",
    "        \"<numeric>\",\n",
    "        \":\",\n",
    "        \",\",\n",
    "        \"<row-start>\",\n",
    "        \"<row-end>\",\n",
    "    ]\n",
    ")\n",
    "tokens = np.unique(\n",
    "    np.concatenate(\n",
    "        (\n",
    "            weather_val_tokens,\n",
    "            weather_col_tokens,\n",
    "            special_tokens,\n",
    "        )\n",
    "    )\n",
    ")\n",
    "tokens\n"
   ]
  },
  {
   "cell_type": "code",
   "execution_count": 11,
   "metadata": {
    "tags": []
   },
   "outputs": [],
   "source": [
    "class PositionalEncoding(nn.Module):\n",
    "\n",
    "    def __init__(self, d_model: int, dropout: float = 0.1, max_len: int = 100_000):\n",
    "        super().__init__()\n",
    "        self.dropout = nn.Dropout(p=dropout)\n",
    "\n",
    "        position = torch.arange(max_len).unsqueeze(1)\n",
    "        div_term = torch.exp(torch.arange(0, d_model, 2) * (-math.log(10000.0) / d_model))\n",
    "        pe = torch.zeros(max_len, 1, d_model)\n",
    "        pe[:, 0, 0::2] = torch.sin(position * div_term)\n",
    "        pe[:, 0, 1::2] = torch.cos(position * div_term)\n",
    "        self.register_buffer('pe', pe)\n",
    "\n",
    "    def forward(self, x: Tensor) -> Tensor:\n",
    "        \"\"\"\n",
    "        Arguments:\n",
    "            x: Tensor, shape ``[seq_len, batch_size, embedding_dim]``\n",
    "        \"\"\"\n",
    "        x = x + self.pe[:x.size(0)]\n",
    "        return self.dropout(x)"
   ]
  },
  {
   "cell_type": "code",
   "execution_count": 12,
   "metadata": {
    "colab": {
     "base_uri": "https://localhost:8080/"
    },
    "id": "9Y5tWWWk83DM",
    "outputId": "56f7fe30-06e7-4bc6-9df7-783e050baff9",
    "tags": []
   },
   "outputs": [],
   "source": [
    "@dataclass\n",
    "class StringNumeric:\n",
    "    value: Union[str, float]\n",
    "    # all_tokens: np.array\n",
    "    is_numeric: bool = field(default=None, repr=True)\n",
    "    embedding_idx: int = field(default=None, repr=True)\n",
    "    is_special: bool = field(default=False, repr=True)\n",
    "    def __post_init__(self):\n",
    "        if isinstance(self.value, str):\n",
    "            self.is_numeric = False\n",
    "        else:\n",
    "            self.is_numeric = True\n",
    "            self.embedding_idx = 0\n",
    "\n",
    "    def gen_embed_idx(self, tokens: np.array, special_tokens: np.array):\n",
    "        if not self.is_numeric:\n",
    "            try:\n",
    "                self.embedding_idx = np.where(tokens == self.value)[0][0] + 1\n",
    "            except IndexError:\n",
    "                self.embedding_idx = np.where(tokens == \"<unk>\")[0][0] + 1\n",
    "            if self.value in special_tokens:\n",
    "                self.is_special = True\n"
   ]
  },
  {
   "cell_type": "code",
   "execution_count": 13,
   "metadata": {
    "colab": {
     "base_uri": "https://localhost:8080/"
    },
    "id": "ETGBMjYt858a",
    "outputId": "b47e0ea3-e60e-4551-c9a8-54168d2e84f9",
    "tags": []
   },
   "outputs": [
    {
     "name": "stdout",
     "output_type": "stream",
     "text": [
      "140\n"
     ]
    }
   ],
   "source": [
    "class TabularDataset(Dataset):\n",
    "    # def __init__(self, df: pl.DataFrame, vocab_dict: Dict, m_dim: int) -> Dataset:\n",
    "    def __init__(\n",
    "        self,\n",
    "        df: pl.DataFrame,\n",
    "        vocab,\n",
    "        special_tokens: np.array,\n",
    "        shuffle_cols=False,\n",
    "        max_row_length=512,\n",
    "    ) -> Dataset:\n",
    "        self.df = df\n",
    "        self.vocab = vocab\n",
    "        self.special_tokens = special_tokens\n",
    "        self.vocab_len = vocab.shape[0]\n",
    "        self.shuffle_cols = shuffle_cols\n",
    "        self.max_row_length = max_row_length\n",
    "        # self.vocab_dict = vocab_dict\n",
    "        # self.embedding = nn.Embedding(len(self.string_vocab), m_dim)\n",
    "        # Numeric Scale\n",
    "\n",
    "        # self.col_vocab = self.df.columns\n",
    "\n",
    "    def __len__(self):\n",
    "        \"\"\"Returns the number of sequences in the dataset.\"\"\"\n",
    "        length = self.df.shape[0]\n",
    "        return length\n",
    "\n",
    "    def __getitem__(self, idx):\n",
    "        \"\"\"Returns a tuple of (input, target) at the given index.\"\"\"\n",
    "        row = self.df[idx]\n",
    "        row = self.splitter(row)\n",
    "        return row\n",
    "\n",
    "\n",
    "\n",
    "    def splitter(self, row: pl.DataFrame) -> List[Union[str, float, None]]:\n",
    "        vals = [\"<row-start>\"]\n",
    "        cols = row.columns\n",
    "        if self.shuffle_cols:\n",
    "            np.random.shuffle(cols)\n",
    "\n",
    "        for col in cols:\n",
    "            value = row[col][0]\n",
    "            col = col.split(\"_\")\n",
    "            vals.extend(col)\n",
    "            vals.append(\":\")\n",
    "            if isinstance(value, Number):\n",
    "                vals.append(value)\n",
    "            elif value is None:\n",
    "                vals.append(\"missing\")\n",
    "                # Nones are only for numeric columns, others are \"None\"\n",
    "            elif isinstance(value, str):\n",
    "                vals.extend(value.split(\" \"))\n",
    "            else:\n",
    "                raise ValueError(\"Unknown type\")\n",
    "            vals.append(\",\")\n",
    "        vals.append(\"<row-end>\")\n",
    "\n",
    "        val_len = len(vals)\n",
    "        if val_len < self.max_row_length:\n",
    "            diff = self.max_row_length - val_len\n",
    "            vals.extend([\"<pad>\"] * diff)\n",
    "        elif val_len > self.max_row_length:\n",
    "            vals = vals[:self.max_row_length - 1]\n",
    "            # add warning\n",
    "\n",
    "            vals = np.append(vals, [\"<row-end>\"])\n",
    "            print(\"Row too long, truncating\")\n",
    "            Warning(\"Row too long, truncating\")\n",
    "        vals = [StringNumeric(value=val) for val in vals]\n",
    "        for val in vals:\n",
    "            val.gen_embed_idx(self.vocab, self.special_tokens)\n",
    "\n",
    "        return vals\n",
    "\n",
    "\n",
    "weather_ds = TabularDataset(weather, tokens, special_tokens=special_tokens, shuffle_cols=False, max_row_length=140 )\n",
    "\n",
    "print(len(weather_ds[0]))"
   ]
  },
  {
   "cell_type": "code",
   "execution_count": 14,
   "metadata": {
    "id": "k4v20RSDE_L-",
    "tags": []
   },
   "outputs": [],
   "source": [
    "class StringNumericEmbedding(nn.Module):\n",
    "    def __init__(self, n_token: int, d_model: int):\n",
    "        super().__init__()\n",
    "        self.embedding = nn.Embedding(n_token+1, d_model, padding_idx=0).to(device)\n",
    "\n",
    "    def forward(self, input: StringNumeric):\n",
    "        embedding_index = torch.tensor([i.embedding_idx for i in input]).to(device)\n",
    "        embed = self.embedding(embedding_index)\n",
    "        with torch.no_grad():\n",
    "            for idx, value in enumerate(input):\n",
    "                if value.is_numeric:\n",
    "                    embed[idx][0] = value.value\n",
    "        return embed\n"
   ]
  },
  {
   "cell_type": "code",
   "execution_count": 15,
   "metadata": {
    "tags": []
   },
   "outputs": [],
   "source": [
    "def mask_row(row):\n",
    "    row = row[:]\n",
    "    prob = 0.15\n",
    "    for idx, val in enumerate(row):\n",
    "        if val.is_special:\n",
    "            continue\n",
    "        if np.random.rand() < prob:\n",
    "            val = StringNumeric(value=\"<mask>\")\n",
    "            val.gen_embed_idx(tokens, special_tokens)\n",
    "            row[idx] = val\n",
    "    return row\n"
   ]
  },
  {
   "cell_type": "markdown",
   "metadata": {
    "id": "NGFJV7L6u7Wl"
   },
   "source": [
    "## Load and batch data\n",
    "\n",
    "\n"
   ]
  },
  {
   "cell_type": "code",
   "execution_count": 16,
   "metadata": {
    "tags": []
   },
   "outputs": [],
   "source": [
    "def batch_data(ds, idx: int, n_row=4):\n",
    "    target = []\n",
    "    if len(ds) > n_row+idx:\n",
    "        end_idx = n_row+idx\n",
    "    else:\n",
    "        end_idx = len(ds) - 1\n",
    "    for i in range(idx, end_idx):\n",
    "        target.extend(ds[i])\n",
    "    \n",
    "    batch = mask_row(target)\n",
    "\n",
    "    return batch, target\n"
   ]
  },
  {
   "cell_type": "markdown",
   "metadata": {
    "id": "d37K28qhu7Wv"
   },
   "source": [
    "The model hyperparameters are defined below. The ``vocab`` size is\n",
    "equal to the length of the vocab object.\n",
    "\n",
    "\n"
   ]
  },
  {
   "cell_type": "code",
   "execution_count": 17,
   "metadata": {
    "tags": []
   },
   "outputs": [
    {
     "name": "stdout",
     "output_type": "stream",
     "text": [
      "1820 1820\n"
     ]
    }
   ],
   "source": [
    "data, targets = batch_data(weather_ds, idx=635650, n_row=50)\n",
    "print(len(data), len(targets))\n",
    "# data[0]"
   ]
  },
  {
   "cell_type": "code",
   "execution_count": 18,
   "metadata": {
    "tags": []
   },
   "outputs": [],
   "source": [
    "\n",
    "class TransformerModel(nn.Module):\n",
    "\n",
    "    def __init__(self, n_token: int, d_model: int, n_head: int, d_hid: int,\n",
    "                n_layers: int, dropout: float = 0.15):\n",
    "        super().__init__()\n",
    "        n_token = n_token +1\n",
    "        self.n_token = n_token\n",
    "        self.model_type = 'Transformer'\n",
    "        self.pos_encoder = PositionalEncoding(d_model, dropout)\n",
    "        encoder_layers = TransformerEncoderLayer(d_model, n_head, d_hid, dropout)\n",
    "        self.transformer_encoder = TransformerEncoder(encoder_layers, n_layers)\n",
    "        self.encoder = StringNumericEmbedding(n_token, d_model)\n",
    "        self.d_model = d_model\n",
    "        self.decoder = nn.Linear(d_model, n_token)\n",
    "        self.numeric_decoder = nn.Linear(d_model, n_token)\n",
    "        self.numeric_flattener = nn.Linear(n_token, 1)\n",
    "\n",
    "        # self.numeric_decoder = nn.Linear(d_model)\n",
    "\n",
    "\n",
    "        self.init_weights()\n",
    "\n",
    "    def init_weights(self) -> None:\n",
    "        initrange = 0.1\n",
    "        self.encoder.embedding.weight.data.uniform_(-initrange, initrange)\n",
    "        self.decoder.bias.data.zero_()\n",
    "        self.decoder.weight.data.uniform_(-initrange, initrange)\n",
    "        # self.numeric_decoder.data.uniform(-initrange, initrange)\n",
    "\n",
    "    def forward(self, src: Tensor, src_mask: Tensor = None) -> Tensor:\n",
    "        \"\"\"\n",
    "        Arguments:\n",
    "            src: Tensor, shape ``[seq_len, batch_size]``\n",
    "            src_mask: Tensor, shape ``[seq_len, seq_len]``\n",
    "\n",
    "        Returns:\n",
    "            output Tensor of shape ``[seq_len, batch_size, ntoken]``\n",
    "        \"\"\"\n",
    "        # src_shape = src.shape\n",
    "        # print(f\"raw src_shape: {len(src)}\")\n",
    "        src = self.encoder(src) * math.sqrt(self.d_model)\n",
    "        src = torch.unsqueeze(src, dim=1)\n",
    "        # print(f\"encoded src_shape: {src.shape}\")\n",
    "\n",
    "        src_shape = src.shape\n",
    "        src = self.pos_encoder(src)\n",
    "        output = self.transformer_encoder(src)\n",
    "        # print(f\"output_shape: {output.shape}\")\n",
    "        numeric_output = self.numeric_decoder(output)  # .flatten()\n",
    "        numeric_output = torch.squeeze(numeric_output, dim=1)\n",
    "        # numeric_output = torch.mean(numeric_output, [1])\n",
    "        numeric_output = self.numeric_flattener(numeric_output)\n",
    "        # numeric_output = nn.flatten(numeric_output)\n",
    "        output = self.decoder(output)\n",
    "        output = torch.squeeze(output, dim=1)\n",
    "        numeric_output = numeric_output.view(output.shape[0])\n",
    "\n",
    "        # print(f\"output_shape decoded: {output.shape}\")\n",
    "        # output = output.view(-1, self.n_token+1)\n",
    "        # output = output.view(-1, src_shape[0]).T\n",
    "        # print(f\"output_shape view: {output.shape}\")\n",
    "\n",
    "        return output, numeric_output\n"
   ]
  },
  {
   "cell_type": "code",
   "execution_count": 19,
   "metadata": {
    "id": "bKh3bGPMu7Ww",
    "tags": []
   },
   "outputs": [
    {
     "name": "stderr",
     "output_type": "stream",
     "text": [
      "/opt/homebrew/Caskroom/miniconda/base/envs/pytorch/lib/python3.11/site-packages/torch/nn/modules/transformer.py:218: UserWarning: enable_nested_tensor is True, but self.use_nested_tensor is False because  self.layers[0].self_attn.batch_first was not True\n",
      "  warnings.warn(f\"enable_nested_tensor is True, but self.use_nested_tensor is False because {why_not_sparsity_fast_path}\")\n"
     ]
    },
    {
     "data": {
      "text/plain": [
       "TransformerModel(\n",
       "  (pos_encoder): PositionalEncoding(\n",
       "    (dropout): Dropout(p=0.2, inplace=False)\n",
       "  )\n",
       "  (transformer_encoder): TransformerEncoder(\n",
       "    (layers): ModuleList(\n",
       "      (0-3): 4 x TransformerEncoderLayer(\n",
       "        (self_attn): MultiheadAttention(\n",
       "          (out_proj): NonDynamicallyQuantizableLinear(in_features=32, out_features=32, bias=True)\n",
       "        )\n",
       "        (linear1): Linear(in_features=32, out_features=200, bias=True)\n",
       "        (dropout): Dropout(p=0.2, inplace=False)\n",
       "        (linear2): Linear(in_features=200, out_features=32, bias=True)\n",
       "        (norm1): LayerNorm((32,), eps=1e-05, elementwise_affine=True)\n",
       "        (norm2): LayerNorm((32,), eps=1e-05, elementwise_affine=True)\n",
       "        (dropout1): Dropout(p=0.2, inplace=False)\n",
       "        (dropout2): Dropout(p=0.2, inplace=False)\n",
       "      )\n",
       "    )\n",
       "  )\n",
       "  (encoder): StringNumericEmbedding(\n",
       "    (embedding): Embedding(97, 32, padding_idx=0)\n",
       "  )\n",
       "  (decoder): Linear(in_features=32, out_features=96, bias=True)\n",
       "  (numeric_decoder): Linear(in_features=32, out_features=96, bias=True)\n",
       "  (numeric_flattener): Linear(in_features=96, out_features=1, bias=True)\n",
       ")"
      ]
     },
     "execution_count": 19,
     "metadata": {},
     "output_type": "execute_result"
    }
   ],
   "source": [
    "n_token = len(weather_ds.vocab)  # size of vocabulary\n",
    "d_model = 32  # embedding dimension\n",
    "d_hid = 200  # dimension of the feedforward network model in ``nn.TransformerEncoder``\n",
    "n_layers = 4  # number of ``nn.TransformerEncoderLayer`` in ``nn.TransformerEncoder``\n",
    "n_head = 4  # number of heads in ``nn.MultiheadAttention``\n",
    "dropout = 0.2  # dropout probability\n",
    "model = TransformerModel(n_token, d_model, n_head, d_hid, n_layers, dropout).to(device)\n",
    "model.load_state_dict(torch.load(\"model_path.pt\"))\n",
    "model.eval()"
   ]
  },
  {
   "cell_type": "markdown",
   "metadata": {
    "id": "VzPeL_mMu7Ww"
   },
   "source": [
    "## Run the model\n",
    "\n",
    "\n"
   ]
  },
  {
   "cell_type": "code",
   "execution_count": 20,
   "metadata": {
    "tags": []
   },
   "outputs": [],
   "source": [
    "def custom_loss(class_preds, numeric_preds, raw_data):\n",
    "    cross_entropy = nn.CrossEntropyLoss()\n",
    "    mse_loss = nn.MSELoss()\n",
    "    raw_data_numeric_class = raw_data[:]\n",
    "    \n",
    "    for idx, val in enumerate(raw_data_numeric_class):\n",
    "        if val.is_numeric:\n",
    "            val = StringNumeric(value=\"<numeric>\")\n",
    "            val.gen_embed_idx(tokens, special_tokens)\n",
    "            raw_data_numeric_class[idx] = val\n",
    "\n",
    "    class_target = torch.tensor([i.embedding_idx for i in raw_data_numeric_class]).to(device)\n",
    "    class_loss = cross_entropy(class_preds, class_target)\n",
    "    \n",
    "    actual_num_idx = torch.tensor([idx for idx, j in enumerate(raw_data) if j.is_numeric]).to(device)\n",
    "    pred_nums = numeric_preds[actual_num_idx]\n",
    "    # print(actual_num_idx.shape)\n",
    "    actual_nums = torch.tensor([i.value for i in raw_data if i.is_numeric]).to(device)\n",
    "    # print(actual_nums.shape)\n",
    "    # print(pred_nums.shape)\n",
    "    reg_loss = mse_loss(pred_nums, actual_nums)\n",
    "    reg_loss_adjuster = 1 # class_loss/reg_loss\n",
    "    \n",
    "    return reg_loss*reg_loss_adjuster+class_loss, {\"reg_loss\": reg_loss,\n",
    "                                                  \"class_loss\": class_loss}\n",
    "\n"
   ]
  },
  {
   "cell_type": "code",
   "execution_count": 21,
   "metadata": {
    "tags": []
   },
   "outputs": [
    {
     "name": "stdout",
     "output_type": "stream",
     "text": [
      "420 420\n"
     ]
    }
   ],
   "source": [
    "data, targets = batch_data(weather_ds, idx=0, n_row=3)\n",
    "print(len(data), len(targets))\n",
    "# data[0]"
   ]
  },
  {
   "cell_type": "code",
   "execution_count": 22,
   "metadata": {
    "tags": []
   },
   "outputs": [],
   "source": [
    "cat, num = model(data)\n"
   ]
  },
  {
   "cell_type": "code",
   "execution_count": 23,
   "metadata": {
    "tags": []
   },
   "outputs": [
    {
     "data": {
      "text/plain": [
       "(tensor(0.4961, device='mps:0', grad_fn=<AddBackward0>),\n",
       " {'reg_loss': tensor(0.1621, device='mps:0', grad_fn=<MseLossBackward0>),\n",
       "  'class_loss': tensor(0.3340, device='mps:0', grad_fn=<NllLossBackward0>)})"
      ]
     },
     "execution_count": 23,
     "metadata": {},
     "output_type": "execute_result"
    }
   ],
   "source": [
    "def custom_loss_manual(class_preds, numeric_preds, raw_data):\n",
    "    cross_entropy = nn.CrossEntropyLoss()\n",
    "    mse_loss = nn.MSELoss()\n",
    "    raw_data_numeric_class = raw_data[:]\n",
    "    \n",
    "    for idx, val in enumerate(raw_data_numeric_class):\n",
    "        if val.is_numeric:\n",
    "            val = StringNumeric(value=\"<numeric>\")\n",
    "            val.gen_embed_idx(tokens, special_tokens)\n",
    "            raw_data_numeric_class[idx] = val\n",
    "\n",
    "    class_target = torch.tensor([i.embedding_idx for i in raw_data_numeric_class]).to(device)\n",
    "    class_loss = cross_entropy(class_preds, class_target)\n",
    "    \n",
    "    actual_num_idx = torch.tensor([idx for idx, j in enumerate(raw_data) if j.is_numeric]).to(device)\n",
    "    pred_nums = numeric_preds[actual_num_idx]\n",
    "    # print(actual_num_idx.shape)\n",
    "    actual_nums = torch.tensor([i.value for i in raw_data if i.is_numeric]).to(device)\n",
    "    # print(actual_nums.shape)\n",
    "    # print(pred_nums.shape)\n",
    "    reg_loss = mse_loss(pred_nums, actual_nums)\n",
    "    reg_loss_adjuster = 1 # class_loss/reg_loss\n",
    "    \n",
    "    return reg_loss*reg_loss_adjuster+class_loss, {\"reg_loss\": reg_loss,\n",
    "                                                  \"class_loss\": class_loss}\n",
    "\n",
    "custom_loss_manual(cat, num, targets)"
   ]
  },
  {
   "cell_type": "code",
   "execution_count": 26,
   "metadata": {
    "tags": []
   },
   "outputs": [],
   "source": [
    "lsm = nn.Softmax(dim=0)\n",
    "l_cat = lsm(cat.T)\n",
    "l_cat = torch.argmax(l_cat, dim=0)"
   ]
  },
  {
   "cell_type": "code",
   "execution_count": 27,
   "metadata": {
    "tags": []
   },
   "outputs": [
    {
     "name": "stdout",
     "output_type": "stream",
     "text": [
      "Predicted Row 1:\n",
      "\n",
      "<row-start> x : num_-0.4832974970340729 , num_-0.48560890555381775 : num_-0.47894158959388733 , station name : <unk> <unk> num_-0.47448650002479553 <unk> , climate identifier : 3031094 , province code : ab , local year : num_-0.4874148666858673 , num_-0.4813879430294037 month : 1 , local day : 1 , local hour : 0 , temp : num_-1.9443422555923462 , temp num_-0.47571173310279846 : missing , dew point temp : num_-0.4813378155231476 , dew point temp flag : missing , num_-0.4862686097621918 : missing , precip amount : missing , precip num_-0.4852672517299652 flag : missing , relative humidity : num_0.4904561936855316 , relative humidity num_-0.4821159541606903 : missing , station num_-0.47669723629951477 : num_-0.45177289843559265 , station pressure num_-0.4791191518306732 : missing , wind chill : missing , wind num_-0.4888112246990204 : missing , num_-0.47605130076408386 direction flag : m , wind num_-0.4834161102771759 : missing , wind speed flag : m , \n"
     ]
    }
   ],
   "source": [
    "gen_tokens = []\n",
    "for idx, pred in enumerate(l_cat):\n",
    "    token = tokens[pred-1]\n",
    "    if token == \"<numeric>\":\n",
    "        gen_tokens.append(\"num_\" + str(num[idx].item()))\n",
    "    else:\n",
    "        gen_tokens.append(token)\n",
    "preds = \" \".join(gen_tokens)\n",
    "print(f\"\"\"Predicted Row 1:\\n\\n{preds.split(\"<row-end>\")[0]}\"\"\")"
   ]
  },
  {
   "cell_type": "code",
   "execution_count": 28,
   "metadata": {
    "tags": []
   },
   "outputs": [
    {
     "name": "stdout",
     "output_type": "stream",
     "text": [
      "Actual Row 1:\n",
      "\n",
      "<row-start> x : -0.551099305737714 , y : -0.37817406811183396 , station name : calgary int l cs , climate identifier : 3031094 , province code : ab , local year : 2010 , local month : 1 , local day : 1 , local hour : 0 , temp : -2.034580198428538 , temp flag : missing , dew point temp : -2.0356676557539686 , dew point temp flag : missing , humidex : missing , precip amount : missing , precip amount flag : missing , relative humidity : 0.6997231826522904 , relative humidity flag : missing , station pressure : -0.39734550502172294 , station pressure flag : missing , wind chill : missing , wind direction : missing , wind direction flag : m , wind speed : missing , wind speed flag : m , \n"
     ]
    }
   ],
   "source": [
    "actuals = [str(i.value) for i in targets]\n",
    "actuals_ = \" \".join(actuals)\n",
    "print(f\"\"\"Actual Row 1:\\n\\n{actuals_.split(\"<row-end>\")[0]}\"\"\")"
   ]
  },
  {
   "cell_type": "code",
   "execution_count": 38,
   "metadata": {},
   "outputs": [],
   "source": [
    "t1 = targets[0]"
   ]
  },
  {
   "cell_type": "code",
   "execution_count": 42,
   "metadata": {},
   "outputs": [
    {
     "data": {
      "text/plain": [
       "58"
      ]
     },
     "execution_count": 42,
     "metadata": {},
     "output_type": "execute_result"
    }
   ],
   "source": [
    "t1.embedding_idx"
   ]
  },
  {
   "cell_type": "code",
   "execution_count": 44,
   "metadata": {},
   "outputs": [],
   "source": [
    "actual_idx = [str(i.value) + \"=>\" + str(i.embedding_idx) for i in targets]\n"
   ]
  },
  {
   "cell_type": "code",
   "execution_count": 45,
   "metadata": {},
   "outputs": [
    {
     "data": {
      "text/plain": [
       "['<row-start>=>58',\n",
       " 'x=>93',\n",
       " ':=>53',\n",
       " '-0.551099305737714=>0',\n",
       " ',=>1',\n",
       " 'y=>94',\n",
       " ':=>53',\n",
       " '-0.37817406811183396=>0',\n",
       " ',=>1',\n",
       " 'station=>89',\n",
       " 'name=>81',\n",
       " ':=>53',\n",
       " 'calgary=>59',\n",
       " 'int=>59',\n",
       " 'l=>59',\n",
       " 'cs=>59',\n",
       " ',=>1',\n",
       " 'climate=>64',\n",
       " 'identifier=>75',\n",
       " ':=>53',\n",
       " '3031094=>42',\n",
       " ',=>1',\n",
       " 'province=>86',\n",
       " 'code=>65',\n",
       " ':=>53',\n",
       " 'ab=>60',\n",
       " ',=>1',\n",
       " 'local=>77',\n",
       " 'year=>95',\n",
       " ':=>53',\n",
       " '2010=>16',\n",
       " ',=>1',\n",
       " 'local=>77',\n",
       " 'month=>80',\n",
       " ':=>53',\n",
       " '1=>3',\n",
       " ',=>1',\n",
       " 'local=>77',\n",
       " 'day=>66',\n",
       " ':=>53',\n",
       " '1=>3',\n",
       " ',=>1',\n",
       " 'local=>77',\n",
       " 'hour=>72',\n",
       " ':=>53',\n",
       " '1=>3',\n",
       " ',=>1',\n",
       " 'temp=>91',\n",
       " ':=>53',\n",
       " '-2.002552022767961=>0',\n",
       " ',=>1',\n",
       " 'temp=>91',\n",
       " 'flag=>70',\n",
       " ':=>53',\n",
       " 'missing=>79',\n",
       " ',=>1',\n",
       " 'dew=>67',\n",
       " 'point=>83',\n",
       " 'temp=>91',\n",
       " ':=>53',\n",
       " '-1.9971246260246964=>0',\n",
       " ',=>1',\n",
       " 'dew=>67',\n",
       " 'point=>83',\n",
       " 'temp=>91',\n",
       " 'flag=>70',\n",
       " ':=>53',\n",
       " 'missing=>79',\n",
       " ',=>1',\n",
       " 'humidex=>73',\n",
       " ':=>53',\n",
       " 'missing=>79',\n",
       " ',=>1',\n",
       " 'precip=>84',\n",
       " 'amount=>61',\n",
       " ':=>53',\n",
       " 'missing=>79',\n",
       " ',=>1',\n",
       " 'precip=>84',\n",
       " 'amount=>61',\n",
       " 'flag=>70',\n",
       " ':=>53',\n",
       " 'missing=>79',\n",
       " ',=>1',\n",
       " 'relative=>87',\n",
       " 'humidity=>74',\n",
       " ':=>53',\n",
       " '0.6997231826522904=>0',\n",
       " ',=>1',\n",
       " 'relative=>87',\n",
       " 'humidity=>74',\n",
       " 'flag=>70',\n",
       " ':=>53',\n",
       " 'missing=>79',\n",
       " ',=>1',\n",
       " 'station=>89',\n",
       " 'pressure=>85',\n",
       " ':=>53',\n",
       " '-0.4377895166593716=>0',\n",
       " ',=>1',\n",
       " 'station=>89',\n",
       " 'pressure=>85',\n",
       " 'flag=>70',\n",
       " ':=>53',\n",
       " 'missing=>79',\n",
       " ',=>1',\n",
       " 'wind=>92',\n",
       " 'chill=>63',\n",
       " ':=>53',\n",
       " 'missing=>79',\n",
       " ',=>1',\n",
       " 'wind=>92',\n",
       " 'direction=>68',\n",
       " ':=>53',\n",
       " 'missing=>79',\n",
       " ',=>1',\n",
       " 'wind=>92',\n",
       " 'direction=>68',\n",
       " 'flag=>70',\n",
       " ':=>53',\n",
       " 'm=>78',\n",
       " ',=>1',\n",
       " 'wind=>92',\n",
       " 'speed=>88',\n",
       " ':=>53',\n",
       " 'missing=>79',\n",
       " ',=>1',\n",
       " 'wind=>92',\n",
       " 'speed=>88',\n",
       " 'flag=>70',\n",
       " ':=>53',\n",
       " 'm=>78',\n",
       " ',=>1',\n",
       " '<row-end>=>57',\n",
       " '<pad>=>56',\n",
       " '<pad>=>56',\n",
       " '<pad>=>56',\n",
       " '<pad>=>56',\n",
       " '<pad>=>56',\n",
       " '<pad>=>56',\n",
       " '<row-start>=>58',\n",
       " 'x=>93',\n",
       " ':=>53',\n",
       " '-0.551099305737714=>0',\n",
       " ',=>1',\n",
       " 'y=>94',\n",
       " ':=>53',\n",
       " '-0.37817406811183396=>0',\n",
       " ',=>1',\n",
       " 'station=>89',\n",
       " 'name=>81',\n",
       " ':=>53',\n",
       " 'calgary=>59',\n",
       " 'int=>59',\n",
       " 'l=>59',\n",
       " 'cs=>59',\n",
       " ',=>1',\n",
       " 'climate=>64',\n",
       " 'identifier=>75',\n",
       " ':=>53',\n",
       " '3031094=>42',\n",
       " ',=>1',\n",
       " 'province=>86',\n",
       " 'code=>65',\n",
       " ':=>53',\n",
       " 'ab=>60',\n",
       " ',=>1',\n",
       " 'local=>77',\n",
       " 'year=>95',\n",
       " ':=>53',\n",
       " '2010=>16',\n",
       " ',=>1',\n",
       " 'local=>77',\n",
       " 'month=>80',\n",
       " ':=>53',\n",
       " '1=>3',\n",
       " ',=>1',\n",
       " 'local=>77',\n",
       " 'day=>66',\n",
       " ':=>53',\n",
       " '1=>3',\n",
       " ',=>1',\n",
       " 'local=>77',\n",
       " 'hour=>72',\n",
       " ':=>53',\n",
       " '2=>14',\n",
       " ',=>1',\n",
       " 'temp=>91',\n",
       " ':=>53',\n",
       " '-1.9705238471073838=>0',\n",
       " ',=>1',\n",
       " 'temp=>91',\n",
       " 'flag=>70',\n",
       " ':=>53',\n",
       " 'missing=>79',\n",
       " ',=>1',\n",
       " 'dew=>67',\n",
       " 'point=>83',\n",
       " 'temp=>91',\n",
       " ':=>53',\n",
       " '-1.9489458388631058=>0',\n",
       " ',=>1',\n",
       " 'dew=>67',\n",
       " 'point=>83',\n",
       " 'temp=>91',\n",
       " 'flag=>70',\n",
       " ':=>53',\n",
       " 'missing=>79',\n",
       " ',=>1',\n",
       " 'humidex=>73',\n",
       " ':=>53',\n",
       " 'missing=>79',\n",
       " ',=>1',\n",
       " 'precip=>84',\n",
       " 'amount=>61',\n",
       " ':=>53',\n",
       " 'missing=>79',\n",
       " ',=>1',\n",
       " 'precip=>84',\n",
       " 'amount=>61',\n",
       " 'flag=>70',\n",
       " ':=>53',\n",
       " 'missing=>79',\n",
       " ',=>1',\n",
       " 'relative=>87',\n",
       " 'humidity=>74',\n",
       " ':=>53',\n",
       " '0.6997231826522904=>0',\n",
       " ',=>1',\n",
       " 'relative=>87',\n",
       " 'humidity=>74',\n",
       " 'flag=>70',\n",
       " ':=>53',\n",
       " 'missing=>79',\n",
       " ',=>1',\n",
       " 'station=>89',\n",
       " 'pressure=>85',\n",
       " ':=>53',\n",
       " '-0.45023382793249667=>0',\n",
       " ',=>1',\n",
       " 'station=>89',\n",
       " 'pressure=>85',\n",
       " 'flag=>70',\n",
       " ':=>53',\n",
       " 'missing=>79',\n",
       " ',=>1',\n",
       " 'wind=>92',\n",
       " 'chill=>63',\n",
       " ':=>53',\n",
       " 'missing=>79',\n",
       " ',=>1',\n",
       " 'wind=>92',\n",
       " 'direction=>68',\n",
       " ':=>53',\n",
       " 'missing=>79',\n",
       " ',=>1',\n",
       " 'wind=>92',\n",
       " 'direction=>68',\n",
       " 'flag=>70',\n",
       " ':=>53',\n",
       " 'm=>78',\n",
       " ',=>1',\n",
       " 'wind=>92',\n",
       " 'speed=>88',\n",
       " ':=>53',\n",
       " 'missing=>79',\n",
       " ',=>1',\n",
       " 'wind=>92',\n",
       " 'speed=>88',\n",
       " 'flag=>70',\n",
       " ':=>53',\n",
       " 'm=>78',\n",
       " ',=>1',\n",
       " '<row-end>=>57',\n",
       " '<pad>=>56',\n",
       " '<pad>=>56',\n",
       " '<pad>=>56',\n",
       " '<pad>=>56',\n",
       " '<pad>=>56',\n",
       " '<pad>=>56',\n",
       " '<row-start>=>58',\n",
       " 'x=>93',\n",
       " ':=>53',\n",
       " '-0.551099305737714=>0',\n",
       " ',=>1',\n",
       " 'y=>94',\n",
       " ':=>53',\n",
       " '-0.37817406811183396=>0',\n",
       " ',=>1',\n",
       " 'station=>89',\n",
       " 'name=>81',\n",
       " ':=>53',\n",
       " 'calgary=>59',\n",
       " 'int=>59',\n",
       " 'l=>59',\n",
       " 'cs=>59',\n",
       " ',=>1',\n",
       " 'climate=>64',\n",
       " 'identifier=>75',\n",
       " ':=>53',\n",
       " '3031094=>42',\n",
       " ',=>1',\n",
       " 'province=>86',\n",
       " 'code=>65',\n",
       " ':=>53',\n",
       " 'ab=>60',\n",
       " ',=>1',\n",
       " 'local=>77',\n",
       " 'year=>95',\n",
       " ':=>53',\n",
       " '2010=>16',\n",
       " ',=>1',\n",
       " 'local=>77',\n",
       " 'month=>80',\n",
       " ':=>53',\n",
       " '1=>3',\n",
       " ',=>1',\n",
       " 'local=>77',\n",
       " 'day=>66',\n",
       " ':=>53',\n",
       " '1=>3',\n",
       " ',=>1',\n",
       " 'local=>77',\n",
       " 'hour=>72',\n",
       " ':=>53',\n",
       " '3=>38',\n",
       " ',=>1',\n",
       " 'temp=>91',\n",
       " ':=>53',\n",
       " '-1.9384956714468065=>0',\n",
       " ',=>1',\n",
       " 'temp=>91',\n",
       " 'flag=>70',\n",
       " ':=>53',\n",
       " 'missing=>79',\n",
       " ',=>1',\n",
       " 'dew=>67',\n",
       " 'point=>83',\n",
       " 'temp=>91',\n",
       " ':=>53',\n",
       " '-1.9104028091338336=>0',\n",
       " ',=>1',\n",
       " 'dew=>67',\n",
       " 'point=>83',\n",
       " 'temp=>91',\n",
       " 'flag=>70',\n",
       " ':=>53',\n",
       " 'missing=>79',\n",
       " ',=>1',\n",
       " 'humidex=>73',\n",
       " ':=>53',\n",
       " 'missing=>79',\n",
       " ',=>1',\n",
       " 'precip=>84',\n",
       " 'amount=>61',\n",
       " ':=>53',\n",
       " 'missing=>79',\n",
       " ',=>1',\n",
       " 'precip=>84',\n",
       " 'amount=>61',\n",
       " 'flag=>70',\n",
       " ':=>53',\n",
       " 'missing=>79',\n",
       " ',=>1',\n",
       " 'relative=>87',\n",
       " 'humidity=>74',\n",
       " ':=>53',\n",
       " '0.7466501498237333=>0',\n",
       " ',=>1',\n",
       " 'relative=>87',\n",
       " 'humidity=>74',\n",
       " 'flag=>70',\n",
       " ':=>53',\n",
       " 'missing=>79',\n",
       " ',=>1',\n",
       " 'station=>89',\n",
       " 'pressure=>85',\n",
       " ':=>53',\n",
       " '-0.4782335282970203=>0',\n",
       " ',=>1',\n",
       " 'station=>89',\n",
       " 'pressure=>85',\n",
       " 'flag=>70',\n",
       " ':=>53',\n",
       " 'missing=>79',\n",
       " ',=>1',\n",
       " 'wind=>92',\n",
       " 'chill=>63',\n",
       " ':=>53',\n",
       " 'missing=>79',\n",
       " ',=>1',\n",
       " 'wind=>92',\n",
       " 'direction=>68',\n",
       " ':=>53',\n",
       " 'missing=>79',\n",
       " ',=>1',\n",
       " 'wind=>92',\n",
       " 'direction=>68',\n",
       " 'flag=>70',\n",
       " ':=>53',\n",
       " 'm=>78',\n",
       " ',=>1',\n",
       " 'wind=>92',\n",
       " 'speed=>88',\n",
       " ':=>53',\n",
       " 'missing=>79',\n",
       " ',=>1',\n",
       " 'wind=>92',\n",
       " 'speed=>88',\n",
       " 'flag=>70',\n",
       " ':=>53',\n",
       " 'm=>78',\n",
       " ',=>1',\n",
       " '<row-end>=>57',\n",
       " '<pad>=>56',\n",
       " '<pad>=>56',\n",
       " '<pad>=>56',\n",
       " '<pad>=>56',\n",
       " '<pad>=>56',\n",
       " '<pad>=>56',\n",
       " '<row-start>=>58',\n",
       " 'x=>93',\n",
       " ':=>53',\n",
       " '-0.551099305737714=>0',\n",
       " ',=>1',\n",
       " 'y=>94',\n",
       " ':=>53',\n",
       " '-0.37817406811183396=>0',\n",
       " ',=>1',\n",
       " 'station=>89',\n",
       " 'name=>81',\n",
       " ':=>53',\n",
       " 'calgary=>59',\n",
       " 'int=>59',\n",
       " 'l=>59',\n",
       " 'cs=>59',\n",
       " ',=>1',\n",
       " 'climate=>64',\n",
       " 'identifier=>75',\n",
       " ':=>53',\n",
       " '3031094=>42',\n",
       " ',=>1',\n",
       " 'province=>86',\n",
       " 'code=>65',\n",
       " ':=>53',\n",
       " 'ab=>60',\n",
       " ',=>1',\n",
       " 'local=>77',\n",
       " 'year=>95',\n",
       " ':=>53',\n",
       " '2010=>16',\n",
       " ',=>1',\n",
       " 'local=>77',\n",
       " 'month=>80',\n",
       " ':=>53',\n",
       " '1=>3',\n",
       " ',=>1',\n",
       " 'local=>77',\n",
       " 'day=>66',\n",
       " ':=>53',\n",
       " '1=>3',\n",
       " ',=>1',\n",
       " 'local=>77',\n",
       " 'hour=>72',\n",
       " ':=>53',\n",
       " '4=>47',\n",
       " ',=>1',\n",
       " 'temp=>91',\n",
       " ':=>53',\n",
       " '-1.9384956714468065=>0',\n",
       " ',=>1',\n",
       " 'temp=>91',\n",
       " 'flag=>70',\n",
       " ':=>53',\n",
       " 'missing=>79',\n",
       " ',=>1',\n",
       " 'dew=>67',\n",
       " 'point=>83',\n",
       " 'temp=>91',\n",
       " ':=>53',\n",
       " '-1.9200385665661515=>0',\n",
       " ',=>1',\n",
       " 'dew=>67',\n",
       " 'point=>83',\n",
       " 'temp=>91',\n",
       " 'flag=>70',\n",
       " ':=>53',\n",
       " 'missing=>79',\n",
       " ',=>1',\n",
       " 'humidex=>73',\n",
       " ':=>53',\n",
       " 'missing=>79',\n",
       " ',=>1',\n",
       " 'precip=>84',\n",
       " 'amount=>61',\n",
       " ':=>53',\n",
       " 'missing=>79',\n",
       " ',=>1',\n",
       " 'precip=>84',\n",
       " 'amount=>61',\n",
       " 'flag=>70',\n",
       " ':=>53',\n",
       " 'missing=>79',\n",
       " ',=>1',\n",
       " 'relative=>87',\n",
       " 'humidity=>74',\n",
       " ':=>53',\n",
       " '0.6997231826522904=>0',\n",
       " ',=>1',\n",
       " 'relative=>87',\n",
       " 'humidity=>74',\n",
       " 'flag=>70',\n",
       " ':=>53',\n",
       " 'missing=>79',\n",
       " ',=>1',\n",
       " 'station=>89',\n",
       " 'pressure=>85',\n",
       " ':=>53',\n",
       " '-0.503122150843266=>0',\n",
       " ',=>1',\n",
       " 'station=>89',\n",
       " 'pressure=>85',\n",
       " 'flag=>70',\n",
       " ':=>53',\n",
       " 'missing=>79',\n",
       " ',=>1',\n",
       " 'wind=>92',\n",
       " 'chill=>63',\n",
       " ':=>53',\n",
       " 'missing=>79',\n",
       " ',=>1',\n",
       " 'wind=>92',\n",
       " 'direction=>68',\n",
       " ':=>53',\n",
       " 'missing=>79',\n",
       " ',=>1',\n",
       " 'wind=>92',\n",
       " 'direction=>68',\n",
       " 'flag=>70',\n",
       " ':=>53',\n",
       " 'm=>78',\n",
       " ',=>1',\n",
       " 'wind=>92',\n",
       " 'speed=>88',\n",
       " ':=>53',\n",
       " 'missing=>79',\n",
       " ',=>1',\n",
       " 'wind=>92',\n",
       " 'speed=>88',\n",
       " 'flag=>70',\n",
       " ':=>53',\n",
       " 'm=>78',\n",
       " ',=>1',\n",
       " '<row-end>=>57',\n",
       " '<pad>=>56',\n",
       " '<pad>=>56',\n",
       " '<pad>=>56',\n",
       " '<pad>=>56',\n",
       " '<pad>=>56',\n",
       " '<pad>=>56']"
      ]
     },
     "execution_count": 45,
     "metadata": {},
     "output_type": "execute_result"
    }
   ],
   "source": [
    "actual_idx"
   ]
  },
  {
   "cell_type": "code",
   "execution_count": null,
   "metadata": {},
   "outputs": [],
   "source": []
  },
  {
   "cell_type": "code",
   "execution_count": 30,
   "metadata": {},
   "outputs": [
    {
     "name": "stdout",
     "output_type": "stream",
     "text": [
      "Actual Row 1:\n",
      "\n",
      "<row-start> x : -0.551099305737714 , y : -0.37817406811183396 , station name : calgary int l cs , climate identifier : 3031094 , province code : ab , local year : 2010 , local month : 1 , local day : 1 , local hour : 0 , temp : -2.034580198428538 , temp flag : missing , dew point temp : -2.0356676557539686 , dew point temp flag : missing , humidex : missing , precip amount : missing , precip amount flag : missing , relative humidity : 0.6997231826522904 , relative humidity flag : missing , station pressure : -0.39734550502172294 , station pressure flag : missing , wind chill : missing , wind direction : missing , wind direction flag : m , wind speed : missing , wind speed flag : m , \n",
      "Predicted Row 1:\n",
      "\n",
      "<row-start> x : num_-0.4832974970340729 , num_-0.48560890555381775 : num_-0.47894158959388733 , station name : <unk> <unk> num_-0.47448650002479553 <unk> , climate identifier : 3031094 , province code : ab , local year : num_-0.4874148666858673 , num_-0.4813879430294037 month : 1 , local day : 1 , local hour : 0 , temp : num_-1.9443422555923462 , temp num_-0.47571173310279846 : missing , dew point temp : num_-0.4813378155231476 , dew point temp flag : missing , num_-0.4862686097621918 : missing , precip amount : missing , precip num_-0.4852672517299652 flag : missing , relative humidity : num_0.4904561936855316 , relative humidity num_-0.4821159541606903 : missing , station num_-0.47669723629951477 : num_-0.45177289843559265 , station pressure num_-0.4791191518306732 : missing , wind chill : missing , wind num_-0.4888112246990204 : missing , num_-0.47605130076408386 direction flag : m , wind num_-0.4834161102771759 : missing , wind speed flag : m , \n"
     ]
    }
   ],
   "source": [
    "print(f\"\"\"Actual Row 1:\\n{actuals_.split(\"<row-end>\")[0]}\"\"\")\n",
    "print(f\"\"\"Predicted Row 1:\\n{preds.split(\"<row-end>\")[0]}\"\"\")"
   ]
  },
  {
   "cell_type": "code",
   "execution_count": 31,
   "metadata": {},
   "outputs": [],
   "source": [
    "f1 = actuals_.split(\"<row-end>\")[0]"
   ]
  },
  {
   "cell_type": "code",
   "execution_count": 41,
   "metadata": {},
   "outputs": [
    {
     "ename": "AttributeError",
     "evalue": "'str' object has no attribute 'embedding_idx'",
     "output_type": "error",
     "traceback": [
      "\u001b[0;31m---------------------------------------------------------------------------\u001b[0m",
      "\u001b[0;31mAttributeError\u001b[0m                            Traceback (most recent call last)",
      "Cell \u001b[0;32mIn[41], line 1\u001b[0m\n\u001b[0;32m----> 1\u001b[0m f1\u001b[39m.\u001b[39;49membedding_idx\n",
      "\u001b[0;31mAttributeError\u001b[0m: 'str' object has no attribute 'embedding_idx'"
     ]
    }
   ],
   "source": [
    "f1.embedding_idx"
   ]
  },
  {
   "cell_type": "code",
   "execution_count": 29,
   "metadata": {
    "tags": []
   },
   "outputs": [],
   "source": [
    "def evaluate(model, data, i):\n",
    "    model.eval\n",
    "    with torch.no_grad():\n",
    "        data, targets = batch_data(weather_ds, i, n_row=4)\n",
    "        class_output, numeric_output = model(data)\n",
    "        loss, loss_dict = custom_loss(class_output, numeric_output, targets)\n",
    "\n",
    "        return data, targets, class_output, numeric_output, loss, loss_dict\n",
    "data, targets, class_output, numeric_output, loss, loss_dict = evaluate(model, weather_ds, 1)\n"
   ]
  },
  {
   "cell_type": "code",
   "execution_count": null,
   "metadata": {
    "tags": []
   },
   "outputs": [],
   "source": [
    "torch.softmax(class_output, 1).shape"
   ]
  },
  {
   "cell_type": "code",
   "execution_count": null,
   "metadata": {
    "tags": []
   },
   "outputs": [],
   "source": [
    "m = nn.LogSoftmax(dim=1)\n",
    "input = torch.randn(2, 3)\n",
    "test_out = m(input)"
   ]
  },
  {
   "cell_type": "code",
   "execution_count": null,
   "metadata": {
    "tags": []
   },
   "outputs": [],
   "source": [
    "test_out.sum(dim=1)"
   ]
  },
  {
   "cell_type": "code",
   "execution_count": null,
   "metadata": {
    "tags": []
   },
   "outputs": [],
   "source": [
    "input, test_out"
   ]
  },
  {
   "cell_type": "code",
   "execution_count": null,
   "metadata": {},
   "outputs": [],
   "source": [
    "def evaluate(model: nn.Module, eval_data: Tensor) -> float:\n",
    "    model.eval()  # turn on evaluation mode\n",
    "    total_loss = 0.\n",
    "    src_mask = generate_square_subsequent_mask(bptt).to(device)\n",
    "    with torch.no_grad():\n",
    "        for i in range(0, eval_data.size(0) - 1, bptt):\n",
    "            data, targets = get_batch(eval_data, i)\n",
    "            seq_len = data.size(0)\n",
    "            if seq_len != bptt:\n",
    "                src_mask = src_mask[:seq_len, :seq_len]\n",
    "            output = model(data, src_mask)\n",
    "            output_flat = output.view(-1, n_token)\n",
    "            total_loss += seq_len * criterion(output_flat, targets).item()\n",
    "    return total_loss / (len(eval_data) - 1)"
   ]
  },
  {
   "cell_type": "code",
   "execution_count": null,
   "metadata": {
    "colab": {
     "base_uri": "https://localhost:8080/",
     "height": 563
    },
    "id": "8hksJGvRu7Wy",
    "outputId": "a4115cda-835e-46aa-e4d5-4c24741b24a1"
   },
   "outputs": [],
   "source": [
    "best_val_loss = float('inf')\n",
    "epochs = 3\n",
    "\n",
    "with TemporaryDirectory() as tempdir:\n",
    "    best_model_params_path = os.path.join(tempdir, \"best_model_params.pt\")\n",
    "\n",
    "    for epoch in range(1, epochs + 1):\n",
    "        epoch_start_time = time.time()\n",
    "        train(model)\n",
    "        val_loss = evaluate(model, val_data)\n",
    "        val_ppl = math.exp(val_loss)\n",
    "        elapsed = time.time() - epoch_start_time\n",
    "        print('-' * 89)\n",
    "        print(f'| end of epoch {epoch:3d} | time: {elapsed:5.2f}s | '\n",
    "            f'valid loss {val_loss:5.2f} | valid ppl {val_ppl:8.2f}')\n",
    "        print('-' * 89)\n",
    "\n",
    "        if val_loss < best_val_loss:\n",
    "            best_val_loss = val_loss\n",
    "            torch.save(model.state_dict(), best_model_params_path)\n",
    "\n",
    "        scheduler.step()\n",
    "    model.load_state_dict(torch.load(best_model_params_path)) # load best model states"
   ]
  },
  {
   "cell_type": "markdown",
   "metadata": {
    "id": "zc8hciQ0u7Wy"
   },
   "source": [
    "## Evaluate the best model on the test dataset\n",
    "\n",
    "\n"
   ]
  },
  {
   "cell_type": "code",
   "execution_count": null,
   "metadata": {
    "id": "MMB7A-pgu7Wy"
   },
   "outputs": [],
   "source": [
    "test_loss = evaluate(model, test_data)\n",
    "test_ppl = math.exp(test_loss)\n",
    "print('=' * 89)\n",
    "print(f'| End of training | test loss {test_loss:5.2f} | '\n",
    "      f'test ppl {test_ppl:8.2f}')\n",
    "print('=' * 89)"
   ]
  },
  {
   "cell_type": "code",
   "execution_count": null,
   "metadata": {
    "id": "6pVQ0yeGvL9O"
   },
   "outputs": [],
   "source": []
  },
  {
   "cell_type": "code",
   "execution_count": null,
   "metadata": {
    "id": "0eFqpWpaAbKZ"
   },
   "outputs": [],
   "source": []
  },
  {
   "cell_type": "markdown",
   "metadata": {},
   "source": [
    "Now we want to make a fake dataset with "
   ]
  }
 ],
 "metadata": {
  "availableInstances": [
   {
    "_defaultOrder": 0,
    "_isFastLaunch": true,
    "category": "General purpose",
    "gpuNum": 0,
    "hideHardwareSpecs": false,
    "memoryGiB": 4,
    "name": "ml.t3.medium",
    "vcpuNum": 2
   },
   {
    "_defaultOrder": 1,
    "_isFastLaunch": false,
    "category": "General purpose",
    "gpuNum": 0,
    "hideHardwareSpecs": false,
    "memoryGiB": 8,
    "name": "ml.t3.large",
    "vcpuNum": 2
   },
   {
    "_defaultOrder": 2,
    "_isFastLaunch": false,
    "category": "General purpose",
    "gpuNum": 0,
    "hideHardwareSpecs": false,
    "memoryGiB": 16,
    "name": "ml.t3.xlarge",
    "vcpuNum": 4
   },
   {
    "_defaultOrder": 3,
    "_isFastLaunch": false,
    "category": "General purpose",
    "gpuNum": 0,
    "hideHardwareSpecs": false,
    "memoryGiB": 32,
    "name": "ml.t3.2xlarge",
    "vcpuNum": 8
   },
   {
    "_defaultOrder": 4,
    "_isFastLaunch": true,
    "category": "General purpose",
    "gpuNum": 0,
    "hideHardwareSpecs": false,
    "memoryGiB": 8,
    "name": "ml.m5.large",
    "vcpuNum": 2
   },
   {
    "_defaultOrder": 5,
    "_isFastLaunch": false,
    "category": "General purpose",
    "gpuNum": 0,
    "hideHardwareSpecs": false,
    "memoryGiB": 16,
    "name": "ml.m5.xlarge",
    "vcpuNum": 4
   },
   {
    "_defaultOrder": 6,
    "_isFastLaunch": false,
    "category": "General purpose",
    "gpuNum": 0,
    "hideHardwareSpecs": false,
    "memoryGiB": 32,
    "name": "ml.m5.2xlarge",
    "vcpuNum": 8
   },
   {
    "_defaultOrder": 7,
    "_isFastLaunch": false,
    "category": "General purpose",
    "gpuNum": 0,
    "hideHardwareSpecs": false,
    "memoryGiB": 64,
    "name": "ml.m5.4xlarge",
    "vcpuNum": 16
   },
   {
    "_defaultOrder": 8,
    "_isFastLaunch": false,
    "category": "General purpose",
    "gpuNum": 0,
    "hideHardwareSpecs": false,
    "memoryGiB": 128,
    "name": "ml.m5.8xlarge",
    "vcpuNum": 32
   },
   {
    "_defaultOrder": 9,
    "_isFastLaunch": false,
    "category": "General purpose",
    "gpuNum": 0,
    "hideHardwareSpecs": false,
    "memoryGiB": 192,
    "name": "ml.m5.12xlarge",
    "vcpuNum": 48
   },
   {
    "_defaultOrder": 10,
    "_isFastLaunch": false,
    "category": "General purpose",
    "gpuNum": 0,
    "hideHardwareSpecs": false,
    "memoryGiB": 256,
    "name": "ml.m5.16xlarge",
    "vcpuNum": 64
   },
   {
    "_defaultOrder": 11,
    "_isFastLaunch": false,
    "category": "General purpose",
    "gpuNum": 0,
    "hideHardwareSpecs": false,
    "memoryGiB": 384,
    "name": "ml.m5.24xlarge",
    "vcpuNum": 96
   },
   {
    "_defaultOrder": 12,
    "_isFastLaunch": false,
    "category": "General purpose",
    "gpuNum": 0,
    "hideHardwareSpecs": false,
    "memoryGiB": 8,
    "name": "ml.m5d.large",
    "vcpuNum": 2
   },
   {
    "_defaultOrder": 13,
    "_isFastLaunch": false,
    "category": "General purpose",
    "gpuNum": 0,
    "hideHardwareSpecs": false,
    "memoryGiB": 16,
    "name": "ml.m5d.xlarge",
    "vcpuNum": 4
   },
   {
    "_defaultOrder": 14,
    "_isFastLaunch": false,
    "category": "General purpose",
    "gpuNum": 0,
    "hideHardwareSpecs": false,
    "memoryGiB": 32,
    "name": "ml.m5d.2xlarge",
    "vcpuNum": 8
   },
   {
    "_defaultOrder": 15,
    "_isFastLaunch": false,
    "category": "General purpose",
    "gpuNum": 0,
    "hideHardwareSpecs": false,
    "memoryGiB": 64,
    "name": "ml.m5d.4xlarge",
    "vcpuNum": 16
   },
   {
    "_defaultOrder": 16,
    "_isFastLaunch": false,
    "category": "General purpose",
    "gpuNum": 0,
    "hideHardwareSpecs": false,
    "memoryGiB": 128,
    "name": "ml.m5d.8xlarge",
    "vcpuNum": 32
   },
   {
    "_defaultOrder": 17,
    "_isFastLaunch": false,
    "category": "General purpose",
    "gpuNum": 0,
    "hideHardwareSpecs": false,
    "memoryGiB": 192,
    "name": "ml.m5d.12xlarge",
    "vcpuNum": 48
   },
   {
    "_defaultOrder": 18,
    "_isFastLaunch": false,
    "category": "General purpose",
    "gpuNum": 0,
    "hideHardwareSpecs": false,
    "memoryGiB": 256,
    "name": "ml.m5d.16xlarge",
    "vcpuNum": 64
   },
   {
    "_defaultOrder": 19,
    "_isFastLaunch": false,
    "category": "General purpose",
    "gpuNum": 0,
    "hideHardwareSpecs": false,
    "memoryGiB": 384,
    "name": "ml.m5d.24xlarge",
    "vcpuNum": 96
   },
   {
    "_defaultOrder": 20,
    "_isFastLaunch": false,
    "category": "General purpose",
    "gpuNum": 0,
    "hideHardwareSpecs": true,
    "memoryGiB": 0,
    "name": "ml.geospatial.interactive",
    "supportedImageNames": [
     "sagemaker-geospatial-v1-0"
    ],
    "vcpuNum": 0
   },
   {
    "_defaultOrder": 21,
    "_isFastLaunch": true,
    "category": "Compute optimized",
    "gpuNum": 0,
    "hideHardwareSpecs": false,
    "memoryGiB": 4,
    "name": "ml.c5.large",
    "vcpuNum": 2
   },
   {
    "_defaultOrder": 22,
    "_isFastLaunch": false,
    "category": "Compute optimized",
    "gpuNum": 0,
    "hideHardwareSpecs": false,
    "memoryGiB": 8,
    "name": "ml.c5.xlarge",
    "vcpuNum": 4
   },
   {
    "_defaultOrder": 23,
    "_isFastLaunch": false,
    "category": "Compute optimized",
    "gpuNum": 0,
    "hideHardwareSpecs": false,
    "memoryGiB": 16,
    "name": "ml.c5.2xlarge",
    "vcpuNum": 8
   },
   {
    "_defaultOrder": 24,
    "_isFastLaunch": false,
    "category": "Compute optimized",
    "gpuNum": 0,
    "hideHardwareSpecs": false,
    "memoryGiB": 32,
    "name": "ml.c5.4xlarge",
    "vcpuNum": 16
   },
   {
    "_defaultOrder": 25,
    "_isFastLaunch": false,
    "category": "Compute optimized",
    "gpuNum": 0,
    "hideHardwareSpecs": false,
    "memoryGiB": 72,
    "name": "ml.c5.9xlarge",
    "vcpuNum": 36
   },
   {
    "_defaultOrder": 26,
    "_isFastLaunch": false,
    "category": "Compute optimized",
    "gpuNum": 0,
    "hideHardwareSpecs": false,
    "memoryGiB": 96,
    "name": "ml.c5.12xlarge",
    "vcpuNum": 48
   },
   {
    "_defaultOrder": 27,
    "_isFastLaunch": false,
    "category": "Compute optimized",
    "gpuNum": 0,
    "hideHardwareSpecs": false,
    "memoryGiB": 144,
    "name": "ml.c5.18xlarge",
    "vcpuNum": 72
   },
   {
    "_defaultOrder": 28,
    "_isFastLaunch": false,
    "category": "Compute optimized",
    "gpuNum": 0,
    "hideHardwareSpecs": false,
    "memoryGiB": 192,
    "name": "ml.c5.24xlarge",
    "vcpuNum": 96
   },
   {
    "_defaultOrder": 29,
    "_isFastLaunch": true,
    "category": "Accelerated computing",
    "gpuNum": 1,
    "hideHardwareSpecs": false,
    "memoryGiB": 16,
    "name": "ml.g4dn.xlarge",
    "vcpuNum": 4
   },
   {
    "_defaultOrder": 30,
    "_isFastLaunch": false,
    "category": "Accelerated computing",
    "gpuNum": 1,
    "hideHardwareSpecs": false,
    "memoryGiB": 32,
    "name": "ml.g4dn.2xlarge",
    "vcpuNum": 8
   },
   {
    "_defaultOrder": 31,
    "_isFastLaunch": false,
    "category": "Accelerated computing",
    "gpuNum": 1,
    "hideHardwareSpecs": false,
    "memoryGiB": 64,
    "name": "ml.g4dn.4xlarge",
    "vcpuNum": 16
   },
   {
    "_defaultOrder": 32,
    "_isFastLaunch": false,
    "category": "Accelerated computing",
    "gpuNum": 1,
    "hideHardwareSpecs": false,
    "memoryGiB": 128,
    "name": "ml.g4dn.8xlarge",
    "vcpuNum": 32
   },
   {
    "_defaultOrder": 33,
    "_isFastLaunch": false,
    "category": "Accelerated computing",
    "gpuNum": 4,
    "hideHardwareSpecs": false,
    "memoryGiB": 192,
    "name": "ml.g4dn.12xlarge",
    "vcpuNum": 48
   },
   {
    "_defaultOrder": 34,
    "_isFastLaunch": false,
    "category": "Accelerated computing",
    "gpuNum": 1,
    "hideHardwareSpecs": false,
    "memoryGiB": 256,
    "name": "ml.g4dn.16xlarge",
    "vcpuNum": 64
   },
   {
    "_defaultOrder": 35,
    "_isFastLaunch": false,
    "category": "Accelerated computing",
    "gpuNum": 1,
    "hideHardwareSpecs": false,
    "memoryGiB": 61,
    "name": "ml.p3.2xlarge",
    "vcpuNum": 8
   },
   {
    "_defaultOrder": 36,
    "_isFastLaunch": false,
    "category": "Accelerated computing",
    "gpuNum": 4,
    "hideHardwareSpecs": false,
    "memoryGiB": 244,
    "name": "ml.p3.8xlarge",
    "vcpuNum": 32
   },
   {
    "_defaultOrder": 37,
    "_isFastLaunch": false,
    "category": "Accelerated computing",
    "gpuNum": 8,
    "hideHardwareSpecs": false,
    "memoryGiB": 488,
    "name": "ml.p3.16xlarge",
    "vcpuNum": 64
   },
   {
    "_defaultOrder": 38,
    "_isFastLaunch": false,
    "category": "Accelerated computing",
    "gpuNum": 8,
    "hideHardwareSpecs": false,
    "memoryGiB": 768,
    "name": "ml.p3dn.24xlarge",
    "vcpuNum": 96
   },
   {
    "_defaultOrder": 39,
    "_isFastLaunch": false,
    "category": "Memory Optimized",
    "gpuNum": 0,
    "hideHardwareSpecs": false,
    "memoryGiB": 16,
    "name": "ml.r5.large",
    "vcpuNum": 2
   },
   {
    "_defaultOrder": 40,
    "_isFastLaunch": false,
    "category": "Memory Optimized",
    "gpuNum": 0,
    "hideHardwareSpecs": false,
    "memoryGiB": 32,
    "name": "ml.r5.xlarge",
    "vcpuNum": 4
   },
   {
    "_defaultOrder": 41,
    "_isFastLaunch": false,
    "category": "Memory Optimized",
    "gpuNum": 0,
    "hideHardwareSpecs": false,
    "memoryGiB": 64,
    "name": "ml.r5.2xlarge",
    "vcpuNum": 8
   },
   {
    "_defaultOrder": 42,
    "_isFastLaunch": false,
    "category": "Memory Optimized",
    "gpuNum": 0,
    "hideHardwareSpecs": false,
    "memoryGiB": 128,
    "name": "ml.r5.4xlarge",
    "vcpuNum": 16
   },
   {
    "_defaultOrder": 43,
    "_isFastLaunch": false,
    "category": "Memory Optimized",
    "gpuNum": 0,
    "hideHardwareSpecs": false,
    "memoryGiB": 256,
    "name": "ml.r5.8xlarge",
    "vcpuNum": 32
   },
   {
    "_defaultOrder": 44,
    "_isFastLaunch": false,
    "category": "Memory Optimized",
    "gpuNum": 0,
    "hideHardwareSpecs": false,
    "memoryGiB": 384,
    "name": "ml.r5.12xlarge",
    "vcpuNum": 48
   },
   {
    "_defaultOrder": 45,
    "_isFastLaunch": false,
    "category": "Memory Optimized",
    "gpuNum": 0,
    "hideHardwareSpecs": false,
    "memoryGiB": 512,
    "name": "ml.r5.16xlarge",
    "vcpuNum": 64
   },
   {
    "_defaultOrder": 46,
    "_isFastLaunch": false,
    "category": "Memory Optimized",
    "gpuNum": 0,
    "hideHardwareSpecs": false,
    "memoryGiB": 768,
    "name": "ml.r5.24xlarge",
    "vcpuNum": 96
   },
   {
    "_defaultOrder": 47,
    "_isFastLaunch": false,
    "category": "Accelerated computing",
    "gpuNum": 1,
    "hideHardwareSpecs": false,
    "memoryGiB": 16,
    "name": "ml.g5.xlarge",
    "vcpuNum": 4
   },
   {
    "_defaultOrder": 48,
    "_isFastLaunch": false,
    "category": "Accelerated computing",
    "gpuNum": 1,
    "hideHardwareSpecs": false,
    "memoryGiB": 32,
    "name": "ml.g5.2xlarge",
    "vcpuNum": 8
   },
   {
    "_defaultOrder": 49,
    "_isFastLaunch": false,
    "category": "Accelerated computing",
    "gpuNum": 1,
    "hideHardwareSpecs": false,
    "memoryGiB": 64,
    "name": "ml.g5.4xlarge",
    "vcpuNum": 16
   },
   {
    "_defaultOrder": 50,
    "_isFastLaunch": false,
    "category": "Accelerated computing",
    "gpuNum": 1,
    "hideHardwareSpecs": false,
    "memoryGiB": 128,
    "name": "ml.g5.8xlarge",
    "vcpuNum": 32
   },
   {
    "_defaultOrder": 51,
    "_isFastLaunch": false,
    "category": "Accelerated computing",
    "gpuNum": 1,
    "hideHardwareSpecs": false,
    "memoryGiB": 256,
    "name": "ml.g5.16xlarge",
    "vcpuNum": 64
   },
   {
    "_defaultOrder": 52,
    "_isFastLaunch": false,
    "category": "Accelerated computing",
    "gpuNum": 4,
    "hideHardwareSpecs": false,
    "memoryGiB": 192,
    "name": "ml.g5.12xlarge",
    "vcpuNum": 48
   },
   {
    "_defaultOrder": 53,
    "_isFastLaunch": false,
    "category": "Accelerated computing",
    "gpuNum": 4,
    "hideHardwareSpecs": false,
    "memoryGiB": 384,
    "name": "ml.g5.24xlarge",
    "vcpuNum": 96
   },
   {
    "_defaultOrder": 54,
    "_isFastLaunch": false,
    "category": "Accelerated computing",
    "gpuNum": 8,
    "hideHardwareSpecs": false,
    "memoryGiB": 768,
    "name": "ml.g5.48xlarge",
    "vcpuNum": 192
   },
   {
    "_defaultOrder": 55,
    "_isFastLaunch": false,
    "category": "Accelerated computing",
    "gpuNum": 8,
    "hideHardwareSpecs": false,
    "memoryGiB": 1152,
    "name": "ml.p4d.24xlarge",
    "vcpuNum": 96
   },
   {
    "_defaultOrder": 56,
    "_isFastLaunch": false,
    "category": "Accelerated computing",
    "gpuNum": 8,
    "hideHardwareSpecs": false,
    "memoryGiB": 1152,
    "name": "ml.p4de.24xlarge",
    "vcpuNum": 96
   }
  ],
  "colab": {
   "gpuType": "T4",
   "provenance": []
  },
  "kernelspec": {
   "display_name": "Python 3 (PyTorch 2.0.0 Python 3.10 GPU Optimized)",
   "language": "python",
   "name": "python3__SAGEMAKER_INTERNAL__arn:aws:sagemaker:us-west-2:236514542706:image/pytorch-2.0.0-gpu-py310"
  },
  "language_info": {
   "codemirror_mode": {
    "name": "ipython",
    "version": 3
   },
   "file_extension": ".py",
   "mimetype": "text/x-python",
   "name": "python",
   "nbconvert_exporter": "python",
   "pygments_lexer": "ipython3",
   "version": "3.10.8"
  }
 },
 "nbformat": 4,
 "nbformat_minor": 4
}
