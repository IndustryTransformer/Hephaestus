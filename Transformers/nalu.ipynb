{
 "cells": [
  {
   "cell_type": "code",
   "execution_count": 1,
   "metadata": {},
   "outputs": [],
   "source": [
    "import torch\n",
    "\n",
    "\n",
    "# Generate dataset\n",
    "def generate_data(num_samples=1000):\n",
    "    a = torch.rand(num_samples, 1) * 10\n",
    "    b = torch.rand(num_samples, 1) * 10\n",
    "\n",
    "    add = a + b\n",
    "    sub = a - b\n",
    "    mul = a * b\n",
    "    div = a / b\n",
    "\n",
    "    inputs = torch.cat([a, b], dim=1)\n",
    "    outputs = torch.cat([add, sub, mul, div], dim=1)\n",
    "\n",
    "    return inputs, outputs\n",
    "\n",
    "\n",
    "X, y = generate_data()"
   ]
  },
  {
   "cell_type": "code",
   "execution_count": 5,
   "metadata": {},
   "outputs": [],
   "source": [
    "import torch.nn as nn\n",
    "import torch.nn.functional as F\n",
    "\n",
    "\n",
    "class NALU(nn.Module):\n",
    "    def __init__(self, input_dim, output_dim):\n",
    "        super(NALU, self).__init__()\n",
    "\n",
    "        self.G = nn.Parameter(torch.Tensor(input_dim, output_dim))\n",
    "        self.W = nn.Parameter(torch.Tensor(input_dim, output_dim))\n",
    "        self.M_hat = nn.Parameter(torch.Tensor(input_dim, output_dim))\n",
    "        self.N_hat = nn.Parameter(torch.Tensor(input_dim, output_dim))\n",
    "\n",
    "        self.register_parameter(\"G\", self.G)\n",
    "        self.register_parameter(\"W\", self.W)\n",
    "        self.register_parameter(\"M_hat\", self.M_hat)\n",
    "        self.register_parameter(\"N_hat\", self.N_hat)\n",
    "        self.reset_parameters()\n",
    "\n",
    "    def reset_parameters(self):\n",
    "        nn.init.xavier_uniform_(self.W)\n",
    "        nn.init.xavier_uniform_(self.M_hat)\n",
    "        nn.init.xavier_uniform_(self.N_hat)\n",
    "        nn.init.zeros_(self.G)\n",
    "\n",
    "    # def forward(self, input):\n",
    "    #     W = torch.tanh(self.W) * torch.sigmoid(self.M_hat)\n",
    "    #     G = torch.sigmoid(F.linear(input, self.G))\n",
    "    #     m = torch.exp(F.linear(torch.log(torch.abs(input) + 1e-10), W))\n",
    "    #     a = F.linear(input, W)\n",
    "    #     y = G * a + (1 - G) * m\n",
    "    #     return y\n",
    "    def forward(self, input):\n",
    "        W = torch.tanh(self.W) * torch.sigmoid(self.M_hat)\n",
    "        G = torch.sigmoid(input @ self.G)  # Using @ for matrix multiplication\n",
    "        m = torch.exp(input @ W)\n",
    "        a = input @ W\n",
    "        y = G * a + (1 - G) * m\n",
    "        return y"
   ]
  },
  {
   "cell_type": "code",
   "execution_count": 13,
   "metadata": {},
   "outputs": [],
   "source": [
    "class SimpleNALUNetwork(nn.Module):\n",
    "    def __init__(self, input_dim, hidden_dim, output_dim):\n",
    "        super(SimpleNALUNetwork, self).__init__()\n",
    "        self.nalu1 = NALU(input_dim, hidden_dim)\n",
    "        self.nalu2 = NALU(hidden_dim, output_dim)\n",
    "\n",
    "    def forward(self, x):\n",
    "        out = self.nalu1(x)\n",
    "        out = self.nalu2(out)\n",
    "        return out\n",
    "\n",
    "\n",
    "# model = SimpleNALUNetwork(2, 10, 4)\n",
    "model = SimpleNALUNetwork(2, 50, 4)"
   ]
  },
  {
   "cell_type": "code",
   "execution_count": 14,
   "metadata": {},
   "outputs": [
    {
     "data": {
      "text/plain": [
       "torch.Size([800, 2])"
      ]
     },
     "execution_count": 14,
     "metadata": {},
     "output_type": "execute_result"
    }
   ],
   "source": [
    "train_X.shape"
   ]
  },
  {
   "cell_type": "code",
   "execution_count": 36,
   "metadata": {},
   "outputs": [
    {
     "name": "stdout",
     "output_type": "stream",
     "text": [
      "Epoch 1000/10000, Loss: 0.04463537782430649\n",
      "Epoch 2000/10000, Loss: 0.04071627929806709\n",
      "Epoch 3000/10000, Loss: 0.03880450129508972\n",
      "Epoch 4000/10000, Loss: 0.036106228828430176\n",
      "Epoch 5000/10000, Loss: 0.033632658421993256\n",
      "Epoch 6000/10000, Loss: 0.03211185336112976\n",
      "Epoch 7000/10000, Loss: 0.03128601238131523\n",
      "Epoch 8000/10000, Loss: 0.029169518500566483\n",
      "Epoch 9000/10000, Loss: 0.028140854090452194\n",
      "Epoch 10000/10000, Loss: 0.028249789029359818\n"
     ]
    }
   ],
   "source": [
    "optimizer = torch.optim.RMSprop(model.parameters(), lr=0.0001)\n",
    "loss_func = nn.MSELoss()\n",
    "\n",
    "# Split data into training and testing\n",
    "train_size = int(0.8 * len(X))\n",
    "test_size = len(X) - train_size\n",
    "\n",
    "train_X, test_X = torch.split(X, [train_size, test_size])\n",
    "train_y, test_y = torch.split(y, [train_size, test_size])\n",
    "\n",
    "# Training loop\n",
    "num_epochs = 10000\n",
    "for epoch in range(num_epochs):\n",
    "    outputs = model(train_X)\n",
    "    loss = loss_func(outputs, train_y)\n",
    "\n",
    "    optimizer.zero_grad()\n",
    "    loss.backward()\n",
    "    optimizer.step()\n",
    "\n",
    "    if (epoch + 1) % 1000 == 0:\n",
    "        print(f\"Epoch {epoch+1}/{num_epochs}, Loss: {loss.item()}\")"
   ]
  },
  {
   "cell_type": "code",
   "execution_count": 21,
   "metadata": {},
   "outputs": [
    {
     "name": "stdout",
     "output_type": "stream",
     "text": [
      "Input Numbers: \n",
      "A: 6.00, B: 3.00\n",
      "\n",
      "Operations:\n",
      "Addition:\n",
      "\tExpected: 9.00\n",
      "\tPredicted: 8.96\n",
      "\n",
      "Subtraction:\n",
      "\tExpected: 3.00\n",
      "\tPredicted: 2.82\n",
      "\n",
      "Multiplication:\n",
      "\tExpected: 18.00\n",
      "\tPredicted: 17.71\n",
      "\n",
      "Division:\n",
      "\tExpected: 2.00\n",
      "\tPredicted: 2.33\n",
      "\n"
     ]
    }
   ],
   "source": [
    "def evaluate_arbitrary_numbers(model, A, B):\n",
    "    # Create input tensor from A and B\n",
    "    input_tensor = torch.Tensor([[A, B]])\n",
    "\n",
    "    # Calculate the expected outputs\n",
    "    add = A + B\n",
    "    sub = A - B\n",
    "    mul = A * B\n",
    "    div = A / B if B != 0 else float(\"inf\")  # Handle division by zero\n",
    "\n",
    "    true_output_tensor = torch.Tensor([[add, sub, mul, div]])\n",
    "\n",
    "    # Get the model's predictions\n",
    "    model.eval()\n",
    "    with torch.no_grad():\n",
    "        predicted_output = model(input_tensor)\n",
    "\n",
    "    # Print the results\n",
    "    print(\"Input Numbers: \")\n",
    "    print(\"A: {:.2f}, B: {:.2f}\".format(A, B))\n",
    "    print(\"\\nOperations:\")\n",
    "\n",
    "    operations = [\"Addition\", \"Subtraction\", \"Multiplication\", \"Division\"]\n",
    "    for op, true_val, pred_val in zip(\n",
    "        operations, true_output_tensor[0], predicted_output[0]\n",
    "    ):\n",
    "        print(f\"{op}:\\n\\tExpected: {true_val:.2f}\\n\\tPredicted: {pred_val:.2f}\\n\")\n",
    "\n",
    "\n",
    "# Example usage:\n",
    "evaluate_arbitrary_numbers(model, 6.0, 3.0)"
   ]
  },
  {
   "cell_type": "code",
   "execution_count": 25,
   "metadata": {},
   "outputs": [],
   "source": [
    "import torch.nn.functional as F\n",
    "\n",
    "\n",
    "class SimpleFeedForwardNN(torch.nn.Module):\n",
    "    def __init__(self, input_dim, hidden_dim, output_dim):\n",
    "        super(SimpleFeedForwardNN, self).__init__()\n",
    "\n",
    "        # Define the layers\n",
    "        self.fc1 = torch.nn.Linear(input_dim, hidden_dim)\n",
    "        self.fc2 = torch.nn.Linear(hidden_dim, output_dim)\n",
    "\n",
    "    def forward(self, x):\n",
    "        x = F.relu(self.fc1(x))  # Using ReLU activation function for hidden layer\n",
    "        x = self.fc2(x)\n",
    "        return x\n",
    "\n",
    "\n",
    "# Let's instantiate and train the model:\n",
    "\n",
    "input_dim = 2\n",
    "hidden_dim = 100  # You can adjust this value\n",
    "output_dim = 4\n",
    "\n",
    "# Instantiate the model\n",
    "ffnn_model = SimpleFeedForwardNN(input_dim, hidden_dim, output_dim)"
   ]
  },
  {
   "cell_type": "code",
   "execution_count": 46,
   "metadata": {},
   "outputs": [
    {
     "ename": "TypeError",
     "evalue": "super(type, obj): obj must be an instance or subtype of type",
     "output_type": "error",
     "traceback": [
      "\u001b[0;31m---------------------------------------------------------------------------\u001b[0m",
      "\u001b[0;31mTypeError\u001b[0m                                 Traceback (most recent call last)",
      "Cell \u001b[0;32mIn[46], line 27\u001b[0m\n\u001b[1;32m     24\u001b[0m output_dim \u001b[39m=\u001b[39m \u001b[39m4\u001b[39m\n\u001b[1;32m     26\u001b[0m \u001b[39m# Instantiate the model\u001b[39;00m\n\u001b[0;32m---> 27\u001b[0m efnn_model \u001b[39m=\u001b[39m EmbedFeedForwardNN(input_dim, hidden_dim, output_dim)\n",
      "Cell \u001b[0;32mIn[46], line 3\u001b[0m, in \u001b[0;36mEmbedFeedForwardNN.__init__\u001b[0;34m(self, input_dim, hidden_dim, output_dim, emb_dim)\u001b[0m\n\u001b[1;32m      2\u001b[0m \u001b[39mdef\u001b[39;00m \u001b[39m__init__\u001b[39m(\u001b[39mself\u001b[39m, input_dim, hidden_dim, output_dim, emb_dim\u001b[39m=\u001b[39m\u001b[39m20\u001b[39m):\n\u001b[0;32m----> 3\u001b[0m     \u001b[39msuper\u001b[39;49m(SimpleFeedForwardNN, \u001b[39mself\u001b[39;49m)\u001b[39m.\u001b[39m\u001b[39m__init__\u001b[39m()\n\u001b[1;32m      4\u001b[0m     emb \u001b[39m=\u001b[39m nn\u001b[39m.\u001b[39mSequential(\n\u001b[1;32m      5\u001b[0m         nn\u001b[39m.\u001b[39mLinear(input_dim, hidden_dim),\n\u001b[1;32m      6\u001b[0m         nn\u001b[39m.\u001b[39mReLU(),\n\u001b[1;32m      7\u001b[0m         nn\u001b[39m.\u001b[39mLinear(hidden_dim, emb_dim),\n\u001b[1;32m      8\u001b[0m     )\n\u001b[1;32m     10\u001b[0m     \u001b[39m# Define the layers\u001b[39;00m\n",
      "\u001b[0;31mTypeError\u001b[0m: super(type, obj): obj must be an instance or subtype of type"
     ]
    }
   ],
   "source": [
    "class EmbedFeedForwardNN(torch.nn.Module):\n",
    "    def __init__(self, input_dim, hidden_dim, output_dim, emb_dim=20):\n",
    "        super(SimpleFeedForwardNN, self).__init__()\n",
    "        emb = nn.Sequential(\n",
    "            nn.Linear(input_dim, hidden_dim),\n",
    "            nn.ReLU(),\n",
    "            nn.Linear(hidden_dim, emb_dim),\n",
    "        )\n",
    "\n",
    "        # Define the layers\n",
    "        self.fc1 = torch.nn.Linear(emb_dim, hidden_dim)\n",
    "        self.fc2 = torch.nn.Linear(hidden_dim, output_dim)\n",
    "\n",
    "    def forward(self, x):\n",
    "        x = F.relu(self.fc1(x))  # Using ReLU activation function for hidden layer\n",
    "        x = self.fc2(x)\n",
    "        return x\n",
    "\n",
    "\n",
    "# Let's instantiate and train the model:\n",
    "\n",
    "input_dim = 2\n",
    "hidden_dim = 100  # You can adjust this value\n",
    "output_dim = 4\n",
    "\n",
    "# Instantiate the model\n",
    "efnn_model = EmbedFeedForwardNN(input_dim, hidden_dim, output_dim)"
   ]
  },
  {
   "cell_type": "code",
   "execution_count": 26,
   "metadata": {},
   "outputs": [
    {
     "name": "stdout",
     "output_type": "stream",
     "text": [
      "Epoch 10000/100000, Loss: 4.013541221618652\n",
      "Epoch 20000/100000, Loss: 0.25719088315963745\n",
      "Epoch 30000/100000, Loss: 0.12887084484100342\n",
      "Epoch 40000/100000, Loss: 0.08110211789608002\n",
      "Epoch 50000/100000, Loss: 0.0392223596572876\n",
      "Epoch 60000/100000, Loss: 0.05254456028342247\n",
      "Epoch 70000/100000, Loss: 0.051144082099199295\n",
      "Epoch 80000/100000, Loss: 0.1144065409898758\n",
      "Epoch 90000/100000, Loss: 0.059087157249450684\n",
      "Epoch 100000/100000, Loss: 0.03847454860806465\n"
     ]
    }
   ],
   "source": [
    "# Loss and optimizer\n",
    "criterion = torch.nn.MSELoss()\n",
    "optimizer = torch.optim.RMSprop(ffnn_model.parameters(), lr=0.001)\n",
    "\n",
    "# Training loop, just as before\n",
    "num_epochs = 100000\n",
    "for epoch in range(num_epochs):\n",
    "    # Forward pass\n",
    "    outputs = ffnn_model(X)\n",
    "    loss = criterion(outputs, y)\n",
    "\n",
    "    # Backward pass and optimization\n",
    "    optimizer.zero_grad()\n",
    "    loss.backward()\n",
    "    optimizer.step()\n",
    "\n",
    "    if (epoch + 1) % 10000 == 0:\n",
    "        print(f\"Epoch {epoch+1}/{num_epochs}, Loss: {loss.item()}\")"
   ]
  },
  {
   "cell_type": "code",
   "execution_count": 37,
   "metadata": {},
   "outputs": [
    {
     "name": "stdout",
     "output_type": "stream",
     "text": [
      "Input Numbers: \n",
      "A: 200.00, B: 12.00\n",
      "\n",
      "Operations:\n",
      "Addition:\n",
      "\tExpected: 212.00\n",
      "\tPredicted: 204.94\n",
      "\n",
      "Subtraction:\n",
      "\tExpected: 188.00\n",
      "\tPredicted: 182.11\n",
      "\n",
      "Multiplication:\n",
      "\tExpected: 2400.00\n",
      "\tPredicted: 1180.43\n",
      "\n",
      "Division:\n",
      "\tExpected: 16.67\n",
      "\tPredicted: 78.56\n",
      "\n",
      "Input Numbers: \n",
      "A: 200.00, B: 12.00\n",
      "\n",
      "Operations:\n",
      "Addition:\n",
      "\tExpected: 212.00\n",
      "\tPredicted: inf\n",
      "\n",
      "Subtraction:\n",
      "\tExpected: 188.00\n",
      "\tPredicted: inf\n",
      "\n",
      "Multiplication:\n",
      "\tExpected: 2400.00\n",
      "\tPredicted: 0.00\n",
      "\n",
      "Division:\n",
      "\tExpected: 16.67\n",
      "\tPredicted: 0.00\n",
      "\n"
     ]
    }
   ],
   "source": [
    "a, b = 200.0, 12.0\n",
    "evaluate_arbitrary_numbers(ffnn_model, a, b)\n",
    "evaluate_arbitrary_numbers(model, a, b)"
   ]
  },
  {
   "cell_type": "code",
   "execution_count": 31,
   "metadata": {},
   "outputs": [
    {
     "data": {
      "text/plain": [
       "torch.Size([1000, 2])"
      ]
     },
     "execution_count": 31,
     "metadata": {},
     "output_type": "execute_result"
    }
   ],
   "source": [
    "X.shape"
   ]
  },
  {
   "cell_type": "code",
   "execution_count": 32,
   "metadata": {},
   "outputs": [
    {
     "data": {
      "text/plain": [
       "tensor(9.9979)"
      ]
     },
     "execution_count": 32,
     "metadata": {},
     "output_type": "execute_result"
    }
   ],
   "source": [
    "max(X[:, 0])"
   ]
  },
  {
   "cell_type": "code",
   "execution_count": 33,
   "metadata": {},
   "outputs": [
    {
     "data": {
      "text/plain": [
       "tensor([[3.2766, 4.5116],\n",
       "        [9.7308, 1.5936],\n",
       "        [5.1066, 3.4027],\n",
       "        ...,\n",
       "        [3.9201, 9.9845],\n",
       "        [5.4350, 1.6716],\n",
       "        [0.8284, 0.6871]])"
      ]
     },
     "execution_count": 33,
     "metadata": {},
     "output_type": "execute_result"
    }
   ],
   "source": [
    "X"
   ]
  },
  {
   "cell_type": "code",
   "execution_count": 40,
   "metadata": {},
   "outputs": [],
   "source": [
    "seq = nn.Sequential(nn.Linear(2, 100), nn.ReLU(), nn.Linear(100, 2))"
   ]
  },
  {
   "cell_type": "code",
   "execution_count": 42,
   "metadata": {},
   "outputs": [
    {
     "data": {
      "text/plain": [
       "torch.Size([1000, 2])"
      ]
     },
     "execution_count": 42,
     "metadata": {},
     "output_type": "execute_result"
    }
   ],
   "source": [
    "seq(X).shape"
   ]
  },
  {
   "cell_type": "code",
   "execution_count": 44,
   "metadata": {},
   "outputs": [
    {
     "data": {
      "text/plain": [
       "tensor([[3.2766, 4.5116],\n",
       "        [9.7308, 1.5936],\n",
       "        [5.1066, 3.4027],\n",
       "        [9.5233, 7.5495],\n",
       "        [7.3589, 1.2958]])"
      ]
     },
     "execution_count": 44,
     "metadata": {},
     "output_type": "execute_result"
    }
   ],
   "source": [
    "X[0:5, :]"
   ]
  },
  {
   "cell_type": "code",
   "execution_count": 45,
   "metadata": {},
   "outputs": [
    {
     "data": {
      "text/plain": [
       "tensor([[-0.6209, -2.2437],\n",
       "        [-2.0155, -2.2886],\n",
       "        [-1.0121, -2.2064],\n",
       "        [-1.7563, -4.4800],\n",
       "        [-1.5151, -1.8035]], grad_fn=<AddmmBackward0>)"
      ]
     },
     "execution_count": 45,
     "metadata": {},
     "output_type": "execute_result"
    }
   ],
   "source": [
    "seq(X[0:5, :])"
   ]
  },
  {
   "cell_type": "code",
   "execution_count": null,
   "metadata": {},
   "outputs": [],
   "source": []
  }
 ],
 "metadata": {
  "kernelspec": {
   "display_name": "pytorch",
   "language": "python",
   "name": "python3"
  },
  "language_info": {
   "codemirror_mode": {
    "name": "ipython",
    "version": 3
   },
   "file_extension": ".py",
   "mimetype": "text/x-python",
   "name": "python",
   "nbconvert_exporter": "python",
   "pygments_lexer": "ipython3",
   "version": "3.11.3"
  },
  "orig_nbformat": 4
 },
 "nbformat": 4,
 "nbformat_minor": 2
}
