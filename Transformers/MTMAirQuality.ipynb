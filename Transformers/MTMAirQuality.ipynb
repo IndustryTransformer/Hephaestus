{
 "cells": [
  {
   "cell_type": "code",
   "execution_count": 1,
   "metadata": {},
   "outputs": [],
   "source": [
    "# tensorboard --logdir='runs/'\n",
    "# %pip install seaborn"
   ]
  },
  {
   "cell_type": "code",
   "execution_count": 2,
   "metadata": {
    "tags": []
   },
   "outputs": [
    {
     "name": "stdout",
     "output_type": "stream",
     "text": [
      "(420768, 17)\n"
     ]
    },
    {
     "data": {
      "text/html": [
       "<div>\n",
       "<style scoped>\n",
       "    .dataframe tbody tr th:only-of-type {\n",
       "        vertical-align: middle;\n",
       "    }\n",
       "\n",
       "    .dataframe tbody tr th {\n",
       "        vertical-align: top;\n",
       "    }\n",
       "\n",
       "    .dataframe thead th {\n",
       "        text-align: right;\n",
       "    }\n",
       "</style>\n",
       "<table border=\"1\" class=\"dataframe\">\n",
       "  <thead>\n",
       "    <tr style=\"text-align: right;\">\n",
       "      <th></th>\n",
       "      <th>year</th>\n",
       "      <th>month</th>\n",
       "      <th>day</th>\n",
       "      <th>hour</th>\n",
       "      <th>pm2_5</th>\n",
       "      <th>pm10</th>\n",
       "      <th>so2</th>\n",
       "      <th>no2</th>\n",
       "      <th>co</th>\n",
       "      <th>o3</th>\n",
       "      <th>temp</th>\n",
       "      <th>pres</th>\n",
       "      <th>dewp</th>\n",
       "      <th>rain</th>\n",
       "      <th>wd</th>\n",
       "      <th>wspm</th>\n",
       "      <th>station</th>\n",
       "    </tr>\n",
       "  </thead>\n",
       "  <tbody>\n",
       "    <tr>\n",
       "      <th>0</th>\n",
       "      <td>2013</td>\n",
       "      <td>3</td>\n",
       "      <td>1</td>\n",
       "      <td>0</td>\n",
       "      <td>6.0</td>\n",
       "      <td>18.0</td>\n",
       "      <td>5.0</td>\n",
       "      <td>NaN</td>\n",
       "      <td>800.0</td>\n",
       "      <td>88.0</td>\n",
       "      <td>0.1</td>\n",
       "      <td>1021.1</td>\n",
       "      <td>-18.6</td>\n",
       "      <td>0.0</td>\n",
       "      <td>NW</td>\n",
       "      <td>4.4</td>\n",
       "      <td>Gucheng</td>\n",
       "    </tr>\n",
       "    <tr>\n",
       "      <th>1</th>\n",
       "      <td>2013</td>\n",
       "      <td>3</td>\n",
       "      <td>1</td>\n",
       "      <td>0</td>\n",
       "      <td>7.0</td>\n",
       "      <td>7.0</td>\n",
       "      <td>3.0</td>\n",
       "      <td>2.0</td>\n",
       "      <td>100.0</td>\n",
       "      <td>91.0</td>\n",
       "      <td>-2.3</td>\n",
       "      <td>1020.3</td>\n",
       "      <td>-20.7</td>\n",
       "      <td>0.0</td>\n",
       "      <td>WNW</td>\n",
       "      <td>3.1</td>\n",
       "      <td>Huairou</td>\n",
       "    </tr>\n",
       "    <tr>\n",
       "      <th>2</th>\n",
       "      <td>2013</td>\n",
       "      <td>3</td>\n",
       "      <td>1</td>\n",
       "      <td>0</td>\n",
       "      <td>6.0</td>\n",
       "      <td>6.0</td>\n",
       "      <td>4.0</td>\n",
       "      <td>8.0</td>\n",
       "      <td>300.0</td>\n",
       "      <td>81.0</td>\n",
       "      <td>-0.5</td>\n",
       "      <td>1024.5</td>\n",
       "      <td>-21.4</td>\n",
       "      <td>0.0</td>\n",
       "      <td>NNW</td>\n",
       "      <td>5.7</td>\n",
       "      <td>Tiantan</td>\n",
       "    </tr>\n",
       "    <tr>\n",
       "      <th>3</th>\n",
       "      <td>2013</td>\n",
       "      <td>3</td>\n",
       "      <td>1</td>\n",
       "      <td>0</td>\n",
       "      <td>3.0</td>\n",
       "      <td>6.0</td>\n",
       "      <td>13.0</td>\n",
       "      <td>7.0</td>\n",
       "      <td>300.0</td>\n",
       "      <td>85.0</td>\n",
       "      <td>-2.3</td>\n",
       "      <td>1020.8</td>\n",
       "      <td>-19.7</td>\n",
       "      <td>0.0</td>\n",
       "      <td>E</td>\n",
       "      <td>0.5</td>\n",
       "      <td>Changping</td>\n",
       "    </tr>\n",
       "    <tr>\n",
       "      <th>4</th>\n",
       "      <td>2013</td>\n",
       "      <td>3</td>\n",
       "      <td>1</td>\n",
       "      <td>0</td>\n",
       "      <td>4.0</td>\n",
       "      <td>4.0</td>\n",
       "      <td>14.0</td>\n",
       "      <td>20.0</td>\n",
       "      <td>300.0</td>\n",
       "      <td>69.0</td>\n",
       "      <td>-0.7</td>\n",
       "      <td>1023.0</td>\n",
       "      <td>-18.8</td>\n",
       "      <td>0.0</td>\n",
       "      <td>NNW</td>\n",
       "      <td>4.4</td>\n",
       "      <td>Guanyuan</td>\n",
       "    </tr>\n",
       "  </tbody>\n",
       "</table>\n",
       "</div>"
      ],
      "text/plain": [
       "   year  month  day  hour  pm2_5  pm10   so2   no2     co    o3  temp    pres  \\\n",
       "0  2013      3    1     0    6.0  18.0   5.0   NaN  800.0  88.0   0.1  1021.1   \n",
       "1  2013      3    1     0    7.0   7.0   3.0   2.0  100.0  91.0  -2.3  1020.3   \n",
       "2  2013      3    1     0    6.0   6.0   4.0   8.0  300.0  81.0  -0.5  1024.5   \n",
       "3  2013      3    1     0    3.0   6.0  13.0   7.0  300.0  85.0  -2.3  1020.8   \n",
       "4  2013      3    1     0    4.0   4.0  14.0  20.0  300.0  69.0  -0.7  1023.0   \n",
       "\n",
       "   dewp  rain   wd  wspm    station  \n",
       "0 -18.6   0.0   NW   4.4    Gucheng  \n",
       "1 -20.7   0.0  WNW   3.1    Huairou  \n",
       "2 -21.4   0.0  NNW   5.7    Tiantan  \n",
       "3 -19.7   0.0    E   0.5  Changping  \n",
       "4 -18.8   0.0  NNW   4.4   Guanyuan  "
      ]
     },
     "execution_count": 2,
     "metadata": {},
     "output_type": "execute_result"
    }
   ],
   "source": [
    "from datetime import datetime as dt\n",
    "from itertools import chain\n",
    "import os\n",
    "import numpy as np\n",
    "import pandas as pd\n",
    "import torch\n",
    "\n",
    "from tqdm.notebook import tqdm, trange\n",
    "from torch.utils.tensorboard import SummaryWriter\n",
    "import matplotlib.pyplot as plt\n",
    "import seaborn as sns\n",
    "import hephaestus as hp\n",
    "\n",
    "\n",
    "torch.manual_seed(4242)\n",
    "# Load and preprocess the dataset (assuming you have a CSV file)\n",
    "csvs = [\n",
    "    os.path.join(\"../data/air_quality/\", f)\n",
    "    for f in os.listdir(\"../data/air_quality/\")\n",
    "    if f.endswith(\".csv\")\n",
    "]\n",
    "dfs = [pd.read_csv(csv) for csv in csvs]\n",
    "df = pd.concat(dfs, ignore_index=True)\n",
    "del dfs\n",
    "df = (\n",
    "    df.sort_values([\"year\", \"month\", \"day\", \"hour\"])\n",
    "    .reset_index(drop=True)\n",
    "    .drop(\"No\", axis=1)\n",
    ")\n",
    "# replace . and lower case column names\n",
    "df.columns = [c.replace(\".\", \"_\").lower() for c in df.columns]\n",
    "print(df.shape)\n",
    "df.head()"
   ]
  },
  {
   "cell_type": "code",
   "execution_count": 3,
   "metadata": {},
   "outputs": [],
   "source": [
    "dataset = hp.TabularDS(df, target_column=\"pm2_5\")"
   ]
  },
  {
   "cell_type": "code",
   "execution_count": 4,
   "metadata": {},
   "outputs": [
    {
     "data": {
      "text/plain": [
       "['year',\n",
       " 'month',\n",
       " 'day',\n",
       " 'hour',\n",
       " 'pm10',\n",
       " 'so2',\n",
       " 'no2',\n",
       " 'co',\n",
       " 'o3',\n",
       " 'temp',\n",
       " 'pres',\n",
       " 'dewp',\n",
       " 'rain',\n",
       " 'wspm']"
      ]
     },
     "execution_count": 4,
     "metadata": {},
     "output_type": "execute_result"
    }
   ],
   "source": [
    "dataset.numeric_columns"
   ]
  },
  {
   "cell_type": "code",
   "execution_count": null,
   "metadata": {},
   "outputs": [],
   "source": []
  },
  {
   "cell_type": "code",
   "execution_count": 5,
   "metadata": {
    "tags": []
   },
   "outputs": [
    {
     "data": {
      "text/plain": [
       "torch.Tensor"
      ]
     },
     "execution_count": 5,
     "metadata": {},
     "output_type": "execute_result"
    }
   ],
   "source": [
    "model = hp.TabTransformer(dataset, n_heads=8).to(dataset.device)\n",
    "dataset.X_train_numeric[dataset.X_train_numeric.isnan()] = float(\"-inf\")\n",
    "dataset.X_train_categorical[dataset.X_train_categorical.isnan()] = model.cat_mask_token\n",
    "dataset.X_train_numeric.isnan().sum(), dataset.X_train_categorical.isnan().sum()\n",
    "\n",
    "dataset.X_test_numeric[dataset.X_test_numeric.isnan()] = float(\"-inf\")\n",
    "dataset.X_test_categorical[dataset.X_test_categorical.isnan()] = model.cat_mask_token\n",
    "\n",
    "\n",
    "batch_size = 20\n",
    "test_num = dataset.X_train_numeric[0:batch_size, :]\n",
    "test_num_mask = hp.mask_tensor(test_num, model, probability=1.1)\n",
    "test_cat = dataset.X_test_categorical[0:batch_size, :]\n",
    "test_cat_mask = hp.mask_tensor(test_cat, model, probability=1.1)\n",
    "type(test_num)"
   ]
  },
  {
   "cell_type": "code",
   "execution_count": 6,
   "metadata": {},
   "outputs": [
    {
     "data": {
      "text/plain": [
       "(torch.Size([20, 16, 49]), torch.Size([20, 14]))"
      ]
     },
     "execution_count": 6,
     "metadata": {},
     "output_type": "execute_result"
    }
   ],
   "source": [
    "with torch.no_grad():\n",
    "    x = model(\n",
    "        test_num_mask,\n",
    "        test_cat_mask,\n",
    "        task=\"mlm\",\n",
    "    )\n",
    "x[0].shape, x[1].shape"
   ]
  },
  {
   "cell_type": "code",
   "execution_count": 7,
   "metadata": {},
   "outputs": [
    {
     "data": {
      "text/plain": [
       "tensor([[ 1.1798,  0.5488,  0.2637, -0.1952, -0.9290, -0.1461, -0.3476, -1.2766,\n",
       "         -1.0895,  0.1979, -2.1982,  0.3288, -0.3675,  0.5307],\n",
       "        [ 1.5483,  0.1326,  0.2363, -0.1131, -0.6208,  0.2965, -1.0059, -1.3336,\n",
       "         -1.2137, -0.3197, -2.7493, -0.1424, -0.4035,  0.5196],\n",
       "        [ 1.7273,  0.4238,  0.3863,  0.1796, -0.7903,  0.5092, -0.7089, -1.3981,\n",
       "         -1.6234, -0.2466, -2.6242,  0.0467, -0.9138,  0.2913],\n",
       "        [ 2.0501,  1.1388, -0.2752,  0.5994, -1.1435,  0.0486,  0.2903, -1.5069,\n",
       "         -1.4880,  0.1831, -1.5231, -0.2790, -0.4074,  0.2653],\n",
       "        [ 2.3042,  0.7484, -0.5110,  0.1203, -1.0352,  0.0061,  0.2014, -1.8373,\n",
       "         -1.3099, -0.1475, -2.0049, -0.3281,  0.1531,  0.4484],\n",
       "        [ 1.7410,  0.7021, -0.3450, -0.2107, -0.5531,  0.0479,  0.1705, -1.4599,\n",
       "         -1.0106, -0.2359, -1.8376, -0.2057, -0.2464,  0.8174],\n",
       "        [ 1.4260,  0.3946,  0.2910, -0.3929, -0.7721,  0.4343, -0.2034, -1.9899,\n",
       "         -1.5452,  0.0761, -2.2827, -0.0058,  0.0113,  0.6248],\n",
       "        [ 1.3457,  0.6018,  0.0187, -0.0673, -0.6078, -0.1075, -0.6270, -1.3240,\n",
       "         -1.1045,  0.0494, -1.8097, -0.0084, -0.4586,  0.3608],\n",
       "        [ 1.9125,  0.5474,  0.1761, -0.4750, -1.0399,  0.2969, -0.5071, -1.5992,\n",
       "         -1.2922, -0.2056, -2.0609, -0.4482, -0.1998,  0.7238],\n",
       "        [ 1.8033,  0.5605,  0.0520,  0.0356, -1.1972,  0.2098, -0.1122, -1.7739,\n",
       "         -1.1278,  0.0566, -1.7833, -0.0544,  0.1927,  0.5115],\n",
       "        [ 1.7007,  0.7387, -0.0086,  0.1573, -1.1496,  0.0427, -0.3184, -1.2390,\n",
       "         -1.1101, -0.0363, -1.8543, -0.0930, -0.1065,  0.6176],\n",
       "        [ 2.2704,  1.5249, -0.5169,  0.6599, -1.2172, -0.2112,  0.2749, -1.2086,\n",
       "         -1.3997,  0.2648, -1.5181, -0.1069, -0.6186,  0.2335],\n",
       "        [ 2.0749,  1.2696,  0.3555,  0.4255, -1.5953,  0.1506,  0.4965, -1.6203,\n",
       "         -1.4682,  0.5394, -1.5895, -0.4895,  0.0620,  0.4419],\n",
       "        [ 1.7405,  0.5523,  0.3555,  0.1073, -0.8369,  0.4359, -0.7473, -1.3986,\n",
       "         -1.7238,  0.3345, -1.9776, -0.2481, -0.6670,  0.3624],\n",
       "        [ 1.4039,  0.8515, -0.3002,  0.2904, -0.7749, -0.1962,  0.0927, -1.6851,\n",
       "         -1.4107,  0.3621, -1.6640, -0.1572, -0.3317,  0.2496],\n",
       "        [ 1.7980,  0.1406,  0.4023, -0.3351, -0.7729,  0.4984, -0.7218, -1.6332,\n",
       "         -1.3559, -0.3478, -2.3398,  0.0291, -0.3856,  0.7234],\n",
       "        [ 1.9957,  1.1447, -0.5783,  0.3442, -0.7883, -0.0374, -0.0121, -1.4919,\n",
       "         -1.0338,  0.4273, -1.6109, -0.3081, -0.4564,  0.3329],\n",
       "        [ 1.3410,  0.7154,  0.2393, -0.0069, -1.1877,  0.0426, -0.4928, -0.9445,\n",
       "         -1.0582,  0.0856, -1.8448,  0.1942, -0.1745,  0.6222],\n",
       "        [ 1.6261,  0.4667,  0.1538, -0.2285, -1.0213,  0.1431, -0.2815, -1.5443,\n",
       "         -0.9217,  0.1928, -1.9350, -0.5408,  0.5633,  0.6155],\n",
       "        [ 1.6310,  0.4342, -0.0973, -0.0417, -0.5401, -0.0690, -0.5164, -0.9381,\n",
       "         -0.8368, -0.0950, -1.7910, -0.1003, -0.0733,  0.5372]])"
      ]
     },
     "execution_count": 7,
     "metadata": {},
     "output_type": "execute_result"
    }
   ],
   "source": [
    "with torch.no_grad():\n",
    "    x = model(\n",
    "        test_num_mask,\n",
    "        test_cat_mask,\n",
    "        task=\"mlm\",\n",
    "    )\n",
    "x[0].shape, x[1].shape\n",
    "x[1]"
   ]
  },
  {
   "cell_type": "code",
   "execution_count": 8,
   "metadata": {},
   "outputs": [],
   "source": [
    "board_writer = SummaryWriter(log_dir=\"runs/ModelGraph/first_graph\")\n",
    "board_writer.add_graph(model, (test_num_mask, test_cat_mask))"
   ]
  },
  {
   "cell_type": "code",
   "execution_count": 9,
   "metadata": {},
   "outputs": [],
   "source": [
    "# hp.show_mask_pred(0, model, dataset, probability=0.8)"
   ]
  },
  {
   "cell_type": "code",
   "execution_count": 10,
   "metadata": {},
   "outputs": [
    {
     "name": "stderr",
     "output_type": "stream",
     "text": [
      "rm: ./models/inf2nan.pt: No such file or directory\n"
     ]
    }
   ],
   "source": [
    "# Masked Tabular Modeling\n",
    "base_model_name = \"air_quality\"\n",
    "\n",
    "model_time = dt.now()\n",
    "model_time = model_time.strftime(\"%Y-%m-%dT%H:%M:%S\")\n",
    "model_name = f\"{base_model_name}_{model_time}\"\n",
    "\n",
    "model_save_path = \"./models/inf2nan.pt\"\n",
    "remove_old_checkpoints = True\n",
    "if remove_old_checkpoints:\n",
    "    os.system(f\"rm {model_save_path}\")"
   ]
  },
  {
   "cell_type": "code",
   "execution_count": 12,
   "metadata": {},
   "outputs": [
    {
     "name": "stdout",
     "output_type": "stream",
     "text": [
      "Model does not exist\n"
     ]
    },
    {
     "data": {
      "application/vnd.jupyter.widget-view+json": {
       "model_id": "b1f1c4794dea48e7872c1eb9801b2898",
       "version_major": 2,
       "version_minor": 0
      },
      "text/plain": [
       "Epochs:   0%|          | 0/2 [00:00<?, ?it/s]"
      ]
     },
     "metadata": {},
     "output_type": "display_data"
    }
   ],
   "source": [
    "model_list = os.listdir(\"./models\")\n",
    "if model_save_path.split(\"/\")[-1] in model_list:\n",
    "    print(\"Model already exists\")\n",
    "    model_exists = True\n",
    "else:\n",
    "    print(\"Model does not exist\")\n",
    "    model_exists = False\n",
    "\n",
    "if model_exists:\n",
    "    model.load_state_dict(torch.load(model_save_path))\n",
    "    # model = torch.compile(model)\n",
    "else:\n",
    "    # model = torch.compile(model)\n",
    "    hp.mtm(\n",
    "        model,\n",
    "        dataset,\n",
    "        model_name,\n",
    "        epochs=20,\n",
    "        batch_size=1000,\n",
    "        lr=0.001,\n",
    "        patience=20,\n",
    "        training_size=None,\n",
    "    )\n",
    "    # torch.save(model.state_dict(), model_save_path)"
   ]
  },
  {
   "cell_type": "code",
   "execution_count": 13,
   "metadata": {},
   "outputs": [
    {
     "data": {
      "text/plain": [
       "tensor([ 0.4670,  0.4962, -0.5469, -0.4973, -0.3508, -0.1660, -1.1573,  0.2517,\n",
       "        -0.0600, -0.1373, -0.2246,  0.5721,  0.5849,  0.2348])"
      ]
     },
     "execution_count": 13,
     "metadata": {},
     "output_type": "execute_result"
    }
   ],
   "source": [
    "with torch.no_grad():\n",
    "    x = model(\n",
    "        test_num_mask,\n",
    "        test_cat_mask,\n",
    "        task=\"mlm\",\n",
    "    )\n",
    "x[0].shape, x[1].shape\n",
    "x[1][0]"
   ]
  },
  {
   "cell_type": "code",
   "execution_count": null,
   "metadata": {},
   "outputs": [],
   "source": []
  },
  {
   "cell_type": "code",
   "execution_count": 12,
   "metadata": {
    "tags": []
   },
   "outputs": [],
   "source": [
    "# regression_performance = hp.fine_tune_model(\n",
    "#     model, dataset, model_name=\"FT100\", n_rows=100, epochs=100\n",
    "# )\n",
    "# regression_performance Epoch 200/200 Loss: 0.4529 Test Loss: 0.7390 Early Stopping: 8/40: 100%"
   ]
  },
  {
   "cell_type": "code",
   "execution_count": 13,
   "metadata": {},
   "outputs": [],
   "source": [
    "n_train_rows = [\n",
    "    # 10,\n",
    "    100,\n",
    "    1_000,\n",
    "    2_000,\n",
    "    5_000,\n",
    "    10_000,\n",
    "    15_000,\n",
    "    30_000,\n",
    "    # 40_000,\n",
    "    dataset.X_train.shape[0],\n",
    "]"
   ]
  },
  {
   "cell_type": "code",
   "execution_count": 14,
   "metadata": {},
   "outputs": [],
   "source": [
    "def train_multiple_sizes(pt_model_path, dataset, n_train_rows, n_epochs=100):\n",
    "    model = hp.TabTransformer(dataset, n_heads=8).to(dataset.device)\n",
    "    if pt_model_path is not None:\n",
    "        model.load_state_dict(torch.load(pt_model_path))\n",
    "\n",
    "    regression_performance = hp.fine_tune_model(\n",
    "        model,\n",
    "        dataset,\n",
    "        model_name=f\"ft_{n_train_rows}\",\n",
    "        n_rows=n_train_rows,\n",
    "        epochs=n_epochs,\n",
    "        patience=20,\n",
    "    )\n",
    "\n",
    "    return regression_performance"
   ]
  },
  {
   "cell_type": "code",
   "execution_count": 15,
   "metadata": {},
   "outputs": [
    {
     "data": {
      "application/vnd.jupyter.widget-view+json": {
       "model_id": "de4d8dd9b24b48b18d2bb979be59c10e",
       "version_major": 2,
       "version_minor": 0
      },
      "text/plain": [
       "  0%|          | 0/8 [00:00<?, ?it/s]"
      ]
     },
     "metadata": {},
     "output_type": "display_data"
    },
    {
     "data": {
      "application/vnd.jupyter.widget-view+json": {
       "model_id": "dc7e95b84b004f98bbc494733d5d04b3",
       "version_major": 2,
       "version_minor": 0
      },
      "text/plain": [
       "Epochs, Model: ft_100_100_2023-09-12T06:35:25:   0%|          | 0/250 [00:00<?, ?it/s]"
      ]
     },
     "metadata": {},
     "output_type": "display_data"
    }
   ],
   "source": [
    "hephaestus_results_no_pre_train = []\n",
    "pbar = tqdm(n_train_rows)\n",
    "for i in pbar:\n",
    "    pbar.set_description(f\"n_rows: {i}\")\n",
    "    loss = train_multiple_sizes(None, dataset, i, n_epochs=250)\n",
    "    hephaestus_results_no_pre_train.append(loss)"
   ]
  },
  {
   "cell_type": "code",
   "execution_count": null,
   "metadata": {},
   "outputs": [
    {
     "data": {
      "text/html": [
       "<div>\n",
       "<style scoped>\n",
       "    .dataframe tbody tr th:only-of-type {\n",
       "        vertical-align: middle;\n",
       "    }\n",
       "\n",
       "    .dataframe tbody tr th {\n",
       "        vertical-align: top;\n",
       "    }\n",
       "\n",
       "    .dataframe thead th {\n",
       "        text-align: right;\n",
       "    }\n",
       "</style>\n",
       "<table border=\"1\" class=\"dataframe\">\n",
       "  <thead>\n",
       "    <tr style=\"text-align: right;\">\n",
       "      <th></th>\n",
       "      <th>n_rows</th>\n",
       "      <th>test_loss</th>\n",
       "      <th>model</th>\n",
       "    </tr>\n",
       "  </thead>\n",
       "  <tbody>\n",
       "    <tr>\n",
       "      <th>0</th>\n",
       "      <td>100</td>\n",
       "      <td>2.690443e+06</td>\n",
       "      <td>Hephaestus No Fine Tune</td>\n",
       "    </tr>\n",
       "    <tr>\n",
       "      <th>1</th>\n",
       "      <td>1000</td>\n",
       "      <td>5.346514e+05</td>\n",
       "      <td>Hephaestus No Fine Tune</td>\n",
       "    </tr>\n",
       "    <tr>\n",
       "      <th>2</th>\n",
       "      <td>2000</td>\n",
       "      <td>5.318304e+05</td>\n",
       "      <td>Hephaestus No Fine Tune</td>\n",
       "    </tr>\n",
       "    <tr>\n",
       "      <th>3</th>\n",
       "      <td>5000</td>\n",
       "      <td>5.070860e+05</td>\n",
       "      <td>Hephaestus No Fine Tune</td>\n",
       "    </tr>\n",
       "    <tr>\n",
       "      <th>4</th>\n",
       "      <td>10000</td>\n",
       "      <td>4.101758e+05</td>\n",
       "      <td>Hephaestus No Fine Tune</td>\n",
       "    </tr>\n",
       "    <tr>\n",
       "      <th>5</th>\n",
       "      <td>15000</td>\n",
       "      <td>3.617002e+05</td>\n",
       "      <td>Hephaestus No Fine Tune</td>\n",
       "    </tr>\n",
       "    <tr>\n",
       "      <th>6</th>\n",
       "      <td>30000</td>\n",
       "      <td>3.321468e+05</td>\n",
       "      <td>Hephaestus No Fine Tune</td>\n",
       "    </tr>\n",
       "    <tr>\n",
       "      <th>7</th>\n",
       "      <td>43152</td>\n",
       "      <td>3.079014e+05</td>\n",
       "      <td>Hephaestus No Fine Tune</td>\n",
       "    </tr>\n",
       "  </tbody>\n",
       "</table>\n",
       "</div>"
      ],
      "text/plain": [
       "   n_rows     test_loss                    model\n",
       "0     100  2.690443e+06  Hephaestus No Fine Tune\n",
       "1    1000  5.346514e+05  Hephaestus No Fine Tune\n",
       "2    2000  5.318304e+05  Hephaestus No Fine Tune\n",
       "3    5000  5.070860e+05  Hephaestus No Fine Tune\n",
       "4   10000  4.101758e+05  Hephaestus No Fine Tune\n",
       "5   15000  3.617002e+05  Hephaestus No Fine Tune\n",
       "6   30000  3.321468e+05  Hephaestus No Fine Tune\n",
       "7   43152  3.079014e+05  Hephaestus No Fine Tune"
      ]
     },
     "execution_count": 15,
     "metadata": {},
     "output_type": "execute_result"
    }
   ],
   "source": [
    "no_pt_df = pd.DataFrame(hephaestus_results_no_pre_train)\n",
    "no_pt_df[\"model\"] = \"Hephaestus No Fine Tune\"\n",
    "no_pt_df"
   ]
  },
  {
   "cell_type": "code",
   "execution_count": null,
   "metadata": {},
   "outputs": [],
   "source": [
    "# loss = regression_performance = hp.fine_tune_model(\n",
    "#     model,\n",
    "#     dataset,\n",
    "#     model_name=f\"ft_{n_train_rows}\",\n",
    "#     n_rows=1000,\n",
    "#     epochs=150,\n",
    "#     early_stop=True,\n",
    "# )\n",
    "# loss  # 15_629_481.0"
   ]
  },
  {
   "cell_type": "code",
   "execution_count": null,
   "metadata": {},
   "outputs": [],
   "source": []
  },
  {
   "cell_type": "code",
   "execution_count": null,
   "metadata": {},
   "outputs": [
    {
     "data": {
      "application/vnd.jupyter.widget-view+json": {
       "model_id": "f4ab173bc393411798ff46421eae8d74",
       "version_major": 2,
       "version_minor": 0
      },
      "text/plain": [
       "  0%|          | 0/8 [00:00<?, ?it/s]"
      ]
     },
     "metadata": {},
     "output_type": "display_data"
    },
    {
     "data": {
      "application/vnd.jupyter.widget-view+json": {
       "model_id": "b1017b5c7d374e9b92f53fbcf81372b6",
       "version_major": 2,
       "version_minor": 0
      },
      "text/plain": [
       "Epochs, Model: ft_100_100_2023-09-11T07:20:11:   0%|          | 0/250 [00:00<?, ?it/s]"
      ]
     },
     "metadata": {},
     "output_type": "display_data"
    },
    {
     "data": {
      "application/vnd.jupyter.widget-view+json": {
       "model_id": "0c369ef6d6f2452eb6b565a8be8ed6fc",
       "version_major": 2,
       "version_minor": 0
      },
      "text/plain": [
       "Epochs, Model: ft_1000_1000_2023-09-11T07:20:34:   0%|          | 0/250 [00:00<?, ?it/s]"
      ]
     },
     "metadata": {},
     "output_type": "display_data"
    },
    {
     "data": {
      "application/vnd.jupyter.widget-view+json": {
       "model_id": "36049b437d6b4c5eabf71089acd64510",
       "version_major": 2,
       "version_minor": 0
      },
      "text/plain": [
       "Epochs, Model: ft_2000_2000_2023-09-11T07:20:58:   0%|          | 0/250 [00:00<?, ?it/s]"
      ]
     },
     "metadata": {},
     "output_type": "display_data"
    },
    {
     "data": {
      "application/vnd.jupyter.widget-view+json": {
       "model_id": "879c2ec343fa40ed8406e7f8b371b038",
       "version_major": 2,
       "version_minor": 0
      },
      "text/plain": [
       "Epochs, Model: ft_5000_5000_2023-09-11T07:21:17:   0%|          | 0/250 [00:00<?, ?it/s]"
      ]
     },
     "metadata": {},
     "output_type": "display_data"
    },
    {
     "data": {
      "application/vnd.jupyter.widget-view+json": {
       "model_id": "74e053f2ae4d4e778b9d5fd2740751ec",
       "version_major": 2,
       "version_minor": 0
      },
      "text/plain": [
       "Epochs, Model: ft_10000_10000_2023-09-11T07:21:36:   0%|          | 0/250 [00:00<?, ?it/s]"
      ]
     },
     "metadata": {},
     "output_type": "display_data"
    },
    {
     "data": {
      "application/vnd.jupyter.widget-view+json": {
       "model_id": "b874e49dc4ef42f693a39e8cbed24331",
       "version_major": 2,
       "version_minor": 0
      },
      "text/plain": [
       "Epochs, Model: ft_15000_15000_2023-09-11T07:22:14:   0%|          | 0/250 [00:00<?, ?it/s]"
      ]
     },
     "metadata": {},
     "output_type": "display_data"
    },
    {
     "data": {
      "application/vnd.jupyter.widget-view+json": {
       "model_id": "a95a3cac88dc4bee810e8e63c29656f6",
       "version_major": 2,
       "version_minor": 0
      },
      "text/plain": [
       "Epochs, Model: ft_30000_30000_2023-09-11T07:23:19:   0%|          | 0/250 [00:00<?, ?it/s]"
      ]
     },
     "metadata": {},
     "output_type": "display_data"
    },
    {
     "data": {
      "application/vnd.jupyter.widget-view+json": {
       "model_id": "464ebe34ab464fecaf8cd218727507df",
       "version_major": 2,
       "version_minor": 0
      },
      "text/plain": [
       "Epochs, Model: ft_43152_43152_2023-09-11T07:24:49:   0%|          | 0/250 [00:00<?, ?it/s]"
      ]
     },
     "metadata": {},
     "output_type": "display_data"
    }
   ],
   "source": [
    "hephaestus_results = []\n",
    "pbar = tqdm(n_train_rows)\n",
    "for i in pbar:\n",
    "    pbar.set_description(f\"n_rows: {i}\")\n",
    "    loss = train_multiple_sizes(model_save_path, dataset, i, n_epochs=250)\n",
    "    hephaestus_results.append(loss)"
   ]
  },
  {
   "cell_type": "code",
   "execution_count": null,
   "metadata": {},
   "outputs": [
    {
     "data": {
      "text/html": [
       "<div>\n",
       "<style scoped>\n",
       "    .dataframe tbody tr th:only-of-type {\n",
       "        vertical-align: middle;\n",
       "    }\n",
       "\n",
       "    .dataframe tbody tr th {\n",
       "        vertical-align: top;\n",
       "    }\n",
       "\n",
       "    .dataframe thead th {\n",
       "        text-align: right;\n",
       "    }\n",
       "</style>\n",
       "<table border=\"1\" class=\"dataframe\">\n",
       "  <thead>\n",
       "    <tr style=\"text-align: right;\">\n",
       "      <th></th>\n",
       "      <th>n_rows</th>\n",
       "      <th>test_loss</th>\n",
       "      <th>model</th>\n",
       "    </tr>\n",
       "  </thead>\n",
       "  <tbody>\n",
       "    <tr>\n",
       "      <th>0</th>\n",
       "      <td>100</td>\n",
       "      <td>1.419026e+06</td>\n",
       "      <td>Hephaestus</td>\n",
       "    </tr>\n",
       "    <tr>\n",
       "      <th>1</th>\n",
       "      <td>1000</td>\n",
       "      <td>5.532424e+05</td>\n",
       "      <td>Hephaestus</td>\n",
       "    </tr>\n",
       "    <tr>\n",
       "      <th>2</th>\n",
       "      <td>2000</td>\n",
       "      <td>5.366164e+05</td>\n",
       "      <td>Hephaestus</td>\n",
       "    </tr>\n",
       "    <tr>\n",
       "      <th>3</th>\n",
       "      <td>5000</td>\n",
       "      <td>4.928345e+05</td>\n",
       "      <td>Hephaestus</td>\n",
       "    </tr>\n",
       "    <tr>\n",
       "      <th>4</th>\n",
       "      <td>10000</td>\n",
       "      <td>4.003718e+05</td>\n",
       "      <td>Hephaestus</td>\n",
       "    </tr>\n",
       "    <tr>\n",
       "      <th>5</th>\n",
       "      <td>15000</td>\n",
       "      <td>3.692576e+05</td>\n",
       "      <td>Hephaestus</td>\n",
       "    </tr>\n",
       "    <tr>\n",
       "      <th>6</th>\n",
       "      <td>30000</td>\n",
       "      <td>3.338427e+05</td>\n",
       "      <td>Hephaestus</td>\n",
       "    </tr>\n",
       "    <tr>\n",
       "      <th>7</th>\n",
       "      <td>43152</td>\n",
       "      <td>3.091899e+05</td>\n",
       "      <td>Hephaestus</td>\n",
       "    </tr>\n",
       "  </tbody>\n",
       "</table>\n",
       "</div>"
      ],
      "text/plain": [
       "   n_rows     test_loss       model\n",
       "0     100  1.419026e+06  Hephaestus\n",
       "1    1000  5.532424e+05  Hephaestus\n",
       "2    2000  5.366164e+05  Hephaestus\n",
       "3    5000  4.928345e+05  Hephaestus\n",
       "4   10000  4.003718e+05  Hephaestus\n",
       "5   15000  3.692576e+05  Hephaestus\n",
       "6   30000  3.338427e+05  Hephaestus\n",
       "7   43152  3.091899e+05  Hephaestus"
      ]
     },
     "execution_count": 18,
     "metadata": {},
     "output_type": "execute_result"
    }
   ],
   "source": [
    "hephaestus_df = pd.DataFrame(hephaestus_results)\n",
    "hephaestus_df[\"model\"] = \"Hephaestus\"\n",
    "hephaestus_df"
   ]
  },
  {
   "cell_type": "code",
   "execution_count": null,
   "metadata": {},
   "outputs": [
    {
     "data": {
      "text/plain": [
       "array([553242.375])"
      ]
     },
     "execution_count": 19,
     "metadata": {},
     "output_type": "execute_result"
    }
   ],
   "source": [
    "hephaestus_df.loc[hephaestus_df.n_rows == 1000, \"test_loss\"].values"
   ]
  },
  {
   "cell_type": "code",
   "execution_count": null,
   "metadata": {
    "tags": []
   },
   "outputs": [],
   "source": [
    "# evaluation_df = hp.regression_actuals_preds(model, dataset)"
   ]
  },
  {
   "cell_type": "code",
   "execution_count": null,
   "metadata": {},
   "outputs": [],
   "source": [
    "# evaluation_df"
   ]
  },
  {
   "cell_type": "code",
   "execution_count": null,
   "metadata": {},
   "outputs": [
    {
     "name": "stdout",
     "output_type": "stream",
     "text": [
      "Mean Squared Error: 10,090,469.67\n"
     ]
    }
   ],
   "source": [
    "import pandas as pd\n",
    "from sklearn.model_selection import train_test_split\n",
    "from sklearn.preprocessing import LabelEncoder\n",
    "from xgboost import XGBRegressor\n",
    "from sklearn.metrics import mean_squared_error\n",
    "\n",
    "# Load the diamonds dataset\n",
    "diamonds_data = pd.read_csv(\"../data/diamonds.csv\")\n",
    "\n",
    "# Encode categorical features using LabelEncoder\n",
    "label_encoders = {}\n",
    "categorical_features = [\"cut\", \"color\", \"clarity\"]\n",
    "for feature in categorical_features:\n",
    "    le = LabelEncoder()\n",
    "    diamonds_data[feature] = le.fit_transform(diamonds_data[feature])\n",
    "    label_encoders[feature] = le\n",
    "\n",
    "# Split the dataset into features (X) and target (y)\n",
    "X = diamonds_data.drop(\"price\", axis=1)\n",
    "y = diamonds_data[\"price\"]\n",
    "\n",
    "# Split the data into training and testing sets\n",
    "X_train, X_test, y_train, y_test = train_test_split(\n",
    "    X, y, test_size=0.2, random_state=42\n",
    ")\n",
    "\n",
    "# Initialize and train the XGBoost regressor\n",
    "xgb_regressor = XGBRegressor(n_estimators=100, learning_rate=0.1, random_state=42)\n",
    "xgb_regressor.fit(\n",
    "    X_train[0:batch_size],\n",
    "    y_train[0:batch_size],\n",
    ")\n",
    "\n",
    "# Predict on the test set\n",
    "y_pred = xgb_regressor.predict(X_test)\n",
    "\n",
    "# Evaluate the model\n",
    "mse = mean_squared_error(y_test, y_pred)\n",
    "print(f\"Mean Squared Error: {mse:,.2f}\")\n",
    "\n",
    "# You can also access feature importance scores\n",
    "# feature_importances = xgb_regressor.feature_importances_\n",
    "# print(\"Feature Importance:\")\n",
    "# for feature, importance in zip(X.columns, feature_importances):\n",
    "#     print(f\"{feature}: {importance:.4f}\")"
   ]
  },
  {
   "cell_type": "code",
   "execution_count": null,
   "metadata": {},
   "outputs": [
    {
     "data": {
      "application/vnd.jupyter.widget-view+json": {
       "model_id": "18451e0af3884bc3a32b8f05d4e71379",
       "version_major": 2,
       "version_minor": 0
      },
      "text/plain": [
       "  0%|          | 0/8 [00:00<?, ?it/s]"
      ]
     },
     "metadata": {},
     "output_type": "display_data"
    }
   ],
   "source": [
    "def xgb_tester(train_set_size):\n",
    "    xgb_regressor = XGBRegressor(n_estimators=120, learning_rate=0.1, random_state=42)\n",
    "    xgb_regressor.fit(\n",
    "        X_train[0:train_set_size],\n",
    "        y_train[0:train_set_size],\n",
    "    )\n",
    "\n",
    "    y_pred = xgb_regressor.predict(X_test)\n",
    "    mse = mean_squared_error(y_test, y_pred)\n",
    "    return {\"n_rows\": train_set_size, \"test_loss\": mse}\n",
    "\n",
    "\n",
    "xgb_losses = []\n",
    "for i in tqdm(n_train_rows):\n",
    "    mse = xgb_tester(i)\n",
    "    xgb_losses.append(mse)"
   ]
  },
  {
   "cell_type": "code",
   "execution_count": null,
   "metadata": {},
   "outputs": [
    {
     "data": {
      "text/html": [
       "<div>\n",
       "<style scoped>\n",
       "    .dataframe tbody tr th:only-of-type {\n",
       "        vertical-align: middle;\n",
       "    }\n",
       "\n",
       "    .dataframe tbody tr th {\n",
       "        vertical-align: top;\n",
       "    }\n",
       "\n",
       "    .dataframe thead th {\n",
       "        text-align: right;\n",
       "    }\n",
       "</style>\n",
       "<table border=\"1\" class=\"dataframe\">\n",
       "  <thead>\n",
       "    <tr style=\"text-align: right;\">\n",
       "      <th></th>\n",
       "      <th>n_rows</th>\n",
       "      <th>test_loss</th>\n",
       "      <th>model</th>\n",
       "    </tr>\n",
       "  </thead>\n",
       "  <tbody>\n",
       "    <tr>\n",
       "      <th>0</th>\n",
       "      <td>100</td>\n",
       "      <td>1.821790e+06</td>\n",
       "      <td>XGBoost</td>\n",
       "    </tr>\n",
       "    <tr>\n",
       "      <th>1</th>\n",
       "      <td>1000</td>\n",
       "      <td>6.689381e+05</td>\n",
       "      <td>XGBoost</td>\n",
       "    </tr>\n",
       "    <tr>\n",
       "      <th>2</th>\n",
       "      <td>2000</td>\n",
       "      <td>4.860844e+05</td>\n",
       "      <td>XGBoost</td>\n",
       "    </tr>\n",
       "    <tr>\n",
       "      <th>3</th>\n",
       "      <td>5000</td>\n",
       "      <td>3.809045e+05</td>\n",
       "      <td>XGBoost</td>\n",
       "    </tr>\n",
       "    <tr>\n",
       "      <th>4</th>\n",
       "      <td>10000</td>\n",
       "      <td>3.400657e+05</td>\n",
       "      <td>XGBoost</td>\n",
       "    </tr>\n",
       "    <tr>\n",
       "      <th>5</th>\n",
       "      <td>15000</td>\n",
       "      <td>3.165070e+05</td>\n",
       "      <td>XGBoost</td>\n",
       "    </tr>\n",
       "    <tr>\n",
       "      <th>6</th>\n",
       "      <td>30000</td>\n",
       "      <td>2.926587e+05</td>\n",
       "      <td>XGBoost</td>\n",
       "    </tr>\n",
       "    <tr>\n",
       "      <th>7</th>\n",
       "      <td>43152</td>\n",
       "      <td>2.763601e+05</td>\n",
       "      <td>XGBoost</td>\n",
       "    </tr>\n",
       "  </tbody>\n",
       "</table>\n",
       "</div>"
      ],
      "text/plain": [
       "   n_rows     test_loss    model\n",
       "0     100  1.821790e+06  XGBoost\n",
       "1    1000  6.689381e+05  XGBoost\n",
       "2    2000  4.860844e+05  XGBoost\n",
       "3    5000  3.809045e+05  XGBoost\n",
       "4   10000  3.400657e+05  XGBoost\n",
       "5   15000  3.165070e+05  XGBoost\n",
       "6   30000  2.926587e+05  XGBoost\n",
       "7   43152  2.763601e+05  XGBoost"
      ]
     },
     "execution_count": 24,
     "metadata": {},
     "output_type": "execute_result"
    }
   ],
   "source": [
    "xgb_df = pd.DataFrame(xgb_losses)\n",
    "xgb_df[\"model\"] = \"XGBoost\"\n",
    "\n",
    "xgb_df"
   ]
  },
  {
   "cell_type": "code",
   "execution_count": null,
   "metadata": {},
   "outputs": [
    {
     "data": {
      "text/html": [
       "<div>\n",
       "<style scoped>\n",
       "    .dataframe tbody tr th:only-of-type {\n",
       "        vertical-align: middle;\n",
       "    }\n",
       "\n",
       "    .dataframe tbody tr th {\n",
       "        vertical-align: top;\n",
       "    }\n",
       "\n",
       "    .dataframe thead th {\n",
       "        text-align: right;\n",
       "    }\n",
       "</style>\n",
       "<table border=\"1\" class=\"dataframe\">\n",
       "  <thead>\n",
       "    <tr style=\"text-align: right;\">\n",
       "      <th></th>\n",
       "      <th>n_rows</th>\n",
       "      <th>test_loss</th>\n",
       "      <th>model</th>\n",
       "    </tr>\n",
       "  </thead>\n",
       "  <tbody>\n",
       "    <tr>\n",
       "      <th>3</th>\n",
       "      <td>5000</td>\n",
       "      <td>3.809045e+05</td>\n",
       "      <td>XGBoost</td>\n",
       "    </tr>\n",
       "    <tr>\n",
       "      <th>4</th>\n",
       "      <td>10000</td>\n",
       "      <td>3.400657e+05</td>\n",
       "      <td>XGBoost</td>\n",
       "    </tr>\n",
       "    <tr>\n",
       "      <th>1</th>\n",
       "      <td>1000</td>\n",
       "      <td>6.689381e+05</td>\n",
       "      <td>XGBoost</td>\n",
       "    </tr>\n",
       "    <tr>\n",
       "      <th>4</th>\n",
       "      <td>10000</td>\n",
       "      <td>4.101758e+05</td>\n",
       "      <td>Hephaestus No Fine Tune</td>\n",
       "    </tr>\n",
       "    <tr>\n",
       "      <th>6</th>\n",
       "      <td>30000</td>\n",
       "      <td>2.926587e+05</td>\n",
       "      <td>XGBoost</td>\n",
       "    </tr>\n",
       "    <tr>\n",
       "      <th>0</th>\n",
       "      <td>100</td>\n",
       "      <td>1.419026e+06</td>\n",
       "      <td>Hephaestus</td>\n",
       "    </tr>\n",
       "    <tr>\n",
       "      <th>5</th>\n",
       "      <td>15000</td>\n",
       "      <td>3.617002e+05</td>\n",
       "      <td>Hephaestus No Fine Tune</td>\n",
       "    </tr>\n",
       "    <tr>\n",
       "      <th>7</th>\n",
       "      <td>43152</td>\n",
       "      <td>3.091899e+05</td>\n",
       "      <td>Hephaestus</td>\n",
       "    </tr>\n",
       "    <tr>\n",
       "      <th>1</th>\n",
       "      <td>1000</td>\n",
       "      <td>5.346514e+05</td>\n",
       "      <td>Hephaestus No Fine Tune</td>\n",
       "    </tr>\n",
       "    <tr>\n",
       "      <th>2</th>\n",
       "      <td>2000</td>\n",
       "      <td>4.860844e+05</td>\n",
       "      <td>XGBoost</td>\n",
       "    </tr>\n",
       "  </tbody>\n",
       "</table>\n",
       "</div>"
      ],
      "text/plain": [
       "   n_rows     test_loss                    model\n",
       "3    5000  3.809045e+05                  XGBoost\n",
       "4   10000  3.400657e+05                  XGBoost\n",
       "1    1000  6.689381e+05                  XGBoost\n",
       "4   10000  4.101758e+05  Hephaestus No Fine Tune\n",
       "6   30000  2.926587e+05                  XGBoost\n",
       "0     100  1.419026e+06               Hephaestus\n",
       "5   15000  3.617002e+05  Hephaestus No Fine Tune\n",
       "7   43152  3.091899e+05               Hephaestus\n",
       "1    1000  5.346514e+05  Hephaestus No Fine Tune\n",
       "2    2000  4.860844e+05                  XGBoost"
      ]
     },
     "execution_count": 25,
     "metadata": {},
     "output_type": "execute_result"
    }
   ],
   "source": [
    "loss_df = pd.concat([hephaestus_df, xgb_df, no_pt_df])  # , no_pt_df\n",
    "loss_df = loss_df.loc[loss_df[\"n_rows\"] != 10]\n",
    "loss_df.sample(10)"
   ]
  },
  {
   "cell_type": "code",
   "execution_count": null,
   "metadata": {},
   "outputs": [
    {
     "data": {
      "image/png": "[encoded data removed]",
      "text/plain": [
       "<Figure size 640x480 with 1 Axes>"
      ]
     },
     "metadata": {},
     "output_type": "display_data"
    }
   ],
   "source": [
    "# Define the colors for each model\n",
    "# colors = {\"Hephaestus\": \"blue\", \"XGBoost\": \"red\"}\n",
    "\n",
    "# Create a figure and axis object\n",
    "fig, ax = plt.subplots()\n",
    "\n",
    "# Loop through each model and plot the test loss as a line\n",
    "for model, group in loss_df.groupby(\"model\"):\n",
    "    ax.plot(group[\"n_rows\"], group[\"test_loss\"], label=model)\n",
    "\n",
    "# Set the axis labels and legend\n",
    "ax.set_xlabel(\"Number of Rows\")\n",
    "ax.set_ylabel(\"Test Loss\")\n",
    "ax.legend()\n",
    "# set x axis to log scale\n",
    "ax.set_xscale(\"log\")\n",
    "\n",
    "# Show the plot\n",
    "plt.show()"
   ]
  },
  {
   "cell_type": "code",
   "execution_count": null,
   "metadata": {},
   "outputs": [
    {
     "data": {
      "image/png": "[encoded data removed]",
      "text/plain": [
       "<Figure size 640x480 with 1 Axes>"
      ]
     },
     "metadata": {},
     "output_type": "display_data"
    }
   ],
   "source": [
    "# Define the colors for each model\n",
    "# colors = {\"Hephaestus\": \"blue\", \"XGBoost\": \"red\"}\n",
    "\n",
    "# Create a figure and axis object\n",
    "fig, ax = plt.subplots()\n",
    "\n",
    "# Loop through each model and plot the test loss as a line\n",
    "for model, group in loss_df.loc[loss_df[\"model\"] != \"Hephaestus No Fine Tune\"].groupby(\n",
    "    \"model\"\n",
    "):\n",
    "    ax.plot(group[\"n_rows\"], group[\"test_loss\"], label=model)\n",
    "\n",
    "# Set the axis labels and legend\n",
    "ax.set_xlabel(\"Number of Rows\")\n",
    "ax.set_ylabel(\"Test Loss\")\n",
    "ax.legend()\n",
    "# set x axis to log scale\n",
    "ax.set_xscale(\"log\")\n",
    "\n",
    "# Show the plot\n",
    "plt.show()"
   ]
  },
  {
   "cell_type": "code",
   "execution_count": null,
   "metadata": {},
   "outputs": [],
   "source": [
    "# Spread the data to have columns for the loss of each model\n",
    "# loss_df =\n",
    "loss_percent_df = loss_df.pivot(\n",
    "    index=\"n_rows\", columns=\"model\", values=\"test_loss\"\n",
    ").reset_index()\n",
    "loss_percent_df[\"percent_improvement\"] = (\n",
    "    loss_percent_df[\"XGBoost\"] - loss_percent_df[\"Hephaestus\"]\n",
    ") / loss_percent_df[\"XGBoost\"]"
   ]
  },
  {
   "cell_type": "code",
   "execution_count": null,
   "metadata": {},
   "outputs": [
    {
     "data": {
      "text/html": [
       "<div>\n",
       "<style scoped>\n",
       "    .dataframe tbody tr th:only-of-type {\n",
       "        vertical-align: middle;\n",
       "    }\n",
       "\n",
       "    .dataframe tbody tr th {\n",
       "        vertical-align: top;\n",
       "    }\n",
       "\n",
       "    .dataframe thead th {\n",
       "        text-align: right;\n",
       "    }\n",
       "</style>\n",
       "<table border=\"1\" class=\"dataframe\">\n",
       "  <thead>\n",
       "    <tr style=\"text-align: right;\">\n",
       "      <th>model</th>\n",
       "      <th>n_rows</th>\n",
       "      <th>Hephaestus</th>\n",
       "      <th>Hephaestus No Fine Tune</th>\n",
       "      <th>XGBoost</th>\n",
       "      <th>percent_improvement</th>\n",
       "    </tr>\n",
       "  </thead>\n",
       "  <tbody>\n",
       "    <tr>\n",
       "      <th>0</th>\n",
       "      <td>100</td>\n",
       "      <td>1.419026e+06</td>\n",
       "      <td>2.690443e+06</td>\n",
       "      <td>1.821790e+06</td>\n",
       "      <td>0.221081</td>\n",
       "    </tr>\n",
       "    <tr>\n",
       "      <th>1</th>\n",
       "      <td>1000</td>\n",
       "      <td>5.532424e+05</td>\n",
       "      <td>5.346514e+05</td>\n",
       "      <td>6.689381e+05</td>\n",
       "      <td>0.172954</td>\n",
       "    </tr>\n",
       "    <tr>\n",
       "      <th>2</th>\n",
       "      <td>2000</td>\n",
       "      <td>5.366164e+05</td>\n",
       "      <td>5.318304e+05</td>\n",
       "      <td>4.860844e+05</td>\n",
       "      <td>-0.103957</td>\n",
       "    </tr>\n",
       "    <tr>\n",
       "      <th>3</th>\n",
       "      <td>5000</td>\n",
       "      <td>4.928345e+05</td>\n",
       "      <td>5.070860e+05</td>\n",
       "      <td>3.809045e+05</td>\n",
       "      <td>-0.293853</td>\n",
       "    </tr>\n",
       "    <tr>\n",
       "      <th>4</th>\n",
       "      <td>10000</td>\n",
       "      <td>4.003718e+05</td>\n",
       "      <td>4.101758e+05</td>\n",
       "      <td>3.400657e+05</td>\n",
       "      <td>-0.177337</td>\n",
       "    </tr>\n",
       "    <tr>\n",
       "      <th>5</th>\n",
       "      <td>15000</td>\n",
       "      <td>3.692576e+05</td>\n",
       "      <td>3.617002e+05</td>\n",
       "      <td>3.165070e+05</td>\n",
       "      <td>-0.166665</td>\n",
       "    </tr>\n",
       "    <tr>\n",
       "      <th>6</th>\n",
       "      <td>30000</td>\n",
       "      <td>3.338427e+05</td>\n",
       "      <td>3.321468e+05</td>\n",
       "      <td>2.926587e+05</td>\n",
       "      <td>-0.140723</td>\n",
       "    </tr>\n",
       "    <tr>\n",
       "      <th>7</th>\n",
       "      <td>43152</td>\n",
       "      <td>3.091899e+05</td>\n",
       "      <td>3.079014e+05</td>\n",
       "      <td>2.763601e+05</td>\n",
       "      <td>-0.118793</td>\n",
       "    </tr>\n",
       "  </tbody>\n",
       "</table>\n",
       "</div>"
      ],
      "text/plain": [
       "model  n_rows    Hephaestus  Hephaestus No Fine Tune       XGBoost  \\\n",
       "0         100  1.419026e+06             2.690443e+06  1.821790e+06   \n",
       "1        1000  5.532424e+05             5.346514e+05  6.689381e+05   \n",
       "2        2000  5.366164e+05             5.318304e+05  4.860844e+05   \n",
       "3        5000  4.928345e+05             5.070860e+05  3.809045e+05   \n",
       "4       10000  4.003718e+05             4.101758e+05  3.400657e+05   \n",
       "5       15000  3.692576e+05             3.617002e+05  3.165070e+05   \n",
       "6       30000  3.338427e+05             3.321468e+05  2.926587e+05   \n",
       "7       43152  3.091899e+05             3.079014e+05  2.763601e+05   \n",
       "\n",
       "model  percent_improvement  \n",
       "0                 0.221081  \n",
       "1                 0.172954  \n",
       "2                -0.103957  \n",
       "3                -0.293853  \n",
       "4                -0.177337  \n",
       "5                -0.166665  \n",
       "6                -0.140723  \n",
       "7                -0.118793  "
      ]
     },
     "execution_count": 29,
     "metadata": {},
     "output_type": "execute_result"
    }
   ],
   "source": [
    "loss_percent_df"
   ]
  },
  {
   "cell_type": "code",
   "execution_count": null,
   "metadata": {},
   "outputs": [
    {
     "data": {
      "text/plain": [
       "(array([  100,  1000,  2000,  5000, 10000, 15000, 30000, 43152]),\n",
       " [Text(100, 0, '100'),\n",
       "  Text(1000, 0, '1000'),\n",
       "  Text(2000, 0, '2000'),\n",
       "  Text(5000, 0, '5000'),\n",
       "  Text(10000, 0, '10000'),\n",
       "  Text(15000, 0, '15000'),\n",
       "  Text(30000, 0, '30000'),\n",
       "  Text(43152, 0, '43152')])"
      ]
     },
     "execution_count": 30,
     "metadata": {},
     "output_type": "execute_result"
    },
    {
     "data": {
      "image/png": "[encoded data removed]",
      "text/plain": [
       "<Figure size 640x480 with 1 Axes>"
      ]
     },
     "metadata": {},
     "output_type": "display_data"
    }
   ],
   "source": [
    "ax = sns.lineplot(data=loss_percent_df, x=\"n_rows\", y=\"percent_improvement\")\n",
    "plt.axhline(y=0, color=\"black\", linestyle=\"--\")\n",
    "ax.set_yticks(loss_percent_df[\"percent_improvement\"].round(2))\n",
    "ax.set_xticks(loss_percent_df[\"n_rows\"])\n",
    "# ax.set_xscale(\"log\")\n",
    "# X lables at 45 degree angle\n",
    "plt.xticks(rotation=45)\n",
    "# plt.xlabel"
   ]
  },
  {
   "cell_type": "raw",
   "metadata": {},
   "source": [
    "loss_percent_df"
   ]
  },
  {
   "cell_type": "code",
   "execution_count": null,
   "metadata": {},
   "outputs": [
    {
     "data": {
      "text/plain": [
       "torch.Size([2, 5, 300])"
      ]
     },
     "execution_count": 57,
     "metadata": {},
     "output_type": "execute_result"
    }
   ],
   "source": [
    "cols = torch.rand(2, 5, 64)\n",
    "\n",
    "vals = torch.rand(2, 300, 64)\n",
    "# torch.matmul(cols, vals).shape\n",
    "torch.matmul(cols, vals.transpose(-2, -1)).shape"
   ]
  },
  {
   "cell_type": "code",
   "execution_count": null,
   "metadata": {},
   "outputs": [
    {
     "data": {
      "text/plain": [
       "torch.Size([2, 4, 3])"
      ]
     },
     "execution_count": 59,
     "metadata": {},
     "output_type": "execute_result"
    }
   ],
   "source": [
    "torch.rand(2, 3, 4).transpose(-2, -1).shape"
   ]
  },
  {
   "cell_type": "code",
   "execution_count": null,
   "metadata": {},
   "outputs": [],
   "source": []
  }
 ],
 "metadata": {
  "availableInstances": [
   {
    "_defaultOrder": 0,
    "_isFastLaunch": true,
    "category": "General purpose",
    "gpuNum": 0,
    "hideHardwareSpecs": false,
    "memoryGiB": 4,
    "name": "ml.t3.medium",
    "vcpuNum": 2
   },
   {
    "_defaultOrder": 1,
    "_isFastLaunch": false,
    "category": "General purpose",
    "gpuNum": 0,
    "hideHardwareSpecs": false,
    "memoryGiB": 8,
    "name": "ml.t3.large",
    "vcpuNum": 2
   },
   {
    "_defaultOrder": 2,
    "_isFastLaunch": false,
    "category": "General purpose",
    "gpuNum": 0,
    "hideHardwareSpecs": false,
    "memoryGiB": 16,
    "name": "ml.t3.xlarge",
    "vcpuNum": 4
   },
   {
    "_defaultOrder": 3,
    "_isFastLaunch": false,
    "category": "General purpose",
    "gpuNum": 0,
    "hideHardwareSpecs": false,
    "memoryGiB": 32,
    "name": "ml.t3.2xlarge",
    "vcpuNum": 8
   },
   {
    "_defaultOrder": 4,
    "_isFastLaunch": true,
    "category": "General purpose",
    "gpuNum": 0,
    "hideHardwareSpecs": false,
    "memoryGiB": 8,
    "name": "ml.m5.large",
    "vcpuNum": 2
   },
   {
    "_defaultOrder": 5,
    "_isFastLaunch": false,
    "category": "General purpose",
    "gpuNum": 0,
    "hideHardwareSpecs": false,
    "memoryGiB": 16,
    "name": "ml.m5.xlarge",
    "vcpuNum": 4
   },
   {
    "_defaultOrder": 6,
    "_isFastLaunch": false,
    "category": "General purpose",
    "gpuNum": 0,
    "hideHardwareSpecs": false,
    "memoryGiB": 32,
    "name": "ml.m5.2xlarge",
    "vcpuNum": 8
   },
   {
    "_defaultOrder": 7,
    "_isFastLaunch": false,
    "category": "General purpose",
    "gpuNum": 0,
    "hideHardwareSpecs": false,
    "memoryGiB": 64,
    "name": "ml.m5.4xlarge",
    "vcpuNum": 16
   },
   {
    "_defaultOrder": 8,
    "_isFastLaunch": false,
    "category": "General purpose",
    "gpuNum": 0,
    "hideHardwareSpecs": false,
    "memoryGiB": 128,
    "name": "ml.m5.8xlarge",
    "vcpuNum": 32
   },
   {
    "_defaultOrder": 9,
    "_isFastLaunch": false,
    "category": "General purpose",
    "gpuNum": 0,
    "hideHardwareSpecs": false,
    "memoryGiB": 192,
    "name": "ml.m5.12xlarge",
    "vcpuNum": 48
   },
   {
    "_defaultOrder": 10,
    "_isFastLaunch": false,
    "category": "General purpose",
    "gpuNum": 0,
    "hideHardwareSpecs": false,
    "memoryGiB": 256,
    "name": "ml.m5.16xlarge",
    "vcpuNum": 64
   },
   {
    "_defaultOrder": 11,
    "_isFastLaunch": false,
    "category": "General purpose",
    "gpuNum": 0,
    "hideHardwareSpecs": false,
    "memoryGiB": 384,
    "name": "ml.m5.24xlarge",
    "vcpuNum": 96
   },
   {
    "_defaultOrder": 12,
    "_isFastLaunch": false,
    "category": "General purpose",
    "gpuNum": 0,
    "hideHardwareSpecs": false,
    "memoryGiB": 8,
    "name": "ml.m5d.large",
    "vcpuNum": 2
   },
   {
    "_defaultOrder": 13,
    "_isFastLaunch": false,
    "category": "General purpose",
    "gpuNum": 0,
    "hideHardwareSpecs": false,
    "memoryGiB": 16,
    "name": "ml.m5d.xlarge",
    "vcpuNum": 4
   },
   {
    "_defaultOrder": 14,
    "_isFastLaunch": false,
    "category": "General purpose",
    "gpuNum": 0,
    "hideHardwareSpecs": false,
    "memoryGiB": 32,
    "name": "ml.m5d.2xlarge",
    "vcpuNum": 8
   },
   {
    "_defaultOrder": 15,
    "_isFastLaunch": false,
    "category": "General purpose",
    "gpuNum": 0,
    "hideHardwareSpecs": false,
    "memoryGiB": 64,
    "name": "ml.m5d.4xlarge",
    "vcpuNum": 16
   },
   {
    "_defaultOrder": 16,
    "_isFastLaunch": false,
    "category": "General purpose",
    "gpuNum": 0,
    "hideHardwareSpecs": false,
    "memoryGiB": 128,
    "name": "ml.m5d.8xlarge",
    "vcpuNum": 32
   },
   {
    "_defaultOrder": 17,
    "_isFastLaunch": false,
    "category": "General purpose",
    "gpuNum": 0,
    "hideHardwareSpecs": false,
    "memoryGiB": 192,
    "name": "ml.m5d.12xlarge",
    "vcpuNum": 48
   },
   {
    "_defaultOrder": 18,
    "_isFastLaunch": false,
    "category": "General purpose",
    "gpuNum": 0,
    "hideHardwareSpecs": false,
    "memoryGiB": 256,
    "name": "ml.m5d.16xlarge",
    "vcpuNum": 64
   },
   {
    "_defaultOrder": 19,
    "_isFastLaunch": false,
    "category": "General purpose",
    "gpuNum": 0,
    "hideHardwareSpecs": false,
    "memoryGiB": 384,
    "name": "ml.m5d.24xlarge",
    "vcpuNum": 96
   },
   {
    "_defaultOrder": 20,
    "_isFastLaunch": false,
    "category": "General purpose",
    "gpuNum": 0,
    "hideHardwareSpecs": true,
    "memoryGiB": 0,
    "name": "ml.geospatial.interactive",
    "supportedImageNames": [
     "sagemaker-geospatial-v1-0"
    ],
    "vcpuNum": 0
   },
   {
    "_defaultOrder": 21,
    "_isFastLaunch": true,
    "category": "Compute optimized",
    "gpuNum": 0,
    "hideHardwareSpecs": false,
    "memoryGiB": 4,
    "name": "ml.c5.large",
    "vcpuNum": 2
   },
   {
    "_defaultOrder": 22,
    "_isFastLaunch": false,
    "category": "Compute optimized",
    "gpuNum": 0,
    "hideHardwareSpecs": false,
    "memoryGiB": 8,
    "name": "ml.c5.xlarge",
    "vcpuNum": 4
   },
   {
    "_defaultOrder": 23,
    "_isFastLaunch": false,
    "category": "Compute optimized",
    "gpuNum": 0,
    "hideHardwareSpecs": false,
    "memoryGiB": 16,
    "name": "ml.c5.2xlarge",
    "vcpuNum": 8
   },
   {
    "_defaultOrder": 24,
    "_isFastLaunch": false,
    "category": "Compute optimized",
    "gpuNum": 0,
    "hideHardwareSpecs": false,
    "memoryGiB": 32,
    "name": "ml.c5.4xlarge",
    "vcpuNum": 16
   },
   {
    "_defaultOrder": 25,
    "_isFastLaunch": false,
    "category": "Compute optimized",
    "gpuNum": 0,
    "hideHardwareSpecs": false,
    "memoryGiB": 72,
    "name": "ml.c5.9xlarge",
    "vcpuNum": 36
   },
   {
    "_defaultOrder": 26,
    "_isFastLaunch": false,
    "category": "Compute optimized",
    "gpuNum": 0,
    "hideHardwareSpecs": false,
    "memoryGiB": 96,
    "name": "ml.c5.12xlarge",
    "vcpuNum": 48
   },
   {
    "_defaultOrder": 27,
    "_isFastLaunch": false,
    "category": "Compute optimized",
    "gpuNum": 0,
    "hideHardwareSpecs": false,
    "memoryGiB": 144,
    "name": "ml.c5.18xlarge",
    "vcpuNum": 72
   },
   {
    "_defaultOrder": 28,
    "_isFastLaunch": false,
    "category": "Compute optimized",
    "gpuNum": 0,
    "hideHardwareSpecs": false,
    "memoryGiB": 192,
    "name": "ml.c5.24xlarge",
    "vcpuNum": 96
   },
   {
    "_defaultOrder": 29,
    "_isFastLaunch": true,
    "category": "Accelerated computing",
    "gpuNum": 1,
    "hideHardwareSpecs": false,
    "memoryGiB": 16,
    "name": "ml.g4dn.xlarge",
    "vcpuNum": 4
   },
   {
    "_defaultOrder": 30,
    "_isFastLaunch": false,
    "category": "Accelerated computing",
    "gpuNum": 1,
    "hideHardwareSpecs": false,
    "memoryGiB": 32,
    "name": "ml.g4dn.2xlarge",
    "vcpuNum": 8
   },
   {
    "_defaultOrder": 31,
    "_isFastLaunch": false,
    "category": "Accelerated computing",
    "gpuNum": 1,
    "hideHardwareSpecs": false,
    "memoryGiB": 64,
    "name": "ml.g4dn.4xlarge",
    "vcpuNum": 16
   },
   {
    "_defaultOrder": 32,
    "_isFastLaunch": false,
    "category": "Accelerated computing",
    "gpuNum": 1,
    "hideHardwareSpecs": false,
    "memoryGiB": 128,
    "name": "ml.g4dn.8xlarge",
    "vcpuNum": 32
   },
   {
    "_defaultOrder": 33,
    "_isFastLaunch": false,
    "category": "Accelerated computing",
    "gpuNum": 4,
    "hideHardwareSpecs": false,
    "memoryGiB": 192,
    "name": "ml.g4dn.12xlarge",
    "vcpuNum": 48
   },
   {
    "_defaultOrder": 34,
    "_isFastLaunch": false,
    "category": "Accelerated computing",
    "gpuNum": 1,
    "hideHardwareSpecs": false,
    "memoryGiB": 256,
    "name": "ml.g4dn.16xlarge",
    "vcpuNum": 64
   },
   {
    "_defaultOrder": 35,
    "_isFastLaunch": false,
    "category": "Accelerated computing",
    "gpuNum": 1,
    "hideHardwareSpecs": false,
    "memoryGiB": 61,
    "name": "ml.p3.2xlarge",
    "vcpuNum": 8
   },
   {
    "_defaultOrder": 36,
    "_isFastLaunch": false,
    "category": "Accelerated computing",
    "gpuNum": 4,
    "hideHardwareSpecs": false,
    "memoryGiB": 244,
    "name": "ml.p3.8xlarge",
    "vcpuNum": 32
   },
   {
    "_defaultOrder": 37,
    "_isFastLaunch": false,
    "category": "Accelerated computing",
    "gpuNum": 8,
    "hideHardwareSpecs": false,
    "memoryGiB": 488,
    "name": "ml.p3.16xlarge",
    "vcpuNum": 64
   },
   {
    "_defaultOrder": 38,
    "_isFastLaunch": false,
    "category": "Accelerated computing",
    "gpuNum": 8,
    "hideHardwareSpecs": false,
    "memoryGiB": 768,
    "name": "ml.p3dn.24xlarge",
    "vcpuNum": 96
   },
   {
    "_defaultOrder": 39,
    "_isFastLaunch": false,
    "category": "Memory Optimized",
    "gpuNum": 0,
    "hideHardwareSpecs": false,
    "memoryGiB": 16,
    "name": "ml.r5.large",
    "vcpuNum": 2
   },
   {
    "_defaultOrder": 40,
    "_isFastLaunch": false,
    "category": "Memory Optimized",
    "gpuNum": 0,
    "hideHardwareSpecs": false,
    "memoryGiB": 32,
    "name": "ml.r5.xlarge",
    "vcpuNum": 4
   },
   {
    "_defaultOrder": 41,
    "_isFastLaunch": false,
    "category": "Memory Optimized",
    "gpuNum": 0,
    "hideHardwareSpecs": false,
    "memoryGiB": 64,
    "name": "ml.r5.2xlarge",
    "vcpuNum": 8
   },
   {
    "_defaultOrder": 42,
    "_isFastLaunch": false,
    "category": "Memory Optimized",
    "gpuNum": 0,
    "hideHardwareSpecs": false,
    "memoryGiB": 128,
    "name": "ml.r5.4xlarge",
    "vcpuNum": 16
   },
   {
    "_defaultOrder": 43,
    "_isFastLaunch": false,
    "category": "Memory Optimized",
    "gpuNum": 0,
    "hideHardwareSpecs": false,
    "memoryGiB": 256,
    "name": "ml.r5.8xlarge",
    "vcpuNum": 32
   },
   {
    "_defaultOrder": 44,
    "_isFastLaunch": false,
    "category": "Memory Optimized",
    "gpuNum": 0,
    "hideHardwareSpecs": false,
    "memoryGiB": 384,
    "name": "ml.r5.12xlarge",
    "vcpuNum": 48
   },
   {
    "_defaultOrder": 45,
    "_isFastLaunch": false,
    "category": "Memory Optimized",
    "gpuNum": 0,
    "hideHardwareSpecs": false,
    "memoryGiB": 512,
    "name": "ml.r5.16xlarge",
    "vcpuNum": 64
   },
   {
    "_defaultOrder": 46,
    "_isFastLaunch": false,
    "category": "Memory Optimized",
    "gpuNum": 0,
    "hideHardwareSpecs": false,
    "memoryGiB": 768,
    "name": "ml.r5.24xlarge",
    "vcpuNum": 96
   },
   {
    "_defaultOrder": 47,
    "_isFastLaunch": false,
    "category": "Accelerated computing",
    "gpuNum": 1,
    "hideHardwareSpecs": false,
    "memoryGiB": 16,
    "name": "ml.g5.xlarge",
    "vcpuNum": 4
   },
   {
    "_defaultOrder": 48,
    "_isFastLaunch": false,
    "category": "Accelerated computing",
    "gpuNum": 1,
    "hideHardwareSpecs": false,
    "memoryGiB": 32,
    "name": "ml.g5.2xlarge",
    "vcpuNum": 8
   },
   {
    "_defaultOrder": 49,
    "_isFastLaunch": false,
    "category": "Accelerated computing",
    "gpuNum": 1,
    "hideHardwareSpecs": false,
    "memoryGiB": 64,
    "name": "ml.g5.4xlarge",
    "vcpuNum": 16
   },
   {
    "_defaultOrder": 50,
    "_isFastLaunch": false,
    "category": "Accelerated computing",
    "gpuNum": 1,
    "hideHardwareSpecs": false,
    "memoryGiB": 128,
    "name": "ml.g5.8xlarge",
    "vcpuNum": 32
   },
   {
    "_defaultOrder": 51,
    "_isFastLaunch": false,
    "category": "Accelerated computing",
    "gpuNum": 1,
    "hideHardwareSpecs": false,
    "memoryGiB": 256,
    "name": "ml.g5.16xlarge",
    "vcpuNum": 64
   },
   {
    "_defaultOrder": 52,
    "_isFastLaunch": false,
    "category": "Accelerated computing",
    "gpuNum": 4,
    "hideHardwareSpecs": false,
    "memoryGiB": 192,
    "name": "ml.g5.12xlarge",
    "vcpuNum": 48
   },
   {
    "_defaultOrder": 53,
    "_isFastLaunch": false,
    "category": "Accelerated computing",
    "gpuNum": 4,
    "hideHardwareSpecs": false,
    "memoryGiB": 384,
    "name": "ml.g5.24xlarge",
    "vcpuNum": 96
   },
   {
    "_defaultOrder": 54,
    "_isFastLaunch": false,
    "category": "Accelerated computing",
    "gpuNum": 8,
    "hideHardwareSpecs": false,
    "memoryGiB": 768,
    "name": "ml.g5.48xlarge",
    "vcpuNum": 192
   },
   {
    "_defaultOrder": 55,
    "_isFastLaunch": false,
    "category": "Accelerated computing",
    "gpuNum": 8,
    "hideHardwareSpecs": false,
    "memoryGiB": 1152,
    "name": "ml.p4d.24xlarge",
    "vcpuNum": 96
   },
   {
    "_defaultOrder": 56,
    "_isFastLaunch": false,
    "category": "Accelerated computing",
    "gpuNum": 8,
    "hideHardwareSpecs": false,
    "memoryGiB": 1152,
    "name": "ml.p4de.24xlarge",
    "vcpuNum": 96
   }
  ],
  "instance_type": "ml.g4dn.xlarge",
  "kernelspec": {
   "display_name": "pytorch",
   "language": "python",
   "name": "python3"
  },
  "language_info": {
   "codemirror_mode": {
    "name": "ipython",
    "version": 3
   },
   "file_extension": ".py",
   "mimetype": "text/x-python",
   "name": "python",
   "nbconvert_exporter": "python",
   "pygments_lexer": "ipython3",
   "version": "3.11.3"
  },
  "lcc_arn": "arn:aws:sagemaker:us-west-2:385115691352:studio-lifecycle-config/base-installs-widgets",
  "widgets": {
   "application/vnd.jupyter.widget-state+json": {
    "state": {},
    "version_major": 2,
    "version_minor": 0
   }
  }
 },
 "nbformat": 4,
 "nbformat_minor": 4
}
