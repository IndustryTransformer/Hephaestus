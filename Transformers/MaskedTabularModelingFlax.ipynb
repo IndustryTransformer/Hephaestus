{
 "cells": [
  {
   "cell_type": "code",
   "execution_count": 1,
   "metadata": {
    "colab": {
     "base_uri": "https://localhost:8080/"
    },
    "executionInfo": {
     "elapsed": 10899,
     "status": "ok",
     "timestamp": 1694787003074,
     "user": {
      "displayName": "Kai Lukowiak",
      "userId": "00830268910733112328"
     },
     "user_tz": 360
    },
    "id": "8PGIeU1k9yIT",
    "outputId": "05f644f6-9af0-466c-d85a-e064823a1afd"
   },
   "outputs": [],
   "source": [
    "import sys\n",
    "\n",
    "IN_COLAB = \"google.colab\" in sys.modules\n",
    "if IN_COLAB:\n",
    "    %pip -q install clu\n",
    "    %load_ext tensorboard\n",
    "    from google.colab import drive\n",
    "\n",
    "    drive.mount(\"/content/drive\")\n",
    "    %cd '/content/drive/MyDrive/Colab Notebooks/Hephaestus/Transformers'\n",
    "    # %tensorboard \\\n",
    "    # --logdir '/content/drive/MyDrive/Colab Notebooks/Hephaestus/Transformers/runs' \\"
   ]
  },
  {
   "cell_type": "code",
   "execution_count": 2,
   "metadata": {
    "colab": {
     "base_uri": "https://localhost:8080/",
     "height": 224
    },
    "executionInfo": {
     "elapsed": 13247,
     "status": "ok",
     "timestamp": 1694787016316,
     "user": {
      "displayName": "Kai Lukowiak",
      "userId": "00830268910733112328"
     },
     "user_tz": 360
    },
    "id": "MsTYsPj69xan",
    "outputId": "bd407abd-d421-4d31-e1e8-547359d0079a",
    "tags": []
   },
   "outputs": [
    {
     "data": {
      "text/html": [
       "<div>\n",
       "<style scoped>\n",
       "    .dataframe tbody tr th:only-of-type {\n",
       "        vertical-align: middle;\n",
       "    }\n",
       "\n",
       "    .dataframe tbody tr th {\n",
       "        vertical-align: top;\n",
       "    }\n",
       "\n",
       "    .dataframe thead th {\n",
       "        text-align: right;\n",
       "    }\n",
       "</style>\n",
       "<table border=\"1\" class=\"dataframe\">\n",
       "  <thead>\n",
       "    <tr style=\"text-align: right;\">\n",
       "      <th></th>\n",
       "      <th>carat</th>\n",
       "      <th>cut</th>\n",
       "      <th>color</th>\n",
       "      <th>clarity</th>\n",
       "      <th>depth</th>\n",
       "      <th>table</th>\n",
       "      <th>price</th>\n",
       "      <th>x</th>\n",
       "      <th>y</th>\n",
       "      <th>z</th>\n",
       "    </tr>\n",
       "  </thead>\n",
       "  <tbody>\n",
       "    <tr>\n",
       "      <th>0</th>\n",
       "      <td>0.23</td>\n",
       "      <td>Ideal</td>\n",
       "      <td>E</td>\n",
       "      <td>SI2</td>\n",
       "      <td>61.5</td>\n",
       "      <td>55.0</td>\n",
       "      <td>326</td>\n",
       "      <td>3.95</td>\n",
       "      <td>3.98</td>\n",
       "      <td>2.43</td>\n",
       "    </tr>\n",
       "    <tr>\n",
       "      <th>1</th>\n",
       "      <td>0.21</td>\n",
       "      <td>Premium</td>\n",
       "      <td>E</td>\n",
       "      <td>SI1</td>\n",
       "      <td>59.8</td>\n",
       "      <td>61.0</td>\n",
       "      <td>326</td>\n",
       "      <td>3.89</td>\n",
       "      <td>3.84</td>\n",
       "      <td>2.31</td>\n",
       "    </tr>\n",
       "    <tr>\n",
       "      <th>2</th>\n",
       "      <td>0.23</td>\n",
       "      <td>Good</td>\n",
       "      <td>E</td>\n",
       "      <td>VS1</td>\n",
       "      <td>56.9</td>\n",
       "      <td>65.0</td>\n",
       "      <td>327</td>\n",
       "      <td>4.05</td>\n",
       "      <td>4.07</td>\n",
       "      <td>2.31</td>\n",
       "    </tr>\n",
       "    <tr>\n",
       "      <th>3</th>\n",
       "      <td>0.29</td>\n",
       "      <td>Premium</td>\n",
       "      <td>I</td>\n",
       "      <td>VS2</td>\n",
       "      <td>62.4</td>\n",
       "      <td>58.0</td>\n",
       "      <td>334</td>\n",
       "      <td>4.20</td>\n",
       "      <td>4.23</td>\n",
       "      <td>2.63</td>\n",
       "    </tr>\n",
       "    <tr>\n",
       "      <th>4</th>\n",
       "      <td>0.31</td>\n",
       "      <td>Good</td>\n",
       "      <td>J</td>\n",
       "      <td>SI2</td>\n",
       "      <td>63.3</td>\n",
       "      <td>58.0</td>\n",
       "      <td>335</td>\n",
       "      <td>4.34</td>\n",
       "      <td>4.35</td>\n",
       "      <td>2.75</td>\n",
       "    </tr>\n",
       "  </tbody>\n",
       "</table>\n",
       "</div>"
      ],
      "text/plain": [
       "   carat      cut color clarity  depth  table  price     x     y     z\n",
       "0   0.23    Ideal     E     SI2   61.5   55.0    326  3.95  3.98  2.43\n",
       "1   0.21  Premium     E     SI1   59.8   61.0    326  3.89  3.84  2.31\n",
       "2   0.23     Good     E     VS1   56.9   65.0    327  4.05  4.07  2.31\n",
       "3   0.29  Premium     I     VS2   62.4   58.0    334  4.20  4.23  2.63\n",
       "4   0.31     Good     J     SI2   63.3   58.0    335  4.34  4.35  2.75"
      ]
     },
     "execution_count": 2,
     "metadata": {},
     "output_type": "execute_result"
    }
   ],
   "source": [
    "import os\n",
    "from dataclasses import dataclass, field\n",
    "from datetime import datetime as dt\n",
    "from itertools import chain\n",
    "\n",
    "import hephaestus_jax as hp\n",
    "import jax\n",
    "import jax.numpy as jnp\n",
    "import matplotlib.pyplot as plt\n",
    "import numpy as np\n",
    "import optax\n",
    "import pandas as pd\n",
    "import seaborn as sns\n",
    "from flax import linen as nn\n",
    "from flax import struct  # Flax dataclasses\n",
    "\n",
    "from flax.training import train_state\n",
    "from jax import random\n",
    "from jax.config import config\n",
    "from torch.utils.tensorboard import SummaryWriter\n",
    "from tqdm.notebook import tqdm, trange\n",
    "\n",
    "# config.update(\"jax_debug_nans\", True)\n",
    "\n",
    "# Load and preprocess the dataset (assuming you have a CSV file)\n",
    "df = pd.read_csv(\"../data/diamonds.csv\")\n",
    "df.head()"
   ]
  },
  {
   "cell_type": "code",
   "execution_count": 3,
   "metadata": {
    "executionInfo": {
     "elapsed": 813,
     "status": "ok",
     "timestamp": 1694787017125,
     "user": {
      "displayName": "Kai Lukowiak",
      "userId": "00830268910733112328"
     },
     "user_tz": 360
    },
    "id": "np6aslC49xao"
   },
   "outputs": [],
   "source": [
    "dataset = hp.TabularDS(df, target_column=\"price\")"
   ]
  },
  {
   "cell_type": "code",
   "execution_count": 4,
   "metadata": {
    "executionInfo": {
     "elapsed": 3,
     "status": "ok",
     "timestamp": 1694787017125,
     "user": {
      "displayName": "Kai Lukowiak",
      "userId": "00830268910733112328"
     },
     "user_tz": 360
    },
    "id": "YY9rIcc89xap"
   },
   "outputs": [],
   "source": [
    "mtm = hp.MTM(dataset, n_heads=4)\n",
    "trm = hp.TRM(dataset, n_heads=4)"
   ]
  },
  {
   "cell_type": "code",
   "execution_count": 5,
   "metadata": {
    "executionInfo": {
     "elapsed": 1272,
     "status": "ok",
     "timestamp": 1694787018394,
     "user": {
      "displayName": "Kai Lukowiak",
      "userId": "00830268910733112328"
     },
     "user_tz": 360
    },
    "id": "We2VmlRo9xap"
   },
   "outputs": [],
   "source": [
    "batch_size = 3\n",
    "test_num = dataset.X_train_numeric[0:batch_size, :]\n",
    "test_num_mask = hp.mask_tensor(test_num, dataset)\n",
    "test_cat = dataset.X_test_categorical[0:batch_size, :]\n",
    "test_cat_mask = hp.mask_tensor(test_cat, dataset)"
   ]
  },
  {
   "cell_type": "code",
   "execution_count": 6,
   "metadata": {
    "executionInfo": {
     "elapsed": 8686,
     "status": "ok",
     "timestamp": 1694787027075,
     "user": {
      "displayName": "Kai Lukowiak",
      "userId": "00830268910733112328"
     },
     "user_tz": 360
    },
    "id": "4KAsBnii9xaq"
   },
   "outputs": [],
   "source": [
    "root_key = random.PRNGKey(0)\n",
    "main_key, params_key, dropout_key = random.split(root_key, 3)\n",
    "\n",
    "mtm_variables = mtm.init(\n",
    "    params_key,\n",
    "    test_cat_mask,\n",
    "    test_num_mask,\n",
    ")\n",
    "\n",
    "trm_variables = trm.init(\n",
    "    params_key,\n",
    "    test_cat_mask,\n",
    "    test_num_mask,\n",
    ")"
   ]
  },
  {
   "cell_type": "code",
   "execution_count": 7,
   "metadata": {
    "colab": {
     "base_uri": "https://localhost:8080/"
    },
    "executionInfo": {
     "elapsed": 6,
     "status": "ok",
     "timestamp": 1694787027394,
     "user": {
      "displayName": "Kai Lukowiak",
      "userId": "00830268910733112328"
     },
     "user_tz": 360
    },
    "id": "5t31LNgG9xar",
    "outputId": "bd14e76d-dc6c-461b-914d-22486edd0582",
    "tags": []
   },
   "outputs": [
    {
     "name": "stdout",
     "output_type": "stream",
     "text": [
      "(3, 9, 33) (3, 6)\n"
     ]
    },
    {
     "data": {
      "text/plain": [
       "Array([-0.45225707, -0.20720574, -0.01909158, -0.8880864 ,  0.03801971,\n",
       "        1.5729473 ,  0.52256745,  0.36237028,  0.47021964,  0.32593694,\n",
       "       -1.6713886 , -0.8102224 , -0.08339199, -1.2016102 , -0.057711  ,\n",
       "       -1.2551583 , -0.04403386,  0.97604805,  0.29431447,  1.6290971 ,\n",
       "       -0.69973   ,  0.6628665 , -0.6930797 ,  0.6819221 , -1.5047235 ,\n",
       "       -0.7130859 ,  2.7033992 , -0.42089346,  0.46654665, -0.09679471,\n",
       "       -0.05390073, -1.3977594 ,  0.85480344], dtype=float32)"
      ]
     },
     "execution_count": 7,
     "metadata": {},
     "output_type": "execute_result"
    }
   ],
   "source": [
    "mtm_out = mtm.apply(\n",
    "    {\"params\": mtm_variables[\"params\"]},\n",
    "    test_cat_mask,\n",
    "    test_num_mask,\n",
    ")\n",
    "print(mtm_out[0].shape, mtm_out[1].shape)\n",
    "mtm_out[0][0:2][0:2][0][0]"
   ]
  },
  {
   "cell_type": "code",
   "execution_count": 8,
   "metadata": {
    "colab": {
     "base_uri": "https://localhost:8080/"
    },
    "executionInfo": {
     "elapsed": 323,
     "status": "ok",
     "timestamp": 1694787027394,
     "user": {
      "displayName": "Kai Lukowiak",
      "userId": "00830268910733112328"
     },
     "user_tz": 360
    },
    "id": "beHNMZgM9xaq",
    "outputId": "435430a3-32f2-45b9-9281-8de0fcc3c64b"
   },
   "outputs": [
    {
     "data": {
      "text/plain": [
       "Array([[-0.5414288 ,  0.89103264,  0.59866756,  0.8515222 ,  0.7919216 ,\n",
       "         0.7501984 ,  0.83762395,  0.7644283 ,  0.9183551 ],\n",
       "       [ 0.951081  ,  0.5542748 ,  0.77366734,  0.9765436 ,  0.94176656,\n",
       "         0.88862866,  0.97974265,  0.9051237 ,  1.0543277 ],\n",
       "       [ 0.129242  ,  0.89127326,  0.40422034,  0.9070394 ,  0.82577986,\n",
       "         0.75268227,  0.89223146,  0.7732685 ,  0.9839279 ]],      dtype=float32)"
      ]
     },
     "execution_count": 8,
     "metadata": {},
     "output_type": "execute_result"
    }
   ],
   "source": [
    "regression_out = trm.apply(\n",
    "    {\"params\": trm_variables[\"params\"]},\n",
    "    test_cat_mask,\n",
    "    test_num_mask,\n",
    "    # rngs={\"dropout\": jax.random.PRNGKey(43)}\n",
    ")\n",
    "regression_out"
   ]
  },
  {
   "cell_type": "code",
   "execution_count": 9,
   "metadata": {},
   "outputs": [
    {
     "data": {
      "text/plain": [
       "Array([[15, 18, 20,  3,  7,  8, 10, 11, 12],\n",
       "       [23, 13, 19,  3,  7,  8, 10, 11, 12],\n",
       "       [23, 13, 24,  3,  7,  8, 10, 11, 12]], dtype=int32)"
      ]
     },
     "execution_count": 9,
     "metadata": {},
     "output_type": "execute_result"
    }
   ],
   "source": [
    "# @struct.dataclass\n",
    "# class ModelInputs:\n",
    "#     categorical_mask: jnp.ndarray\n",
    "#     numeric_mask: jnp.ndarray\n",
    "#     numeric_targets: jnp.ndarray\n",
    "#     categorical_targets: jnp.ndarray\n",
    "\n",
    "\n",
    "# def create_mi(\n",
    "#     dataset: hp.TabularDS, idx: int = None, batch_size: int = None, set: str = \"train\"\n",
    "# ):\n",
    "#     if set == \"train\":\n",
    "#         categorical_values = dataset.X_train_categorical\n",
    "#         numeric_targets = dataset.X_train_numeric\n",
    "#     elif set == \"test\":\n",
    "#         categorical_values = dataset.X_test_categorical\n",
    "#         numeric_targets = dataset.X_test_numeric\n",
    "#     else:\n",
    "#         raise ValueError(\"set must be either 'train' or 'test'\")\n",
    "\n",
    "#     if idx is None:\n",
    "#         idx = 0\n",
    "#     if batch_size is None:\n",
    "#         batch_size = numeric_targets.shape[0]\n",
    "\n",
    "#     categorical_values = categorical_values[idx : idx + batch_size, :]\n",
    "#     numeric_targets = numeric_targets[idx : idx + batch_size, :]\n",
    "\n",
    "#     categorical_mask = hp.mask_tensor(categorical_values, dataset)\n",
    "#     numeric_mask = hp.mask_tensor(numeric_targets, dataset)\n",
    "\n",
    "#     numeric_col_tokens = dataset.numeric_col_tokens.clone()\n",
    "#     repeated_numeric_col_tokens = jnp.tile(\n",
    "#         numeric_col_tokens, (categorical_values.shape[0], 1)\n",
    "#     )\n",
    "#     categorical_targets = jnp.concatenate(\n",
    "#         [\n",
    "#             categorical_values,\n",
    "#             repeated_numeric_col_tokens,\n",
    "#         ],\n",
    "#         axis=1,\n",
    "#     )\n",
    "#     categorical_targets = categorical_targets.at[jnp.isnan(categorical_targets)].set(\n",
    "#         dataset.cat_mask_token\n",
    "#     )\n",
    "\n",
    "#     numeric_targets = numeric_targets.at[jnp.isnan(numeric_targets)].set(0.0)\n",
    "\n",
    "# mi = ModelInputs(\n",
    "#     categorical_mask=categorical_mask,\n",
    "#     numeric_mask=numeric_mask,\n",
    "#     numeric_targets=numeric_targets,\n",
    "#     categorical_targets=categorical_targets,\n",
    "# )\n",
    "# return mi\n",
    "\n",
    "\n",
    "mi = hp.create_mi(dataset, 0, 3)\n",
    "# print(mi)\n",
    "mi.categorical_targets"
   ]
  },
  {
   "cell_type": "code",
   "execution_count": 10,
   "metadata": {},
   "outputs": [
    {
     "data": {
      "text/plain": [
       "Array([1.e+00, 2.e+00, 3.e+00, 1.e+04, 5.e+00], dtype=float32)"
      ]
     },
     "execution_count": 10,
     "metadata": {},
     "output_type": "execute_result"
    }
   ],
   "source": [
    "x = jnp.array([1.0, 2.0, 3.0, float(\"nan\"), 5.0])\n",
    "x = x.at[jnp.isnan(x)].set(10000)\n",
    "x"
   ]
  },
  {
   "cell_type": "code",
   "execution_count": 11,
   "metadata": {},
   "outputs": [
    {
     "data": {
      "text/plain": [
       "2"
      ]
     },
     "execution_count": 11,
     "metadata": {},
     "output_type": "execute_result"
    }
   ],
   "source": [
    "dataset.cat_mask_token"
   ]
  },
  {
   "cell_type": "code",
   "execution_count": 12,
   "metadata": {},
   "outputs": [
    {
     "data": {
      "text/plain": [
       "Array([[-1.1770711 ,  0.87294996,  0.6904618 ,         nan, -1.5449512 ,\n",
       "        -1.4861063 ],\n",
       "       [-1.0504906 , -0.1740915 ,  1.1379952 , -1.2669104 , -1.273527  ,\n",
       "        -1.2735491 ],\n",
       "       [        nan,  0.73334444,         nan,  0.1148587 ,  0.04857095,\n",
       "                nan]], dtype=float32)"
      ]
     },
     "execution_count": 12,
     "metadata": {},
     "output_type": "execute_result"
    }
   ],
   "source": [
    "mi.numeric_mask"
   ]
  },
  {
   "cell_type": "code",
   "execution_count": 13,
   "metadata": {
    "id": "-NwHL9rOzEL2"
   },
   "outputs": [
    {
     "data": {
      "text/plain": [
       "{'total_loss': Array(7.173343, dtype=float32),\n",
       " 'categorical_loss': Array(4.5331798, dtype=float32),\n",
       " 'numeric_loss': Array(1.3200817, dtype=float32)}"
      ]
     },
     "execution_count": 13,
     "metadata": {},
     "output_type": "execute_result"
    }
   ],
   "source": [
    "def calculate_loss(\n",
    "    params,\n",
    "    mtm,\n",
    "    mi: hp.ModelInputs,\n",
    "):\n",
    "    logits, regression = mtm.apply(\n",
    "        {\"params\": params},\n",
    "        mi.categorical_mask,\n",
    "        mi.numeric_mask,\n",
    "    )\n",
    "    categorical_loss = optax.softmax_cross_entropy_with_integer_labels(\n",
    "        logits, mi.categorical_targets\n",
    "    ).mean()\n",
    "    numeric_loss = optax.squared_error(regression, mi.numeric_targets).mean()\n",
    "    total_loss = categorical_loss + numeric_loss * 2\n",
    "\n",
    "    return {\n",
    "        \"total_loss\": total_loss,\n",
    "        \"categorical_loss\": categorical_loss,\n",
    "        \"numeric_loss\": numeric_loss,\n",
    "    }\n",
    "\n",
    "\n",
    "calculate_loss(mtm_variables[\"params\"], mtm, mi)"
   ]
  },
  {
   "cell_type": "markdown",
   "metadata": {},
   "source": [
    "\n"
   ]
  },
  {
   "cell_type": "code",
   "execution_count": 14,
   "metadata": {},
   "outputs": [],
   "source": [
    "def create_train_state(params_key, mi, lr=0.01):\n",
    "    model = hp.MTM(dataset, d_model=64, n_heads=4)\n",
    "\n",
    "    params = model.init(\n",
    "        params_key,\n",
    "        mi.categorical_mask,\n",
    "        mi.numeric_mask,\n",
    "    )[\"params\"]\n",
    "    tx = optax.adam(learning_rate=lr)\n",
    "\n",
    "    return train_state.TrainState.create(apply_fn=model.apply, params=params, tx=tx)"
   ]
  },
  {
   "cell_type": "code",
   "execution_count": 15,
   "metadata": {
    "id": "z8BM3zLsWB9v"
   },
   "outputs": [],
   "source": [
    "@jax.jit\n",
    "def train_step(state, mi):\n",
    "    def loss_fn(params):\n",
    "        return calculate_loss(params, mtm, mi)[\"total_loss\"]\n",
    "\n",
    "    grad_fn = jax.value_and_grad(loss_fn)\n",
    "    loss, grad = grad_fn(state.params)\n",
    "    state = state.apply_gradients(grads=grad)\n",
    "    return state, loss\n",
    "\n",
    "\n",
    "@jax.jit\n",
    "def eval_step(params, mi):\n",
    "    return calculate_loss(params, mtm, mi)"
   ]
  },
  {
   "cell_type": "code",
   "execution_count": 29,
   "metadata": {},
   "outputs": [
    {
     "name": "stdout",
     "output_type": "stream",
     "text": [
      "[-1.1770710945129395, 0.8729499578475952, 0.6904618144035339, -1.6056667566299438, -1.5449512004852295, -1.486106276512146]\n",
      "['Very Good', 'F', 'VS1', -1.1770710945129395, 0.8729499578475952, 0.6904618144035339, -1.6056667566299438, -1.5449512004852295, -1.486106276512146]\n"
     ]
    },
    {
     "data": {
      "text/html": [
       "<div>\n",
       "<style scoped>\n",
       "    .dataframe tbody tr th:only-of-type {\n",
       "        vertical-align: middle;\n",
       "    }\n",
       "\n",
       "    .dataframe tbody tr th {\n",
       "        vertical-align: top;\n",
       "    }\n",
       "\n",
       "    .dataframe thead th {\n",
       "        text-align: right;\n",
       "    }\n",
       "</style>\n",
       "<table border=\"1\" class=\"dataframe\">\n",
       "  <thead>\n",
       "    <tr style=\"text-align: right;\">\n",
       "      <th></th>\n",
       "      <th>cut</th>\n",
       "      <th>color</th>\n",
       "      <th>clarity</th>\n",
       "      <th>carat</th>\n",
       "      <th>depth</th>\n",
       "      <th>table</th>\n",
       "      <th>x</th>\n",
       "      <th>y</th>\n",
       "      <th>z</th>\n",
       "    </tr>\n",
       "  </thead>\n",
       "  <tbody>\n",
       "    <tr>\n",
       "      <th>masked</th>\n",
       "      <td>[MASK]</td>\n",
       "      <td>F</td>\n",
       "      <td>VS1</td>\n",
       "      <td>NaN</td>\n",
       "      <td>0.872950</td>\n",
       "      <td>0.690462</td>\n",
       "      <td>NaN</td>\n",
       "      <td>NaN</td>\n",
       "      <td>-1.486106</td>\n",
       "    </tr>\n",
       "    <tr>\n",
       "      <th>actual</th>\n",
       "      <td>Very Good</td>\n",
       "      <td>F</td>\n",
       "      <td>VS1</td>\n",
       "      <td>-1.177071</td>\n",
       "      <td>0.872950</td>\n",
       "      <td>0.690462</td>\n",
       "      <td>-1.605667</td>\n",
       "      <td>-1.544951</td>\n",
       "      <td>-1.486106</td>\n",
       "    </tr>\n",
       "    <tr>\n",
       "      <th>pred</th>\n",
       "      <td>H</td>\n",
       "      <td>H</td>\n",
       "      <td>H</td>\n",
       "      <td>-0.828165</td>\n",
       "      <td>-0.722174</td>\n",
       "      <td>0.315349</td>\n",
       "      <td>-0.748105</td>\n",
       "      <td>-0.058109</td>\n",
       "      <td>0.244935</td>\n",
       "    </tr>\n",
       "  </tbody>\n",
       "</table>\n",
       "</div>"
      ],
      "text/plain": [
       "              cut color clarity     carat     depth     table         x  \\\n",
       "masked     [MASK]     F     VS1       NaN  0.872950  0.690462       NaN   \n",
       "actual  Very Good     F     VS1 -1.177071  0.872950  0.690462 -1.605667   \n",
       "pred            H     H       H -0.828165 -0.722174  0.315349 -0.748105   \n",
       "\n",
       "               y         z  \n",
       "masked       NaN -1.486106  \n",
       "actual -1.544951 -1.486106  \n",
       "pred   -0.058109  0.244935  "
      ]
     },
     "execution_count": 29,
     "metadata": {},
     "output_type": "execute_result"
    }
   ],
   "source": [
    "state = create_train_state(params_key, mi)\n",
    "res = hp.show_mask_pred(state.params, mtm, 0, dataset, probability=0.8, set=\"train\")\n",
    "pd.DataFrame.from_dict(res, orient=\"index\")"
   ]
  },
  {
   "cell_type": "code",
   "execution_count": 30,
   "metadata": {
    "executionInfo": {
     "elapsed": 266,
     "status": "ok",
     "timestamp": 1694787061254,
     "user": {
      "displayName": "Kai Lukowiak",
      "userId": "00830268910733112328"
     },
     "user_tz": 360
    },
    "id": "8vV4WmWU9xau"
   },
   "outputs": [
    {
     "data": {
      "application/vnd.jupyter.widget-view+json": {
       "model_id": "8ecf43e48a9c4d32a27d96aac3f5c09a",
       "version_major": 2,
       "version_minor": 0
      },
      "text/plain": [
       "  0%|          | 0/100 [00:00<?, ?it/s]"
      ]
     },
     "metadata": {},
     "output_type": "display_data"
    }
   ],
   "source": [
    "epochs = 100\n",
    "total_loss = []\n",
    "categorical_loss = []\n",
    "numeric_loss = []\n",
    "summary_writer = SummaryWriter(\n",
    "    \"runs/\" + dt.now().strftime(\"%Y-%m:%dT%H:%M:%S\") + \"_mtm\"\n",
    ")\n",
    "\n",
    "# test_mi = create_mi(dataset, set=\"test\")\n",
    "\n",
    "mi = hp.create_mi(dataset)\n",
    "pbar = trange(epochs)\n",
    "for epoch in pbar:\n",
    "    state, loss = train_step(state, mi)\n",
    "    train_loss_dict = eval_step(state.params, mi)\n",
    "\n",
    "    total_loss.append(train_loss_dict[\"total_loss\"].item())\n",
    "    categorical_loss.append(train_loss_dict[\"categorical_loss\"].item())\n",
    "    numeric_loss.append(train_loss_dict[\"numeric_loss\"].item())\n",
    "    # Train Loss\n",
    "    summary_writer.add_scalar(\n",
    "        \"TrainLoss/total\", train_loss_dict[\"total_loss\"].item(), epoch\n",
    "    )\n",
    "    summary_writer.add_scalar(\n",
    "        \"TrainLoss/categorical\", train_loss_dict[\"categorical_loss\"].item(), epoch\n",
    "    )\n",
    "    summary_writer.add_scalar(\n",
    "        \"TrainLoss/numeric\", train_loss_dict[\"numeric_loss\"].item(), epoch\n",
    "    )\n",
    "    # Test Loss\n",
    "    # if epoch % 10 == 0:\n",
    "    #     test_loss_dict = eval_step(state.params, test_mi)\n",
    "    #     summary_writer.add_scalar(\n",
    "    #         \"TestLoss/total\", test_loss_dict[\"total_loss\"].item(), epoch\n",
    "    #     )\n",
    "    #     summary_writer.add_scalar(\n",
    "    #         \"TestLoss/categorical\", test_loss_dict[\"categorical_loss\"].item(), epoch\n",
    "    #     )\n",
    "    #     summary_writer.add_scalar(\n",
    "    #         \"TestLoss/numeric\", test_loss_dict[\"numeric_loss\"].item(), epoch\n",
    "    #     )\n",
    "    pbar.set_description(f\"Train Loss: {train_loss_dict['total_loss'].item():.4f}\")\n",
    "    # all_losses.append(loss.item())\n",
    "    # logger.add_scalar(\"Loss/train\", loss.item(), i)\n",
    "\n",
    "total_loss = jnp.array(total_loss)\n",
    "categorical_loss = jnp.array(categorical_loss)\n",
    "numeric_loss = jnp.array(numeric_loss)"
   ]
  },
  {
   "cell_type": "code",
   "execution_count": 31,
   "metadata": {},
   "outputs": [
    {
     "data": {
      "text/plain": [
       "(0.0, 4.0)"
      ]
     },
     "execution_count": 31,
     "metadata": {},
     "output_type": "execute_result"
    },
    {
     "data": {
      "image/png": "[encoded data removed]",
      "text/plain": [
       "<Figure size 640x480 with 1 Axes>"
      ]
     },
     "metadata": {},
     "output_type": "display_data"
    }
   ],
   "source": [
    "# plot all_losses\n",
    "sns.lineplot(categorical_loss)\n",
    "plt.ylim(0, 4)"
   ]
  },
  {
   "cell_type": "code",
   "execution_count": 32,
   "metadata": {},
   "outputs": [
    {
     "data": {
      "text/plain": [
       "Array(2.7373934, dtype=float32)"
      ]
     },
     "execution_count": 32,
     "metadata": {},
     "output_type": "execute_result"
    }
   ],
   "source": [
    "categorical_loss.min()"
   ]
  },
  {
   "cell_type": "code",
   "execution_count": 33,
   "metadata": {},
   "outputs": [
    {
     "name": "stdout",
     "output_type": "stream",
     "text": [
      "[-1.1770710945129395, 0.8729499578475952, 0.6904618144035339, -1.6056667566299438, -1.5449512004852295, -1.486106276512146]\n",
      "['Very Good', 'F', 'VS1', -1.1770710945129395, 0.8729499578475952, 0.6904618144035339, -1.6056667566299438, -1.5449512004852295, -1.486106276512146]\n"
     ]
    },
    {
     "data": {
      "text/html": [
       "<div>\n",
       "<style scoped>\n",
       "    .dataframe tbody tr th:only-of-type {\n",
       "        vertical-align: middle;\n",
       "    }\n",
       "\n",
       "    .dataframe tbody tr th {\n",
       "        vertical-align: top;\n",
       "    }\n",
       "\n",
       "    .dataframe thead th {\n",
       "        text-align: right;\n",
       "    }\n",
       "</style>\n",
       "<table border=\"1\" class=\"dataframe\">\n",
       "  <thead>\n",
       "    <tr style=\"text-align: right;\">\n",
       "      <th></th>\n",
       "      <th>masked</th>\n",
       "      <th>actual</th>\n",
       "      <th>pred</th>\n",
       "    </tr>\n",
       "  </thead>\n",
       "  <tbody>\n",
       "    <tr>\n",
       "      <th>cut</th>\n",
       "      <td>Very Good</td>\n",
       "      <td>Very Good</td>\n",
       "      <td>x</td>\n",
       "    </tr>\n",
       "    <tr>\n",
       "      <th>color</th>\n",
       "      <td>F</td>\n",
       "      <td>F</td>\n",
       "      <td>x</td>\n",
       "    </tr>\n",
       "    <tr>\n",
       "      <th>clarity</th>\n",
       "      <td>[MASK]</td>\n",
       "      <td>VS1</td>\n",
       "      <td>table</td>\n",
       "    </tr>\n",
       "    <tr>\n",
       "      <th>carat</th>\n",
       "      <td>-1.177071</td>\n",
       "      <td>-1.177071</td>\n",
       "      <td>-0.007593</td>\n",
       "    </tr>\n",
       "    <tr>\n",
       "      <th>depth</th>\n",
       "      <td>0.87295</td>\n",
       "      <td>0.87295</td>\n",
       "      <td>-0.081697</td>\n",
       "    </tr>\n",
       "    <tr>\n",
       "      <th>table</th>\n",
       "      <td>0.690462</td>\n",
       "      <td>0.690462</td>\n",
       "      <td>0.117619</td>\n",
       "    </tr>\n",
       "    <tr>\n",
       "      <th>x</th>\n",
       "      <td>-1.605667</td>\n",
       "      <td>-1.605667</td>\n",
       "      <td>0.024286</td>\n",
       "    </tr>\n",
       "    <tr>\n",
       "      <th>y</th>\n",
       "      <td>-1.544951</td>\n",
       "      <td>-1.544951</td>\n",
       "      <td>0.053307</td>\n",
       "    </tr>\n",
       "    <tr>\n",
       "      <th>z</th>\n",
       "      <td>-1.486106</td>\n",
       "      <td>-1.486106</td>\n",
       "      <td>0.129651</td>\n",
       "    </tr>\n",
       "  </tbody>\n",
       "</table>\n",
       "</div>"
      ],
      "text/plain": [
       "            masked     actual      pred\n",
       "cut      Very Good  Very Good         x\n",
       "color            F          F         x\n",
       "clarity     [MASK]        VS1     table\n",
       "carat    -1.177071  -1.177071 -0.007593\n",
       "depth      0.87295    0.87295 -0.081697\n",
       "table     0.690462   0.690462  0.117619\n",
       "x        -1.605667  -1.605667  0.024286\n",
       "y        -1.544951  -1.544951  0.053307\n",
       "z        -1.486106  -1.486106  0.129651"
      ]
     },
     "execution_count": 33,
     "metadata": {},
     "output_type": "execute_result"
    }
   ],
   "source": [
    "res = hp.show_mask_pred(state.params, mtm, 0, dataset, probability=0.8, set=\"train\")\n",
    "pd.DataFrame(res)"
   ]
  },
  {
   "cell_type": "code",
   "execution_count": null,
   "metadata": {},
   "outputs": [],
   "source": []
  },
  {
   "cell_type": "code",
   "execution_count": 21,
   "metadata": {},
   "outputs": [
    {
     "data": {
      "text/plain": [
       "3"
      ]
     },
     "execution_count": 21,
     "metadata": {},
     "output_type": "execute_result"
    }
   ],
   "source": [
    "dataset.n_cat_cols"
   ]
  },
  {
   "cell_type": "code",
   "execution_count": 22,
   "metadata": {},
   "outputs": [
    {
     "data": {
      "text/plain": [
       "(0.0, 4.0)"
      ]
     },
     "execution_count": 22,
     "metadata": {},
     "output_type": "execute_result"
    },
    {
     "data": {
      "image/png": "[encoded data removed]",
      "text/plain": [
       "<Figure size 640x480 with 1 Axes>"
      ]
     },
     "metadata": {},
     "output_type": "display_data"
    }
   ],
   "source": [
    "sns.lineplot(numeric_loss)\n",
    "plt.ylim(0, 4)"
   ]
  },
  {
   "cell_type": "code",
   "execution_count": 23,
   "metadata": {},
   "outputs": [
    {
     "data": {
      "text/plain": [
       "<Axes: >"
      ]
     },
     "execution_count": 23,
     "metadata": {},
     "output_type": "execute_result"
    },
    {
     "data": {
      "image/png": "[encoded data removed]",
      "text/plain": [
       "<Figure size 640x480 with 1 Axes>"
      ]
     },
     "metadata": {},
     "output_type": "display_data"
    }
   ],
   "source": [
    "# set max y to 10\n",
    "\n",
    "sns.lineplot(total_loss)  # set max y to 10"
   ]
  },
  {
   "cell_type": "code",
   "execution_count": 24,
   "metadata": {},
   "outputs": [
    {
     "data": {
      "text/plain": [
       "Array(5.198257, dtype=float32)"
      ]
     },
     "execution_count": 24,
     "metadata": {},
     "output_type": "execute_result"
    }
   ],
   "source": [
    "total_loss.min()"
   ]
  },
  {
   "cell_type": "code",
   "execution_count": 25,
   "metadata": {},
   "outputs": [],
   "source": [
    "# create random jnp array\n",
    "# Set a random seed\n",
    "key = jax.random.PRNGKey(0)\n",
    "\n",
    "# Generate a random array with shape (3, 3)\n",
    "random_array = jax.random.uniform(key, shape=(2, 6, 64))"
   ]
  },
  {
   "cell_type": "code",
   "execution_count": 26,
   "metadata": {},
   "outputs": [],
   "source": [
    "x = jnp.argmax(random_array, axis=-1)"
   ]
  },
  {
   "cell_type": "code",
   "execution_count": 27,
   "metadata": {},
   "outputs": [
    {
     "data": {
      "text/plain": [
       "[[38, 38, 36], [19, 52, 29]]"
      ]
     },
     "execution_count": 27,
     "metadata": {},
     "output_type": "execute_result"
    }
   ],
   "source": [
    "x[:, 0:-3].tolist()"
   ]
  },
  {
   "cell_type": "code",
   "execution_count": 28,
   "metadata": {},
   "outputs": [
    {
     "ename": "NameError",
     "evalue": "name 'has_nans' is not defined",
     "output_type": "error",
     "traceback": [
      "\u001b[0;31m---------------------------------------------------------------------------\u001b[0m",
      "\u001b[0;31mNameError\u001b[0m                                 Traceback (most recent call last)",
      "\u001b[1;32m/Users/kailukowiak/Library/CloudStorage/GoogleDrive-kai.lukowiak@industrytransformer.io/My Drive/Colab Notebooks/Hephaestus/Transformers/MaskedTabularModelingFlax.ipynb Cell 30\u001b[0m line \u001b[0;36m7\n\u001b[1;32m      <a href='vscode-notebook-cell:/Users/kailukowiak/Library/CloudStorage/GoogleDrive-kai.lukowiak%40industrytransformer.io/My%20Drive/Colab%20Notebooks/Hephaestus/Transformers/MaskedTabularModelingFlax.ipynb#X30sZmlsZQ%3D%3D?line=2'>3</a>\u001b[0m     mask \u001b[39m=\u001b[39m jnp\u001b[39m.\u001b[39misnan(x)\n\u001b[1;32m      <a href='vscode-notebook-cell:/Users/kailukowiak/Library/CloudStorage/GoogleDrive-kai.lukowiak%40industrytransformer.io/My%20Drive/Colab%20Notebooks/Hephaestus/Transformers/MaskedTabularModelingFlax.ipynb#X30sZmlsZQ%3D%3D?line=3'>4</a>\u001b[0m     \u001b[39mreturn\u001b[39;00m jnp\u001b[39m.\u001b[39mwhere(mask, n, x)\n\u001b[0;32m----> <a href='vscode-notebook-cell:/Users/kailukowiak/Library/CloudStorage/GoogleDrive-kai.lukowiak%40industrytransformer.io/My%20Drive/Colab%20Notebooks/Hephaestus/Transformers/MaskedTabularModelingFlax.ipynb#X30sZmlsZQ%3D%3D?line=6'>7</a>\u001b[0m replace_nans_with_zeros(has_nans)\n\u001b[1;32m      <a href='vscode-notebook-cell:/Users/kailukowiak/Library/CloudStorage/GoogleDrive-kai.lukowiak%40industrytransformer.io/My%20Drive/Colab%20Notebooks/Hephaestus/Transformers/MaskedTabularModelingFlax.ipynb#X30sZmlsZQ%3D%3D?line=7'>8</a>\u001b[0m jax\u001b[39m.\u001b[39mgrad(replace_nans_with_zeros)(\u001b[39m0.0\u001b[39m)\n",
      "\u001b[0;31mNameError\u001b[0m: name 'has_nans' is not defined"
     ]
    }
   ],
   "source": [
    "def replace_nans_with_zeros(n):\n",
    "    x = has_nans\n",
    "    mask = jnp.isnan(x)\n",
    "    return jnp.where(mask, n, x)\n",
    "\n",
    "\n",
    "replace_nans_with_zeros(has_nans)\n",
    "jax.grad(replace_nans_with_zeros)(0.0)"
   ]
  },
  {
   "cell_type": "code",
   "execution_count": null,
   "metadata": {},
   "outputs": [
    {
     "data": {
      "text/plain": [
       "Array(0., dtype=float32, weak_type=True)"
      ]
     },
     "execution_count": 43,
     "metadata": {},
     "output_type": "execute_result"
    }
   ],
   "source": [
    "def safe_for_grad_log(x):\n",
    "    return jnp.log(jnp.where(x > 0.0, x, 1.0))\n",
    "\n",
    "\n",
    "safe_for_grad_log(0.0)  # ==> 0.  # Ok\n",
    "jax.grad(safe_for_grad_log)(0.0)  #  ==> 0.  # Ok"
   ]
  },
  {
   "cell_type": "code",
   "execution_count": null,
   "metadata": {},
   "outputs": [
    {
     "data": {
      "text/plain": [
       "Array([0., 0., 0., 0., 0., 0., 0., 0., 0.], dtype=float32)"
      ]
     },
     "execution_count": 23,
     "metadata": {},
     "output_type": "execute_result"
    }
   ],
   "source": [
    "jnp.where(mask, arr, 0.0)"
   ]
  },
  {
   "cell_type": "code",
   "execution_count": null,
   "metadata": {},
   "outputs": [
    {
     "ename": "TypeError",
     "evalue": "where requires ndarray or scalar arguments, got <class 'NoneType'> at position 2.",
     "output_type": "error",
     "traceback": [
      "\u001b[0;31m---------------------------------------------------------------------------\u001b[0m",
      "\u001b[0;31mTypeError\u001b[0m                                 Traceback (most recent call last)",
      "\u001b[1;32m/Users/kailukowiak/Library/CloudStorage/GoogleDrive-kai.lukowiak@industrytransformer.io/My Drive/Colab Notebooks/Hephaestus/Transformers/MaskedTabularModelingFlax.ipynb Cell 23\u001b[0m line \u001b[0;36m1\n\u001b[0;32m----> <a href='vscode-notebook-cell:/Users/kailukowiak/Library/CloudStorage/GoogleDrive-kai.lukowiak%40industrytransformer.io/My%20Drive/Colab%20Notebooks/Hephaestus/Transformers/MaskedTabularModelingFlax.ipynb#X53sZmlsZQ%3D%3D?line=0'>1</a>\u001b[0m jnp\u001b[39m.\u001b[39;49mwhere(arr \u001b[39m==\u001b[39;49m \u001b[39mfloat\u001b[39;49m(\u001b[39m\"\u001b[39;49m\u001b[39mnan\u001b[39;49m\u001b[39m\"\u001b[39;49m), \u001b[39m1\u001b[39;49m)\n",
      "File \u001b[0;32m/opt/homebrew/Caskroom/miniconda/base/envs/hepheastus/lib/python3.11/site-packages/jax/_src/numpy/lax_numpy.py:1112\u001b[0m, in \u001b[0;36mwhere\u001b[0;34m(condition, x, y, size, fill_value)\u001b[0m\n\u001b[1;32m   1110\u001b[0m   \u001b[39mreturn\u001b[39;00m nonzero(condition, size\u001b[39m=\u001b[39msize, fill_value\u001b[39m=\u001b[39mfill_value)\n\u001b[1;32m   1111\u001b[0m \u001b[39melse\u001b[39;00m:\n\u001b[0;32m-> 1112\u001b[0m   util\u001b[39m.\u001b[39;49mcheck_arraylike(\u001b[39m\"\u001b[39;49m\u001b[39mwhere\u001b[39;49m\u001b[39m\"\u001b[39;49m, condition, x, y)\n\u001b[1;32m   1113\u001b[0m   \u001b[39mif\u001b[39;00m size \u001b[39mis\u001b[39;00m \u001b[39mnot\u001b[39;00m \u001b[39mNone\u001b[39;00m \u001b[39mor\u001b[39;00m fill_value \u001b[39mis\u001b[39;00m \u001b[39mnot\u001b[39;00m \u001b[39mNone\u001b[39;00m:\n\u001b[1;32m   1114\u001b[0m     \u001b[39mraise\u001b[39;00m \u001b[39mValueError\u001b[39;00m(\u001b[39m\"\u001b[39m\u001b[39msize and fill_value arguments cannot be used in three-term where function.\u001b[39m\u001b[39m\"\u001b[39m)\n",
      "File \u001b[0;32m/opt/homebrew/Caskroom/miniconda/base/envs/hepheastus/lib/python3.11/site-packages/jax/_src/numpy/util.py:328\u001b[0m, in \u001b[0;36mcheck_arraylike\u001b[0;34m(fun_name, *args)\u001b[0m\n\u001b[1;32m    325\u001b[0m pos, arg \u001b[39m=\u001b[39m \u001b[39mnext\u001b[39m((i, arg) \u001b[39mfor\u001b[39;00m i, arg \u001b[39min\u001b[39;00m \u001b[39menumerate\u001b[39m(args)\n\u001b[1;32m    326\u001b[0m                 \u001b[39mif\u001b[39;00m \u001b[39mnot\u001b[39;00m _arraylike(arg))\n\u001b[1;32m    327\u001b[0m msg \u001b[39m=\u001b[39m \u001b[39m\"\u001b[39m\u001b[39m{}\u001b[39;00m\u001b[39m requires ndarray or scalar arguments, got \u001b[39m\u001b[39m{}\u001b[39;00m\u001b[39m at position \u001b[39m\u001b[39m{}\u001b[39;00m\u001b[39m.\u001b[39m\u001b[39m\"\u001b[39m\n\u001b[0;32m--> 328\u001b[0m \u001b[39mraise\u001b[39;00m \u001b[39mTypeError\u001b[39;00m(msg\u001b[39m.\u001b[39mformat(fun_name, \u001b[39mtype\u001b[39m(arg), pos))\n",
      "\u001b[0;31mTypeError\u001b[0m: where requires ndarray or scalar arguments, got <class 'NoneType'> at position 2."
     ]
    }
   ],
   "source": [
    "jnp.where(\n",
    "    arr == float(\"nan\"),\n",
    ")"
   ]
  }
 ],
 "metadata": {
  "availableInstances": [
   {
    "_defaultOrder": 0,
    "_isFastLaunch": true,
    "category": "General purpose",
    "gpuNum": 0,
    "hideHardwareSpecs": false,
    "memoryGiB": 4,
    "name": "ml.t3.medium",
    "vcpuNum": 2
   },
   {
    "_defaultOrder": 1,
    "_isFastLaunch": false,
    "category": "General purpose",
    "gpuNum": 0,
    "hideHardwareSpecs": false,
    "memoryGiB": 8,
    "name": "ml.t3.large",
    "vcpuNum": 2
   },
   {
    "_defaultOrder": 2,
    "_isFastLaunch": false,
    "category": "General purpose",
    "gpuNum": 0,
    "hideHardwareSpecs": false,
    "memoryGiB": 16,
    "name": "ml.t3.xlarge",
    "vcpuNum": 4
   },
   {
    "_defaultOrder": 3,
    "_isFastLaunch": false,
    "category": "General purpose",
    "gpuNum": 0,
    "hideHardwareSpecs": false,
    "memoryGiB": 32,
    "name": "ml.t3.2xlarge",
    "vcpuNum": 8
   },
   {
    "_defaultOrder": 4,
    "_isFastLaunch": true,
    "category": "General purpose",
    "gpuNum": 0,
    "hideHardwareSpecs": false,
    "memoryGiB": 8,
    "name": "ml.m5.large",
    "vcpuNum": 2
   },
   {
    "_defaultOrder": 5,
    "_isFastLaunch": false,
    "category": "General purpose",
    "gpuNum": 0,
    "hideHardwareSpecs": false,
    "memoryGiB": 16,
    "name": "ml.m5.xlarge",
    "vcpuNum": 4
   },
   {
    "_defaultOrder": 6,
    "_isFastLaunch": false,
    "category": "General purpose",
    "gpuNum": 0,
    "hideHardwareSpecs": false,
    "memoryGiB": 32,
    "name": "ml.m5.2xlarge",
    "vcpuNum": 8
   },
   {
    "_defaultOrder": 7,
    "_isFastLaunch": false,
    "category": "General purpose",
    "gpuNum": 0,
    "hideHardwareSpecs": false,
    "memoryGiB": 64,
    "name": "ml.m5.4xlarge",
    "vcpuNum": 16
   },
   {
    "_defaultOrder": 8,
    "_isFastLaunch": false,
    "category": "General purpose",
    "gpuNum": 0,
    "hideHardwareSpecs": false,
    "memoryGiB": 128,
    "name": "ml.m5.8xlarge",
    "vcpuNum": 32
   },
   {
    "_defaultOrder": 9,
    "_isFastLaunch": false,
    "category": "General purpose",
    "gpuNum": 0,
    "hideHardwareSpecs": false,
    "memoryGiB": 192,
    "name": "ml.m5.12xlarge",
    "vcpuNum": 48
   },
   {
    "_defaultOrder": 10,
    "_isFastLaunch": false,
    "category": "General purpose",
    "gpuNum": 0,
    "hideHardwareSpecs": false,
    "memoryGiB": 256,
    "name": "ml.m5.16xlarge",
    "vcpuNum": 64
   },
   {
    "_defaultOrder": 11,
    "_isFastLaunch": false,
    "category": "General purpose",
    "gpuNum": 0,
    "hideHardwareSpecs": false,
    "memoryGiB": 384,
    "name": "ml.m5.24xlarge",
    "vcpuNum": 96
   },
   {
    "_defaultOrder": 12,
    "_isFastLaunch": false,
    "category": "General purpose",
    "gpuNum": 0,
    "hideHardwareSpecs": false,
    "memoryGiB": 8,
    "name": "ml.m5d.large",
    "vcpuNum": 2
   },
   {
    "_defaultOrder": 13,
    "_isFastLaunch": false,
    "category": "General purpose",
    "gpuNum": 0,
    "hideHardwareSpecs": false,
    "memoryGiB": 16,
    "name": "ml.m5d.xlarge",
    "vcpuNum": 4
   },
   {
    "_defaultOrder": 14,
    "_isFastLaunch": false,
    "category": "General purpose",
    "gpuNum": 0,
    "hideHardwareSpecs": false,
    "memoryGiB": 32,
    "name": "ml.m5d.2xlarge",
    "vcpuNum": 8
   },
   {
    "_defaultOrder": 15,
    "_isFastLaunch": false,
    "category": "General purpose",
    "gpuNum": 0,
    "hideHardwareSpecs": false,
    "memoryGiB": 64,
    "name": "ml.m5d.4xlarge",
    "vcpuNum": 16
   },
   {
    "_defaultOrder": 16,
    "_isFastLaunch": false,
    "category": "General purpose",
    "gpuNum": 0,
    "hideHardwareSpecs": false,
    "memoryGiB": 128,
    "name": "ml.m5d.8xlarge",
    "vcpuNum": 32
   },
   {
    "_defaultOrder": 17,
    "_isFastLaunch": false,
    "category": "General purpose",
    "gpuNum": 0,
    "hideHardwareSpecs": false,
    "memoryGiB": 192,
    "name": "ml.m5d.12xlarge",
    "vcpuNum": 48
   },
   {
    "_defaultOrder": 18,
    "_isFastLaunch": false,
    "category": "General purpose",
    "gpuNum": 0,
    "hideHardwareSpecs": false,
    "memoryGiB": 256,
    "name": "ml.m5d.16xlarge",
    "vcpuNum": 64
   },
   {
    "_defaultOrder": 19,
    "_isFastLaunch": false,
    "category": "General purpose",
    "gpuNum": 0,
    "hideHardwareSpecs": false,
    "memoryGiB": 384,
    "name": "ml.m5d.24xlarge",
    "vcpuNum": 96
   },
   {
    "_defaultOrder": 20,
    "_isFastLaunch": false,
    "category": "General purpose",
    "gpuNum": 0,
    "hideHardwareSpecs": true,
    "memoryGiB": 0,
    "name": "ml.geospatial.interactive",
    "supportedImageNames": [
     "sagemaker-geospatial-v1-0"
    ],
    "vcpuNum": 0
   },
   {
    "_defaultOrder": 21,
    "_isFastLaunch": true,
    "category": "Compute optimized",
    "gpuNum": 0,
    "hideHardwareSpecs": false,
    "memoryGiB": 4,
    "name": "ml.c5.large",
    "vcpuNum": 2
   },
   {
    "_defaultOrder": 22,
    "_isFastLaunch": false,
    "category": "Compute optimized",
    "gpuNum": 0,
    "hideHardwareSpecs": false,
    "memoryGiB": 8,
    "name": "ml.c5.xlarge",
    "vcpuNum": 4
   },
   {
    "_defaultOrder": 23,
    "_isFastLaunch": false,
    "category": "Compute optimized",
    "gpuNum": 0,
    "hideHardwareSpecs": false,
    "memoryGiB": 16,
    "name": "ml.c5.2xlarge",
    "vcpuNum": 8
   },
   {
    "_defaultOrder": 24,
    "_isFastLaunch": false,
    "category": "Compute optimized",
    "gpuNum": 0,
    "hideHardwareSpecs": false,
    "memoryGiB": 32,
    "name": "ml.c5.4xlarge",
    "vcpuNum": 16
   },
   {
    "_defaultOrder": 25,
    "_isFastLaunch": false,
    "category": "Compute optimized",
    "gpuNum": 0,
    "hideHardwareSpecs": false,
    "memoryGiB": 72,
    "name": "ml.c5.9xlarge",
    "vcpuNum": 36
   },
   {
    "_defaultOrder": 26,
    "_isFastLaunch": false,
    "category": "Compute optimized",
    "gpuNum": 0,
    "hideHardwareSpecs": false,
    "memoryGiB": 96,
    "name": "ml.c5.12xlarge",
    "vcpuNum": 48
   },
   {
    "_defaultOrder": 27,
    "_isFastLaunch": false,
    "category": "Compute optimized",
    "gpuNum": 0,
    "hideHardwareSpecs": false,
    "memoryGiB": 144,
    "name": "ml.c5.18xlarge",
    "vcpuNum": 72
   },
   {
    "_defaultOrder": 28,
    "_isFastLaunch": false,
    "category": "Compute optimized",
    "gpuNum": 0,
    "hideHardwareSpecs": false,
    "memoryGiB": 192,
    "name": "ml.c5.24xlarge",
    "vcpuNum": 96
   },
   {
    "_defaultOrder": 29,
    "_isFastLaunch": true,
    "category": "Accelerated computing",
    "gpuNum": 1,
    "hideHardwareSpecs": false,
    "memoryGiB": 16,
    "name": "ml.g4dn.xlarge",
    "vcpuNum": 4
   },
   {
    "_defaultOrder": 30,
    "_isFastLaunch": false,
    "category": "Accelerated computing",
    "gpuNum": 1,
    "hideHardwareSpecs": false,
    "memoryGiB": 32,
    "name": "ml.g4dn.2xlarge",
    "vcpuNum": 8
   },
   {
    "_defaultOrder": 31,
    "_isFastLaunch": false,
    "category": "Accelerated computing",
    "gpuNum": 1,
    "hideHardwareSpecs": false,
    "memoryGiB": 64,
    "name": "ml.g4dn.4xlarge",
    "vcpuNum": 16
   },
   {
    "_defaultOrder": 32,
    "_isFastLaunch": false,
    "category": "Accelerated computing",
    "gpuNum": 1,
    "hideHardwareSpecs": false,
    "memoryGiB": 128,
    "name": "ml.g4dn.8xlarge",
    "vcpuNum": 32
   },
   {
    "_defaultOrder": 33,
    "_isFastLaunch": false,
    "category": "Accelerated computing",
    "gpuNum": 4,
    "hideHardwareSpecs": false,
    "memoryGiB": 192,
    "name": "ml.g4dn.12xlarge",
    "vcpuNum": 48
   },
   {
    "_defaultOrder": 34,
    "_isFastLaunch": false,
    "category": "Accelerated computing",
    "gpuNum": 1,
    "hideHardwareSpecs": false,
    "memoryGiB": 256,
    "name": "ml.g4dn.16xlarge",
    "vcpuNum": 64
   },
   {
    "_defaultOrder": 35,
    "_isFastLaunch": false,
    "category": "Accelerated computing",
    "gpuNum": 1,
    "hideHardwareSpecs": false,
    "memoryGiB": 61,
    "name": "ml.p3.2xlarge",
    "vcpuNum": 8
   },
   {
    "_defaultOrder": 36,
    "_isFastLaunch": false,
    "category": "Accelerated computing",
    "gpuNum": 4,
    "hideHardwareSpecs": false,
    "memoryGiB": 244,
    "name": "ml.p3.8xlarge",
    "vcpuNum": 32
   },
   {
    "_defaultOrder": 37,
    "_isFastLaunch": false,
    "category": "Accelerated computing",
    "gpuNum": 8,
    "hideHardwareSpecs": false,
    "memoryGiB": 488,
    "name": "ml.p3.16xlarge",
    "vcpuNum": 64
   },
   {
    "_defaultOrder": 38,
    "_isFastLaunch": false,
    "category": "Accelerated computing",
    "gpuNum": 8,
    "hideHardwareSpecs": false,
    "memoryGiB": 768,
    "name": "ml.p3dn.24xlarge",
    "vcpuNum": 96
   },
   {
    "_defaultOrder": 39,
    "_isFastLaunch": false,
    "category": "Memory Optimized",
    "gpuNum": 0,
    "hideHardwareSpecs": false,
    "memoryGiB": 16,
    "name": "ml.r5.large",
    "vcpuNum": 2
   },
   {
    "_defaultOrder": 40,
    "_isFastLaunch": false,
    "category": "Memory Optimized",
    "gpuNum": 0,
    "hideHardwareSpecs": false,
    "memoryGiB": 32,
    "name": "ml.r5.xlarge",
    "vcpuNum": 4
   },
   {
    "_defaultOrder": 41,
    "_isFastLaunch": false,
    "category": "Memory Optimized",
    "gpuNum": 0,
    "hideHardwareSpecs": false,
    "memoryGiB": 64,
    "name": "ml.r5.2xlarge",
    "vcpuNum": 8
   },
   {
    "_defaultOrder": 42,
    "_isFastLaunch": false,
    "category": "Memory Optimized",
    "gpuNum": 0,
    "hideHardwareSpecs": false,
    "memoryGiB": 128,
    "name": "ml.r5.4xlarge",
    "vcpuNum": 16
   },
   {
    "_defaultOrder": 43,
    "_isFastLaunch": false,
    "category": "Memory Optimized",
    "gpuNum": 0,
    "hideHardwareSpecs": false,
    "memoryGiB": 256,
    "name": "ml.r5.8xlarge",
    "vcpuNum": 32
   },
   {
    "_defaultOrder": 44,
    "_isFastLaunch": false,
    "category": "Memory Optimized",
    "gpuNum": 0,
    "hideHardwareSpecs": false,
    "memoryGiB": 384,
    "name": "ml.r5.12xlarge",
    "vcpuNum": 48
   },
   {
    "_defaultOrder": 45,
    "_isFastLaunch": false,
    "category": "Memory Optimized",
    "gpuNum": 0,
    "hideHardwareSpecs": false,
    "memoryGiB": 512,
    "name": "ml.r5.16xlarge",
    "vcpuNum": 64
   },
   {
    "_defaultOrder": 46,
    "_isFastLaunch": false,
    "category": "Memory Optimized",
    "gpuNum": 0,
    "hideHardwareSpecs": false,
    "memoryGiB": 768,
    "name": "ml.r5.24xlarge",
    "vcpuNum": 96
   },
   {
    "_defaultOrder": 47,
    "_isFastLaunch": false,
    "category": "Accelerated computing",
    "gpuNum": 1,
    "hideHardwareSpecs": false,
    "memoryGiB": 16,
    "name": "ml.g5.xlarge",
    "vcpuNum": 4
   },
   {
    "_defaultOrder": 48,
    "_isFastLaunch": false,
    "category": "Accelerated computing",
    "gpuNum": 1,
    "hideHardwareSpecs": false,
    "memoryGiB": 32,
    "name": "ml.g5.2xlarge",
    "vcpuNum": 8
   },
   {
    "_defaultOrder": 49,
    "_isFastLaunch": false,
    "category": "Accelerated computing",
    "gpuNum": 1,
    "hideHardwareSpecs": false,
    "memoryGiB": 64,
    "name": "ml.g5.4xlarge",
    "vcpuNum": 16
   },
   {
    "_defaultOrder": 50,
    "_isFastLaunch": false,
    "category": "Accelerated computing",
    "gpuNum": 1,
    "hideHardwareSpecs": false,
    "memoryGiB": 128,
    "name": "ml.g5.8xlarge",
    "vcpuNum": 32
   },
   {
    "_defaultOrder": 51,
    "_isFastLaunch": false,
    "category": "Accelerated computing",
    "gpuNum": 1,
    "hideHardwareSpecs": false,
    "memoryGiB": 256,
    "name": "ml.g5.16xlarge",
    "vcpuNum": 64
   },
   {
    "_defaultOrder": 52,
    "_isFastLaunch": false,
    "category": "Accelerated computing",
    "gpuNum": 4,
    "hideHardwareSpecs": false,
    "memoryGiB": 192,
    "name": "ml.g5.12xlarge",
    "vcpuNum": 48
   },
   {
    "_defaultOrder": 53,
    "_isFastLaunch": false,
    "category": "Accelerated computing",
    "gpuNum": 4,
    "hideHardwareSpecs": false,
    "memoryGiB": 384,
    "name": "ml.g5.24xlarge",
    "vcpuNum": 96
   },
   {
    "_defaultOrder": 54,
    "_isFastLaunch": false,
    "category": "Accelerated computing",
    "gpuNum": 8,
    "hideHardwareSpecs": false,
    "memoryGiB": 768,
    "name": "ml.g5.48xlarge",
    "vcpuNum": 192
   },
   {
    "_defaultOrder": 55,
    "_isFastLaunch": false,
    "category": "Accelerated computing",
    "gpuNum": 8,
    "hideHardwareSpecs": false,
    "memoryGiB": 1152,
    "name": "ml.p4d.24xlarge",
    "vcpuNum": 96
   },
   {
    "_defaultOrder": 56,
    "_isFastLaunch": false,
    "category": "Accelerated computing",
    "gpuNum": 8,
    "hideHardwareSpecs": false,
    "memoryGiB": 1152,
    "name": "ml.p4de.24xlarge",
    "vcpuNum": 96
   }
  ],
  "colab": {
   "provenance": []
  },
  "instance_type": "ml.g4dn.xlarge",
  "kernelspec": {
   "display_name": "pytorch",
   "language": "python",
   "name": "python3"
  },
  "language_info": {
   "codemirror_mode": {
    "name": "ipython",
    "version": 3
   },
   "file_extension": ".py",
   "mimetype": "text/x-python",
   "name": "python",
   "nbconvert_exporter": "python",
   "pygments_lexer": "ipython3",
   "version": "3.11.4"
  },
  "lcc_arn": "arn:aws:sagemaker:us-west-2:385115691352:studio-lifecycle-config/base-installs-widgets",
  "widgets": {
   "application/vnd.jupyter.widget-state+json": {
    "318b9c521d90424ea90e93f6a8503f3c": {
     "model_module": "@jupyter-widgets/controls",
     "model_module_version": "1.5.0",
     "model_name": "HTMLModel",
     "state": {
      "_dom_classes": [],
      "_model_module": "@jupyter-widgets/controls",
      "_model_module_version": "1.5.0",
      "_model_name": "HTMLModel",
      "_view_count": null,
      "_view_module": "@jupyter-widgets/controls",
      "_view_module_version": "1.5.0",
      "_view_name": "HTMLView",
      "description": "",
      "description_tooltip": null,
      "layout": "IPY_MODEL_82b2191b9135421cb80d67805611d887",
      "placeholder": "​",
      "style": "IPY_MODEL_88bd19f1fb9c42c29d97d19e677754d3",
      "value": " 1/1 [00:15&lt;00:00, 15.05s/it]"
     }
    },
    "353e264b3c064ed6abc168d908465903": {
     "model_module": "@jupyter-widgets/controls",
     "model_module_version": "1.5.0",
     "model_name": "FloatProgressModel",
     "state": {
      "_dom_classes": [],
      "_model_module": "@jupyter-widgets/controls",
      "_model_module_version": "1.5.0",
      "_model_name": "FloatProgressModel",
      "_view_count": null,
      "_view_module": "@jupyter-widgets/controls",
      "_view_module_version": "1.5.0",
      "_view_name": "ProgressView",
      "bar_style": "success",
      "description": "",
      "description_tooltip": null,
      "layout": "IPY_MODEL_ca78791d258947669cc0f92f545b7fbf",
      "max": 1,
      "min": 0,
      "orientation": "horizontal",
      "style": "IPY_MODEL_a013fa3d9256441ba4729a8cb89494e8",
      "value": 1
     }
    },
    "58fa9867c5244a349582e08c3f4ce25f": {
     "model_module": "@jupyter-widgets/controls",
     "model_module_version": "1.5.0",
     "model_name": "HTMLModel",
     "state": {
      "_dom_classes": [],
      "_model_module": "@jupyter-widgets/controls",
      "_model_module_version": "1.5.0",
      "_model_name": "HTMLModel",
      "_view_count": null,
      "_view_module": "@jupyter-widgets/controls",
      "_view_module_version": "1.5.0",
      "_view_name": "HTMLView",
      "description": "",
      "description_tooltip": null,
      "layout": "IPY_MODEL_5db5e4386005496a8735a3663b3ae11e",
      "placeholder": "​",
      "style": "IPY_MODEL_6a5fe9952ca64bbe88ddf73288b757b9",
      "value": "Epochs: 100%"
     }
    },
    "5db5e4386005496a8735a3663b3ae11e": {
     "model_module": "@jupyter-widgets/base",
     "model_module_version": "1.2.0",
     "model_name": "LayoutModel",
     "state": {
      "_model_module": "@jupyter-widgets/base",
      "_model_module_version": "1.2.0",
      "_model_name": "LayoutModel",
      "_view_count": null,
      "_view_module": "@jupyter-widgets/base",
      "_view_module_version": "1.2.0",
      "_view_name": "LayoutView",
      "align_content": null,
      "align_items": null,
      "align_self": null,
      "border": null,
      "bottom": null,
      "display": null,
      "flex": null,
      "flex_flow": null,
      "grid_area": null,
      "grid_auto_columns": null,
      "grid_auto_flow": null,
      "grid_auto_rows": null,
      "grid_column": null,
      "grid_gap": null,
      "grid_row": null,
      "grid_template_areas": null,
      "grid_template_columns": null,
      "grid_template_rows": null,
      "height": null,
      "justify_content": null,
      "justify_items": null,
      "left": null,
      "margin": null,
      "max_height": null,
      "max_width": null,
      "min_height": null,
      "min_width": null,
      "object_fit": null,
      "object_position": null,
      "order": null,
      "overflow": null,
      "overflow_x": null,
      "overflow_y": null,
      "padding": null,
      "right": null,
      "top": null,
      "visibility": null,
      "width": null
     }
    },
    "6a5fe9952ca64bbe88ddf73288b757b9": {
     "model_module": "@jupyter-widgets/controls",
     "model_module_version": "1.5.0",
     "model_name": "DescriptionStyleModel",
     "state": {
      "_model_module": "@jupyter-widgets/controls",
      "_model_module_version": "1.5.0",
      "_model_name": "DescriptionStyleModel",
      "_view_count": null,
      "_view_module": "@jupyter-widgets/base",
      "_view_module_version": "1.2.0",
      "_view_name": "StyleView",
      "description_width": ""
     }
    },
    "726542523acb43948ee6b166d6e19d7f": {
     "model_module": "@jupyter-widgets/controls",
     "model_module_version": "1.5.0",
     "model_name": "HBoxModel",
     "state": {
      "_dom_classes": [],
      "_model_module": "@jupyter-widgets/controls",
      "_model_module_version": "1.5.0",
      "_model_name": "HBoxModel",
      "_view_count": null,
      "_view_module": "@jupyter-widgets/controls",
      "_view_module_version": "1.5.0",
      "_view_name": "HBoxView",
      "box_style": "",
      "children": [
       "IPY_MODEL_58fa9867c5244a349582e08c3f4ce25f",
       "IPY_MODEL_353e264b3c064ed6abc168d908465903",
       "IPY_MODEL_318b9c521d90424ea90e93f6a8503f3c"
      ],
      "layout": "IPY_MODEL_c2aabd6fdcce431b8a21aaba4ed2635b"
     }
    },
    "82b2191b9135421cb80d67805611d887": {
     "model_module": "@jupyter-widgets/base",
     "model_module_version": "1.2.0",
     "model_name": "LayoutModel",
     "state": {
      "_model_module": "@jupyter-widgets/base",
      "_model_module_version": "1.2.0",
      "_model_name": "LayoutModel",
      "_view_count": null,
      "_view_module": "@jupyter-widgets/base",
      "_view_module_version": "1.2.0",
      "_view_name": "LayoutView",
      "align_content": null,
      "align_items": null,
      "align_self": null,
      "border": null,
      "bottom": null,
      "display": null,
      "flex": null,
      "flex_flow": null,
      "grid_area": null,
      "grid_auto_columns": null,
      "grid_auto_flow": null,
      "grid_auto_rows": null,
      "grid_column": null,
      "grid_gap": null,
      "grid_row": null,
      "grid_template_areas": null,
      "grid_template_columns": null,
      "grid_template_rows": null,
      "height": null,
      "justify_content": null,
      "justify_items": null,
      "left": null,
      "margin": null,
      "max_height": null,
      "max_width": null,
      "min_height": null,
      "min_width": null,
      "object_fit": null,
      "object_position": null,
      "order": null,
      "overflow": null,
      "overflow_x": null,
      "overflow_y": null,
      "padding": null,
      "right": null,
      "top": null,
      "visibility": null,
      "width": null
     }
    },
    "88bd19f1fb9c42c29d97d19e677754d3": {
     "model_module": "@jupyter-widgets/controls",
     "model_module_version": "1.5.0",
     "model_name": "DescriptionStyleModel",
     "state": {
      "_model_module": "@jupyter-widgets/controls",
      "_model_module_version": "1.5.0",
      "_model_name": "DescriptionStyleModel",
      "_view_count": null,
      "_view_module": "@jupyter-widgets/base",
      "_view_module_version": "1.2.0",
      "_view_name": "StyleView",
      "description_width": ""
     }
    },
    "a013fa3d9256441ba4729a8cb89494e8": {
     "model_module": "@jupyter-widgets/controls",
     "model_module_version": "1.5.0",
     "model_name": "ProgressStyleModel",
     "state": {
      "_model_module": "@jupyter-widgets/controls",
      "_model_module_version": "1.5.0",
      "_model_name": "ProgressStyleModel",
      "_view_count": null,
      "_view_module": "@jupyter-widgets/base",
      "_view_module_version": "1.2.0",
      "_view_name": "StyleView",
      "bar_color": null,
      "description_width": ""
     }
    },
    "c2aabd6fdcce431b8a21aaba4ed2635b": {
     "model_module": "@jupyter-widgets/base",
     "model_module_version": "1.2.0",
     "model_name": "LayoutModel",
     "state": {
      "_model_module": "@jupyter-widgets/base",
      "_model_module_version": "1.2.0",
      "_model_name": "LayoutModel",
      "_view_count": null,
      "_view_module": "@jupyter-widgets/base",
      "_view_module_version": "1.2.0",
      "_view_name": "LayoutView",
      "align_content": null,
      "align_items": null,
      "align_self": null,
      "border": null,
      "bottom": null,
      "display": null,
      "flex": null,
      "flex_flow": null,
      "grid_area": null,
      "grid_auto_columns": null,
      "grid_auto_flow": null,
      "grid_auto_rows": null,
      "grid_column": null,
      "grid_gap": null,
      "grid_row": null,
      "grid_template_areas": null,
      "grid_template_columns": null,
      "grid_template_rows": null,
      "height": null,
      "justify_content": null,
      "justify_items": null,
      "left": null,
      "margin": null,
      "max_height": null,
      "max_width": null,
      "min_height": null,
      "min_width": null,
      "object_fit": null,
      "object_position": null,
      "order": null,
      "overflow": null,
      "overflow_x": null,
      "overflow_y": null,
      "padding": null,
      "right": null,
      "top": null,
      "visibility": null,
      "width": null
     }
    },
    "ca78791d258947669cc0f92f545b7fbf": {
     "model_module": "@jupyter-widgets/base",
     "model_module_version": "1.2.0",
     "model_name": "LayoutModel",
     "state": {
      "_model_module": "@jupyter-widgets/base",
      "_model_module_version": "1.2.0",
      "_model_name": "LayoutModel",
      "_view_count": null,
      "_view_module": "@jupyter-widgets/base",
      "_view_module_version": "1.2.0",
      "_view_name": "LayoutView",
      "align_content": null,
      "align_items": null,
      "align_self": null,
      "border": null,
      "bottom": null,
      "display": null,
      "flex": null,
      "flex_flow": null,
      "grid_area": null,
      "grid_auto_columns": null,
      "grid_auto_flow": null,
      "grid_auto_rows": null,
      "grid_column": null,
      "grid_gap": null,
      "grid_row": null,
      "grid_template_areas": null,
      "grid_template_columns": null,
      "grid_template_rows": null,
      "height": null,
      "justify_content": null,
      "justify_items": null,
      "left": null,
      "margin": null,
      "max_height": null,
      "max_width": null,
      "min_height": null,
      "min_width": null,
      "object_fit": null,
      "object_position": null,
      "order": null,
      "overflow": null,
      "overflow_x": null,
      "overflow_y": null,
      "padding": null,
      "right": null,
      "top": null,
      "visibility": null,
      "width": null
     }
    }
   }
  }
 },
 "nbformat": 4,
 "nbformat_minor": 0
}
