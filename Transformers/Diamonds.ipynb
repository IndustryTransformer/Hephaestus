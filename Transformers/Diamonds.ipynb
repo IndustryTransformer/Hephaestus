{
 "cells": [
  {
   "cell_type": "markdown",
   "metadata": {},
   "source": [
    "# Diamond Transformer\n",
    "\n",
    "This notebook investigates the use of a transformer to predict the price of diamonds. The dataset is from Kaggle and can be found [here](https://www.kaggle.com/shivam2503/diamonds).\n",
    "\n",
    "While many traditional ML and DL techniques work on the dataset, our approach uses far less labeled data while achieving similar results. This is done by using a transformer.\n",
    "\n",
    "--------------------------------------------------------------------------------\n",
    "\n",
    "## Libraries\n"
   ]
  },
  {
   "cell_type": "code",
   "execution_count": 1,
   "metadata": {},
   "outputs": [],
   "source": [
    "import hashlib\n",
    "import math\n",
    "\n",
    "import polars as pl\n",
    "\n",
    "\n",
    "import polars as pl\n",
    "import numpy as np\n",
    "\n",
    "\n",
    "from torch import nn, Tensor\n",
    "from tqdm import trange, tqdm\n",
    "\n",
    "import hephaestus as hp\n",
    "import torch\n",
    "from torch.utils.tensorboard import SummaryWriter\n"
   ]
  },
  {
   "cell_type": "markdown",
   "metadata": {},
   "source": [
    "The diamonds dataset: df = pl.read_csv(\"../data/diamonds.csv\") df.head()\n"
   ]
  },
  {
   "cell_type": "code",
   "execution_count": 2,
   "metadata": {},
   "outputs": [
    {
     "data": {
      "text/html": [
       "<div><style>\n",
       ".dataframe > thead > tr > th,\n",
       ".dataframe > tbody > tr > td {\n",
       "  text-align: right;\n",
       "}\n",
       "</style>\n",
       "<small>shape: (5, 10)</small><table border=\"1\" class=\"dataframe\"><thead><tr><th>carat</th><th>cut</th><th>color</th><th>clarity</th><th>depth</th><th>table</th><th>price</th><th>x</th><th>y</th><th>z</th></tr><tr><td>f64</td><td>str</td><td>str</td><td>str</td><td>f64</td><td>f64</td><td>i64</td><td>f64</td><td>f64</td><td>f64</td></tr></thead><tbody><tr><td>0.23</td><td>&quot;Ideal&quot;</td><td>&quot;E&quot;</td><td>&quot;SI2&quot;</td><td>61.5</td><td>55.0</td><td>326</td><td>3.95</td><td>3.98</td><td>2.43</td></tr><tr><td>0.21</td><td>&quot;Premium&quot;</td><td>&quot;E&quot;</td><td>&quot;SI1&quot;</td><td>59.8</td><td>61.0</td><td>326</td><td>3.89</td><td>3.84</td><td>2.31</td></tr><tr><td>0.23</td><td>&quot;Good&quot;</td><td>&quot;E&quot;</td><td>&quot;VS1&quot;</td><td>56.9</td><td>65.0</td><td>327</td><td>4.05</td><td>4.07</td><td>2.31</td></tr><tr><td>0.29</td><td>&quot;Premium&quot;</td><td>&quot;I&quot;</td><td>&quot;VS2&quot;</td><td>62.4</td><td>58.0</td><td>334</td><td>4.2</td><td>4.23</td><td>2.63</td></tr><tr><td>0.31</td><td>&quot;Good&quot;</td><td>&quot;J&quot;</td><td>&quot;SI2&quot;</td><td>63.3</td><td>58.0</td><td>335</td><td>4.34</td><td>4.35</td><td>2.75</td></tr></tbody></table></div>"
      ],
      "text/plain": [
       "shape: (5, 10)\n",
       "┌───────┬─────────┬───────┬─────────┬───┬───────┬──────┬──────┬──────┐\n",
       "│ carat ┆ cut     ┆ color ┆ clarity ┆ … ┆ price ┆ x    ┆ y    ┆ z    │\n",
       "│ ---   ┆ ---     ┆ ---   ┆ ---     ┆   ┆ ---   ┆ ---  ┆ ---  ┆ ---  │\n",
       "│ f64   ┆ str     ┆ str   ┆ str     ┆   ┆ i64   ┆ f64  ┆ f64  ┆ f64  │\n",
       "╞═══════╪═════════╪═══════╪═════════╪═══╪═══════╪══════╪══════╪══════╡\n",
       "│ 0.23  ┆ Ideal   ┆ E     ┆ SI2     ┆ … ┆ 326   ┆ 3.95 ┆ 3.98 ┆ 2.43 │\n",
       "│ 0.21  ┆ Premium ┆ E     ┆ SI1     ┆ … ┆ 326   ┆ 3.89 ┆ 3.84 ┆ 2.31 │\n",
       "│ 0.23  ┆ Good    ┆ E     ┆ VS1     ┆ … ┆ 327   ┆ 4.05 ┆ 4.07 ┆ 2.31 │\n",
       "│ 0.29  ┆ Premium ┆ I     ┆ VS2     ┆ … ┆ 334   ┆ 4.2  ┆ 4.23 ┆ 2.63 │\n",
       "│ 0.31  ┆ Good    ┆ J     ┆ SI2     ┆ … ┆ 335   ┆ 4.34 ┆ 4.35 ┆ 2.75 │\n",
       "└───────┴─────────┴───────┴─────────┴───┴───────┴──────┴──────┴──────┘"
      ]
     },
     "execution_count": 2,
     "metadata": {},
     "output_type": "execute_result"
    }
   ],
   "source": [
    "df = pl.read_csv(\"../data/diamonds.csv\")\n",
    "df.head()"
   ]
  },
  {
   "cell_type": "code",
   "execution_count": 3,
   "metadata": {},
   "outputs": [
    {
     "data": {
      "text/html": [
       "<div><style>\n",
       ".dataframe > thead > tr > th,\n",
       ".dataframe > tbody > tr > td {\n",
       "  text-align: right;\n",
       "}\n",
       "</style>\n",
       "<small>shape: (9, 11)</small><table border=\"1\" class=\"dataframe\"><thead><tr><th>describe</th><th>carat</th><th>cut</th><th>color</th><th>clarity</th><th>depth</th><th>table</th><th>price</th><th>x</th><th>y</th><th>z</th></tr><tr><td>str</td><td>f64</td><td>str</td><td>str</td><td>str</td><td>f64</td><td>f64</td><td>f64</td><td>f64</td><td>f64</td><td>f64</td></tr></thead><tbody><tr><td>&quot;count&quot;</td><td>53940.0</td><td>&quot;53940&quot;</td><td>&quot;53940&quot;</td><td>&quot;53940&quot;</td><td>53940.0</td><td>53940.0</td><td>53940.0</td><td>53940.0</td><td>53940.0</td><td>53940.0</td></tr><tr><td>&quot;null_count&quot;</td><td>0.0</td><td>&quot;0&quot;</td><td>&quot;0&quot;</td><td>&quot;0&quot;</td><td>0.0</td><td>0.0</td><td>0.0</td><td>0.0</td><td>0.0</td><td>0.0</td></tr><tr><td>&quot;mean&quot;</td><td>0.79794</td><td>null</td><td>null</td><td>null</td><td>61.749405</td><td>57.457184</td><td>3932.799722</td><td>5.731157</td><td>5.734526</td><td>3.538734</td></tr><tr><td>&quot;std&quot;</td><td>0.474011</td><td>null</td><td>null</td><td>null</td><td>1.432621</td><td>2.234491</td><td>3989.439738</td><td>1.121761</td><td>1.142135</td><td>0.705699</td></tr><tr><td>&quot;min&quot;</td><td>0.2</td><td>&quot;Fair&quot;</td><td>&quot;D&quot;</td><td>&quot;I1&quot;</td><td>43.0</td><td>43.0</td><td>326.0</td><td>0.0</td><td>0.0</td><td>0.0</td></tr><tr><td>&quot;max&quot;</td><td>5.01</td><td>&quot;Very Good&quot;</td><td>&quot;J&quot;</td><td>&quot;VVS2&quot;</td><td>79.0</td><td>95.0</td><td>18823.0</td><td>10.74</td><td>58.9</td><td>31.8</td></tr><tr><td>&quot;median&quot;</td><td>0.7</td><td>null</td><td>null</td><td>null</td><td>61.8</td><td>57.0</td><td>2401.0</td><td>5.7</td><td>5.71</td><td>3.53</td></tr><tr><td>&quot;25%&quot;</td><td>0.4</td><td>null</td><td>null</td><td>null</td><td>61.0</td><td>56.0</td><td>950.0</td><td>4.71</td><td>4.72</td><td>2.91</td></tr><tr><td>&quot;75%&quot;</td><td>1.04</td><td>null</td><td>null</td><td>null</td><td>62.5</td><td>59.0</td><td>5325.0</td><td>6.54</td><td>6.54</td><td>4.04</td></tr></tbody></table></div>"
      ],
      "text/plain": [
       "shape: (9, 11)\n",
       "┌────────────┬──────────┬───────────┬───────┬───┬─────────────┬──────────┬──────────┬──────────┐\n",
       "│ describe   ┆ carat    ┆ cut       ┆ color ┆ … ┆ price       ┆ x        ┆ y        ┆ z        │\n",
       "│ ---        ┆ ---      ┆ ---       ┆ ---   ┆   ┆ ---         ┆ ---      ┆ ---      ┆ ---      │\n",
       "│ str        ┆ f64      ┆ str       ┆ str   ┆   ┆ f64         ┆ f64      ┆ f64      ┆ f64      │\n",
       "╞════════════╪══════════╪═══════════╪═══════╪═══╪═════════════╪══════════╪══════════╪══════════╡\n",
       "│ count      ┆ 53940.0  ┆ 53940     ┆ 53940 ┆ … ┆ 53940.0     ┆ 53940.0  ┆ 53940.0  ┆ 53940.0  │\n",
       "│ null_count ┆ 0.0      ┆ 0         ┆ 0     ┆ … ┆ 0.0         ┆ 0.0      ┆ 0.0      ┆ 0.0      │\n",
       "│ mean       ┆ 0.79794  ┆ null      ┆ null  ┆ … ┆ 3932.799722 ┆ 5.731157 ┆ 5.734526 ┆ 3.538734 │\n",
       "│ std        ┆ 0.474011 ┆ null      ┆ null  ┆ … ┆ 3989.439738 ┆ 1.121761 ┆ 1.142135 ┆ 0.705699 │\n",
       "│ min        ┆ 0.2      ┆ Fair      ┆ D     ┆ … ┆ 326.0       ┆ 0.0      ┆ 0.0      ┆ 0.0      │\n",
       "│ max        ┆ 5.01     ┆ Very Good ┆ J     ┆ … ┆ 18823.0     ┆ 10.74    ┆ 58.9     ┆ 31.8     │\n",
       "│ median     ┆ 0.7      ┆ null      ┆ null  ┆ … ┆ 2401.0      ┆ 5.7      ┆ 5.71     ┆ 3.53     │\n",
       "│ 25%        ┆ 0.4      ┆ null      ┆ null  ┆ … ┆ 950.0       ┆ 4.71     ┆ 4.72     ┆ 2.91     │\n",
       "│ 75%        ┆ 1.04     ┆ null      ┆ null  ┆ … ┆ 5325.0      ┆ 6.54     ┆ 6.54     ┆ 4.04     │\n",
       "└────────────┴──────────┴───────────┴───────┴───┴─────────────┴──────────┴──────────┴──────────┘"
      ]
     },
     "execution_count": 3,
     "metadata": {},
     "output_type": "execute_result"
    }
   ],
   "source": [
    "df.describe()"
   ]
  },
  {
   "cell_type": "code",
   "execution_count": 4,
   "metadata": {},
   "outputs": [
    {
     "data": {
      "text/html": [
       "<div><style>\n",
       ".dataframe > thead > tr > th,\n",
       ".dataframe > tbody > tr > td {\n",
       "  text-align: right;\n",
       "}\n",
       "</style>\n",
       "<small>shape: (5, 10)</small><table border=\"1\" class=\"dataframe\"><thead><tr><th>carat</th><th>cut</th><th>color</th><th>clarity</th><th>depth</th><th>table</th><th>price</th><th>x</th><th>y</th><th>z</th></tr><tr><td>f64</td><td>str</td><td>str</td><td>str</td><td>f64</td><td>f64</td><td>f64</td><td>f64</td><td>f64</td><td>f64</td></tr></thead><tbody><tr><td>-1.198157</td><td>&quot;Ideal&quot;</td><td>&quot;E&quot;</td><td>&quot;SI2&quot;</td><td>-0.17409</td><td>-1.099662</td><td>-0.904087</td><td>-1.587823</td><td>-1.536181</td><td>-1.571115</td></tr><tr><td>-1.24035</td><td>&quot;Premium&quot;</td><td>&quot;E&quot;</td><td>&quot;SI1&quot;</td><td>-1.360726</td><td>1.585514</td><td>-0.904087</td><td>-1.64131</td><td>-1.658759</td><td>-1.741159</td></tr><tr><td>-1.198157</td><td>&quot;Good&quot;</td><td>&quot;E&quot;</td><td>&quot;VS1&quot;</td><td>-3.384987</td><td>3.375631</td><td>-0.903836</td><td>-1.498677</td><td>-1.457382</td><td>-1.741159</td></tr><tr><td>-1.071577</td><td>&quot;Premium&quot;</td><td>&quot;I&quot;</td><td>&quot;VS2&quot;</td><td>0.454129</td><td>0.242926</td><td>-0.902081</td><td>-1.364959</td><td>-1.317293</td><td>-1.287708</td></tr><tr><td>-1.029384</td><td>&quot;Good&quot;</td><td>&quot;J&quot;</td><td>&quot;SI2&quot;</td><td>1.082348</td><td>0.242926</td><td>-0.901831</td><td>-1.240155</td><td>-1.212227</td><td>-1.117663</td></tr></tbody></table></div>"
      ],
      "text/plain": [
       "shape: (5, 10)\n",
       "┌───────────┬─────────┬───────┬─────────┬───┬───────────┬───────────┬───────────┬───────────┐\n",
       "│ carat     ┆ cut     ┆ color ┆ clarity ┆ … ┆ price     ┆ x         ┆ y         ┆ z         │\n",
       "│ ---       ┆ ---     ┆ ---   ┆ ---     ┆   ┆ ---       ┆ ---       ┆ ---       ┆ ---       │\n",
       "│ f64       ┆ str     ┆ str   ┆ str     ┆   ┆ f64       ┆ f64       ┆ f64       ┆ f64       │\n",
       "╞═══════════╪═════════╪═══════╪═════════╪═══╪═══════════╪═══════════╪═══════════╪═══════════╡\n",
       "│ -1.198157 ┆ Ideal   ┆ E     ┆ SI2     ┆ … ┆ -0.904087 ┆ -1.587823 ┆ -1.536181 ┆ -1.571115 │\n",
       "│ -1.24035  ┆ Premium ┆ E     ┆ SI1     ┆ … ┆ -0.904087 ┆ -1.64131  ┆ -1.658759 ┆ -1.741159 │\n",
       "│ -1.198157 ┆ Good    ┆ E     ┆ VS1     ┆ … ┆ -0.903836 ┆ -1.498677 ┆ -1.457382 ┆ -1.741159 │\n",
       "│ -1.071577 ┆ Premium ┆ I     ┆ VS2     ┆ … ┆ -0.902081 ┆ -1.364959 ┆ -1.317293 ┆ -1.287708 │\n",
       "│ -1.029384 ┆ Good    ┆ J     ┆ SI2     ┆ … ┆ -0.901831 ┆ -1.240155 ┆ -1.212227 ┆ -1.117663 │\n",
       "└───────────┴─────────┴───────┴─────────┴───┴───────────┴───────────┴───────────┴───────────┘"
      ]
     },
     "execution_count": 4,
     "metadata": {},
     "output_type": "execute_result"
    }
   ],
   "source": [
    "df = hp.scale_numeric(df)\n",
    "df.head()"
   ]
  },
  {
   "cell_type": "code",
   "execution_count": 5,
   "metadata": {},
   "outputs": [],
   "source": [
    "df = hp.make_lower_remove_special_chars(df)\n",
    "val_tokens = hp.get_unique_utf8_values(df)\n",
    "col_tokens = hp.get_col_tokens(df)"
   ]
  },
  {
   "cell_type": "code",
   "execution_count": 6,
   "metadata": {},
   "outputs": [
    {
     "data": {
      "text/html": [
       "<div><style>\n",
       ".dataframe > thead > tr > th,\n",
       ".dataframe > tbody > tr > td {\n",
       "  text-align: right;\n",
       "}\n",
       "</style>\n",
       "<small>shape: (5, 10)</small><table border=\"1\" class=\"dataframe\"><thead><tr><th>carat</th><th>cut</th><th>color</th><th>clarity</th><th>depth</th><th>table</th><th>price</th><th>x</th><th>y</th><th>z</th></tr><tr><td>f64</td><td>str</td><td>str</td><td>str</td><td>f64</td><td>f64</td><td>f64</td><td>f64</td><td>f64</td><td>f64</td></tr></thead><tbody><tr><td>-1.198157</td><td>&quot;ideal&quot;</td><td>&quot;e&quot;</td><td>&quot;si2&quot;</td><td>-0.17409</td><td>-1.099662</td><td>-0.904087</td><td>-1.587823</td><td>-1.536181</td><td>-1.571115</td></tr><tr><td>-1.24035</td><td>&quot;premium&quot;</td><td>&quot;e&quot;</td><td>&quot;si1&quot;</td><td>-1.360726</td><td>1.585514</td><td>-0.904087</td><td>-1.64131</td><td>-1.658759</td><td>-1.741159</td></tr><tr><td>-1.198157</td><td>&quot;good&quot;</td><td>&quot;e&quot;</td><td>&quot;vs1&quot;</td><td>-3.384987</td><td>3.375631</td><td>-0.903836</td><td>-1.498677</td><td>-1.457382</td><td>-1.741159</td></tr><tr><td>-1.071577</td><td>&quot;premium&quot;</td><td>&quot;i&quot;</td><td>&quot;vs2&quot;</td><td>0.454129</td><td>0.242926</td><td>-0.902081</td><td>-1.364959</td><td>-1.317293</td><td>-1.287708</td></tr><tr><td>-1.029384</td><td>&quot;good&quot;</td><td>&quot;j&quot;</td><td>&quot;si2&quot;</td><td>1.082348</td><td>0.242926</td><td>-0.901831</td><td>-1.240155</td><td>-1.212227</td><td>-1.117663</td></tr></tbody></table></div>"
      ],
      "text/plain": [
       "shape: (5, 10)\n",
       "┌───────────┬─────────┬───────┬─────────┬───┬───────────┬───────────┬───────────┬───────────┐\n",
       "│ carat     ┆ cut     ┆ color ┆ clarity ┆ … ┆ price     ┆ x         ┆ y         ┆ z         │\n",
       "│ ---       ┆ ---     ┆ ---   ┆ ---     ┆   ┆ ---       ┆ ---       ┆ ---       ┆ ---       │\n",
       "│ f64       ┆ str     ┆ str   ┆ str     ┆   ┆ f64       ┆ f64       ┆ f64       ┆ f64       │\n",
       "╞═══════════╪═════════╪═══════╪═════════╪═══╪═══════════╪═══════════╪═══════════╪═══════════╡\n",
       "│ -1.198157 ┆ ideal   ┆ e     ┆ si2     ┆ … ┆ -0.904087 ┆ -1.587823 ┆ -1.536181 ┆ -1.571115 │\n",
       "│ -1.24035  ┆ premium ┆ e     ┆ si1     ┆ … ┆ -0.904087 ┆ -1.64131  ┆ -1.658759 ┆ -1.741159 │\n",
       "│ -1.198157 ┆ good    ┆ e     ┆ vs1     ┆ … ┆ -0.903836 ┆ -1.498677 ┆ -1.457382 ┆ -1.741159 │\n",
       "│ -1.071577 ┆ premium ┆ i     ┆ vs2     ┆ … ┆ -0.902081 ┆ -1.364959 ┆ -1.317293 ┆ -1.287708 │\n",
       "│ -1.029384 ┆ good    ┆ j     ┆ si2     ┆ … ┆ -0.901831 ┆ -1.240155 ┆ -1.212227 ┆ -1.117663 │\n",
       "└───────────┴─────────┴───────┴─────────┴───┴───────────┴───────────┴───────────┴───────────┘"
      ]
     },
     "execution_count": 6,
     "metadata": {},
     "output_type": "execute_result"
    }
   ],
   "source": [
    "df.head()"
   ]
  },
  {
   "cell_type": "code",
   "execution_count": 7,
   "metadata": {},
   "outputs": [],
   "source": [
    "special_tokens = np.array(\n",
    "    [\n",
    "        \"missing\",\n",
    "        \"<mask>\",\n",
    "        \"<pad>\",\n",
    "        \"<unk>\",\n",
    "        \"<numeric>\",\n",
    "        \":\",\n",
    "        \",\",\n",
    "        \"<row-start>\",\n",
    "        \"<row-end>\",\n",
    "    ]\n",
    ")"
   ]
  },
  {
   "cell_type": "code",
   "execution_count": 8,
   "metadata": {},
   "outputs": [
    {
     "data": {
      "text/plain": [
       "array([',', ':', '<mask>', '<numeric>', '<pad>', '<row-end>',\n",
       "       '<row-start>', '<unk>', 'carat', 'clarity', 'color', 'cut', 'd',\n",
       "       'depth', 'e', 'f', 'fair', 'g', 'good', 'h', 'i', 'i1', 'ideal',\n",
       "       'if', 'j', 'missing', 'premium', 'price', 'si1', 'si2', 'table',\n",
       "       'very good', 'vs1', 'vs2', 'vvs1', 'vvs2', 'x', 'y', 'z'],\n",
       "      dtype=object)"
      ]
     },
     "execution_count": 8,
     "metadata": {},
     "output_type": "execute_result"
    }
   ],
   "source": [
    "tokens = np.unique(\n",
    "    np.concatenate(\n",
    "        (\n",
    "            val_tokens,\n",
    "            col_tokens,\n",
    "            special_tokens,\n",
    "        )\n",
    "    )\n",
    ")\n",
    "tokens"
   ]
  },
  {
   "cell_type": "markdown",
   "metadata": {},
   "source": [
    "# Train Test Split\n",
    "\n",
    "To show the actual model performance out of sample we split the data into a training and test set. The training set will be used to train the model and the test set will be used to evaluate the model performance. We will use 80% of the data for training and 20% for testing.\n",
    "\n",
    "We also remove the price column from the training and test sets and will only use a tiny subset of the data to simulate an industrial process with lots of input data but expensive and limited labeled data.\n"
   ]
  },
  {
   "cell_type": "code",
   "execution_count": 9,
   "metadata": {},
   "outputs": [
    {
     "data": {
      "text/html": [
       "<div><style>\n",
       ".dataframe > thead > tr > th,\n",
       ".dataframe > tbody > tr > td {\n",
       "  text-align: right;\n",
       "}\n",
       "</style>\n",
       "<small>shape: (1, 1)</small><table border=\"1\" class=\"dataframe\"><thead><tr><th>hash</th></tr><tr><td>u32</td></tr></thead><tbody><tr><td>685</td></tr></tbody></table></div>"
      ],
      "text/plain": [
       "shape: (1, 1)\n",
       "┌──────┐\n",
       "│ hash │\n",
       "│ ---  │\n",
       "│ u32  │\n",
       "╞══════╡\n",
       "│ 685  │\n",
       "└──────┘"
      ]
     },
     "execution_count": 9,
     "metadata": {},
     "output_type": "execute_result"
    }
   ],
   "source": [
    "df = (\n",
    "    df.with_columns(\n",
    "        pl.concat_str(pl.all().exclude(\"price\").cast(pl.Utf8)).alias(\"all_cols\")\n",
    "    )\n",
    "    .with_columns(\n",
    "        pl.col(\"all_cols\")\n",
    "        .apply(lambda x: hashlib.md5(x.encode()).hexdigest())\n",
    "        .alias(\"hash\")\n",
    "    )\n",
    "    .drop(\"all_cols\")\n",
    ")\n",
    "df.select(pl.col(\"hash\").is_duplicated().sum())"
   ]
  },
  {
   "cell_type": "code",
   "execution_count": 10,
   "metadata": {},
   "outputs": [
    {
     "data": {
      "text/html": [
       "<div><style>\n",
       ".dataframe > thead > tr > th,\n",
       ".dataframe > tbody > tr > td {\n",
       "  text-align: right;\n",
       "}\n",
       "</style>\n",
       "<small>shape: (5, 11)</small><table border=\"1\" class=\"dataframe\"><thead><tr><th>carat</th><th>cut</th><th>color</th><th>clarity</th><th>depth</th><th>table</th><th>price</th><th>x</th><th>y</th><th>z</th><th>hash</th></tr><tr><td>f64</td><td>str</td><td>str</td><td>str</td><td>f64</td><td>f64</td><td>f64</td><td>f64</td><td>f64</td><td>f64</td><td>str</td></tr></thead><tbody><tr><td>-1.198157</td><td>&quot;ideal&quot;</td><td>&quot;e&quot;</td><td>&quot;si2&quot;</td><td>-0.17409</td><td>-1.099662</td><td>-0.904087</td><td>-1.587823</td><td>-1.536181</td><td>-1.571115</td><td>&quot;501249736f26c3…</td></tr><tr><td>-1.24035</td><td>&quot;premium&quot;</td><td>&quot;e&quot;</td><td>&quot;si1&quot;</td><td>-1.360726</td><td>1.585514</td><td>-0.904087</td><td>-1.64131</td><td>-1.658759</td><td>-1.741159</td><td>&quot;5427305ea67a9e…</td></tr><tr><td>-1.198157</td><td>&quot;good&quot;</td><td>&quot;e&quot;</td><td>&quot;vs1&quot;</td><td>-3.384987</td><td>3.375631</td><td>-0.903836</td><td>-1.498677</td><td>-1.457382</td><td>-1.741159</td><td>&quot;155663ac256a0e…</td></tr><tr><td>-1.071577</td><td>&quot;premium&quot;</td><td>&quot;i&quot;</td><td>&quot;vs2&quot;</td><td>0.454129</td><td>0.242926</td><td>-0.902081</td><td>-1.364959</td><td>-1.317293</td><td>-1.287708</td><td>&quot;45ee1317264026…</td></tr><tr><td>-1.029384</td><td>&quot;good&quot;</td><td>&quot;j&quot;</td><td>&quot;si2&quot;</td><td>1.082348</td><td>0.242926</td><td>-0.901831</td><td>-1.240155</td><td>-1.212227</td><td>-1.117663</td><td>&quot;bce254e518e158…</td></tr></tbody></table></div>"
      ],
      "text/plain": [
       "shape: (5, 11)\n",
       "┌───────────┬─────────┬───────┬─────────┬───┬───────────┬───────────┬───────────┬──────────────────┐\n",
       "│ carat     ┆ cut     ┆ color ┆ clarity ┆ … ┆ x         ┆ y         ┆ z         ┆ hash             │\n",
       "│ ---       ┆ ---     ┆ ---   ┆ ---     ┆   ┆ ---       ┆ ---       ┆ ---       ┆ ---              │\n",
       "│ f64       ┆ str     ┆ str   ┆ str     ┆   ┆ f64       ┆ f64       ┆ f64       ┆ str              │\n",
       "╞═══════════╪═════════╪═══════╪═════════╪═══╪═══════════╪═══════════╪═══════════╪══════════════════╡\n",
       "│ -1.198157 ┆ ideal   ┆ e     ┆ si2     ┆ … ┆ -1.587823 ┆ -1.536181 ┆ -1.571115 ┆ 501249736f26c363 │\n",
       "│           ┆         ┆       ┆         ┆   ┆           ┆           ┆           ┆ d28b6e9f726ebfd7 │\n",
       "│ -1.24035  ┆ premium ┆ e     ┆ si1     ┆ … ┆ -1.64131  ┆ -1.658759 ┆ -1.741159 ┆ 5427305ea67a9e18 │\n",
       "│           ┆         ┆       ┆         ┆   ┆           ┆           ┆           ┆ 1ee6178b66eb4849 │\n",
       "│ -1.198157 ┆ good    ┆ e     ┆ vs1     ┆ … ┆ -1.498677 ┆ -1.457382 ┆ -1.741159 ┆ 155663ac256a0e96 │\n",
       "│           ┆         ┆       ┆         ┆   ┆           ┆           ┆           ┆ a7ba9e73a109b1f3 │\n",
       "│ -1.071577 ┆ premium ┆ i     ┆ vs2     ┆ … ┆ -1.364959 ┆ -1.317293 ┆ -1.287708 ┆ 45ee1317264026ce │\n",
       "│           ┆         ┆       ┆         ┆   ┆           ┆           ┆           ┆ 46c044703fc56817 │\n",
       "│ -1.029384 ┆ good    ┆ j     ┆ si2     ┆ … ┆ -1.240155 ┆ -1.212227 ┆ -1.117663 ┆ bce254e518e158ed │\n",
       "│           ┆         ┆       ┆         ┆   ┆           ┆           ┆           ┆ a6a46c0ce7407e77 │\n",
       "└───────────┴─────────┴───────┴─────────┴───┴───────────┴───────────┴───────────┴──────────────────┘"
      ]
     },
     "execution_count": 10,
     "metadata": {},
     "output_type": "execute_result"
    }
   ],
   "source": [
    "# Shuffle for randomness\n",
    "df = df.sample(fraction=1.0, seed=42)\n",
    "df.head()"
   ]
  },
  {
   "cell_type": "code",
   "execution_count": 11,
   "metadata": {},
   "outputs": [],
   "source": [
    "train_fraction = 0.8\n",
    "n_train = int(train_fraction * len(df))\n",
    "train_test_df = df.select(pl.all().exclude([\"price\", \"hash\"]))\n",
    "\n",
    "train, test = train_test_df.head(n_train), train_test_df.tail(\n",
    "    len(train_test_df) - n_train\n",
    ")"
   ]
  },
  {
   "cell_type": "code",
   "execution_count": 12,
   "metadata": {},
   "outputs": [
    {
     "data": {
      "text/plain": [
       "(shape: (5, 9)\n",
       " ┌───────────┬─────────┬───────┬─────────┬───┬───────────┬───────────┬───────────┬───────────┐\n",
       " │ carat     ┆ cut     ┆ color ┆ clarity ┆ … ┆ table     ┆ x         ┆ y         ┆ z         │\n",
       " │ ---       ┆ ---     ┆ ---   ┆ ---     ┆   ┆ ---       ┆ ---       ┆ ---       ┆ ---       │\n",
       " │ f64       ┆ str     ┆ str   ┆ str     ┆   ┆ f64       ┆ f64       ┆ f64       ┆ f64       │\n",
       " ╞═══════════╪═════════╪═══════╪═════════╪═══╪═══════════╪═══════════╪═══════════╪═══════════╡\n",
       " │ -1.198157 ┆ ideal   ┆ e     ┆ si2     ┆ … ┆ -1.099662 ┆ -1.587823 ┆ -1.536181 ┆ -1.571115 │\n",
       " │ -1.24035  ┆ premium ┆ e     ┆ si1     ┆ … ┆ 1.585514  ┆ -1.64131  ┆ -1.658759 ┆ -1.741159 │\n",
       " │ -1.198157 ┆ good    ┆ e     ┆ vs1     ┆ … ┆ 3.375631  ┆ -1.498677 ┆ -1.457382 ┆ -1.741159 │\n",
       " │ -1.071577 ┆ premium ┆ i     ┆ vs2     ┆ … ┆ 0.242926  ┆ -1.364959 ┆ -1.317293 ┆ -1.287708 │\n",
       " │ -1.029384 ┆ good    ┆ j     ┆ si2     ┆ … ┆ 0.242926  ┆ -1.240155 ┆ -1.212227 ┆ -1.117663 │\n",
       " └───────────┴─────────┴───────┴─────────┴───┴───────────┴───────────┴───────────┴───────────┘,\n",
       " (43152, 9))"
      ]
     },
     "execution_count": 12,
     "metadata": {},
     "output_type": "execute_result"
    }
   ],
   "source": [
    "train.head(), train.shape"
   ]
  },
  {
   "cell_type": "code",
   "execution_count": 13,
   "metadata": {},
   "outputs": [
    {
     "data": {
      "text/html": [
       "<div><style>\n",
       ".dataframe > thead > tr > th,\n",
       ".dataframe > tbody > tr > td {\n",
       "  text-align: right;\n",
       "}\n",
       "</style>\n",
       "<small>shape: (5, 9)</small><table border=\"1\" class=\"dataframe\"><thead><tr><th>carat</th><th>cut</th><th>color</th><th>clarity</th><th>depth</th><th>table</th><th>x</th><th>y</th><th>z</th></tr><tr><td>f64</td><td>str</td><td>str</td><td>str</td><td>f64</td><td>f64</td><td>f64</td><td>f64</td><td>f64</td></tr></thead><tbody><tr><td>-1.198157</td><td>&quot;ideal&quot;</td><td>&quot;e&quot;</td><td>&quot;si2&quot;</td><td>-0.17409</td><td>-1.099662</td><td>-1.587823</td><td>-1.536181</td><td>-1.571115</td></tr><tr><td>-1.24035</td><td>&quot;premium&quot;</td><td>&quot;e&quot;</td><td>&quot;si1&quot;</td><td>-1.360726</td><td>1.585514</td><td>-1.64131</td><td>-1.658759</td><td>-1.741159</td></tr><tr><td>-1.198157</td><td>&quot;good&quot;</td><td>&quot;e&quot;</td><td>&quot;vs1&quot;</td><td>-3.384987</td><td>3.375631</td><td>-1.498677</td><td>-1.457382</td><td>-1.741159</td></tr><tr><td>-1.071577</td><td>&quot;premium&quot;</td><td>&quot;i&quot;</td><td>&quot;vs2&quot;</td><td>0.454129</td><td>0.242926</td><td>-1.364959</td><td>-1.317293</td><td>-1.287708</td></tr><tr><td>-1.029384</td><td>&quot;good&quot;</td><td>&quot;j&quot;</td><td>&quot;si2&quot;</td><td>1.082348</td><td>0.242926</td><td>-1.240155</td><td>-1.212227</td><td>-1.117663</td></tr></tbody></table></div>"
      ],
      "text/plain": [
       "shape: (5, 9)\n",
       "┌───────────┬─────────┬───────┬─────────┬───┬───────────┬───────────┬───────────┬───────────┐\n",
       "│ carat     ┆ cut     ┆ color ┆ clarity ┆ … ┆ table     ┆ x         ┆ y         ┆ z         │\n",
       "│ ---       ┆ ---     ┆ ---   ┆ ---     ┆   ┆ ---       ┆ ---       ┆ ---       ┆ ---       │\n",
       "│ f64       ┆ str     ┆ str   ┆ str     ┆   ┆ f64       ┆ f64       ┆ f64       ┆ f64       │\n",
       "╞═══════════╪═════════╪═══════╪═════════╪═══╪═══════════╪═══════════╪═══════════╪═══════════╡\n",
       "│ -1.198157 ┆ ideal   ┆ e     ┆ si2     ┆ … ┆ -1.099662 ┆ -1.587823 ┆ -1.536181 ┆ -1.571115 │\n",
       "│ -1.24035  ┆ premium ┆ e     ┆ si1     ┆ … ┆ 1.585514  ┆ -1.64131  ┆ -1.658759 ┆ -1.741159 │\n",
       "│ -1.198157 ┆ good    ┆ e     ┆ vs1     ┆ … ┆ 3.375631  ┆ -1.498677 ┆ -1.457382 ┆ -1.741159 │\n",
       "│ -1.071577 ┆ premium ┆ i     ┆ vs2     ┆ … ┆ 0.242926  ┆ -1.364959 ┆ -1.317293 ┆ -1.287708 │\n",
       "│ -1.029384 ┆ good    ┆ j     ┆ si2     ┆ … ┆ 0.242926  ┆ -1.240155 ┆ -1.212227 ┆ -1.117663 │\n",
       "└───────────┴─────────┴───────┴─────────┴───┴───────────┴───────────┴───────────┴───────────┘"
      ]
     },
     "execution_count": 13,
     "metadata": {},
     "output_type": "execute_result"
    }
   ],
   "source": [
    "train_test_df.head()"
   ]
  },
  {
   "cell_type": "code",
   "execution_count": 14,
   "metadata": {},
   "outputs": [
    {
     "name": "stdout",
     "output_type": "stream",
     "text": [
      "50\n"
     ]
    }
   ],
   "source": [
    "ds = hp.TabularDataset(\n",
    "    train,\n",
    "    tokens,\n",
    "    special_tokens=special_tokens,\n",
    "    shuffle_cols=False,\n",
    "    max_row_length=50,\n",
    ")\n",
    "\n",
    "print(len(ds[0]))"
   ]
  },
  {
   "cell_type": "code",
   "execution_count": 15,
   "metadata": {},
   "outputs": [
    {
     "name": "stdout",
     "output_type": "stream",
     "text": [
      "['<row-start>', 'carat', ':', -1.1981566989627475, ',', 'cut', ':', 'ideal', ',', 'color', ':', 'e', ',', 'clarity', ':', 'si2', ',', 'depth', ':', -0.17408989455083768, ',', 'table', ':', -1.0996617971586031, ',', 'x', ':', -1.5878227303011756, ',', 'y', ':', -1.5361813230221135, ',', 'z', ':', -1.5711146235593887, ',', '<row-end>', '<pad>', '<pad>', '<pad>', '<pad>', '<pad>', '<pad>', '<pad>', '<pad>', '<pad>', '<pad>', '<pad>', '<pad>']\n"
     ]
    }
   ],
   "source": [
    "print([i.value for i in ds[0]])"
   ]
  },
  {
   "cell_type": "code",
   "execution_count": 16,
   "metadata": {},
   "outputs": [
    {
     "name": "stdout",
     "output_type": "stream",
     "text": [
      "mps\n"
     ]
    }
   ],
   "source": [
    "if torch.backends.mps.is_built():\n",
    "    device_name = \"mps\"\n",
    "elif torch.cuda.is_available():\n",
    "    device_name = \"cuda\"\n",
    "else:\n",
    "    device_name = \"cpu\"\n",
    "device = torch.device(device_name)\n",
    "print(device)"
   ]
  },
  {
   "cell_type": "code",
   "execution_count": 17,
   "metadata": {},
   "outputs": [
    {
     "name": "stderr",
     "output_type": "stream",
     "text": [
      "/opt/homebrew/Caskroom/miniconda/base/envs/pytorch/lib/python3.11/site-packages/torch/nn/modules/transformer.py:218: UserWarning: enable_nested_tensor is True, but self.use_nested_tensor is False because  self.layers[0].self_attn.batch_first was not True\n",
      "  warnings.warn(f\"enable_nested_tensor is True, but self.use_nested_tensor is False because {why_not_sparsity_fast_path}\")\n"
     ]
    }
   ],
   "source": [
    "n_token = len(ds.vocab)  # size of vocabulary\n",
    "d_model = 32  # embedding dimension\n",
    "d_hid = 200  # dimension of the feedforward network model in ``nn.TransformerEncoder``\n",
    "n_layers = 2  # number of ``nn.TransformerEncoderLayer`` in ``nn.TransformerEncoder``\n",
    "n_head = 2  # number of heads in ``nn.MultiheadAttention``\n",
    "dropout = 0.2  # dropout probability\n",
    "model = hp.TransformerModel(\n",
    "    n_token, d_model, n_head, d_hid, n_layers, device, dropout\n",
    ").to(device)"
   ]
  },
  {
   "cell_type": "code",
   "execution_count": 18,
   "metadata": {},
   "outputs": [],
   "source": [
    "import copy\n",
    "import time\n",
    "\n",
    "\n",
    "lr = 0.24  # learning rate\n",
    "optimizer = torch.optim.SGD(model.parameters(), lr=lr)\n",
    "# scheduler = torch.optim.lr_scheduler.StepLR(optimizer, step_size =100, gamma=0.5)\n",
    "scheduler = torch.optim.lr_scheduler.ReduceLROnPlateau(\n",
    "    optimizer,\n",
    "    mode=\"min\",\n",
    "    factor=0.9,\n",
    "    patience=5,\n",
    "    threshold=0.001,\n",
    "    threshold_mode=\"rel\",\n",
    "    cooldown=0,\n",
    "    min_lr=0.01,\n",
    "    eps=1e-08,\n",
    "    verbose=False,\n",
    ")\n",
    "\n",
    "\n",
    "def train(model: nn.Module) -> None:\n",
    "    writer = SummaryWriter()\n",
    "    model.train()  # turn on train mode\n",
    "    total_loss = 0.0\n",
    "    log_interval = 1000\n",
    "    n_row = 10 # one because it's not time series\n",
    "    start_time = time.time()\n",
    "    for batch, i in enumerate(trange(0, len(ds) - 1, n_row)):\n",
    "        data, targets = hp.batch_data(ds, i, n_row=n_row)\n",
    "        class_output, numeric_output = model(data)\n",
    "        loss, loss_dict = hp.hephaestus_loss(\n",
    "            class_output, numeric_output, targets, tokens, special_tokens, device\n",
    "        )\n",
    "        num_loss = loss_dict[\"reg_loss\"].item()\n",
    "        class_loss = loss_dict[\"class_loss\"].item()\n",
    "        writer.add_scalar(\"Loss/total_loss\", loss, batch)\n",
    "        writer.add_scalar(\"Loss/numeric_loss\", num_loss, batch)\n",
    "        writer.add_scalar(\"Loss/class_loss\", class_loss, batch)\n",
    "        optimizer.zero_grad()\n",
    "        loss.backward()\n",
    "        torch.nn.utils.clip_grad_norm_(model.parameters(), 0.5)\n",
    "        optimizer.step()\n",
    "\n",
    "        total_loss += loss.item()\n",
    "        if batch % log_interval == 0 and batch > 0:\n",
    "            # lr = scheduler.get_last_lr()[0]\n",
    "            lr = optimizer.param_groups[0][\"lr\"]\n",
    "\n",
    "            ms_per_batch = (time.time() - start_time) * 1000 / log_interval\n",
    "            cur_loss = total_loss / log_interval\n",
    "            ppl = math.exp(cur_loss)\n",
    "            print(  # f'| epoch {epoch:3d} | {batch:5d}/{num_batches:5d} batches | '\n",
    "                f\"lr {lr:02.2f} | ms/batch {ms_per_batch:5.2f} | \",\n",
    "                f\"loss {cur_loss:5.2f} | ppl {ppl:8.2f}\",\n",
    "                loss_dict,\n",
    "            )\n",
    "            total_loss = 0\n",
    "            start_time = time.time()\n",
    "            scheduler.step(loss)\n",
    "    writer.close()"
   ]
  },
  {
   "cell_type": "code",
   "execution_count": 19,
   "metadata": {},
   "outputs": [
    {
     "name": "stderr",
     "output_type": "stream",
     "text": [
      "  0%|          | 0/4316 [00:00<?, ?it/s]"
     ]
    },
    {
     "name": "stderr",
     "output_type": "stream",
     "text": [
      " 17%|█▋        | 752/4316 [00:22<01:28, 40.42it/s]"
     ]
    },
    {
     "name": "stderr",
     "output_type": "stream",
     "text": [
      " 18%|█▊        | 767/4316 [00:22<01:38, 36.18it/s]"
     ]
    }
   ],
   "source": [
    "for i in range(2):\n",
    "    train(model)"
   ]
  },
  {
   "cell_type": "code",
   "execution_count": null,
   "metadata": {},
   "outputs": [],
   "source": [
    "# %%\n",
    "torch.save(model.state_dict(), \"models/diamonds2.pth\")"
   ]
  },
  {
   "cell_type": "code",
   "execution_count": null,
   "metadata": {},
   "outputs": [],
   "source": [
    "def evaluate(model: nn.Module, ds, idx) -> None:\n",
    "    model.eval()  # turn on train mode\n",
    "    n_row = 1  # one because it's not time series\n",
    "    start_time = time.time()\n",
    "    with torch.no_grad():\n",
    "        data, targets = hp.batch_data(ds, idx, n_row=n_row)\n",
    "        class_output, numeric_output = model(data)\n",
    "        loss, loss_dict = hp.hephaestus_loss(\n",
    "            class_output, numeric_output, targets, tokens, special_tokens, device\n",
    "        )\n",
    "        return {\n",
    "            \"loss\": loss.item(),\n",
    "            \"loss_dict\": loss_dict,\n",
    "            \"data\": data,\n",
    "            \"targets\": targets,\n",
    "            \"class_output\": class_output,\n",
    "            \"numeric_output\": numeric_output,\n",
    "        }"
   ]
  },
  {
   "cell_type": "code",
   "execution_count": null,
   "metadata": {},
   "outputs": [],
   "source": [
    "ds_test = hp.TabularDataset(\n",
    "    test,\n",
    "    tokens,\n",
    "    special_tokens=special_tokens,\n",
    "    shuffle_cols=False,\n",
    "    max_row_length=50,\n",
    ")"
   ]
  },
  {
   "cell_type": "code",
   "execution_count": null,
   "metadata": {},
   "outputs": [],
   "source": [
    "res = evaluate(model, ds_test, 1)"
   ]
  },
  {
   "cell_type": "code",
   "execution_count": null,
   "metadata": {},
   "outputs": [
    {
     "data": {
      "text/plain": [
       "0.07507946342229843"
      ]
     },
     "execution_count": 26,
     "metadata": {},
     "output_type": "execute_result"
    }
   ],
   "source": [
    "res[\"loss_dict\"][\"reg_loss\"].item()"
   ]
  },
  {
   "cell_type": "code",
   "execution_count": null,
   "metadata": {},
   "outputs": [
    {
     "data": {
      "text/plain": [
       "'<row-start>  : 1.0393171826547831 , carat : -0.5863568663158119 , cut : ideal , color : e , clarity : si1 , depth : 0.24472280362154117 , table : -0.20460319486368622 , x : -0.5626486873617523 , y : -0.520539274600677 , z : -0.5083383369869077 , '"
      ]
     },
     "execution_count": 27,
     "metadata": {},
     "output_type": "execute_result"
    }
   ],
   "source": [
    "actuals = [str(i.value) for i in res[\"targets\"]]\n",
    "actuals_ = \" \".join(actuals)\n",
    "actual_str = actuals_.split(\"<row-end>\")[0]\n",
    "actual_str"
   ]
  },
  {
   "cell_type": "code",
   "execution_count": null,
   "metadata": {},
   "outputs": [
    {
     "ename": "AttributeError",
     "evalue": "'Tensor' object has no attribute 'value'",
     "output_type": "error",
     "traceback": [
      "\u001b[0;31m---------------------------------------------------------------------------\u001b[0m",
      "\u001b[0;31mAttributeError\u001b[0m                            Traceback (most recent call last)",
      "Cell \u001b[0;32mIn[28], line 1\u001b[0m\n\u001b[0;32m----> 1\u001b[0m preds \u001b[39m=\u001b[39m [\u001b[39mstr\u001b[39;49m(i\u001b[39m.\u001b[39;49mvalue) \u001b[39mfor\u001b[39;49;00m i \u001b[39min\u001b[39;49;00m res[\u001b[39m\"\u001b[39;49m\u001b[39mclass_output\u001b[39;49m\u001b[39m\"\u001b[39;49m]]\n\u001b[1;32m      2\u001b[0m preds_ \u001b[39m=\u001b[39m \u001b[39m\"\u001b[39m\u001b[39m \u001b[39m\u001b[39m\"\u001b[39m\u001b[39m.\u001b[39mjoin(preds)\n\u001b[1;32m      3\u001b[0m preds_\u001b[39m.\u001b[39msplit(\u001b[39m\"\u001b[39m\u001b[39m<row-end>\u001b[39m\u001b[39m\"\u001b[39m)[\u001b[39m0\u001b[39m]\n",
      "Cell \u001b[0;32mIn[28], line 1\u001b[0m, in \u001b[0;36m<listcomp>\u001b[0;34m(.0)\u001b[0m\n\u001b[0;32m----> 1\u001b[0m preds \u001b[39m=\u001b[39m [\u001b[39mstr\u001b[39m(i\u001b[39m.\u001b[39;49mvalue) \u001b[39mfor\u001b[39;00m i \u001b[39min\u001b[39;00m res[\u001b[39m\"\u001b[39m\u001b[39mclass_output\u001b[39m\u001b[39m\"\u001b[39m]]\n\u001b[1;32m      2\u001b[0m preds_ \u001b[39m=\u001b[39m \u001b[39m\"\u001b[39m\u001b[39m \u001b[39m\u001b[39m\"\u001b[39m\u001b[39m.\u001b[39mjoin(preds)\n\u001b[1;32m      3\u001b[0m preds_\u001b[39m.\u001b[39msplit(\u001b[39m\"\u001b[39m\u001b[39m<row-end>\u001b[39m\u001b[39m\"\u001b[39m)[\u001b[39m0\u001b[39m]\n",
      "\u001b[0;31mAttributeError\u001b[0m: 'Tensor' object has no attribute 'value'"
     ]
    }
   ],
   "source": [
    "# preds = [str(i.value) for i in res[\"class_output\"]]\n",
    "# preds_ = \" \".join(preds)\n",
    "# preds_.split(\"<row-end>\")[0]"
   ]
  },
  {
   "cell_type": "code",
   "execution_count": null,
   "metadata": {},
   "outputs": [
    {
     "data": {
      "text/plain": [
       "tensor([[ 0.3549,  1.7148, -2.8090,  ..., -1.5442, -0.3651,  1.8637],\n",
       "        [-0.0675,  9.0304, -4.3372,  ..., -2.9266,  1.5646, -0.6628],\n",
       "        [-0.4244, -2.2803, -1.1936,  ...,  1.9629,  1.3588, -0.3464],\n",
       "        ...,\n",
       "        [-0.1164, -0.9520,  0.9857,  ...,  2.3107,  2.3813, -1.2798],\n",
       "        [-0.0663, -0.6935,  0.8468,  ...,  2.0432,  2.1547, -0.9833],\n",
       "        [ 0.0592, -0.0154,  0.5057,  ...,  1.2972,  2.0831, -0.7047]],\n",
       "       device='mps:0')"
      ]
     },
     "execution_count": 29,
     "metadata": {},
     "output_type": "execute_result"
    }
   ],
   "source": [
    "res[\"class_output\"]"
   ]
  },
  {
   "cell_type": "code",
   "execution_count": null,
   "metadata": {},
   "outputs": [],
   "source": [
    "lsm = nn.Softmax(dim=0)\n",
    "softmax_cats = lsm(res[\"class_output\"])\n",
    "softmax_cats = torch.argmax(softmax_cats, dim=1)"
   ]
  },
  {
   "cell_type": "code",
   "execution_count": null,
   "metadata": {},
   "outputs": [
    {
     "data": {
      "text/plain": [
       "(tensor([ 8,  1,  3,  5, 17, 10,  3,  5,  2, 13,  3, 24,  2, 12,  3, 16,  2, 11,\n",
       "          3, 30,  2, 15,  3,  5,  2, 32,  3,  5,  2, 38,  3,  5,  2, 39,  3,  5,\n",
       "          2, 40,  3,  5,  2,  7,  6,  6,  6,  6,  6,  6,  6,  6],\n",
       "        device='mps:0'),\n",
       " torch.Size([50]))"
      ]
     },
     "execution_count": 31,
     "metadata": {},
     "output_type": "execute_result"
    }
   ],
   "source": [
    "softmax_cats, softmax_cats.shape"
   ]
  },
  {
   "cell_type": "code",
   "execution_count": null,
   "metadata": {},
   "outputs": [
    {
     "name": "stdout",
     "output_type": "stream",
     "text": [
      "Predicted Row:\n",
      "\n",
      "<row-start>  : 0.4553162157535553 f carat : -0.3599178194999695 , cut : ideal , color : e , clarity : si1 , depth : 0.006437838077545166 , table : -0.05552786588668823 , x : -0.4822646975517273 , y : -0.4959062933921814 , z : -0.2911911606788635 , \n",
      "\n",
      "Actual Row:\n",
      "<row-start>  : 1.0393171826547831 , carat : -0.5863568663158119 , cut : ideal , color : e , clarity : si1 , depth : 0.24472280362154117 , table : -0.20460319486368622 , x : -0.5626486873617523 , y : -0.520539274600677 , z : -0.5083383369869077 , \n"
     ]
    }
   ],
   "source": [
    "gen_tokens = []\n",
    "for idx, pred in enumerate(softmax_cats):\n",
    "    token = tokens[pred-1]\n",
    "    if token == \"<numeric>\":\n",
    "        gen_tokens.append(str(res[\"numeric_output\"][idx].item()))\n",
    "    else:\n",
    "        gen_tokens.append(token)\n",
    "preds = \" \".join(gen_tokens)\n",
    "print(f\"\"\"Predicted Row:\\n\\n{preds.split(\"<row-end>\")[0]}\"\"\")\n",
    "print(f\"\"\"\\nActual Row:\\n{actual_str}\"\"\")"
   ]
  },
  {
   "cell_type": "code",
   "execution_count": null,
   "metadata": {},
   "outputs": [
    {
     "data": {
      "text/plain": [
       "40"
      ]
     },
     "execution_count": 47,
     "metadata": {},
     "output_type": "execute_result"
    }
   ],
   "source": [
    "ds.vocab_len"
   ]
  },
  {
   "cell_type": "code",
   "execution_count": null,
   "metadata": {},
   "outputs": [
    {
     "data": {
      "text/plain": [
       "array([[ 0,  1,  2,  3,  4],\n",
       "       [ 5,  6,  7,  8,  9],\n",
       "       [10, 11, 12, 13, 14],\n",
       "       [15, 16, 17, 18, 19],\n",
       "       [20, 21, 22, 23, 24]])"
      ]
     },
     "execution_count": 45,
     "metadata": {},
     "output_type": "execute_result"
    }
   ],
   "source": [
    "X = np.arange(25).reshape(5, 5)\n",
    "X"
   ]
  },
  {
   "cell_type": "code",
   "execution_count": null,
   "metadata": {},
   "outputs": [
    {
     "data": {
      "text/plain": [
       "array([[1., 0., 0., 0., 0.],\n",
       "       [0., 1., 0., 0., 0.],\n",
       "       [0., 0., 1., 0., 0.],\n",
       "       [0., 0., 0., 1., 0.],\n",
       "       [0., 0., 0., 0., 1.]])"
      ]
     },
     "execution_count": 52,
     "metadata": {},
     "output_type": "execute_result"
    }
   ],
   "source": [
    "e = np.eye(5, 5)\n",
    "e"
   ]
  },
  {
   "cell_type": "code",
   "execution_count": null,
   "metadata": {},
   "outputs": [
    {
     "data": {
      "text/plain": [
       "array([[ 0.,  1.,  2.,  3.,  4.],\n",
       "       [ 5.,  6.,  7.,  8.,  9.],\n",
       "       [10., 11., 12., 13., 14.],\n",
       "       [15., 16., 17., 18., 19.],\n",
       "       [20., 21., 22., 23., 24.]])"
      ]
     },
     "execution_count": 53,
     "metadata": {},
     "output_type": "execute_result"
    }
   ],
   "source": [
    "np.dot(X, e)"
   ]
  },
  {
   "cell_type": "code",
   "execution_count": null,
   "metadata": {},
   "outputs": [
    {
     "data": {
      "text/plain": [
       "array([[1., 0., 0., 0., 0.],\n",
       "       [0., 1., 0., 0., 0.],\n",
       "       [0., 0., 2., 0., 0.],\n",
       "       [0., 0., 0., 1., 0.],\n",
       "       [0., 0., 0., 0., 1.]])"
      ]
     },
     "execution_count": 55,
     "metadata": {},
     "output_type": "execute_result"
    }
   ],
   "source": [
    "ee = e.copy()\n",
    "ee[2,2] = 2\n",
    "ee"
   ]
  },
  {
   "cell_type": "code",
   "execution_count": null,
   "metadata": {},
   "outputs": [
    {
     "data": {
      "text/plain": [
       "array([[ 0.,  1.,  4.,  3.,  4.],\n",
       "       [ 5.,  6., 14.,  8.,  9.],\n",
       "       [10., 11., 24., 13., 14.],\n",
       "       [15., 16., 34., 18., 19.],\n",
       "       [20., 21., 44., 23., 24.]])"
      ]
     },
     "execution_count": 56,
     "metadata": {},
     "output_type": "execute_result"
    }
   ],
   "source": [
    "np.dot(X, ee)"
   ]
  },
  {
   "cell_type": "code",
   "execution_count": null,
   "metadata": {},
   "outputs": [],
   "source": [
    "from torch import Tensor, nn"
   ]
  },
  {
   "cell_type": "code",
   "execution_count": null,
   "metadata": {},
   "outputs": [],
   "source": [
    "embedding = nn.Embedding(5, 3)\n",
    "\n"
   ]
  },
  {
   "cell_type": "code",
   "execution_count": null,
   "metadata": {},
   "outputs": [
    {
     "data": {
      "text/plain": [
       "Parameter containing:\n",
       "tensor([[ 1.7518,  1.1383, -1.7392],\n",
       "        [-1.2163,  0.3151,  0.1371],\n",
       "        [-1.4466,  0.6539, -1.9890],\n",
       "        [ 0.5001,  0.3375,  0.2283],\n",
       "        [-0.1947,  0.5245,  0.7784]], requires_grad=True)"
      ]
     },
     "execution_count": 59,
     "metadata": {},
     "output_type": "execute_result"
    }
   ],
   "source": [
    "embedding.weight"
   ]
  },
  {
   "cell_type": "code",
   "execution_count": null,
   "metadata": {},
   "outputs": [
    {
     "ename": "AttributeError",
     "evalue": "'Embedding' object has no attribute 'bias'",
     "output_type": "error",
     "traceback": [
      "\u001b[0;31m---------------------------------------------------------------------------\u001b[0m",
      "\u001b[0;31mAttributeError\u001b[0m                            Traceback (most recent call last)",
      "Cell \u001b[0;32mIn[60], line 1\u001b[0m\n\u001b[0;32m----> 1\u001b[0m embedding\u001b[39m.\u001b[39;49mbias\n",
      "File \u001b[0;32m/opt/homebrew/Caskroom/miniconda/base/envs/pytorch/lib/python3.11/site-packages/torch/nn/modules/module.py:1630\u001b[0m, in \u001b[0;36mModule.__getattr__\u001b[0;34m(self, name)\u001b[0m\n\u001b[1;32m   1628\u001b[0m     \u001b[39mif\u001b[39;00m name \u001b[39min\u001b[39;00m modules:\n\u001b[1;32m   1629\u001b[0m         \u001b[39mreturn\u001b[39;00m modules[name]\n\u001b[0;32m-> 1630\u001b[0m \u001b[39mraise\u001b[39;00m \u001b[39mAttributeError\u001b[39;00m(\u001b[39m\"\u001b[39m\u001b[39m'\u001b[39m\u001b[39m{}\u001b[39;00m\u001b[39m'\u001b[39m\u001b[39m object has no attribute \u001b[39m\u001b[39m'\u001b[39m\u001b[39m{}\u001b[39;00m\u001b[39m'\u001b[39m\u001b[39m\"\u001b[39m\u001b[39m.\u001b[39mformat(\n\u001b[1;32m   1631\u001b[0m     \u001b[39mtype\u001b[39m(\u001b[39mself\u001b[39m)\u001b[39m.\u001b[39m\u001b[39m__name__\u001b[39m, name))\n",
      "\u001b[0;31mAttributeError\u001b[0m: 'Embedding' object has no attribute 'bias'"
     ]
    }
   ],
   "source": []
  },
  {
   "cell_type": "code",
   "execution_count": null,
   "metadata": {},
   "outputs": [],
   "source": []
  },
  {
   "cell_type": "code",
   "execution_count": null,
   "metadata": {},
   "outputs": [],
   "source": []
  }
 ],
 "metadata": {
  "kernelspec": {
   "display_name": "pytorch",
   "language": "python",
   "name": "python3"
  },
  "language_info": {
   "codemirror_mode": {
    "name": "ipython",
    "version": 3
   },
   "file_extension": ".py",
   "mimetype": "text/x-python",
   "name": "python",
   "nbconvert_exporter": "python",
   "pygments_lexer": "ipython3",
   "version": "3.11.3"
  },
  "orig_nbformat": 4
 },
 "nbformat": 4,
 "nbformat_minor": 2
}
