{
 "cells": [
  {
   "cell_type": "markdown",
   "metadata": {},
   "source": [
    "# Diamond Transformer\n",
    "\n",
    "This notebook investigates the use of a transformer to predict the price of diamonds. The dataset is from Kaggle and can be found [here](https://www.kaggle.com/shivam2503/diamonds).\n",
    "\n",
    "While many traditional ML and DL techniques work on the dataset, our approach uses far less labeled data while achieving similar results. This is done by using a transformer.\n",
    "\n",
    "--------------------------------------------------------------------------------\n",
    "\n",
    "## Libraries\n"
   ]
  },
  {
   "cell_type": "code",
   "execution_count": 1,
   "metadata": {},
   "outputs": [],
   "source": [
    "import hashlib\n",
    "import math\n",
    "\n",
    "import polars as pl\n",
    "\n",
    "\n",
    "import polars as pl\n",
    "import numpy as np\n",
    "\n",
    "\n",
    "from torch import nn, Tensor\n",
    "from tqdm.notebook import trange, tqdm\n",
    "\n",
    "import hephaestus as hp\n",
    "import torch\n",
    "from torch.utils.tensorboard import SummaryWriter"
   ]
  },
  {
   "cell_type": "markdown",
   "metadata": {},
   "source": [
    "The diamonds dataset: df = pl.read_csv(\"../data/diamonds.csv\") df.head()\n"
   ]
  },
  {
   "cell_type": "code",
   "execution_count": 2,
   "metadata": {},
   "outputs": [
    {
     "data": {
      "text/html": [
       "<div><style>\n",
       ".dataframe > thead > tr > th,\n",
       ".dataframe > tbody > tr > td {\n",
       "  text-align: right;\n",
       "}\n",
       "</style>\n",
       "<small>shape: (5, 10)</small><table border=\"1\" class=\"dataframe\"><thead><tr><th>carat</th><th>cut</th><th>color</th><th>clarity</th><th>depth</th><th>table</th><th>price</th><th>x</th><th>y</th><th>z</th></tr><tr><td>f64</td><td>str</td><td>str</td><td>str</td><td>f64</td><td>f64</td><td>i64</td><td>f64</td><td>f64</td><td>f64</td></tr></thead><tbody><tr><td>0.23</td><td>&quot;Ideal&quot;</td><td>&quot;E&quot;</td><td>&quot;SI2&quot;</td><td>61.5</td><td>55.0</td><td>326</td><td>3.95</td><td>3.98</td><td>2.43</td></tr><tr><td>0.21</td><td>&quot;Premium&quot;</td><td>&quot;E&quot;</td><td>&quot;SI1&quot;</td><td>59.8</td><td>61.0</td><td>326</td><td>3.89</td><td>3.84</td><td>2.31</td></tr><tr><td>0.23</td><td>&quot;Good&quot;</td><td>&quot;E&quot;</td><td>&quot;VS1&quot;</td><td>56.9</td><td>65.0</td><td>327</td><td>4.05</td><td>4.07</td><td>2.31</td></tr><tr><td>0.29</td><td>&quot;Premium&quot;</td><td>&quot;I&quot;</td><td>&quot;VS2&quot;</td><td>62.4</td><td>58.0</td><td>334</td><td>4.2</td><td>4.23</td><td>2.63</td></tr><tr><td>0.31</td><td>&quot;Good&quot;</td><td>&quot;J&quot;</td><td>&quot;SI2&quot;</td><td>63.3</td><td>58.0</td><td>335</td><td>4.34</td><td>4.35</td><td>2.75</td></tr></tbody></table></div>"
      ],
      "text/plain": [
       "shape: (5, 10)\n",
       "┌───────┬─────────┬───────┬─────────┬───┬───────┬──────┬──────┬──────┐\n",
       "│ carat ┆ cut     ┆ color ┆ clarity ┆ … ┆ price ┆ x    ┆ y    ┆ z    │\n",
       "│ ---   ┆ ---     ┆ ---   ┆ ---     ┆   ┆ ---   ┆ ---  ┆ ---  ┆ ---  │\n",
       "│ f64   ┆ str     ┆ str   ┆ str     ┆   ┆ i64   ┆ f64  ┆ f64  ┆ f64  │\n",
       "╞═══════╪═════════╪═══════╪═════════╪═══╪═══════╪══════╪══════╪══════╡\n",
       "│ 0.23  ┆ Ideal   ┆ E     ┆ SI2     ┆ … ┆ 326   ┆ 3.95 ┆ 3.98 ┆ 2.43 │\n",
       "│ 0.21  ┆ Premium ┆ E     ┆ SI1     ┆ … ┆ 326   ┆ 3.89 ┆ 3.84 ┆ 2.31 │\n",
       "│ 0.23  ┆ Good    ┆ E     ┆ VS1     ┆ … ┆ 327   ┆ 4.05 ┆ 4.07 ┆ 2.31 │\n",
       "│ 0.29  ┆ Premium ┆ I     ┆ VS2     ┆ … ┆ 334   ┆ 4.2  ┆ 4.23 ┆ 2.63 │\n",
       "│ 0.31  ┆ Good    ┆ J     ┆ SI2     ┆ … ┆ 335   ┆ 4.34 ┆ 4.35 ┆ 2.75 │\n",
       "└───────┴─────────┴───────┴─────────┴───┴───────┴──────┴──────┴──────┘"
      ]
     },
     "execution_count": 2,
     "metadata": {},
     "output_type": "execute_result"
    }
   ],
   "source": [
    "df = pl.read_csv(\"../data/diamonds.csv\")\n",
    "df.head()"
   ]
  },
  {
   "cell_type": "code",
   "execution_count": 3,
   "metadata": {},
   "outputs": [
    {
     "data": {
      "text/html": [
       "<div><style>\n",
       ".dataframe > thead > tr > th,\n",
       ".dataframe > tbody > tr > td {\n",
       "  text-align: right;\n",
       "}\n",
       "</style>\n",
       "<small>shape: (9, 11)</small><table border=\"1\" class=\"dataframe\"><thead><tr><th>describe</th><th>carat</th><th>cut</th><th>color</th><th>clarity</th><th>depth</th><th>table</th><th>price</th><th>x</th><th>y</th><th>z</th></tr><tr><td>str</td><td>f64</td><td>str</td><td>str</td><td>str</td><td>f64</td><td>f64</td><td>f64</td><td>f64</td><td>f64</td><td>f64</td></tr></thead><tbody><tr><td>&quot;count&quot;</td><td>53940.0</td><td>&quot;53940&quot;</td><td>&quot;53940&quot;</td><td>&quot;53940&quot;</td><td>53940.0</td><td>53940.0</td><td>53940.0</td><td>53940.0</td><td>53940.0</td><td>53940.0</td></tr><tr><td>&quot;null_count&quot;</td><td>0.0</td><td>&quot;0&quot;</td><td>&quot;0&quot;</td><td>&quot;0&quot;</td><td>0.0</td><td>0.0</td><td>0.0</td><td>0.0</td><td>0.0</td><td>0.0</td></tr><tr><td>&quot;mean&quot;</td><td>0.79794</td><td>null</td><td>null</td><td>null</td><td>61.749405</td><td>57.457184</td><td>3932.799722</td><td>5.731157</td><td>5.734526</td><td>3.538734</td></tr><tr><td>&quot;std&quot;</td><td>0.474011</td><td>null</td><td>null</td><td>null</td><td>1.432621</td><td>2.234491</td><td>3989.439738</td><td>1.121761</td><td>1.142135</td><td>0.705699</td></tr><tr><td>&quot;min&quot;</td><td>0.2</td><td>&quot;Fair&quot;</td><td>&quot;D&quot;</td><td>&quot;I1&quot;</td><td>43.0</td><td>43.0</td><td>326.0</td><td>0.0</td><td>0.0</td><td>0.0</td></tr><tr><td>&quot;max&quot;</td><td>5.01</td><td>&quot;Very Good&quot;</td><td>&quot;J&quot;</td><td>&quot;VVS2&quot;</td><td>79.0</td><td>95.0</td><td>18823.0</td><td>10.74</td><td>58.9</td><td>31.8</td></tr><tr><td>&quot;median&quot;</td><td>0.7</td><td>null</td><td>null</td><td>null</td><td>61.8</td><td>57.0</td><td>2401.0</td><td>5.7</td><td>5.71</td><td>3.53</td></tr><tr><td>&quot;25%&quot;</td><td>0.4</td><td>null</td><td>null</td><td>null</td><td>61.0</td><td>56.0</td><td>950.0</td><td>4.71</td><td>4.72</td><td>2.91</td></tr><tr><td>&quot;75%&quot;</td><td>1.04</td><td>null</td><td>null</td><td>null</td><td>62.5</td><td>59.0</td><td>5325.0</td><td>6.54</td><td>6.54</td><td>4.04</td></tr></tbody></table></div>"
      ],
      "text/plain": [
       "shape: (9, 11)\n",
       "┌────────────┬──────────┬───────────┬───────┬───┬─────────────┬──────────┬──────────┬──────────┐\n",
       "│ describe   ┆ carat    ┆ cut       ┆ color ┆ … ┆ price       ┆ x        ┆ y        ┆ z        │\n",
       "│ ---        ┆ ---      ┆ ---       ┆ ---   ┆   ┆ ---         ┆ ---      ┆ ---      ┆ ---      │\n",
       "│ str        ┆ f64      ┆ str       ┆ str   ┆   ┆ f64         ┆ f64      ┆ f64      ┆ f64      │\n",
       "╞════════════╪══════════╪═══════════╪═══════╪═══╪═════════════╪══════════╪══════════╪══════════╡\n",
       "│ count      ┆ 53940.0  ┆ 53940     ┆ 53940 ┆ … ┆ 53940.0     ┆ 53940.0  ┆ 53940.0  ┆ 53940.0  │\n",
       "│ null_count ┆ 0.0      ┆ 0         ┆ 0     ┆ … ┆ 0.0         ┆ 0.0      ┆ 0.0      ┆ 0.0      │\n",
       "│ mean       ┆ 0.79794  ┆ null      ┆ null  ┆ … ┆ 3932.799722 ┆ 5.731157 ┆ 5.734526 ┆ 3.538734 │\n",
       "│ std        ┆ 0.474011 ┆ null      ┆ null  ┆ … ┆ 3989.439738 ┆ 1.121761 ┆ 1.142135 ┆ 0.705699 │\n",
       "│ min        ┆ 0.2      ┆ Fair      ┆ D     ┆ … ┆ 326.0       ┆ 0.0      ┆ 0.0      ┆ 0.0      │\n",
       "│ max        ┆ 5.01     ┆ Very Good ┆ J     ┆ … ┆ 18823.0     ┆ 10.74    ┆ 58.9     ┆ 31.8     │\n",
       "│ median     ┆ 0.7      ┆ null      ┆ null  ┆ … ┆ 2401.0      ┆ 5.7      ┆ 5.71     ┆ 3.53     │\n",
       "│ 25%        ┆ 0.4      ┆ null      ┆ null  ┆ … ┆ 950.0       ┆ 4.71     ┆ 4.72     ┆ 2.91     │\n",
       "│ 75%        ┆ 1.04     ┆ null      ┆ null  ┆ … ┆ 5325.0      ┆ 6.54     ┆ 6.54     ┆ 4.04     │\n",
       "└────────────┴──────────┴───────────┴───────┴───┴─────────────┴──────────┴──────────┴──────────┘"
      ]
     },
     "execution_count": 3,
     "metadata": {},
     "output_type": "execute_result"
    }
   ],
   "source": [
    "df.describe()"
   ]
  },
  {
   "cell_type": "code",
   "execution_count": 4,
   "metadata": {},
   "outputs": [
    {
     "data": {
      "text/html": [
       "<div><style>\n",
       ".dataframe > thead > tr > th,\n",
       ".dataframe > tbody > tr > td {\n",
       "  text-align: right;\n",
       "}\n",
       "</style>\n",
       "<small>shape: (5, 10)</small><table border=\"1\" class=\"dataframe\"><thead><tr><th>carat</th><th>cut</th><th>color</th><th>clarity</th><th>depth</th><th>table</th><th>price</th><th>x</th><th>y</th><th>z</th></tr><tr><td>f64</td><td>str</td><td>str</td><td>str</td><td>f64</td><td>f64</td><td>f64</td><td>f64</td><td>f64</td><td>f64</td></tr></thead><tbody><tr><td>-1.198157</td><td>&quot;Ideal&quot;</td><td>&quot;E&quot;</td><td>&quot;SI2&quot;</td><td>-0.17409</td><td>-1.099662</td><td>-0.904087</td><td>-1.587823</td><td>-1.536181</td><td>-1.571115</td></tr><tr><td>-1.24035</td><td>&quot;Premium&quot;</td><td>&quot;E&quot;</td><td>&quot;SI1&quot;</td><td>-1.360726</td><td>1.585514</td><td>-0.904087</td><td>-1.64131</td><td>-1.658759</td><td>-1.741159</td></tr><tr><td>-1.198157</td><td>&quot;Good&quot;</td><td>&quot;E&quot;</td><td>&quot;VS1&quot;</td><td>-3.384987</td><td>3.375631</td><td>-0.903836</td><td>-1.498677</td><td>-1.457382</td><td>-1.741159</td></tr><tr><td>-1.071577</td><td>&quot;Premium&quot;</td><td>&quot;I&quot;</td><td>&quot;VS2&quot;</td><td>0.454129</td><td>0.242926</td><td>-0.902081</td><td>-1.364959</td><td>-1.317293</td><td>-1.287708</td></tr><tr><td>-1.029384</td><td>&quot;Good&quot;</td><td>&quot;J&quot;</td><td>&quot;SI2&quot;</td><td>1.082348</td><td>0.242926</td><td>-0.901831</td><td>-1.240155</td><td>-1.212227</td><td>-1.117663</td></tr></tbody></table></div>"
      ],
      "text/plain": [
       "shape: (5, 10)\n",
       "┌───────────┬─────────┬───────┬─────────┬───┬───────────┬───────────┬───────────┬───────────┐\n",
       "│ carat     ┆ cut     ┆ color ┆ clarity ┆ … ┆ price     ┆ x         ┆ y         ┆ z         │\n",
       "│ ---       ┆ ---     ┆ ---   ┆ ---     ┆   ┆ ---       ┆ ---       ┆ ---       ┆ ---       │\n",
       "│ f64       ┆ str     ┆ str   ┆ str     ┆   ┆ f64       ┆ f64       ┆ f64       ┆ f64       │\n",
       "╞═══════════╪═════════╪═══════╪═════════╪═══╪═══════════╪═══════════╪═══════════╪═══════════╡\n",
       "│ -1.198157 ┆ Ideal   ┆ E     ┆ SI2     ┆ … ┆ -0.904087 ┆ -1.587823 ┆ -1.536181 ┆ -1.571115 │\n",
       "│ -1.24035  ┆ Premium ┆ E     ┆ SI1     ┆ … ┆ -0.904087 ┆ -1.64131  ┆ -1.658759 ┆ -1.741159 │\n",
       "│ -1.198157 ┆ Good    ┆ E     ┆ VS1     ┆ … ┆ -0.903836 ┆ -1.498677 ┆ -1.457382 ┆ -1.741159 │\n",
       "│ -1.071577 ┆ Premium ┆ I     ┆ VS2     ┆ … ┆ -0.902081 ┆ -1.364959 ┆ -1.317293 ┆ -1.287708 │\n",
       "│ -1.029384 ┆ Good    ┆ J     ┆ SI2     ┆ … ┆ -0.901831 ┆ -1.240155 ┆ -1.212227 ┆ -1.117663 │\n",
       "└───────────┴─────────┴───────┴─────────┴───┴───────────┴───────────┴───────────┴───────────┘"
      ]
     },
     "execution_count": 4,
     "metadata": {},
     "output_type": "execute_result"
    }
   ],
   "source": [
    "df = hp.scale_numeric(df)\n",
    "df.head()"
   ]
  },
  {
   "cell_type": "code",
   "execution_count": 5,
   "metadata": {},
   "outputs": [],
   "source": [
    "df = hp.make_lower_remove_special_chars(df)\n",
    "val_tokens = hp.get_unique_utf8_values(df)\n",
    "col_tokens = hp.get_col_tokens(df)"
   ]
  },
  {
   "cell_type": "code",
   "execution_count": 6,
   "metadata": {},
   "outputs": [
    {
     "data": {
      "text/html": [
       "<div><style>\n",
       ".dataframe > thead > tr > th,\n",
       ".dataframe > tbody > tr > td {\n",
       "  text-align: right;\n",
       "}\n",
       "</style>\n",
       "<small>shape: (5, 10)</small><table border=\"1\" class=\"dataframe\"><thead><tr><th>carat</th><th>cut</th><th>color</th><th>clarity</th><th>depth</th><th>table</th><th>price</th><th>x</th><th>y</th><th>z</th></tr><tr><td>f64</td><td>str</td><td>str</td><td>str</td><td>f64</td><td>f64</td><td>f64</td><td>f64</td><td>f64</td><td>f64</td></tr></thead><tbody><tr><td>-1.198157</td><td>&quot;ideal&quot;</td><td>&quot;e&quot;</td><td>&quot;si2&quot;</td><td>-0.17409</td><td>-1.099662</td><td>-0.904087</td><td>-1.587823</td><td>-1.536181</td><td>-1.571115</td></tr><tr><td>-1.24035</td><td>&quot;premium&quot;</td><td>&quot;e&quot;</td><td>&quot;si1&quot;</td><td>-1.360726</td><td>1.585514</td><td>-0.904087</td><td>-1.64131</td><td>-1.658759</td><td>-1.741159</td></tr><tr><td>-1.198157</td><td>&quot;good&quot;</td><td>&quot;e&quot;</td><td>&quot;vs1&quot;</td><td>-3.384987</td><td>3.375631</td><td>-0.903836</td><td>-1.498677</td><td>-1.457382</td><td>-1.741159</td></tr><tr><td>-1.071577</td><td>&quot;premium&quot;</td><td>&quot;i&quot;</td><td>&quot;vs2&quot;</td><td>0.454129</td><td>0.242926</td><td>-0.902081</td><td>-1.364959</td><td>-1.317293</td><td>-1.287708</td></tr><tr><td>-1.029384</td><td>&quot;good&quot;</td><td>&quot;j&quot;</td><td>&quot;si2&quot;</td><td>1.082348</td><td>0.242926</td><td>-0.901831</td><td>-1.240155</td><td>-1.212227</td><td>-1.117663</td></tr></tbody></table></div>"
      ],
      "text/plain": [
       "shape: (5, 10)\n",
       "┌───────────┬─────────┬───────┬─────────┬───┬───────────┬───────────┬───────────┬───────────┐\n",
       "│ carat     ┆ cut     ┆ color ┆ clarity ┆ … ┆ price     ┆ x         ┆ y         ┆ z         │\n",
       "│ ---       ┆ ---     ┆ ---   ┆ ---     ┆   ┆ ---       ┆ ---       ┆ ---       ┆ ---       │\n",
       "│ f64       ┆ str     ┆ str   ┆ str     ┆   ┆ f64       ┆ f64       ┆ f64       ┆ f64       │\n",
       "╞═══════════╪═════════╪═══════╪═════════╪═══╪═══════════╪═══════════╪═══════════╪═══════════╡\n",
       "│ -1.198157 ┆ ideal   ┆ e     ┆ si2     ┆ … ┆ -0.904087 ┆ -1.587823 ┆ -1.536181 ┆ -1.571115 │\n",
       "│ -1.24035  ┆ premium ┆ e     ┆ si1     ┆ … ┆ -0.904087 ┆ -1.64131  ┆ -1.658759 ┆ -1.741159 │\n",
       "│ -1.198157 ┆ good    ┆ e     ┆ vs1     ┆ … ┆ -0.903836 ┆ -1.498677 ┆ -1.457382 ┆ -1.741159 │\n",
       "│ -1.071577 ┆ premium ┆ i     ┆ vs2     ┆ … ┆ -0.902081 ┆ -1.364959 ┆ -1.317293 ┆ -1.287708 │\n",
       "│ -1.029384 ┆ good    ┆ j     ┆ si2     ┆ … ┆ -0.901831 ┆ -1.240155 ┆ -1.212227 ┆ -1.117663 │\n",
       "└───────────┴─────────┴───────┴─────────┴───┴───────────┴───────────┴───────────┴───────────┘"
      ]
     },
     "execution_count": 6,
     "metadata": {},
     "output_type": "execute_result"
    }
   ],
   "source": [
    "df.head()"
   ]
  },
  {
   "cell_type": "code",
   "execution_count": 7,
   "metadata": {},
   "outputs": [],
   "source": [
    "special_tokens = np.array(\n",
    "    [\n",
    "        \"missing\",\n",
    "        \"[MASK]\",\n",
    "        \"[NUMERIC]\",\n",
    "        \"<unk>\",\n",
    "        \":\",\n",
    "        \",\",\n",
    "        \"<row-start>\",\n",
    "        \"<row-end>\",\n",
    "    ]\n",
    ")"
   ]
  },
  {
   "cell_type": "code",
   "execution_count": 8,
   "metadata": {},
   "outputs": [
    {
     "data": {
      "text/plain": [
       "array([',', ':', '<numeric>', '<row-end>', '<row-start>', '<unk>',\n",
       "       '[MASK]', '[NUMERIC]', 'carat', 'clarity', 'color', 'cut', 'd',\n",
       "       'depth', 'e', 'f', 'fair', 'g', 'good', 'h', 'i', 'i1', 'ideal',\n",
       "       'if', 'j', 'missing', 'premium', 'price', 'si1', 'si2', 'table',\n",
       "       'very good', 'vs1', 'vs2', 'vvs1', 'vvs2', 'x', 'y', 'z'],\n",
       "      dtype=object)"
      ]
     },
     "execution_count": 8,
     "metadata": {},
     "output_type": "execute_result"
    }
   ],
   "source": [
    "tokens = np.unique(\n",
    "    np.concatenate(\n",
    "        (\n",
    "            val_tokens,\n",
    "            col_tokens,\n",
    "            special_tokens,\n",
    "            np.array(\n",
    "                [\n",
    "                    \"<numeric>\",\n",
    "                ]\n",
    "            ),\n",
    "        )\n",
    "    )\n",
    ")\n",
    "tokens"
   ]
  },
  {
   "cell_type": "markdown",
   "metadata": {},
   "source": [
    "# Train Test Split\n",
    "\n",
    "To show the actual model performance out of sample we split the data into a training and test set. The training set will be used to train the model and the test set will be used to evaluate the model performance. We will use 80% of the data for training and 20% for testing.\n",
    "\n",
    "We also remove the price column from the training and test sets and will only use a tiny subset of the data to simulate an industrial process with lots of input data but expensive and limited labeled data.\n"
   ]
  },
  {
   "cell_type": "code",
   "execution_count": 9,
   "metadata": {},
   "outputs": [
    {
     "data": {
      "text/html": [
       "<div><style>\n",
       ".dataframe > thead > tr > th,\n",
       ".dataframe > tbody > tr > td {\n",
       "  text-align: right;\n",
       "}\n",
       "</style>\n",
       "<small>shape: (1, 1)</small><table border=\"1\" class=\"dataframe\"><thead><tr><th>hash</th></tr><tr><td>u32</td></tr></thead><tbody><tr><td>685</td></tr></tbody></table></div>"
      ],
      "text/plain": [
       "shape: (1, 1)\n",
       "┌──────┐\n",
       "│ hash │\n",
       "│ ---  │\n",
       "│ u32  │\n",
       "╞══════╡\n",
       "│ 685  │\n",
       "└──────┘"
      ]
     },
     "execution_count": 9,
     "metadata": {},
     "output_type": "execute_result"
    }
   ],
   "source": [
    "df = (\n",
    "    df.with_columns(\n",
    "        pl.concat_str(pl.all().exclude(\"price\").cast(pl.Utf8)).alias(\"all_cols\")\n",
    "    )\n",
    "    .with_columns(\n",
    "        pl.col(\"all_cols\")\n",
    "        .apply(lambda x: hashlib.md5(x.encode()).hexdigest())\n",
    "        .alias(\"hash\")\n",
    "    )\n",
    "    .drop(\"all_cols\")\n",
    ")\n",
    "df.select(pl.col(\"hash\").is_duplicated().sum())"
   ]
  },
  {
   "cell_type": "code",
   "execution_count": 10,
   "metadata": {},
   "outputs": [
    {
     "data": {
      "text/html": [
       "<div><style>\n",
       ".dataframe > thead > tr > th,\n",
       ".dataframe > tbody > tr > td {\n",
       "  text-align: right;\n",
       "}\n",
       "</style>\n",
       "<small>shape: (5, 11)</small><table border=\"1\" class=\"dataframe\"><thead><tr><th>carat</th><th>cut</th><th>color</th><th>clarity</th><th>depth</th><th>table</th><th>price</th><th>x</th><th>y</th><th>z</th><th>hash</th></tr><tr><td>f64</td><td>str</td><td>str</td><td>str</td><td>f64</td><td>f64</td><td>f64</td><td>f64</td><td>f64</td><td>f64</td><td>str</td></tr></thead><tbody><tr><td>-1.198157</td><td>&quot;ideal&quot;</td><td>&quot;e&quot;</td><td>&quot;si2&quot;</td><td>-0.17409</td><td>-1.099662</td><td>-0.904087</td><td>-1.587823</td><td>-1.536181</td><td>-1.571115</td><td>&quot;501249736f26c3…</td></tr><tr><td>-1.24035</td><td>&quot;premium&quot;</td><td>&quot;e&quot;</td><td>&quot;si1&quot;</td><td>-1.360726</td><td>1.585514</td><td>-0.904087</td><td>-1.64131</td><td>-1.658759</td><td>-1.741159</td><td>&quot;5427305ea67a9e…</td></tr><tr><td>-1.198157</td><td>&quot;good&quot;</td><td>&quot;e&quot;</td><td>&quot;vs1&quot;</td><td>-3.384987</td><td>3.375631</td><td>-0.903836</td><td>-1.498677</td><td>-1.457382</td><td>-1.741159</td><td>&quot;155663ac256a0e…</td></tr><tr><td>-1.071577</td><td>&quot;premium&quot;</td><td>&quot;i&quot;</td><td>&quot;vs2&quot;</td><td>0.454129</td><td>0.242926</td><td>-0.902081</td><td>-1.364959</td><td>-1.317293</td><td>-1.287708</td><td>&quot;45ee1317264026…</td></tr><tr><td>-1.029384</td><td>&quot;good&quot;</td><td>&quot;j&quot;</td><td>&quot;si2&quot;</td><td>1.082348</td><td>0.242926</td><td>-0.901831</td><td>-1.240155</td><td>-1.212227</td><td>-1.117663</td><td>&quot;bce254e518e158…</td></tr></tbody></table></div>"
      ],
      "text/plain": [
       "shape: (5, 11)\n",
       "┌───────────┬─────────┬───────┬─────────┬───┬───────────┬───────────┬───────────┬──────────────────┐\n",
       "│ carat     ┆ cut     ┆ color ┆ clarity ┆ … ┆ x         ┆ y         ┆ z         ┆ hash             │\n",
       "│ ---       ┆ ---     ┆ ---   ┆ ---     ┆   ┆ ---       ┆ ---       ┆ ---       ┆ ---              │\n",
       "│ f64       ┆ str     ┆ str   ┆ str     ┆   ┆ f64       ┆ f64       ┆ f64       ┆ str              │\n",
       "╞═══════════╪═════════╪═══════╪═════════╪═══╪═══════════╪═══════════╪═══════════╪══════════════════╡\n",
       "│ -1.198157 ┆ ideal   ┆ e     ┆ si2     ┆ … ┆ -1.587823 ┆ -1.536181 ┆ -1.571115 ┆ 501249736f26c363 │\n",
       "│           ┆         ┆       ┆         ┆   ┆           ┆           ┆           ┆ d28b6e9f726ebfd7 │\n",
       "│ -1.24035  ┆ premium ┆ e     ┆ si1     ┆ … ┆ -1.64131  ┆ -1.658759 ┆ -1.741159 ┆ 5427305ea67a9e18 │\n",
       "│           ┆         ┆       ┆         ┆   ┆           ┆           ┆           ┆ 1ee6178b66eb4849 │\n",
       "│ -1.198157 ┆ good    ┆ e     ┆ vs1     ┆ … ┆ -1.498677 ┆ -1.457382 ┆ -1.741159 ┆ 155663ac256a0e96 │\n",
       "│           ┆         ┆       ┆         ┆   ┆           ┆           ┆           ┆ a7ba9e73a109b1f3 │\n",
       "│ -1.071577 ┆ premium ┆ i     ┆ vs2     ┆ … ┆ -1.364959 ┆ -1.317293 ┆ -1.287708 ┆ 45ee1317264026ce │\n",
       "│           ┆         ┆       ┆         ┆   ┆           ┆           ┆           ┆ 46c044703fc56817 │\n",
       "│ -1.029384 ┆ good    ┆ j     ┆ si2     ┆ … ┆ -1.240155 ┆ -1.212227 ┆ -1.117663 ┆ bce254e518e158ed │\n",
       "│           ┆         ┆       ┆         ┆   ┆           ┆           ┆           ┆ a6a46c0ce7407e77 │\n",
       "└───────────┴─────────┴───────┴─────────┴───┴───────────┴───────────┴───────────┴──────────────────┘"
      ]
     },
     "execution_count": 10,
     "metadata": {},
     "output_type": "execute_result"
    }
   ],
   "source": [
    "# Shuffle for randomness\n",
    "df = df.sample(fraction=1.0, seed=42)\n",
    "df.head()"
   ]
  },
  {
   "cell_type": "code",
   "execution_count": 11,
   "metadata": {},
   "outputs": [],
   "source": [
    "train_fraction = 0.8\n",
    "n_train = int(train_fraction * len(df))\n",
    "train_test_df = df.select(pl.all().exclude([\"price\", \"hash\"]))\n",
    "\n",
    "train, test = train_test_df.head(n_train), train_test_df.tail(\n",
    "    len(train_test_df) - n_train\n",
    ")"
   ]
  },
  {
   "cell_type": "code",
   "execution_count": 12,
   "metadata": {},
   "outputs": [
    {
     "data": {
      "text/plain": [
       "(shape: (5, 9)\n",
       " ┌───────────┬─────────┬───────┬─────────┬───┬───────────┬───────────┬───────────┬───────────┐\n",
       " │ carat     ┆ cut     ┆ color ┆ clarity ┆ … ┆ table     ┆ x         ┆ y         ┆ z         │\n",
       " │ ---       ┆ ---     ┆ ---   ┆ ---     ┆   ┆ ---       ┆ ---       ┆ ---       ┆ ---       │\n",
       " │ f64       ┆ str     ┆ str   ┆ str     ┆   ┆ f64       ┆ f64       ┆ f64       ┆ f64       │\n",
       " ╞═══════════╪═════════╪═══════╪═════════╪═══╪═══════════╪═══════════╪═══════════╪═══════════╡\n",
       " │ -1.198157 ┆ ideal   ┆ e     ┆ si2     ┆ … ┆ -1.099662 ┆ -1.587823 ┆ -1.536181 ┆ -1.571115 │\n",
       " │ -1.24035  ┆ premium ┆ e     ┆ si1     ┆ … ┆ 1.585514  ┆ -1.64131  ┆ -1.658759 ┆ -1.741159 │\n",
       " │ -1.198157 ┆ good    ┆ e     ┆ vs1     ┆ … ┆ 3.375631  ┆ -1.498677 ┆ -1.457382 ┆ -1.741159 │\n",
       " │ -1.071577 ┆ premium ┆ i     ┆ vs2     ┆ … ┆ 0.242926  ┆ -1.364959 ┆ -1.317293 ┆ -1.287708 │\n",
       " │ -1.029384 ┆ good    ┆ j     ┆ si2     ┆ … ┆ 0.242926  ┆ -1.240155 ┆ -1.212227 ┆ -1.117663 │\n",
       " └───────────┴─────────┴───────┴─────────┴───┴───────────┴───────────┴───────────┴───────────┘,\n",
       " (43152, 9))"
      ]
     },
     "execution_count": 12,
     "metadata": {},
     "output_type": "execute_result"
    }
   ],
   "source": [
    "train.head(), train.shape"
   ]
  },
  {
   "cell_type": "code",
   "execution_count": 13,
   "metadata": {},
   "outputs": [
    {
     "data": {
      "text/html": [
       "<div><style>\n",
       ".dataframe > thead > tr > th,\n",
       ".dataframe > tbody > tr > td {\n",
       "  text-align: right;\n",
       "}\n",
       "</style>\n",
       "<small>shape: (5, 9)</small><table border=\"1\" class=\"dataframe\"><thead><tr><th>carat</th><th>cut</th><th>color</th><th>clarity</th><th>depth</th><th>table</th><th>x</th><th>y</th><th>z</th></tr><tr><td>f64</td><td>str</td><td>str</td><td>str</td><td>f64</td><td>f64</td><td>f64</td><td>f64</td><td>f64</td></tr></thead><tbody><tr><td>-1.198157</td><td>&quot;ideal&quot;</td><td>&quot;e&quot;</td><td>&quot;si2&quot;</td><td>-0.17409</td><td>-1.099662</td><td>-1.587823</td><td>-1.536181</td><td>-1.571115</td></tr><tr><td>-1.24035</td><td>&quot;premium&quot;</td><td>&quot;e&quot;</td><td>&quot;si1&quot;</td><td>-1.360726</td><td>1.585514</td><td>-1.64131</td><td>-1.658759</td><td>-1.741159</td></tr><tr><td>-1.198157</td><td>&quot;good&quot;</td><td>&quot;e&quot;</td><td>&quot;vs1&quot;</td><td>-3.384987</td><td>3.375631</td><td>-1.498677</td><td>-1.457382</td><td>-1.741159</td></tr><tr><td>-1.071577</td><td>&quot;premium&quot;</td><td>&quot;i&quot;</td><td>&quot;vs2&quot;</td><td>0.454129</td><td>0.242926</td><td>-1.364959</td><td>-1.317293</td><td>-1.287708</td></tr><tr><td>-1.029384</td><td>&quot;good&quot;</td><td>&quot;j&quot;</td><td>&quot;si2&quot;</td><td>1.082348</td><td>0.242926</td><td>-1.240155</td><td>-1.212227</td><td>-1.117663</td></tr></tbody></table></div>"
      ],
      "text/plain": [
       "shape: (5, 9)\n",
       "┌───────────┬─────────┬───────┬─────────┬───┬───────────┬───────────┬───────────┬───────────┐\n",
       "│ carat     ┆ cut     ┆ color ┆ clarity ┆ … ┆ table     ┆ x         ┆ y         ┆ z         │\n",
       "│ ---       ┆ ---     ┆ ---   ┆ ---     ┆   ┆ ---       ┆ ---       ┆ ---       ┆ ---       │\n",
       "│ f64       ┆ str     ┆ str   ┆ str     ┆   ┆ f64       ┆ f64       ┆ f64       ┆ f64       │\n",
       "╞═══════════╪═════════╪═══════╪═════════╪═══╪═══════════╪═══════════╪═══════════╪═══════════╡\n",
       "│ -1.198157 ┆ ideal   ┆ e     ┆ si2     ┆ … ┆ -1.099662 ┆ -1.587823 ┆ -1.536181 ┆ -1.571115 │\n",
       "│ -1.24035  ┆ premium ┆ e     ┆ si1     ┆ … ┆ 1.585514  ┆ -1.64131  ┆ -1.658759 ┆ -1.741159 │\n",
       "│ -1.198157 ┆ good    ┆ e     ┆ vs1     ┆ … ┆ 3.375631  ┆ -1.498677 ┆ -1.457382 ┆ -1.741159 │\n",
       "│ -1.071577 ┆ premium ┆ i     ┆ vs2     ┆ … ┆ 0.242926  ┆ -1.364959 ┆ -1.317293 ┆ -1.287708 │\n",
       "│ -1.029384 ┆ good    ┆ j     ┆ si2     ┆ … ┆ 0.242926  ┆ -1.240155 ┆ -1.212227 ┆ -1.117663 │\n",
       "└───────────┴─────────┴───────┴─────────┴───┴───────────┴───────────┴───────────┴───────────┘"
      ]
     },
     "execution_count": 13,
     "metadata": {},
     "output_type": "execute_result"
    }
   ],
   "source": [
    "train_test_df.head()"
   ]
  },
  {
   "cell_type": "code",
   "execution_count": 14,
   "metadata": {},
   "outputs": [
    {
     "name": "stdout",
     "output_type": "stream",
     "text": [
      "38\n"
     ]
    }
   ],
   "source": [
    "ds = hp.TabularDataset(\n",
    "    train,\n",
    "    tokens,\n",
    "    special_tokens=special_tokens,\n",
    "    shuffle_cols=True,\n",
    "    max_row_length=50,\n",
    ")\n",
    "\n",
    "print(len(ds[0]))"
   ]
  },
  {
   "cell_type": "code",
   "execution_count": 15,
   "metadata": {},
   "outputs": [
    {
     "name": "stdout",
     "output_type": "stream",
     "text": [
      "<row-start>table:1.5855140097261475,color:e,x:-1.6413100716719282,depth:-1.3607258727059102,carat:-1.2403497908694328,z:-1.7411588294109859,cut:premium,clarity:si1,y:-1.6587588116247007,<row-end>\n"
     ]
    }
   ],
   "source": [
    "row = [str(i.value) for i in ds[1]]\n",
    "print(\"\".join(row))"
   ]
  },
  {
   "cell_type": "code",
   "execution_count": 16,
   "metadata": {},
   "outputs": [
    {
     "name": "stdout",
     "output_type": "stream",
     "text": [
      "['<row-start>', 'y', ':', -1.5361813230221135, ',', 'x', ':', -1.5878227303011756, ',', 'depth', ':', -0.17408989455083768, ',', 'clarity', ':', 'si2', ',', 'table', ':', -1.0996617971586031, ',', 'cut', ':', 'ideal', ',', 'z', ':', -1.5711146235593887, ',', 'carat', ':', -1.1981566989627475, ',', 'color', ':', 'e', ',', '<row-end>']\n"
     ]
    }
   ],
   "source": [
    "print([i.value for i in ds[0]])"
   ]
  },
  {
   "cell_type": "code",
   "execution_count": 17,
   "metadata": {},
   "outputs": [
    {
     "name": "stdout",
     "output_type": "stream",
     "text": [
      "mps\n"
     ]
    }
   ],
   "source": [
    "if torch.backends.mps.is_built():\n",
    "    device_name = \"mps\"\n",
    "elif torch.cuda.is_available():\n",
    "    device_name = \"cuda\"\n",
    "else:\n",
    "    device_name = \"cpu\"\n",
    "device = torch.device(device_name)\n",
    "print(device)"
   ]
  },
  {
   "cell_type": "code",
   "execution_count": null,
   "metadata": {},
   "outputs": [],
   "source": []
  },
  {
   "cell_type": "code",
   "execution_count": 18,
   "metadata": {},
   "outputs": [],
   "source": [
    "# n_token = len(ds.vocab)  # size of vocabulary\n",
    "# d_model = 96  # embedding dimension\n",
    "# d_hid = 1_000  # dimension of the feedforward network model in ``nn.TransformerEncoder``\n",
    "# n_layers = 6  # number of ``nn.TransformerEncoderLayer`` in ``nn.TransformerEncoder``\n",
    "# n_head = 6  # number of heads in ``nn.MultiheadAttention``\n",
    "# dropout = 0.2  # dropout probability\n",
    "# model = hp.TransformerModel(\n",
    "#     n_token, d_model, n_head, d_hid, n_layers, device, dropout\n",
    "# ).to(device)\n",
    "model = hp.TransformerModel(device=device).to(device)\n",
    "data, targets, is_numeric_mask = hp.batch_data(ds, 1, model, n_row=1)"
   ]
  },
  {
   "cell_type": "raw",
   "metadata": {},
   "source": [
    "lr = 0.1  # learning rate\n",
    "optimizer = torch.optim.SGD(model.parameters(), lr=lr)\n",
    "# scheduler = torch.optim.lr_scheduler.StepLR(optimizer, step_size =100, gamma=0.5)\n",
    "scheduler = torch.optim.lr_scheduler.ReduceLROnPlateau(\n",
    "    optimizer,\n",
    "    mode=\"min\",\n",
    "    factor=0.8,\n",
    "    patience=5,\n",
    "    threshold=0.001,\n",
    "    threshold_mode=\"rel\",\n",
    "    cooldown=0,\n",
    "    min_lr=0.0001,\n",
    "    eps=1e-08,\n",
    "    verbose=False,\n",
    ")\n",
    "\n",
    "epochs = 1\n",
    "model_name = \"diamonds_scaled_lowerMin\"\n",
    "model.train()  # turn on train mode\n",
    "total_loss = 0.0\n",
    "log_interval = 1000\n",
    "lr_eval_interval = 25\n",
    "n_row = 1  # one because it's not time series\n",
    "start_time = time.time()\n",
    "for epoch in trange(1, epochs + 1, leave=True, desc=\"Epoch\"):\n",
    "    pbar = trange(0, len(ds) - 1, n_row, desc=f\"Batch for {epoch}/{epochs}\")\n",
    "    writer = SummaryWriter(\"runs/\" + model_name + \"_run_\" + str(epoch))\n",
    "    for batch, i in enumerate(pbar):\n",
    "        data, target, is_numeric_mask = hp.batch_data(\n",
    "            ds, i, model, n_row=n_row\n",
    "        )  # hp.batch_data(ds, 1, model, n_row=1)\n",
    "        class_preds, numeric_preds = model(data)\n",
    "        loss, loss_dict = hp.hephaestus_loss(\n",
    "            class_preds, numeric_preds, target, is_numeric_mask, model\n",
    "        )\n",
    "        num_loss = loss_dict[\"reg_loss\"].item()\n",
    "        class_loss = loss_dict[\"class_loss\"].item()\n",
    "        writer.add_scalar(\"Loss/total_loss\", loss, batch)\n",
    "        writer.add_scalar(\"Loss/numeric_loss\", num_loss, batch)\n",
    "        writer.add_scalar(\"Loss/class_loss\", class_loss, batch)\n",
    "        writer.add_scalar(\n",
    "            \"Metrics/learning_rate\", optimizer.param_groups[0][\"lr\"], batch\n",
    "        )\n",
    "        optimizer.zero_grad()\n",
    "        loss.backward()\n",
    "        torch.nn.utils.clip_grad_norm_(model.parameters(), 0.1)\n",
    "        optimizer.step()\n",
    "        pbar.set_postfix(\n",
    "            {\n",
    "                \"tl\": f\"{loss:.2f}\",\n",
    "                \"cl\": f\"{class_loss:.2f}\",\n",
    "                \"nl\": f\"{num_loss:.2f}\",\n",
    "                \"tr\": f\"{optimizer.param_groups[0]['lr']:.2f}\",\n",
    "            },\n",
    "            refresh=True,\n",
    "        )\n",
    "        total_loss += loss.item()\n",
    "        if batch % lr_eval_interval == 0:\n",
    "            # pbar.set_p(\n",
    "            #     f\"tl: {}, nl: {num_loss:.2f}, cl: {class_loss:.2f}, tr: {optimizer.param_groups[0]['lr']:.2f}\"\n",
    "            # )\n",
    "\n",
    "            scheduler.step(loss)\n",
    "\n",
    "            start_time = time.time()\n",
    "            # scheduler.step(loss)\n",
    "    writer.close()"
   ]
  },
  {
   "cell_type": "code",
   "execution_count": 19,
   "metadata": {},
   "outputs": [],
   "source": [
    "import copy\n",
    "import time\n",
    "\n",
    "\n",
    "lr = 0.9  # learning rate\n",
    "optimizer = torch.optim.SGD(model.parameters(), lr=lr)\n",
    "# scheduler = torch.optim.lr_scheduler.StepLR(optimizer, step_size =100, gamma=0.5)\n",
    "scheduler = torch.optim.lr_scheduler.ReduceLROnPlateau(\n",
    "    optimizer,\n",
    "    mode=\"min\",\n",
    "    factor=0.8,\n",
    "    patience=5,\n",
    "    threshold=0.001,\n",
    "    threshold_mode=\"rel\",\n",
    "    cooldown=0,\n",
    "    min_lr=0.1,\n",
    "    eps=1e-08,\n",
    "    verbose=False,\n",
    ")\n",
    "\n",
    "\n",
    "def train(model: nn.Module, epochs=1, model_name=\"\") -> None:\n",
    "    model.train()  # turn on train mode\n",
    "    total_loss = 0.0\n",
    "    log_interval = 1000\n",
    "    lr_eval_interval = 25\n",
    "    n_row = 1  # one because it's not time series\n",
    "    start_time = time.time()\n",
    "    for epoch in trange(1, epochs + 1, leave=True, desc=\"Epoch\"):\n",
    "        pbar = trange(0, len(ds) - 1, n_row, desc=f\"Batch for {epoch}/{epochs}\")\n",
    "        writer = SummaryWriter(\"runs/\" + model_name + \"_run_\" + str(epoch))\n",
    "        for batch, i in enumerate(pbar):\n",
    "            data, target, is_numeric_mask = hp.batch_data(\n",
    "                ds, i, model, n_row=n_row\n",
    "            )  # hp.batch_data(ds, 1, model, n_row=1)\n",
    "            class_preds, numeric_preds = model(data)\n",
    "            loss, loss_dict = hp.hephaestus_loss(\n",
    "                class_preds, numeric_preds, target, is_numeric_mask, model\n",
    "            )\n",
    "            num_loss = loss_dict[\"reg_loss\"].item()\n",
    "            class_loss = loss_dict[\"class_loss\"].item()\n",
    "            writer.add_scalar(\"Loss/total_loss\", loss, batch)\n",
    "            writer.add_scalar(\"Loss/numeric_loss\", num_loss, batch)\n",
    "            writer.add_scalar(\"Loss/class_loss\", class_loss, batch)\n",
    "            writer.add_scalar(\n",
    "                \"Metrics/learning_rate\", optimizer.param_groups[0][\"lr\"], batch\n",
    "            )\n",
    "            optimizer.zero_grad()\n",
    "            loss.backward()\n",
    "            torch.nn.utils.clip_grad_norm_(model.parameters(), 0.1)\n",
    "            optimizer.step()\n",
    "            pbar.set_postfix(\n",
    "                {\n",
    "                    \"tl\": f\"{loss:.2f}\",\n",
    "                    \"cl\": f\"{class_loss:.2f}\",\n",
    "                    \"nl\": f\"{num_loss:.2f}\",\n",
    "                    \"tr\": f\"{optimizer.param_groups[0]['lr']:.2f}\",\n",
    "                },\n",
    "                refresh=True,\n",
    "            )\n",
    "            total_loss += loss.item()\n",
    "            if batch % lr_eval_interval == 0:\n",
    "                # pbar.set_p(\n",
    "                #     f\"tl: {}, nl: {num_loss:.2f}, cl: {class_loss:.2f}, tr: {optimizer.param_groups[0]['lr']:.2f}\"\n",
    "                # )\n",
    "\n",
    "                scheduler.step(loss)\n",
    "\n",
    "                start_time = time.time()\n",
    "                # scheduler.step(loss)\n",
    "        writer.close()"
   ]
  },
  {
   "cell_type": "code",
   "execution_count": 20,
   "metadata": {},
   "outputs": [
    {
     "data": {
      "application/vnd.jupyter.widget-view+json": {
       "model_id": "a9042fa898db4592b6fac42cbacbe086",
       "version_major": 2,
       "version_minor": 0
      },
      "text/plain": [
       "Epoch:   0%|          | 0/3 [00:00<?, ?it/s]"
      ]
     },
     "metadata": {},
     "output_type": "display_data"
    },
    {
     "data": {
      "application/vnd.jupyter.widget-view+json": {
       "model_id": "277aea384070468aaab5a89e1a64c281",
       "version_major": 2,
       "version_minor": 0
      },
      "text/plain": [
       "Batch for 1/3:   0%|          | 0/43151 [00:00<?, ?it/s]"
      ]
     },
     "metadata": {},
     "output_type": "display_data"
    },
    {
     "data": {
      "application/vnd.jupyter.widget-view+json": {
       "model_id": "a93419de4a494c0185f4a2a8bdff5d05",
       "version_major": 2,
       "version_minor": 0
      },
      "text/plain": [
       "Batch for 2/3:   0%|          | 0/43151 [00:00<?, ?it/s]"
      ]
     },
     "metadata": {},
     "output_type": "display_data"
    },
    {
     "data": {
      "application/vnd.jupyter.widget-view+json": {
       "model_id": "96a22d149f5942ac8c6618a35b7b3871",
       "version_major": 2,
       "version_minor": 0
      },
      "text/plain": [
       "Batch for 3/3:   0%|          | 0/43151 [00:00<?, ?it/s]"
      ]
     },
     "metadata": {},
     "output_type": "display_data"
    },
    {
     "ename": "KeyboardInterrupt",
     "evalue": "",
     "output_type": "error",
     "traceback": [
      "\u001b[0;31m---------------------------------------------------------------------------\u001b[0m",
      "\u001b[0;31mKeyboardInterrupt\u001b[0m                         Traceback (most recent call last)",
      "Cell \u001b[0;32mIn[20], line 10\u001b[0m\n\u001b[1;32m      8\u001b[0m model_name \u001b[39m=\u001b[39m model_time \u001b[39m+\u001b[39m \u001b[39m\"\u001b[39m\u001b[39m_\u001b[39m\u001b[39m\"\u001b[39m \u001b[39m+\u001b[39m exp_name\n\u001b[1;32m      9\u001b[0m epochs \u001b[39m=\u001b[39m \u001b[39m3\u001b[39m\n\u001b[0;32m---> 10\u001b[0m train(model\u001b[39m=\u001b[39;49mmodel, epochs\u001b[39m=\u001b[39;49mepochs, model_name\u001b[39m=\u001b[39;49mmodel_name)\n\u001b[1;32m     11\u001b[0m torch\u001b[39m.\u001b[39msave(model\u001b[39m.\u001b[39mstate_dict(), \u001b[39m\"\u001b[39m\u001b[39m../models/\u001b[39m\u001b[39m\"\u001b[39m \u001b[39m+\u001b[39m model_name \u001b[39m+\u001b[39m \u001b[39m\"\u001b[39m\u001b[39m.pt\u001b[39m\u001b[39m\"\u001b[39m)\n",
      "Cell \u001b[0;32mIn[19], line 51\u001b[0m, in \u001b[0;36mtrain\u001b[0;34m(model, epochs, model_name)\u001b[0m\n\u001b[1;32m     49\u001b[0m loss\u001b[39m.\u001b[39mbackward()\n\u001b[1;32m     50\u001b[0m torch\u001b[39m.\u001b[39mnn\u001b[39m.\u001b[39mutils\u001b[39m.\u001b[39mclip_grad_norm_(model\u001b[39m.\u001b[39mparameters(), \u001b[39m0.1\u001b[39m)\n\u001b[0;32m---> 51\u001b[0m optimizer\u001b[39m.\u001b[39;49mstep()\n\u001b[1;32m     52\u001b[0m pbar\u001b[39m.\u001b[39mset_postfix(\n\u001b[1;32m     53\u001b[0m     {\n\u001b[1;32m     54\u001b[0m         \u001b[39m\"\u001b[39m\u001b[39mtl\u001b[39m\u001b[39m\"\u001b[39m: \u001b[39mf\u001b[39m\u001b[39m\"\u001b[39m\u001b[39m{\u001b[39;00mloss\u001b[39m:\u001b[39;00m\u001b[39m.2f\u001b[39m\u001b[39m}\u001b[39;00m\u001b[39m\"\u001b[39m,\n\u001b[0;32m   (...)\u001b[0m\n\u001b[1;32m     59\u001b[0m     refresh\u001b[39m=\u001b[39m\u001b[39mTrue\u001b[39;00m,\n\u001b[1;32m     60\u001b[0m )\n\u001b[1;32m     61\u001b[0m total_loss \u001b[39m+\u001b[39m\u001b[39m=\u001b[39m loss\u001b[39m.\u001b[39mitem()\n",
      "File \u001b[0;32m/opt/homebrew/Caskroom/miniconda/base/envs/pytorch/lib/python3.11/site-packages/torch/optim/optimizer.py:310\u001b[0m, in \u001b[0;36mOptimizer.profile_hook_step.<locals>.wrapper\u001b[0;34m(*args, **kwargs)\u001b[0m\n\u001b[1;32m    306\u001b[0m         \u001b[39melse\u001b[39;00m:\n\u001b[1;32m    307\u001b[0m             \u001b[39mraise\u001b[39;00m \u001b[39mRuntimeError\u001b[39;00m(\u001b[39mf\u001b[39m\u001b[39m\"\u001b[39m\u001b[39m{\u001b[39;00mfunc\u001b[39m}\u001b[39;00m\u001b[39m must return None or a tuple of (new_args, new_kwargs),\u001b[39m\u001b[39m\"\u001b[39m\n\u001b[1;32m    308\u001b[0m                                \u001b[39mf\u001b[39m\u001b[39m\"\u001b[39m\u001b[39mbut got \u001b[39m\u001b[39m{\u001b[39;00mresult\u001b[39m}\u001b[39;00m\u001b[39m.\u001b[39m\u001b[39m\"\u001b[39m)\n\u001b[0;32m--> 310\u001b[0m out \u001b[39m=\u001b[39m func(\u001b[39m*\u001b[39;49margs, \u001b[39m*\u001b[39;49m\u001b[39m*\u001b[39;49mkwargs)\n\u001b[1;32m    311\u001b[0m \u001b[39mself\u001b[39m\u001b[39m.\u001b[39m_optimizer_step_code()\n\u001b[1;32m    313\u001b[0m \u001b[39m# call optimizer step post hooks\u001b[39;00m\n",
      "File \u001b[0;32m/opt/homebrew/Caskroom/miniconda/base/envs/pytorch/lib/python3.11/site-packages/torch/optim/optimizer.py:51\u001b[0m, in \u001b[0;36m_use_grad_for_differentiable.<locals>._use_grad\u001b[0;34m(self, *args, **kwargs)\u001b[0m\n\u001b[1;32m     49\u001b[0m     torch\u001b[39m.\u001b[39mset_grad_enabled(\u001b[39mself\u001b[39m\u001b[39m.\u001b[39mdefaults[\u001b[39m'\u001b[39m\u001b[39mdifferentiable\u001b[39m\u001b[39m'\u001b[39m])\n\u001b[1;32m     50\u001b[0m     torch\u001b[39m.\u001b[39m_dynamo\u001b[39m.\u001b[39mgraph_break()\n\u001b[0;32m---> 51\u001b[0m     ret \u001b[39m=\u001b[39m func(\u001b[39mself\u001b[39;49m, \u001b[39m*\u001b[39;49margs, \u001b[39m*\u001b[39;49m\u001b[39m*\u001b[39;49mkwargs)\n\u001b[1;32m     52\u001b[0m \u001b[39mfinally\u001b[39;00m:\n\u001b[1;32m     53\u001b[0m     torch\u001b[39m.\u001b[39m_dynamo\u001b[39m.\u001b[39mgraph_break()\n",
      "File \u001b[0;32m/opt/homebrew/Caskroom/miniconda/base/envs/pytorch/lib/python3.11/site-packages/torch/optim/sgd.py:75\u001b[0m, in \u001b[0;36mSGD.step\u001b[0;34m(self, closure)\u001b[0m\n\u001b[1;32m     71\u001b[0m momentum_buffer_list \u001b[39m=\u001b[39m []\n\u001b[1;32m     73\u001b[0m has_sparse_grad \u001b[39m=\u001b[39m \u001b[39mself\u001b[39m\u001b[39m.\u001b[39m_init_group(group, params_with_grad, d_p_list, momentum_buffer_list)\n\u001b[0;32m---> 75\u001b[0m sgd(params_with_grad,\n\u001b[1;32m     76\u001b[0m     d_p_list,\n\u001b[1;32m     77\u001b[0m     momentum_buffer_list,\n\u001b[1;32m     78\u001b[0m     weight_decay\u001b[39m=\u001b[39;49mgroup[\u001b[39m'\u001b[39;49m\u001b[39mweight_decay\u001b[39;49m\u001b[39m'\u001b[39;49m],\n\u001b[1;32m     79\u001b[0m     momentum\u001b[39m=\u001b[39;49mgroup[\u001b[39m'\u001b[39;49m\u001b[39mmomentum\u001b[39;49m\u001b[39m'\u001b[39;49m],\n\u001b[1;32m     80\u001b[0m     lr\u001b[39m=\u001b[39;49mgroup[\u001b[39m'\u001b[39;49m\u001b[39mlr\u001b[39;49m\u001b[39m'\u001b[39;49m],\n\u001b[1;32m     81\u001b[0m     dampening\u001b[39m=\u001b[39;49mgroup[\u001b[39m'\u001b[39;49m\u001b[39mdampening\u001b[39;49m\u001b[39m'\u001b[39;49m],\n\u001b[1;32m     82\u001b[0m     nesterov\u001b[39m=\u001b[39;49mgroup[\u001b[39m'\u001b[39;49m\u001b[39mnesterov\u001b[39;49m\u001b[39m'\u001b[39;49m],\n\u001b[1;32m     83\u001b[0m     maximize\u001b[39m=\u001b[39;49mgroup[\u001b[39m'\u001b[39;49m\u001b[39mmaximize\u001b[39;49m\u001b[39m'\u001b[39;49m],\n\u001b[1;32m     84\u001b[0m     has_sparse_grad\u001b[39m=\u001b[39;49mhas_sparse_grad,\n\u001b[1;32m     85\u001b[0m     foreach\u001b[39m=\u001b[39;49mgroup[\u001b[39m'\u001b[39;49m\u001b[39mforeach\u001b[39;49m\u001b[39m'\u001b[39;49m])\n\u001b[1;32m     87\u001b[0m \u001b[39m# update momentum_buffers in state\u001b[39;00m\n\u001b[1;32m     88\u001b[0m \u001b[39mfor\u001b[39;00m p, momentum_buffer \u001b[39min\u001b[39;00m \u001b[39mzip\u001b[39m(params_with_grad, momentum_buffer_list):\n",
      "File \u001b[0;32m/opt/homebrew/Caskroom/miniconda/base/envs/pytorch/lib/python3.11/site-packages/torch/optim/sgd.py:221\u001b[0m, in \u001b[0;36msgd\u001b[0;34m(params, d_p_list, momentum_buffer_list, has_sparse_grad, foreach, weight_decay, momentum, lr, dampening, nesterov, maximize)\u001b[0m\n\u001b[1;32m    218\u001b[0m \u001b[39melse\u001b[39;00m:\n\u001b[1;32m    219\u001b[0m     func \u001b[39m=\u001b[39m _single_tensor_sgd\n\u001b[0;32m--> 221\u001b[0m func(params,\n\u001b[1;32m    222\u001b[0m      d_p_list,\n\u001b[1;32m    223\u001b[0m      momentum_buffer_list,\n\u001b[1;32m    224\u001b[0m      weight_decay\u001b[39m=\u001b[39;49mweight_decay,\n\u001b[1;32m    225\u001b[0m      momentum\u001b[39m=\u001b[39;49mmomentum,\n\u001b[1;32m    226\u001b[0m      lr\u001b[39m=\u001b[39;49mlr,\n\u001b[1;32m    227\u001b[0m      dampening\u001b[39m=\u001b[39;49mdampening,\n\u001b[1;32m    228\u001b[0m      nesterov\u001b[39m=\u001b[39;49mnesterov,\n\u001b[1;32m    229\u001b[0m      has_sparse_grad\u001b[39m=\u001b[39;49mhas_sparse_grad,\n\u001b[1;32m    230\u001b[0m      maximize\u001b[39m=\u001b[39;49mmaximize)\n",
      "File \u001b[0;32m/opt/homebrew/Caskroom/miniconda/base/envs/pytorch/lib/python3.11/site-packages/torch/optim/sgd.py:264\u001b[0m, in \u001b[0;36m_single_tensor_sgd\u001b[0;34m(params, d_p_list, momentum_buffer_list, weight_decay, momentum, lr, dampening, nesterov, maximize, has_sparse_grad)\u001b[0m\n\u001b[1;32m    261\u001b[0m     \u001b[39melse\u001b[39;00m:\n\u001b[1;32m    262\u001b[0m         d_p \u001b[39m=\u001b[39m buf\n\u001b[0;32m--> 264\u001b[0m param\u001b[39m.\u001b[39;49madd_(d_p, alpha\u001b[39m=\u001b[39;49m\u001b[39m-\u001b[39;49mlr)\n",
      "\u001b[0;31mKeyboardInterrupt\u001b[0m: "
     ]
    }
   ],
   "source": [
    "from datetime import datetime as dt\n",
    "\n",
    "model_time = dt.now()\n",
    "model_time = model_time.strftime(\"%Y-%m-%dT%H:%M:%S\")\n",
    "\n",
    "exp_name = \"non-scale\"\n",
    "\n",
    "model_name = model_time + \"_\" + exp_name\n",
    "epochs = 3\n",
    "train(model=model, epochs=epochs, model_name=model_name)"
   ]
  },
  {
   "cell_type": "code",
   "execution_count": 22,
   "metadata": {},
   "outputs": [],
   "source": [
    "torch.save(model.state_dict(), \"./models/\" + model_name + \".pt\")"
   ]
  },
  {
   "cell_type": "code",
   "execution_count": 23,
   "metadata": {},
   "outputs": [],
   "source": [
    "ds_test = hp.TabularDataset(\n",
    "    test,\n",
    "    tokens,\n",
    "    special_tokens=special_tokens,\n",
    "    shuffle_cols=False,\n",
    "    max_row_length=50,\n",
    ")"
   ]
  },
  {
   "cell_type": "code",
   "execution_count": 30,
   "metadata": {},
   "outputs": [
    {
     "name": "stdout",
     "output_type": "stream",
     "text": [
      "torch.Size([41, 30527]) torch.Size([41])\n",
      "0 {'masked': '<row-start> carat: -0.5863568663158119, [MASK] [MASK] [MASK], color [MASK] [MASK], clarity: si1, depth: 0.3843270363456641 [MASK] table: -0.6521324960111446, x: [NUMERIC], y: -0.503028204800307, z: -0.4799976360116415, <row-end>', 'actuals': '<row-start> carat: -0.5863568663158119, cut: ideal, color: e, clarity: si1, depth: 0.3843270363456641, table: -0.6521324960111446, x: -0.544819573571501, y: -0.503028204800307, z: -0.4799976360116415, <row-end>', 'predictions': '<row-start> carat: -0.21803152561187744, cut: g, color: g, clarity: si1, depth: -0.23330502212047577, table: -0.22630742192268372, x: -0.10813213884830475, y: -0.2312951683998108, z: -0.2345653772354126, <row-end>'}\n",
      "torch.Size([41, 30527]) torch.Size([41])\n",
      "1 {'masked': '[MASK] carat: [NUMERIC], cut: ideal [MASK] color: e, [MASK]: si1, depth: 0.24472280362154117, [MASK]: -0.20460319486368622, [MASK]: -0.5626486873617523, y: -0.520539274600677 [MASK] z: -0.5083383369869077, <row-end>', 'actuals': '<row-start> carat: -0.5863568663158119, cut: ideal, color: e, clarity: si1, depth: 0.24472280362154117, table: -0.20460319486368622, x: -0.5626486873617523, y: -0.520539274600677, z: -0.5083383369869077, <row-end>', 'predictions': '<row-start> carat: -0.13770461082458496, cut: ideal, color: e, clarity: si1, depth: -0.25045403838157654, table: -0.24875971674919128, table: -0.23043790459632874, y: -0.23817631602287292, z: -0.24328306317329407, <row-end>'}\n",
      "torch.Size([41, 30527]) torch.Size([41])\n",
      "2 {'masked': '<row-start> carat: -0.5863568663158119, cut: ideal, [MASK]: e, [MASK]: [MASK] [MASK], depth: [NUMERIC], [MASK] [MASK] 0.6904554074312306 [MASK] x [MASK] -0.49133223220074884, y: [NUMERIC], z [MASK] -0.5791900894250734, <row-end>', 'actuals': '<row-start> carat: -0.5863568663158119, cut: ideal, color: e, clarity: si1, depth: -1.1513195236197182, table: 0.6904554074312306, x: -0.49133223220074884, y: -0.44173946049901314, z: -0.5791900894250734, <row-end>', 'predictions': '<row-start> carat: -0.24742266535758972, cut: ideal, color: e, clarity: si2, depth: -0.13092321157455444, table: -0.27965477108955383, x: -0.2502196133136749, y: -0.10265116393566132, z: -0.2592371106147766, <row-end>'}\n",
      "torch.Size([41, 30527]) torch.Size([41])\n",
      "3 {'masked': '<row-start> carat: [NUMERIC], [MASK]: [MASK], color: e [MASK] clarity [MASK] vs2, [MASK]: 2.1991820617593074, table [MASK] 0.6904554074312306 [MASK] x: -0.7498543821593862, y: -0.6956499726043723, [MASK]: -0.4941679864992749, <row-end>', 'actuals': '<row-start> carat: -0.6285499582224972, cut: good, color: e, clarity: vs2, depth: 2.1991820617593074, table: 0.6904554074312306, x: -0.7498543821593862, y: -0.6956499726043723, z: -0.4941679864992749, <row-end>', 'predictions': '<row-start> carat: 0.25133585929870605, cut: ideal, color: e, clarity: vs2, z: 0.1426335573196411, table: 0.0400865338742733, x: 0.07918654382228851, y: 0.06569831073284149, z: 0.053299982100725174, <row-end>'}\n",
      "torch.Size([41, 30527]) torch.Size([41])\n",
      "4 {'masked': '<row-start> carat: -0.5441637744091266, cut [MASK] [MASK], color [MASK] g, clarity: si1, depth: -1.0117152908955953 [MASK] [MASK]: [NUMERIC], x: [NUMERIC], y [MASK] -0.43298392559882853, z: -0.4658272855240087, <row-end>', 'actuals': '<row-start> carat: -0.5441637744091266, cut: premium, color: g, clarity: si1, depth: -1.0117152908955953, table: -0.20460319486368622, x: -0.29521198050798897, y: -0.43298392559882853, z: -0.4658272855240087, <row-end>', 'predictions': '<row-start> carat: -0.49110147356987, cut: ideal, color: g, clarity: si1, depth: -0.4923519790172577, table: -0.4018409252166748, x: -0.384634405374527, y: -0.4964199960231781, z: -0.49943068623542786, <row-end>'}\n",
      "torch.Size([42, 30527]) torch.Size([42])\n",
      "5 {'masked': '<row-start> carat: [NUMERIC], cut: [MASK] good, color: [MASK], [MASK] [MASK] si1 [MASK] depth: 1.0125460836042348, table [MASK] -0.6521324960111446, x: -0.48241767530562285, y: -0.503028204800307 [MASK] z [MASK] -0.38080518259821017, <row-end>', 'actuals': '<row-start> carat: -0.5441637744091266, cut: very good, color: g, clarity: si1, depth: 1.0125460836042348, table: -0.6521324960111446, x: -0.48241767530562285, y: -0.503028204800307, z: -0.38080518259821017, <row-end>', 'predictions': '<row-start> carat: -0.05577095225453377, cut: very good, color: g, clarity: si1, depth: -0.1798388659954071, table: -0.18633723258972168, x: -0.18261221051216125, y: -0.1988251954317093, z: -0.19573098421096802, <row-end>'}\n",
      "torch.Size([41, 30527]) torch.Size([41])\n",
      "6 {'masked': '<row-start> carat: -0.5441637744091266 [MASK] cut: ideal [MASK] [MASK] [MASK] [MASK], clarity [MASK] [MASK] [MASK] [MASK] depth: 0.593733385431856, table: -0.20460319486368622, x: -0.46458856151537237, [MASK]: [NUMERIC], z: -0.40914588357347637, <row-end>', 'actuals': '<row-start> carat: -0.5441637744091266, cut: ideal, color: g, clarity: si1, depth: 0.593733385431856, table: -0.20460319486368622, x: -0.46458856151537237, y: -0.48551713499993776, z: -0.40914588357347637, <row-end>', 'predictions': '<row-start> carat: -0.148401141166687, cut: ideal, color: ideal, clarity: si2, depth: -0.15830685198307037, table: -0.17119279503822327, x: -0.1530645787715912, y: -0.05756695941090584, z: -0.17073608934879303, <row-end>'}\n",
      "torch.Size([42, 30527]) torch.Size([42])\n",
      "7 {'masked': '[MASK] [MASK] [MASK]: -0.5441637744091266, cut: very good, color [MASK] f, clarity: si1, depth [MASK] 1.0823481999662938, [MASK]: -0.6521324960111446, x [MASK] [NUMERIC], y: -0.4592505302993831, z [MASK] [NUMERIC], [MASK]', 'actuals': '<row-start> carat: -0.5441637744091266, cut: very good, color: f, clarity: si1, depth: 1.0823481999662938, table: -0.6521324960111446, x: -0.4378448908299959, y: -0.4592505302993831, z: -0.3241237806476778, <row-end>', 'predictions': '<row-start> carat: -0.1455068588256836, cut: very good, color: f, clarity: si1, depth: -0.15141798555850983, table: -0.153426855802536, x: -0.0031794188544154167, y: -0.1625300943851471, z: -0.03384343162178993, <row-end>'}\n",
      "torch.Size([42, 30527]) torch.Size([42])\n",
      "8 {'masked': '<row-start> carat: -0.797322325849238 [MASK] cut [MASK] ideal [MASK] color: [MASK], clarity: vvs1, depth [MASK] 0.17492068725947718 [MASK] [MASK]: -1.0996617971586031, x: -0.7944271666350131, [MASK]: [NUMERIC], z: -0.7775749962519362 [MASK] <row-end>', 'actuals': '<row-start> carat: -0.797322325849238, cut: ideal, color: f, clarity: vvs1, depth: 0.17492068725947718, table: -1.0996617971586031, x: -0.7944271666350131, y: -0.8094719263067754, z: -0.7775749962519362, <row-end>', 'predictions': '<row-start> carat: -0.7667875289916992, cut: ideal, color: f, clarity: vvs1, depth: -0.756264328956604, y: -0.781349778175354, x: -0.7651042342185974, table: -0.8679333329200745, z: -0.7805729508399963, <row-end>'}\n",
      "torch.Size([42, 30527]) torch.Size([42])\n",
      "9 {'masked': '<row-start> carat: -0.797322325849238 [MASK] cut: ideal, color: f, [MASK] [MASK] vvs1, [MASK]: [NUMERIC], table: -0.6521324960111446 [MASK] [MASK]: -0.8033417235301383, y: -0.80071639140659, [MASK]: -0.8200860477148357 [MASK] <row-end>', 'actuals': '<row-start> carat: -0.797322325849238, cut: ideal, color: f, clarity: vvs1, depth: -0.3136941272749656, table: -0.6521324960111446, x: -0.8033417235301383, y: -0.80071639140659, z: -0.8200860477148357, <row-end>', 'predictions': '<row-start> carat: -0.8007694482803345, cut: ideal, color: f, clarity: vvs1, depth: -0.9613234996795654, table: -0.8050903677940369, x: -0.8025389313697815, y: -0.8121913075447083, depth: -0.8123485445976257, <row-end>'}\n"
     ]
    }
   ],
   "source": [
    "for i in range(10):\n",
    "    print(i, hp.evaluate_bert(model, ds_test, i))\n",
    "    # res = hp.evaluate_bert(model, ds_test, i)\n",
    "    # if \"[numeric]\" in res[\"masked\"]:\n",
    "    #     print(res)"
   ]
  },
  {
   "cell_type": "code",
   "execution_count": 52,
   "metadata": {},
   "outputs": [
    {
     "name": "stdout",
     "output_type": "stream",
     "text": [
      "torch.Size([41, 30527]) torch.Size([41])\n",
      "{\n",
      "    \"masked\": \"<row-start> carat: -0.5441637744091266, cut: good, [MASK]: f, [MASK]: vs2, depth: -0.8023089418094034 [MASK] [MASK]: [NUMERIC] [MASK] x: [NUMERIC], y [MASK] [NUMERIC], z: -0.4941679864992749, <row-end>\",\n",
      "    \"actuals\": \"<row-start> carat: -0.5441637744091266, cut: good, color: f, clarity: vs2, depth: -0.8023089418094034, table: 1.5855140097261475, x: -0.45567400462024715, y: -0.3804507161977201, z: -0.4941679864992749, <row-end>\",\n",
      "    \"predictions\": \"<row-start> carat: -0.49163588881492615, cut: good, color: f, clarity: vs2, depth: -0.4921840727329254, table: -0.3831070363521576, x: -0.37221863865852356, y: -0.39384540915489197, z: -0.49944838881492615, <row-end>\"\n",
      "}\n"
     ]
    }
   ],
   "source": [
    "import json\n",
    "\n",
    "# print json results with 4 indents\n",
    "res = hp.evaluate_bert(model, ds_test, 1000)\n",
    "print(json.dumps(res, indent=4))"
   ]
  },
  {
   "cell_type": "code",
   "execution_count": null,
   "metadata": {},
   "outputs": [],
   "source": []
  }
 ],
 "metadata": {
  "kernelspec": {
   "display_name": "pytorch",
   "language": "python",
   "name": "python3"
  },
  "language_info": {
   "codemirror_mode": {
    "name": "ipython",
    "version": 3
   },
   "file_extension": ".py",
   "mimetype": "text/x-python",
   "name": "python",
   "nbconvert_exporter": "python",
   "pygments_lexer": "ipython3",
   "version": "3.11.3"
  },
  "orig_nbformat": 4
 },
 "nbformat": 4,
 "nbformat_minor": 2
}
