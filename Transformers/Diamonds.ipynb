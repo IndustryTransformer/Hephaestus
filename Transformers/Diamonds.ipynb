{
 "cells": [
  {
   "cell_type": "markdown",
   "metadata": {},
   "source": [
    "# Diamond Transformer\n",
    "\n",
    "This notebook investigates the use of a transformer to predict the price of diamonds. The dataset is from Kaggle and can be found [here](https://www.kaggle.com/shivam2503/diamonds).\n",
    "\n",
    "While many traditional ML and DL techniques work on the dataset, our approach uses far less labeled data while achieving similar results. This is done by using a transformer.\n",
    "\n",
    "--------------------------------------------------------------------------------\n",
    "\n",
    "## Libraries\n"
   ]
  },
  {
   "cell_type": "code",
   "execution_count": 1,
   "metadata": {},
   "outputs": [],
   "source": [
    "import hashlib\n",
    "import math\n",
    "\n",
    "import polars as pl\n",
    "\n",
    "\n",
    "import polars as pl\n",
    "import numpy as np\n",
    "\n",
    "\n",
    "from torch import nn, Tensor\n",
    "from tqdm import trange, tqdm\n",
    "\n",
    "import hephaestus as hp\n",
    "import torch\n",
    "from torch.utils.tensorboard import SummaryWriter\n"
   ]
  },
  {
   "cell_type": "markdown",
   "metadata": {},
   "source": [
    "The diamonds dataset: df = pl.read_csv(\"../data/diamonds.csv\") df.head()\n"
   ]
  },
  {
   "cell_type": "code",
   "execution_count": 2,
   "metadata": {},
   "outputs": [
    {
     "data": {
      "text/html": [
       "<div><style>\n",
       ".dataframe > thead > tr > th,\n",
       ".dataframe > tbody > tr > td {\n",
       "  text-align: right;\n",
       "}\n",
       "</style>\n",
       "<small>shape: (5, 10)</small><table border=\"1\" class=\"dataframe\"><thead><tr><th>carat</th><th>cut</th><th>color</th><th>clarity</th><th>depth</th><th>table</th><th>price</th><th>x</th><th>y</th><th>z</th></tr><tr><td>f64</td><td>str</td><td>str</td><td>str</td><td>f64</td><td>f64</td><td>i64</td><td>f64</td><td>f64</td><td>f64</td></tr></thead><tbody><tr><td>0.23</td><td>&quot;Ideal&quot;</td><td>&quot;E&quot;</td><td>&quot;SI2&quot;</td><td>61.5</td><td>55.0</td><td>326</td><td>3.95</td><td>3.98</td><td>2.43</td></tr><tr><td>0.21</td><td>&quot;Premium&quot;</td><td>&quot;E&quot;</td><td>&quot;SI1&quot;</td><td>59.8</td><td>61.0</td><td>326</td><td>3.89</td><td>3.84</td><td>2.31</td></tr><tr><td>0.23</td><td>&quot;Good&quot;</td><td>&quot;E&quot;</td><td>&quot;VS1&quot;</td><td>56.9</td><td>65.0</td><td>327</td><td>4.05</td><td>4.07</td><td>2.31</td></tr><tr><td>0.29</td><td>&quot;Premium&quot;</td><td>&quot;I&quot;</td><td>&quot;VS2&quot;</td><td>62.4</td><td>58.0</td><td>334</td><td>4.2</td><td>4.23</td><td>2.63</td></tr><tr><td>0.31</td><td>&quot;Good&quot;</td><td>&quot;J&quot;</td><td>&quot;SI2&quot;</td><td>63.3</td><td>58.0</td><td>335</td><td>4.34</td><td>4.35</td><td>2.75</td></tr></tbody></table></div>"
      ],
      "text/plain": [
       "shape: (5, 10)\n",
       "┌───────┬─────────┬───────┬─────────┬───┬───────┬──────┬──────┬──────┐\n",
       "│ carat ┆ cut     ┆ color ┆ clarity ┆ … ┆ price ┆ x    ┆ y    ┆ z    │\n",
       "│ ---   ┆ ---     ┆ ---   ┆ ---     ┆   ┆ ---   ┆ ---  ┆ ---  ┆ ---  │\n",
       "│ f64   ┆ str     ┆ str   ┆ str     ┆   ┆ i64   ┆ f64  ┆ f64  ┆ f64  │\n",
       "╞═══════╪═════════╪═══════╪═════════╪═══╪═══════╪══════╪══════╪══════╡\n",
       "│ 0.23  ┆ Ideal   ┆ E     ┆ SI2     ┆ … ┆ 326   ┆ 3.95 ┆ 3.98 ┆ 2.43 │\n",
       "│ 0.21  ┆ Premium ┆ E     ┆ SI1     ┆ … ┆ 326   ┆ 3.89 ┆ 3.84 ┆ 2.31 │\n",
       "│ 0.23  ┆ Good    ┆ E     ┆ VS1     ┆ … ┆ 327   ┆ 4.05 ┆ 4.07 ┆ 2.31 │\n",
       "│ 0.29  ┆ Premium ┆ I     ┆ VS2     ┆ … ┆ 334   ┆ 4.2  ┆ 4.23 ┆ 2.63 │\n",
       "│ 0.31  ┆ Good    ┆ J     ┆ SI2     ┆ … ┆ 335   ┆ 4.34 ┆ 4.35 ┆ 2.75 │\n",
       "└───────┴─────────┴───────┴─────────┴───┴───────┴──────┴──────┴──────┘"
      ]
     },
     "execution_count": 2,
     "metadata": {},
     "output_type": "execute_result"
    }
   ],
   "source": [
    "df = pl.read_csv(\"../data/diamonds.csv\")\n",
    "df.head()"
   ]
  },
  {
   "cell_type": "code",
   "execution_count": 3,
   "metadata": {},
   "outputs": [
    {
     "data": {
      "text/html": [
       "<div><style>\n",
       ".dataframe > thead > tr > th,\n",
       ".dataframe > tbody > tr > td {\n",
       "  text-align: right;\n",
       "}\n",
       "</style>\n",
       "<small>shape: (9, 11)</small><table border=\"1\" class=\"dataframe\"><thead><tr><th>describe</th><th>carat</th><th>cut</th><th>color</th><th>clarity</th><th>depth</th><th>table</th><th>price</th><th>x</th><th>y</th><th>z</th></tr><tr><td>str</td><td>f64</td><td>str</td><td>str</td><td>str</td><td>f64</td><td>f64</td><td>f64</td><td>f64</td><td>f64</td><td>f64</td></tr></thead><tbody><tr><td>&quot;count&quot;</td><td>53940.0</td><td>&quot;53940&quot;</td><td>&quot;53940&quot;</td><td>&quot;53940&quot;</td><td>53940.0</td><td>53940.0</td><td>53940.0</td><td>53940.0</td><td>53940.0</td><td>53940.0</td></tr><tr><td>&quot;null_count&quot;</td><td>0.0</td><td>&quot;0&quot;</td><td>&quot;0&quot;</td><td>&quot;0&quot;</td><td>0.0</td><td>0.0</td><td>0.0</td><td>0.0</td><td>0.0</td><td>0.0</td></tr><tr><td>&quot;mean&quot;</td><td>0.79794</td><td>null</td><td>null</td><td>null</td><td>61.749405</td><td>57.457184</td><td>3932.799722</td><td>5.731157</td><td>5.734526</td><td>3.538734</td></tr><tr><td>&quot;std&quot;</td><td>0.474011</td><td>null</td><td>null</td><td>null</td><td>1.432621</td><td>2.234491</td><td>3989.439738</td><td>1.121761</td><td>1.142135</td><td>0.705699</td></tr><tr><td>&quot;min&quot;</td><td>0.2</td><td>&quot;Fair&quot;</td><td>&quot;D&quot;</td><td>&quot;I1&quot;</td><td>43.0</td><td>43.0</td><td>326.0</td><td>0.0</td><td>0.0</td><td>0.0</td></tr><tr><td>&quot;max&quot;</td><td>5.01</td><td>&quot;Very Good&quot;</td><td>&quot;J&quot;</td><td>&quot;VVS2&quot;</td><td>79.0</td><td>95.0</td><td>18823.0</td><td>10.74</td><td>58.9</td><td>31.8</td></tr><tr><td>&quot;median&quot;</td><td>0.7</td><td>null</td><td>null</td><td>null</td><td>61.8</td><td>57.0</td><td>2401.0</td><td>5.7</td><td>5.71</td><td>3.53</td></tr><tr><td>&quot;25%&quot;</td><td>0.4</td><td>null</td><td>null</td><td>null</td><td>61.0</td><td>56.0</td><td>950.0</td><td>4.71</td><td>4.72</td><td>2.91</td></tr><tr><td>&quot;75%&quot;</td><td>1.04</td><td>null</td><td>null</td><td>null</td><td>62.5</td><td>59.0</td><td>5325.0</td><td>6.54</td><td>6.54</td><td>4.04</td></tr></tbody></table></div>"
      ],
      "text/plain": [
       "shape: (9, 11)\n",
       "┌────────────┬──────────┬───────────┬───────┬───┬─────────────┬──────────┬──────────┬──────────┐\n",
       "│ describe   ┆ carat    ┆ cut       ┆ color ┆ … ┆ price       ┆ x        ┆ y        ┆ z        │\n",
       "│ ---        ┆ ---      ┆ ---       ┆ ---   ┆   ┆ ---         ┆ ---      ┆ ---      ┆ ---      │\n",
       "│ str        ┆ f64      ┆ str       ┆ str   ┆   ┆ f64         ┆ f64      ┆ f64      ┆ f64      │\n",
       "╞════════════╪══════════╪═══════════╪═══════╪═══╪═════════════╪══════════╪══════════╪══════════╡\n",
       "│ count      ┆ 53940.0  ┆ 53940     ┆ 53940 ┆ … ┆ 53940.0     ┆ 53940.0  ┆ 53940.0  ┆ 53940.0  │\n",
       "│ null_count ┆ 0.0      ┆ 0         ┆ 0     ┆ … ┆ 0.0         ┆ 0.0      ┆ 0.0      ┆ 0.0      │\n",
       "│ mean       ┆ 0.79794  ┆ null      ┆ null  ┆ … ┆ 3932.799722 ┆ 5.731157 ┆ 5.734526 ┆ 3.538734 │\n",
       "│ std        ┆ 0.474011 ┆ null      ┆ null  ┆ … ┆ 3989.439738 ┆ 1.121761 ┆ 1.142135 ┆ 0.705699 │\n",
       "│ min        ┆ 0.2      ┆ Fair      ┆ D     ┆ … ┆ 326.0       ┆ 0.0      ┆ 0.0      ┆ 0.0      │\n",
       "│ max        ┆ 5.01     ┆ Very Good ┆ J     ┆ … ┆ 18823.0     ┆ 10.74    ┆ 58.9     ┆ 31.8     │\n",
       "│ median     ┆ 0.7      ┆ null      ┆ null  ┆ … ┆ 2401.0      ┆ 5.7      ┆ 5.71     ┆ 3.53     │\n",
       "│ 25%        ┆ 0.4      ┆ null      ┆ null  ┆ … ┆ 950.0       ┆ 4.71     ┆ 4.72     ┆ 2.91     │\n",
       "│ 75%        ┆ 1.04     ┆ null      ┆ null  ┆ … ┆ 5325.0      ┆ 6.54     ┆ 6.54     ┆ 4.04     │\n",
       "└────────────┴──────────┴───────────┴───────┴───┴─────────────┴──────────┴──────────┴──────────┘"
      ]
     },
     "execution_count": 3,
     "metadata": {},
     "output_type": "execute_result"
    }
   ],
   "source": [
    "df.describe()"
   ]
  },
  {
   "cell_type": "code",
   "execution_count": 4,
   "metadata": {},
   "outputs": [
    {
     "data": {
      "text/html": [
       "<div><style>\n",
       ".dataframe > thead > tr > th,\n",
       ".dataframe > tbody > tr > td {\n",
       "  text-align: right;\n",
       "}\n",
       "</style>\n",
       "<small>shape: (5, 10)</small><table border=\"1\" class=\"dataframe\"><thead><tr><th>carat</th><th>cut</th><th>color</th><th>clarity</th><th>depth</th><th>table</th><th>price</th><th>x</th><th>y</th><th>z</th></tr><tr><td>f64</td><td>str</td><td>str</td><td>str</td><td>f64</td><td>f64</td><td>f64</td><td>f64</td><td>f64</td><td>f64</td></tr></thead><tbody><tr><td>-1.198157</td><td>&quot;Ideal&quot;</td><td>&quot;E&quot;</td><td>&quot;SI2&quot;</td><td>-0.17409</td><td>-1.099662</td><td>-0.904087</td><td>-1.587823</td><td>-1.536181</td><td>-1.571115</td></tr><tr><td>-1.24035</td><td>&quot;Premium&quot;</td><td>&quot;E&quot;</td><td>&quot;SI1&quot;</td><td>-1.360726</td><td>1.585514</td><td>-0.904087</td><td>-1.64131</td><td>-1.658759</td><td>-1.741159</td></tr><tr><td>-1.198157</td><td>&quot;Good&quot;</td><td>&quot;E&quot;</td><td>&quot;VS1&quot;</td><td>-3.384987</td><td>3.375631</td><td>-0.903836</td><td>-1.498677</td><td>-1.457382</td><td>-1.741159</td></tr><tr><td>-1.071577</td><td>&quot;Premium&quot;</td><td>&quot;I&quot;</td><td>&quot;VS2&quot;</td><td>0.454129</td><td>0.242926</td><td>-0.902081</td><td>-1.364959</td><td>-1.317293</td><td>-1.287708</td></tr><tr><td>-1.029384</td><td>&quot;Good&quot;</td><td>&quot;J&quot;</td><td>&quot;SI2&quot;</td><td>1.082348</td><td>0.242926</td><td>-0.901831</td><td>-1.240155</td><td>-1.212227</td><td>-1.117663</td></tr></tbody></table></div>"
      ],
      "text/plain": [
       "shape: (5, 10)\n",
       "┌───────────┬─────────┬───────┬─────────┬───┬───────────┬───────────┬───────────┬───────────┐\n",
       "│ carat     ┆ cut     ┆ color ┆ clarity ┆ … ┆ price     ┆ x         ┆ y         ┆ z         │\n",
       "│ ---       ┆ ---     ┆ ---   ┆ ---     ┆   ┆ ---       ┆ ---       ┆ ---       ┆ ---       │\n",
       "│ f64       ┆ str     ┆ str   ┆ str     ┆   ┆ f64       ┆ f64       ┆ f64       ┆ f64       │\n",
       "╞═══════════╪═════════╪═══════╪═════════╪═══╪═══════════╪═══════════╪═══════════╪═══════════╡\n",
       "│ -1.198157 ┆ Ideal   ┆ E     ┆ SI2     ┆ … ┆ -0.904087 ┆ -1.587823 ┆ -1.536181 ┆ -1.571115 │\n",
       "│ -1.24035  ┆ Premium ┆ E     ┆ SI1     ┆ … ┆ -0.904087 ┆ -1.64131  ┆ -1.658759 ┆ -1.741159 │\n",
       "│ -1.198157 ┆ Good    ┆ E     ┆ VS1     ┆ … ┆ -0.903836 ┆ -1.498677 ┆ -1.457382 ┆ -1.741159 │\n",
       "│ -1.071577 ┆ Premium ┆ I     ┆ VS2     ┆ … ┆ -0.902081 ┆ -1.364959 ┆ -1.317293 ┆ -1.287708 │\n",
       "│ -1.029384 ┆ Good    ┆ J     ┆ SI2     ┆ … ┆ -0.901831 ┆ -1.240155 ┆ -1.212227 ┆ -1.117663 │\n",
       "└───────────┴─────────┴───────┴─────────┴───┴───────────┴───────────┴───────────┴───────────┘"
      ]
     },
     "execution_count": 4,
     "metadata": {},
     "output_type": "execute_result"
    }
   ],
   "source": [
    "df = hp.scale_numeric(df)\n",
    "df.head()"
   ]
  },
  {
   "cell_type": "code",
   "execution_count": 5,
   "metadata": {},
   "outputs": [],
   "source": [
    "df = hp.make_lower_remove_special_chars(df)\n",
    "val_tokens = hp.get_unique_utf8_values(df)\n",
    "col_tokens = hp.get_col_tokens(df)"
   ]
  },
  {
   "cell_type": "code",
   "execution_count": 6,
   "metadata": {},
   "outputs": [
    {
     "data": {
      "text/html": [
       "<div><style>\n",
       ".dataframe > thead > tr > th,\n",
       ".dataframe > tbody > tr > td {\n",
       "  text-align: right;\n",
       "}\n",
       "</style>\n",
       "<small>shape: (5, 10)</small><table border=\"1\" class=\"dataframe\"><thead><tr><th>carat</th><th>cut</th><th>color</th><th>clarity</th><th>depth</th><th>table</th><th>price</th><th>x</th><th>y</th><th>z</th></tr><tr><td>f64</td><td>str</td><td>str</td><td>str</td><td>f64</td><td>f64</td><td>f64</td><td>f64</td><td>f64</td><td>f64</td></tr></thead><tbody><tr><td>-1.198157</td><td>&quot;ideal&quot;</td><td>&quot;e&quot;</td><td>&quot;si2&quot;</td><td>-0.17409</td><td>-1.099662</td><td>-0.904087</td><td>-1.587823</td><td>-1.536181</td><td>-1.571115</td></tr><tr><td>-1.24035</td><td>&quot;premium&quot;</td><td>&quot;e&quot;</td><td>&quot;si1&quot;</td><td>-1.360726</td><td>1.585514</td><td>-0.904087</td><td>-1.64131</td><td>-1.658759</td><td>-1.741159</td></tr><tr><td>-1.198157</td><td>&quot;good&quot;</td><td>&quot;e&quot;</td><td>&quot;vs1&quot;</td><td>-3.384987</td><td>3.375631</td><td>-0.903836</td><td>-1.498677</td><td>-1.457382</td><td>-1.741159</td></tr><tr><td>-1.071577</td><td>&quot;premium&quot;</td><td>&quot;i&quot;</td><td>&quot;vs2&quot;</td><td>0.454129</td><td>0.242926</td><td>-0.902081</td><td>-1.364959</td><td>-1.317293</td><td>-1.287708</td></tr><tr><td>-1.029384</td><td>&quot;good&quot;</td><td>&quot;j&quot;</td><td>&quot;si2&quot;</td><td>1.082348</td><td>0.242926</td><td>-0.901831</td><td>-1.240155</td><td>-1.212227</td><td>-1.117663</td></tr></tbody></table></div>"
      ],
      "text/plain": [
       "shape: (5, 10)\n",
       "┌───────────┬─────────┬───────┬─────────┬───┬───────────┬───────────┬───────────┬───────────┐\n",
       "│ carat     ┆ cut     ┆ color ┆ clarity ┆ … ┆ price     ┆ x         ┆ y         ┆ z         │\n",
       "│ ---       ┆ ---     ┆ ---   ┆ ---     ┆   ┆ ---       ┆ ---       ┆ ---       ┆ ---       │\n",
       "│ f64       ┆ str     ┆ str   ┆ str     ┆   ┆ f64       ┆ f64       ┆ f64       ┆ f64       │\n",
       "╞═══════════╪═════════╪═══════╪═════════╪═══╪═══════════╪═══════════╪═══════════╪═══════════╡\n",
       "│ -1.198157 ┆ ideal   ┆ e     ┆ si2     ┆ … ┆ -0.904087 ┆ -1.587823 ┆ -1.536181 ┆ -1.571115 │\n",
       "│ -1.24035  ┆ premium ┆ e     ┆ si1     ┆ … ┆ -0.904087 ┆ -1.64131  ┆ -1.658759 ┆ -1.741159 │\n",
       "│ -1.198157 ┆ good    ┆ e     ┆ vs1     ┆ … ┆ -0.903836 ┆ -1.498677 ┆ -1.457382 ┆ -1.741159 │\n",
       "│ -1.071577 ┆ premium ┆ i     ┆ vs2     ┆ … ┆ -0.902081 ┆ -1.364959 ┆ -1.317293 ┆ -1.287708 │\n",
       "│ -1.029384 ┆ good    ┆ j     ┆ si2     ┆ … ┆ -0.901831 ┆ -1.240155 ┆ -1.212227 ┆ -1.117663 │\n",
       "└───────────┴─────────┴───────┴─────────┴───┴───────────┴───────────┴───────────┴───────────┘"
      ]
     },
     "execution_count": 6,
     "metadata": {},
     "output_type": "execute_result"
    }
   ],
   "source": [
    "df.head()"
   ]
  },
  {
   "cell_type": "code",
   "execution_count": 7,
   "metadata": {},
   "outputs": [],
   "source": [
    "special_tokens = np.array(\n",
    "    [\n",
    "        \"missing\",\n",
    "        \"<mask>\",\n",
    "        \"<numeric_mask>\"\n",
    "        \"<pad>\",\n",
    "        \"<unk>\",\n",
    "        \":\",\n",
    "        \",\",\n",
    "        \"<row-start>\",\n",
    "        \"<row-end>\",\n",
    "    ]\n",
    ")"
   ]
  },
  {
   "cell_type": "code",
   "execution_count": 8,
   "metadata": {},
   "outputs": [
    {
     "data": {
      "text/plain": [
       "array([',', ':', '<mask>', '<numeric>', '<numeric_mask><pad>',\n",
       "       '<row-end>', '<row-start>', '<unk>', 'carat', 'clarity', 'color',\n",
       "       'cut', 'd', 'depth', 'e', 'f', 'fair', 'g', 'good', 'h', 'i', 'i1',\n",
       "       'ideal', 'if', 'j', 'missing', 'premium', 'price', 'si1', 'si2',\n",
       "       'table', 'very good', 'vs1', 'vs2', 'vvs1', 'vvs2', 'x', 'y', 'z'],\n",
       "      dtype=object)"
      ]
     },
     "execution_count": 8,
     "metadata": {},
     "output_type": "execute_result"
    }
   ],
   "source": [
    "tokens = np.unique(\n",
    "    np.concatenate(\n",
    "        (\n",
    "            val_tokens,\n",
    "            col_tokens,\n",
    "            special_tokens,\n",
    "            np.array([\"<numeric>\",])\n",
    "        )\n",
    "    )\n",
    ")\n",
    "tokens"
   ]
  },
  {
   "cell_type": "markdown",
   "metadata": {},
   "source": [
    "# Train Test Split\n",
    "\n",
    "To show the actual model performance out of sample we split the data into a training and test set. The training set will be used to train the model and the test set will be used to evaluate the model performance. We will use 80% of the data for training and 20% for testing.\n",
    "\n",
    "We also remove the price column from the training and test sets and will only use a tiny subset of the data to simulate an industrial process with lots of input data but expensive and limited labeled data.\n"
   ]
  },
  {
   "cell_type": "code",
   "execution_count": 9,
   "metadata": {},
   "outputs": [
    {
     "data": {
      "text/html": [
       "<div><style>\n",
       ".dataframe > thead > tr > th,\n",
       ".dataframe > tbody > tr > td {\n",
       "  text-align: right;\n",
       "}\n",
       "</style>\n",
       "<small>shape: (1, 1)</small><table border=\"1\" class=\"dataframe\"><thead><tr><th>hash</th></tr><tr><td>u32</td></tr></thead><tbody><tr><td>685</td></tr></tbody></table></div>"
      ],
      "text/plain": [
       "shape: (1, 1)\n",
       "┌──────┐\n",
       "│ hash │\n",
       "│ ---  │\n",
       "│ u32  │\n",
       "╞══════╡\n",
       "│ 685  │\n",
       "└──────┘"
      ]
     },
     "execution_count": 9,
     "metadata": {},
     "output_type": "execute_result"
    }
   ],
   "source": [
    "df = (\n",
    "    df.with_columns(\n",
    "        pl.concat_str(pl.all().exclude(\"price\").cast(pl.Utf8)).alias(\"all_cols\")\n",
    "    )\n",
    "    .with_columns(\n",
    "        pl.col(\"all_cols\")\n",
    "        .apply(lambda x: hashlib.md5(x.encode()).hexdigest())\n",
    "        .alias(\"hash\")\n",
    "    )\n",
    "    .drop(\"all_cols\")\n",
    ")\n",
    "df.select(pl.col(\"hash\").is_duplicated().sum())"
   ]
  },
  {
   "cell_type": "code",
   "execution_count": 10,
   "metadata": {},
   "outputs": [
    {
     "data": {
      "text/html": [
       "<div><style>\n",
       ".dataframe > thead > tr > th,\n",
       ".dataframe > tbody > tr > td {\n",
       "  text-align: right;\n",
       "}\n",
       "</style>\n",
       "<small>shape: (5, 11)</small><table border=\"1\" class=\"dataframe\"><thead><tr><th>carat</th><th>cut</th><th>color</th><th>clarity</th><th>depth</th><th>table</th><th>price</th><th>x</th><th>y</th><th>z</th><th>hash</th></tr><tr><td>f64</td><td>str</td><td>str</td><td>str</td><td>f64</td><td>f64</td><td>f64</td><td>f64</td><td>f64</td><td>f64</td><td>str</td></tr></thead><tbody><tr><td>-1.198157</td><td>&quot;ideal&quot;</td><td>&quot;e&quot;</td><td>&quot;si2&quot;</td><td>-0.17409</td><td>-1.099662</td><td>-0.904087</td><td>-1.587823</td><td>-1.536181</td><td>-1.571115</td><td>&quot;501249736f26c3…</td></tr><tr><td>-1.24035</td><td>&quot;premium&quot;</td><td>&quot;e&quot;</td><td>&quot;si1&quot;</td><td>-1.360726</td><td>1.585514</td><td>-0.904087</td><td>-1.64131</td><td>-1.658759</td><td>-1.741159</td><td>&quot;5427305ea67a9e…</td></tr><tr><td>-1.198157</td><td>&quot;good&quot;</td><td>&quot;e&quot;</td><td>&quot;vs1&quot;</td><td>-3.384987</td><td>3.375631</td><td>-0.903836</td><td>-1.498677</td><td>-1.457382</td><td>-1.741159</td><td>&quot;155663ac256a0e…</td></tr><tr><td>-1.071577</td><td>&quot;premium&quot;</td><td>&quot;i&quot;</td><td>&quot;vs2&quot;</td><td>0.454129</td><td>0.242926</td><td>-0.902081</td><td>-1.364959</td><td>-1.317293</td><td>-1.287708</td><td>&quot;45ee1317264026…</td></tr><tr><td>-1.029384</td><td>&quot;good&quot;</td><td>&quot;j&quot;</td><td>&quot;si2&quot;</td><td>1.082348</td><td>0.242926</td><td>-0.901831</td><td>-1.240155</td><td>-1.212227</td><td>-1.117663</td><td>&quot;bce254e518e158…</td></tr></tbody></table></div>"
      ],
      "text/plain": [
       "shape: (5, 11)\n",
       "┌───────────┬─────────┬───────┬─────────┬───┬───────────┬───────────┬───────────┬──────────────────┐\n",
       "│ carat     ┆ cut     ┆ color ┆ clarity ┆ … ┆ x         ┆ y         ┆ z         ┆ hash             │\n",
       "│ ---       ┆ ---     ┆ ---   ┆ ---     ┆   ┆ ---       ┆ ---       ┆ ---       ┆ ---              │\n",
       "│ f64       ┆ str     ┆ str   ┆ str     ┆   ┆ f64       ┆ f64       ┆ f64       ┆ str              │\n",
       "╞═══════════╪═════════╪═══════╪═════════╪═══╪═══════════╪═══════════╪═══════════╪══════════════════╡\n",
       "│ -1.198157 ┆ ideal   ┆ e     ┆ si2     ┆ … ┆ -1.587823 ┆ -1.536181 ┆ -1.571115 ┆ 501249736f26c363 │\n",
       "│           ┆         ┆       ┆         ┆   ┆           ┆           ┆           ┆ d28b6e9f726ebfd7 │\n",
       "│ -1.24035  ┆ premium ┆ e     ┆ si1     ┆ … ┆ -1.64131  ┆ -1.658759 ┆ -1.741159 ┆ 5427305ea67a9e18 │\n",
       "│           ┆         ┆       ┆         ┆   ┆           ┆           ┆           ┆ 1ee6178b66eb4849 │\n",
       "│ -1.198157 ┆ good    ┆ e     ┆ vs1     ┆ … ┆ -1.498677 ┆ -1.457382 ┆ -1.741159 ┆ 155663ac256a0e96 │\n",
       "│           ┆         ┆       ┆         ┆   ┆           ┆           ┆           ┆ a7ba9e73a109b1f3 │\n",
       "│ -1.071577 ┆ premium ┆ i     ┆ vs2     ┆ … ┆ -1.364959 ┆ -1.317293 ┆ -1.287708 ┆ 45ee1317264026ce │\n",
       "│           ┆         ┆       ┆         ┆   ┆           ┆           ┆           ┆ 46c044703fc56817 │\n",
       "│ -1.029384 ┆ good    ┆ j     ┆ si2     ┆ … ┆ -1.240155 ┆ -1.212227 ┆ -1.117663 ┆ bce254e518e158ed │\n",
       "│           ┆         ┆       ┆         ┆   ┆           ┆           ┆           ┆ a6a46c0ce7407e77 │\n",
       "└───────────┴─────────┴───────┴─────────┴───┴───────────┴───────────┴───────────┴──────────────────┘"
      ]
     },
     "execution_count": 10,
     "metadata": {},
     "output_type": "execute_result"
    }
   ],
   "source": [
    "# Shuffle for randomness\n",
    "df = df.sample(fraction=1.0, seed=42)\n",
    "df.head()"
   ]
  },
  {
   "cell_type": "code",
   "execution_count": 11,
   "metadata": {},
   "outputs": [],
   "source": [
    "train_fraction = 0.8\n",
    "n_train = int(train_fraction * len(df))\n",
    "train_test_df = df.select(pl.all().exclude([\"price\", \"hash\"]))\n",
    "\n",
    "train, test = train_test_df.head(n_train), train_test_df.tail(\n",
    "    len(train_test_df) - n_train\n",
    ")"
   ]
  },
  {
   "cell_type": "code",
   "execution_count": 12,
   "metadata": {},
   "outputs": [
    {
     "data": {
      "text/plain": [
       "(shape: (5, 9)\n",
       " ┌───────────┬─────────┬───────┬─────────┬───┬───────────┬───────────┬───────────┬───────────┐\n",
       " │ carat     ┆ cut     ┆ color ┆ clarity ┆ … ┆ table     ┆ x         ┆ y         ┆ z         │\n",
       " │ ---       ┆ ---     ┆ ---   ┆ ---     ┆   ┆ ---       ┆ ---       ┆ ---       ┆ ---       │\n",
       " │ f64       ┆ str     ┆ str   ┆ str     ┆   ┆ f64       ┆ f64       ┆ f64       ┆ f64       │\n",
       " ╞═══════════╪═════════╪═══════╪═════════╪═══╪═══════════╪═══════════╪═══════════╪═══════════╡\n",
       " │ -1.198157 ┆ ideal   ┆ e     ┆ si2     ┆ … ┆ -1.099662 ┆ -1.587823 ┆ -1.536181 ┆ -1.571115 │\n",
       " │ -1.24035  ┆ premium ┆ e     ┆ si1     ┆ … ┆ 1.585514  ┆ -1.64131  ┆ -1.658759 ┆ -1.741159 │\n",
       " │ -1.198157 ┆ good    ┆ e     ┆ vs1     ┆ … ┆ 3.375631  ┆ -1.498677 ┆ -1.457382 ┆ -1.741159 │\n",
       " │ -1.071577 ┆ premium ┆ i     ┆ vs2     ┆ … ┆ 0.242926  ┆ -1.364959 ┆ -1.317293 ┆ -1.287708 │\n",
       " │ -1.029384 ┆ good    ┆ j     ┆ si2     ┆ … ┆ 0.242926  ┆ -1.240155 ┆ -1.212227 ┆ -1.117663 │\n",
       " └───────────┴─────────┴───────┴─────────┴───┴───────────┴───────────┴───────────┴───────────┘,\n",
       " (43152, 9))"
      ]
     },
     "execution_count": 12,
     "metadata": {},
     "output_type": "execute_result"
    }
   ],
   "source": [
    "train.head(), train.shape"
   ]
  },
  {
   "cell_type": "code",
   "execution_count": 13,
   "metadata": {},
   "outputs": [
    {
     "data": {
      "text/html": [
       "<div><style>\n",
       ".dataframe > thead > tr > th,\n",
       ".dataframe > tbody > tr > td {\n",
       "  text-align: right;\n",
       "}\n",
       "</style>\n",
       "<small>shape: (5, 9)</small><table border=\"1\" class=\"dataframe\"><thead><tr><th>carat</th><th>cut</th><th>color</th><th>clarity</th><th>depth</th><th>table</th><th>x</th><th>y</th><th>z</th></tr><tr><td>f64</td><td>str</td><td>str</td><td>str</td><td>f64</td><td>f64</td><td>f64</td><td>f64</td><td>f64</td></tr></thead><tbody><tr><td>-1.198157</td><td>&quot;ideal&quot;</td><td>&quot;e&quot;</td><td>&quot;si2&quot;</td><td>-0.17409</td><td>-1.099662</td><td>-1.587823</td><td>-1.536181</td><td>-1.571115</td></tr><tr><td>-1.24035</td><td>&quot;premium&quot;</td><td>&quot;e&quot;</td><td>&quot;si1&quot;</td><td>-1.360726</td><td>1.585514</td><td>-1.64131</td><td>-1.658759</td><td>-1.741159</td></tr><tr><td>-1.198157</td><td>&quot;good&quot;</td><td>&quot;e&quot;</td><td>&quot;vs1&quot;</td><td>-3.384987</td><td>3.375631</td><td>-1.498677</td><td>-1.457382</td><td>-1.741159</td></tr><tr><td>-1.071577</td><td>&quot;premium&quot;</td><td>&quot;i&quot;</td><td>&quot;vs2&quot;</td><td>0.454129</td><td>0.242926</td><td>-1.364959</td><td>-1.317293</td><td>-1.287708</td></tr><tr><td>-1.029384</td><td>&quot;good&quot;</td><td>&quot;j&quot;</td><td>&quot;si2&quot;</td><td>1.082348</td><td>0.242926</td><td>-1.240155</td><td>-1.212227</td><td>-1.117663</td></tr></tbody></table></div>"
      ],
      "text/plain": [
       "shape: (5, 9)\n",
       "┌───────────┬─────────┬───────┬─────────┬───┬───────────┬───────────┬───────────┬───────────┐\n",
       "│ carat     ┆ cut     ┆ color ┆ clarity ┆ … ┆ table     ┆ x         ┆ y         ┆ z         │\n",
       "│ ---       ┆ ---     ┆ ---   ┆ ---     ┆   ┆ ---       ┆ ---       ┆ ---       ┆ ---       │\n",
       "│ f64       ┆ str     ┆ str   ┆ str     ┆   ┆ f64       ┆ f64       ┆ f64       ┆ f64       │\n",
       "╞═══════════╪═════════╪═══════╪═════════╪═══╪═══════════╪═══════════╪═══════════╪═══════════╡\n",
       "│ -1.198157 ┆ ideal   ┆ e     ┆ si2     ┆ … ┆ -1.099662 ┆ -1.587823 ┆ -1.536181 ┆ -1.571115 │\n",
       "│ -1.24035  ┆ premium ┆ e     ┆ si1     ┆ … ┆ 1.585514  ┆ -1.64131  ┆ -1.658759 ┆ -1.741159 │\n",
       "│ -1.198157 ┆ good    ┆ e     ┆ vs1     ┆ … ┆ 3.375631  ┆ -1.498677 ┆ -1.457382 ┆ -1.741159 │\n",
       "│ -1.071577 ┆ premium ┆ i     ┆ vs2     ┆ … ┆ 0.242926  ┆ -1.364959 ┆ -1.317293 ┆ -1.287708 │\n",
       "│ -1.029384 ┆ good    ┆ j     ┆ si2     ┆ … ┆ 0.242926  ┆ -1.240155 ┆ -1.212227 ┆ -1.117663 │\n",
       "└───────────┴─────────┴───────┴─────────┴───┴───────────┴───────────┴───────────┴───────────┘"
      ]
     },
     "execution_count": 13,
     "metadata": {},
     "output_type": "execute_result"
    }
   ],
   "source": [
    "train_test_df.head()"
   ]
  },
  {
   "cell_type": "code",
   "execution_count": 14,
   "metadata": {},
   "outputs": [
    {
     "name": "stdout",
     "output_type": "stream",
     "text": [
      "50\n"
     ]
    }
   ],
   "source": [
    "ds = hp.TabularDataset(\n",
    "    train,\n",
    "    tokens,\n",
    "    special_tokens=special_tokens,\n",
    "    shuffle_cols=True,\n",
    "    max_row_length=50,\n",
    ")\n",
    "\n",
    "print(len(ds[0]))"
   ]
  },
  {
   "cell_type": "code",
   "execution_count": 19,
   "metadata": {},
   "outputs": [
    {
     "name": "stdout",
     "output_type": "stream",
     "text": [
      "<row-start>y:-1.6587588116247007,carat:-1.2403497908694328,depth:-1.3607258727059102,z:-1.7411588294109859,x:-1.6413100716719282,cut:premium,color:e,table:1.5855140097261475,clarity:si1,<row-end><pad><pad><pad><pad><pad><pad><pad><pad><pad><pad><pad><pad>\n"
     ]
    }
   ],
   "source": [
    "row = [str(i.value) for i in ds[1]]\n",
    "print(\"\".join(row))"
   ]
  },
  {
   "cell_type": "code",
   "execution_count": 20,
   "metadata": {},
   "outputs": [
    {
     "name": "stdout",
     "output_type": "stream",
     "text": [
      "['<row-start>', 'carat', ':', -1.1981566989627475, ',', 'clarity', ':', 'si2', ',', 'table', ':', -1.0996617971586031, ',', 'z', ':', -1.5711146235593887, ',', 'color', ':', 'e', ',', 'depth', ':', -0.17408989455083768, ',', 'cut', ':', 'ideal', ',', 'x', ':', -1.5878227303011756, ',', 'y', ':', -1.5361813230221135, ',', '<row-end>', '<pad>', '<pad>', '<pad>', '<pad>', '<pad>', '<pad>', '<pad>', '<pad>', '<pad>', '<pad>', '<pad>', '<pad>']\n"
     ]
    }
   ],
   "source": [
    "print([i.value for i in ds[0]])"
   ]
  },
  {
   "cell_type": "code",
   "execution_count": 21,
   "metadata": {},
   "outputs": [
    {
     "name": "stdout",
     "output_type": "stream",
     "text": [
      "mps\n"
     ]
    }
   ],
   "source": [
    "if torch.backends.mps.is_built():\n",
    "    device_name = \"mps\"\n",
    "elif torch.cuda.is_available():\n",
    "    device_name = \"cuda\"\n",
    "else:\n",
    "    device_name = \"cpu\"\n",
    "device = torch.device(device_name)\n",
    "print(device)"
   ]
  },
  {
   "cell_type": "code",
   "execution_count": 22,
   "metadata": {},
   "outputs": [],
   "source": [
    "data, targets = hp.batch_data(ds, 1, n_row=1)"
   ]
  },
  {
   "cell_type": "code",
   "execution_count": 23,
   "metadata": {},
   "outputs": [
    {
     "name": "stderr",
     "output_type": "stream",
     "text": [
      "/opt/homebrew/Caskroom/miniconda/base/envs/pytorch/lib/python3.11/site-packages/torch/nn/modules/transformer.py:218: UserWarning: enable_nested_tensor is True, but self.use_nested_tensor is False because  self.layers[0].self_attn.batch_first was not True\n",
      "  warnings.warn(f\"enable_nested_tensor is True, but self.use_nested_tensor is False because {why_not_sparsity_fast_path}\")\n"
     ]
    }
   ],
   "source": [
    "n_token = len(ds.vocab)  # size of vocabulary\n",
    "d_model = 64  # embedding dimension\n",
    "d_hid = 1_000  # dimension of the feedforward network model in ``nn.TransformerEncoder``\n",
    "n_layers = 4  # number of ``nn.TransformerEncoderLayer`` in ``nn.TransformerEncoder``\n",
    "n_head = 4  # number of heads in ``nn.MultiheadAttention``\n",
    "dropout = 0.2  # dropout probability\n",
    "model = hp.TransformerModel(\n",
    "    n_token, d_model, n_head, d_hid, n_layers, device, dropout\n",
    ").to(device)"
   ]
  },
  {
   "cell_type": "code",
   "execution_count": 24,
   "metadata": {},
   "outputs": [],
   "source": [
    "import copy\n",
    "import time\n",
    "\n",
    "\n",
    "lr = 0.24  # learning rate\n",
    "optimizer = torch.optim.SGD(model.parameters(), lr=lr)\n",
    "# scheduler = torch.optim.lr_scheduler.StepLR(optimizer, step_size =100, gamma=0.5)\n",
    "scheduler = torch.optim.lr_scheduler.ReduceLROnPlateau(\n",
    "    optimizer,\n",
    "    mode=\"min\",\n",
    "    factor=0.9,\n",
    "    patience=5,\n",
    "    threshold=0.001,\n",
    "    threshold_mode=\"rel\",\n",
    "    cooldown=0,\n",
    "    min_lr=0.01,\n",
    "    eps=1e-08,\n",
    "    verbose=False,\n",
    ")\n",
    "\n",
    "\n",
    "def train(model: nn.Module) -> None:\n",
    "    writer = SummaryWriter()\n",
    "    model.train()  # turn on train mode\n",
    "    total_loss = 0.0\n",
    "    log_interval = 1000\n",
    "    lr_interval = 100\n",
    "    n_row = 10 # one because it's not time series\n",
    "    start_time = time.time()\n",
    "    for batch, i in enumerate(trange(0, len(ds) - 1, n_row)):\n",
    "        data, targets = hp.batch_data(ds, i, n_row=n_row)\n",
    "        class_output, numeric_output = model(data)\n",
    "        loss, loss_dict = hp.hephaestus_loss(\n",
    "            class_output, numeric_output, targets, tokens, special_tokens, device\n",
    "        )\n",
    "        num_loss = loss_dict[\"reg_loss\"].item()\n",
    "        class_loss = loss_dict[\"class_loss\"].item()\n",
    "        writer.add_scalar(\"Loss/total_loss\", loss, batch)\n",
    "        writer.add_scalar(\"Loss/numeric_loss\", num_loss, batch)\n",
    "        writer.add_scalar(\"Loss/class_loss\", class_loss, batch)\n",
    "        writer.add_scalar(\"Metrics/learning_rate\", optimizer.param_groups[0][\"lr\"], batch)\n",
    "        optimizer.zero_grad()\n",
    "        loss.backward()\n",
    "        torch.nn.utils.clip_grad_norm_(model.parameters(), 0.5)\n",
    "        optimizer.step()\n",
    "\n",
    "        total_loss += loss.item()\n",
    "        if batch % lr_interval == 0 and batch > 0:\n",
    "            scheduler.step(total_loss)\n",
    "        if batch % log_interval == 0 and batch > 0:\n",
    "            # lr = scheduler.get_last_lr()[0]\n",
    "            lr = optimizer.param_groups[0][\"lr\"]\n",
    "\n",
    "            ms_per_batch = (time.time() - start_time) * 1000 / log_interval\n",
    "            cur_loss = total_loss / log_interval\n",
    "            ppl = math.exp(cur_loss)\n",
    "            print(  # f'| epoch {epoch:3d} | {batch:5d}/{num_batches:5d} batches | '\n",
    "                f\"lr {lr:02.2f} | ms/batch {ms_per_batch:5.2f} | \",\n",
    "                f\"loss {cur_loss:5.2f} | ppl {ppl:8.2f}\",\n",
    "                loss_dict,\n",
    "            )\n",
    "            total_loss = 0\n",
    "            start_time = time.time()\n",
    "            # scheduler.step(loss)\n",
    "    writer.close()"
   ]
  },
  {
   "cell_type": "code",
   "execution_count": 25,
   "metadata": {},
   "outputs": [
    {
     "name": "stdout",
     "output_type": "stream",
     "text": [
      "Epoch 1/3\n"
     ]
    },
    {
     "name": "stderr",
     "output_type": "stream",
     "text": [
      "  0%|          | 0/4316 [00:00<?, ?it/s]"
     ]
    },
    {
     "name": "stderr",
     "output_type": "stream",
     "text": [
      " 23%|██▎       | 1002/4316 [00:40<02:41, 20.58it/s]"
     ]
    },
    {
     "name": "stdout",
     "output_type": "stream",
     "text": [
      "lr 0.22 | ms/batch 40.67 |  loss  0.74 | ppl     2.09 {'reg_loss': tensor(0.1524, device='mps:0', grad_fn=<MseLossBackward0>), 'class_loss': tensor(0.2297, device='mps:0', grad_fn=<NllLossBackward0>)}\n"
     ]
    },
    {
     "name": "stderr",
     "output_type": "stream",
     "text": [
      " 46%|████▋     | 2006/4316 [01:20<01:27, 26.37it/s]"
     ]
    },
    {
     "name": "stdout",
     "output_type": "stream",
     "text": [
      "lr 0.19 | ms/batch 39.44 |  loss  0.36 | ppl     1.43 {'reg_loss': tensor(0.1175, device='mps:0', grad_fn=<MseLossBackward0>), 'class_loss': tensor(0.1547, device='mps:0', grad_fn=<NllLossBackward0>)}\n"
     ]
    },
    {
     "name": "stderr",
     "output_type": "stream",
     "text": [
      " 70%|██████▉   | 3005/4316 [01:58<00:47, 27.63it/s]"
     ]
    },
    {
     "name": "stdout",
     "output_type": "stream",
     "text": [
      "lr 0.17 | ms/batch 38.02 |  loss  0.46 | ppl     1.58 {'reg_loss': tensor(0.2088, device='mps:0', grad_fn=<MseLossBackward0>), 'class_loss': tensor(0.1550, device='mps:0', grad_fn=<NllLossBackward0>)}\n"
     ]
    },
    {
     "name": "stderr",
     "output_type": "stream",
     "text": [
      " 93%|█████████▎| 4005/4316 [02:34<00:11, 27.15it/s]"
     ]
    },
    {
     "name": "stdout",
     "output_type": "stream",
     "text": [
      "lr 0.16 | ms/batch 36.27 |  loss  0.27 | ppl     1.32 {'reg_loss': tensor(0.0864, device='mps:0', grad_fn=<MseLossBackward0>), 'class_loss': tensor(0.1417, device='mps:0', grad_fn=<NllLossBackward0>)}\n"
     ]
    },
    {
     "name": "stderr",
     "output_type": "stream",
     "text": [
      "100%|██████████| 4316/4316 [02:46<00:00, 25.97it/s]\n"
     ]
    },
    {
     "name": "stdout",
     "output_type": "stream",
     "text": [
      "Epoch 2/3\n"
     ]
    },
    {
     "name": "stderr",
     "output_type": "stream",
     "text": [
      " 23%|██▎       | 1003/4316 [00:32<01:43, 32.06it/s]"
     ]
    },
    {
     "name": "stdout",
     "output_type": "stream",
     "text": [
      "lr 0.13 | ms/batch 32.40 |  loss  0.27 | ppl     1.31 {'reg_loss': tensor(0.1632, device='mps:0', grad_fn=<MseLossBackward0>), 'class_loss': tensor(0.1680, device='mps:0', grad_fn=<NllLossBackward0>)}\n"
     ]
    },
    {
     "name": "stderr",
     "output_type": "stream",
     "text": [
      " 46%|████▋     | 2005/4316 [01:04<01:17, 30.00it/s]"
     ]
    },
    {
     "name": "stdout",
     "output_type": "stream",
     "text": [
      "lr 0.11 | ms/batch 31.97 |  loss  0.26 | ppl     1.30 {'reg_loss': tensor(0.0997, device='mps:0', grad_fn=<MseLossBackward0>), 'class_loss': tensor(0.1778, device='mps:0', grad_fn=<NllLossBackward0>)}\n"
     ]
    },
    {
     "name": "stderr",
     "output_type": "stream",
     "text": [
      " 70%|██████▉   | 3003/4316 [01:37<00:42, 31.22it/s]"
     ]
    },
    {
     "name": "stdout",
     "output_type": "stream",
     "text": [
      "lr 0.10 | ms/batch 32.62 |  loss  0.36 | ppl     1.43 {'reg_loss': tensor(0.0714, device='mps:0', grad_fn=<MseLossBackward0>), 'class_loss': tensor(0.1544, device='mps:0', grad_fn=<NllLossBackward0>)}\n"
     ]
    },
    {
     "name": "stderr",
     "output_type": "stream",
     "text": [
      " 93%|█████████▎| 4002/4316 [02:08<00:10, 30.85it/s]"
     ]
    },
    {
     "name": "stdout",
     "output_type": "stream",
     "text": [
      "lr 0.09 | ms/batch 31.91 |  loss  0.23 | ppl     1.25 {'reg_loss': tensor(0.1603, device='mps:0', grad_fn=<MseLossBackward0>), 'class_loss': tensor(0.1473, device='mps:0', grad_fn=<NllLossBackward0>)}\n"
     ]
    },
    {
     "name": "stderr",
     "output_type": "stream",
     "text": [
      "100%|██████████| 4316/4316 [02:18<00:00, 31.06it/s]\n"
     ]
    },
    {
     "name": "stdout",
     "output_type": "stream",
     "text": [
      "Epoch 3/3\n"
     ]
    },
    {
     "name": "stderr",
     "output_type": "stream",
     "text": [
      " 23%|██▎       | 1005/4316 [00:34<01:51, 29.69it/s]"
     ]
    },
    {
     "name": "stdout",
     "output_type": "stream",
     "text": [
      "lr 0.08 | ms/batch 33.86 |  loss  0.23 | ppl     1.26 {'reg_loss': tensor(0.0697, device='mps:0', grad_fn=<MseLossBackward0>), 'class_loss': tensor(0.1282, device='mps:0', grad_fn=<NllLossBackward0>)}\n"
     ]
    },
    {
     "name": "stderr",
     "output_type": "stream",
     "text": [
      " 46%|████▋     | 2003/4316 [01:08<01:20, 28.76it/s]"
     ]
    },
    {
     "name": "stdout",
     "output_type": "stream",
     "text": [
      "lr 0.07 | ms/batch 34.47 |  loss  0.23 | ppl     1.26 {'reg_loss': tensor(0.0466, device='mps:0', grad_fn=<MseLossBackward0>), 'class_loss': tensor(0.1233, device='mps:0', grad_fn=<NllLossBackward0>)}\n"
     ]
    },
    {
     "name": "stderr",
     "output_type": "stream",
     "text": [
      " 70%|██████▉   | 3006/4316 [01:43<00:46, 28.38it/s]"
     ]
    },
    {
     "name": "stdout",
     "output_type": "stream",
     "text": [
      "lr 0.05 | ms/batch 35.05 |  loss  0.33 | ppl     1.40 {'reg_loss': tensor(0.0627, device='mps:0', grad_fn=<MseLossBackward0>), 'class_loss': tensor(0.1179, device='mps:0', grad_fn=<NllLossBackward0>)}\n"
     ]
    },
    {
     "name": "stderr",
     "output_type": "stream",
     "text": [
      " 93%|█████████▎| 4005/4316 [02:18<00:09, 31.32it/s]"
     ]
    },
    {
     "name": "stdout",
     "output_type": "stream",
     "text": [
      "lr 0.05 | ms/batch 34.73 |  loss  0.21 | ppl     1.23 {'reg_loss': tensor(0.0566, device='mps:0', grad_fn=<MseLossBackward0>), 'class_loss': tensor(0.1276, device='mps:0', grad_fn=<NllLossBackward0>)}\n"
     ]
    },
    {
     "name": "stderr",
     "output_type": "stream",
     "text": [
      "100%|██████████| 4316/4316 [02:28<00:00, 29.14it/s]\n"
     ]
    }
   ],
   "source": [
    "epochs = 3\n",
    "for i in range(epochs):\n",
    "    print(f\"Epoch {i+1}/{epochs}\")\n",
    "    train(model)"
   ]
  },
  {
   "cell_type": "code",
   "execution_count": 26,
   "metadata": {},
   "outputs": [],
   "source": [
    "# %%\n",
    "torch.save(model.state_dict(), \"models/diamonds2.pth\")"
   ]
  },
  {
   "cell_type": "code",
   "execution_count": 35,
   "metadata": {},
   "outputs": [
    {
     "name": "stdout",
     "output_type": "stream",
     "text": [
      "data:  <row-start><mask>:-1.6587588116247007,x:-1.6413100716719282,table:1.5855140097261475,depth:-1.3607258727059102,clarity:si1,cut:premium,<mask>:-1.2403497908694328,<mask>:e,z:-1.7411588294109859,<row-end><pad><pad><pad><pad><pad><pad><pad><pad><pad><pad><pad><pad><row-start>y:<numeric_mask>,carat:-1.1981566989627475,z:-1.7411588294109859,color:e,x:-1.4986771613499217,<mask>:3.3756312143159812,depth:<numeric_mask>,clarity:vs1,cut:good,<row-end><mask><pad><pad><pad><pad><pad><pad><pad><pad><pad><mask><pad>\n",
      "row1:  <row-start>carat:-1.2403497908694328,z:-1.7411588294109859,y:-1.6587588116247007,color:e,clarity:si1,table:1.5855140097261475,cut:premium,depth:-1.3607258727059102,x:-1.6413100716719282,<row-end><pad><pad><pad><pad><pad><pad><pad><pad><pad><pad><pad><pad>\n"
     ]
    }
   ],
   "source": [
    "data, targets = hp.batch_data(ds, 1, n_row=2)\n",
    "\n",
    "row1 = ds[1]\n",
    "data_str = \"\".join([str(i.value) for i in data])\n",
    "row1_str = \"\".join([str(i.value) for i in row1])\n",
    "print(\"data: \", data_str)\n",
    "print(\"row1: \", row1_str)"
   ]
  },
  {
   "cell_type": "code",
   "execution_count": 27,
   "metadata": {},
   "outputs": [],
   "source": [
    "def evaluate(model: nn.Module, ds, idx) -> None:\n",
    "    model.eval()  # turn on train mode\n",
    "    n_row = 1  # one because it's not time series\n",
    "    with torch.no_grad():\n",
    "        data, targets = hp.batch_data(ds, idx, n_row=n_row)\n",
    "        class_output, numeric_output = model(data)\n",
    "        loss, loss_dict = hp.hephaestus_loss(\n",
    "            class_output, numeric_output, targets, tokens, special_tokens, device\n",
    "        )\n",
    "        return {\n",
    "            \"loss\": loss.item(),\n",
    "            \"loss_dict\": loss_dict,\n",
    "            \"data\": data,\n",
    "            \"targets\": targets,\n",
    "            \"class_output\": class_output,\n",
    "            \"numeric_output\": numeric_output,\n",
    "        }"
   ]
  },
  {
   "cell_type": "code",
   "execution_count": 28,
   "metadata": {},
   "outputs": [],
   "source": [
    "ds_test = hp.TabularDataset(\n",
    "    test,\n",
    "    tokens,\n",
    "    special_tokens=special_tokens,\n",
    "    shuffle_cols=False,\n",
    "    max_row_length=50,\n",
    ")"
   ]
  },
  {
   "cell_type": "code",
   "execution_count": 29,
   "metadata": {},
   "outputs": [],
   "source": [
    "res = evaluate(model, ds_test, 1)"
   ]
  },
  {
   "cell_type": "code",
   "execution_count": 30,
   "metadata": {},
   "outputs": [
    {
     "data": {
      "text/plain": [
       "0.0019309771014377475"
      ]
     },
     "execution_count": 30,
     "metadata": {},
     "output_type": "execute_result"
    }
   ],
   "source": [
    "res[\"loss_dict\"][\"reg_loss\"].item()"
   ]
  },
  {
   "cell_type": "code",
   "execution_count": 31,
   "metadata": {},
   "outputs": [
    {
     "data": {
      "text/plain": [
       "'<row-start> carat : -0.5863568663158119 , cut : ideal , color : e , clarity : si1 , depth : 0.24472280362154117 , table : -0.20460319486368622 , x : -0.5626486873617523 , y : -0.520539274600677 , z : -0.5083383369869077 , '"
      ]
     },
     "execution_count": 31,
     "metadata": {},
     "output_type": "execute_result"
    }
   ],
   "source": [
    "actuals = [str(i.value) for i in res[\"targets\"]]\n",
    "actuals_ = \" \".join(actuals)\n",
    "actual_str = actuals_.split(\"<row-end>\")[0]\n",
    "actual_str"
   ]
  },
  {
   "cell_type": "code",
   "execution_count": 32,
   "metadata": {},
   "outputs": [
    {
     "data": {
      "text/plain": [
       "'<row-start> carat : -0.5863568663158119 , cut : ideal , color : e , clarity : si1 , depth : 0.24472280362154117 , table : -0.20460319486368622 , x : -0.5626486873617523 , y : -0.520539274600677 , z : -0.5083383369869077 , '"
      ]
     },
     "execution_count": 32,
     "metadata": {},
     "output_type": "execute_result"
    }
   ],
   "source": [
    "masked_str = [str(i.value) for i in res[\"data\"]]\n",
    "masked_str = \" \".join(actuals)\n",
    "masked_str = masked_str.split(\"<row-end>\")[0]\n",
    "masked_str"
   ]
  },
  {
   "cell_type": "code",
   "execution_count": 36,
   "metadata": {},
   "outputs": [],
   "source": [
    "def show_results(res):\n",
    "    actuals = [str(i.value) for i in res[\"targets\"]]\n",
    "    actuals_ = \" \".join(actuals)\n",
    "    actual_str = actuals_.split(\"<row-end>\")[0]\n",
    "    masked_str = [str(i.value) for i in res[\"data\"]]\n",
    "    masked_str = \" \".join(masked_str)\n",
    "    masked_str = masked_str.split(\"<row-end>\")[0]\n",
    "\n",
    "    lsm = nn.Softmax(dim=0)\n",
    "    softmax_cats = lsm(res[\"class_output\"])\n",
    "    softmax_cats = torch.argmax(softmax_cats, dim=1)\n",
    "    gen_tokens = []\n",
    "    for idx, pred in enumerate(softmax_cats):\n",
    "        token = tokens[pred-1]\n",
    "        if token == \"<numeric>\":\n",
    "            gen_tokens.append(str(res[\"numeric_output\"][idx].item()))\n",
    "        else:\n",
    "            gen_tokens.append(token)\n",
    "    preds = \" \".join(gen_tokens)\n",
    "\n",
    "    s = f\"Targets   : {actual_str}\\n\" + \\\n",
    "        f\"Masked    : {masked_str}\\n\" + \\\n",
    "        f\"Predicted : {preds.split('<row-end>')[0]}\"\n",
    "    return s"
   ]
  },
  {
   "cell_type": "code",
   "execution_count": 37,
   "metadata": {},
   "outputs": [
    {
     "name": "stdout",
     "output_type": "stream",
     "text": [
      "Row 0\n",
      "Targets   : <row-start> carat : -1.1981566989627475 , z : -1.5711146235593887 , clarity : si2 , y : -1.5361813230221135 , depth : -0.17408989455083768 , table : -1.0996617971586031 , cut : ideal , color : e , x : -1.5878227303011756 , \n",
      "Masked    : <row-start> carat : -1.1981566989627475 , z : -1.5711146235593887 , clarity : si2 , y : <numeric_mask> , depth : <numeric_mask> , table : -1.0996617971586031 , cut : ideal , color : <mask> , x : -1.5878227303011756 , \n",
      "Predicted : <row-start> carat : -0.9883768558502197 , z : -1.2116670608520508 , clarity : si2 , y : e , depth : e , table : -0.9551116228103638 , cut : ideal , color : premium , x : -1.2383604049682617 , \n",
      "\n",
      "Row 1\n",
      "Targets   : <row-start> x : -1.6413100716719282 , depth : -1.3607258727059102 , y : -1.6587588116247007 , color : e , cut : premium , carat : -1.2403497908694328 , clarity : si1 , table : 1.5855140097261475 , z : -1.7411588294109859 , \n",
      "Masked    : <row-start> x : -1.6413100716719282 , depth : -1.3607258727059102 , y : -1.6587588116247007 , color : e , cut : premium , carat : -1.2403497908694328 , <mask> : si1 , table : 1.5855140097261475 , z : -1.7411588294109859 , \n",
      "Predicted : <row-start> x : -1.2521765232086182 , depth : -1.0954372882843018 , y : -1.284254789352417 , color : e , cut : premium , carat : -1.042185664176941 , clarity : si1 , table : 1.2965939044952393 , z : -1.3489415645599365 , \n",
      "\n",
      "Row 2\n",
      "Targets   : <row-start> carat : -1.1981566989627475 , color : e , cut : good , table : 3.3756312143159812 , x : -1.4986771613499217 , clarity : vs1 , y : -1.45738150892045 , z : -1.7411588294109859 , depth : -3.384987247205735 , \n",
      "Masked    : <row-start> <mask> : -1.1981566989627475 , color : e , cut : good , table : 3.3756312143159812 , x : -1.4986771613499217 , clarity : vs1 , y : -1.45738150892045 , z : -1.7411588294109859 , depth : -3.384987247205735 , \n",
      "Predicted : <row-start> carat : -0.9864950180053711 , color : e , cut : good , table : missing , x : -1.1883807182312012 , clarity : vs1 , y : -1.1657601594924927 , z : -1.372349500656128 , depth : g , \n",
      "\n",
      "Row 3\n",
      "Targets   : <row-start> depth : 0.4541291527077281 , cut : premium , table : 0.24292610628377218 , x : -1.36495880792304 , color : i , z : -1.2877076138067276 , clarity : vs2 , carat : -1.071577423242692 , y : -1.317292950517493 , \n",
      "Masked    : <row-start> <mask> : 0.4541291527077281 , cut : premium , table : 0.24292610628377218 , <mask> : -1.36495880792304 , color : i , z : -1.2877076138067276 , clarity : vs2 , carat : -1.071577423242692 , y : -1.317292950517493 , \n",
      "Predicted : <row-start> depth : 0.47548067569732666 , cut : premium , table : 0.24877935647964478 , depth : -1.1386244297027588 , color : i , z : -1.0948312282562256 , clarity : vs2 , carat : -0.9643292427062988 , y : -1.1112594604492188 , \n",
      "\n",
      "Row 4\n",
      "Targets   : <row-start> cut : good , z : -1.1176634079551304 , table : 0.24292610628377218 , clarity : si2 , x : -1.2401550113912843 , color : j , y : -1.2122265317152763 , carat : -1.0293843313360067 , depth : 1.0823481999662938 , \n",
      "Masked    : <row-start> cut : <mask> , <mask> : -1.1176634079551304 , <mask> : 0.24292610628377218 , clarity : si2 , x : -1.2401550113912843 , color : j , y : -1.2122265317152763 , carat : -1.0293843313360067 , depth : 1.0823481999662938 , \n",
      "Predicted : <row-start> cut : z , z : -0.9703869819641113 , z : 0.2565358877182007 , clarity : si2 , x : -1.0587838888168335 , color : j , y : -1.043879747390747 , carat : -0.9400660991668701 , depth : 0.9368921518325806 , \n",
      "\n"
     ]
    }
   ],
   "source": [
    "for i in range(5):\n",
    "    res = evaluate(model, ds, i)\n",
    "    print(f\"Row {i}\")\n",
    "    print(show_results(res))\n",
    "    print(\"\")"
   ]
  },
  {
   "cell_type": "code",
   "execution_count": null,
   "metadata": {},
   "outputs": [
    {
     "data": {
      "text/html": [
       "<div><style>\n",
       ".dataframe > thead > tr > th,\n",
       ".dataframe > tbody > tr > td {\n",
       "  text-align: right;\n",
       "}\n",
       "</style>\n",
       "<small>shape: (2, 10)</small><table border=\"1\" class=\"dataframe\"><thead><tr><th>row_nr</th><th>carat</th><th>cut</th><th>color</th><th>clarity</th><th>depth</th><th>table</th><th>x</th><th>y</th><th>z</th></tr><tr><td>u32</td><td>f64</td><td>str</td><td>str</td><td>str</td><td>f64</td><td>f64</td><td>f64</td><td>f64</td><td>f64</td></tr></thead><tbody><tr><td>9270</td><td>1.059174</td><td>&quot;fair&quot;</td><td>&quot;h&quot;</td><td>&quot;i1&quot;</td><td>1.850171</td><td>-0.204603</td><td>1.068715</td><td>0.985413</td><td>1.277126</td></tr><tr><td>9653</td><td>1.059174</td><td>&quot;fair&quot;</td><td>&quot;e&quot;</td><td>&quot;i1&quot;</td><td>3.316016</td><td>0.242926</td><td>0.943911</td><td>0.889102</td><td>1.362148</td></tr></tbody></table></div>"
      ],
      "text/plain": [
       "shape: (2, 10)\n",
       "┌────────┬──────────┬──────┬───────┬───┬───────────┬──────────┬──────────┬──────────┐\n",
       "│ row_nr ┆ carat    ┆ cut  ┆ color ┆ … ┆ table     ┆ x        ┆ y        ┆ z        │\n",
       "│ ---    ┆ ---      ┆ ---  ┆ ---   ┆   ┆ ---       ┆ ---      ┆ ---      ┆ ---      │\n",
       "│ u32    ┆ f64      ┆ str  ┆ str   ┆   ┆ f64       ┆ f64      ┆ f64      ┆ f64      │\n",
       "╞════════╪══════════╪══════╪═══════╪═══╪═══════════╪══════════╪══════════╪══════════╡\n",
       "│ 9270   ┆ 1.059174 ┆ fair ┆ h     ┆ … ┆ -0.204603 ┆ 1.068715 ┆ 0.985413 ┆ 1.277126 │\n",
       "│ 9653   ┆ 1.059174 ┆ fair ┆ e     ┆ … ┆ 0.242926  ┆ 0.943911 ┆ 0.889102 ┆ 1.362148 │\n",
       "└────────┴──────────┴──────┴───────┴───┴───────────┴──────────┴──────────┴──────────┘"
      ]
     },
     "execution_count": 49,
     "metadata": {},
     "output_type": "execute_result"
    }
   ],
   "source": [
    "test.with_row_count().filter(pl.col(\"carat\") == max(test[\"carat\"]))"
   ]
  },
  {
   "cell_type": "code",
   "execution_count": null,
   "metadata": {},
   "outputs": [
    {
     "name": "stdout",
     "output_type": "stream",
     "text": [
      "Targets   : <row-start> carat : 1.0591737180449114 , cut : fair , color : h , clarity : i1 , depth : 1.8501714799489926 , table : -0.20460319486368622 , x : 1.0687152244462004 , y : 0.9854127282311091 , z : 1.277125824454861 , \n",
      "Masked    : <row-start> carat : 1.0591737180449114 , cut : <mask> , color : h , clarity : i1 , depth : 1.8501714799489926 , table : -0.20460319486368622 , x : 1.0687152244462004 , y : 0.9854127282311091 , <mask> : 1.277125824454861 , \n",
      "Predicted : <row-start> carat : 0.9448257684707642 , cut : ideal , color : h , clarity : i1 , depth : 1.5026516914367676 , table : -0.3050450086593628 , x : 0.9185384511947632 , y : 0.8406640291213989 , z : 1.0746914148330688 , <row-end> fair <unk> <unk> <unk> <unk> <unk> <unk> <unk> <unk> <unk> <unk> <unk>\n"
     ]
    }
   ],
   "source": [
    "res = evaluate(model, ds_test, 9270)\n",
    "print(show_results(res))"
   ]
  },
  {
   "cell_type": "code",
   "execution_count": null,
   "metadata": {},
   "outputs": [
    {
     "data": {
      "text/html": [
       "<div><style>\n",
       ".dataframe > thead > tr > th,\n",
       ".dataframe > tbody > tr > td {\n",
       "  text-align: right;\n",
       "}\n",
       "</style>\n",
       "<small>shape: (1, 10)</small><table border=\"1\" class=\"dataframe\"><thead><tr><th>row_nr</th><th>carat</th><th>cut</th><th>color</th><th>clarity</th><th>depth</th><th>table</th><th>x</th><th>y</th><th>z</th></tr><tr><td>u32</td><td>f64</td><td>str</td><td>str</td><td>str</td><td>f64</td><td>f64</td><td>f64</td><td>f64</td><td>f64</td></tr></thead><tbody><tr><td>837</td><td>-1.24035</td><td>&quot;premium&quot;</td><td>&quot;e&quot;</td><td>&quot;si2&quot;</td><td>0.105119</td><td>-0.652132</td><td>-1.685883</td><td>-1.67627</td><td>-1.656137</td></tr></tbody></table></div>"
      ],
      "text/plain": [
       "shape: (1, 10)\n",
       "┌────────┬──────────┬─────────┬───────┬───┬───────────┬───────────┬──────────┬───────────┐\n",
       "│ row_nr ┆ carat    ┆ cut     ┆ color ┆ … ┆ table     ┆ x         ┆ y        ┆ z         │\n",
       "│ ---    ┆ ---      ┆ ---     ┆ ---   ┆   ┆ ---       ┆ ---       ┆ ---      ┆ ---       │\n",
       "│ u32    ┆ f64      ┆ str     ┆ str   ┆   ┆ f64       ┆ f64       ┆ f64      ┆ f64       │\n",
       "╞════════╪══════════╪═════════╪═══════╪═══╪═══════════╪═══════════╪══════════╪═══════════╡\n",
       "│ 837    ┆ -1.24035 ┆ premium ┆ e     ┆ … ┆ -0.652132 ┆ -1.685883 ┆ -1.67627 ┆ -1.656137 │\n",
       "└────────┴──────────┴─────────┴───────┴───┴───────────┴───────────┴──────────┴───────────┘"
      ]
     },
     "execution_count": 51,
     "metadata": {},
     "output_type": "execute_result"
    }
   ],
   "source": [
    "test.with_row_count().filter(pl.col(\"carat\") == min(test[\"carat\"]))"
   ]
  },
  {
   "cell_type": "code",
   "execution_count": null,
   "metadata": {},
   "outputs": [
    {
     "name": "stdout",
     "output_type": "stream",
     "text": [
      "Targets   : <row-start> carat : -1.2403497908694328 , cut : premium , color : e , clarity : si2 , depth : 0.10511857089741324 , table : -0.6521324960111446 , x : -1.6858828561475554 , y : -1.6762698814250705 , z : -1.6561367264851874 , \n",
      "Masked    : <row-start> carat : -1.2403497908694328 , cut : premium , <mask> : e , clarity : si2 , <mask> : 0.10511857089741324 , table : -0.6521324960111446 , x : -1.6858828561475554 , y : -1.6762698814250705 , z : <numeric_mask> , \n",
      "Predicted : <row-start> carat : -0.954312801361084 , cut : premium , color : e , clarity : si2 , depth : 0.2146976888179779 , table : -0.5769697427749634 , x : -1.261174201965332 , y : -1.2771449089050293 , z : -0.5968276262283325 , <row-end> <unk> <unk> <unk> <unk> <unk> <unk> ideal <unk> <unk> <unk> <unk> <unk>\n"
     ]
    }
   ],
   "source": [
    "res = evaluate(model, ds_test, 837)\n",
    "print(show_results(res))"
   ]
  },
  {
   "cell_type": "code",
   "execution_count": null,
   "metadata": {},
   "outputs": [],
   "source": [
    "# preds = [str(i.value) for i in res[\"class_output\"]]\n",
    "# preds_ = \" \".join(preds)\n",
    "# preds_.split(\"<row-end>\")[0]"
   ]
  },
  {
   "cell_type": "code",
   "execution_count": null,
   "metadata": {},
   "outputs": [],
   "source": [
    "lsm = nn.Softmax(dim=0)\n",
    "softmax_cats = lsm(res[\"class_output\"])\n",
    "softmax_cats = torch.argmax(softmax_cats, dim=1)"
   ]
  },
  {
   "cell_type": "code",
   "execution_count": null,
   "metadata": {},
   "outputs": [
    {
     "data": {
      "text/plain": [
       "(tensor([ 7,  9,  2,  4,  1, 12,  2, 23,  1, 11,  2, 18,  1, 10,  2, 29,  1, 14,\n",
       "          2,  4,  1, 31,  2,  4,  1, 37,  2,  4,  1, 38,  2,  4,  1, 39,  2,  4,\n",
       "          1,  6,  8,  8,  8,  8,  8,  8, 17,  8,  8,  8,  8,  8],\n",
       "        device='mps:0'),\n",
       " torch.Size([50]))"
      ]
     },
     "execution_count": 32,
     "metadata": {},
     "output_type": "execute_result"
    }
   ],
   "source": [
    "softmax_cats, softmax_cats.shape"
   ]
  },
  {
   "cell_type": "code",
   "execution_count": null,
   "metadata": {},
   "outputs": [
    {
     "name": "stdout",
     "output_type": "stream",
     "text": [
      "Predicted Row:\n",
      "\n",
      "<row-start> carat : -0.6318099498748779 , cut : ideal , color : g , clarity : si1 , depth : -0.9217300415039062 , table : -0.2088424265384674 , x : -0.28772419691085815 , y : -0.6106739044189453 , z : -0.47605791687965393 , \n",
      "\n",
      "Actual Row:\n",
      "<row-start> carat : -0.5863568663158119 , cut : ideal , color : e , clarity : si1 , depth : 0.24472280362154117 , table : -0.20460319486368622 , x : -0.5626486873617523 , y : -0.520539274600677 , z : -0.5083383369869077 , \n"
     ]
    }
   ],
   "source": [
    "gen_tokens = []\n",
    "for idx, pred in enumerate(softmax_cats):\n",
    "    token = tokens[pred-1]\n",
    "    if token == \"<numeric>\":\n",
    "        gen_tokens.append(str(res[\"numeric_output\"][idx].item()))\n",
    "    else:\n",
    "        gen_tokens.append(token)\n",
    "preds = \" \".join(gen_tokens)\n",
    "print(f\"\"\"Predicted Row:\\n\\n{preds.split(\"<row-end>\")[0]}\"\"\")\n",
    "print(f\"\"\"\\nActual Row:\\n{actual_str}\"\"\")"
   ]
  },
  {
   "cell_type": "code",
   "execution_count": null,
   "metadata": {},
   "outputs": [
    {
     "name": "stdout",
     "output_type": "stream",
     "text": [
      "0.9683498582258889\n",
      "0.8052319157998697\n",
      "0.3877478747690536\n",
      "0.9181466762759316\n",
      "0.5964743420946779\n",
      "0.0875938108238562\n",
      "0.40845215274416213\n",
      "0.9158682045747477\n",
      "0.1687792220992772\n",
      "0.8808815567770297\n"
     ]
    }
   ],
   "source": [
    "def gen_random_number():\n",
    "    num = np.random.rand()\n",
    "    return num\n",
    "\n",
    "for i in range(10):\n",
    "    print(gen_random_number())\n"
   ]
  },
  {
   "cell_type": "code",
   "execution_count": null,
   "metadata": {},
   "outputs": [],
   "source": []
  }
 ],
 "metadata": {
  "kernelspec": {
   "display_name": "pytorch",
   "language": "python",
   "name": "python3"
  },
  "language_info": {
   "codemirror_mode": {
    "name": "ipython",
    "version": 3
   },
   "file_extension": ".py",
   "mimetype": "text/x-python",
   "name": "python",
   "nbconvert_exporter": "python",
   "pygments_lexer": "ipython3",
   "version": "3.11.3"
  },
  "orig_nbformat": 4
 },
 "nbformat": 4,
 "nbformat_minor": 2
}
