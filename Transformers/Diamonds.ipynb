{
 "cells": [
  {
   "cell_type": "markdown",
   "metadata": {},
   "source": [
    "# Diamond Transformer\n",
    "\n",
    "This notebook investigates the use of a transformer to predict the price of diamonds. The dataset is from Kaggle and can be found [here](https://www.kaggle.com/shivam2503/diamonds).\n",
    "\n",
    "While many traditional ML and DL techniques work on the dataset, our approach uses far less labeled data while achieving similar results. This is done by using a transformer.\n",
    "\n",
    "--------------------------------------------------------------------------------\n",
    "\n",
    "## Libraries\n"
   ]
  },
  {
   "cell_type": "code",
   "execution_count": 1,
   "metadata": {},
   "outputs": [],
   "source": [
    "import hashlib\n",
    "import math\n",
    "\n",
    "import polars as pl\n",
    "\n",
    "\n",
    "import polars as pl\n",
    "import numpy as np\n",
    "\n",
    "\n",
    "from torch import nn, Tensor\n",
    "from tqdm.notebook import trange, tqdm\n",
    "\n",
    "import hephaestus as hp\n",
    "import torch\n",
    "from torch.utils.tensorboard import SummaryWriter"
   ]
  },
  {
   "cell_type": "markdown",
   "metadata": {},
   "source": [
    "The diamonds dataset: df = pl.read_csv(\"../data/diamonds.csv\") df.head()\n"
   ]
  },
  {
   "cell_type": "code",
   "execution_count": 2,
   "metadata": {},
   "outputs": [
    {
     "data": {
      "text/html": [
       "<div><style>\n",
       ".dataframe > thead > tr > th,\n",
       ".dataframe > tbody > tr > td {\n",
       "  text-align: right;\n",
       "}\n",
       "</style>\n",
       "<small>shape: (5, 10)</small><table border=\"1\" class=\"dataframe\"><thead><tr><th>carat</th><th>cut</th><th>color</th><th>clarity</th><th>depth</th><th>table</th><th>price</th><th>x</th><th>y</th><th>z</th></tr><tr><td>f64</td><td>str</td><td>str</td><td>str</td><td>f64</td><td>f64</td><td>i64</td><td>f64</td><td>f64</td><td>f64</td></tr></thead><tbody><tr><td>0.23</td><td>&quot;Ideal&quot;</td><td>&quot;E&quot;</td><td>&quot;SI2&quot;</td><td>61.5</td><td>55.0</td><td>326</td><td>3.95</td><td>3.98</td><td>2.43</td></tr><tr><td>0.21</td><td>&quot;Premium&quot;</td><td>&quot;E&quot;</td><td>&quot;SI1&quot;</td><td>59.8</td><td>61.0</td><td>326</td><td>3.89</td><td>3.84</td><td>2.31</td></tr><tr><td>0.23</td><td>&quot;Good&quot;</td><td>&quot;E&quot;</td><td>&quot;VS1&quot;</td><td>56.9</td><td>65.0</td><td>327</td><td>4.05</td><td>4.07</td><td>2.31</td></tr><tr><td>0.29</td><td>&quot;Premium&quot;</td><td>&quot;I&quot;</td><td>&quot;VS2&quot;</td><td>62.4</td><td>58.0</td><td>334</td><td>4.2</td><td>4.23</td><td>2.63</td></tr><tr><td>0.31</td><td>&quot;Good&quot;</td><td>&quot;J&quot;</td><td>&quot;SI2&quot;</td><td>63.3</td><td>58.0</td><td>335</td><td>4.34</td><td>4.35</td><td>2.75</td></tr></tbody></table></div>"
      ],
      "text/plain": [
       "shape: (5, 10)\n",
       "┌───────┬─────────┬───────┬─────────┬───┬───────┬──────┬──────┬──────┐\n",
       "│ carat ┆ cut     ┆ color ┆ clarity ┆ … ┆ price ┆ x    ┆ y    ┆ z    │\n",
       "│ ---   ┆ ---     ┆ ---   ┆ ---     ┆   ┆ ---   ┆ ---  ┆ ---  ┆ ---  │\n",
       "│ f64   ┆ str     ┆ str   ┆ str     ┆   ┆ i64   ┆ f64  ┆ f64  ┆ f64  │\n",
       "╞═══════╪═════════╪═══════╪═════════╪═══╪═══════╪══════╪══════╪══════╡\n",
       "│ 0.23  ┆ Ideal   ┆ E     ┆ SI2     ┆ … ┆ 326   ┆ 3.95 ┆ 3.98 ┆ 2.43 │\n",
       "│ 0.21  ┆ Premium ┆ E     ┆ SI1     ┆ … ┆ 326   ┆ 3.89 ┆ 3.84 ┆ 2.31 │\n",
       "│ 0.23  ┆ Good    ┆ E     ┆ VS1     ┆ … ┆ 327   ┆ 4.05 ┆ 4.07 ┆ 2.31 │\n",
       "│ 0.29  ┆ Premium ┆ I     ┆ VS2     ┆ … ┆ 334   ┆ 4.2  ┆ 4.23 ┆ 2.63 │\n",
       "│ 0.31  ┆ Good    ┆ J     ┆ SI2     ┆ … ┆ 335   ┆ 4.34 ┆ 4.35 ┆ 2.75 │\n",
       "└───────┴─────────┴───────┴─────────┴───┴───────┴──────┴──────┴──────┘"
      ]
     },
     "execution_count": 2,
     "metadata": {},
     "output_type": "execute_result"
    }
   ],
   "source": [
    "df = pl.read_csv(\"../data/diamonds.csv\")\n",
    "df.head()"
   ]
  },
  {
   "cell_type": "code",
   "execution_count": 3,
   "metadata": {},
   "outputs": [
    {
     "data": {
      "text/html": [
       "<div><style>\n",
       ".dataframe > thead > tr > th,\n",
       ".dataframe > tbody > tr > td {\n",
       "  text-align: right;\n",
       "}\n",
       "</style>\n",
       "<small>shape: (9, 11)</small><table border=\"1\" class=\"dataframe\"><thead><tr><th>describe</th><th>carat</th><th>cut</th><th>color</th><th>clarity</th><th>depth</th><th>table</th><th>price</th><th>x</th><th>y</th><th>z</th></tr><tr><td>str</td><td>f64</td><td>str</td><td>str</td><td>str</td><td>f64</td><td>f64</td><td>f64</td><td>f64</td><td>f64</td><td>f64</td></tr></thead><tbody><tr><td>&quot;count&quot;</td><td>53940.0</td><td>&quot;53940&quot;</td><td>&quot;53940&quot;</td><td>&quot;53940&quot;</td><td>53940.0</td><td>53940.0</td><td>53940.0</td><td>53940.0</td><td>53940.0</td><td>53940.0</td></tr><tr><td>&quot;null_count&quot;</td><td>0.0</td><td>&quot;0&quot;</td><td>&quot;0&quot;</td><td>&quot;0&quot;</td><td>0.0</td><td>0.0</td><td>0.0</td><td>0.0</td><td>0.0</td><td>0.0</td></tr><tr><td>&quot;mean&quot;</td><td>0.79794</td><td>null</td><td>null</td><td>null</td><td>61.749405</td><td>57.457184</td><td>3932.799722</td><td>5.731157</td><td>5.734526</td><td>3.538734</td></tr><tr><td>&quot;std&quot;</td><td>0.474011</td><td>null</td><td>null</td><td>null</td><td>1.432621</td><td>2.234491</td><td>3989.439738</td><td>1.121761</td><td>1.142135</td><td>0.705699</td></tr><tr><td>&quot;min&quot;</td><td>0.2</td><td>&quot;Fair&quot;</td><td>&quot;D&quot;</td><td>&quot;I1&quot;</td><td>43.0</td><td>43.0</td><td>326.0</td><td>0.0</td><td>0.0</td><td>0.0</td></tr><tr><td>&quot;max&quot;</td><td>5.01</td><td>&quot;Very Good&quot;</td><td>&quot;J&quot;</td><td>&quot;VVS2&quot;</td><td>79.0</td><td>95.0</td><td>18823.0</td><td>10.74</td><td>58.9</td><td>31.8</td></tr><tr><td>&quot;median&quot;</td><td>0.7</td><td>null</td><td>null</td><td>null</td><td>61.8</td><td>57.0</td><td>2401.0</td><td>5.7</td><td>5.71</td><td>3.53</td></tr><tr><td>&quot;25%&quot;</td><td>0.4</td><td>null</td><td>null</td><td>null</td><td>61.0</td><td>56.0</td><td>950.0</td><td>4.71</td><td>4.72</td><td>2.91</td></tr><tr><td>&quot;75%&quot;</td><td>1.04</td><td>null</td><td>null</td><td>null</td><td>62.5</td><td>59.0</td><td>5325.0</td><td>6.54</td><td>6.54</td><td>4.04</td></tr></tbody></table></div>"
      ],
      "text/plain": [
       "shape: (9, 11)\n",
       "┌────────────┬──────────┬───────────┬───────┬───┬─────────────┬──────────┬──────────┬──────────┐\n",
       "│ describe   ┆ carat    ┆ cut       ┆ color ┆ … ┆ price       ┆ x        ┆ y        ┆ z        │\n",
       "│ ---        ┆ ---      ┆ ---       ┆ ---   ┆   ┆ ---         ┆ ---      ┆ ---      ┆ ---      │\n",
       "│ str        ┆ f64      ┆ str       ┆ str   ┆   ┆ f64         ┆ f64      ┆ f64      ┆ f64      │\n",
       "╞════════════╪══════════╪═══════════╪═══════╪═══╪═════════════╪══════════╪══════════╪══════════╡\n",
       "│ count      ┆ 53940.0  ┆ 53940     ┆ 53940 ┆ … ┆ 53940.0     ┆ 53940.0  ┆ 53940.0  ┆ 53940.0  │\n",
       "│ null_count ┆ 0.0      ┆ 0         ┆ 0     ┆ … ┆ 0.0         ┆ 0.0      ┆ 0.0      ┆ 0.0      │\n",
       "│ mean       ┆ 0.79794  ┆ null      ┆ null  ┆ … ┆ 3932.799722 ┆ 5.731157 ┆ 5.734526 ┆ 3.538734 │\n",
       "│ std        ┆ 0.474011 ┆ null      ┆ null  ┆ … ┆ 3989.439738 ┆ 1.121761 ┆ 1.142135 ┆ 0.705699 │\n",
       "│ min        ┆ 0.2      ┆ Fair      ┆ D     ┆ … ┆ 326.0       ┆ 0.0      ┆ 0.0      ┆ 0.0      │\n",
       "│ max        ┆ 5.01     ┆ Very Good ┆ J     ┆ … ┆ 18823.0     ┆ 10.74    ┆ 58.9     ┆ 31.8     │\n",
       "│ median     ┆ 0.7      ┆ null      ┆ null  ┆ … ┆ 2401.0      ┆ 5.7      ┆ 5.71     ┆ 3.53     │\n",
       "│ 25%        ┆ 0.4      ┆ null      ┆ null  ┆ … ┆ 950.0       ┆ 4.71     ┆ 4.72     ┆ 2.91     │\n",
       "│ 75%        ┆ 1.04     ┆ null      ┆ null  ┆ … ┆ 5325.0      ┆ 6.54     ┆ 6.54     ┆ 4.04     │\n",
       "└────────────┴──────────┴───────────┴───────┴───┴─────────────┴──────────┴──────────┴──────────┘"
      ]
     },
     "execution_count": 3,
     "metadata": {},
     "output_type": "execute_result"
    }
   ],
   "source": [
    "df.describe()"
   ]
  },
  {
   "cell_type": "code",
   "execution_count": 4,
   "metadata": {},
   "outputs": [
    {
     "data": {
      "text/html": [
       "<div><style>\n",
       ".dataframe > thead > tr > th,\n",
       ".dataframe > tbody > tr > td {\n",
       "  text-align: right;\n",
       "}\n",
       "</style>\n",
       "<small>shape: (5, 10)</small><table border=\"1\" class=\"dataframe\"><thead><tr><th>carat</th><th>cut</th><th>color</th><th>clarity</th><th>depth</th><th>table</th><th>price</th><th>x</th><th>y</th><th>z</th></tr><tr><td>f64</td><td>str</td><td>str</td><td>str</td><td>f64</td><td>f64</td><td>f64</td><td>f64</td><td>f64</td><td>f64</td></tr></thead><tbody><tr><td>-1.198157</td><td>&quot;Ideal&quot;</td><td>&quot;E&quot;</td><td>&quot;SI2&quot;</td><td>-0.17409</td><td>-1.099662</td><td>-0.904087</td><td>-1.587823</td><td>-1.536181</td><td>-1.571115</td></tr><tr><td>-1.24035</td><td>&quot;Premium&quot;</td><td>&quot;E&quot;</td><td>&quot;SI1&quot;</td><td>-1.360726</td><td>1.585514</td><td>-0.904087</td><td>-1.64131</td><td>-1.658759</td><td>-1.741159</td></tr><tr><td>-1.198157</td><td>&quot;Good&quot;</td><td>&quot;E&quot;</td><td>&quot;VS1&quot;</td><td>-3.384987</td><td>3.375631</td><td>-0.903836</td><td>-1.498677</td><td>-1.457382</td><td>-1.741159</td></tr><tr><td>-1.071577</td><td>&quot;Premium&quot;</td><td>&quot;I&quot;</td><td>&quot;VS2&quot;</td><td>0.454129</td><td>0.242926</td><td>-0.902081</td><td>-1.364959</td><td>-1.317293</td><td>-1.287708</td></tr><tr><td>-1.029384</td><td>&quot;Good&quot;</td><td>&quot;J&quot;</td><td>&quot;SI2&quot;</td><td>1.082348</td><td>0.242926</td><td>-0.901831</td><td>-1.240155</td><td>-1.212227</td><td>-1.117663</td></tr></tbody></table></div>"
      ],
      "text/plain": [
       "shape: (5, 10)\n",
       "┌───────────┬─────────┬───────┬─────────┬───┬───────────┬───────────┬───────────┬───────────┐\n",
       "│ carat     ┆ cut     ┆ color ┆ clarity ┆ … ┆ price     ┆ x         ┆ y         ┆ z         │\n",
       "│ ---       ┆ ---     ┆ ---   ┆ ---     ┆   ┆ ---       ┆ ---       ┆ ---       ┆ ---       │\n",
       "│ f64       ┆ str     ┆ str   ┆ str     ┆   ┆ f64       ┆ f64       ┆ f64       ┆ f64       │\n",
       "╞═══════════╪═════════╪═══════╪═════════╪═══╪═══════════╪═══════════╪═══════════╪═══════════╡\n",
       "│ -1.198157 ┆ Ideal   ┆ E     ┆ SI2     ┆ … ┆ -0.904087 ┆ -1.587823 ┆ -1.536181 ┆ -1.571115 │\n",
       "│ -1.24035  ┆ Premium ┆ E     ┆ SI1     ┆ … ┆ -0.904087 ┆ -1.64131  ┆ -1.658759 ┆ -1.741159 │\n",
       "│ -1.198157 ┆ Good    ┆ E     ┆ VS1     ┆ … ┆ -0.903836 ┆ -1.498677 ┆ -1.457382 ┆ -1.741159 │\n",
       "│ -1.071577 ┆ Premium ┆ I     ┆ VS2     ┆ … ┆ -0.902081 ┆ -1.364959 ┆ -1.317293 ┆ -1.287708 │\n",
       "│ -1.029384 ┆ Good    ┆ J     ┆ SI2     ┆ … ┆ -0.901831 ┆ -1.240155 ┆ -1.212227 ┆ -1.117663 │\n",
       "└───────────┴─────────┴───────┴─────────┴───┴───────────┴───────────┴───────────┴───────────┘"
      ]
     },
     "execution_count": 4,
     "metadata": {},
     "output_type": "execute_result"
    }
   ],
   "source": [
    "df = hp.scale_numeric(df)\n",
    "df.head()"
   ]
  },
  {
   "cell_type": "code",
   "execution_count": 5,
   "metadata": {},
   "outputs": [],
   "source": [
    "df = hp.make_lower_remove_special_chars(df)\n",
    "val_tokens = hp.get_unique_utf8_values(df)\n",
    "col_tokens = hp.get_col_tokens(df)"
   ]
  },
  {
   "cell_type": "code",
   "execution_count": 6,
   "metadata": {},
   "outputs": [
    {
     "data": {
      "text/html": [
       "<div><style>\n",
       ".dataframe > thead > tr > th,\n",
       ".dataframe > tbody > tr > td {\n",
       "  text-align: right;\n",
       "}\n",
       "</style>\n",
       "<small>shape: (5, 10)</small><table border=\"1\" class=\"dataframe\"><thead><tr><th>carat</th><th>cut</th><th>color</th><th>clarity</th><th>depth</th><th>table</th><th>price</th><th>x</th><th>y</th><th>z</th></tr><tr><td>f64</td><td>str</td><td>str</td><td>str</td><td>f64</td><td>f64</td><td>f64</td><td>f64</td><td>f64</td><td>f64</td></tr></thead><tbody><tr><td>-1.198157</td><td>&quot;ideal&quot;</td><td>&quot;e&quot;</td><td>&quot;si2&quot;</td><td>-0.17409</td><td>-1.099662</td><td>-0.904087</td><td>-1.587823</td><td>-1.536181</td><td>-1.571115</td></tr><tr><td>-1.24035</td><td>&quot;premium&quot;</td><td>&quot;e&quot;</td><td>&quot;si1&quot;</td><td>-1.360726</td><td>1.585514</td><td>-0.904087</td><td>-1.64131</td><td>-1.658759</td><td>-1.741159</td></tr><tr><td>-1.198157</td><td>&quot;good&quot;</td><td>&quot;e&quot;</td><td>&quot;vs1&quot;</td><td>-3.384987</td><td>3.375631</td><td>-0.903836</td><td>-1.498677</td><td>-1.457382</td><td>-1.741159</td></tr><tr><td>-1.071577</td><td>&quot;premium&quot;</td><td>&quot;i&quot;</td><td>&quot;vs2&quot;</td><td>0.454129</td><td>0.242926</td><td>-0.902081</td><td>-1.364959</td><td>-1.317293</td><td>-1.287708</td></tr><tr><td>-1.029384</td><td>&quot;good&quot;</td><td>&quot;j&quot;</td><td>&quot;si2&quot;</td><td>1.082348</td><td>0.242926</td><td>-0.901831</td><td>-1.240155</td><td>-1.212227</td><td>-1.117663</td></tr></tbody></table></div>"
      ],
      "text/plain": [
       "shape: (5, 10)\n",
       "┌───────────┬─────────┬───────┬─────────┬───┬───────────┬───────────┬───────────┬───────────┐\n",
       "│ carat     ┆ cut     ┆ color ┆ clarity ┆ … ┆ price     ┆ x         ┆ y         ┆ z         │\n",
       "│ ---       ┆ ---     ┆ ---   ┆ ---     ┆   ┆ ---       ┆ ---       ┆ ---       ┆ ---       │\n",
       "│ f64       ┆ str     ┆ str   ┆ str     ┆   ┆ f64       ┆ f64       ┆ f64       ┆ f64       │\n",
       "╞═══════════╪═════════╪═══════╪═════════╪═══╪═══════════╪═══════════╪═══════════╪═══════════╡\n",
       "│ -1.198157 ┆ ideal   ┆ e     ┆ si2     ┆ … ┆ -0.904087 ┆ -1.587823 ┆ -1.536181 ┆ -1.571115 │\n",
       "│ -1.24035  ┆ premium ┆ e     ┆ si1     ┆ … ┆ -0.904087 ┆ -1.64131  ┆ -1.658759 ┆ -1.741159 │\n",
       "│ -1.198157 ┆ good    ┆ e     ┆ vs1     ┆ … ┆ -0.903836 ┆ -1.498677 ┆ -1.457382 ┆ -1.741159 │\n",
       "│ -1.071577 ┆ premium ┆ i     ┆ vs2     ┆ … ┆ -0.902081 ┆ -1.364959 ┆ -1.317293 ┆ -1.287708 │\n",
       "│ -1.029384 ┆ good    ┆ j     ┆ si2     ┆ … ┆ -0.901831 ┆ -1.240155 ┆ -1.212227 ┆ -1.117663 │\n",
       "└───────────┴─────────┴───────┴─────────┴───┴───────────┴───────────┴───────────┴───────────┘"
      ]
     },
     "execution_count": 6,
     "metadata": {},
     "output_type": "execute_result"
    }
   ],
   "source": [
    "df.head()"
   ]
  },
  {
   "cell_type": "code",
   "execution_count": 7,
   "metadata": {},
   "outputs": [],
   "source": [
    "special_tokens = np.array(\n",
    "    [\n",
    "        \"missing\",\n",
    "        \"[MASK]\",\n",
    "        \"[NUMERIC]\",\n",
    "        \"<unk>\",\n",
    "        \":\",\n",
    "        \",\",\n",
    "        \"<row-start>\",\n",
    "        \"<row-end>\",\n",
    "    ]\n",
    ")"
   ]
  },
  {
   "cell_type": "code",
   "execution_count": 8,
   "metadata": {},
   "outputs": [
    {
     "data": {
      "text/plain": [
       "array([',', ':', '<numeric>', '<row-end>', '<row-start>', '<unk>',\n",
       "       '[MASK]', '[NUMERIC]', 'carat', 'clarity', 'color', 'cut', 'd',\n",
       "       'depth', 'e', 'f', 'fair', 'g', 'good', 'h', 'i', 'i1', 'ideal',\n",
       "       'if', 'j', 'missing', 'premium', 'price', 'si1', 'si2', 'table',\n",
       "       'very good', 'vs1', 'vs2', 'vvs1', 'vvs2', 'x', 'y', 'z'],\n",
       "      dtype=object)"
      ]
     },
     "execution_count": 8,
     "metadata": {},
     "output_type": "execute_result"
    }
   ],
   "source": [
    "tokens = np.unique(\n",
    "    np.concatenate(\n",
    "        (\n",
    "            val_tokens,\n",
    "            col_tokens,\n",
    "            special_tokens,\n",
    "            np.array(\n",
    "                [\n",
    "                    \"<numeric>\",\n",
    "                ]\n",
    "            ),\n",
    "        )\n",
    "    )\n",
    ")\n",
    "tokens"
   ]
  },
  {
   "cell_type": "markdown",
   "metadata": {},
   "source": [
    "# Train Test Split\n",
    "\n",
    "To show the actual model performance out of sample we split the data into a training and test set. The training set will be used to train the model and the test set will be used to evaluate the model performance. We will use 80% of the data for training and 20% for testing.\n",
    "\n",
    "We also remove the price column from the training and test sets and will only use a tiny subset of the data to simulate an industrial process with lots of input data but expensive and limited labeled data.\n"
   ]
  },
  {
   "cell_type": "code",
   "execution_count": 9,
   "metadata": {},
   "outputs": [
    {
     "data": {
      "text/html": [
       "<div><style>\n",
       ".dataframe > thead > tr > th,\n",
       ".dataframe > tbody > tr > td {\n",
       "  text-align: right;\n",
       "}\n",
       "</style>\n",
       "<small>shape: (1, 1)</small><table border=\"1\" class=\"dataframe\"><thead><tr><th>hash</th></tr><tr><td>u32</td></tr></thead><tbody><tr><td>685</td></tr></tbody></table></div>"
      ],
      "text/plain": [
       "shape: (1, 1)\n",
       "┌──────┐\n",
       "│ hash │\n",
       "│ ---  │\n",
       "│ u32  │\n",
       "╞══════╡\n",
       "│ 685  │\n",
       "└──────┘"
      ]
     },
     "execution_count": 9,
     "metadata": {},
     "output_type": "execute_result"
    }
   ],
   "source": [
    "df = (\n",
    "    df.with_columns(\n",
    "        pl.concat_str(pl.all().exclude(\"price\").cast(pl.Utf8)).alias(\"all_cols\")\n",
    "    )\n",
    "    .with_columns(\n",
    "        pl.col(\"all_cols\")\n",
    "        .apply(lambda x: hashlib.md5(x.encode()).hexdigest())\n",
    "        .alias(\"hash\")\n",
    "    )\n",
    "    .drop(\"all_cols\")\n",
    ")\n",
    "df.select(pl.col(\"hash\").is_duplicated().sum())"
   ]
  },
  {
   "cell_type": "code",
   "execution_count": 10,
   "metadata": {},
   "outputs": [
    {
     "data": {
      "text/html": [
       "<div><style>\n",
       ".dataframe > thead > tr > th,\n",
       ".dataframe > tbody > tr > td {\n",
       "  text-align: right;\n",
       "}\n",
       "</style>\n",
       "<small>shape: (5, 11)</small><table border=\"1\" class=\"dataframe\"><thead><tr><th>carat</th><th>cut</th><th>color</th><th>clarity</th><th>depth</th><th>table</th><th>price</th><th>x</th><th>y</th><th>z</th><th>hash</th></tr><tr><td>f64</td><td>str</td><td>str</td><td>str</td><td>f64</td><td>f64</td><td>f64</td><td>f64</td><td>f64</td><td>f64</td><td>str</td></tr></thead><tbody><tr><td>-1.198157</td><td>&quot;ideal&quot;</td><td>&quot;e&quot;</td><td>&quot;si2&quot;</td><td>-0.17409</td><td>-1.099662</td><td>-0.904087</td><td>-1.587823</td><td>-1.536181</td><td>-1.571115</td><td>&quot;501249736f26c3…</td></tr><tr><td>-1.24035</td><td>&quot;premium&quot;</td><td>&quot;e&quot;</td><td>&quot;si1&quot;</td><td>-1.360726</td><td>1.585514</td><td>-0.904087</td><td>-1.64131</td><td>-1.658759</td><td>-1.741159</td><td>&quot;5427305ea67a9e…</td></tr><tr><td>-1.198157</td><td>&quot;good&quot;</td><td>&quot;e&quot;</td><td>&quot;vs1&quot;</td><td>-3.384987</td><td>3.375631</td><td>-0.903836</td><td>-1.498677</td><td>-1.457382</td><td>-1.741159</td><td>&quot;155663ac256a0e…</td></tr><tr><td>-1.071577</td><td>&quot;premium&quot;</td><td>&quot;i&quot;</td><td>&quot;vs2&quot;</td><td>0.454129</td><td>0.242926</td><td>-0.902081</td><td>-1.364959</td><td>-1.317293</td><td>-1.287708</td><td>&quot;45ee1317264026…</td></tr><tr><td>-1.029384</td><td>&quot;good&quot;</td><td>&quot;j&quot;</td><td>&quot;si2&quot;</td><td>1.082348</td><td>0.242926</td><td>-0.901831</td><td>-1.240155</td><td>-1.212227</td><td>-1.117663</td><td>&quot;bce254e518e158…</td></tr></tbody></table></div>"
      ],
      "text/plain": [
       "shape: (5, 11)\n",
       "┌───────────┬─────────┬───────┬─────────┬───┬───────────┬───────────┬───────────┬──────────────────┐\n",
       "│ carat     ┆ cut     ┆ color ┆ clarity ┆ … ┆ x         ┆ y         ┆ z         ┆ hash             │\n",
       "│ ---       ┆ ---     ┆ ---   ┆ ---     ┆   ┆ ---       ┆ ---       ┆ ---       ┆ ---              │\n",
       "│ f64       ┆ str     ┆ str   ┆ str     ┆   ┆ f64       ┆ f64       ┆ f64       ┆ str              │\n",
       "╞═══════════╪═════════╪═══════╪═════════╪═══╪═══════════╪═══════════╪═══════════╪══════════════════╡\n",
       "│ -1.198157 ┆ ideal   ┆ e     ┆ si2     ┆ … ┆ -1.587823 ┆ -1.536181 ┆ -1.571115 ┆ 501249736f26c363 │\n",
       "│           ┆         ┆       ┆         ┆   ┆           ┆           ┆           ┆ d28b6e9f726ebfd7 │\n",
       "│ -1.24035  ┆ premium ┆ e     ┆ si1     ┆ … ┆ -1.64131  ┆ -1.658759 ┆ -1.741159 ┆ 5427305ea67a9e18 │\n",
       "│           ┆         ┆       ┆         ┆   ┆           ┆           ┆           ┆ 1ee6178b66eb4849 │\n",
       "│ -1.198157 ┆ good    ┆ e     ┆ vs1     ┆ … ┆ -1.498677 ┆ -1.457382 ┆ -1.741159 ┆ 155663ac256a0e96 │\n",
       "│           ┆         ┆       ┆         ┆   ┆           ┆           ┆           ┆ a7ba9e73a109b1f3 │\n",
       "│ -1.071577 ┆ premium ┆ i     ┆ vs2     ┆ … ┆ -1.364959 ┆ -1.317293 ┆ -1.287708 ┆ 45ee1317264026ce │\n",
       "│           ┆         ┆       ┆         ┆   ┆           ┆           ┆           ┆ 46c044703fc56817 │\n",
       "│ -1.029384 ┆ good    ┆ j     ┆ si2     ┆ … ┆ -1.240155 ┆ -1.212227 ┆ -1.117663 ┆ bce254e518e158ed │\n",
       "│           ┆         ┆       ┆         ┆   ┆           ┆           ┆           ┆ a6a46c0ce7407e77 │\n",
       "└───────────┴─────────┴───────┴─────────┴───┴───────────┴───────────┴───────────┴──────────────────┘"
      ]
     },
     "execution_count": 10,
     "metadata": {},
     "output_type": "execute_result"
    }
   ],
   "source": [
    "# Shuffle for randomness\n",
    "df = df.sample(fraction=1.0, seed=42)\n",
    "df.head()"
   ]
  },
  {
   "cell_type": "code",
   "execution_count": 11,
   "metadata": {},
   "outputs": [],
   "source": [
    "train_fraction = 0.8\n",
    "n_train = int(train_fraction * len(df))\n",
    "train_test_df = df.select(pl.all().exclude([\"price\", \"hash\"]))\n",
    "\n",
    "train, test = train_test_df.head(n_train), train_test_df.tail(\n",
    "    len(train_test_df) - n_train\n",
    ")"
   ]
  },
  {
   "cell_type": "code",
   "execution_count": 12,
   "metadata": {},
   "outputs": [
    {
     "data": {
      "text/plain": [
       "(shape: (5, 9)\n",
       " ┌───────────┬─────────┬───────┬─────────┬───┬───────────┬───────────┬───────────┬───────────┐\n",
       " │ carat     ┆ cut     ┆ color ┆ clarity ┆ … ┆ table     ┆ x         ┆ y         ┆ z         │\n",
       " │ ---       ┆ ---     ┆ ---   ┆ ---     ┆   ┆ ---       ┆ ---       ┆ ---       ┆ ---       │\n",
       " │ f64       ┆ str     ┆ str   ┆ str     ┆   ┆ f64       ┆ f64       ┆ f64       ┆ f64       │\n",
       " ╞═══════════╪═════════╪═══════╪═════════╪═══╪═══════════╪═══════════╪═══════════╪═══════════╡\n",
       " │ -1.198157 ┆ ideal   ┆ e     ┆ si2     ┆ … ┆ -1.099662 ┆ -1.587823 ┆ -1.536181 ┆ -1.571115 │\n",
       " │ -1.24035  ┆ premium ┆ e     ┆ si1     ┆ … ┆ 1.585514  ┆ -1.64131  ┆ -1.658759 ┆ -1.741159 │\n",
       " │ -1.198157 ┆ good    ┆ e     ┆ vs1     ┆ … ┆ 3.375631  ┆ -1.498677 ┆ -1.457382 ┆ -1.741159 │\n",
       " │ -1.071577 ┆ premium ┆ i     ┆ vs2     ┆ … ┆ 0.242926  ┆ -1.364959 ┆ -1.317293 ┆ -1.287708 │\n",
       " │ -1.029384 ┆ good    ┆ j     ┆ si2     ┆ … ┆ 0.242926  ┆ -1.240155 ┆ -1.212227 ┆ -1.117663 │\n",
       " └───────────┴─────────┴───────┴─────────┴───┴───────────┴───────────┴───────────┴───────────┘,\n",
       " (43152, 9))"
      ]
     },
     "execution_count": 12,
     "metadata": {},
     "output_type": "execute_result"
    }
   ],
   "source": [
    "train.head(), train.shape"
   ]
  },
  {
   "cell_type": "code",
   "execution_count": 13,
   "metadata": {},
   "outputs": [
    {
     "data": {
      "text/html": [
       "<div><style>\n",
       ".dataframe > thead > tr > th,\n",
       ".dataframe > tbody > tr > td {\n",
       "  text-align: right;\n",
       "}\n",
       "</style>\n",
       "<small>shape: (5, 9)</small><table border=\"1\" class=\"dataframe\"><thead><tr><th>carat</th><th>cut</th><th>color</th><th>clarity</th><th>depth</th><th>table</th><th>x</th><th>y</th><th>z</th></tr><tr><td>f64</td><td>str</td><td>str</td><td>str</td><td>f64</td><td>f64</td><td>f64</td><td>f64</td><td>f64</td></tr></thead><tbody><tr><td>-1.198157</td><td>&quot;ideal&quot;</td><td>&quot;e&quot;</td><td>&quot;si2&quot;</td><td>-0.17409</td><td>-1.099662</td><td>-1.587823</td><td>-1.536181</td><td>-1.571115</td></tr><tr><td>-1.24035</td><td>&quot;premium&quot;</td><td>&quot;e&quot;</td><td>&quot;si1&quot;</td><td>-1.360726</td><td>1.585514</td><td>-1.64131</td><td>-1.658759</td><td>-1.741159</td></tr><tr><td>-1.198157</td><td>&quot;good&quot;</td><td>&quot;e&quot;</td><td>&quot;vs1&quot;</td><td>-3.384987</td><td>3.375631</td><td>-1.498677</td><td>-1.457382</td><td>-1.741159</td></tr><tr><td>-1.071577</td><td>&quot;premium&quot;</td><td>&quot;i&quot;</td><td>&quot;vs2&quot;</td><td>0.454129</td><td>0.242926</td><td>-1.364959</td><td>-1.317293</td><td>-1.287708</td></tr><tr><td>-1.029384</td><td>&quot;good&quot;</td><td>&quot;j&quot;</td><td>&quot;si2&quot;</td><td>1.082348</td><td>0.242926</td><td>-1.240155</td><td>-1.212227</td><td>-1.117663</td></tr></tbody></table></div>"
      ],
      "text/plain": [
       "shape: (5, 9)\n",
       "┌───────────┬─────────┬───────┬─────────┬───┬───────────┬───────────┬───────────┬───────────┐\n",
       "│ carat     ┆ cut     ┆ color ┆ clarity ┆ … ┆ table     ┆ x         ┆ y         ┆ z         │\n",
       "│ ---       ┆ ---     ┆ ---   ┆ ---     ┆   ┆ ---       ┆ ---       ┆ ---       ┆ ---       │\n",
       "│ f64       ┆ str     ┆ str   ┆ str     ┆   ┆ f64       ┆ f64       ┆ f64       ┆ f64       │\n",
       "╞═══════════╪═════════╪═══════╪═════════╪═══╪═══════════╪═══════════╪═══════════╪═══════════╡\n",
       "│ -1.198157 ┆ ideal   ┆ e     ┆ si2     ┆ … ┆ -1.099662 ┆ -1.587823 ┆ -1.536181 ┆ -1.571115 │\n",
       "│ -1.24035  ┆ premium ┆ e     ┆ si1     ┆ … ┆ 1.585514  ┆ -1.64131  ┆ -1.658759 ┆ -1.741159 │\n",
       "│ -1.198157 ┆ good    ┆ e     ┆ vs1     ┆ … ┆ 3.375631  ┆ -1.498677 ┆ -1.457382 ┆ -1.741159 │\n",
       "│ -1.071577 ┆ premium ┆ i     ┆ vs2     ┆ … ┆ 0.242926  ┆ -1.364959 ┆ -1.317293 ┆ -1.287708 │\n",
       "│ -1.029384 ┆ good    ┆ j     ┆ si2     ┆ … ┆ 0.242926  ┆ -1.240155 ┆ -1.212227 ┆ -1.117663 │\n",
       "└───────────┴─────────┴───────┴─────────┴───┴───────────┴───────────┴───────────┴───────────┘"
      ]
     },
     "execution_count": 13,
     "metadata": {},
     "output_type": "execute_result"
    }
   ],
   "source": [
    "train_test_df.head()"
   ]
  },
  {
   "cell_type": "code",
   "execution_count": 14,
   "metadata": {},
   "outputs": [
    {
     "name": "stdout",
     "output_type": "stream",
     "text": [
      "38\n"
     ]
    }
   ],
   "source": [
    "ds = hp.TabularDataset(\n",
    "    train,\n",
    "    tokens,\n",
    "    special_tokens=special_tokens,\n",
    "    shuffle_cols=True,\n",
    "    max_row_length=50,\n",
    ")\n",
    "\n",
    "print(len(ds[0]))"
   ]
  },
  {
   "cell_type": "code",
   "execution_count": 15,
   "metadata": {},
   "outputs": [
    {
     "name": "stdout",
     "output_type": "stream",
     "text": [
      "<row-start>color:e,table:1.5855140097261475,y:-1.6587588116247007,depth:-1.3607258727059102,cut:premium,carat:-1.2403497908694328,x:-1.6413100716719282,clarity:si1,z:-1.7411588294109859,<row-end>\n"
     ]
    }
   ],
   "source": [
    "row = [str(i.value) for i in ds[1]]\n",
    "print(\"\".join(row))"
   ]
  },
  {
   "cell_type": "code",
   "execution_count": 16,
   "metadata": {},
   "outputs": [
    {
     "name": "stdout",
     "output_type": "stream",
     "text": [
      "['<row-start>', 'clarity', ':', 'si2', ',', 'color', ':', 'e', ',', 'x', ':', -1.5878227303011756, ',', 'cut', ':', 'ideal', ',', 'table', ':', -1.0996617971586031, ',', 'depth', ':', -0.17408989455083768, ',', 'carat', ':', -1.1981566989627475, ',', 'z', ':', -1.5711146235593887, ',', 'y', ':', -1.5361813230221135, ',', '<row-end>']\n"
     ]
    }
   ],
   "source": [
    "print([i.value for i in ds[0]])"
   ]
  },
  {
   "cell_type": "code",
   "execution_count": 17,
   "metadata": {},
   "outputs": [
    {
     "name": "stdout",
     "output_type": "stream",
     "text": [
      "mps\n"
     ]
    }
   ],
   "source": [
    "if torch.backends.mps.is_built():\n",
    "    device_name = \"mps\"\n",
    "elif torch.cuda.is_available():\n",
    "    device_name = \"cuda\"\n",
    "else:\n",
    "    device_name = \"cpu\"\n",
    "device = torch.device(device_name)\n",
    "print(device)"
   ]
  },
  {
   "cell_type": "code",
   "execution_count": null,
   "metadata": {},
   "outputs": [],
   "source": []
  },
  {
   "cell_type": "code",
   "execution_count": 18,
   "metadata": {},
   "outputs": [],
   "source": [
    "# n_token = len(ds.vocab)  # size of vocabulary\n",
    "# d_model = 96  # embedding dimension\n",
    "# d_hid = 1_000  # dimension of the feedforward network model in ``nn.TransformerEncoder``\n",
    "# n_layers = 6  # number of ``nn.TransformerEncoderLayer`` in ``nn.TransformerEncoder``\n",
    "# n_head = 6  # number of heads in ``nn.MultiheadAttention``\n",
    "# dropout = 0.2  # dropout probability\n",
    "# model = hp.TransformerModel(\n",
    "#     n_token, d_model, n_head, d_hid, n_layers, device, dropout\n",
    "# ).to(device)\n",
    "model = hp.TransformerModel(device=device).to(device)\n",
    "data, targets, is_numeric_mask = hp.batch_data(ds, 1, model, n_row=1)"
   ]
  },
  {
   "cell_type": "code",
   "execution_count": 19,
   "metadata": {},
   "outputs": [],
   "source": [
    "import copy\n",
    "import time\n",
    "\n",
    "\n",
    "lr = 0.9  # learning rate\n",
    "optimizer = torch.optim.SGD(model.parameters(), lr=lr)\n",
    "# scheduler = torch.optim.lr_scheduler.StepLR(optimizer, step_size =100, gamma=0.5)\n",
    "scheduler = torch.optim.lr_scheduler.ReduceLROnPlateau(\n",
    "    optimizer,\n",
    "    mode=\"min\",\n",
    "    factor=0.8,\n",
    "    patience=5,\n",
    "    threshold=0.001,\n",
    "    threshold_mode=\"rel\",\n",
    "    cooldown=0,\n",
    "    min_lr=0.01,\n",
    "    eps=1e-08,\n",
    "    verbose=False,\n",
    ")\n",
    "\n",
    "\n",
    "def train(model: nn.Module, epochs=1, model_name=\"\") -> None:\n",
    "    model.train()  # turn on train mode\n",
    "    total_loss = 0.0\n",
    "    log_interval = 1000\n",
    "    lr_eval_interval = 25\n",
    "    n_row = 2  # one because it's not time series\n",
    "    start_time = time.time()\n",
    "    for epoch in trange(1, epochs + 1, leave=True, desc=\"Epoch\"):\n",
    "        pbar = trange(0, len(ds) - 1, n_row, desc=f\"Batch for {epoch}/{epochs}\")\n",
    "        writer = SummaryWriter(\"runs/\" + model_name + \"_run_\" + str(epoch))\n",
    "        for batch, i in enumerate(pbar):\n",
    "            data, targets = hp.batch_data(\n",
    "                ds, i, model, n_row=n_row\n",
    "            )  # hp.batch_data(ds, 1, model, n_row=1)\n",
    "            class_preds, numeric_preds = model(data)\n",
    "            loss, loss_dict = hp.hephaestus_loss(\n",
    "                class_preds, numeric_preds, targets, model\n",
    "            )\n",
    "            num_loss = loss_dict[\"reg_loss\"].item()\n",
    "            class_loss = loss_dict[\"class_loss\"].item()\n",
    "            writer.add_scalar(\"Loss/total_loss\", loss, batch)\n",
    "            writer.add_scalar(\"Loss/numeric_loss\", num_loss, batch)\n",
    "            writer.add_scalar(\"Loss/class_loss\", class_loss, batch)\n",
    "            writer.add_scalar(\n",
    "                \"Metrics/learning_rate\", optimizer.param_groups[0][\"lr\"], batch\n",
    "            )\n",
    "            optimizer.zero_grad()\n",
    "            loss.backward()\n",
    "            torch.nn.utils.clip_grad_norm_(model.parameters(), 0.1)\n",
    "            optimizer.step()\n",
    "            pbar.set_postfix(\n",
    "                {\n",
    "                    \"tl\": f\"{loss:.2f}\",\n",
    "                    \"cl\": f\"{class_loss:.2f}\",\n",
    "                    \"nl\": f\"{num_loss:.2f}\",\n",
    "                    \"tr\": f\"{optimizer.param_groups[0]['lr']:.2f}\",\n",
    "                },\n",
    "                refresh=True,\n",
    "            )\n",
    "            total_loss += loss.item()\n",
    "            if batch % lr_eval_interval == 0:\n",
    "                # pbar.set_p(\n",
    "                #     f\"tl: {}, nl: {num_loss:.2f}, cl: {class_loss:.2f}, tr: {optimizer.param_groups[0]['lr']:.2f}\"\n",
    "                # )\n",
    "\n",
    "                scheduler.step(loss)\n",
    "\n",
    "                start_time = time.time()\n",
    "                # scheduler.step(loss)\n",
    "        writer.close()"
   ]
  },
  {
   "cell_type": "code",
   "execution_count": 20,
   "metadata": {},
   "outputs": [
    {
     "data": {
      "text/plain": [
       "torch.Size([3, 10])"
      ]
     },
     "execution_count": 20,
     "metadata": {},
     "output_type": "execute_result"
    }
   ],
   "source": [
    "is_numeric_mask = [True, False, True, True, False]\n",
    "random_nums = torch.rand(len(is_numeric_mask), 10).to(device)\n",
    "actual_num_index = [idx for idx, val in enumerate(is_numeric_mask) if val]\n",
    "actual_num_index = torch.tensor(actual_num_index).to(device)\n",
    "random_nums[actual_num_index].shape"
   ]
  },
  {
   "cell_type": "code",
   "execution_count": 104,
   "metadata": {},
   "outputs": [
    {
     "data": {
      "application/vnd.jupyter.widget-view+json": {
       "model_id": "0c52ac3046a445c1909bda46928d9c93",
       "version_major": 2,
       "version_minor": 0
      },
      "text/plain": [
       "Epoch:   0%|          | 0/1 [00:00<?, ?it/s]"
      ]
     },
     "metadata": {},
     "output_type": "display_data"
    },
    {
     "data": {
      "application/vnd.jupyter.widget-view+json": {
       "model_id": "b395851ec3234cefb7d90449677348ce",
       "version_major": 2,
       "version_minor": 0
      },
      "text/plain": [
       "Batch for 1/1:   0%|          | 0/43151 [00:00<?, ?it/s]"
      ]
     },
     "metadata": {},
     "output_type": "display_data"
    }
   ],
   "source": [
    "lr = 0.1  # learning rate\n",
    "optimizer = torch.optim.SGD(model.parameters(), lr=lr)\n",
    "# scheduler = torch.optim.lr_scheduler.StepLR(optimizer, step_size =100, gamma=0.5)\n",
    "scheduler = torch.optim.lr_scheduler.ReduceLROnPlateau(\n",
    "    optimizer,\n",
    "    mode=\"min\",\n",
    "    factor=0.8,\n",
    "    patience=5,\n",
    "    threshold=0.001,\n",
    "    threshold_mode=\"rel\",\n",
    "    cooldown=0,\n",
    "    min_lr=0.0001,\n",
    "    eps=1e-08,\n",
    "    verbose=False,\n",
    ")\n",
    "\n",
    "epochs = 1\n",
    "model_name = \"diamonds_scaled_lowerMin\"\n",
    "model.train()  # turn on train mode\n",
    "total_loss = 0.0\n",
    "log_interval = 1000\n",
    "lr_eval_interval = 25\n",
    "n_row = 1  # one because it's not time series\n",
    "start_time = time.time()\n",
    "for epoch in trange(1, epochs + 1, leave=True, desc=\"Epoch\"):\n",
    "    pbar = trange(0, len(ds) - 1, n_row, desc=f\"Batch for {epoch}/{epochs}\")\n",
    "    writer = SummaryWriter(\"runs/\" + model_name + \"_run_\" + str(epoch))\n",
    "    for batch, i in enumerate(pbar):\n",
    "        data, target, is_numeric_mask = hp.batch_data(\n",
    "            ds, i, model, n_row=n_row\n",
    "        )  # hp.batch_data(ds, 1, model, n_row=1)\n",
    "        class_preds, numeric_preds = model(data)\n",
    "        loss, loss_dict = hp.hephaestus_loss(\n",
    "            class_preds, numeric_preds, target, is_numeric_mask, model\n",
    "        )\n",
    "        num_loss = loss_dict[\"reg_loss\"].item()\n",
    "        class_loss = loss_dict[\"class_loss\"].item()\n",
    "        writer.add_scalar(\"Loss/total_loss\", loss, batch)\n",
    "        writer.add_scalar(\"Loss/numeric_loss\", num_loss, batch)\n",
    "        writer.add_scalar(\"Loss/class_loss\", class_loss, batch)\n",
    "        writer.add_scalar(\n",
    "            \"Metrics/learning_rate\", optimizer.param_groups[0][\"lr\"], batch\n",
    "        )\n",
    "        optimizer.zero_grad()\n",
    "        loss.backward()\n",
    "        torch.nn.utils.clip_grad_norm_(model.parameters(), 0.1)\n",
    "        optimizer.step()\n",
    "        pbar.set_postfix(\n",
    "            {\n",
    "                \"tl\": f\"{loss:.2f}\",\n",
    "                \"cl\": f\"{class_loss:.2f}\",\n",
    "                \"nl\": f\"{num_loss:.2f}\",\n",
    "                \"tr\": f\"{optimizer.param_groups[0]['lr']:.2f}\",\n",
    "            },\n",
    "            refresh=True,\n",
    "        )\n",
    "        total_loss += loss.item()\n",
    "        if batch % lr_eval_interval == 0:\n",
    "            # pbar.set_p(\n",
    "            #     f\"tl: {}, nl: {num_loss:.2f}, cl: {class_loss:.2f}, tr: {optimizer.param_groups[0]['lr']:.2f}\"\n",
    "            # )\n",
    "\n",
    "            scheduler.step(loss)\n",
    "\n",
    "            start_time = time.time()\n",
    "            # scheduler.step(loss)\n",
    "    writer.close()"
   ]
  },
  {
   "cell_type": "code",
   "execution_count": 105,
   "metadata": {},
   "outputs": [],
   "source": [
    "# save model\n",
    "torch.save(model.state_dict(), \"models/BERTDiamondsBetter.pt\")\n",
    "# model.save_pretrained('models/BERTDiamonds.pt')"
   ]
  },
  {
   "cell_type": "code",
   "execution_count": 22,
   "metadata": {},
   "outputs": [
    {
     "name": "stdout",
     "output_type": "stream",
     "text": [
      "class_preds.shape: torch.Size([1, 43, 30527]), target_tensor.shape: torch.Size([43])\n"
     ]
    }
   ],
   "source": [
    "data, target, is_numeric_mask = hp.batch_data(\n",
    "    ds, 5, model, n_row=1\n",
    ")  # hp.batch_data(ds, 1, model, n_row=1)\n",
    "target_tensor = hp.gen_class_target_tokens(model, target)\n",
    "class_preds, numeric_preds = model(data)\n",
    "print(\n",
    "    f\"class_preds.shape: {class_preds.shape}, target_tensor.shape: {target_tensor.shape}\"\n",
    ")"
   ]
  },
  {
   "cell_type": "code",
   "execution_count": 77,
   "metadata": {},
   "outputs": [],
   "source": [
    "data, target, is_numeric_mask = hp.batch_data(ds, 0, model, n_row=1)\n",
    "with torch.no_grad():\n",
    "    class_preds, numeric_preds = model(data)"
   ]
  },
  {
   "cell_type": "code",
   "execution_count": 78,
   "metadata": {},
   "outputs": [
    {
     "name": "stdout",
     "output_type": "stream",
     "text": [
      "[CLS] <row-start> z : [numeric], y : [numeric], clarity : si1, cut : ideal, table : [numeric], depth : [numeric], x : [numeric], carat : [numeric], color : e, <row-end>\n"
     ]
    }
   ],
   "source": [
    "class_preds_max = torch.argmax(class_preds.squeeze(), dim=1)\n",
    "class_preds_decode = model.tokenizer.decode(class_preds_max)\n",
    "print(class_preds_decode)"
   ]
  },
  {
   "cell_type": "code",
   "execution_count": 79,
   "metadata": {},
   "outputs": [
    {
     "name": "stdout",
     "output_type": "stream",
     "text": [
      " <row-start> z : -1.0915077924728394 , y : -1.0985910892486572 , clarity : si ##1 , cut : ideal , table : -0.740872323513031 , depth : -0.5159561634063721 , x : -0.8603442907333374 , cara ##t : -0.8042788505554199 , color : e , <row-end>\n"
     ]
    }
   ],
   "source": [
    "class_numeric = []\n",
    "for idx, num in enumerate(class_preds_max):\n",
    "    decoded_num = model.tokenizer.decode([num], skip_special_tokens=True)\n",
    "    # print(decoded_num)\n",
    "    if decoded_num == \"[numeric]\":\n",
    "        class_numeric.append(str(numeric_preds.squeeze()[idx].item()))\n",
    "    else:\n",
    "        class_numeric.append(decoded_num)\n",
    "print(\" \".join(class_numeric))"
   ]
  },
  {
   "cell_type": "code",
   "execution_count": 80,
   "metadata": {},
   "outputs": [
    {
     "name": "stdout",
     "output_type": "stream",
     "text": [
      "<row-start> z : -1.5711146235593887 , y : -1.5361813230221135 , clarity : si2 , cut : ideal , table : -1.0996617971586031 , depth : -0.17408989455083768 , x : -1.5878227303011756 , carat : -1.1981566989627475 , color : e , <row-end>\n"
     ]
    }
   ],
   "source": [
    "actuals = []\n",
    "for i in target:\n",
    "    actuals.append(str(i.value))\n",
    "print(\" \".join(actuals))"
   ]
  },
  {
   "cell_type": "code",
   "execution_count": null,
   "metadata": {},
   "outputs": [],
   "source": [
    "from datetime import datetime as dt\n",
    "\n",
    "model_time = dt.now()\n",
    "model_time = model_time.strftime(\"%Y-%m-%dT%H:%M:%S\")\n",
    "\n",
    "exp_name = \"non-scale\"\n",
    "\n",
    "model_name = model_time + \"_\" + exp_name\n",
    "epochs = 3\n",
    "train(model=model, epochs=epochs, model_name=model_name)"
   ]
  },
  {
   "cell_type": "code",
   "execution_count": null,
   "metadata": {},
   "outputs": [],
   "source": [
    "ds_test = hp.TabularDataset(\n",
    "    test,\n",
    "    tokens,\n",
    "    special_tokens=special_tokens,\n",
    "    shuffle_cols=False,\n",
    "    max_row_length=50,\n",
    ")"
   ]
  },
  {
   "cell_type": "code",
   "execution_count": null,
   "metadata": {},
   "outputs": [],
   "source": [
    "res = hp.evaluate_custom(model, ds_test, 1)"
   ]
  },
  {
   "cell_type": "code",
   "execution_count": null,
   "metadata": {},
   "outputs": [],
   "source": []
  }
 ],
 "metadata": {
  "kernelspec": {
   "display_name": "pytorch",
   "language": "python",
   "name": "python3"
  },
  "language_info": {
   "codemirror_mode": {
    "name": "ipython",
    "version": 3
   },
   "file_extension": ".py",
   "mimetype": "text/x-python",
   "name": "python",
   "nbconvert_exporter": "python",
   "pygments_lexer": "ipython3",
   "version": "3.11.3"
  },
  "orig_nbformat": 4
 },
 "nbformat": 4,
 "nbformat_minor": 2
}
