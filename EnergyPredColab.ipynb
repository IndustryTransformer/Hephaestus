{
 "cells": [
  {
   "cell_type": "markdown",
   "metadata": {
    "id": "trbcfMV6vked"
   },
   "source": [
    "<https://www.kaggle.com/competitions/predict-energy-behavior-of-prosumers>\n"
   ]
  },
  {
   "cell_type": "code",
   "execution_count": 1,
   "metadata": {
    "id": "yKsx1R26dLGC"
   },
   "outputs": [],
   "source": [
    "import os\n",
    "\n",
    "os.environ[\"XLA_PYTHON_CLIENT_MEM_FRACTION\"] = \"0.95\""
   ]
  },
  {
   "cell_type": "code",
   "execution_count": 2,
   "metadata": {
    "colab": {
     "base_uri": "https://localhost:8080/"
    },
    "executionInfo": {
     "elapsed": 2102,
     "status": "ok",
     "timestamp": 1708903394514,
     "user": {
      "displayName": "Kai Lukowiak",
      "userId": "12340107642472090190"
     },
     "user_tz": 420
    },
    "id": "RYm4WOeS1B8x",
    "outputId": "a5c71de2-9597-4fcb-a9a7-b743f1a29feb"
   },
   "outputs": [
    {
     "data": {
      "text/plain": [
       "{cuda(id=0)}"
      ]
     },
     "execution_count": 2,
     "metadata": {},
     "output_type": "execute_result"
    }
   ],
   "source": [
    "import jax.numpy as jnp  # Oddly works in colab to set gpu\n",
    "\n",
    "arr = jnp.array([1, 2, 3])\n",
    "arr.devices()"
   ]
  },
  {
   "cell_type": "code",
   "execution_count": 3,
   "metadata": {
    "id": "Jqmm_5s9KXkI"
   },
   "outputs": [],
   "source": [
    "import icecream\n",
    "from icecream import ic\n",
    "\n",
    "icecream.install()\n",
    "ic_disable = True\n",
    "if ic_disable:\n",
    "    ic.disable()"
   ]
  },
  {
   "cell_type": "code",
   "execution_count": 4,
   "metadata": {
    "colab": {
     "base_uri": "https://localhost:8080/"
    },
    "executionInfo": {
     "elapsed": 18045,
     "status": "ok",
     "timestamp": 1708903436762,
     "user": {
      "displayName": "Kai Lukowiak",
      "userId": "12340107642472090190"
     },
     "user_tz": 420
    },
    "id": "oSKniUdxtiTd",
    "outputId": "49871258-6ef7-4956-ad3b-90af827f7253"
   },
   "outputs": [
    {
     "name": "stderr",
     "output_type": "stream",
     "text": [
      "2024-03-11 02:24:59.103331: E external/local_xla/xla/stream_executor/cuda/cuda_dnn.cc:9261] Unable to register cuDNN factory: Attempting to register factory for plugin cuDNN when one has already been registered\n",
      "2024-03-11 02:24:59.103382: E external/local_xla/xla/stream_executor/cuda/cuda_fft.cc:607] Unable to register cuFFT factory: Attempting to register factory for plugin cuFFT when one has already been registered\n",
      "2024-03-11 02:24:59.104656: E external/local_xla/xla/stream_executor/cuda/cuda_blas.cc:1515] Unable to register cuBLAS factory: Attempting to register factory for plugin cuBLAS when one has already been registered\n",
      "2024-03-11 02:24:59.846813: W tensorflow/compiler/tf2tensorrt/utils/py_utils.cc:38] TF-TRT Warning: Could not find TensorRT\n"
     ]
    }
   ],
   "source": [
    "import os\n",
    "from dataclasses import dataclass, field\n",
    "from datetime import datetime as dt\n",
    "from itertools import chain\n",
    "\n",
    "import hephaestus as hp\n",
    "import jax\n",
    "import jax.numpy as jnp\n",
    "import matplotlib.pyplot as plt\n",
    "import numpy as np\n",
    "import optax\n",
    "import pandas as pd\n",
    "import seaborn as sns\n",
    "from flax import linen as nn\n",
    "from flax import struct  # Flax dataclasses\n",
    "from flax.training import checkpoints, train_state\n",
    "from flax.training.early_stopping import EarlyStopping\n",
    "from icecream import ic\n",
    "from jax import profiler, random\n",
    "from jax.tree_util import tree_flatten\n",
    "from torch.utils.tensorboard import SummaryWriter\n",
    "from tqdm.notebook import tqdm, trange\n",
    "\n",
    "pd.options.mode.copy_on_write = True"
   ]
  },
  {
   "cell_type": "code",
   "execution_count": 5,
   "metadata": {
    "id": "O2BHtoMimaBd"
   },
   "outputs": [],
   "source": [
    "data = pd.read_parquet(\"data/processed_energy.parquet\")"
   ]
  },
  {
   "cell_type": "code",
   "execution_count": 6,
   "metadata": {
    "id": "Aju_XU24Licx"
   },
   "outputs": [],
   "source": [
    "def sinify_datetime(df, col):\n",
    "    df[col + \"_base_year\"] = df[col].dt.year\n",
    "    df[col + \"_day_sin\"] = np.sin(2 * np.pi * df[col].dt.day / 365.25)\n",
    "    df[col + \"_day_cos\"] = np.cos(2 * np.pi * df[col].dt.day / 365.25)\n",
    "    df[col + \"_hour_sin\"] = np.sin(2 * np.pi * df[col].dt.hour / 24)\n",
    "    df[col + \"_hour_cos\"] = np.cos(2 * np.pi * df[col].dt.hour / 24)\n",
    "    df[col + \"_is_weekend\"] = (\n",
    "        df[col].dt.dayofweek.isin([5, 6]).astype(str).map({\"True\": 1, \"False\": 0})\n",
    "    )\n",
    "\n",
    "    return df"
   ]
  },
  {
   "cell_type": "code",
   "execution_count": 7,
   "metadata": {
    "id": "4RZof2SNKXkK"
   },
   "outputs": [],
   "source": [
    "batch_size = 3120 // 2 * 1\n",
    "train_ds = hp.TabularTimeSeriesData(\n",
    "    data.copy(),\n",
    "    batch_size=batch_size,  # target_column=\"euros_per_mwh\"\n",
    "    target_column=\"target\",\n",
    "    train=True,\n",
    ")"
   ]
  },
  {
   "cell_type": "code",
   "execution_count": 8,
   "metadata": {},
   "outputs": [],
   "source": [
    "test_ds = hp.TabularTimeSeriesData(\n",
    "    data.copy(),\n",
    "    batch_size=batch_size,  # target_column=\"euros_per_mwh\"\n",
    "    target_column=\"target\",\n",
    "    train=False,\n",
    ")"
   ]
  },
  {
   "cell_type": "code",
   "execution_count": 9,
   "metadata": {},
   "outputs": [
    {
     "data": {
      "text/plain": [
       "(4, 4)"
      ]
     },
     "execution_count": 9,
     "metadata": {},
     "output_type": "execute_result"
    }
   ],
   "source": [
    "test_ds.n_cat_cols, train_ds.n_cat_cols"
   ]
  },
  {
   "cell_type": "code",
   "execution_count": 10,
   "metadata": {
    "id": "Y4b7IkMWKXkK"
   },
   "outputs": [],
   "source": [
    "time_series_regressor = hp.time_series.MaskedTimeSeriesRegClass(\n",
    "    train_ds, d_model=64 * 4\n",
    ")"
   ]
  },
  {
   "cell_type": "code",
   "execution_count": 11,
   "metadata": {
    "id": "pMS-gjmiVGsn"
   },
   "outputs": [],
   "source": [
    "def calculate_memory_footprint(params):\n",
    "    \"\"\"Calculate total memory footprint of JAX model parameters.\"\"\"\n",
    "    total_bytes = 0\n",
    "    # Flatten the parameter tree structure into a list of arrays\n",
    "    flat_params, _ = tree_flatten(params)\n",
    "    for param in flat_params:\n",
    "        # Calculate bytes: number of elements * size of each element\n",
    "        bytes_per_param = param.size * param.dtype.itemsize\n",
    "        total_bytes += bytes_per_param\n",
    "    return total_bytes"
   ]
  },
  {
   "cell_type": "code",
   "execution_count": 12,
   "metadata": {
    "id": "vgs982mAKXkM"
   },
   "outputs": [
    {
     "name": "stdout",
     "output_type": "stream",
     "text": [
      "(1, 1560, 65) (1, 1560, 65)\n",
      "(1, 1560, 1) (1, 1560, 1)\n",
      "(1, 1560, 4) (1, 1560, 4)\n"
     ]
    }
   ],
   "source": [
    "@struct.dataclass\n",
    "class Batch:\n",
    "    numeric: jnp.ndarray\n",
    "    categorical: jnp.ndarray\n",
    "    y: jnp.ndarray\n",
    "\n",
    "    @classmethod\n",
    "    def from_ds_idx(\n",
    "        cls,\n",
    "        ds: hp.TabularTimeSeriesData,\n",
    "        start: int = None,\n",
    "        count: int = None,\n",
    "        arr: list = None,\n",
    "    ):\n",
    "        numeric_list = []\n",
    "        categorical_list = []\n",
    "        y_list = []\n",
    "\n",
    "        if (start is None and count is not None) or (\n",
    "            start is not None and count is None\n",
    "        ):\n",
    "            if count is None:\n",
    "                problem = \"count\"\n",
    "            else:\n",
    "                problem = \"start\"\n",
    "            raise ValueError(\n",
    "                \"Both `count` and `start` must be defined or neither\"\n",
    "                + f\"got only {problem} defined\"\n",
    "            )\n",
    "        if (start is None) and (arr is None):\n",
    "            raise ValueError(\"Do not provide start/count and arr values\")\n",
    "\n",
    "        if arr is not None:\n",
    "            indexer = arr\n",
    "\n",
    "        else:\n",
    "            indexer = range(start + 1, start + count + 1)\n",
    "\n",
    "        for idx in indexer:\n",
    "            if arr is not None:\n",
    "                idx = idx.item()\n",
    "            categorical, numeric, y = ds[idx]\n",
    "            numeric_list.append(numeric)\n",
    "            categorical_list.append(categorical)\n",
    "            y_list.append(y)\n",
    "\n",
    "        numeric = jnp.array(numeric_list)\n",
    "        categorical = jnp.array(categorical_list)\n",
    "        y = jnp.array(y_list)\n",
    "        return cls(numeric=numeric, categorical=categorical, y=y)\n",
    "\n",
    "\n",
    "ts_train = Batch.from_ds_idx(train_ds, 0, 1)\n",
    "ts_test = Batch.from_ds_idx(test_ds, 0, 1)\n",
    "print(ts_train.numeric.shape, ts_test.numeric.shape)\n",
    "print(ts_train.y.shape, ts_test.y.shape)\n",
    "print(ts_train.categorical.shape, ts_test.categorical.shape)\n",
    "\n",
    "assert ts_train.categorical.shape == ts_test.categorical.shape"
   ]
  },
  {
   "cell_type": "code",
   "execution_count": 13,
   "metadata": {},
   "outputs": [
    {
     "data": {
      "text/plain": [
       "((1, 1560, 4), (1, 1560, 4))"
      ]
     },
     "execution_count": 13,
     "metadata": {},
     "output_type": "execute_result"
    }
   ],
   "source": [
    "ts_train.categorical.shape, ts_test.categorical.shape"
   ]
  },
  {
   "cell_type": "code",
   "execution_count": 14,
   "metadata": {
    "colab": {
     "base_uri": "https://localhost:8080/",
     "height": 49,
     "referenced_widgets": [
      "4dd64f565fcf4b259ef24944493477bf",
      "25ce5408138f4cb28e163f1fdffdee5f",
      "47793d3155614c8cbd7d3337dcb2f895",
      "f9ec11073e484927a4cc1ee2e3da132f",
      "62e750769d364ab2b80d5b9646b10ea6",
      "8b35a70a3b9e4f3b87cf2a7280439ac6",
      "0e26d28846fb449789510e4748c01c6a",
      "f8093c8ddeec4c55ac6cc5f8f7df30bf",
      "4151c7353de54909aa9deecbe8c1e1e1",
      "9ced4485d5c641eda90ab0634e0691d3",
      "6f5ca39406174a4fb1bee9eb1e35fccb",
      "5e15315a77864badafe48c2baf31b030",
      "dfd9dd713862479bba73b6c0a12a1902",
      "88be535ce5a945f4979fe72d9f086365",
      "31d37adf891a4da68675945509051210",
      "4da9993585914618a35d8d5382fef850",
      "acee2c1ed91e44188d5ca40bddace4b1",
      "cc57eeb92d32434ca82b7c3f669865d1",
      "f8382d8bbb7f42f6a0f4d4028203615f",
      "851b29291123491a821b1ce8088ca785",
      "055681c8159b4b6c8104d4e06279803c",
      "9f5e5843559b4f9e8f3440ebd85743f8",
      "a317a54aa1a349f490e388aacb2d1e4d",
      "c470a61e692a4459988f63f0024f7eac",
      "5edd903b07594d128ded9b4844835159",
      "2ac0cceac38e43adb00a10b778fad2df",
      "c7f61bdee3ca4ca0a3f7d021aa558deb",
      "70c7b641da5c4b82bbd5b2e1750f3b39",
      "462d9e93a94f44868fec1ece82f0a241",
      "4bc81f6d94394d7f90e070d8b11a7059",
      "d3bc58d04d5f42a5a24bd467a9569e01",
      "ddb1791795134ac0a754748f9793c214",
      "d95aea2b915b44f38b5090ee186abafd",
      "01ca2dcb14e647dfb1e68750ca6de39c",
      "a51aa7b827db4f768dce6315dbebf379",
      "634935ff0a6b4d65b72f87359d9f82fc",
      "09b63c98bee543dfb557a007d50c41d1",
      "dc4a8a3b0a8b4ef49dcd6269a1b32e14",
      "5f1fb4d40e154e27baa0d4f330df540e",
      "948787e6434f419a86d9d7da831e2572",
      "e4de75777bba4d72b61936baf3d84cbb",
      "0481743e80634f7a8e718fb528950e54",
      "2fb36a08ca1540228919af722727572c",
      "3bd47d84fac442d4bcf49dceeb699d45"
     ]
    },
    "executionInfo": {
     "elapsed": 841688,
     "status": "ok",
     "timestamp": 1708904334771,
     "user": {
      "displayName": "Kai Lukowiak",
      "userId": "12340107642472090190"
     },
     "user_tz": 420
    },
    "id": "RIXu3GkdYzNA",
    "outputId": "dee6137d-c096-4df6-fbb4-baa3764d359e"
   },
   "outputs": [],
   "source": [
    "# %%memit\n",
    "# profiler.start_trace(\n",
    "#     \"/content/drive/MyDrive/Colab Notebooks/Hephaestus/runs\"\n",
    "# )\n",
    "mts_root_key = random.PRNGKey(44)\n",
    "mts_main_key, ts_params_key, ts_data_key = random.split(mts_root_key, 3)\n",
    "\n",
    "\n",
    "def replace_nans(grads, replace_value=0):\n",
    "    \"\"\"Replace NaN values in gradients with a specified value.\"\"\"\n",
    "    return jax.tree_map(lambda g: jnp.where(jnp.isnan(g), replace_value, g), grads)\n",
    "\n",
    "\n",
    "def clip_gradients(gradients, max_norm):\n",
    "    total_norm = jnp.sqrt(sum(jnp.sum(jnp.square(grad)) for grad in gradients.values()))\n",
    "    scale = max_norm / (total_norm + 1e-6)\n",
    "    clipped_gradients = jax.tree_map(\n",
    "        lambda grad: jnp.where(total_norm > max_norm, grad * scale, grad), gradients\n",
    "    )\n",
    "    return clipped_gradients\n",
    "\n",
    "\n",
    "# @jax.jit\n",
    "def calculate_loss(params, state, inputs, dataset, target: bool = True):\n",
    "    numeric_loss_scale = 1.0\n",
    "    target_loss_scale = 1.0\n",
    "    ic(\"here\")\n",
    "    category_out, numeric_out, target_out = state.apply_fn(\n",
    "        {\"params\": params},\n",
    "        hp.mask_tensor(inputs.categorical, dataset, prng_key=ts_data_key),\n",
    "        hp.mask_tensor(inputs.numeric, dataset, prng_key=ts_data_key),\n",
    "    )\n",
    "    ic(\"here\")\n",
    "    numeric_col_tokens = dataset.numeric_col_tokens.clone()\n",
    "    numeric_col_tokens = numeric_col_tokens[None, None, :]\n",
    "    repeated_numeric_col_tokens = jnp.tile(\n",
    "        numeric_col_tokens, (category_out.shape[0], category_out.shape[1], 1)\n",
    "    )\n",
    "\n",
    "    ic(repeated_numeric_col_tokens.shape, inputs.categorical.shape, category_out.shape)\n",
    "    categorical_targets = jnp.concatenate(\n",
    "        [\n",
    "            inputs.categorical,\n",
    "            repeated_numeric_col_tokens,\n",
    "        ],\n",
    "        axis=-1,\n",
    "    )\n",
    "    ic(categorical_targets.shape)\n",
    "    categorical_loss = optax.softmax_cross_entropy_with_integer_labels(\n",
    "        category_out, categorical_targets\n",
    "    ).mean()\n",
    "    ic()\n",
    "    target_loss = optax.squared_error(target_out, jnp.squeeze(inputs.y, -1)).mean()\n",
    "    ic()\n",
    "    numeric_loss = optax.squared_error(numeric_out, inputs.numeric).mean()\n",
    "    ic()\n",
    "    if target:\n",
    "        total_loss = (\n",
    "            categorical_loss\n",
    "            + numeric_loss * numeric_loss_scale\n",
    "            + target_loss * target_loss_scale\n",
    "        )\n",
    "    else:\n",
    "        total_loss = categorical_loss + numeric_loss * numeric_loss_scale\n",
    "\n",
    "    ic(total_loss, type(total_loss))\n",
    "    return total_loss, {\n",
    "        \"target_loss\": target_loss.astype(float),\n",
    "        \"numeric_loss\": numeric_loss.astype(float),\n",
    "        \"categorical_loss\": categorical_loss.astype(float),\n",
    "    }\n",
    "\n",
    "\n",
    "@jax.jit\n",
    "def eval_step(state: train_state.TrainState, batch):\n",
    "    def loss_fn(params):\n",
    "        return calculate_loss(params, state, batch, train_ds)\n",
    "\n",
    "    # (loss, individual_losses), grad = grad_fn(state.params)\n",
    "    loss, loss_dict = loss_fn(state.params)\n",
    "    return loss, loss_dict\n",
    "\n",
    "\n",
    "@jax.jit\n",
    "def eval_step_no_target(state: train_state.TrainState, batch):\n",
    "    def loss_fn(params):\n",
    "        return calculate_loss(params, state, batch, train_ds, target=False)\n",
    "\n",
    "    # (loss, individual_losses), grad = grad_fn(state.params)\n",
    "    loss, loss_dict = loss_fn(state.params)\n",
    "    return loss, loss_dict\n",
    "\n",
    "\n",
    "@jax.jit\n",
    "def train_step(state: train_state.TrainState, batch):\n",
    "    def loss_fn(params):\n",
    "        return calculate_loss(params, state, batch, train_ds)\n",
    "\n",
    "    grad_fn = jax.value_and_grad(loss_fn, has_aux=True)\n",
    "\n",
    "    # (loss, individual_losses), grad = grad_fn(state.params)\n",
    "    (loss, loss_dict), grad = grad_fn(state.params)\n",
    "    # grad = replace_nans(grad)\n",
    "    # grad = clip_gradients(grad, 1.0)\n",
    "    state = state.apply_gradients(grads=grad)\n",
    "\n",
    "    return state, loss, loss_dict\n",
    "\n",
    "\n",
    "@jax.jit\n",
    "def train_step_no_target(state: train_state.TrainState, batch):\n",
    "    def loss_fn(params):\n",
    "        return calculate_loss(params, state, batch, train_ds, target=False)\n",
    "\n",
    "    grad_fn = jax.value_and_grad(loss_fn, has_aux=True)\n",
    "\n",
    "    # (loss, individual_losses), grad = grad_fn(state.params)\n",
    "    (loss, loss_dict), grad = grad_fn(state.params)\n",
    "    # grad = replace_nans(grad)\n",
    "    # grad = clip_gradients(grad, 1.0)\n",
    "    state = state.apply_gradients(grads=grad)\n",
    "\n",
    "    return state, loss, loss_dict\n",
    "\n",
    "\n",
    "def create_train_state(model, prng, batch, lr):\n",
    "    params = model.init(prng, batch.categorical, batch.numeric)\n",
    "    # optimizer = optax.chain(optax.adam(lr))\n",
    "    optimizer = optax.chain(optax.clip_by_global_norm(0.4), optax.adam(lr))\n",
    "    # optimizer_state = optimizer.init(params)\n",
    "    return train_state.TrainState.create(\n",
    "        apply_fn=model.apply,\n",
    "        params=params[\"params\"],\n",
    "        tx=optimizer,\n",
    "        # tx_state=optimizer_state,\n",
    "    )\n",
    "\n",
    "\n",
    "batch_size = 2\n",
    "batch = Batch.from_ds_idx(train_ds, 0, batch_size)\n",
    "\n",
    "state = create_train_state(time_series_regressor, mts_main_key, batch, 0.0001)"
   ]
  },
  {
   "cell_type": "code",
   "execution_count": 15,
   "metadata": {},
   "outputs": [],
   "source": [
    "from jax import numpy as jnp"
   ]
  },
  {
   "cell_type": "code",
   "execution_count": 16,
   "metadata": {},
   "outputs": [
    {
     "name": "stdout",
     "output_type": "stream",
     "text": [
      "(2, 3120, 69, 64)\n",
      "(2, 3120, 69, 64)\n"
     ]
    }
   ],
   "source": [
    "x = jnp.ones((2, 3120, 69, 4, 16))\n",
    "print(x.reshape((2, 3120, 69, 4 * 16)).shape)\n",
    "print(x.reshape((x.shape[0], x.shape[1], x.shape[2], -1)).shape)"
   ]
  },
  {
   "cell_type": "code",
   "execution_count": 17,
   "metadata": {},
   "outputs": [],
   "source": [
    "# nn.enable_named_call()\n",
    "# # with jax.profiler.trace(\"./runs\", create_perfetto_link=False):\n",
    "# # train_ds = hp.TabularTimeSeriesData(\n",
    "# #     data.copy(),\n",
    "# #     batch_size=3120 // 2,  # target_column=\"euros_per_mwh\"\n",
    "# #     target_column=\"target\",\n",
    "# # )\n",
    "# batch = Batch.from_ds_idx(train_ds, 0, batch_size)\n",
    "\n",
    "# jax.profiler.start_trace(\"runs/\")\n",
    "# for i in range(10):\n",
    "#     state, loss, loss_dict = train_step(state, batch)\n",
    "\n",
    "# jax.profiler.stop_trace()"
   ]
  },
  {
   "cell_type": "code",
   "execution_count": 18,
   "metadata": {},
   "outputs": [],
   "source": [
    "# try:\n",
    "#     jax.profiler.stop_trace()\n",
    "# except RuntimeError as e:\n",
    "#     print(e)"
   ]
  },
  {
   "cell_type": "code",
   "execution_count": null,
   "metadata": {},
   "outputs": [],
   "source": []
  },
  {
   "cell_type": "code",
   "execution_count": 19,
   "metadata": {},
   "outputs": [],
   "source": [
    "def show_mask_pred(\n",
    "    state, batch: Batch, probability: int = 0.8, prng_key=ts_data_key, dataset=train_ds\n",
    "):\n",
    "    prng_key, subkey = random.split(prng_key)\n",
    "    categorical_inputs = hp.mask_tensor(\n",
    "        batch.categorical, dataset, prng_key=subkey, probability=probability\n",
    "    )\n",
    "    prng_key, subkey = random.split(prng_key)\n",
    "    numeric_inputs = hp.mask_tensor(\n",
    "        batch.numeric, dataset, prng_key=subkey, probability=probability\n",
    "    )\n",
    "    category_out, numeric_out, target_out = state.apply_fn(\n",
    "        {\"params\": state.params}, categorical_inputs, numeric_inputs\n",
    "    )  # TODO Make sure this is state.params and not something else.\n",
    "\n",
    "    categorical_preds = category_out.argmax(axis=-1)\n",
    "\n",
    "    # Get the words from the tokens\n",
    "    decoder_dict = dataset.token_decoder_dict\n",
    "    categorical_preds = [decoder_dict[i.item()] for i in categorical_preds[0]]\n",
    "\n",
    "    results_dict = {k: cat_preds[i] for i, k in enumerate(dataset.col_tokens)}\n",
    "    for i, k in enumerate(dataset.col_tokens[dataset.n_cat_cols :]):\n",
    "        results_dict[k] = numeric_preds[0][i].item()\n",
    "    # Get the masked values\n",
    "    categorical_masked = [decoder_dict[i.item()] for i in categorical_inputs[0]]\n",
    "    numeric_masked = numeric_inputs[0].tolist()\n",
    "    masked_values = categorical_masked + numeric_masked\n",
    "    # zip the masked values with the column names\n",
    "    masked_dict = dict(zip(dataset.col_tokens, masked_values))\n",
    "    # Get the original values\n",
    "    categorical_values = [\n",
    "        decoder_dict[i.item()]\n",
    "        for i in mi.categorical_targets[0][0 : dataset.n_cat_cols]\n",
    "    ]\n",
    "\n",
    "    numeric_values = mi.numeric_targets.tolist()[0]\n",
    "    original_values = categorical_values\n",
    "    original_values.extend(numeric_values)\n",
    "    # zip the original values with the column names\n",
    "    original_dict = dict(zip(dataset.col_tokens, original_values))\n",
    "\n",
    "    result_dict = {\n",
    "        \"masked\": masked_dict,\n",
    "        \"actual\": original_dict,\n",
    "        \"pred\": results_dict,\n",
    "    }\n",
    "\n",
    "    return result_dict"
   ]
  },
  {
   "cell_type": "code",
   "execution_count": 20,
   "metadata": {},
   "outputs": [],
   "source": [
    "# show_mask_pred(state, batch)"
   ]
  },
  {
   "cell_type": "code",
   "execution_count": 21,
   "metadata": {},
   "outputs": [
    {
     "data": {
      "application/vnd.jupyter.widget-view+json": {
       "model_id": "36d8b8734d174a0595dffb8407ecf457",
       "version_major": 2,
       "version_minor": 0
      },
      "text/plain": [
       "epochs:   0%|          | 0/14 [00:00<?, ?it/s]"
      ]
     },
     "metadata": {},
     "output_type": "display_data"
    },
    {
     "data": {
      "application/vnd.jupyter.widget-view+json": {
       "model_id": "e41d5735041c4a4db0ac995b636bcae5",
       "version_major": 2,
       "version_minor": 0
      },
      "text/plain": [
       "batches False:   0%|          | 0/517 [00:00<?, ?it/s]"
      ]
     },
     "metadata": {},
     "output_type": "display_data"
    },
    {
     "data": {
      "application/vnd.jupyter.widget-view+json": {
       "model_id": "677381c195704f52a4ffff5ea859b0d6",
       "version_major": 2,
       "version_minor": 0
      },
      "text/plain": [
       "batches False:   0%|          | 0/517 [00:00<?, ?it/s]"
      ]
     },
     "metadata": {},
     "output_type": "display_data"
    },
    {
     "data": {
      "application/vnd.jupyter.widget-view+json": {
       "model_id": "f8101e5d7b6649d19942bedba5d3044d",
       "version_major": 2,
       "version_minor": 0
      },
      "text/plain": [
       "batches False:   0%|          | 0/517 [00:00<?, ?it/s]"
      ]
     },
     "metadata": {},
     "output_type": "display_data"
    },
    {
     "data": {
      "application/vnd.jupyter.widget-view+json": {
       "model_id": "7d4ec9dabe9848a3ab346bcef144fe25",
       "version_major": 2,
       "version_minor": 0
      },
      "text/plain": [
       "batches False:   0%|          | 0/517 [00:00<?, ?it/s]"
      ]
     },
     "metadata": {},
     "output_type": "display_data"
    },
    {
     "data": {
      "application/vnd.jupyter.widget-view+json": {
       "model_id": "ef5fba40ba5c4859b281c1960e2c79ee",
       "version_major": 2,
       "version_minor": 0
      },
      "text/plain": [
       "batches False:   0%|          | 0/517 [00:00<?, ?it/s]"
      ]
     },
     "metadata": {},
     "output_type": "display_data"
    },
    {
     "data": {
      "application/vnd.jupyter.widget-view+json": {
       "model_id": "374ab534d31a403f83b30bd5d2e7cbb3",
       "version_major": 2,
       "version_minor": 0
      },
      "text/plain": [
       "batches False:   0%|          | 0/517 [00:00<?, ?it/s]"
      ]
     },
     "metadata": {},
     "output_type": "display_data"
    },
    {
     "data": {
      "application/vnd.jupyter.widget-view+json": {
       "model_id": "efba5e43a85d4ad3848655285d9cba34",
       "version_major": 2,
       "version_minor": 0
      },
      "text/plain": [
       "batches True:   0%|          | 0/517 [00:00<?, ?it/s]"
      ]
     },
     "metadata": {},
     "output_type": "display_data"
    },
    {
     "data": {
      "application/vnd.jupyter.widget-view+json": {
       "model_id": "715f60b90c824fe2998e862df8c29713",
       "version_major": 2,
       "version_minor": 0
      },
      "text/plain": [
       "batches True:   0%|          | 0/517 [00:00<?, ?it/s]"
      ]
     },
     "metadata": {},
     "output_type": "display_data"
    },
    {
     "data": {
      "application/vnd.jupyter.widget-view+json": {
       "model_id": "6e135c4428324c2fb8004d65cd62b96b",
       "version_major": 2,
       "version_minor": 0
      },
      "text/plain": [
       "batches True:   0%|          | 0/517 [00:00<?, ?it/s]"
      ]
     },
     "metadata": {},
     "output_type": "display_data"
    },
    {
     "data": {
      "application/vnd.jupyter.widget-view+json": {
       "model_id": "9c6742b72526430aa2d06c64227ab918",
       "version_major": 2,
       "version_minor": 0
      },
      "text/plain": [
       "batches True:   0%|          | 0/517 [00:00<?, ?it/s]"
      ]
     },
     "metadata": {},
     "output_type": "display_data"
    },
    {
     "data": {
      "application/vnd.jupyter.widget-view+json": {
       "model_id": "fd0739191f17437c80f5ee9aadcb33ac",
       "version_major": 2,
       "version_minor": 0
      },
      "text/plain": [
       "batches True:   0%|          | 0/517 [00:00<?, ?it/s]"
      ]
     },
     "metadata": {},
     "output_type": "display_data"
    },
    {
     "data": {
      "application/vnd.jupyter.widget-view+json": {
       "model_id": "4ee13631f9e647e281705a0d93196cf3",
       "version_major": 2,
       "version_minor": 0
      },
      "text/plain": [
       "batches True:   0%|          | 0/517 [00:00<?, ?it/s]"
      ]
     },
     "metadata": {},
     "output_type": "display_data"
    },
    {
     "data": {
      "application/vnd.jupyter.widget-view+json": {
       "model_id": "519ab28f8f144e9a9345c76f9badc185",
       "version_major": 2,
       "version_minor": 0
      },
      "text/plain": [
       "batches True:   0%|          | 0/517 [00:00<?, ?it/s]"
      ]
     },
     "metadata": {},
     "output_type": "display_data"
    },
    {
     "data": {
      "application/vnd.jupyter.widget-view+json": {
       "model_id": "8105cc3b3a954cf3ac0e7e3d17c71e6a",
       "version_major": 2,
       "version_minor": 0
      },
      "text/plain": [
       "batches True:   0%|          | 0/517 [00:00<?, ?it/s]"
      ]
     },
     "metadata": {},
     "output_type": "display_data"
    }
   ],
   "source": [
    "writer_name = \"SkipFirst\"\n",
    "\n",
    "writer_time = dt.now().strftime(\"%Y-%m-%dT%H:%M:%S\")\n",
    "\n",
    "train_summary_writer = SummaryWriter(\n",
    "    \"runs/\" + writer_time + \"_\" + writer_name + \"_train\"\n",
    ")\n",
    "test_summary_writer = SummaryWriter(\"runs/\" + writer_time + \"_\" + writer_name + \"_test\")\n",
    "\n",
    "\n",
    "def create_iterations(ds, batch_size, prng_key):\n",
    "    arr = jnp.arange(len(ds))\n",
    "\n",
    "    # Shuffle the array\n",
    "    shuffled_arr = jax.random.permutation(prng_key, arr)\n",
    "    num_groups = (\n",
    "        arr.size + (batch_size - 1)\n",
    "    ) // batch_size  # This ensures that the last group has <= batch_size elements\n",
    "\n",
    "    # Split the shuffled array into groups\n",
    "    groups = jnp.split(\n",
    "        shuffled_arr, jnp.arange(batch_size, batch_size * num_groups, batch_size)\n",
    "    )\n",
    "    return groups\n",
    "\n",
    "\n",
    "test_batch = Batch.from_ds_idx(test_ds, 0, 2)\n",
    "\n",
    "test_set_key = random.PRNGKey(4454)\n",
    "\n",
    "\n",
    "no_target_cutoff = 6\n",
    "batch_count = 0\n",
    "for j in trange(14, desc=\"epochs\"):\n",
    "    arrs = create_iterations(train_ds, 2, ts_data_key)\n",
    "    test_arrs = create_iterations(test_ds, 2, ts_data_key)\n",
    "    if j < no_target_cutoff:\n",
    "        has_target = False\n",
    "    else:\n",
    "        has_target = True\n",
    "    for i in tqdm(arrs, leave=False, desc=f\"batches {has_target}\"):\n",
    "        # for i in trange(len(pre_train) // batch_size, leave=False):\n",
    "        # for i in trange(len(pre_train) // batch_size //10, leave=False):\n",
    "        batch = Batch.from_ds_idx(ds=train_ds, arr=i)\n",
    "        if has_target:\n",
    "            state, loss, loss_dict = train_step(state, batch)\n",
    "        else:\n",
    "            state, loss, loss_dict = train_step_no_target(state, batch)\n",
    "        batch_count += 1\n",
    "\n",
    "        if batch_count % 10 == 0:\n",
    "            train_summary_writer.add_scalar(\n",
    "                \"loss/loss\", np.array(loss.item()), batch_count\n",
    "            )\n",
    "            train_summary_writer.add_scalar(\n",
    "                \"loss/categorical\", np.array(loss_dict[\"categorical_loss\"]), batch_count\n",
    "            )\n",
    "            train_summary_writer.add_scalar(\n",
    "                \"loss/numeric\", np.array(loss_dict[\"numeric_loss\"]), batch_count\n",
    "            )\n",
    "            train_summary_writer.add_scalar(\n",
    "                \"loss/target\", np.array(loss_dict[\"target_loss\"]), batch_count\n",
    "            )\n",
    "            test_set_key, sub_test_key = random.split(test_set_key)\n",
    "            random_index = random.randint(\n",
    "                sub_test_key, (1,), 0, len(test_ds) - 2\n",
    "            ).item()\n",
    "            test_batch = Batch.from_ds_idx(test_ds, random_index, 2)\n",
    "            ## Testing\n",
    "            if has_target:\n",
    "                test_loss, test_loss_dict = eval_step(state, test_batch)\n",
    "            else:\n",
    "                test_loss, test_loss_dict = eval_step_no_target(state, test_batch)\n",
    "            test_summary_writer.add_scalar(\n",
    "                \"loss/has_target\", np.array(float(has_target)), batch_count\n",
    "            )\n",
    "            test_summary_writer.add_scalar(\n",
    "                \"loss/loss\", np.array(test_loss.item()), batch_count\n",
    "            )\n",
    "            test_summary_writer.add_scalar(\n",
    "                \"loss/categorical\",\n",
    "                np.array(test_loss_dict[\"categorical_loss\"]),\n",
    "                batch_count,\n",
    "            )\n",
    "            test_summary_writer.add_scalar(\n",
    "                \"loss/numeric\", np.array(test_loss_dict[\"numeric_loss\"]), batch_count\n",
    "            )\n",
    "            test_summary_writer.add_scalar(\n",
    "                \"loss/target\", np.array(test_loss_dict[\"target_loss\"]), batch_count\n",
    "            )\n",
    "\n",
    "\n",
    "# profiler.stop_trace()"
   ]
  },
  {
   "cell_type": "code",
   "execution_count": 22,
   "metadata": {
    "notebookRunGroups": {
     "groupValue": ""
    }
   },
   "outputs": [],
   "source": [
    "ts_data_key = random.PRNGKey(1)\n",
    "ts_data_key, new_key = random.split(ts_data_key)"
   ]
  },
  {
   "cell_type": "code",
   "execution_count": 23,
   "metadata": {},
   "outputs": [
    {
     "name": "stdout",
     "output_type": "stream",
     "text": [
      "[2554108775 1009840025] [2986633504  617412143]\n",
      "145\n",
      "[3295656527 1572682181] [ 809688650 2172309036]\n",
      "138\n",
      "[ 612812304 3708077227] [3547667909 2943765984]\n",
      "177\n",
      "[703307542 615583408] [3106088119 3916689784]\n",
      "197\n"
     ]
    }
   ],
   "source": [
    "for i in range(4):\n",
    "    new_key, subkey = random.split(new_key)\n",
    "    print(subkey, new_key)\n",
    "    random_index = random.randint(new_key, (1,), 0, len(test_ds) - 1).item()\n",
    "    print(random_index)"
   ]
  },
  {
   "cell_type": "code",
   "execution_count": 24,
   "metadata": {},
   "outputs": [],
   "source": [
    "model_name = f\"big_train_{dt.now()}_\"\n",
    "\n",
    "current_dir = os.getcwd()\n",
    "\n",
    "if not os.path.exists(f\"./pre_trained_models/\"):\n",
    "    os.makedirs(f\"./pre_trained_models/\")\n",
    "\n",
    "path = os.path.join(current_dir, f\"./pre_trained_models/\")\n",
    "\n",
    "\n",
    "ckpt_dir = f\"./pre_trained_models/{model_name}\"\n",
    "\n",
    "# checkpoints.save_checkpoint(\n",
    "#     ckpt_dir=path, target=state, step=batch_count, overwrite=True, prefix=model_name\n",
    "# )"
   ]
  },
  {
   "cell_type": "code",
   "execution_count": 25,
   "metadata": {
    "id": "vz702qVy_AKz"
   },
   "outputs": [
    {
     "name": "stdout",
     "output_type": "stream",
     "text": [
      "Memory usage: 861120 bytes\n",
      "Memory usage: 0.0008019804954528809 gb\n"
     ]
    }
   ],
   "source": [
    "def jax_array_memory_usage(array):\n",
    "    \"\"\"Calculate the memory usage of a JAX array in bytes.\"\"\"\n",
    "    # Get the number of bytes per element based on the data type\n",
    "    bytes_per_element = array.dtype.itemsize\n",
    "    # Calculate the total number of elements in the array\n",
    "    total_elements = np.prod(array.shape)\n",
    "    # Calculate total memory usage\n",
    "    memory_usage_bytes = bytes_per_element * total_elements\n",
    "    return memory_usage_bytes\n",
    "\n",
    "\n",
    "cat_memory_usage = jax_array_memory_usage(batch.categorical)\n",
    "num_memory_usage = jax_array_memory_usage(batch.numeric)\n",
    "memory_usage = cat_memory_usage + num_memory_usage\n",
    "memory_usage_gb = memory_usage / 1024 / 1024 / 1024\n",
    "print(f\"Memory usage: {memory_usage} bytes\")\n",
    "print(f\"Memory usage: {memory_usage_gb} gb\")"
   ]
  }
 ],
 "metadata": {
  "accelerator": "GPU",
  "colab": {
   "authorship_tag": "ABX9TyP1swsXnq2jqt/Hz4IBTZm2",
   "gpuType": "V100",
   "machine_shape": "hm",
   "mount_file_id": "1zHmvVqlKJh0x9vjCRSkYKkko5buvMMEd",
   "provenance": []
  },
  "kernelspec": {
   "display_name": "Python 3",
   "name": "python3"
  },
  "language_info": {
   "codemirror_mode": {
    "name": "ipython",
    "version": 3
   },
   "file_extension": ".py",
   "mimetype": "text/x-python",
   "name": "python",
   "nbconvert_exporter": "python",
   "pygments_lexer": "ipython3",
   "version": "3.10.12"
  },
  "widgets": {
   "application/vnd.jupyter.widget-state+json": {
    "01ca2dcb14e647dfb1e68750ca6de39c": {
     "model_module": "@jupyter-widgets/controls",
     "model_module_version": "1.5.0",
     "model_name": "HBoxModel",
     "state": {
      "_dom_classes": [],
      "_model_module": "@jupyter-widgets/controls",
      "_model_module_version": "1.5.0",
      "_model_name": "HBoxModel",
      "_view_count": null,
      "_view_module": "@jupyter-widgets/controls",
      "_view_module_version": "1.5.0",
      "_view_name": "HBoxView",
      "box_style": "",
      "children": [
       "IPY_MODEL_a51aa7b827db4f768dce6315dbebf379",
       "IPY_MODEL_634935ff0a6b4d65b72f87359d9f82fc",
       "IPY_MODEL_09b63c98bee543dfb557a007d50c41d1"
      ],
      "layout": "IPY_MODEL_dc4a8a3b0a8b4ef49dcd6269a1b32e14"
     }
    },
    "0481743e80634f7a8e718fb528950e54": {
     "model_module": "@jupyter-widgets/controls",
     "model_module_version": "1.5.0",
     "model_name": "ProgressStyleModel",
     "state": {
      "_model_module": "@jupyter-widgets/controls",
      "_model_module_version": "1.5.0",
      "_model_name": "ProgressStyleModel",
      "_view_count": null,
      "_view_module": "@jupyter-widgets/base",
      "_view_module_version": "1.2.0",
      "_view_name": "StyleView",
      "bar_color": null,
      "description_width": ""
     }
    },
    "055681c8159b4b6c8104d4e06279803c": {
     "model_module": "@jupyter-widgets/base",
     "model_module_version": "1.2.0",
     "model_name": "LayoutModel",
     "state": {
      "_model_module": "@jupyter-widgets/base",
      "_model_module_version": "1.2.0",
      "_model_name": "LayoutModel",
      "_view_count": null,
      "_view_module": "@jupyter-widgets/base",
      "_view_module_version": "1.2.0",
      "_view_name": "LayoutView",
      "align_content": null,
      "align_items": null,
      "align_self": null,
      "border": null,
      "bottom": null,
      "display": null,
      "flex": null,
      "flex_flow": null,
      "grid_area": null,
      "grid_auto_columns": null,
      "grid_auto_flow": null,
      "grid_auto_rows": null,
      "grid_column": null,
      "grid_gap": null,
      "grid_row": null,
      "grid_template_areas": null,
      "grid_template_columns": null,
      "grid_template_rows": null,
      "height": null,
      "justify_content": null,
      "justify_items": null,
      "left": null,
      "margin": null,
      "max_height": null,
      "max_width": null,
      "min_height": null,
      "min_width": null,
      "object_fit": null,
      "object_position": null,
      "order": null,
      "overflow": null,
      "overflow_x": null,
      "overflow_y": null,
      "padding": null,
      "right": null,
      "top": null,
      "visibility": null,
      "width": null
     }
    },
    "09b63c98bee543dfb557a007d50c41d1": {
     "model_module": "@jupyter-widgets/controls",
     "model_module_version": "1.5.0",
     "model_name": "HTMLModel",
     "state": {
      "_dom_classes": [],
      "_model_module": "@jupyter-widgets/controls",
      "_model_module_version": "1.5.0",
      "_model_name": "HTMLModel",
      "_view_count": null,
      "_view_module": "@jupyter-widgets/controls",
      "_view_module_version": "1.5.0",
      "_view_name": "HTMLView",
      "description": "",
      "description_tooltip": null,
      "layout": "IPY_MODEL_2fb36a08ca1540228919af722727572c",
      "placeholder": "​",
      "style": "IPY_MODEL_3bd47d84fac442d4bcf49dceeb699d45",
      "value": " 807/807 [04:29&lt;00:00,  3.10it/s]"
     }
    },
    "0e26d28846fb449789510e4748c01c6a": {
     "model_module": "@jupyter-widgets/controls",
     "model_module_version": "1.5.0",
     "model_name": "DescriptionStyleModel",
     "state": {
      "_model_module": "@jupyter-widgets/controls",
      "_model_module_version": "1.5.0",
      "_model_name": "DescriptionStyleModel",
      "_view_count": null,
      "_view_module": "@jupyter-widgets/base",
      "_view_module_version": "1.2.0",
      "_view_name": "StyleView",
      "description_width": ""
     }
    },
    "25ce5408138f4cb28e163f1fdffdee5f": {
     "model_module": "@jupyter-widgets/controls",
     "model_module_version": "1.5.0",
     "model_name": "HTMLModel",
     "state": {
      "_dom_classes": [],
      "_model_module": "@jupyter-widgets/controls",
      "_model_module_version": "1.5.0",
      "_model_name": "HTMLModel",
      "_view_count": null,
      "_view_module": "@jupyter-widgets/controls",
      "_view_module_version": "1.5.0",
      "_view_name": "HTMLView",
      "description": "",
      "description_tooltip": null,
      "layout": "IPY_MODEL_8b35a70a3b9e4f3b87cf2a7280439ac6",
      "placeholder": "​",
      "style": "IPY_MODEL_0e26d28846fb449789510e4748c01c6a",
      "value": "100%"
     }
    },
    "2ac0cceac38e43adb00a10b778fad2df": {
     "model_module": "@jupyter-widgets/controls",
     "model_module_version": "1.5.0",
     "model_name": "HTMLModel",
     "state": {
      "_dom_classes": [],
      "_model_module": "@jupyter-widgets/controls",
      "_model_module_version": "1.5.0",
      "_model_name": "HTMLModel",
      "_view_count": null,
      "_view_module": "@jupyter-widgets/controls",
      "_view_module_version": "1.5.0",
      "_view_name": "HTMLView",
      "description": "",
      "description_tooltip": null,
      "layout": "IPY_MODEL_ddb1791795134ac0a754748f9793c214",
      "placeholder": "​",
      "style": "IPY_MODEL_d95aea2b915b44f38b5090ee186abafd",
      "value": " 807/807 [04:31&lt;00:00,  2.80it/s]"
     }
    },
    "2fb36a08ca1540228919af722727572c": {
     "model_module": "@jupyter-widgets/base",
     "model_module_version": "1.2.0",
     "model_name": "LayoutModel",
     "state": {
      "_model_module": "@jupyter-widgets/base",
      "_model_module_version": "1.2.0",
      "_model_name": "LayoutModel",
      "_view_count": null,
      "_view_module": "@jupyter-widgets/base",
      "_view_module_version": "1.2.0",
      "_view_name": "LayoutView",
      "align_content": null,
      "align_items": null,
      "align_self": null,
      "border": null,
      "bottom": null,
      "display": null,
      "flex": null,
      "flex_flow": null,
      "grid_area": null,
      "grid_auto_columns": null,
      "grid_auto_flow": null,
      "grid_auto_rows": null,
      "grid_column": null,
      "grid_gap": null,
      "grid_row": null,
      "grid_template_areas": null,
      "grid_template_columns": null,
      "grid_template_rows": null,
      "height": null,
      "justify_content": null,
      "justify_items": null,
      "left": null,
      "margin": null,
      "max_height": null,
      "max_width": null,
      "min_height": null,
      "min_width": null,
      "object_fit": null,
      "object_position": null,
      "order": null,
      "overflow": null,
      "overflow_x": null,
      "overflow_y": null,
      "padding": null,
      "right": null,
      "top": null,
      "visibility": null,
      "width": null
     }
    },
    "31d37adf891a4da68675945509051210": {
     "model_module": "@jupyter-widgets/controls",
     "model_module_version": "1.5.0",
     "model_name": "HTMLModel",
     "state": {
      "_dom_classes": [],
      "_model_module": "@jupyter-widgets/controls",
      "_model_module_version": "1.5.0",
      "_model_name": "HTMLModel",
      "_view_count": null,
      "_view_module": "@jupyter-widgets/controls",
      "_view_module_version": "1.5.0",
      "_view_name": "HTMLView",
      "description": "",
      "description_tooltip": null,
      "layout": "IPY_MODEL_055681c8159b4b6c8104d4e06279803c",
      "placeholder": "​",
      "style": "IPY_MODEL_9f5e5843559b4f9e8f3440ebd85743f8",
      "value": " 807/807 [04:52&lt;00:00,  3.03it/s]"
     }
    },
    "3bd47d84fac442d4bcf49dceeb699d45": {
     "model_module": "@jupyter-widgets/controls",
     "model_module_version": "1.5.0",
     "model_name": "DescriptionStyleModel",
     "state": {
      "_model_module": "@jupyter-widgets/controls",
      "_model_module_version": "1.5.0",
      "_model_name": "DescriptionStyleModel",
      "_view_count": null,
      "_view_module": "@jupyter-widgets/base",
      "_view_module_version": "1.2.0",
      "_view_name": "StyleView",
      "description_width": ""
     }
    },
    "4151c7353de54909aa9deecbe8c1e1e1": {
     "model_module": "@jupyter-widgets/controls",
     "model_module_version": "1.5.0",
     "model_name": "ProgressStyleModel",
     "state": {
      "_model_module": "@jupyter-widgets/controls",
      "_model_module_version": "1.5.0",
      "_model_name": "ProgressStyleModel",
      "_view_count": null,
      "_view_module": "@jupyter-widgets/base",
      "_view_module_version": "1.2.0",
      "_view_name": "StyleView",
      "bar_color": null,
      "description_width": ""
     }
    },
    "462d9e93a94f44868fec1ece82f0a241": {
     "model_module": "@jupyter-widgets/controls",
     "model_module_version": "1.5.0",
     "model_name": "DescriptionStyleModel",
     "state": {
      "_model_module": "@jupyter-widgets/controls",
      "_model_module_version": "1.5.0",
      "_model_name": "DescriptionStyleModel",
      "_view_count": null,
      "_view_module": "@jupyter-widgets/base",
      "_view_module_version": "1.2.0",
      "_view_name": "StyleView",
      "description_width": ""
     }
    },
    "47793d3155614c8cbd7d3337dcb2f895": {
     "model_module": "@jupyter-widgets/controls",
     "model_module_version": "1.5.0",
     "model_name": "FloatProgressModel",
     "state": {
      "_dom_classes": [],
      "_model_module": "@jupyter-widgets/controls",
      "_model_module_version": "1.5.0",
      "_model_name": "FloatProgressModel",
      "_view_count": null,
      "_view_module": "@jupyter-widgets/controls",
      "_view_module_version": "1.5.0",
      "_view_name": "ProgressView",
      "bar_style": "success",
      "description": "",
      "description_tooltip": null,
      "layout": "IPY_MODEL_f8093c8ddeec4c55ac6cc5f8f7df30bf",
      "max": 3,
      "min": 0,
      "orientation": "horizontal",
      "style": "IPY_MODEL_4151c7353de54909aa9deecbe8c1e1e1",
      "value": 3
     }
    },
    "4bc81f6d94394d7f90e070d8b11a7059": {
     "model_module": "@jupyter-widgets/base",
     "model_module_version": "1.2.0",
     "model_name": "LayoutModel",
     "state": {
      "_model_module": "@jupyter-widgets/base",
      "_model_module_version": "1.2.0",
      "_model_name": "LayoutModel",
      "_view_count": null,
      "_view_module": "@jupyter-widgets/base",
      "_view_module_version": "1.2.0",
      "_view_name": "LayoutView",
      "align_content": null,
      "align_items": null,
      "align_self": null,
      "border": null,
      "bottom": null,
      "display": null,
      "flex": null,
      "flex_flow": null,
      "grid_area": null,
      "grid_auto_columns": null,
      "grid_auto_flow": null,
      "grid_auto_rows": null,
      "grid_column": null,
      "grid_gap": null,
      "grid_row": null,
      "grid_template_areas": null,
      "grid_template_columns": null,
      "grid_template_rows": null,
      "height": null,
      "justify_content": null,
      "justify_items": null,
      "left": null,
      "margin": null,
      "max_height": null,
      "max_width": null,
      "min_height": null,
      "min_width": null,
      "object_fit": null,
      "object_position": null,
      "order": null,
      "overflow": null,
      "overflow_x": null,
      "overflow_y": null,
      "padding": null,
      "right": null,
      "top": null,
      "visibility": null,
      "width": null
     }
    },
    "4da9993585914618a35d8d5382fef850": {
     "model_module": "@jupyter-widgets/base",
     "model_module_version": "1.2.0",
     "model_name": "LayoutModel",
     "state": {
      "_model_module": "@jupyter-widgets/base",
      "_model_module_version": "1.2.0",
      "_model_name": "LayoutModel",
      "_view_count": null,
      "_view_module": "@jupyter-widgets/base",
      "_view_module_version": "1.2.0",
      "_view_name": "LayoutView",
      "align_content": null,
      "align_items": null,
      "align_self": null,
      "border": null,
      "bottom": null,
      "display": null,
      "flex": null,
      "flex_flow": null,
      "grid_area": null,
      "grid_auto_columns": null,
      "grid_auto_flow": null,
      "grid_auto_rows": null,
      "grid_column": null,
      "grid_gap": null,
      "grid_row": null,
      "grid_template_areas": null,
      "grid_template_columns": null,
      "grid_template_rows": null,
      "height": null,
      "justify_content": null,
      "justify_items": null,
      "left": null,
      "margin": null,
      "max_height": null,
      "max_width": null,
      "min_height": null,
      "min_width": null,
      "object_fit": null,
      "object_position": null,
      "order": null,
      "overflow": null,
      "overflow_x": null,
      "overflow_y": null,
      "padding": null,
      "right": null,
      "top": null,
      "visibility": "hidden",
      "width": null
     }
    },
    "4dd64f565fcf4b259ef24944493477bf": {
     "model_module": "@jupyter-widgets/controls",
     "model_module_version": "1.5.0",
     "model_name": "HBoxModel",
     "state": {
      "_dom_classes": [],
      "_model_module": "@jupyter-widgets/controls",
      "_model_module_version": "1.5.0",
      "_model_name": "HBoxModel",
      "_view_count": null,
      "_view_module": "@jupyter-widgets/controls",
      "_view_module_version": "1.5.0",
      "_view_name": "HBoxView",
      "box_style": "",
      "children": [
       "IPY_MODEL_25ce5408138f4cb28e163f1fdffdee5f",
       "IPY_MODEL_47793d3155614c8cbd7d3337dcb2f895",
       "IPY_MODEL_f9ec11073e484927a4cc1ee2e3da132f"
      ],
      "layout": "IPY_MODEL_62e750769d364ab2b80d5b9646b10ea6"
     }
    },
    "5e15315a77864badafe48c2baf31b030": {
     "model_module": "@jupyter-widgets/controls",
     "model_module_version": "1.5.0",
     "model_name": "HBoxModel",
     "state": {
      "_dom_classes": [],
      "_model_module": "@jupyter-widgets/controls",
      "_model_module_version": "1.5.0",
      "_model_name": "HBoxModel",
      "_view_count": null,
      "_view_module": "@jupyter-widgets/controls",
      "_view_module_version": "1.5.0",
      "_view_name": "HBoxView",
      "box_style": "",
      "children": [
       "IPY_MODEL_dfd9dd713862479bba73b6c0a12a1902",
       "IPY_MODEL_88be535ce5a945f4979fe72d9f086365",
       "IPY_MODEL_31d37adf891a4da68675945509051210"
      ],
      "layout": "IPY_MODEL_4da9993585914618a35d8d5382fef850"
     }
    },
    "5edd903b07594d128ded9b4844835159": {
     "model_module": "@jupyter-widgets/controls",
     "model_module_version": "1.5.0",
     "model_name": "FloatProgressModel",
     "state": {
      "_dom_classes": [],
      "_model_module": "@jupyter-widgets/controls",
      "_model_module_version": "1.5.0",
      "_model_name": "FloatProgressModel",
      "_view_count": null,
      "_view_module": "@jupyter-widgets/controls",
      "_view_module_version": "1.5.0",
      "_view_name": "ProgressView",
      "bar_style": "",
      "description": "",
      "description_tooltip": null,
      "layout": "IPY_MODEL_4bc81f6d94394d7f90e070d8b11a7059",
      "max": 807,
      "min": 0,
      "orientation": "horizontal",
      "style": "IPY_MODEL_d3bc58d04d5f42a5a24bd467a9569e01",
      "value": 807
     }
    },
    "5f1fb4d40e154e27baa0d4f330df540e": {
     "model_module": "@jupyter-widgets/base",
     "model_module_version": "1.2.0",
     "model_name": "LayoutModel",
     "state": {
      "_model_module": "@jupyter-widgets/base",
      "_model_module_version": "1.2.0",
      "_model_name": "LayoutModel",
      "_view_count": null,
      "_view_module": "@jupyter-widgets/base",
      "_view_module_version": "1.2.0",
      "_view_name": "LayoutView",
      "align_content": null,
      "align_items": null,
      "align_self": null,
      "border": null,
      "bottom": null,
      "display": null,
      "flex": null,
      "flex_flow": null,
      "grid_area": null,
      "grid_auto_columns": null,
      "grid_auto_flow": null,
      "grid_auto_rows": null,
      "grid_column": null,
      "grid_gap": null,
      "grid_row": null,
      "grid_template_areas": null,
      "grid_template_columns": null,
      "grid_template_rows": null,
      "height": null,
      "justify_content": null,
      "justify_items": null,
      "left": null,
      "margin": null,
      "max_height": null,
      "max_width": null,
      "min_height": null,
      "min_width": null,
      "object_fit": null,
      "object_position": null,
      "order": null,
      "overflow": null,
      "overflow_x": null,
      "overflow_y": null,
      "padding": null,
      "right": null,
      "top": null,
      "visibility": null,
      "width": null
     }
    },
    "62e750769d364ab2b80d5b9646b10ea6": {
     "model_module": "@jupyter-widgets/base",
     "model_module_version": "1.2.0",
     "model_name": "LayoutModel",
     "state": {
      "_model_module": "@jupyter-widgets/base",
      "_model_module_version": "1.2.0",
      "_model_name": "LayoutModel",
      "_view_count": null,
      "_view_module": "@jupyter-widgets/base",
      "_view_module_version": "1.2.0",
      "_view_name": "LayoutView",
      "align_content": null,
      "align_items": null,
      "align_self": null,
      "border": null,
      "bottom": null,
      "display": null,
      "flex": null,
      "flex_flow": null,
      "grid_area": null,
      "grid_auto_columns": null,
      "grid_auto_flow": null,
      "grid_auto_rows": null,
      "grid_column": null,
      "grid_gap": null,
      "grid_row": null,
      "grid_template_areas": null,
      "grid_template_columns": null,
      "grid_template_rows": null,
      "height": null,
      "justify_content": null,
      "justify_items": null,
      "left": null,
      "margin": null,
      "max_height": null,
      "max_width": null,
      "min_height": null,
      "min_width": null,
      "object_fit": null,
      "object_position": null,
      "order": null,
      "overflow": null,
      "overflow_x": null,
      "overflow_y": null,
      "padding": null,
      "right": null,
      "top": null,
      "visibility": null,
      "width": null
     }
    },
    "634935ff0a6b4d65b72f87359d9f82fc": {
     "model_module": "@jupyter-widgets/controls",
     "model_module_version": "1.5.0",
     "model_name": "FloatProgressModel",
     "state": {
      "_dom_classes": [],
      "_model_module": "@jupyter-widgets/controls",
      "_model_module_version": "1.5.0",
      "_model_name": "FloatProgressModel",
      "_view_count": null,
      "_view_module": "@jupyter-widgets/controls",
      "_view_module_version": "1.5.0",
      "_view_name": "ProgressView",
      "bar_style": "",
      "description": "",
      "description_tooltip": null,
      "layout": "IPY_MODEL_e4de75777bba4d72b61936baf3d84cbb",
      "max": 807,
      "min": 0,
      "orientation": "horizontal",
      "style": "IPY_MODEL_0481743e80634f7a8e718fb528950e54",
      "value": 807
     }
    },
    "6f5ca39406174a4fb1bee9eb1e35fccb": {
     "model_module": "@jupyter-widgets/controls",
     "model_module_version": "1.5.0",
     "model_name": "DescriptionStyleModel",
     "state": {
      "_model_module": "@jupyter-widgets/controls",
      "_model_module_version": "1.5.0",
      "_model_name": "DescriptionStyleModel",
      "_view_count": null,
      "_view_module": "@jupyter-widgets/base",
      "_view_module_version": "1.2.0",
      "_view_name": "StyleView",
      "description_width": ""
     }
    },
    "70c7b641da5c4b82bbd5b2e1750f3b39": {
     "model_module": "@jupyter-widgets/base",
     "model_module_version": "1.2.0",
     "model_name": "LayoutModel",
     "state": {
      "_model_module": "@jupyter-widgets/base",
      "_model_module_version": "1.2.0",
      "_model_name": "LayoutModel",
      "_view_count": null,
      "_view_module": "@jupyter-widgets/base",
      "_view_module_version": "1.2.0",
      "_view_name": "LayoutView",
      "align_content": null,
      "align_items": null,
      "align_self": null,
      "border": null,
      "bottom": null,
      "display": null,
      "flex": null,
      "flex_flow": null,
      "grid_area": null,
      "grid_auto_columns": null,
      "grid_auto_flow": null,
      "grid_auto_rows": null,
      "grid_column": null,
      "grid_gap": null,
      "grid_row": null,
      "grid_template_areas": null,
      "grid_template_columns": null,
      "grid_template_rows": null,
      "height": null,
      "justify_content": null,
      "justify_items": null,
      "left": null,
      "margin": null,
      "max_height": null,
      "max_width": null,
      "min_height": null,
      "min_width": null,
      "object_fit": null,
      "object_position": null,
      "order": null,
      "overflow": null,
      "overflow_x": null,
      "overflow_y": null,
      "padding": null,
      "right": null,
      "top": null,
      "visibility": null,
      "width": null
     }
    },
    "851b29291123491a821b1ce8088ca785": {
     "model_module": "@jupyter-widgets/controls",
     "model_module_version": "1.5.0",
     "model_name": "ProgressStyleModel",
     "state": {
      "_model_module": "@jupyter-widgets/controls",
      "_model_module_version": "1.5.0",
      "_model_name": "ProgressStyleModel",
      "_view_count": null,
      "_view_module": "@jupyter-widgets/base",
      "_view_module_version": "1.2.0",
      "_view_name": "StyleView",
      "bar_color": null,
      "description_width": ""
     }
    },
    "88be535ce5a945f4979fe72d9f086365": {
     "model_module": "@jupyter-widgets/controls",
     "model_module_version": "1.5.0",
     "model_name": "FloatProgressModel",
     "state": {
      "_dom_classes": [],
      "_model_module": "@jupyter-widgets/controls",
      "_model_module_version": "1.5.0",
      "_model_name": "FloatProgressModel",
      "_view_count": null,
      "_view_module": "@jupyter-widgets/controls",
      "_view_module_version": "1.5.0",
      "_view_name": "ProgressView",
      "bar_style": "",
      "description": "",
      "description_tooltip": null,
      "layout": "IPY_MODEL_f8382d8bbb7f42f6a0f4d4028203615f",
      "max": 807,
      "min": 0,
      "orientation": "horizontal",
      "style": "IPY_MODEL_851b29291123491a821b1ce8088ca785",
      "value": 807
     }
    },
    "8b35a70a3b9e4f3b87cf2a7280439ac6": {
     "model_module": "@jupyter-widgets/base",
     "model_module_version": "1.2.0",
     "model_name": "LayoutModel",
     "state": {
      "_model_module": "@jupyter-widgets/base",
      "_model_module_version": "1.2.0",
      "_model_name": "LayoutModel",
      "_view_count": null,
      "_view_module": "@jupyter-widgets/base",
      "_view_module_version": "1.2.0",
      "_view_name": "LayoutView",
      "align_content": null,
      "align_items": null,
      "align_self": null,
      "border": null,
      "bottom": null,
      "display": null,
      "flex": null,
      "flex_flow": null,
      "grid_area": null,
      "grid_auto_columns": null,
      "grid_auto_flow": null,
      "grid_auto_rows": null,
      "grid_column": null,
      "grid_gap": null,
      "grid_row": null,
      "grid_template_areas": null,
      "grid_template_columns": null,
      "grid_template_rows": null,
      "height": null,
      "justify_content": null,
      "justify_items": null,
      "left": null,
      "margin": null,
      "max_height": null,
      "max_width": null,
      "min_height": null,
      "min_width": null,
      "object_fit": null,
      "object_position": null,
      "order": null,
      "overflow": null,
      "overflow_x": null,
      "overflow_y": null,
      "padding": null,
      "right": null,
      "top": null,
      "visibility": null,
      "width": null
     }
    },
    "948787e6434f419a86d9d7da831e2572": {
     "model_module": "@jupyter-widgets/controls",
     "model_module_version": "1.5.0",
     "model_name": "DescriptionStyleModel",
     "state": {
      "_model_module": "@jupyter-widgets/controls",
      "_model_module_version": "1.5.0",
      "_model_name": "DescriptionStyleModel",
      "_view_count": null,
      "_view_module": "@jupyter-widgets/base",
      "_view_module_version": "1.2.0",
      "_view_name": "StyleView",
      "description_width": ""
     }
    },
    "9ced4485d5c641eda90ab0634e0691d3": {
     "model_module": "@jupyter-widgets/base",
     "model_module_version": "1.2.0",
     "model_name": "LayoutModel",
     "state": {
      "_model_module": "@jupyter-widgets/base",
      "_model_module_version": "1.2.0",
      "_model_name": "LayoutModel",
      "_view_count": null,
      "_view_module": "@jupyter-widgets/base",
      "_view_module_version": "1.2.0",
      "_view_name": "LayoutView",
      "align_content": null,
      "align_items": null,
      "align_self": null,
      "border": null,
      "bottom": null,
      "display": null,
      "flex": null,
      "flex_flow": null,
      "grid_area": null,
      "grid_auto_columns": null,
      "grid_auto_flow": null,
      "grid_auto_rows": null,
      "grid_column": null,
      "grid_gap": null,
      "grid_row": null,
      "grid_template_areas": null,
      "grid_template_columns": null,
      "grid_template_rows": null,
      "height": null,
      "justify_content": null,
      "justify_items": null,
      "left": null,
      "margin": null,
      "max_height": null,
      "max_width": null,
      "min_height": null,
      "min_width": null,
      "object_fit": null,
      "object_position": null,
      "order": null,
      "overflow": null,
      "overflow_x": null,
      "overflow_y": null,
      "padding": null,
      "right": null,
      "top": null,
      "visibility": null,
      "width": null
     }
    },
    "9f5e5843559b4f9e8f3440ebd85743f8": {
     "model_module": "@jupyter-widgets/controls",
     "model_module_version": "1.5.0",
     "model_name": "DescriptionStyleModel",
     "state": {
      "_model_module": "@jupyter-widgets/controls",
      "_model_module_version": "1.5.0",
      "_model_name": "DescriptionStyleModel",
      "_view_count": null,
      "_view_module": "@jupyter-widgets/base",
      "_view_module_version": "1.2.0",
      "_view_name": "StyleView",
      "description_width": ""
     }
    },
    "a317a54aa1a349f490e388aacb2d1e4d": {
     "model_module": "@jupyter-widgets/controls",
     "model_module_version": "1.5.0",
     "model_name": "HBoxModel",
     "state": {
      "_dom_classes": [],
      "_model_module": "@jupyter-widgets/controls",
      "_model_module_version": "1.5.0",
      "_model_name": "HBoxModel",
      "_view_count": null,
      "_view_module": "@jupyter-widgets/controls",
      "_view_module_version": "1.5.0",
      "_view_name": "HBoxView",
      "box_style": "",
      "children": [
       "IPY_MODEL_c470a61e692a4459988f63f0024f7eac",
       "IPY_MODEL_5edd903b07594d128ded9b4844835159",
       "IPY_MODEL_2ac0cceac38e43adb00a10b778fad2df"
      ],
      "layout": "IPY_MODEL_c7f61bdee3ca4ca0a3f7d021aa558deb"
     }
    },
    "a51aa7b827db4f768dce6315dbebf379": {
     "model_module": "@jupyter-widgets/controls",
     "model_module_version": "1.5.0",
     "model_name": "HTMLModel",
     "state": {
      "_dom_classes": [],
      "_model_module": "@jupyter-widgets/controls",
      "_model_module_version": "1.5.0",
      "_model_name": "HTMLModel",
      "_view_count": null,
      "_view_module": "@jupyter-widgets/controls",
      "_view_module_version": "1.5.0",
      "_view_name": "HTMLView",
      "description": "",
      "description_tooltip": null,
      "layout": "IPY_MODEL_5f1fb4d40e154e27baa0d4f330df540e",
      "placeholder": "​",
      "style": "IPY_MODEL_948787e6434f419a86d9d7da831e2572",
      "value": "100%"
     }
    },
    "acee2c1ed91e44188d5ca40bddace4b1": {
     "model_module": "@jupyter-widgets/base",
     "model_module_version": "1.2.0",
     "model_name": "LayoutModel",
     "state": {
      "_model_module": "@jupyter-widgets/base",
      "_model_module_version": "1.2.0",
      "_model_name": "LayoutModel",
      "_view_count": null,
      "_view_module": "@jupyter-widgets/base",
      "_view_module_version": "1.2.0",
      "_view_name": "LayoutView",
      "align_content": null,
      "align_items": null,
      "align_self": null,
      "border": null,
      "bottom": null,
      "display": null,
      "flex": null,
      "flex_flow": null,
      "grid_area": null,
      "grid_auto_columns": null,
      "grid_auto_flow": null,
      "grid_auto_rows": null,
      "grid_column": null,
      "grid_gap": null,
      "grid_row": null,
      "grid_template_areas": null,
      "grid_template_columns": null,
      "grid_template_rows": null,
      "height": null,
      "justify_content": null,
      "justify_items": null,
      "left": null,
      "margin": null,
      "max_height": null,
      "max_width": null,
      "min_height": null,
      "min_width": null,
      "object_fit": null,
      "object_position": null,
      "order": null,
      "overflow": null,
      "overflow_x": null,
      "overflow_y": null,
      "padding": null,
      "right": null,
      "top": null,
      "visibility": null,
      "width": null
     }
    },
    "c470a61e692a4459988f63f0024f7eac": {
     "model_module": "@jupyter-widgets/controls",
     "model_module_version": "1.5.0",
     "model_name": "HTMLModel",
     "state": {
      "_dom_classes": [],
      "_model_module": "@jupyter-widgets/controls",
      "_model_module_version": "1.5.0",
      "_model_name": "HTMLModel",
      "_view_count": null,
      "_view_module": "@jupyter-widgets/controls",
      "_view_module_version": "1.5.0",
      "_view_name": "HTMLView",
      "description": "",
      "description_tooltip": null,
      "layout": "IPY_MODEL_70c7b641da5c4b82bbd5b2e1750f3b39",
      "placeholder": "​",
      "style": "IPY_MODEL_462d9e93a94f44868fec1ece82f0a241",
      "value": "100%"
     }
    },
    "c7f61bdee3ca4ca0a3f7d021aa558deb": {
     "model_module": "@jupyter-widgets/base",
     "model_module_version": "1.2.0",
     "model_name": "LayoutModel",
     "state": {
      "_model_module": "@jupyter-widgets/base",
      "_model_module_version": "1.2.0",
      "_model_name": "LayoutModel",
      "_view_count": null,
      "_view_module": "@jupyter-widgets/base",
      "_view_module_version": "1.2.0",
      "_view_name": "LayoutView",
      "align_content": null,
      "align_items": null,
      "align_self": null,
      "border": null,
      "bottom": null,
      "display": null,
      "flex": null,
      "flex_flow": null,
      "grid_area": null,
      "grid_auto_columns": null,
      "grid_auto_flow": null,
      "grid_auto_rows": null,
      "grid_column": null,
      "grid_gap": null,
      "grid_row": null,
      "grid_template_areas": null,
      "grid_template_columns": null,
      "grid_template_rows": null,
      "height": null,
      "justify_content": null,
      "justify_items": null,
      "left": null,
      "margin": null,
      "max_height": null,
      "max_width": null,
      "min_height": null,
      "min_width": null,
      "object_fit": null,
      "object_position": null,
      "order": null,
      "overflow": null,
      "overflow_x": null,
      "overflow_y": null,
      "padding": null,
      "right": null,
      "top": null,
      "visibility": "hidden",
      "width": null
     }
    },
    "cc57eeb92d32434ca82b7c3f669865d1": {
     "model_module": "@jupyter-widgets/controls",
     "model_module_version": "1.5.0",
     "model_name": "DescriptionStyleModel",
     "state": {
      "_model_module": "@jupyter-widgets/controls",
      "_model_module_version": "1.5.0",
      "_model_name": "DescriptionStyleModel",
      "_view_count": null,
      "_view_module": "@jupyter-widgets/base",
      "_view_module_version": "1.2.0",
      "_view_name": "StyleView",
      "description_width": ""
     }
    },
    "d3bc58d04d5f42a5a24bd467a9569e01": {
     "model_module": "@jupyter-widgets/controls",
     "model_module_version": "1.5.0",
     "model_name": "ProgressStyleModel",
     "state": {
      "_model_module": "@jupyter-widgets/controls",
      "_model_module_version": "1.5.0",
      "_model_name": "ProgressStyleModel",
      "_view_count": null,
      "_view_module": "@jupyter-widgets/base",
      "_view_module_version": "1.2.0",
      "_view_name": "StyleView",
      "bar_color": null,
      "description_width": ""
     }
    },
    "d95aea2b915b44f38b5090ee186abafd": {
     "model_module": "@jupyter-widgets/controls",
     "model_module_version": "1.5.0",
     "model_name": "DescriptionStyleModel",
     "state": {
      "_model_module": "@jupyter-widgets/controls",
      "_model_module_version": "1.5.0",
      "_model_name": "DescriptionStyleModel",
      "_view_count": null,
      "_view_module": "@jupyter-widgets/base",
      "_view_module_version": "1.2.0",
      "_view_name": "StyleView",
      "description_width": ""
     }
    },
    "dc4a8a3b0a8b4ef49dcd6269a1b32e14": {
     "model_module": "@jupyter-widgets/base",
     "model_module_version": "1.2.0",
     "model_name": "LayoutModel",
     "state": {
      "_model_module": "@jupyter-widgets/base",
      "_model_module_version": "1.2.0",
      "_model_name": "LayoutModel",
      "_view_count": null,
      "_view_module": "@jupyter-widgets/base",
      "_view_module_version": "1.2.0",
      "_view_name": "LayoutView",
      "align_content": null,
      "align_items": null,
      "align_self": null,
      "border": null,
      "bottom": null,
      "display": null,
      "flex": null,
      "flex_flow": null,
      "grid_area": null,
      "grid_auto_columns": null,
      "grid_auto_flow": null,
      "grid_auto_rows": null,
      "grid_column": null,
      "grid_gap": null,
      "grid_row": null,
      "grid_template_areas": null,
      "grid_template_columns": null,
      "grid_template_rows": null,
      "height": null,
      "justify_content": null,
      "justify_items": null,
      "left": null,
      "margin": null,
      "max_height": null,
      "max_width": null,
      "min_height": null,
      "min_width": null,
      "object_fit": null,
      "object_position": null,
      "order": null,
      "overflow": null,
      "overflow_x": null,
      "overflow_y": null,
      "padding": null,
      "right": null,
      "top": null,
      "visibility": "hidden",
      "width": null
     }
    },
    "ddb1791795134ac0a754748f9793c214": {
     "model_module": "@jupyter-widgets/base",
     "model_module_version": "1.2.0",
     "model_name": "LayoutModel",
     "state": {
      "_model_module": "@jupyter-widgets/base",
      "_model_module_version": "1.2.0",
      "_model_name": "LayoutModel",
      "_view_count": null,
      "_view_module": "@jupyter-widgets/base",
      "_view_module_version": "1.2.0",
      "_view_name": "LayoutView",
      "align_content": null,
      "align_items": null,
      "align_self": null,
      "border": null,
      "bottom": null,
      "display": null,
      "flex": null,
      "flex_flow": null,
      "grid_area": null,
      "grid_auto_columns": null,
      "grid_auto_flow": null,
      "grid_auto_rows": null,
      "grid_column": null,
      "grid_gap": null,
      "grid_row": null,
      "grid_template_areas": null,
      "grid_template_columns": null,
      "grid_template_rows": null,
      "height": null,
      "justify_content": null,
      "justify_items": null,
      "left": null,
      "margin": null,
      "max_height": null,
      "max_width": null,
      "min_height": null,
      "min_width": null,
      "object_fit": null,
      "object_position": null,
      "order": null,
      "overflow": null,
      "overflow_x": null,
      "overflow_y": null,
      "padding": null,
      "right": null,
      "top": null,
      "visibility": null,
      "width": null
     }
    },
    "dfd9dd713862479bba73b6c0a12a1902": {
     "model_module": "@jupyter-widgets/controls",
     "model_module_version": "1.5.0",
     "model_name": "HTMLModel",
     "state": {
      "_dom_classes": [],
      "_model_module": "@jupyter-widgets/controls",
      "_model_module_version": "1.5.0",
      "_model_name": "HTMLModel",
      "_view_count": null,
      "_view_module": "@jupyter-widgets/controls",
      "_view_module_version": "1.5.0",
      "_view_name": "HTMLView",
      "description": "",
      "description_tooltip": null,
      "layout": "IPY_MODEL_acee2c1ed91e44188d5ca40bddace4b1",
      "placeholder": "​",
      "style": "IPY_MODEL_cc57eeb92d32434ca82b7c3f669865d1",
      "value": "100%"
     }
    },
    "e4de75777bba4d72b61936baf3d84cbb": {
     "model_module": "@jupyter-widgets/base",
     "model_module_version": "1.2.0",
     "model_name": "LayoutModel",
     "state": {
      "_model_module": "@jupyter-widgets/base",
      "_model_module_version": "1.2.0",
      "_model_name": "LayoutModel",
      "_view_count": null,
      "_view_module": "@jupyter-widgets/base",
      "_view_module_version": "1.2.0",
      "_view_name": "LayoutView",
      "align_content": null,
      "align_items": null,
      "align_self": null,
      "border": null,
      "bottom": null,
      "display": null,
      "flex": null,
      "flex_flow": null,
      "grid_area": null,
      "grid_auto_columns": null,
      "grid_auto_flow": null,
      "grid_auto_rows": null,
      "grid_column": null,
      "grid_gap": null,
      "grid_row": null,
      "grid_template_areas": null,
      "grid_template_columns": null,
      "grid_template_rows": null,
      "height": null,
      "justify_content": null,
      "justify_items": null,
      "left": null,
      "margin": null,
      "max_height": null,
      "max_width": null,
      "min_height": null,
      "min_width": null,
      "object_fit": null,
      "object_position": null,
      "order": null,
      "overflow": null,
      "overflow_x": null,
      "overflow_y": null,
      "padding": null,
      "right": null,
      "top": null,
      "visibility": null,
      "width": null
     }
    },
    "f8093c8ddeec4c55ac6cc5f8f7df30bf": {
     "model_module": "@jupyter-widgets/base",
     "model_module_version": "1.2.0",
     "model_name": "LayoutModel",
     "state": {
      "_model_module": "@jupyter-widgets/base",
      "_model_module_version": "1.2.0",
      "_model_name": "LayoutModel",
      "_view_count": null,
      "_view_module": "@jupyter-widgets/base",
      "_view_module_version": "1.2.0",
      "_view_name": "LayoutView",
      "align_content": null,
      "align_items": null,
      "align_self": null,
      "border": null,
      "bottom": null,
      "display": null,
      "flex": null,
      "flex_flow": null,
      "grid_area": null,
      "grid_auto_columns": null,
      "grid_auto_flow": null,
      "grid_auto_rows": null,
      "grid_column": null,
      "grid_gap": null,
      "grid_row": null,
      "grid_template_areas": null,
      "grid_template_columns": null,
      "grid_template_rows": null,
      "height": null,
      "justify_content": null,
      "justify_items": null,
      "left": null,
      "margin": null,
      "max_height": null,
      "max_width": null,
      "min_height": null,
      "min_width": null,
      "object_fit": null,
      "object_position": null,
      "order": null,
      "overflow": null,
      "overflow_x": null,
      "overflow_y": null,
      "padding": null,
      "right": null,
      "top": null,
      "visibility": null,
      "width": null
     }
    },
    "f8382d8bbb7f42f6a0f4d4028203615f": {
     "model_module": "@jupyter-widgets/base",
     "model_module_version": "1.2.0",
     "model_name": "LayoutModel",
     "state": {
      "_model_module": "@jupyter-widgets/base",
      "_model_module_version": "1.2.0",
      "_model_name": "LayoutModel",
      "_view_count": null,
      "_view_module": "@jupyter-widgets/base",
      "_view_module_version": "1.2.0",
      "_view_name": "LayoutView",
      "align_content": null,
      "align_items": null,
      "align_self": null,
      "border": null,
      "bottom": null,
      "display": null,
      "flex": null,
      "flex_flow": null,
      "grid_area": null,
      "grid_auto_columns": null,
      "grid_auto_flow": null,
      "grid_auto_rows": null,
      "grid_column": null,
      "grid_gap": null,
      "grid_row": null,
      "grid_template_areas": null,
      "grid_template_columns": null,
      "grid_template_rows": null,
      "height": null,
      "justify_content": null,
      "justify_items": null,
      "left": null,
      "margin": null,
      "max_height": null,
      "max_width": null,
      "min_height": null,
      "min_width": null,
      "object_fit": null,
      "object_position": null,
      "order": null,
      "overflow": null,
      "overflow_x": null,
      "overflow_y": null,
      "padding": null,
      "right": null,
      "top": null,
      "visibility": null,
      "width": null
     }
    },
    "f9ec11073e484927a4cc1ee2e3da132f": {
     "model_module": "@jupyter-widgets/controls",
     "model_module_version": "1.5.0",
     "model_name": "HTMLModel",
     "state": {
      "_dom_classes": [],
      "_model_module": "@jupyter-widgets/controls",
      "_model_module_version": "1.5.0",
      "_model_name": "HTMLModel",
      "_view_count": null,
      "_view_module": "@jupyter-widgets/controls",
      "_view_module_version": "1.5.0",
      "_view_name": "HTMLView",
      "description": "",
      "description_tooltip": null,
      "layout": "IPY_MODEL_9ced4485d5c641eda90ab0634e0691d3",
      "placeholder": "​",
      "style": "IPY_MODEL_6f5ca39406174a4fb1bee9eb1e35fccb",
      "value": " 3/3 [13:53&lt;00:00, 275.36s/it]"
     }
    }
   }
  }
 },
 "nbformat": 4,
 "nbformat_minor": 0
}
