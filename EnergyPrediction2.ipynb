{
 "cells": [
  {
   "cell_type": "markdown",
   "metadata": {
    "id": "trbcfMV6vked"
   },
   "source": [
    "<https://www.kaggle.com/competitions/predict-energy-behavior-of-prosumers>\n"
   ]
  },
  {
   "cell_type": "code",
   "execution_count": 3,
   "metadata": {
    "executionInfo": {
     "elapsed": 518,
     "status": "ok",
     "timestamp": 1708615818396,
     "user": {
      "displayName": "Kai Lukowiak",
      "userId": "12340107642472090190"
     },
     "user_tz": 420
    },
    "id": "Jqmm_5s9KXkI"
   },
   "outputs": [],
   "source": []
  },
  {
   "cell_type": "code",
   "execution_count": 5,
   "metadata": {
    "colab": {
     "base_uri": "https://localhost:8080/"
    },
    "executionInfo": {
     "elapsed": 4919,
     "status": "ok",
     "timestamp": 1708615823312,
     "user": {
      "displayName": "Kai Lukowiak",
      "userId": "12340107642472090190"
     },
     "user_tz": 420
    },
    "id": "oSKniUdxtiTd",
    "outputId": "d43a0f58-d9e3-4835-e427-cb9c8a63bdd3"
   },
   "outputs": [],
   "source": [
    "import os\n",
    "from dataclasses import dataclass\n",
    "from datetime import datetime as dt\n",
    "\n",
    "import icecream\n",
    "import jax\n",
    "import jax.numpy as jnp  # Oddly works in colab to set gpu\n",
    "import numpy as np\n",
    "import optax\n",
    "import pandas as pd\n",
    "from flax.training import checkpoints, train_state\n",
    "from icecream import ic\n",
    "from jax import profiler, random\n",
    "from jax.tree_util import tree_flatten\n",
    "from torch.utils.tensorboard import SummaryWriter\n",
    "from tqdm.notebook import trange\n",
    "\n",
    "import hephaestus as hp\n",
    "\n",
    "icecream.install()\n",
    "ic_disable = True\n",
    "if ic_disable:\n",
    "    ic.disable()\n",
    "pd.options.mode.copy_on_write = True"
   ]
  },
  {
   "cell_type": "code",
   "execution_count": 6,
   "metadata": {
    "executionInfo": {
     "elapsed": 3,
     "status": "ok",
     "timestamp": 1708615823313,
     "user": {
      "displayName": "Kai Lukowiak",
      "userId": "12340107642472090190"
     },
     "user_tz": 420
    },
    "id": "Aju_XU24Licx"
   },
   "outputs": [],
   "source": [
    "def sinify_datetime(df, col):\n",
    "    df[col + \"_base_year\"] = df[col].dt.year\n",
    "    df[col + \"_day_sin\"] = np.sin(2 * np.pi * df[col].dt.day / 365.25)\n",
    "    df[col + \"_day_cos\"] = np.cos(2 * np.pi * df[col].dt.day / 365.25)\n",
    "    df[col + \"_hour_sin\"] = np.sin(2 * np.pi * df[col].dt.hour / 24)\n",
    "    df[col + \"_hour_cos\"] = np.cos(2 * np.pi * df[col].dt.hour / 24)\n",
    "    df[col + \"_is_weekend\"] = (\n",
    "        df[col].dt.dayofweek.isin([5, 6]).astype(str).map({\"True\": 1, \"False\": 0})\n",
    "    )\n",
    "\n",
    "    return df"
   ]
  },
  {
   "cell_type": "code",
   "execution_count": 7,
   "metadata": {
    "colab": {
     "base_uri": "https://localhost:8080/"
    },
    "executionInfo": {
     "elapsed": 48751,
     "status": "ok",
     "timestamp": 1708615872061,
     "user": {
      "displayName": "Kai Lukowiak",
      "userId": "12340107642472090190"
     },
     "user_tz": 420
    },
    "id": "_tRmKkEtLicx",
    "outputId": "3d468c8c-6e1d-4926-cf72-4e6a6b41ba02"
   },
   "outputs": [],
   "source": [
    "data = pd.read_csv(\"data/processed_energy.csv\")"
   ]
  },
  {
   "cell_type": "code",
   "execution_count": 8,
   "metadata": {
    "colab": {
     "base_uri": "https://localhost:8080/"
    },
    "executionInfo": {
     "elapsed": 13,
     "status": "ok",
     "timestamp": 1708615872061,
     "user": {
      "displayName": "Kai Lukowiak",
      "userId": "12340107642472090190"
     },
     "user_tz": 420
    },
    "id": "nq92rjraMxcf",
    "outputId": "b2b82144-a220-431b-85e6-fb7fcfeb7510"
   },
   "outputs": [
    {
     "data": {
      "text/plain": [
       "Index(['is_business', 'is_consumption', 'county_name', 'product_name',\n",
       "       'level_0', 'level_1', 'target', 'prediction_unit_id', 'month', 'day',\n",
       "       'hour', 'dayofweek', 'dayofyear', 'eic_count', 'installed_capacity',\n",
       "       'lowest_price_per_mwh', 'highest_price_per_mwh', 'euros_per_mwh',\n",
       "       'temperature_fcast_mean', 'dewpoint_fcast_mean',\n",
       "       'cloudcover_high_fcast_mean', 'cloudcover_low_fcast_mean',\n",
       "       'cloudcover_mid_fcast_mean', 'cloudcover_total_fcast_mean',\n",
       "       '10_metre_u_wind_component_fcast_mean',\n",
       "       '10_metre_v_wind_component_fcast_mean',\n",
       "       'direct_solar_radiation_fcast_mean',\n",
       "       'surface_solar_radiation_downwards_fcast_mean', 'snowfall_fcast_mean',\n",
       "       'total_precipitation_fcast_mean', 'temperature_fcast_mean_by_county',\n",
       "       'dewpoint_fcast_mean_by_county', 'cloudcover_high_fcast_mean_by_county',\n",
       "       'cloudcover_low_fcast_mean_by_county',\n",
       "       'cloudcover_mid_fcast_mean_by_county',\n",
       "       'cloudcover_total_fcast_mean_by_county',\n",
       "       '10_metre_u_wind_component_fcast_mean_by_county',\n",
       "       '10_metre_v_wind_component_fcast_mean_by_county',\n",
       "       'direct_solar_radiation_fcast_mean_by_county',\n",
       "       'surface_solar_radiation_downwards_fcast_mean_by_county',\n",
       "       'snowfall_fcast_mean_by_county',\n",
       "       'total_precipitation_fcast_mean_by_county', 'temperature_hist_mean',\n",
       "       'dewpoint_hist_mean', 'rain_hist_mean', 'snowfall_hist_mean',\n",
       "       'surface_pressure_hist_mean', 'cloudcover_total_hist_mean',\n",
       "       'cloudcover_low_hist_mean', 'cloudcover_mid_hist_mean',\n",
       "       'cloudcover_high_hist_mean', 'windspeed_10m_hist_mean',\n",
       "       'winddirection_10m_hist_mean', 'shortwave_radiation_hist_mean',\n",
       "       'direct_solar_radiation_hist_mean', 'diffuse_radiation_hist_mean',\n",
       "       'temperature_hist_mean_by_county', 'dewpoint_hist_mean_by_county',\n",
       "       'rain_hist_mean_by_county', 'snowfall_hist_mean_by_county',\n",
       "       'surface_pressure_hist_mean_by_county',\n",
       "       'cloudcover_total_hist_mean_by_county',\n",
       "       'cloudcover_low_hist_mean_by_county',\n",
       "       'cloudcover_mid_hist_mean_by_county',\n",
       "       'cloudcover_high_hist_mean_by_county',\n",
       "       'windspeed_10m_hist_mean_by_county',\n",
       "       'winddirection_10m_hist_mean_by_county',\n",
       "       'shortwave_radiation_hist_mean_by_county',\n",
       "       'direct_solar_radiation_hist_mean_by_county',\n",
       "       'diffuse_radiation_hist_mean_by_county'],\n",
       "      dtype='object')"
      ]
     },
     "execution_count": 8,
     "metadata": {},
     "output_type": "execute_result"
    }
   ],
   "source": [
    "data.columns"
   ]
  },
  {
   "cell_type": "code",
   "execution_count": 9,
   "metadata": {
    "executionInfo": {
     "elapsed": 14026,
     "status": "ok",
     "timestamp": 1708615886076,
     "user": {
      "displayName": "Kai Lukowiak",
      "userId": "12340107642472090190"
     },
     "user_tz": 420
    },
    "id": "4RZof2SNKXkK"
   },
   "outputs": [],
   "source": [
    "pre_train = hp.TabularTimeSeriesData(\n",
    "    data,\n",
    "    batch_size=3120 * 1,  # target_column=\"euros_per_mwh\"\n",
    "    target_column=\"target\",\n",
    ")  # .head(2688 * 100)\n",
    "\n",
    "# pre_train = hp.TabularDS(df)"
   ]
  },
  {
   "cell_type": "code",
   "execution_count": 10,
   "metadata": {
    "executionInfo": {
     "elapsed": 11,
     "status": "ok",
     "timestamp": 1708615886076,
     "user": {
      "displayName": "Kai Lukowiak",
      "userId": "12340107642472090190"
     },
     "user_tz": 420
    },
    "id": "Y4b7IkMWKXkK"
   },
   "outputs": [],
   "source": [
    "time_series_regressor = hp.time_series.MaskedTimeSeriesRegression(pre_train)"
   ]
  },
  {
   "cell_type": "code",
   "execution_count": 11,
   "metadata": {
    "executionInfo": {
     "elapsed": 1617,
     "status": "ok",
     "timestamp": 1708615887683,
     "user": {
      "displayName": "Kai Lukowiak",
      "userId": "12340107642472090190"
     },
     "user_tz": 420
    },
    "id": "D_XuHxTxKXkK"
   },
   "outputs": [],
   "source": [
    "# time_length = 1000 # 6336 * 3  # 112 * 3 #\n",
    "test_cat, test_num, y = pre_train[0]\n",
    "\n",
    "test_num_mask = hp.mask_tensor(test_num, pre_train)\n",
    "test_cat_mask = hp.mask_tensor(test_cat, pre_train)"
   ]
  },
  {
   "cell_type": "code",
   "execution_count": 12,
   "metadata": {
    "executionInfo": {
     "elapsed": 3,
     "status": "ok",
     "timestamp": 1708615887684,
     "user": {
      "displayName": "Kai Lukowiak",
      "userId": "12340107642472090190"
     },
     "user_tz": 420
    },
    "id": "pMS-gjmiVGsn"
   },
   "outputs": [],
   "source": [
    "def calculate_memory_footprint(params):\n",
    "    \"\"\"Calculate total memory footprint of JAX model parameters.\"\"\"\n",
    "    total_bytes = 0\n",
    "    # Flatten the parameter tree structure into a list of arrays\n",
    "    flat_params, _ = tree_flatten(params)\n",
    "    for param in flat_params:\n",
    "        # Calculate bytes: number of elements * size of each element\n",
    "        bytes_per_param = param.size * param.dtype.itemsize\n",
    "        total_bytes += bytes_per_param\n",
    "    return total_bytes"
   ]
  },
  {
   "cell_type": "code",
   "execution_count": 13,
   "metadata": {
    "executionInfo": {
     "elapsed": 9668,
     "status": "ok",
     "timestamp": 1708615897349,
     "user": {
      "displayName": "Kai Lukowiak",
      "userId": "12340107642472090190"
     },
     "user_tz": 420
    },
    "id": "IKsv7OeyKXkL"
   },
   "outputs": [],
   "source": [
    "tsm_root_key = random.PRNGKey(44)\n",
    "tsm_main_key, ts_params_key, ts_data_key = random.split(tsm_root_key, 3)\n",
    "\n",
    "time_series_regressor_vars = time_series_regressor.init(\n",
    "    tsm_main_key,\n",
    "    jnp.array([test_cat, test_cat_mask]),\n",
    "    jnp.array([test_num, test_num_mask]),\n",
    ")\n",
    "# shapes=[(2, 336, 1, 23), (), (2, 336, 23, 640)]"
   ]
  },
  {
   "cell_type": "code",
   "execution_count": 14,
   "metadata": {
    "colab": {
     "base_uri": "https://localhost:8080/"
    },
    "executionInfo": {
     "elapsed": 17,
     "status": "ok",
     "timestamp": 1708615897350,
     "user": {
      "displayName": "Kai Lukowiak",
      "userId": "12340107642472090190"
     },
     "user_tz": 420
    },
    "id": "fDTF1MdYvkew",
    "outputId": "f30f1700-41b4-4a35-bd18-1788e470a380"
   },
   "outputs": [
    {
     "data": {
      "text/plain": [
       "97"
      ]
     },
     "execution_count": 14,
     "metadata": {},
     "output_type": "execute_result"
    }
   ],
   "source": [
    "pre_train.n_tokens"
   ]
  },
  {
   "cell_type": "code",
   "execution_count": 15,
   "metadata": {
    "colab": {
     "base_uri": "https://localhost:8080/"
    },
    "executionInfo": {
     "elapsed": 16,
     "status": "ok",
     "timestamp": 1708615897350,
     "user": {
      "displayName": "Kai Lukowiak",
      "userId": "12340107642472090190"
     },
     "user_tz": 420
    },
    "id": "4SnEMFd2VPFX",
    "outputId": "57f1e311-6f47-4b08-b1c3-37b860a9bae9"
   },
   "outputs": [
    {
     "data": {
      "text/plain": [
       "2.5059131048619747"
      ]
     },
     "execution_count": 15,
     "metadata": {},
     "output_type": "execute_result"
    }
   ],
   "source": [
    "calculate_memory_footprint(time_series_regressor_vars) / (1024**3)"
   ]
  },
  {
   "cell_type": "code",
   "execution_count": 16,
   "metadata": {
    "colab": {
     "base_uri": "https://localhost:8080/"
    },
    "executionInfo": {
     "elapsed": 15,
     "status": "ok",
     "timestamp": 1708615897350,
     "user": {
      "displayName": "Kai Lukowiak",
      "userId": "12340107642472090190"
     },
     "user_tz": 420
    },
    "id": "MAkFPC_Jvkew",
    "outputId": "2a2350d1-0f35-4b53-daa2-07269a974d10"
   },
   "outputs": [
    {
     "data": {
      "text/plain": [
       "['is_business', 'is_consumption', 'county_name', 'product_name']"
      ]
     },
     "execution_count": 16,
     "metadata": {},
     "output_type": "execute_result"
    }
   ],
   "source": [
    "pre_train.category_columns"
   ]
  },
  {
   "cell_type": "code",
   "execution_count": 17,
   "metadata": {
    "executionInfo": {
     "elapsed": 14,
     "status": "ok",
     "timestamp": 1708615897350,
     "user": {
      "displayName": "Kai Lukowiak",
      "userId": "12340107642472090190"
     },
     "user_tz": 420
    },
    "id": "vgs982mAKXkM"
   },
   "outputs": [],
   "source": [
    "class TSBatch:\n",
    "    def __init__(self, numeric: jnp.ndarray, categorical: jnp.ndarray, y: jnp.ndarray):\n",
    "        self.numeric = numeric\n",
    "        self.categorical = categorical\n",
    "        self.y = y\n",
    "\n",
    "\n",
    "def make_batch(ds: hp.TabularTimeSeriesData, start: int, count: int) -> TSBatch:\n",
    "    numeric_list = []\n",
    "    categorical_list = []\n",
    "    y_list = []\n",
    "    for i in range(count):\n",
    "        idx = start + i\n",
    "        categorical, numeric, y = ds[idx]\n",
    "        numeric_list.append(numeric)\n",
    "        categorical_list.append(categorical)\n",
    "        y_list.append(y)\n",
    "\n",
    "    numeric = jnp.array(numeric_list)\n",
    "    categorical = jnp.array(categorical_list)\n",
    "    y = jnp.array(y_list)\n",
    "    batch = TSBatch(numeric=numeric, categorical=categorical, y=y)\n",
    "    return batch\n",
    "\n",
    "\n",
    "# batch = make_batch(pre_train, 0, 12)\n",
    "\n",
    "# r = time_series_regressor.apply(\n",
    "#     {\"params\": time_series_regressor_vars[\"params\"]},\n",
    "#     hp.mask_tensor(batch.categorical, pre_train, prng_key=ts_data_key),\n",
    "#     hp.mask_tensor(batch.numeric, pre_train, prng_key=ts_data_key),\n",
    "# )\n",
    "# r[0].shape, r[1].shape  # ((12, 336, 668), (12, 336, 23))"
   ]
  },
  {
   "cell_type": "code",
   "execution_count": 18,
   "metadata": {
    "executionInfo": {
     "elapsed": 14,
     "status": "ok",
     "timestamp": 1708615897350,
     "user": {
      "displayName": "Kai Lukowiak",
      "userId": "12340107642472090190"
     },
     "user_tz": 420
    },
    "id": "cHuB4H1bKXkN"
   },
   "outputs": [],
   "source": [
    "# max_len = 10000\n",
    "# d_pos_encoding = 32\n",
    "# n_features = 24\n",
    "# n_epochs = 9\n",
    "# seq_len = 200\n",
    "# position = jnp.arange(max_len)[:, jnp.newaxis]\n",
    "# div_term = jnp.exp(\n",
    "#     jnp.arange(0, d_pos_encoding, 2) * -(jnp.log(10000.0) / d_pos_encoding)\n",
    "# )\n",
    "# pe = jnp.zeros((max_len, d_pos_encoding))\n",
    "# pe = pe.at[:, 0::2].set(jnp.sin(position * div_term))\n",
    "# pe = pe.at[:, 1::2].set(jnp.cos(position * div_term))\n",
    "# pe = pe[:seq_len, :]\n",
    "# pe = pe[None, :, :, None]\n",
    "# pe = jnp.tile(pe, (n_epochs, 1, 1, n_features))\n",
    "# pe = pe.transpose((0, 1, 3, 2))  # (batch_size, seq_len, n_features, d_model)\n",
    "# # concatenate the positional encoding with the input"
   ]
  },
  {
   "cell_type": "code",
   "execution_count": null,
   "metadata": {
    "executionInfo": {
     "elapsed": 14,
     "status": "ok",
     "timestamp": 1708615897350,
     "user": {
      "displayName": "Kai Lukowiak",
      "userId": "12340107642472090190"
     },
     "user_tz": 420
    },
    "id": "SKcoTVP7KXkN"
   },
   "outputs": [],
   "source": [
    "# Plot the positional encoding\n",
    "# plt.figure(figsize=(15, 5))\n",
    "# plt.pcolormesh(pe[0, :, 0, :], cmap=\"viridis\")"
   ]
  },
  {
   "cell_type": "code",
   "execution_count": null,
   "metadata": {
    "executionInfo": {
     "elapsed": 14,
     "status": "ok",
     "timestamp": 1708615897350,
     "user": {
      "displayName": "Kai Lukowiak",
      "userId": "12340107642472090190"
     },
     "user_tz": 420
    },
    "id": "d99IwSuoKXkN"
   },
   "outputs": [],
   "source": [
    "# batch_size = 12\n",
    "# for i in range(len(pre_train) // batch_size):\n",
    "#     batch = make_batch(pre_train, i * batch_size, batch_size)\n",
    "#     r = time_series_regressor.apply(\n",
    "#         {\"params\": time_series_regressor_vars[\"params\"]},\n",
    "#         hp.mask_tensor(batch.numeric, pre_train, prng_key=ts_data_key),\n",
    "#         hp.mask_tensor(batch.categorical, pre_train, prng_key=ts_data_key),\n",
    "#     )\n",
    "#     print(r[0].shape, r[1].shape)"
   ]
  },
  {
   "cell_type": "code",
   "execution_count": 19,
   "metadata": {
    "executionInfo": {
     "elapsed": 14,
     "status": "ok",
     "timestamp": 1708615897350,
     "user": {
      "displayName": "Kai Lukowiak",
      "userId": "12340107642472090190"
     },
     "user_tz": 420
    },
    "id": "yBPnATvfKXkS"
   },
   "outputs": [],
   "source": [
    "mts_root_key = random.PRNGKey(42)\n",
    "\n",
    "mts_main_key, mts_params_key, mts_dropout_key = random.split(mts_root_key, 3)"
   ]
  },
  {
   "cell_type": "code",
   "execution_count": 20,
   "metadata": {
    "executionInfo": {
     "elapsed": 14,
     "status": "ok",
     "timestamp": 1708615897350,
     "user": {
      "displayName": "Kai Lukowiak",
      "userId": "12340107642472090190"
     },
     "user_tz": 420
    },
    "id": "IpTh3llbKXkS"
   },
   "outputs": [],
   "source": [
    "# mts_mi = hp.create_masked_time_series_model_inputs(pre_train, 0, 3)"
   ]
  },
  {
   "cell_type": "code",
   "execution_count": 21,
   "metadata": {
    "colab": {
     "base_uri": "https://localhost:8080/",
     "height": 349
    },
    "executionInfo": {
     "elapsed": 1893,
     "status": "error",
     "timestamp": 1708615899230,
     "user": {
      "displayName": "Kai Lukowiak",
      "userId": "12340107642472090190"
     },
     "user_tz": 420
    },
    "id": "-q12dL8eKXkS",
    "outputId": "6b25a61b-77a8-4afc-8fe4-4882df51c265"
   },
   "outputs": [
    {
     "ename": "ValueError",
     "evalue": "not enough values to unpack (expected 3, got 2)",
     "output_type": "error",
     "traceback": [
      "\u001b[0;31m---------------------------------------------------------------------------\u001b[0m",
      "\u001b[0;31mValueError\u001b[0m                                Traceback (most recent call last)",
      "\u001b[1;32m/home/sagemaker-user/Hephaestus/EnergyPrediction2.ipynb Cell 23\u001b[0m line \u001b[0;36m5\n\u001b[1;32m     <a href='vscode-notebook-cell://hgapw2n7w4avjwl.studio.us-west-2.sagemaker.aws/home/sagemaker-user/Hephaestus/EnergyPrediction2.ipynb#X40sdnNjb2RlLXJlbW90ZQ%3D%3D?line=43'>44</a>\u001b[0m     \u001b[39mreturn\u001b[39;00m total_loss, MultiLoss(\n\u001b[1;32m     <a href='vscode-notebook-cell://hgapw2n7w4avjwl.studio.us-west-2.sagemaker.aws/home/sagemaker-user/Hephaestus/EnergyPrediction2.ipynb#X40sdnNjb2RlLXJlbW90ZQ%3D%3D?line=44'>45</a>\u001b[0m         total_loss\u001b[39m=\u001b[39mtotal_loss,\n\u001b[1;32m     <a href='vscode-notebook-cell://hgapw2n7w4avjwl.studio.us-west-2.sagemaker.aws/home/sagemaker-user/Hephaestus/EnergyPrediction2.ipynb#X40sdnNjb2RlLXJlbW90ZQ%3D%3D?line=45'>46</a>\u001b[0m         categorical_loss\u001b[39m=\u001b[39mcategorical_loss,\n\u001b[1;32m     <a href='vscode-notebook-cell://hgapw2n7w4avjwl.studio.us-west-2.sagemaker.aws/home/sagemaker-user/Hephaestus/EnergyPrediction2.ipynb#X40sdnNjb2RlLXJlbW90ZQ%3D%3D?line=46'>47</a>\u001b[0m         numeric_loss\u001b[39m=\u001b[39mnumeric_loss,\n\u001b[1;32m     <a href='vscode-notebook-cell://hgapw2n7w4avjwl.studio.us-west-2.sagemaker.aws/home/sagemaker-user/Hephaestus/EnergyPrediction2.ipynb#X40sdnNjb2RlLXJlbW90ZQ%3D%3D?line=47'>48</a>\u001b[0m         target_loss\u001b[39m=\u001b[39mtarget_loss,\n\u001b[1;32m     <a href='vscode-notebook-cell://hgapw2n7w4avjwl.studio.us-west-2.sagemaker.aws/home/sagemaker-user/Hephaestus/EnergyPrediction2.ipynb#X40sdnNjb2RlLXJlbW90ZQ%3D%3D?line=48'>49</a>\u001b[0m     )\n\u001b[1;32m     <a href='vscode-notebook-cell://hgapw2n7w4avjwl.studio.us-west-2.sagemaker.aws/home/sagemaker-user/Hephaestus/EnergyPrediction2.ipynb#X40sdnNjb2RlLXJlbW90ZQ%3D%3D?line=51'>52</a>\u001b[0m batch \u001b[39m=\u001b[39m make_batch(pre_train, \u001b[39m0\u001b[39m, \u001b[39m2\u001b[39m)\n\u001b[0;32m---> <a href='vscode-notebook-cell://hgapw2n7w4avjwl.studio.us-west-2.sagemaker.aws/home/sagemaker-user/Hephaestus/EnergyPrediction2.ipynb#X40sdnNjb2RlLXJlbW90ZQ%3D%3D?line=52'>53</a>\u001b[0m calculate_loss(\n\u001b[1;32m     <a href='vscode-notebook-cell://hgapw2n7w4avjwl.studio.us-west-2.sagemaker.aws/home/sagemaker-user/Hephaestus/EnergyPrediction2.ipynb#X40sdnNjb2RlLXJlbW90ZQ%3D%3D?line=53'>54</a>\u001b[0m     time_series_regressor_vars[\u001b[39m\"\u001b[39;49m\u001b[39mparams\u001b[39;49m\u001b[39m\"\u001b[39;49m], time_series_regressor, batch, pre_train\n\u001b[1;32m     <a href='vscode-notebook-cell://hgapw2n7w4avjwl.studio.us-west-2.sagemaker.aws/home/sagemaker-user/Hephaestus/EnergyPrediction2.ipynb#X40sdnNjb2RlLXJlbW90ZQ%3D%3D?line=54'>55</a>\u001b[0m )\n",
      "\u001b[1;32m/home/sagemaker-user/Hephaestus/EnergyPrediction2.ipynb Cell 23\u001b[0m line \u001b[0;36m1\n\u001b[1;32m     <a href='vscode-notebook-cell://hgapw2n7w4avjwl.studio.us-west-2.sagemaker.aws/home/sagemaker-user/Hephaestus/EnergyPrediction2.ipynb#X40sdnNjb2RlLXJlbW90ZQ%3D%3D?line=9'>10</a>\u001b[0m numeric_loss_scale \u001b[39m=\u001b[39m \u001b[39m1.0\u001b[39m\n\u001b[1;32m     <a href='vscode-notebook-cell://hgapw2n7w4avjwl.studio.us-west-2.sagemaker.aws/home/sagemaker-user/Hephaestus/EnergyPrediction2.ipynb#X40sdnNjb2RlLXJlbW90ZQ%3D%3D?line=10'>11</a>\u001b[0m target_loss_scale \u001b[39m=\u001b[39m \u001b[39m1.0\u001b[39m\n\u001b[0;32m---> <a href='vscode-notebook-cell://hgapw2n7w4avjwl.studio.us-west-2.sagemaker.aws/home/sagemaker-user/Hephaestus/EnergyPrediction2.ipynb#X40sdnNjb2RlLXJlbW90ZQ%3D%3D?line=11'>12</a>\u001b[0m category_out, numeric_out, target_out \u001b[39m=\u001b[39m state\u001b[39m.\u001b[39mapply(\n\u001b[1;32m     <a href='vscode-notebook-cell://hgapw2n7w4avjwl.studio.us-west-2.sagemaker.aws/home/sagemaker-user/Hephaestus/EnergyPrediction2.ipynb#X40sdnNjb2RlLXJlbW90ZQ%3D%3D?line=12'>13</a>\u001b[0m     {\u001b[39m\"\u001b[39m\u001b[39mparams\u001b[39m\u001b[39m\"\u001b[39m: params},\n\u001b[1;32m     <a href='vscode-notebook-cell://hgapw2n7w4avjwl.studio.us-west-2.sagemaker.aws/home/sagemaker-user/Hephaestus/EnergyPrediction2.ipynb#X40sdnNjb2RlLXJlbW90ZQ%3D%3D?line=13'>14</a>\u001b[0m     hp\u001b[39m.\u001b[39mmask_tensor(inputs\u001b[39m.\u001b[39mcategorical, pre_train, prng_key\u001b[39m=\u001b[39mts_data_key),\n\u001b[1;32m     <a href='vscode-notebook-cell://hgapw2n7w4avjwl.studio.us-west-2.sagemaker.aws/home/sagemaker-user/Hephaestus/EnergyPrediction2.ipynb#X40sdnNjb2RlLXJlbW90ZQ%3D%3D?line=14'>15</a>\u001b[0m     hp\u001b[39m.\u001b[39mmask_tensor(inputs\u001b[39m.\u001b[39mnumeric, pre_train, prng_key\u001b[39m=\u001b[39mts_data_key),\n\u001b[1;32m     <a href='vscode-notebook-cell://hgapw2n7w4avjwl.studio.us-west-2.sagemaker.aws/home/sagemaker-user/Hephaestus/EnergyPrediction2.ipynb#X40sdnNjb2RlLXJlbW90ZQ%3D%3D?line=15'>16</a>\u001b[0m )\n\u001b[1;32m     <a href='vscode-notebook-cell://hgapw2n7w4avjwl.studio.us-west-2.sagemaker.aws/home/sagemaker-user/Hephaestus/EnergyPrediction2.ipynb#X40sdnNjb2RlLXJlbW90ZQ%3D%3D?line=16'>17</a>\u001b[0m numeric_col_tokens \u001b[39m=\u001b[39m dataset\u001b[39m.\u001b[39mnumeric_col_tokens\u001b[39m.\u001b[39mclone()\n\u001b[1;32m     <a href='vscode-notebook-cell://hgapw2n7w4avjwl.studio.us-west-2.sagemaker.aws/home/sagemaker-user/Hephaestus/EnergyPrediction2.ipynb#X40sdnNjb2RlLXJlbW90ZQ%3D%3D?line=17'>18</a>\u001b[0m numeric_col_tokens \u001b[39m=\u001b[39m numeric_col_tokens[\u001b[39mNone\u001b[39;00m, \u001b[39mNone\u001b[39;00m, :]\n",
      "\u001b[0;31mValueError\u001b[0m: not enough values to unpack (expected 3, got 2)"
     ]
    }
   ],
   "source": [
    "@dataclass\n",
    "class MultiLoss:\n",
    "    total_loss: jnp.array\n",
    "    categorical_loss: jnp.array\n",
    "    numeric_loss: jnp.array\n",
    "    target_loss: jnp.array\n",
    "\n",
    "\n",
    "def calculate_loss(params, state, inputs, dataset):\n",
    "    numeric_loss_scale = 1.0\n",
    "    target_loss_scale = 1.0\n",
    "    category_out, numeric_out, target_out = state.apply(\n",
    "        {\"params\": params},\n",
    "        hp.mask_tensor(inputs.categorical, pre_train, prng_key=ts_data_key),\n",
    "        hp.mask_tensor(inputs.numeric, pre_train, prng_key=ts_data_key),\n",
    "    )\n",
    "    numeric_col_tokens = dataset.numeric_col_tokens.clone()\n",
    "    numeric_col_tokens = numeric_col_tokens[None, None, :]\n",
    "    repeated_numeric_col_tokens = jnp.tile(\n",
    "        numeric_col_tokens, (category_out.shape[0], category_out.shape[1], 1)\n",
    "    )\n",
    "    # repeated_numeric_col_tokens = jnp.tile(\n",
    "    #     numeric_col_tokens, (inputs.categorical.shape[0], 1)\n",
    "    # )\n",
    "    ic(repeated_numeric_col_tokens.shape, inputs.categorical.shape, category_out.shape)\n",
    "    categorical_targets = jnp.concatenate(\n",
    "        [\n",
    "            inputs.categorical,\n",
    "            repeated_numeric_col_tokens,\n",
    "        ],\n",
    "        axis=-1,\n",
    "    )\n",
    "    ic(categorical_targets.shape)\n",
    "    categorical_loss = optax.softmax_cross_entropy_with_integer_labels(\n",
    "        category_out, categorical_targets\n",
    "    ).mean()\n",
    "    numeric_loss = optax.squared_error(numeric_out, inputs.numeric).mean()\n",
    "    target_loss = optax.squared_error(target_out, jnp.squeeze(inputs.y, -1)).mean()\n",
    "    total_loss = (\n",
    "        categorical_loss\n",
    "        + numeric_loss * numeric_loss_scale\n",
    "        + target_loss * target_loss_scale\n",
    "    )\n",
    "    return total_loss, MultiLoss(\n",
    "        total_loss=total_loss,\n",
    "        categorical_loss=categorical_loss,\n",
    "        numeric_loss=numeric_loss,\n",
    "        target_loss=target_loss,\n",
    "    )\n",
    "\n",
    "\n",
    "batch = make_batch(pre_train, 0, 2)\n",
    "calculate_loss(\n",
    "    time_series_regressor_vars[\"params\"], time_series_regressor, batch, pre_train\n",
    ")"
   ]
  },
  {
   "cell_type": "code",
   "execution_count": null,
   "metadata": {
    "executionInfo": {
     "elapsed": 5,
     "status": "aborted",
     "timestamp": 1708615899231,
     "user": {
      "displayName": "Kai Lukowiak",
      "userId": "12340107642472090190"
     },
     "user_tz": 420
    },
    "id": "OqbpmvvZH6SF"
   },
   "outputs": [],
   "source": [
    "batch.y.shape"
   ]
  },
  {
   "cell_type": "markdown",
   "metadata": {
    "id": "jF_WYD8TH53-"
   },
   "source": [
    "\n"
   ]
  },
  {
   "cell_type": "code",
   "execution_count": null,
   "metadata": {
    "executionInfo": {
     "elapsed": 5,
     "status": "aborted",
     "timestamp": 1708615899231,
     "user": {
      "displayName": "Kai Lukowiak",
      "userId": "12340107642472090190"
     },
     "user_tz": 420
    },
    "id": "FxrHDzyr3UGx"
   },
   "outputs": [],
   "source": [
    "%tensorboard \\\n",
    "        --logdir '/content/drive/MyDrive/Colab Notebooks/Hephaestus/runs' \\\n",
    "        --load_fast=false"
   ]
  },
  {
   "cell_type": "code",
   "execution_count": null,
   "metadata": {
    "colab": {
     "base_uri": "https://localhost:8080/",
     "height": 1000
    },
    "executionInfo": {
     "elapsed": 10420,
     "status": "error",
     "timestamp": 1708616141750,
     "user": {
      "displayName": "Kai Lukowiak",
      "userId": "12340107642472090190"
     },
     "user_tz": 420
    },
    "id": "RIXu3GkdYzNA",
    "outputId": "442a50c4-116f-4373-a127-279f51b091e5"
   },
   "outputs": [
    {
     "ename": "ValueError",
     "evalue": "RESOURCE_EXHAUSTED: Out of memory while trying to allocate 1113772544 bytes.\nBufferAssignment OOM Debugging.\nBufferAssignment stats:\n             parameter allocation:   25.95MiB\n              constant allocation:         0B\n        maybe_live_out allocation:    1.04GiB\n     preallocated temp allocation:    4.00MiB\n  preallocated temp fragmentation:         0B (0.00%)\n                 total allocation:    1.07GiB\n              total fragmentation:       112B (0.00%)\nPeak buffers:\n\tBuffer 1:\n\t\tSize: 1.04GiB\n\t\tOperator: op_name=\"jit(dot_general)/jit(main)/dot_general[dimension_numbers=(((3, 4), (0, 1)), ((), ())) precision=None preferred_element_type=None]\" source_file=\"/usr/local/lib/python3.10/dist-packages/flax/linen/linear.py\" source_line=195\n\t\tXLA Label: custom-call\n\t\tShape: f32[424456,656]\n\t\t==========================\n\n\tBuffer 2:\n\t\tSize: 25.91MiB\n\t\tEntry Parameter Subshape: f32[2,3121,68,4,4]\n\t\t==========================\n\n\tBuffer 3:\n\t\tSize: 4.00MiB\n\t\tOperator: op_name=\"jit(dot_general)/jit(main)/dot_general[dimension_numbers=(((3, 4), (0, 1)), ((), ())) precision=None preferred_element_type=None]\" source_file=\"/usr/local/lib/python3.10/dist-packages/flax/linen/linear.py\" source_line=195\n\t\tXLA Label: custom-call\n\t\tShape: s8[4194304]\n\t\t==========================\n\n\tBuffer 4:\n\t\tSize: 41.0KiB\n\t\tEntry Parameter Subshape: f32[4,4,656]\n\t\t==========================\n\n\tBuffer 5:\n\t\tSize: 16B\n\t\tOperator: op_name=\"jit(dot_general)/jit(main)/dot_general[dimension_numbers=(((3, 4), (0, 1)), ((), ())) precision=None preferred_element_type=None]\" source_file=\"/usr/local/lib/python3.10/dist-packages/flax/linen/linear.py\" source_line=195\n\t\tXLA Label: custom-call\n\t\tShape: (f32[424456,656], s8[4194304])\n\t\t==========================\n\n",
     "output_type": "error",
     "traceback": [
      "\u001b[0;31m---------------------------------------------------------------------------\u001b[0m",
      "\u001b[0;31mValueError\u001b[0m                                Traceback (most recent call last)",
      "\u001b[0;32m<ipython-input-28-dbc2aab97d52>\u001b[0m in \u001b[0;36m<cell line: 89>\u001b[0;34m()\u001b[0m\n\u001b[1;32m     87\u001b[0m \u001b[0mbatch\u001b[0m \u001b[0;34m=\u001b[0m \u001b[0mmake_batch\u001b[0m\u001b[0;34m(\u001b[0m\u001b[0mpre_train\u001b[0m\u001b[0;34m,\u001b[0m \u001b[0;36m0\u001b[0m\u001b[0;34m,\u001b[0m \u001b[0mbatch_size\u001b[0m\u001b[0;34m)\u001b[0m\u001b[0;34m\u001b[0m\u001b[0;34m\u001b[0m\u001b[0m\n\u001b[1;32m     88\u001b[0m \u001b[0;34m\u001b[0m\u001b[0m\n\u001b[0;32m---> 89\u001b[0;31m \u001b[0mstate\u001b[0m \u001b[0;34m=\u001b[0m \u001b[0mcreate_train_state\u001b[0m\u001b[0;34m(\u001b[0m\u001b[0mtime_series_regressor\u001b[0m\u001b[0;34m,\u001b[0m \u001b[0mmts_main_key\u001b[0m\u001b[0;34m,\u001b[0m \u001b[0mbatch\u001b[0m\u001b[0;34m,\u001b[0m \u001b[0;36m0.0001\u001b[0m\u001b[0;34m)\u001b[0m\u001b[0;34m\u001b[0m\u001b[0;34m\u001b[0m\u001b[0m\n\u001b[0m\u001b[1;32m     90\u001b[0m \u001b[0;34m\u001b[0m\u001b[0m\n\u001b[1;32m     91\u001b[0m summary_writer = SummaryWriter(\n",
      "\u001b[0;32m<ipython-input-28-dbc2aab97d52>\u001b[0m in \u001b[0;36mcreate_train_state\u001b[0;34m(model, prng, batch, lr)\u001b[0m\n\u001b[1;32m     73\u001b[0m \u001b[0;34m\u001b[0m\u001b[0m\n\u001b[1;32m     74\u001b[0m \u001b[0;32mdef\u001b[0m \u001b[0mcreate_train_state\u001b[0m\u001b[0;34m(\u001b[0m\u001b[0mmodel\u001b[0m\u001b[0;34m,\u001b[0m \u001b[0mprng\u001b[0m\u001b[0;34m,\u001b[0m \u001b[0mbatch\u001b[0m\u001b[0;34m,\u001b[0m \u001b[0mlr\u001b[0m\u001b[0;34m)\u001b[0m\u001b[0;34m:\u001b[0m\u001b[0;34m\u001b[0m\u001b[0;34m\u001b[0m\u001b[0m\n\u001b[0;32m---> 75\u001b[0;31m     \u001b[0mparams\u001b[0m \u001b[0;34m=\u001b[0m \u001b[0mmodel\u001b[0m\u001b[0;34m.\u001b[0m\u001b[0minit\u001b[0m\u001b[0;34m(\u001b[0m\u001b[0mprng\u001b[0m\u001b[0;34m,\u001b[0m \u001b[0mbatch\u001b[0m\u001b[0;34m.\u001b[0m\u001b[0mcategorical\u001b[0m\u001b[0;34m,\u001b[0m \u001b[0mbatch\u001b[0m\u001b[0;34m.\u001b[0m\u001b[0mnumeric\u001b[0m\u001b[0;34m)\u001b[0m\u001b[0;34m\u001b[0m\u001b[0;34m\u001b[0m\u001b[0m\n\u001b[0m\u001b[1;32m     76\u001b[0m     \u001b[0moptimizer\u001b[0m \u001b[0;34m=\u001b[0m \u001b[0moptax\u001b[0m\u001b[0;34m.\u001b[0m\u001b[0mchain\u001b[0m\u001b[0;34m(\u001b[0m\u001b[0moptax\u001b[0m\u001b[0;34m.\u001b[0m\u001b[0mclip_by_global_norm\u001b[0m\u001b[0;34m(\u001b[0m\u001b[0;36m0.4\u001b[0m\u001b[0;34m)\u001b[0m\u001b[0;34m,\u001b[0m \u001b[0moptax\u001b[0m\u001b[0;34m.\u001b[0m\u001b[0madam\u001b[0m\u001b[0;34m(\u001b[0m\u001b[0mlr\u001b[0m\u001b[0;34m)\u001b[0m\u001b[0;34m)\u001b[0m\u001b[0;34m\u001b[0m\u001b[0;34m\u001b[0m\u001b[0m\n\u001b[1;32m     77\u001b[0m     \u001b[0;31m# optimizer_state = optimizer.init(params)\u001b[0m\u001b[0;34m\u001b[0m\u001b[0;34m\u001b[0m\u001b[0m\n",
      "    \u001b[0;31m[... skipping hidden 9 frame]\u001b[0m\n",
      "\u001b[0;32m/content/drive/MyDrive/Colab Notebooks/Hephaestus/hephaestus/models/time_series.py\u001b[0m in \u001b[0;36m__call__\u001b[0;34m(self, categorical_inputs, numeric_inputs)\u001b[0m\n\u001b[1;32m    352\u001b[0m     ) -> jnp.array:\n\u001b[1;32m    353\u001b[0m         \u001b[0;34m\"\"\" \"\"\"\u001b[0m\u001b[0;34m\u001b[0m\u001b[0;34m\u001b[0m\u001b[0m\n\u001b[0;32m--> 354\u001b[0;31m         out = MaskedTimeSeries(self.dataset, self.d_model, self.n_heads)(\n\u001b[0m\u001b[1;32m    355\u001b[0m             \u001b[0mcategorical_inputs\u001b[0m\u001b[0;34m,\u001b[0m \u001b[0mnumeric_inputs\u001b[0m\u001b[0;34m\u001b[0m\u001b[0;34m\u001b[0m\u001b[0m\n\u001b[1;32m    356\u001b[0m         )\n",
      "    \u001b[0;31m[... skipping hidden 2 frame]\u001b[0m\n",
      "\u001b[0;32m/content/drive/MyDrive/Colab Notebooks/Hephaestus/hephaestus/models/time_series.py\u001b[0m in \u001b[0;36m__call__\u001b[0;34m(self, categorical_inputs, numeric_inputs)\u001b[0m\n\u001b[1;32m    272\u001b[0m         \u001b[0;31m# n_vals = categorical_inputs.shape[0]\u001b[0m\u001b[0;34m\u001b[0m\u001b[0;34m\u001b[0m\u001b[0m\n\u001b[1;32m    273\u001b[0m         \u001b[0mic\u001b[0m\u001b[0;34m(\u001b[0m\u001b[0mcategorical_inputs\u001b[0m\u001b[0;34m.\u001b[0m\u001b[0mshape\u001b[0m\u001b[0;34m,\u001b[0m \u001b[0mnumeric_inputs\u001b[0m\u001b[0;34m.\u001b[0m\u001b[0mshape\u001b[0m\u001b[0;34m)\u001b[0m\u001b[0;34m\u001b[0m\u001b[0;34m\u001b[0m\u001b[0m\n\u001b[0;32m--> 274\u001b[0;31m         out = TimeSeriesTransformer(self.dataset, self.d_model, self.n_heads)(\n\u001b[0m\u001b[1;32m    275\u001b[0m             \u001b[0mnumeric_inputs\u001b[0m\u001b[0;34m=\u001b[0m\u001b[0mnumeric_inputs\u001b[0m\u001b[0;34m,\u001b[0m \u001b[0mcategorical_inputs\u001b[0m\u001b[0;34m=\u001b[0m\u001b[0mcategorical_inputs\u001b[0m\u001b[0;34m\u001b[0m\u001b[0;34m\u001b[0m\u001b[0m\n\u001b[1;32m    276\u001b[0m         )\n",
      "    \u001b[0;31m[... skipping hidden 2 frame]\u001b[0m\n",
      "\u001b[0;32m/content/drive/MyDrive/Colab Notebooks/Hephaestus/hephaestus/models/time_series.py\u001b[0m in \u001b[0;36m__call__\u001b[0;34m(self, categorical_inputs, numeric_inputs)\u001b[0m\n\u001b[1;32m    192\u001b[0m         \u001b[0;31m# )(q=col_embeddings, k=kv_embeddings, v=kv_embeddings)\u001b[0m\u001b[0;34m\u001b[0m\u001b[0;34m\u001b[0m\u001b[0m\n\u001b[1;32m    193\u001b[0m         \u001b[0mic\u001b[0m\u001b[0;34m(\u001b[0m\u001b[0mout\u001b[0m\u001b[0;34m.\u001b[0m\u001b[0mshape\u001b[0m\u001b[0;34m)\u001b[0m\u001b[0;34m\u001b[0m\u001b[0;34m\u001b[0m\u001b[0m\n\u001b[0;32m--> 194\u001b[0;31m         out = nn.MultiHeadDotProductAttention(num_heads=self.n_heads, qkv_features=16)(\n\u001b[0m\u001b[1;32m    195\u001b[0m             \u001b[0mout\u001b[0m  \u001b[0;31m# col_embeddings, kv_embeddings, kv_embeddings\u001b[0m\u001b[0;34m\u001b[0m\u001b[0;34m\u001b[0m\u001b[0m\n\u001b[1;32m    196\u001b[0m         )\n",
      "    \u001b[0;31m[... skipping hidden 2 frame]\u001b[0m\n",
      "\u001b[0;32m/usr/local/lib/python3.10/dist-packages/flax/linen/attention.py\u001b[0m in \u001b[0;36m__call__\u001b[0;34m(self, inputs_q, inputs_k, inputs_v, inputs_kv, mask, deterministic, dropout_rng, sow_weights)\u001b[0m\n\u001b[1;32m    557\u001b[0m       )\n\u001b[1;32m    558\u001b[0m     \u001b[0;31m# back to the original inputs dimensions\u001b[0m\u001b[0;34m\u001b[0m\u001b[0;34m\u001b[0m\u001b[0m\n\u001b[0;32m--> 559\u001b[0;31m     out = DenseGeneral(\n\u001b[0m\u001b[1;32m    560\u001b[0m       \u001b[0mfeatures\u001b[0m\u001b[0;34m=\u001b[0m\u001b[0mfeatures\u001b[0m\u001b[0;34m,\u001b[0m\u001b[0;34m\u001b[0m\u001b[0;34m\u001b[0m\u001b[0m\n\u001b[1;32m    561\u001b[0m       \u001b[0maxis\u001b[0m\u001b[0;34m=\u001b[0m\u001b[0;34m(\u001b[0m\u001b[0;34m-\u001b[0m\u001b[0;36m2\u001b[0m\u001b[0;34m,\u001b[0m \u001b[0;34m-\u001b[0m\u001b[0;36m1\u001b[0m\u001b[0;34m)\u001b[0m\u001b[0;34m,\u001b[0m\u001b[0;34m\u001b[0m\u001b[0;34m\u001b[0m\u001b[0m\n",
      "    \u001b[0;31m[... skipping hidden 2 frame]\u001b[0m\n",
      "\u001b[0;32m/usr/local/lib/python3.10/dist-packages/flax/linen/linear.py\u001b[0m in \u001b[0;36m__call__\u001b[0;34m(self, inputs)\u001b[0m\n\u001b[1;32m    193\u001b[0m     \u001b[0;32melse\u001b[0m\u001b[0;34m:\u001b[0m\u001b[0;34m\u001b[0m\u001b[0;34m\u001b[0m\u001b[0m\n\u001b[1;32m    194\u001b[0m       \u001b[0mdot_general\u001b[0m \u001b[0;34m=\u001b[0m \u001b[0mlax\u001b[0m\u001b[0;34m.\u001b[0m\u001b[0mdot_general\u001b[0m\u001b[0;34m\u001b[0m\u001b[0;34m\u001b[0m\u001b[0m\n\u001b[0;32m--> 195\u001b[0;31m     out = dot_general(\n\u001b[0m\u001b[1;32m    196\u001b[0m       \u001b[0minputs\u001b[0m\u001b[0;34m,\u001b[0m\u001b[0;34m\u001b[0m\u001b[0;34m\u001b[0m\u001b[0m\n\u001b[1;32m    197\u001b[0m       \u001b[0mkernel\u001b[0m\u001b[0;34m,\u001b[0m\u001b[0;34m\u001b[0m\u001b[0;34m\u001b[0m\u001b[0m\n",
      "    \u001b[0;31m[... skipping hidden 4 frame]\u001b[0m\n",
      "\u001b[0;32m/usr/local/lib/python3.10/dist-packages/jax/_src/dispatch.py\u001b[0m in \u001b[0;36mapply_primitive\u001b[0;34m(prim, *args, **params)\u001b[0m\n\u001b[1;32m     85\u001b[0m     \u001b[0mprev\u001b[0m \u001b[0;34m=\u001b[0m \u001b[0mlib\u001b[0m\u001b[0;34m.\u001b[0m\u001b[0mjax_jit\u001b[0m\u001b[0;34m.\u001b[0m\u001b[0mswap_thread_local_state_disable_jit\u001b[0m\u001b[0;34m(\u001b[0m\u001b[0;32mFalse\u001b[0m\u001b[0;34m)\u001b[0m\u001b[0;34m\u001b[0m\u001b[0;34m\u001b[0m\u001b[0m\n\u001b[1;32m     86\u001b[0m     \u001b[0;32mtry\u001b[0m\u001b[0;34m:\u001b[0m\u001b[0;34m\u001b[0m\u001b[0;34m\u001b[0m\u001b[0m\n\u001b[0;32m---> 87\u001b[0;31m       \u001b[0mouts\u001b[0m \u001b[0;34m=\u001b[0m \u001b[0mfun\u001b[0m\u001b[0;34m(\u001b[0m\u001b[0;34m*\u001b[0m\u001b[0margs\u001b[0m\u001b[0;34m)\u001b[0m\u001b[0;34m\u001b[0m\u001b[0;34m\u001b[0m\u001b[0m\n\u001b[0m\u001b[1;32m     88\u001b[0m     \u001b[0;32mfinally\u001b[0m\u001b[0;34m:\u001b[0m\u001b[0;34m\u001b[0m\u001b[0;34m\u001b[0m\u001b[0m\n\u001b[1;32m     89\u001b[0m       \u001b[0mlib\u001b[0m\u001b[0;34m.\u001b[0m\u001b[0mjax_jit\u001b[0m\u001b[0;34m.\u001b[0m\u001b[0mswap_thread_local_state_disable_jit\u001b[0m\u001b[0;34m(\u001b[0m\u001b[0mprev\u001b[0m\u001b[0;34m)\u001b[0m\u001b[0;34m\u001b[0m\u001b[0;34m\u001b[0m\u001b[0m\n",
      "\u001b[0;31mValueError\u001b[0m: RESOURCE_EXHAUSTED: Out of memory while trying to allocate 1113772544 bytes.\nBufferAssignment OOM Debugging.\nBufferAssignment stats:\n             parameter allocation:   25.95MiB\n              constant allocation:         0B\n        maybe_live_out allocation:    1.04GiB\n     preallocated temp allocation:    4.00MiB\n  preallocated temp fragmentation:         0B (0.00%)\n                 total allocation:    1.07GiB\n              total fragmentation:       112B (0.00%)\nPeak buffers:\n\tBuffer 1:\n\t\tSize: 1.04GiB\n\t\tOperator: op_name=\"jit(dot_general)/jit(main)/dot_general[dimension_numbers=(((3, 4), (0, 1)), ((), ())) precision=None preferred_element_type=None]\" source_file=\"/usr/local/lib/python3.10/dist-packages/flax/linen/linear.py\" source_line=195\n\t\tXLA Label: custom-call\n\t\tShape: f32[424456,656]\n\t\t==========================\n\n\tBuffer 2:\n\t\tSize: 25.91MiB\n\t\tEntry Parameter Subshape: f32[2,3121,68,4,4]\n\t\t==========================\n\n\tBuffer 3:\n\t\tSize: 4.00MiB\n\t\tOperator: op_name=\"jit(dot_general)/jit(main)/dot_general[dimension_numbers=(((3, 4), (0, 1)), ((), ())) precision=None preferred_element_type=None]\" source_file=\"/usr/local/lib/python3.10/dist-packages/flax/linen/linear.py\" source_line=195\n\t\tXLA Label: custom-call\n\t\tShape: s8[4194304]\n\t\t==========================\n\n\tBuffer 4:\n\t\tSize: 41.0KiB\n\t\tEntry Parameter Subshape: f32[4,4,656]\n\t\t==========================\n\n\tBuffer 5:\n\t\tSize: 16B\n\t\tOperator: op_name=\"jit(dot_general)/jit(main)/dot_general[dimension_numbers=(((3, 4), (0, 1)), ((), ())) precision=None preferred_element_type=None]\" source_file=\"/usr/local/lib/python3.10/dist-packages/flax/linen/linear.py\" source_line=195\n\t\tXLA Label: custom-call\n\t\tShape: (f32[424456,656], s8[4194304])\n\t\t==========================\n\n"
     ]
    }
   ],
   "source": [
    "# profiler.start_trace(\n",
    "#     \"/content/drive/MyDrive/Colab Notebooks/Hephaestus/runs\", create_perfetto_link=True\n",
    "# )\n",
    "\n",
    "try:\n",
    "    del time_series_regressor_vars\n",
    "except Exception as e:\n",
    "    print(e)\n",
    "\n",
    "\n",
    "def replace_nans(grads, replace_value=0):\n",
    "    \"\"\"Replace NaN values in gradients with a specified value.\"\"\"\n",
    "    return jax.tree_map(lambda g: jnp.where(jnp.isnan(g), replace_value, g), grads)\n",
    "\n",
    "\n",
    "def clip_gradients(gradients, max_norm):\n",
    "    total_norm = jnp.sqrt(sum(jnp.sum(jnp.square(grad)) for grad in gradients.values()))\n",
    "    scale = max_norm / (total_norm + 1e-6)\n",
    "    clipped_gradients = jax.tree_map(\n",
    "        lambda grad: jnp.where(total_norm > max_norm, grad * scale, grad), gradients\n",
    "    )\n",
    "    return clipped_gradients\n",
    "\n",
    "\n",
    "def calculate_loss(\n",
    "    params,\n",
    "    state,\n",
    "    categorical_mask,\n",
    "    numeric_mask,\n",
    "    target_labs,\n",
    "    dataset,\n",
    "):\n",
    "    target_out = state.apply_fn(\n",
    "        {\"params\": params},\n",
    "        categorical_mask,\n",
    "        numeric_mask,\n",
    "    )\n",
    "\n",
    "    target_loss = optax.squared_error(target_out, target_labs).mean()\n",
    "\n",
    "    return target_loss\n",
    "\n",
    "\n",
    "@jax.jit\n",
    "def train_step(\n",
    "    state: train_state.TrainState, categorical_mask, numeric_mask, target_labs\n",
    "):\n",
    "    # ic(\"here1\")\n",
    "\n",
    "    def loss_fn(params):\n",
    "        return calculate_loss(\n",
    "            params,\n",
    "            state,\n",
    "            categorical_mask=categorical_mask,\n",
    "            numeric_mask=numeric_mask,\n",
    "            target_labs=target_labs,\n",
    "            dataset=pre_train,\n",
    "        )\n",
    "\n",
    "    grad_fn = jax.value_and_grad(loss_fn)\n",
    "\n",
    "    target_loss, grad = grad_fn(state.params)\n",
    "    grad = replace_nans(grad)\n",
    "    # grad = clip_gradients(grad, 1.0)\n",
    "    state = state.apply_gradients(grads=grad)\n",
    "\n",
    "    return state, target_loss\n",
    "\n",
    "\n",
    "def create_train_state(model, prng, batch, lr):\n",
    "    params = model.init(prng, batch.categorical, batch.numeric)\n",
    "    optimizer = optax.chain(optax.clip_by_global_norm(0.4), optax.adam(lr))\n",
    "    # optimizer_state = optimizer.init(params)\n",
    "    return train_state.TrainState.create(\n",
    "        apply_fn=model.apply,\n",
    "        params=params[\"params\"],\n",
    "        tx=optimizer,\n",
    "        # tx_state=optimizer_state,\n",
    "    )\n",
    "\n",
    "\n",
    "batch_size = 2\n",
    "batch = make_batch(pre_train, 0, batch_size)\n",
    "\n",
    "state = create_train_state(time_series_regressor, mts_main_key, batch, 0.0001)\n",
    "\n",
    "summary_writer = SummaryWriter(\n",
    "    \"runs/\" + dt.now().strftime(\"%Y-%m-%dT%H:%M:%S\") + \"_\" + \"better_batch\"\n",
    ")\n",
    "batch_count = 0\n",
    "for j in trange(2):\n",
    "    for i in trange(len(pre_train) // batch_size, leave=False):\n",
    "        batch = make_batch(pre_train, i * batch_size, batch_size)\n",
    "        categorical_mask = hp.mask_tensor(\n",
    "            batch.categorical, pre_train, prng_key=ts_data_key\n",
    "        )\n",
    "        numeric_mask = hp.mask_tensor(batch.numeric, pre_train, prng_key=ts_data_key)\n",
    "\n",
    "        state, loss = train_step(state, categorical_mask, numeric_mask, batch.y)\n",
    "        summary_writer.add_scalar(\"loss\", np.array(loss.item()), batch_count)\n",
    "        batch_count += 1\n",
    "        # print(f\"epoch: {j}, batch: {i}, {loss}\")\n",
    "\n",
    "# profiler.stop_trace()"
   ]
  },
  {
   "cell_type": "code",
   "execution_count": null,
   "metadata": {
    "colab": {
     "base_uri": "https://localhost:8080/",
     "height": 324
    },
    "executionInfo": {
     "elapsed": 49086,
     "status": "error",
     "timestamp": 1708616126951,
     "user": {
      "displayName": "Kai Lukowiak",
      "userId": "12340107642472090190"
     },
     "user_tz": 420
    },
    "id": "s5FjnvOLdEj1",
    "outputId": "fbe24f19-752d-4e22-9505-72e3a68290f5"
   },
   "outputs": [
    {
     "name": "stdout",
     "output_type": "stream",
     "text": [
      "Open URL in browser: https://ui.perfetto.dev/#!/?url=http://127.0.0.1:9001/perfetto_trace.json.gz\n"
     ]
    },
    {
     "ename": "KeyboardInterrupt",
     "evalue": "",
     "output_type": "error",
     "traceback": [
      "\u001b[0;31m---------------------------------------------------------------------------\u001b[0m",
      "\u001b[0;31mKeyboardInterrupt\u001b[0m                         Traceback (most recent call last)",
      "\u001b[0;32m<ipython-input-27-a919c33463fb>\u001b[0m in \u001b[0;36m<cell line: 1>\u001b[0;34m()\u001b[0m\n\u001b[0;32m----> 1\u001b[0;31m \u001b[0mprofiler\u001b[0m\u001b[0;34m.\u001b[0m\u001b[0mstop_trace\u001b[0m\u001b[0;34m(\u001b[0m\u001b[0;34m)\u001b[0m\u001b[0;34m\u001b[0m\u001b[0;34m\u001b[0m\u001b[0m\n\u001b[0m",
      "\u001b[0;32m/usr/local/lib/python3.10/dist-packages/jax/_src/profiler.py\u001b[0m in \u001b[0;36mstop_trace\u001b[0;34m()\u001b[0m\n\u001b[1;32m    208\u001b[0m       \u001b[0mabs_filename\u001b[0m \u001b[0;34m=\u001b[0m \u001b[0m_write_perfetto_trace_file\u001b[0m\u001b[0;34m(\u001b[0m\u001b[0m_profile_state\u001b[0m\u001b[0;34m.\u001b[0m\u001b[0mlog_dir\u001b[0m\u001b[0;34m)\u001b[0m\u001b[0;34m\u001b[0m\u001b[0;34m\u001b[0m\u001b[0m\n\u001b[1;32m    209\u001b[0m       \u001b[0;32mif\u001b[0m \u001b[0m_profile_state\u001b[0m\u001b[0;34m.\u001b[0m\u001b[0mcreate_perfetto_link\u001b[0m\u001b[0;34m:\u001b[0m\u001b[0;34m\u001b[0m\u001b[0;34m\u001b[0m\u001b[0m\n\u001b[0;32m--> 210\u001b[0;31m         \u001b[0m_host_perfetto_trace_file\u001b[0m\u001b[0;34m(\u001b[0m\u001b[0mabs_filename\u001b[0m\u001b[0;34m)\u001b[0m\u001b[0;34m\u001b[0m\u001b[0;34m\u001b[0m\u001b[0m\n\u001b[0m\u001b[1;32m    211\u001b[0m     \u001b[0m_profile_state\u001b[0m\u001b[0;34m.\u001b[0m\u001b[0mreset\u001b[0m\u001b[0;34m(\u001b[0m\u001b[0;34m)\u001b[0m\u001b[0;34m\u001b[0m\u001b[0;34m\u001b[0m\u001b[0m\n\u001b[1;32m    212\u001b[0m \u001b[0;34m\u001b[0m\u001b[0m\n",
      "\u001b[0;32m/usr/local/lib/python3.10/dist-packages/jax/_src/profiler.py\u001b[0m in \u001b[0;36m_host_perfetto_trace_file\u001b[0;34m(path)\u001b[0m\n\u001b[1;32m    190\u001b[0m       \u001b[0;31m# it down.\u001b[0m\u001b[0;34m\u001b[0m\u001b[0;34m\u001b[0m\u001b[0m\n\u001b[1;32m    191\u001b[0m       \u001b[0;32mwhile\u001b[0m \u001b[0mhttpd\u001b[0m\u001b[0;34m.\u001b[0m\u001b[0m__dict__\u001b[0m\u001b[0;34m.\u001b[0m\u001b[0mget\u001b[0m\u001b[0;34m(\u001b[0m\u001b[0;34m'last_request'\u001b[0m\u001b[0;34m)\u001b[0m \u001b[0;34m!=\u001b[0m \u001b[0;34m'/'\u001b[0m \u001b[0;34m+\u001b[0m \u001b[0mfilename\u001b[0m\u001b[0;34m:\u001b[0m\u001b[0;34m\u001b[0m\u001b[0;34m\u001b[0m\u001b[0m\n\u001b[0;32m--> 192\u001b[0;31m         \u001b[0mhttpd\u001b[0m\u001b[0;34m.\u001b[0m\u001b[0mhandle_request\u001b[0m\u001b[0;34m(\u001b[0m\u001b[0;34m)\u001b[0m\u001b[0;34m\u001b[0m\u001b[0;34m\u001b[0m\u001b[0m\n\u001b[0m\u001b[1;32m    193\u001b[0m   \u001b[0;32mfinally\u001b[0m\u001b[0;34m:\u001b[0m\u001b[0;34m\u001b[0m\u001b[0;34m\u001b[0m\u001b[0m\n\u001b[1;32m    194\u001b[0m     \u001b[0mos\u001b[0m\u001b[0;34m.\u001b[0m\u001b[0mchdir\u001b[0m\u001b[0;34m(\u001b[0m\u001b[0morig_directory\u001b[0m\u001b[0;34m)\u001b[0m\u001b[0;34m\u001b[0m\u001b[0;34m\u001b[0m\u001b[0m\n",
      "\u001b[0;32m/usr/lib/python3.10/socketserver.py\u001b[0m in \u001b[0;36mhandle_request\u001b[0;34m(self)\u001b[0m\n\u001b[1;32m    292\u001b[0m \u001b[0;34m\u001b[0m\u001b[0m\n\u001b[1;32m    293\u001b[0m             \u001b[0;32mwhile\u001b[0m \u001b[0;32mTrue\u001b[0m\u001b[0;34m:\u001b[0m\u001b[0;34m\u001b[0m\u001b[0;34m\u001b[0m\u001b[0m\n\u001b[0;32m--> 294\u001b[0;31m                 \u001b[0mready\u001b[0m \u001b[0;34m=\u001b[0m \u001b[0mselector\u001b[0m\u001b[0;34m.\u001b[0m\u001b[0mselect\u001b[0m\u001b[0;34m(\u001b[0m\u001b[0mtimeout\u001b[0m\u001b[0;34m)\u001b[0m\u001b[0;34m\u001b[0m\u001b[0;34m\u001b[0m\u001b[0m\n\u001b[0m\u001b[1;32m    295\u001b[0m                 \u001b[0;32mif\u001b[0m \u001b[0mready\u001b[0m\u001b[0;34m:\u001b[0m\u001b[0;34m\u001b[0m\u001b[0;34m\u001b[0m\u001b[0m\n\u001b[1;32m    296\u001b[0m                     \u001b[0;32mreturn\u001b[0m \u001b[0mself\u001b[0m\u001b[0;34m.\u001b[0m\u001b[0m_handle_request_noblock\u001b[0m\u001b[0;34m(\u001b[0m\u001b[0;34m)\u001b[0m\u001b[0;34m\u001b[0m\u001b[0;34m\u001b[0m\u001b[0m\n",
      "\u001b[0;32m/usr/lib/python3.10/selectors.py\u001b[0m in \u001b[0;36mselect\u001b[0;34m(self, timeout)\u001b[0m\n\u001b[1;32m    414\u001b[0m         \u001b[0mready\u001b[0m \u001b[0;34m=\u001b[0m \u001b[0;34m[\u001b[0m\u001b[0;34m]\u001b[0m\u001b[0;34m\u001b[0m\u001b[0;34m\u001b[0m\u001b[0m\n\u001b[1;32m    415\u001b[0m         \u001b[0;32mtry\u001b[0m\u001b[0;34m:\u001b[0m\u001b[0;34m\u001b[0m\u001b[0;34m\u001b[0m\u001b[0m\n\u001b[0;32m--> 416\u001b[0;31m             \u001b[0mfd_event_list\u001b[0m \u001b[0;34m=\u001b[0m \u001b[0mself\u001b[0m\u001b[0;34m.\u001b[0m\u001b[0m_selector\u001b[0m\u001b[0;34m.\u001b[0m\u001b[0mpoll\u001b[0m\u001b[0;34m(\u001b[0m\u001b[0mtimeout\u001b[0m\u001b[0;34m)\u001b[0m\u001b[0;34m\u001b[0m\u001b[0;34m\u001b[0m\u001b[0m\n\u001b[0m\u001b[1;32m    417\u001b[0m         \u001b[0;32mexcept\u001b[0m \u001b[0mInterruptedError\u001b[0m\u001b[0;34m:\u001b[0m\u001b[0;34m\u001b[0m\u001b[0;34m\u001b[0m\u001b[0m\n\u001b[1;32m    418\u001b[0m             \u001b[0;32mreturn\u001b[0m \u001b[0mready\u001b[0m\u001b[0;34m\u001b[0m\u001b[0;34m\u001b[0m\u001b[0m\n",
      "\u001b[0;31mKeyboardInterrupt\u001b[0m: "
     ]
    }
   ],
   "source": [
    "profiler.stop_trace()"
   ]
  },
  {
   "cell_type": "code",
   "execution_count": null,
   "metadata": {
    "executionInfo": {
     "elapsed": 5,
     "status": "aborted",
     "timestamp": 1708615899231,
     "user": {
      "displayName": "Kai Lukowiak",
      "userId": "12340107642472090190"
     },
     "user_tz": 420
    },
    "id": "B6k2r1BAvkey"
   },
   "outputs": [],
   "source": [
    "profiler.start_trace(\n",
    "    \"/content/drive/MyDrive/Colab Notebooks/Hephaestus/runs\", create_perfetto_link=True\n",
    ")\n",
    "\n",
    "\n",
    "# def replace_nans(grads, replace_value=0):\n",
    "#     \"\"\"Replace NaN values in gradients with a specified value.\"\"\"\n",
    "#     return jax.tree_map(lambda g: jnp.where(jnp.isnan(g), replace_value, g), grads)\n",
    "\n",
    "\n",
    "# def clip_gradients(gradients, max_norm):\n",
    "#     total_norm = jnp.sqrt(sum(jnp.sum(jnp.square(grad)) for grad in gradients.values()))\n",
    "#     scale = max_norm / (total_norm + 1e-6)\n",
    "#     clipped_gradients = jax.tree_map(\n",
    "#         lambda grad: jnp.where(total_norm > max_norm, grad * scale, grad), gradients\n",
    "#     )\n",
    "#     return clipped_gradients\n",
    "\n",
    "\n",
    "def calculate_loss(\n",
    "    params,\n",
    "    state,\n",
    "    categorical_mask,\n",
    "    numeric_mask,\n",
    "    categorical_labs,\n",
    "    numeric_labs,\n",
    "    target_labs,\n",
    "    dataset,\n",
    "):\n",
    "    numeric_loss_scale = 1.0\n",
    "    target_loss_scale = 2.0\n",
    "    category_out, numeric_out, target_out = state.apply_fn(\n",
    "        {\"params\": params},\n",
    "        categorical_mask,\n",
    "        numeric_mask,\n",
    "    )\n",
    "    numeric_col_tokens = dataset.numeric_col_tokens.clone()\n",
    "    numeric_col_tokens = numeric_col_tokens[None, None, :]\n",
    "    repeated_numeric_col_tokens = jnp.tile(\n",
    "        numeric_col_tokens, (category_out.shape[0], category_out.shape[1], 1)\n",
    "    )\n",
    "    # repeated_numeric_col_tokens = jnp.tile(\n",
    "    #     numeric_col_tokens, (inputs.categorical.shape[0], 1)\n",
    "    # )\n",
    "    # ic(repeated_numeric_col_tokens.shape, categorical.shape, category_out.shape)\n",
    "    categorical_targets = jnp.concatenate(\n",
    "        [\n",
    "            categorical_labs,\n",
    "            repeated_numeric_col_tokens,\n",
    "        ],\n",
    "        axis=-1,\n",
    "    )\n",
    "    # ic(categorical_targets.shape)\n",
    "    categorical_loss = optax.softmax_cross_entropy_with_integer_labels(\n",
    "        category_out, categorical_targets\n",
    "    ).mean()\n",
    "\n",
    "    target_loss = optax.squared_error(target_out, target_labs).mean()\n",
    "    numeric_loss = optax.squared_error(numeric_out, numeric_labs).mean()\n",
    "    total_loss = (\n",
    "        categorical_loss\n",
    "        + numeric_loss * numeric_loss_scale\n",
    "        + target_loss * target_loss_scale\n",
    "    )\n",
    "    return total_loss\n",
    "\n",
    "\n",
    "@jax.jit\n",
    "def train_step(\n",
    "    state: train_state.TrainState,\n",
    "    categorical_mask,\n",
    "    numeric_mask,\n",
    "    categorical_labs,\n",
    "    target_labs,\n",
    "    numeric_labs,\n",
    "):\n",
    "    # ic(\"here1\")\n",
    "\n",
    "    def loss_fn(params):\n",
    "        return calculate_loss(\n",
    "            params,\n",
    "            state,\n",
    "            categorical_mask=categorical_mask,\n",
    "            numeric_mask=numeric_mask,\n",
    "            categorical_labs=categorical_labs,\n",
    "            numeric_labs=numeric_labs,\n",
    "            target_labs=target_labs,\n",
    "            dataset=pre_train,\n",
    "        )\n",
    "\n",
    "    grad_fn = jax.value_and_grad(loss_fn)\n",
    "\n",
    "    total_loss, multi_loss, grad = grad_fn(state.params)\n",
    "    grad = replace_nans(grad)\n",
    "    # grad = clip_gradients(grad, 1.0)\n",
    "    state = state.apply_gradients(grads=grad)\n",
    "\n",
    "    return state, total_loss, multi_loss\n",
    "\n",
    "\n",
    "def create_train_state(model, prng, batch, lr):\n",
    "    params = model.init(prng, batch.categorical, batch.numeric)\n",
    "    optimizer = optax.chain(optax.clip_by_global_norm(0.4), optax.adam(lr))\n",
    "    # optimizer_state = optimizer.init(params)\n",
    "    return train_state.TrainState.create(\n",
    "        apply_fn=model.apply,\n",
    "        params=params[\"params\"],\n",
    "        tx=optimizer,\n",
    "        # tx_state=optimizer_state,\n",
    "    )\n",
    "\n",
    "\n",
    "batch_size = 2\n",
    "batch = make_batch(pre_train, 0, batch_size)\n",
    "\n",
    "state = create_train_state(time_series_regressor, mts_main_key, batch, 0.0001)\n",
    "\n",
    "summary_writer = SummaryWriter(\n",
    "    \"runs/\" + dt.now().strftime(\"%Y-%m-%dT%H:%M:%S\") + \"_\" + \"better_batch\"\n",
    ")\n",
    "batch_count = 0\n",
    "for j in trange(2):\n",
    "    for i in trange(len(pre_train) // batch_size, leave=False):\n",
    "        batch = make_batch(pre_train, i * batch_size, batch_size)\n",
    "        categorical_mask = hp.mask_tensor(\n",
    "            batch.categorical, pre_train, prng_key=ts_data_key\n",
    "        )\n",
    "        numeric_mask = hp.mask_tensor(batch.numeric, pre_train, prng_key=ts_data_key)\n",
    "\n",
    "        state, loss, multi_loss = train_step(\n",
    "            state, categorical_mask, numeric_mask, batch.categorical, batch.numeric\n",
    "        )\n",
    "        summary_writer.add_scalar(\"loss\", np.array(loss.item()), batch_count)\n",
    "        batch_count += 1\n",
    "        # print(f\"epoch: {j}, batch: {i}, {loss}\")\n",
    "\n",
    "profiler.stop_trace()"
   ]
  },
  {
   "cell_type": "code",
   "execution_count": null,
   "metadata": {
    "executionInfo": {
     "elapsed": 5,
     "status": "aborted",
     "timestamp": 1708615899231,
     "user": {
      "displayName": "Kai Lukowiak",
      "userId": "12340107642472090190"
     },
     "user_tz": 420
    },
    "id": "Mz8n8Xutl27h"
   },
   "outputs": [],
   "source": [
    "model_name = f\"new_data_{dt.now()}_\"\n",
    "\n",
    "current_dir = os.getcwd()\n",
    "\n",
    "if not os.path.exists(\"./pre_trained_models/\"):\n",
    "    os.makedirs(\"./pre_trained_models/\")\n",
    "\n",
    "path = os.path.join(current_dir, \"./pre_trained_models/\")\n",
    "\n",
    "\n",
    "ckpt_dir = f\"./pre_trained_models/{model_name}\"\n",
    "\n",
    "checkpoints.save_checkpoint(\n",
    "    ckpt_dir=path, target=state, step=batch_count, overwrite=True, prefix=model_name\n",
    ")"
   ]
  },
  {
   "cell_type": "code",
   "execution_count": null,
   "metadata": {
    "executionInfo": {
     "elapsed": 5,
     "status": "aborted",
     "timestamp": 1708615899231,
     "user": {
      "displayName": "Kai Lukowiak",
      "userId": "12340107642472090190"
     },
     "user_tz": 420
    },
    "id": "FnvMS9cmobHu"
   },
   "outputs": [],
   "source": [
    "state2 = checkpoints.restore_checkpoint(path, target=state)"
   ]
  },
  {
   "cell_type": "code",
   "execution_count": null,
   "metadata": {
    "executionInfo": {
     "elapsed": 5,
     "status": "aborted",
     "timestamp": 1708615899231,
     "user": {
      "displayName": "Kai Lukowiak",
      "userId": "12340107642472090190"
     },
     "user_tz": 420
    },
    "id": "zWhAaDUeoeyK"
   },
   "outputs": [],
   "source": [
    "state2"
   ]
  },
  {
   "cell_type": "code",
   "execution_count": null,
   "metadata": {
    "executionInfo": {
     "elapsed": 5,
     "status": "aborted",
     "timestamp": 1708615899231,
     "user": {
      "displayName": "Kai Lukowiak",
      "userId": "12340107642472090190"
     },
     "user_tz": 420
    },
    "id": "PpjBeE9AdhD4"
   },
   "outputs": [],
   "source": [
    "len(pre_train), len(pre_train) // batch_size"
   ]
  },
  {
   "cell_type": "code",
   "execution_count": null,
   "metadata": {
    "executionInfo": {
     "elapsed": 4,
     "status": "aborted",
     "timestamp": 1708615899231,
     "user": {
      "displayName": "Kai Lukowiak",
      "userId": "12340107642472090190"
     },
     "user_tz": 420
    },
    "id": "6XIh3n_LeJaf"
   },
   "outputs": [],
   "source": [
    "data.shape[0] // 3120"
   ]
  },
  {
   "cell_type": "code",
   "execution_count": null,
   "metadata": {
    "executionInfo": {
     "elapsed": 4,
     "status": "aborted",
     "timestamp": 1708615899231,
     "user": {
      "displayName": "Kai Lukowiak",
      "userId": "12340107642472090190"
     },
     "user_tz": 420
    },
    "id": "h5BfEjZzRLmA"
   },
   "outputs": [],
   "source": [
    "profiler.stop_trace()"
   ]
  },
  {
   "cell_type": "code",
   "execution_count": null,
   "metadata": {
    "executionInfo": {
     "elapsed": 4,
     "status": "aborted",
     "timestamp": 1708615899231,
     "user": {
      "displayName": "Kai Lukowiak",
      "userId": "12340107642472090190"
     },
     "user_tz": 420
    },
    "id": "ttC1AtV6YX8M"
   },
   "outputs": [],
   "source": [
    "len(pre_train)"
   ]
  },
  {
   "cell_type": "code",
   "execution_count": null,
   "metadata": {
    "executionInfo": {
     "elapsed": 4,
     "status": "aborted",
     "timestamp": 1708615899231,
     "user": {
      "displayName": "Kai Lukowiak",
      "userId": "12340107642472090190"
     },
     "user_tz": 420
    },
    "id": "vz702qVy_AKz"
   },
   "outputs": [],
   "source": [
    "def jax_array_memory_usage(array):\n",
    "    \"\"\"Calculate the memory usage of a JAX array in bytes.\"\"\"\n",
    "    # Get the number of bytes per element based on the data type\n",
    "    bytes_per_element = array.dtype.itemsize\n",
    "    # Calculate the total number of elements in the array\n",
    "    total_elements = np.prod(array.shape)\n",
    "    # Calculate total memory usage\n",
    "    memory_usage_bytes = bytes_per_element * total_elements\n",
    "    return memory_usage_bytes\n",
    "\n",
    "\n",
    "cat_memory_usage = jax_array_memory_usage(batch.categorical)\n",
    "num_memory_usage = jax_array_memory_usage(batch.numeric)\n",
    "memory_usage = cat_memory_usage + num_memory_usage\n",
    "memory_usage_gb = memory_usage / 1024 / 1024 / 1024\n",
    "print(f\"Memory usage: {memory_usage} bytes\")\n",
    "print(f\"Memory usage: {memory_usage_gb} gb\")"
   ]
  },
  {
   "cell_type": "code",
   "execution_count": null,
   "metadata": {
    "executionInfo": {
     "elapsed": 4,
     "status": "aborted",
     "timestamp": 1708615899231,
     "user": {
      "displayName": "Kai Lukowiak",
      "userId": "12340107642472090190"
     },
     "user_tz": 420
    },
    "id": "PqggBIY09fd1"
   },
   "outputs": [],
   "source": []
  }
 ],
 "metadata": {
  "accelerator": "GPU",
  "colab": {
   "gpuType": "V100",
   "machine_shape": "hm",
   "provenance": []
  },
  "kernelspec": {
   "display_name": ".venv",
   "language": "python",
   "name": "python3"
  },
  "language_info": {
   "codemirror_mode": {
    "name": "ipython",
    "version": 3
   },
   "file_extension": ".py",
   "mimetype": "text/x-python",
   "name": "python",
   "nbconvert_exporter": "python",
   "pygments_lexer": "ipython3",
   "version": "3.11.10"
  }
 },
 "nbformat": 4,
 "nbformat_minor": 0
}
