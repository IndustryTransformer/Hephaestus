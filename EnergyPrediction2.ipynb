{
 "cells": [
  {
   "cell_type": "markdown",
   "metadata": {
    "id": "trbcfMV6vked"
   },
   "source": [
    "<https://www.kaggle.com/competitions/predict-energy-behavior-of-prosumers>\n"
   ]
  },
  {
   "cell_type": "code",
   "execution_count": 1,
   "metadata": {
    "executionInfo": {
     "elapsed": 256,
     "status": "ok",
     "timestamp": 1708438365718,
     "user": {
      "displayName": "Kai Lukowiak",
      "userId": "12340107642472090190"
     },
     "user_tz": 420
    },
    "id": "yKsx1R26dLGC"
   },
   "outputs": [],
   "source": [
    "import os\n",
    "\n",
    "os.environ[\"XLA_PYTHON_CLIENT_MEM_FRACTION\"] = \"0.95\""
   ]
  },
  {
   "cell_type": "code",
   "execution_count": 2,
   "metadata": {
    "colab": {
     "base_uri": "https://localhost:8080/"
    },
    "executionInfo": {
     "elapsed": 1316,
     "status": "ok",
     "timestamp": 1708438367646,
     "user": {
      "displayName": "Kai Lukowiak",
      "userId": "12340107642472090190"
     },
     "user_tz": 420
    },
    "id": "RYm4WOeS1B8x",
    "outputId": "09c36432-a2b0-4d7a-fda6-014785ca72a9"
   },
   "outputs": [
    {
     "data": {
      "text/plain": [
       "{cuda(id=0)}"
      ]
     },
     "execution_count": 2,
     "metadata": {},
     "output_type": "execute_result"
    }
   ],
   "source": [
    "import jax.numpy as jnp  # Oddly works in colab to set gpu\n",
    "\n",
    "arr = jnp.array([1, 2, 3])\n",
    "arr.devices()"
   ]
  },
  {
   "cell_type": "code",
   "execution_count": 3,
   "metadata": {
    "colab": {
     "base_uri": "https://localhost:8080/"
    },
    "executionInfo": {
     "elapsed": 1412,
     "status": "ok",
     "timestamp": 1708438369056,
     "user": {
      "displayName": "Kai Lukowiak",
      "userId": "12340107642472090190"
     },
     "user_tz": 420
    },
    "id": "-tqXFSjrMDAP",
    "outputId": "7263f126-8117-479d-ffb3-0dd323b93381"
   },
   "outputs": [
    {
     "name": "stdout",
     "output_type": "stream",
     "text": [
      "Drive already mounted at /content/drive; to attempt to forcibly remount, call drive.mount(\"/content/drive\", force_remount=True).\n"
     ]
    }
   ],
   "source": [
    "from google.colab import drive\n",
    "\n",
    "drive.mount(\"/content/drive\")"
   ]
  },
  {
   "cell_type": "code",
   "execution_count": 4,
   "metadata": {
    "colab": {
     "base_uri": "https://localhost:8080/"
    },
    "executionInfo": {
     "elapsed": 18950,
     "status": "ok",
     "timestamp": 1708438388001,
     "user": {
      "displayName": "Kai Lukowiak",
      "userId": "12340107642472090190"
     },
     "user_tz": 420
    },
    "id": "NqQpXs0Csz0n",
    "outputId": "fb8f1acf-8069-4106-85e6-8f250a4d9a81"
   },
   "outputs": [
    {
     "name": "stdout",
     "output_type": "stream",
     "text": [
      "/content/drive/MyDrive/Colab Notebooks/Hephaestus\n",
      "Requirement already satisfied: tensorboard-plugin-profile in /usr/local/lib/python3.10/dist-packages (2.15.1)\n",
      "Requirement already satisfied: gviz-api>=1.9.0 in /usr/local/lib/python3.10/dist-packages (from tensorboard-plugin-profile) (1.10.0)\n",
      "Requirement already satisfied: protobuf<5.0.0dev,>=3.19.6 in /usr/local/lib/python3.10/dist-packages (from tensorboard-plugin-profile) (3.20.3)\n",
      "Requirement already satisfied: setuptools>=41.0.0 in /usr/local/lib/python3.10/dist-packages (from tensorboard-plugin-profile) (67.7.2)\n",
      "Requirement already satisfied: six>=1.10.0 in /usr/local/lib/python3.10/dist-packages (from tensorboard-plugin-profile) (1.16.0)\n",
      "Requirement already satisfied: werkzeug>=0.11.15 in /usr/local/lib/python3.10/dist-packages (from tensorboard-plugin-profile) (3.0.1)\n",
      "Requirement already satisfied: MarkupSafe>=2.1.1 in /usr/local/lib/python3.10/dist-packages (from werkzeug>=0.11.15->tensorboard-plugin-profile) (2.1.5)\n",
      "No TPU\n"
     ]
    }
   ],
   "source": [
    "import sys\n",
    "\n",
    "IN_COLAB = \"google.colab\" in sys.modules\n",
    "if IN_COLAB:\n",
    "    # from google.colab import drive\n",
    "    # drive.mount('/content/drive')\n",
    "    # %pip -q install clu\n",
    "    %cd '/content/drive/MyDrive/Colab Notebooks/Hephaestus'\n",
    "    %pip -q install icecream\n",
    "    %pip install -Uq tensorboard-plugin-profile\n",
    "    %pip install -Uq tensorboard\n",
    "    # %pip install -U -q jax\n",
    "    %load_ext tensorboard\n",
    "    %pip install -U tensorboard-plugin-profile\n",
    "\n",
    "    import jax.tools.colab_tpu\n",
    "\n",
    "    try:\n",
    "        jax.tools.colab_tpu.setup_tpu()\n",
    "    except RuntimeError:\n",
    "        print(\"No TPU\")\n",
    "\n",
    "    # %tensorboard \\\n",
    "    #     --logdir '/content/drive/MyDrive/Colab Notebooks/Hephaestus/runs' \\\n",
    "    #     --load_fast=false"
   ]
  },
  {
   "cell_type": "code",
   "execution_count": 5,
   "metadata": {
    "executionInfo": {
     "elapsed": 11,
     "status": "ok",
     "timestamp": 1708438388001,
     "user": {
      "displayName": "Kai Lukowiak",
      "userId": "12340107642472090190"
     },
     "user_tz": 420
    },
    "id": "Jqmm_5s9KXkI"
   },
   "outputs": [],
   "source": [
    "import icecream\n",
    "from icecream import ic\n",
    "\n",
    "icecream.install()\n",
    "ic_disable = True\n",
    "if ic_disable:\n",
    "    ic.disable()"
   ]
  },
  {
   "cell_type": "code",
   "execution_count": 6,
   "metadata": {
    "colab": {
     "base_uri": "https://localhost:8080/"
    },
    "executionInfo": {
     "elapsed": 6824,
     "status": "ok",
     "timestamp": 1708438394815,
     "user": {
      "displayName": "Kai Lukowiak",
      "userId": "12340107642472090190"
     },
     "user_tz": 420
    },
    "id": "oSKniUdxtiTd",
    "outputId": "f4b09bd2-64fc-4f66-812a-2211c75489a7"
   },
   "outputs": [
    {
     "name": "stderr",
     "output_type": "stream",
     "text": [
      "<ipython-input-6-dc97f18ca914>:23: DeprecationWarning: Accessing jax.config via the jax.config submodule is deprecated.\n",
      "  from jax.config import config\n"
     ]
    }
   ],
   "source": [
    "import os\n",
    "from dataclasses import dataclass, field\n",
    "from datetime import datetime as dt\n",
    "from itertools import chain\n",
    "\n",
    "import hephaestus as hp\n",
    "import jax\n",
    "import jax.numpy as jnp\n",
    "import matplotlib.pyplot as plt\n",
    "import numpy as np\n",
    "import optax\n",
    "import pandas as pd\n",
    "import seaborn as sns\n",
    "from flax import linen as nn\n",
    "from flax import struct  # Flax dataclasses\n",
    "from flax.training import checkpoints, train_state\n",
    "from flax.training.early_stopping import EarlyStopping\n",
    "from icecream import ic\n",
    "from jax import profiler, random\n",
    "from jax.config import config\n",
    "from jax.tree_util import tree_flatten\n",
    "from torch.utils.tensorboard import SummaryWriter\n",
    "from tqdm.notebook import tqdm, trange\n",
    "\n",
    "pd.options.mode.copy_on_write = True"
   ]
  },
  {
   "cell_type": "code",
   "execution_count": 7,
   "metadata": {
    "executionInfo": {
     "elapsed": 9,
     "status": "ok",
     "timestamp": 1708438394815,
     "user": {
      "displayName": "Kai Lukowiak",
      "userId": "12340107642472090190"
     },
     "user_tz": 420
    },
    "id": "Aju_XU24Licx"
   },
   "outputs": [],
   "source": [
    "def sinify_datetime(df, col):\n",
    "    df[col + \"_base_year\"] = df[col].dt.year\n",
    "    df[col + \"_day_sin\"] = np.sin(2 * np.pi * df[col].dt.day / 365.25)\n",
    "    df[col + \"_day_cos\"] = np.cos(2 * np.pi * df[col].dt.day / 365.25)\n",
    "    df[col + \"_hour_sin\"] = np.sin(2 * np.pi * df[col].dt.hour / 24)\n",
    "    df[col + \"_hour_cos\"] = np.cos(2 * np.pi * df[col].dt.hour / 24)\n",
    "    df[col + \"_is_weekend\"] = (\n",
    "        df[col].dt.dayofweek.isin([5, 6]).astype(str).map({\"True\": 1, \"False\": 0})\n",
    "    )\n",
    "\n",
    "    return df"
   ]
  },
  {
   "cell_type": "code",
   "execution_count": 8,
   "metadata": {
    "colab": {
     "base_uri": "https://localhost:8080/"
    },
    "executionInfo": {
     "elapsed": 59629,
     "status": "ok",
     "timestamp": 1708438454435,
     "user": {
      "displayName": "Kai Lukowiak",
      "userId": "12340107642472090190"
     },
     "user_tz": 420
    },
    "id": "_tRmKkEtLicx",
    "outputId": "d7d8cc6a-23c7-43d9-93d9-ada0643659d5"
   },
   "outputs": [
    {
     "name": "stderr",
     "output_type": "stream",
     "text": [
      "<ipython-input-8-b1e441451113>:79: UserWarning: Converting to PeriodArray/Index representation will drop timezone information.\n",
      "  forecast_weather.groupby([forecast_weather[\"datetime\"].dt.to_period(\"h\")])[\n",
      "<ipython-input-8-b1e441451113>:95: UserWarning: Converting to PeriodArray/Index representation will drop timezone information.\n",
      "  [\"county\", forecast_weather[\"datetime\"].dt.to_period(\"h\")]\n",
      "<ipython-input-8-b1e441451113>:129: UserWarning: Converting to PeriodArray/Index representation will drop timezone information.\n",
      "  hist_weather.groupby([hist_weather[\"datetime\"].dt.to_period(\"h\")])[\n",
      "<ipython-input-8-b1e441451113>:149: UserWarning: Converting to PeriodArray/Index representation will drop timezone information.\n",
      "  hist_weather.groupby([\"county\", hist_weather[\"datetime\"].dt.to_period(\"h\")])[\n",
      "<ipython-input-8-b1e441451113>:244: FutureWarning: Not prepending group keys to the result index of transform-like apply. In the future, the group keys will be included in the index, regardless of whether the applied function returns a like-indexed object.\n",
      "To preserve the previous behavior, use\n",
      "\n",
      "\t>>> .groupby(..., group_keys=False)\n",
      "\n",
      "To adopt the future behavior and silence this warning, use \n",
      "\n",
      "\t>>> .groupby(..., group_keys=True)\n",
      "  .apply(lambda x: x.ffill().bfill())\n"
     ]
    }
   ],
   "source": [
    "train = pd.read_csv(\"data/predict-energy-behavior-of-prosumers/train.csv\")\n",
    "gas_df = pd.read_csv(\"data/predict-energy-behavior-of-prosumers/gas_prices.csv\")\n",
    "electricity_df = pd.read_csv(\n",
    "    \"data/predict-energy-behavior-of-prosumers/electricity_prices.csv\"\n",
    ")\n",
    "client_df = pd.read_csv(\"data/predict-energy-behavior-of-prosumers/client.csv\")\n",
    "fw_df = pd.read_csv(\"data/predict-energy-behavior-of-prosumers/forecast_weather.csv\")\n",
    "hw_df = pd.read_csv(\"data/predict-energy-behavior-of-prosumers/historical_weather.csv\")\n",
    "# locations is customize data sets which are used by other coders in the compettion to help in\n",
    "# getting more consolidated merged data set to work on\n",
    "locations = pd.read_csv(\"data/predict-energy-behavior-of-prosumers/county_lon_lats.csv\")\n",
    "\n",
    "data = train\n",
    "client = client_df\n",
    "hist_weather = hw_df\n",
    "forecast_weather = fw_df\n",
    "electricity = electricity_df\n",
    "gas = gas_df\n",
    "locations = locations\n",
    "\n",
    "counties = pd.read_json(\n",
    "    \"data/predict-energy-behavior-of-prosumers/county_id_to_name_map.json\",\n",
    "    orient=\"index\",\n",
    ").reset_index()\n",
    "counties.columns = [\"county\", \"county_name\"]\n",
    "\n",
    "# Dropping (target) nan values\n",
    "data = data[data[\"target\"].notnull()]\n",
    "\n",
    "# Converting (datetime) column to datetime\n",
    "data[\"datetime\"] = pd.to_datetime(data[\"datetime\"], utc=True)\n",
    "\n",
    "# Renaming (forecast_date) to (datetime) for merging with the train data later\n",
    "electricity = electricity.rename(columns={\"forecast_date\": \"datetime\"})\n",
    "\n",
    "# Converting (datetime) column to datetime\n",
    "electricity[\"datetime\"] = pd.to_datetime(electricity[\"datetime\"], utc=True)\n",
    "\n",
    "# Decreasing (data_block_id) in client data because it's 2 steps ahead from train's data (data_block_id)\n",
    "client[\"data_block_id\"] -= 2\n",
    "\n",
    "\n",
    "\"\"\"locations is a custom data that will help replace (latitude) and (longitude)\n",
    "columns by the counties for each coordination | you can find the data in Input \"\"\"\n",
    "locations = locations.drop(\"Unnamed: 0\", axis=1)\n",
    "\n",
    "# Rounding the (latitude) and (longitude) for 1 decimal fraction\n",
    "forecast_weather[[\"latitude\", \"longitude\"]] = (\n",
    "    forecast_weather[[\"latitude\", \"longitude\"]].astype(float).round(1)\n",
    ")\n",
    "\n",
    "# Merging counties in locations data with the coordinations in the forecast_weather data\n",
    "forecast_weather = forecast_weather.merge(\n",
    "    locations, how=\"left\", on=[\"longitude\", \"latitude\"]\n",
    ")\n",
    "\n",
    "# dropping nan values\n",
    "forecast_weather.dropna(axis=0, inplace=True)\n",
    "\n",
    "# Converting (county) column to integer\n",
    "forecast_weather[\"county\"] = forecast_weather[\"county\"].astype(\"int64\")\n",
    "\n",
    "# Dropping the columns we won't need | We will use the (forecast_datetime) column instead of the (origin_datetime)\n",
    "forecast_weather.drop(\n",
    "    [\"origin_datetime\", \"latitude\", \"longitude\", \"hours_ahead\", \"data_block_id\"],\n",
    "    axis=1,\n",
    "    inplace=True,\n",
    ")\n",
    "\n",
    "# Renaming (forecast_datetime) to (datetime) for merging with the train data later\n",
    "forecast_weather.rename(columns={\"forecast_datetime\": \"datetime\"}, inplace=True)\n",
    "\n",
    "# Converting (datetime) column to datetime\n",
    "forecast_weather[\"datetime\"] = pd.to_datetime(forecast_weather[\"datetime\"], utc=True)\n",
    "\n",
    "\"\"\"Grouping all forecast_weather columns mean values by hour, So each hour\n",
    "will have the mean values of the forecast_weather columns\"\"\"\n",
    "forecast_weather_datetime = (\n",
    "    forecast_weather.groupby([forecast_weather[\"datetime\"].dt.to_period(\"h\")])[\n",
    "        list(forecast_weather.drop([\"county\", \"datetime\"], axis=1).columns)\n",
    "    ]\n",
    "    .mean()\n",
    "    .reset_index()\n",
    ")\n",
    "\n",
    "# After converting the (datetime) column to hour period for the groupby we convert it back to datetime\n",
    "forecast_weather_datetime[\"datetime\"] = pd.to_datetime(\n",
    "    forecast_weather_datetime[\"datetime\"].dt.to_timestamp(), utc=True\n",
    ")\n",
    "\n",
    "\"\"\"Grouping all forecast_weather columns mean values by hour and county, So each hour and county\n",
    "will have the mean values of the forecast_weather columns for each county\"\"\"\n",
    "forecast_weather_datetime_county = (\n",
    "    forecast_weather.groupby(\n",
    "        [\"county\", forecast_weather[\"datetime\"].dt.to_period(\"h\")]\n",
    "    )[list(forecast_weather.drop([\"county\", \"datetime\"], axis=1).columns)]\n",
    "    .mean()\n",
    "    .reset_index()\n",
    ")\n",
    "\n",
    "# After converting the (datetime) column to hour period for the groupby we convert it back to datetime\n",
    "forecast_weather_datetime_county[\"datetime\"] = pd.to_datetime(\n",
    "    forecast_weather_datetime_county[\"datetime\"].dt.to_timestamp(), utc=True\n",
    ")\n",
    "\n",
    "# Rounding the (latitude) and (longitude) for 1 decimal fraction\n",
    "hist_weather[[\"latitude\", \"longitude\"]] = (\n",
    "    hist_weather[[\"latitude\", \"longitude\"]].astype(float).round(1)\n",
    ")\n",
    "\n",
    "# Merging counties in locations data with the coordinations in the historical_weather data\n",
    "hist_weather = hist_weather.merge(locations, how=\"left\", on=[\"longitude\", \"latitude\"])\n",
    "\n",
    "# Dropping nan values\n",
    "hist_weather.dropna(axis=0, inplace=True)\n",
    "\n",
    "# Dropping the columns we won't need\n",
    "hist_weather.drop([\"latitude\", \"longitude\"], axis=1, inplace=True)\n",
    "\n",
    "# Converting (county) to integer\n",
    "hist_weather[\"county\"] = hist_weather[\"county\"].astype(\"int64\")\n",
    "\n",
    "# Converting (datetime) column to datetime\n",
    "hist_weather[\"datetime\"] = pd.to_datetime(hist_weather[\"datetime\"], utc=True)\n",
    "\n",
    "\"\"\"Grouping all historical_weather columns mean values by hour, So each hour\n",
    "will have the mean values of the historical_weather columns\"\"\"\n",
    "hist_weather_datetime = (\n",
    "    hist_weather.groupby([hist_weather[\"datetime\"].dt.to_period(\"h\")])[\n",
    "        list(hist_weather.drop([\"county\", \"datetime\", \"data_block_id\"], axis=1).columns)\n",
    "    ]\n",
    "    .mean()\n",
    "    .reset_index()\n",
    ")\n",
    "\n",
    "# After converting the (datetime) column to hour period for the groupby we convert it back to datetime\n",
    "hist_weather_datetime[\"datetime\"] = pd.to_datetime(\n",
    "    hist_weather_datetime[\"datetime\"].dt.to_timestamp(), utc=True\n",
    ")\n",
    "\n",
    "# Merging (data_block_id) back after dropping it in the last step | (data_block_id will be used to merge with train data)\n",
    "hist_weather_datetime = hist_weather_datetime.merge(\n",
    "    hist_weather[[\"datetime\", \"data_block_id\"]], how=\"left\", on=\"datetime\"\n",
    ")\n",
    "\n",
    "\"\"\"Grouping all historical_weather columns mean values by hour and county, So each hour\n",
    "will have the mean values of the historical_weather columns for each county\"\"\"\n",
    "hist_weather_datetime_county = (\n",
    "    hist_weather.groupby([\"county\", hist_weather[\"datetime\"].dt.to_period(\"h\")])[\n",
    "        list(hist_weather.drop([\"county\", \"datetime\", \"data_block_id\"], axis=1).columns)\n",
    "    ]\n",
    "    .mean()\n",
    "    .reset_index()\n",
    ")\n",
    "\n",
    "# After converting the (datetime) column to hour period for the groupby we convert it back to datetime\n",
    "hist_weather_datetime_county[\"datetime\"] = pd.to_datetime(\n",
    "    hist_weather_datetime_county[\"datetime\"].dt.to_timestamp(), utc=True\n",
    ")\n",
    "\n",
    "# Merging (data_block_id) back after dropping it in the last step\n",
    "hist_weather_datetime_county = hist_weather_datetime_county.merge(\n",
    "    hist_weather[[\"datetime\", \"data_block_id\"]], how=\"left\", on=\"datetime\"\n",
    ")\n",
    "\n",
    "# Adding year column in train data\n",
    "data[\"year\"] = data[\"datetime\"].dt.year\n",
    "\n",
    "# Adding month column in train data\n",
    "data[\"month\"] = data[\"datetime\"].dt.month\n",
    "\n",
    "# Adding day column in train data\n",
    "data[\"day\"] = data[\"datetime\"].dt.day\n",
    "\n",
    "# Adding hour column in train data\n",
    "data[\"hour\"] = data[\"datetime\"].dt.hour\n",
    "\n",
    "# Adding dayofweek column in train data\n",
    "data[\"dayofweek\"] = data[\"datetime\"].dt.dayofweek\n",
    "\n",
    "# Adding dayofyear column in train data\n",
    "data[\"dayofyear\"] = data[\"datetime\"].dt.dayofyear\n",
    "\n",
    "# Adding hour column to electricity used to merge with the train data\n",
    "electricity[\"hour\"] = electricity[\"datetime\"].dt.hour\n",
    "\n",
    "# Merging train data with client data\n",
    "data = data.merge(\n",
    "    client.drop(columns=[\"date\"]),\n",
    "    how=\"left\",\n",
    "    on=[\"data_block_id\", \"county\", \"is_business\", \"product_type\"],\n",
    ")\n",
    "\n",
    "# Merging train data with gas data\n",
    "data = data.merge(\n",
    "    gas[[\"data_block_id\", \"lowest_price_per_mwh\", \"highest_price_per_mwh\"]],\n",
    "    how=\"left\",\n",
    "    on=\"data_block_id\",\n",
    ")\n",
    "\n",
    "# Merging train data with electricity data\n",
    "data = data.merge(\n",
    "    electricity[[\"euros_per_mwh\", \"hour\", \"data_block_id\"]],\n",
    "    how=\"left\",\n",
    "    on=[\"hour\", \"data_block_id\"],\n",
    ")\n",
    "\n",
    "# Merging train data with forecast_weather_datetime data\n",
    "data = data.merge(forecast_weather_datetime, how=\"left\", on=[\"datetime\"])\n",
    "\n",
    "# Merging train data with forecast_weather_datetime_county data\n",
    "data = data.merge(\n",
    "    forecast_weather_datetime_county,\n",
    "    how=\"left\",\n",
    "    on=[\"datetime\", \"county\"],\n",
    "    suffixes=(\"_fcast_mean\", \"_fcast_mean_by_county\"),\n",
    ")\n",
    "\n",
    "# Creating hour columns in both historical_weather data | used to merge both data with the train data\n",
    "hist_weather_datetime[\"hour\"] = hist_weather_datetime[\"datetime\"].dt.hour\n",
    "hist_weather_datetime_county[\"hour\"] = hist_weather_datetime_county[\"datetime\"].dt.hour\n",
    "\n",
    "# Dropping duplicates and (datetime) column\n",
    "hist_weather_datetime.drop_duplicates(inplace=True)\n",
    "hist_weather_datetime_county.drop_duplicates(inplace=True)\n",
    "hist_weather_datetime.drop(\"datetime\", axis=1, inplace=True)\n",
    "hist_weather_datetime_county.drop(\"datetime\", axis=1, inplace=True)\n",
    "\n",
    "# Merging hist_weather_datetime with train data\n",
    "data = data.merge(hist_weather_datetime, how=\"left\", on=[\"data_block_id\", \"hour\"])\n",
    "\n",
    "\n",
    "# Merging hist_weather_datetime_county with train data\n",
    "data = data.merge(\n",
    "    hist_weather_datetime_county,\n",
    "    how=\"left\",\n",
    "    on=[\"data_block_id\", \"county\", \"hour\"],\n",
    "    suffixes=(\"_hist_mean\", \"_hist_mean_by_county\"),\n",
    ")\n",
    "\n",
    "# Filling nan values with hourly mean values for each column | Helps for the county missing value\n",
    "data = (\n",
    "    data.groupby([\"year\", \"day\", \"hour\"], as_index=False)\n",
    "    .apply(lambda x: x.ffill().bfill())\n",
    "    .reset_index()\n",
    ")\n",
    "data = data.merge(counties, how=\"left\", on=\"county\").drop(columns=[\"county\"])\n",
    "product_dict = {0: \"Combined\", 1: \"Fixed\", 2: \"General service\", 3: \"Spot\"}\n",
    "\n",
    "# Convert the dictionary to a list of tuples\n",
    "product_list = list(product_dict.items())\n",
    "\n",
    "# Create the DataFrame\n",
    "product = pd.DataFrame(product_list, columns=[\"product_type\", \"product_name\"])\n",
    "\n",
    "data = data.merge(product, how=\"left\", on=\"product_type\").drop(columns=[\"product_type\"])\n",
    "data[\"is_business\"] = data[\"is_business\"].map({0: \"Residential\", 1: \"Business\"})\n",
    "data[\"is_consumption\"] = data[\"is_consumption\"].map({0: \"Production\", 1: \"Consumption\"})\n",
    "\n",
    "# Dropping uneeded data\n",
    "data.drop(\n",
    "    [\"row_id\", \"data_block_id\", \"year\", \"datetime\"],\n",
    "    axis=1,\n",
    "    inplace=True,\n",
    ")\n",
    "\n",
    "data = data[\n",
    "    list(\n",
    "        chain(\n",
    "            data.select_dtypes(include=[\"object\"]).columns,\n",
    "            data.select_dtypes(exclude=[\"object\"]).columns,\n",
    "        )\n",
    "    )\n",
    "]\n",
    "\n",
    "data_head = data.head(100)"
   ]
  },
  {
   "cell_type": "code",
   "execution_count": 9,
   "metadata": {
    "colab": {
     "base_uri": "https://localhost:8080/"
    },
    "executionInfo": {
     "elapsed": 15,
     "status": "ok",
     "timestamp": 1708438454436,
     "user": {
      "displayName": "Kai Lukowiak",
      "userId": "12340107642472090190"
     },
     "user_tz": 420
    },
    "id": "nq92rjraMxcf",
    "outputId": "e3557f2f-9be5-4039-d795-2ad1f6679313"
   },
   "outputs": [
    {
     "data": {
      "text/plain": [
       "Index(['is_business', 'is_consumption', 'county_name', 'product_name', 'index',\n",
       "       'target', 'prediction_unit_id', 'month', 'day', 'hour', 'dayofweek',\n",
       "       'dayofyear', 'eic_count', 'installed_capacity', 'lowest_price_per_mwh',\n",
       "       'highest_price_per_mwh', 'euros_per_mwh', 'temperature_fcast_mean',\n",
       "       'dewpoint_fcast_mean', 'cloudcover_high_fcast_mean',\n",
       "       'cloudcover_low_fcast_mean', 'cloudcover_mid_fcast_mean',\n",
       "       'cloudcover_total_fcast_mean', '10_metre_u_wind_component_fcast_mean',\n",
       "       '10_metre_v_wind_component_fcast_mean',\n",
       "       'direct_solar_radiation_fcast_mean',\n",
       "       'surface_solar_radiation_downwards_fcast_mean', 'snowfall_fcast_mean',\n",
       "       'total_precipitation_fcast_mean', 'temperature_fcast_mean_by_county',\n",
       "       'dewpoint_fcast_mean_by_county', 'cloudcover_high_fcast_mean_by_county',\n",
       "       'cloudcover_low_fcast_mean_by_county',\n",
       "       'cloudcover_mid_fcast_mean_by_county',\n",
       "       'cloudcover_total_fcast_mean_by_county',\n",
       "       '10_metre_u_wind_component_fcast_mean_by_county',\n",
       "       '10_metre_v_wind_component_fcast_mean_by_county',\n",
       "       'direct_solar_radiation_fcast_mean_by_county',\n",
       "       'surface_solar_radiation_downwards_fcast_mean_by_county',\n",
       "       'snowfall_fcast_mean_by_county',\n",
       "       'total_precipitation_fcast_mean_by_county', 'temperature_hist_mean',\n",
       "       'dewpoint_hist_mean', 'rain_hist_mean', 'snowfall_hist_mean',\n",
       "       'surface_pressure_hist_mean', 'cloudcover_total_hist_mean',\n",
       "       'cloudcover_low_hist_mean', 'cloudcover_mid_hist_mean',\n",
       "       'cloudcover_high_hist_mean', 'windspeed_10m_hist_mean',\n",
       "       'winddirection_10m_hist_mean', 'shortwave_radiation_hist_mean',\n",
       "       'direct_solar_radiation_hist_mean', 'diffuse_radiation_hist_mean',\n",
       "       'temperature_hist_mean_by_county', 'dewpoint_hist_mean_by_county',\n",
       "       'rain_hist_mean_by_county', 'snowfall_hist_mean_by_county',\n",
       "       'surface_pressure_hist_mean_by_county',\n",
       "       'cloudcover_total_hist_mean_by_county',\n",
       "       'cloudcover_low_hist_mean_by_county',\n",
       "       'cloudcover_mid_hist_mean_by_county',\n",
       "       'cloudcover_high_hist_mean_by_county',\n",
       "       'windspeed_10m_hist_mean_by_county',\n",
       "       'winddirection_10m_hist_mean_by_county',\n",
       "       'shortwave_radiation_hist_mean_by_county',\n",
       "       'direct_solar_radiation_hist_mean_by_county',\n",
       "       'diffuse_radiation_hist_mean_by_county'],\n",
       "      dtype='object')"
      ]
     },
     "execution_count": 9,
     "metadata": {},
     "output_type": "execute_result"
    }
   ],
   "source": [
    "data.columns"
   ]
  },
  {
   "cell_type": "code",
   "execution_count": 10,
   "metadata": {
    "executionInfo": {
     "elapsed": 13664,
     "status": "ok",
     "timestamp": 1708438468087,
     "user": {
      "displayName": "Kai Lukowiak",
      "userId": "12340107642472090190"
     },
     "user_tz": 420
    },
    "id": "4RZof2SNKXkK"
   },
   "outputs": [],
   "source": [
    "pre_train = hp.TabularTimeSeriesData(\n",
    "    data,\n",
    "    batch_size=3120 * 1,  # target_column=\"euros_per_mwh\"\n",
    "    target_column=\"target\",\n",
    ")  # .head(2688 * 100)\n",
    "\n",
    "# pre_train = hp.TabularDS(df)"
   ]
  },
  {
   "cell_type": "code",
   "execution_count": 11,
   "metadata": {
    "colab": {
     "base_uri": "https://localhost:8080/"
    },
    "executionInfo": {
     "elapsed": 17,
     "status": "ok",
     "timestamp": 1708438468088,
     "user": {
      "displayName": "Kai Lukowiak",
      "userId": "12340107642472090190"
     },
     "user_tz": 420
    },
    "id": "v_OgN1aR3ZOi",
    "outputId": "1f2202b7-91f4-4317-9ffa-808ded23052b"
   },
   "outputs": [
    {
     "data": {
      "text/plain": [
       "(Array([[72, 78, 83, 87],\n",
       "        [72, 73, 83, 87],\n",
       "        [75, 78, 83, 94],\n",
       "        ...,\n",
       "        [75, 78, 91, 87],\n",
       "        [75, 73, 91, 87],\n",
       "        [72, 78, 84, 87]], dtype=int32),\n",
       " Array([[-1.7266936 ,  0.09977204,  0.70107555, ..., -0.5924703 ,\n",
       "         -0.481902  , -0.68075854],\n",
       "        [-1.726692  ,  0.09977204,  0.70107555, ..., -0.5924703 ,\n",
       "         -0.481902  , -0.68075854],\n",
       "        [-1.7266903 ,  0.15081689,  0.70107555, ..., -0.5924703 ,\n",
       "         -0.481902  , -0.68075854],\n",
       "        ...,\n",
       "        [-1.7213409 , -1.2784388 ,  0.70107555, ..., -0.5924703 ,\n",
       "         -0.481902  , -0.68075854],\n",
       "        [-1.7213391 , -1.2784388 ,  0.70107555, ..., -0.5924703 ,\n",
       "         -0.481902  , -0.68075854],\n",
       "        [-1.7213374 , -1.227394  ,  0.70107555, ..., -0.5924703 ,\n",
       "         -0.481902  , -0.68075854]], dtype=float32),\n",
       " Array([[5.2000e-02],\n",
       "        [8.7508e+01],\n",
       "        [0.0000e+00],\n",
       "        ...,\n",
       "        [0.0000e+00],\n",
       "        [2.7202e+01],\n",
       "        [6.8000e-02]], dtype=float32))"
      ]
     },
     "execution_count": 11,
     "metadata": {},
     "output_type": "execute_result"
    }
   ],
   "source": [
    "pre_train[1]"
   ]
  },
  {
   "cell_type": "code",
   "execution_count": 12,
   "metadata": {
    "executionInfo": {
     "elapsed": 16,
     "status": "ok",
     "timestamp": 1708438468088,
     "user": {
      "displayName": "Kai Lukowiak",
      "userId": "12340107642472090190"
     },
     "user_tz": 420
    },
    "id": "Y4b7IkMWKXkK"
   },
   "outputs": [],
   "source": [
    "time_series_regressor = hp.time_series.MaskedTimeSeries(pre_train)"
   ]
  },
  {
   "cell_type": "code",
   "execution_count": 13,
   "metadata": {
    "colab": {
     "base_uri": "https://localhost:8080/"
    },
    "executionInfo": {
     "elapsed": 15,
     "status": "ok",
     "timestamp": 1708438468088,
     "user": {
      "displayName": "Kai Lukowiak",
      "userId": "12340107642472090190"
     },
     "user_tz": 420
    },
    "id": "UkQt4e_ZgQHj",
    "outputId": "cc2d234f-5a75-4031-d792-f2f69cec6bf2"
   },
   "outputs": [
    {
     "data": {
      "text/plain": [
       "(Array([[72, 78, 93, 94],\n",
       "        [72, 73, 93, 94],\n",
       "        [72, 78, 93, 79],\n",
       "        ...,\n",
       "        [72, 78, 83, 94],\n",
       "        [72, 73, 83, 94],\n",
       "        [72, 78, 83, 87]], dtype=int32),\n",
       " Array([[-1.73205   , -1.6867976 ,  0.70107555, ..., -0.5924703 ,\n",
       "         -0.481902  , -0.68075854],\n",
       "        [-1.7320483 , -1.6867976 ,  0.70107555, ..., -0.5924703 ,\n",
       "         -0.481902  , -0.68075854],\n",
       "        [-1.7320465 , -1.6357528 ,  0.70107555, ..., -0.5924703 ,\n",
       "         -0.481902  , -0.68075854],\n",
       "        ...,\n",
       "        [-1.7266971 ,  0.04872719,  0.70107555, ..., -0.5924703 ,\n",
       "         -0.481902  , -0.68075854],\n",
       "        [-1.7266954 ,  0.04872719,  0.70107555, ..., -0.5924703 ,\n",
       "         -0.481902  , -0.68075854],\n",
       "        [-1.7266936 ,  0.09977204,  0.70107555, ..., -0.5924703 ,\n",
       "         -0.481902  , -0.68075854]], dtype=float32),\n",
       " Array([[7.1300e-01],\n",
       "        [9.6590e+01],\n",
       "        [0.0000e+00],\n",
       "        ...,\n",
       "        [0.0000e+00],\n",
       "        [1.4178e+01],\n",
       "        [5.2000e-02]], dtype=float32))"
      ]
     },
     "execution_count": 13,
     "metadata": {},
     "output_type": "execute_result"
    }
   ],
   "source": [
    "pre_train[0]"
   ]
  },
  {
   "cell_type": "code",
   "execution_count": 14,
   "metadata": {
    "executionInfo": {
     "elapsed": 1520,
     "status": "ok",
     "timestamp": 1708438469594,
     "user": {
      "displayName": "Kai Lukowiak",
      "userId": "12340107642472090190"
     },
     "user_tz": 420
    },
    "id": "D_XuHxTxKXkK"
   },
   "outputs": [],
   "source": [
    "# time_length = 1000 # 6336 * 3  # 112 * 3 #\n",
    "test_cat, test_num, y = pre_train[0]\n",
    "\n",
    "test_num_mask = hp.mask_tensor(test_num, pre_train)\n",
    "test_cat_mask = hp.mask_tensor(test_cat, pre_train)"
   ]
  },
  {
   "cell_type": "code",
   "execution_count": 15,
   "metadata": {
    "executionInfo": {
     "elapsed": 2,
     "status": "ok",
     "timestamp": 1708438469594,
     "user": {
      "displayName": "Kai Lukowiak",
      "userId": "12340107642472090190"
     },
     "user_tz": 420
    },
    "id": "pMS-gjmiVGsn"
   },
   "outputs": [],
   "source": [
    "def calculate_memory_footprint(params):\n",
    "    \"\"\"Calculate total memory footprint of JAX model parameters.\"\"\"\n",
    "    total_bytes = 0\n",
    "    # Flatten the parameter tree structure into a list of arrays\n",
    "    flat_params, _ = tree_flatten(params)\n",
    "    for param in flat_params:\n",
    "        # Calculate bytes: number of elements * size of each element\n",
    "        bytes_per_param = param.size * param.dtype.itemsize\n",
    "        total_bytes += bytes_per_param\n",
    "    return total_bytes"
   ]
  },
  {
   "cell_type": "code",
   "execution_count": 16,
   "metadata": {
    "executionInfo": {
     "elapsed": 11248,
     "status": "ok",
     "timestamp": 1708438480840,
     "user": {
      "displayName": "Kai Lukowiak",
      "userId": "12340107642472090190"
     },
     "user_tz": 420
    },
    "id": "IKsv7OeyKXkL"
   },
   "outputs": [],
   "source": [
    "tsm_root_key = random.PRNGKey(44)\n",
    "tsm_main_key, ts_params_key, ts_data_key = random.split(tsm_root_key, 3)\n",
    "\n",
    "time_series_regressor_vars = time_series_regressor.init(\n",
    "    tsm_main_key,\n",
    "    jnp.array([test_cat, test_cat_mask]),\n",
    "    jnp.array([test_num, test_num_mask]),\n",
    ")\n",
    "# shapes=[(2, 336, 1, 23), (), (2, 336, 23, 640)]"
   ]
  },
  {
   "cell_type": "code",
   "execution_count": 17,
   "metadata": {
    "colab": {
     "base_uri": "https://localhost:8080/"
    },
    "executionInfo": {
     "elapsed": 8,
     "status": "ok",
     "timestamp": 1708438480840,
     "user": {
      "displayName": "Kai Lukowiak",
      "userId": "12340107642472090190"
     },
     "user_tz": 420
    },
    "id": "fDTF1MdYvkew",
    "outputId": "82d4cf46-ecda-4b3f-a372-38ce4a5446b6"
   },
   "outputs": [
    {
     "data": {
      "text/plain": [
       "96"
      ]
     },
     "execution_count": 17,
     "metadata": {},
     "output_type": "execute_result"
    }
   ],
   "source": [
    "pre_train.n_tokens"
   ]
  },
  {
   "cell_type": "code",
   "execution_count": 18,
   "metadata": {
    "colab": {
     "base_uri": "https://localhost:8080/"
    },
    "executionInfo": {
     "elapsed": 7,
     "status": "ok",
     "timestamp": 1708438480840,
     "user": {
      "displayName": "Kai Lukowiak",
      "userId": "12340107642472090190"
     },
     "user_tz": 420
    },
    "id": "4SnEMFd2VPFX",
    "outputId": "d3667da7-7780-4014-b7cf-ab2f9207220d"
   },
   "outputs": [
    {
     "data": {
      "text/plain": [
       "0.6398345232009888"
      ]
     },
     "execution_count": 18,
     "metadata": {},
     "output_type": "execute_result"
    }
   ],
   "source": [
    "calculate_memory_footprint(time_series_regressor_vars) / (1024**3)"
   ]
  },
  {
   "cell_type": "code",
   "execution_count": 19,
   "metadata": {
    "colab": {
     "base_uri": "https://localhost:8080/"
    },
    "executionInfo": {
     "elapsed": 608,
     "status": "ok",
     "timestamp": 1708438481442,
     "user": {
      "displayName": "Kai Lukowiak",
      "userId": "12340107642472090190"
     },
     "user_tz": 420
    },
    "id": "MAkFPC_Jvkew",
    "outputId": "8618ef1a-2518-4b5d-d701-3f7594079e33"
   },
   "outputs": [
    {
     "data": {
      "text/plain": [
       "['is_business', 'is_consumption', 'county_name', 'product_name']"
      ]
     },
     "execution_count": 19,
     "metadata": {},
     "output_type": "execute_result"
    }
   ],
   "source": [
    "pre_train.category_columns"
   ]
  },
  {
   "cell_type": "code",
   "execution_count": 20,
   "metadata": {
    "executionInfo": {
     "elapsed": 7,
     "status": "ok",
     "timestamp": 1708438481442,
     "user": {
      "displayName": "Kai Lukowiak",
      "userId": "12340107642472090190"
     },
     "user_tz": 420
    },
    "id": "vgs982mAKXkM"
   },
   "outputs": [],
   "source": [
    "class TSBatch:\n",
    "    def __init__(self, numeric: jnp.ndarray, categorical: jnp.ndarray, y: jnp.ndarray):\n",
    "        self.numeric = numeric\n",
    "        self.categorical = categorical\n",
    "        self.y = y\n",
    "\n",
    "\n",
    "def make_batch(ds: hp.TabularTimeSeriesData, start: int, count: int) -> TSBatch:\n",
    "    numeric_list = []\n",
    "    categorical_list = []\n",
    "    y_list = []\n",
    "    for i in range(count):\n",
    "        idx = start + i\n",
    "        categorical, numeric, y = ds[idx]\n",
    "        numeric_list.append(numeric)\n",
    "        categorical_list.append(categorical)\n",
    "        y_list.append(y)\n",
    "\n",
    "    numeric = jnp.array(numeric_list)\n",
    "    categorical = jnp.array(categorical_list)\n",
    "    y = jnp.array(y_list)\n",
    "    batch = TSBatch(numeric=numeric, categorical=categorical, y=y)\n",
    "    return batch\n",
    "\n",
    "\n",
    "# batcha = make_batch(pre_train, 0, 12)\n",
    "\n",
    "# r = time_series_regressor.apply(\n",
    "#     {\"params\": time_series_regressor_vars[\"params\"]},\n",
    "#     hp.mask_tensor(batch.categorical, pre_train, prng_key=ts_data_key),\n",
    "#     hp.mask_tensor(batch.numeric, pre_train, prng_key=ts_data_key),\n",
    "# )\n",
    "# r[0].shape, r[1].shape  # ((12, 336, 668), (12, 336, 23))"
   ]
  },
  {
   "cell_type": "markdown",
   "metadata": {
    "id": "4p6D25p_KXkM"
   },
   "source": [
    "pre_t\n"
   ]
  },
  {
   "cell_type": "code",
   "execution_count": 20,
   "metadata": {
    "executionInfo": {
     "elapsed": 8,
     "status": "ok",
     "timestamp": 1708438481443,
     "user": {
      "displayName": "Kai Lukowiak",
      "userId": "12340107642472090190"
     },
     "user_tz": 420
    },
    "id": "bB7-KPdKKXkM"
   },
   "outputs": [],
   "source": []
  },
  {
   "cell_type": "code",
   "execution_count": 21,
   "metadata": {
    "executionInfo": {
     "elapsed": 8,
     "status": "ok",
     "timestamp": 1708438481443,
     "user": {
      "displayName": "Kai Lukowiak",
      "userId": "12340107642472090190"
     },
     "user_tz": 420
    },
    "id": "cHuB4H1bKXkN"
   },
   "outputs": [],
   "source": [
    "# max_len = 10000\n",
    "# d_pos_encoding = 32\n",
    "# n_features = 24\n",
    "# n_epochs = 9\n",
    "# seq_len = 200\n",
    "# position = jnp.arange(max_len)[:, jnp.newaxis]\n",
    "# div_term = jnp.exp(\n",
    "#     jnp.arange(0, d_pos_encoding, 2) * -(jnp.log(10000.0) / d_pos_encoding)\n",
    "# )\n",
    "# pe = jnp.zeros((max_len, d_pos_encoding))\n",
    "# pe = pe.at[:, 0::2].set(jnp.sin(position * div_term))\n",
    "# pe = pe.at[:, 1::2].set(jnp.cos(position * div_term))\n",
    "# pe = pe[:seq_len, :]\n",
    "# pe = pe[None, :, :, None]\n",
    "# pe = jnp.tile(pe, (n_epochs, 1, 1, n_features))\n",
    "# pe = pe.transpose((0, 1, 3, 2))  # (batch_size, seq_len, n_features, d_model)\n",
    "# # concatenate the positional encoding with the input"
   ]
  },
  {
   "cell_type": "code",
   "execution_count": 22,
   "metadata": {
    "executionInfo": {
     "elapsed": 8,
     "status": "ok",
     "timestamp": 1708438481443,
     "user": {
      "displayName": "Kai Lukowiak",
      "userId": "12340107642472090190"
     },
     "user_tz": 420
    },
    "id": "SKcoTVP7KXkN"
   },
   "outputs": [],
   "source": [
    "# Plot the positional encoding\n",
    "# plt.figure(figsize=(15, 5))\n",
    "# plt.pcolormesh(pe[0, :, 0, :], cmap=\"viridis\")"
   ]
  },
  {
   "cell_type": "code",
   "execution_count": 23,
   "metadata": {
    "executionInfo": {
     "elapsed": 7,
     "status": "ok",
     "timestamp": 1708438481443,
     "user": {
      "displayName": "Kai Lukowiak",
      "userId": "12340107642472090190"
     },
     "user_tz": 420
    },
    "id": "d99IwSuoKXkN"
   },
   "outputs": [],
   "source": [
    "# batch_size = 12\n",
    "# for i in range(len(pre_train) // batch_size):\n",
    "#     batch = make_batch(pre_train, i * batch_size, batch_size)\n",
    "#     r = time_series_regressor.apply(\n",
    "#         {\"params\": time_series_regressor_vars[\"params\"]},\n",
    "#         hp.mask_tensor(batch.numeric, pre_train, prng_key=ts_data_key),\n",
    "#         hp.mask_tensor(batch.categorical, pre_train, prng_key=ts_data_key),\n",
    "#     )\n",
    "#     print(r[0].shape, r[1].shape)"
   ]
  },
  {
   "cell_type": "code",
   "execution_count": 24,
   "metadata": {
    "executionInfo": {
     "elapsed": 7,
     "status": "ok",
     "timestamp": 1708438481443,
     "user": {
      "displayName": "Kai Lukowiak",
      "userId": "12340107642472090190"
     },
     "user_tz": 420
    },
    "id": "yBPnATvfKXkS"
   },
   "outputs": [],
   "source": [
    "mts_root_key = random.PRNGKey(42)\n",
    "\n",
    "mts_main_key, mts_params_key, mts_dropout_key = random.split(mts_root_key, 3)"
   ]
  },
  {
   "cell_type": "code",
   "execution_count": 25,
   "metadata": {
    "executionInfo": {
     "elapsed": 7,
     "status": "ok",
     "timestamp": 1708438481443,
     "user": {
      "displayName": "Kai Lukowiak",
      "userId": "12340107642472090190"
     },
     "user_tz": 420
    },
    "id": "IpTh3llbKXkS"
   },
   "outputs": [],
   "source": [
    "# mts_mi = hp.create_masked_time_series_model_inputs(pre_train, 0, 3)"
   ]
  },
  {
   "cell_type": "code",
   "execution_count": 26,
   "metadata": {
    "colab": {
     "base_uri": "https://localhost:8080/"
    },
    "executionInfo": {
     "elapsed": 2655,
     "status": "ok",
     "timestamp": 1708438484091,
     "user": {
      "displayName": "Kai Lukowiak",
      "userId": "12340107642472090190"
     },
     "user_tz": 420
    },
    "id": "-q12dL8eKXkS",
    "outputId": "9ca96bac-4d21-44a8-bd7f-c1b66af24dbe"
   },
   "outputs": [
    {
     "data": {
      "text/plain": [
       "Array(5.3340983, dtype=float32)"
      ]
     },
     "execution_count": 26,
     "metadata": {},
     "output_type": "execute_result"
    }
   ],
   "source": [
    "@dataclass\n",
    "class MultiLoss:\n",
    "    total_loss: jnp.array\n",
    "    categorical_loss: jnp.array\n",
    "    numeric_loss: jnp.array\n",
    "    target_loss: jnp.array\n",
    "\n",
    "\n",
    "def calculate_loss(params, state, inputs, dataset):\n",
    "    numeric_loss_scale = 1.0\n",
    "    target_loss_scale = 3.0\n",
    "    category_out, numeric_out = state.apply(\n",
    "        {\"params\": params},\n",
    "        hp.mask_tensor(inputs.categorical, pre_train, prng_key=ts_data_key),\n",
    "        hp.mask_tensor(inputs.numeric, pre_train, prng_key=ts_data_key),\n",
    "    )\n",
    "    numeric_col_tokens = dataset.numeric_col_tokens.clone()\n",
    "    numeric_col_tokens = numeric_col_tokens[None, None, :]\n",
    "    repeated_numeric_col_tokens = jnp.tile(\n",
    "        numeric_col_tokens, (category_out.shape[0], category_out.shape[1], 1)\n",
    "    )\n",
    "    # repeated_numeric_col_tokens = jnp.tile(\n",
    "    #     numeric_col_tokens, (inputs.categorical.shape[0], 1)\n",
    "    # )\n",
    "    ic(repeated_numeric_col_tokens.shape, inputs.categorical.shape, category_out.shape)\n",
    "    categorical_targets = jnp.concatenate(\n",
    "        [\n",
    "            inputs.categorical,\n",
    "            repeated_numeric_col_tokens,\n",
    "        ],\n",
    "        axis=-1,\n",
    "    )\n",
    "    ic(categorical_targets.shape)\n",
    "    categorical_loss = optax.softmax_cross_entropy_with_integer_labels(\n",
    "        category_out, categorical_targets\n",
    "    ).mean()\n",
    "    numeric_loss = optax.squared_error(numeric_out, inputs.numeric).mean()\n",
    "    target_loss = optax.squared_error(numeric_out, inputs.y).mean()\n",
    "    total_loss = (\n",
    "        categorical_loss\n",
    "        + numeric_loss * numeric_loss_scale\n",
    "        + target_loss * target_loss_scale\n",
    "    )\n",
    "    return total_loss, MultiLoss(\n",
    "        total_loss=total_loss,\n",
    "        categorical_loss=categorical_loss,\n",
    "        numeric_loss=numeric_loss,\n",
    "        target_loss=target_loss,\n",
    "    )\n",
    "\n",
    "\n",
    "batch = make_batch(pre_train, 0, 2)\n",
    "calculate_loss(\n",
    "    time_series_regressor_vars[\"params\"], time_series_regressor, batch, pre_train\n",
    ")"
   ]
  },
  {
   "cell_type": "code",
   "execution_count": 26,
   "metadata": {
    "executionInfo": {
     "elapsed": 5,
     "status": "ok",
     "timestamp": 1708438484091,
     "user": {
      "displayName": "Kai Lukowiak",
      "userId": "12340107642472090190"
     },
     "user_tz": 420
    },
    "id": "OqbpmvvZH6SF"
   },
   "outputs": [],
   "source": []
  },
  {
   "cell_type": "markdown",
   "metadata": {
    "id": "jF_WYD8TH53-"
   },
   "source": [
    "\n"
   ]
  },
  {
   "cell_type": "code",
   "execution_count": 1,
   "metadata": {
    "colab": {
     "base_uri": "https://localhost:8080/"
    },
    "executionInfo": {
     "elapsed": 4,
     "status": "error",
     "timestamp": 1708482751402,
     "user": {
      "displayName": "Kai Lukowiak",
      "userId": "12340107642472090190"
     },
     "user_tz": 420
    },
    "id": "FxrHDzyr3UGx",
    "outputId": "4c423cfe-9fd3-4f26-ab65-4a72883f6a9b"
   },
   "outputs": [
    {
     "name": "stderr",
     "output_type": "stream",
     "text": [
      "UsageError: Line magic function `%tensorboard` not found.\n"
     ]
    }
   ],
   "source": [
    "%tensorboard \\\n",
    "        --logdir '/content/drive/MyDrive/Colab Notebooks/Hephaestus/runs' \\\n",
    "        --load_fast=false"
   ]
  },
  {
   "cell_type": "code",
   "execution_count": 28,
   "metadata": {
    "colab": {
     "base_uri": "https://localhost:8080/",
     "height": 371,
     "referenced_widgets": [
      "4ade0befe1414888872b802b0b412f12",
      "1fc52eb93cd34e3cb89f117e1791a489",
      "42f28969d6024d8abf8301eed9923c54",
      "9f8109e53d5c41ad9a1692595675d389",
      "5f8ef9c93593421da5f1f70a8bc5ade0",
      "2f7de23cd57e41c18a1806523f7fe137",
      "9afd53e8b6984b11a48eff81a0df5925",
      "fd442706a66b4a32aaa2953c7e6f46b9",
      "9a4179724c114d658c760a7fcc7ec7fb",
      "22ede869772d45c2bbcab7848e95deb3",
      "6c45029a3b734d9282af4e23fd4ba909",
      "ae275a12f76f49618109aa907a97bf86",
      "7a8185d7409e4d45b56ab956d6a71be8",
      "76cadde186484e00b1dc64bbd4643b8f",
      "fbdb84ebeabb4328ada0c92ba62d93f1",
      "85ec4d3a036b482dab12b35a47ad0da1",
      "b9c62d58312f4d5783b70dd4bbec81d0",
      "cc182f0174d94769931d2365066e09ae",
      "e7011e18973c422695aff03e52afd533",
      "b45b3e13611c43cf8cfcc82222c03e94",
      "dc223184f772461189bb5b6e283c8e22",
      "45c99333f457481bb95053b363523f70",
      "136cf519fd8248bf848e51018bc8d767",
      "0aca64aa4d5b46f4ab9babb29d429557",
      "4ffa47e9415441eb9e02cfcef64c671e",
      "4bb359cc0fe14af980f26ec1def59b18",
      "76692dc9b6eb485989faf08c62a308e7",
      "5d31874c85ea406a8e96915f1081716f",
      "d9f7a068e4224dde985a6bc1d63bef72",
      "49315e21ae3942789b8df74e953c6eaa",
      "afec92ebe95f41a6af8e69b817a0771a",
      "05cfff6cbbc9423bad1e930feae51330",
      "ee69db15664e4ffbb5f03eb18a441b4d"
     ]
    },
    "executionInfo": {
     "elapsed": 940848,
     "status": "error",
     "timestamp": 1708439428919,
     "user": {
      "displayName": "Kai Lukowiak",
      "userId": "12340107642472090190"
     },
     "user_tz": 420
    },
    "id": "B6k2r1BAvkey",
    "outputId": "64cfbea0-2c44-45b0-f466-8288202973fc"
   },
   "outputs": [
    {
     "data": {
      "application/vnd.jupyter.widget-view+json": {
       "model_id": "4ade0befe1414888872b802b0b412f12",
       "version_major": 2,
       "version_minor": 0
      },
      "text/plain": [
       "  0%|          | 0/2 [00:00<?, ?it/s]"
      ]
     },
     "metadata": {},
     "output_type": "display_data"
    },
    {
     "data": {
      "application/vnd.jupyter.widget-view+json": {
       "model_id": "ae275a12f76f49618109aa907a97bf86",
       "version_major": 2,
       "version_minor": 0
      },
      "text/plain": [
       "  0%|          | 0/258 [00:00<?, ?it/s]"
      ]
     },
     "metadata": {},
     "output_type": "display_data"
    },
    {
     "data": {
      "application/vnd.jupyter.widget-view+json": {
       "model_id": "136cf519fd8248bf848e51018bc8d767",
       "version_major": 2,
       "version_minor": 0
      },
      "text/plain": [
       "  0%|          | 0/258 [00:00<?, ?it/s]"
      ]
     },
     "metadata": {},
     "output_type": "display_data"
    },
    {
     "name": "stdout",
     "output_type": "stream",
     "text": [
      "Open URL in browser: https://ui.perfetto.dev/#!/?url=http://127.0.0.1:9001/perfetto_trace.json.gz\n"
     ]
    },
    {
     "ename": "KeyboardInterrupt",
     "evalue": "",
     "output_type": "error",
     "traceback": [
      "\u001b[0;31m---------------------------------------------------------------------------\u001b[0m",
      "\u001b[0;31mKeyboardInterrupt\u001b[0m                         Traceback (most recent call last)",
      "\u001b[0;32m<ipython-input-28-74249e78eda1>\u001b[0m in \u001b[0;36m<cell line: 128>\u001b[0;34m()\u001b[0m\n\u001b[1;32m    126\u001b[0m         \u001b[0;31m# print(f\"epoch: {j}, batch: {i}, {loss}\")\u001b[0m\u001b[0;34m\u001b[0m\u001b[0;34m\u001b[0m\u001b[0m\n\u001b[1;32m    127\u001b[0m \u001b[0;34m\u001b[0m\u001b[0m\n\u001b[0;32m--> 128\u001b[0;31m \u001b[0mprofiler\u001b[0m\u001b[0;34m.\u001b[0m\u001b[0mstop_trace\u001b[0m\u001b[0;34m(\u001b[0m\u001b[0;34m)\u001b[0m\u001b[0;34m\u001b[0m\u001b[0;34m\u001b[0m\u001b[0m\n\u001b[0m",
      "\u001b[0;32m/usr/local/lib/python3.10/dist-packages/jax/_src/profiler.py\u001b[0m in \u001b[0;36mstop_trace\u001b[0;34m()\u001b[0m\n\u001b[1;32m    208\u001b[0m       \u001b[0mabs_filename\u001b[0m \u001b[0;34m=\u001b[0m \u001b[0m_write_perfetto_trace_file\u001b[0m\u001b[0;34m(\u001b[0m\u001b[0m_profile_state\u001b[0m\u001b[0;34m.\u001b[0m\u001b[0mlog_dir\u001b[0m\u001b[0;34m)\u001b[0m\u001b[0;34m\u001b[0m\u001b[0;34m\u001b[0m\u001b[0m\n\u001b[1;32m    209\u001b[0m       \u001b[0;32mif\u001b[0m \u001b[0m_profile_state\u001b[0m\u001b[0;34m.\u001b[0m\u001b[0mcreate_perfetto_link\u001b[0m\u001b[0;34m:\u001b[0m\u001b[0;34m\u001b[0m\u001b[0;34m\u001b[0m\u001b[0m\n\u001b[0;32m--> 210\u001b[0;31m         \u001b[0m_host_perfetto_trace_file\u001b[0m\u001b[0;34m(\u001b[0m\u001b[0mabs_filename\u001b[0m\u001b[0;34m)\u001b[0m\u001b[0;34m\u001b[0m\u001b[0;34m\u001b[0m\u001b[0m\n\u001b[0m\u001b[1;32m    211\u001b[0m     \u001b[0m_profile_state\u001b[0m\u001b[0;34m.\u001b[0m\u001b[0mreset\u001b[0m\u001b[0;34m(\u001b[0m\u001b[0;34m)\u001b[0m\u001b[0;34m\u001b[0m\u001b[0;34m\u001b[0m\u001b[0m\n\u001b[1;32m    212\u001b[0m \u001b[0;34m\u001b[0m\u001b[0m\n",
      "\u001b[0;32m/usr/local/lib/python3.10/dist-packages/jax/_src/profiler.py\u001b[0m in \u001b[0;36m_host_perfetto_trace_file\u001b[0;34m(path)\u001b[0m\n\u001b[1;32m    190\u001b[0m       \u001b[0;31m# it down.\u001b[0m\u001b[0;34m\u001b[0m\u001b[0;34m\u001b[0m\u001b[0m\n\u001b[1;32m    191\u001b[0m       \u001b[0;32mwhile\u001b[0m \u001b[0mhttpd\u001b[0m\u001b[0;34m.\u001b[0m\u001b[0m__dict__\u001b[0m\u001b[0;34m.\u001b[0m\u001b[0mget\u001b[0m\u001b[0;34m(\u001b[0m\u001b[0;34m'last_request'\u001b[0m\u001b[0;34m)\u001b[0m \u001b[0;34m!=\u001b[0m \u001b[0;34m'/'\u001b[0m \u001b[0;34m+\u001b[0m \u001b[0mfilename\u001b[0m\u001b[0;34m:\u001b[0m\u001b[0;34m\u001b[0m\u001b[0;34m\u001b[0m\u001b[0m\n\u001b[0;32m--> 192\u001b[0;31m         \u001b[0mhttpd\u001b[0m\u001b[0;34m.\u001b[0m\u001b[0mhandle_request\u001b[0m\u001b[0;34m(\u001b[0m\u001b[0;34m)\u001b[0m\u001b[0;34m\u001b[0m\u001b[0;34m\u001b[0m\u001b[0m\n\u001b[0m\u001b[1;32m    193\u001b[0m   \u001b[0;32mfinally\u001b[0m\u001b[0;34m:\u001b[0m\u001b[0;34m\u001b[0m\u001b[0;34m\u001b[0m\u001b[0m\n\u001b[1;32m    194\u001b[0m     \u001b[0mos\u001b[0m\u001b[0;34m.\u001b[0m\u001b[0mchdir\u001b[0m\u001b[0;34m(\u001b[0m\u001b[0morig_directory\u001b[0m\u001b[0;34m)\u001b[0m\u001b[0;34m\u001b[0m\u001b[0;34m\u001b[0m\u001b[0m\n",
      "\u001b[0;32m/usr/lib/python3.10/socketserver.py\u001b[0m in \u001b[0;36mhandle_request\u001b[0;34m(self)\u001b[0m\n\u001b[1;32m    292\u001b[0m \u001b[0;34m\u001b[0m\u001b[0m\n\u001b[1;32m    293\u001b[0m             \u001b[0;32mwhile\u001b[0m \u001b[0;32mTrue\u001b[0m\u001b[0;34m:\u001b[0m\u001b[0;34m\u001b[0m\u001b[0;34m\u001b[0m\u001b[0m\n\u001b[0;32m--> 294\u001b[0;31m                 \u001b[0mready\u001b[0m \u001b[0;34m=\u001b[0m \u001b[0mselector\u001b[0m\u001b[0;34m.\u001b[0m\u001b[0mselect\u001b[0m\u001b[0;34m(\u001b[0m\u001b[0mtimeout\u001b[0m\u001b[0;34m)\u001b[0m\u001b[0;34m\u001b[0m\u001b[0;34m\u001b[0m\u001b[0m\n\u001b[0m\u001b[1;32m    295\u001b[0m                 \u001b[0;32mif\u001b[0m \u001b[0mready\u001b[0m\u001b[0;34m:\u001b[0m\u001b[0;34m\u001b[0m\u001b[0;34m\u001b[0m\u001b[0m\n\u001b[1;32m    296\u001b[0m                     \u001b[0;32mreturn\u001b[0m \u001b[0mself\u001b[0m\u001b[0;34m.\u001b[0m\u001b[0m_handle_request_noblock\u001b[0m\u001b[0;34m(\u001b[0m\u001b[0;34m)\u001b[0m\u001b[0;34m\u001b[0m\u001b[0;34m\u001b[0m\u001b[0m\n",
      "\u001b[0;32m/usr/lib/python3.10/selectors.py\u001b[0m in \u001b[0;36mselect\u001b[0;34m(self, timeout)\u001b[0m\n\u001b[1;32m    414\u001b[0m         \u001b[0mready\u001b[0m \u001b[0;34m=\u001b[0m \u001b[0;34m[\u001b[0m\u001b[0;34m]\u001b[0m\u001b[0;34m\u001b[0m\u001b[0;34m\u001b[0m\u001b[0m\n\u001b[1;32m    415\u001b[0m         \u001b[0;32mtry\u001b[0m\u001b[0;34m:\u001b[0m\u001b[0;34m\u001b[0m\u001b[0;34m\u001b[0m\u001b[0m\n\u001b[0;32m--> 416\u001b[0;31m             \u001b[0mfd_event_list\u001b[0m \u001b[0;34m=\u001b[0m \u001b[0mself\u001b[0m\u001b[0;34m.\u001b[0m\u001b[0m_selector\u001b[0m\u001b[0;34m.\u001b[0m\u001b[0mpoll\u001b[0m\u001b[0;34m(\u001b[0m\u001b[0mtimeout\u001b[0m\u001b[0;34m)\u001b[0m\u001b[0;34m\u001b[0m\u001b[0;34m\u001b[0m\u001b[0m\n\u001b[0m\u001b[1;32m    417\u001b[0m         \u001b[0;32mexcept\u001b[0m \u001b[0mInterruptedError\u001b[0m\u001b[0;34m:\u001b[0m\u001b[0;34m\u001b[0m\u001b[0;34m\u001b[0m\u001b[0m\n\u001b[1;32m    418\u001b[0m             \u001b[0;32mreturn\u001b[0m \u001b[0mready\u001b[0m\u001b[0;34m\u001b[0m\u001b[0;34m\u001b[0m\u001b[0m\n",
      "\u001b[0;31mKeyboardInterrupt\u001b[0m: "
     ]
    }
   ],
   "source": [
    "profiler.start_trace(\n",
    "    \"/content/drive/MyDrive/Colab Notebooks/Hephaestus/runs\", create_perfetto_link=True\n",
    ")\n",
    "\n",
    "\n",
    "def replace_nans(grads, replace_value=0):\n",
    "    \"\"\"Replace NaN values in gradients with a specified value.\"\"\"\n",
    "    return jax.tree_map(lambda g: jnp.where(jnp.isnan(g), replace_value, g), grads)\n",
    "\n",
    "\n",
    "def clip_gradients(gradients, max_norm):\n",
    "    total_norm = jnp.sqrt(sum(jnp.sum(jnp.square(grad)) for grad in gradients.values()))\n",
    "    scale = max_norm / (total_norm + 1e-6)\n",
    "    clipped_gradients = jax.tree_map(\n",
    "        lambda grad: jnp.where(total_norm > max_norm, grad * scale, grad), gradients\n",
    "    )\n",
    "    return clipped_gradients\n",
    "\n",
    "\n",
    "def calculate_loss(\n",
    "    params,\n",
    "    state,\n",
    "    categorical_mask,\n",
    "    numeric_mask,\n",
    "    categorical_labs,\n",
    "    numeric_labs,\n",
    "    target_labs,\n",
    "    dataset,\n",
    "):\n",
    "    numeric_loss_scale = 1.0\n",
    "    target_loss_scale = 2.0\n",
    "    category_out, numeric_out, target_out = state.apply_fn(\n",
    "        {\"params\": params},\n",
    "        categorical_mask,\n",
    "        numeric_mask,\n",
    "    )\n",
    "    numeric_col_tokens = dataset.numeric_col_tokens.clone()\n",
    "    numeric_col_tokens = numeric_col_tokens[None, None, :]\n",
    "    repeated_numeric_col_tokens = jnp.tile(\n",
    "        numeric_col_tokens, (category_out.shape[0], category_out.shape[1], 1)\n",
    "    )\n",
    "    # repeated_numeric_col_tokens = jnp.tile(\n",
    "    #     numeric_col_tokens, (inputs.categorical.shape[0], 1)\n",
    "    # )\n",
    "    # ic(repeated_numeric_col_tokens.shape, categorical.shape, category_out.shape)\n",
    "    categorical_targets = jnp.concatenate(\n",
    "        [\n",
    "            categorical_labs,\n",
    "            repeated_numeric_col_tokens,\n",
    "        ],\n",
    "        axis=-1,\n",
    "    )\n",
    "    # ic(categorical_targets.shape)\n",
    "    categorical_loss = optax.softmax_cross_entropy_with_integer_labels(\n",
    "        category_out, categorical_targets\n",
    "    ).mean()\n",
    "\n",
    "    target_loss = optax.squared_error(target_out, target_labs).mean()\n",
    "    numeric_loss = optax.squared_error(numeric_out, numeric_labs).mean()\n",
    "    total_loss = (\n",
    "        categorical_loss\n",
    "        + numeric_loss * numeric_loss_scale\n",
    "        + target_loss * target_loss_scale\n",
    "    )\n",
    "    return total_loss\n",
    "\n",
    "\n",
    "@jax.jit\n",
    "def train_step(\n",
    "    state: train_state.TrainState,\n",
    "    categorical_mask,\n",
    "    numeric_mask,\n",
    "    categorical_labs,\n",
    "    target_labs,\n",
    "    numeric_labs,\n",
    "):\n",
    "    # ic(\"here1\")\n",
    "\n",
    "    def loss_fn(params):\n",
    "        return calculate_loss(\n",
    "            params,\n",
    "            state,\n",
    "            categorical_mask=categorical_mask,\n",
    "            numeric_mask=numeric_mask,\n",
    "            categorical_labs=categorical_labs,\n",
    "            numeric_labs=numeric_labs,\n",
    "            target_labs=target_labs,\n",
    "            dataset=pre_train,\n",
    "        )\n",
    "\n",
    "    grad_fn = jax.value_and_grad(loss_fn)\n",
    "\n",
    "    total_loss, multi_loss, grad = grad_fn(state.params)\n",
    "    grad = replace_nans(grad)\n",
    "    # grad = clip_gradients(grad, 1.0)\n",
    "    state = state.apply_gradients(grads=grad)\n",
    "\n",
    "    return state, total_loss, multi_loss\n",
    "\n",
    "\n",
    "def create_train_state(model, prng, batch, lr):\n",
    "    params = model.init(prng, batch.categorical, batch.numeric)\n",
    "    optimizer = optax.chain(optax.clip_by_global_norm(0.4), optax.adam(lr))\n",
    "    # optimizer_state = optimizer.init(params)\n",
    "    return train_state.TrainState.create(\n",
    "        apply_fn=model.apply,\n",
    "        params=params[\"params\"],\n",
    "        tx=optimizer,\n",
    "        # tx_state=optimizer_state,\n",
    "    )\n",
    "\n",
    "\n",
    "batch_size = 2\n",
    "batch = make_batch(pre_train, 0, batch_size)\n",
    "\n",
    "state = create_train_state(time_series_regressor, mts_main_key, batch, 0.0001)\n",
    "\n",
    "summary_writer = SummaryWriter(\n",
    "    \"runs/\" + dt.now().strftime(\"%Y-%m-%dT%H:%M:%S\") + \"_\" + \"better_batch\"\n",
    ")\n",
    "batch_count = 0\n",
    "for j in trange(2):\n",
    "    for i in trange(len(pre_train) // batch_size, leave=False):\n",
    "        batch = make_batch(pre_train, i * batch_size, batch_size)\n",
    "        categorical_mask = hp.mask_tensor(\n",
    "            batch.categorical, pre_train, prng_key=ts_data_key\n",
    "        )\n",
    "        numeric_mask = hp.mask_tensor(batch.numeric, pre_train, prng_key=ts_data_key)\n",
    "\n",
    "        state, loss, multi_loss = train_step(\n",
    "            state, categorical_mask, numeric_mask, batch.categorical, batch.numeric\n",
    "        )\n",
    "        summary_writer.add_scalar(\"loss\", np.array(loss.item()), batch_count)\n",
    "        batch_count += 1\n",
    "        # print(f\"epoch: {j}, batch: {i}, {loss}\")\n",
    "\n",
    "profiler.stop_trace()"
   ]
  },
  {
   "cell_type": "code",
   "execution_count": null,
   "metadata": {
    "executionInfo": {
     "elapsed": 9,
     "status": "aborted",
     "timestamp": 1708439428919,
     "user": {
      "displayName": "Kai Lukowiak",
      "userId": "12340107642472090190"
     },
     "user_tz": 420
    },
    "id": "Mz8n8Xutl27h"
   },
   "outputs": [],
   "source": [
    "model_name = f\"new_data_{dt.now()}_\"\n",
    "\n",
    "current_dir = os.getcwd()\n",
    "\n",
    "if not os.path.exists(f\"./pre_trained_models/\"):\n",
    "    os.makedirs(f\"./pre_trained_models/\")\n",
    "\n",
    "path = os.path.join(current_dir, f\"./pre_trained_models/\")\n",
    "\n",
    "\n",
    "ckpt_dir = f\"./pre_trained_models/{model_name}\"\n",
    "\n",
    "checkpoints.save_checkpoint(\n",
    "    ckpt_dir=path, target=state, step=batch_count, overwrite=True, prefix=model_name\n",
    ")"
   ]
  },
  {
   "cell_type": "code",
   "execution_count": null,
   "metadata": {
    "executionInfo": {
     "elapsed": 9,
     "status": "aborted",
     "timestamp": 1708439428920,
     "user": {
      "displayName": "Kai Lukowiak",
      "userId": "12340107642472090190"
     },
     "user_tz": 420
    },
    "id": "FnvMS9cmobHu"
   },
   "outputs": [],
   "source": [
    "state2 = checkpoints.restore_checkpoint(path, target=state)"
   ]
  },
  {
   "cell_type": "code",
   "execution_count": null,
   "metadata": {
    "executionInfo": {
     "elapsed": 9,
     "status": "aborted",
     "timestamp": 1708439428920,
     "user": {
      "displayName": "Kai Lukowiak",
      "userId": "12340107642472090190"
     },
     "user_tz": 420
    },
    "id": "zWhAaDUeoeyK"
   },
   "outputs": [],
   "source": [
    "state2"
   ]
  },
  {
   "cell_type": "code",
   "execution_count": null,
   "metadata": {
    "executionInfo": {
     "elapsed": 9,
     "status": "aborted",
     "timestamp": 1708439428920,
     "user": {
      "displayName": "Kai Lukowiak",
      "userId": "12340107642472090190"
     },
     "user_tz": 420
    },
    "id": "PpjBeE9AdhD4"
   },
   "outputs": [],
   "source": [
    "len(pre_train), len(pre_train) // batch_size"
   ]
  },
  {
   "cell_type": "code",
   "execution_count": null,
   "metadata": {
    "executionInfo": {
     "elapsed": 9,
     "status": "aborted",
     "timestamp": 1708439428920,
     "user": {
      "displayName": "Kai Lukowiak",
      "userId": "12340107642472090190"
     },
     "user_tz": 420
    },
    "id": "6XIh3n_LeJaf"
   },
   "outputs": [],
   "source": [
    "data.shape[0] // 3120"
   ]
  },
  {
   "cell_type": "code",
   "execution_count": null,
   "metadata": {
    "executionInfo": {
     "elapsed": 9,
     "status": "aborted",
     "timestamp": 1708439428920,
     "user": {
      "displayName": "Kai Lukowiak",
      "userId": "12340107642472090190"
     },
     "user_tz": 420
    },
    "id": "h5BfEjZzRLmA"
   },
   "outputs": [],
   "source": [
    "profiler.stop_trace()"
   ]
  },
  {
   "cell_type": "code",
   "execution_count": null,
   "metadata": {
    "executionInfo": {
     "elapsed": 9,
     "status": "aborted",
     "timestamp": 1708439428920,
     "user": {
      "displayName": "Kai Lukowiak",
      "userId": "12340107642472090190"
     },
     "user_tz": 420
    },
    "id": "ttC1AtV6YX8M"
   },
   "outputs": [],
   "source": [
    "len(pre_train)"
   ]
  },
  {
   "cell_type": "code",
   "execution_count": null,
   "metadata": {
    "executionInfo": {
     "elapsed": 9,
     "status": "aborted",
     "timestamp": 1708439428920,
     "user": {
      "displayName": "Kai Lukowiak",
      "userId": "12340107642472090190"
     },
     "user_tz": 420
    },
    "id": "vz702qVy_AKz"
   },
   "outputs": [],
   "source": [
    "def jax_array_memory_usage(array):\n",
    "    \"\"\"Calculate the memory usage of a JAX array in bytes.\"\"\"\n",
    "    # Get the number of bytes per element based on the data type\n",
    "    bytes_per_element = array.dtype.itemsize\n",
    "    # Calculate the total number of elements in the array\n",
    "    total_elements = np.prod(array.shape)\n",
    "    # Calculate total memory usage\n",
    "    memory_usage_bytes = bytes_per_element * total_elements\n",
    "    return memory_usage_bytes\n",
    "\n",
    "\n",
    "cat_memory_usage = jax_array_memory_usage(batch.categorical)\n",
    "num_memory_usage = jax_array_memory_usage(batch.numeric)\n",
    "memory_usage = cat_memory_usage + num_memory_usage\n",
    "memory_usage_gb = memory_usage / 1024 / 1024 / 1024\n",
    "print(f\"Memory usage: {memory_usage} bytes\")\n",
    "print(f\"Memory usage: {memory_usage_gb} gb\")"
   ]
  },
  {
   "cell_type": "code",
   "execution_count": null,
   "metadata": {
    "executionInfo": {
     "elapsed": 8,
     "status": "aborted",
     "timestamp": 1708439428920,
     "user": {
      "displayName": "Kai Lukowiak",
      "userId": "12340107642472090190"
     },
     "user_tz": 420
    },
    "id": "PqggBIY09fd1"
   },
   "outputs": [],
   "source": []
  }
 ],
 "metadata": {
  "accelerator": "GPU",
  "colab": {
   "gpuType": "V100",
   "machine_shape": "hm",
   "provenance": []
  },
  "kernelspec": {
   "display_name": "Python 3",
   "name": "python3"
  },
  "language_info": {
   "name": "python"
  },
  "widgets": {
   "application/vnd.jupyter.widget-state+json": {
    "05cfff6cbbc9423bad1e930feae51330": {
     "model_module": "@jupyter-widgets/base",
     "model_module_version": "1.2.0",
     "model_name": "LayoutModel",
     "state": {
      "_model_module": "@jupyter-widgets/base",
      "_model_module_version": "1.2.0",
      "_model_name": "LayoutModel",
      "_view_count": null,
      "_view_module": "@jupyter-widgets/base",
      "_view_module_version": "1.2.0",
      "_view_name": "LayoutView",
      "align_content": null,
      "align_items": null,
      "align_self": null,
      "border": null,
      "bottom": null,
      "display": null,
      "flex": null,
      "flex_flow": null,
      "grid_area": null,
      "grid_auto_columns": null,
      "grid_auto_flow": null,
      "grid_auto_rows": null,
      "grid_column": null,
      "grid_gap": null,
      "grid_row": null,
      "grid_template_areas": null,
      "grid_template_columns": null,
      "grid_template_rows": null,
      "height": null,
      "justify_content": null,
      "justify_items": null,
      "left": null,
      "margin": null,
      "max_height": null,
      "max_width": null,
      "min_height": null,
      "min_width": null,
      "object_fit": null,
      "object_position": null,
      "order": null,
      "overflow": null,
      "overflow_x": null,
      "overflow_y": null,
      "padding": null,
      "right": null,
      "top": null,
      "visibility": null,
      "width": null
     }
    },
    "0aca64aa4d5b46f4ab9babb29d429557": {
     "model_module": "@jupyter-widgets/controls",
     "model_module_version": "1.5.0",
     "model_name": "HTMLModel",
     "state": {
      "_dom_classes": [],
      "_model_module": "@jupyter-widgets/controls",
      "_model_module_version": "1.5.0",
      "_model_name": "HTMLModel",
      "_view_count": null,
      "_view_module": "@jupyter-widgets/controls",
      "_view_module_version": "1.5.0",
      "_view_name": "HTMLView",
      "description": "",
      "description_tooltip": null,
      "layout": "IPY_MODEL_5d31874c85ea406a8e96915f1081716f",
      "placeholder": "​",
      "style": "IPY_MODEL_d9f7a068e4224dde985a6bc1d63bef72",
      "value": "100%"
     }
    },
    "136cf519fd8248bf848e51018bc8d767": {
     "model_module": "@jupyter-widgets/controls",
     "model_module_version": "1.5.0",
     "model_name": "HBoxModel",
     "state": {
      "_dom_classes": [],
      "_model_module": "@jupyter-widgets/controls",
      "_model_module_version": "1.5.0",
      "_model_name": "HBoxModel",
      "_view_count": null,
      "_view_module": "@jupyter-widgets/controls",
      "_view_module_version": "1.5.0",
      "_view_name": "HBoxView",
      "box_style": "",
      "children": [
       "IPY_MODEL_0aca64aa4d5b46f4ab9babb29d429557",
       "IPY_MODEL_4ffa47e9415441eb9e02cfcef64c671e",
       "IPY_MODEL_4bb359cc0fe14af980f26ec1def59b18"
      ],
      "layout": "IPY_MODEL_76692dc9b6eb485989faf08c62a308e7"
     }
    },
    "1fc52eb93cd34e3cb89f117e1791a489": {
     "model_module": "@jupyter-widgets/controls",
     "model_module_version": "1.5.0",
     "model_name": "HTMLModel",
     "state": {
      "_dom_classes": [],
      "_model_module": "@jupyter-widgets/controls",
      "_model_module_version": "1.5.0",
      "_model_name": "HTMLModel",
      "_view_count": null,
      "_view_module": "@jupyter-widgets/controls",
      "_view_module_version": "1.5.0",
      "_view_name": "HTMLView",
      "description": "",
      "description_tooltip": null,
      "layout": "IPY_MODEL_2f7de23cd57e41c18a1806523f7fe137",
      "placeholder": "​",
      "style": "IPY_MODEL_9afd53e8b6984b11a48eff81a0df5925",
      "value": "100%"
     }
    },
    "22ede869772d45c2bbcab7848e95deb3": {
     "model_module": "@jupyter-widgets/base",
     "model_module_version": "1.2.0",
     "model_name": "LayoutModel",
     "state": {
      "_model_module": "@jupyter-widgets/base",
      "_model_module_version": "1.2.0",
      "_model_name": "LayoutModel",
      "_view_count": null,
      "_view_module": "@jupyter-widgets/base",
      "_view_module_version": "1.2.0",
      "_view_name": "LayoutView",
      "align_content": null,
      "align_items": null,
      "align_self": null,
      "border": null,
      "bottom": null,
      "display": null,
      "flex": null,
      "flex_flow": null,
      "grid_area": null,
      "grid_auto_columns": null,
      "grid_auto_flow": null,
      "grid_auto_rows": null,
      "grid_column": null,
      "grid_gap": null,
      "grid_row": null,
      "grid_template_areas": null,
      "grid_template_columns": null,
      "grid_template_rows": null,
      "height": null,
      "justify_content": null,
      "justify_items": null,
      "left": null,
      "margin": null,
      "max_height": null,
      "max_width": null,
      "min_height": null,
      "min_width": null,
      "object_fit": null,
      "object_position": null,
      "order": null,
      "overflow": null,
      "overflow_x": null,
      "overflow_y": null,
      "padding": null,
      "right": null,
      "top": null,
      "visibility": null,
      "width": null
     }
    },
    "2f7de23cd57e41c18a1806523f7fe137": {
     "model_module": "@jupyter-widgets/base",
     "model_module_version": "1.2.0",
     "model_name": "LayoutModel",
     "state": {
      "_model_module": "@jupyter-widgets/base",
      "_model_module_version": "1.2.0",
      "_model_name": "LayoutModel",
      "_view_count": null,
      "_view_module": "@jupyter-widgets/base",
      "_view_module_version": "1.2.0",
      "_view_name": "LayoutView",
      "align_content": null,
      "align_items": null,
      "align_self": null,
      "border": null,
      "bottom": null,
      "display": null,
      "flex": null,
      "flex_flow": null,
      "grid_area": null,
      "grid_auto_columns": null,
      "grid_auto_flow": null,
      "grid_auto_rows": null,
      "grid_column": null,
      "grid_gap": null,
      "grid_row": null,
      "grid_template_areas": null,
      "grid_template_columns": null,
      "grid_template_rows": null,
      "height": null,
      "justify_content": null,
      "justify_items": null,
      "left": null,
      "margin": null,
      "max_height": null,
      "max_width": null,
      "min_height": null,
      "min_width": null,
      "object_fit": null,
      "object_position": null,
      "order": null,
      "overflow": null,
      "overflow_x": null,
      "overflow_y": null,
      "padding": null,
      "right": null,
      "top": null,
      "visibility": null,
      "width": null
     }
    },
    "42f28969d6024d8abf8301eed9923c54": {
     "model_module": "@jupyter-widgets/controls",
     "model_module_version": "1.5.0",
     "model_name": "FloatProgressModel",
     "state": {
      "_dom_classes": [],
      "_model_module": "@jupyter-widgets/controls",
      "_model_module_version": "1.5.0",
      "_model_name": "FloatProgressModel",
      "_view_count": null,
      "_view_module": "@jupyter-widgets/controls",
      "_view_module_version": "1.5.0",
      "_view_name": "ProgressView",
      "bar_style": "success",
      "description": "",
      "description_tooltip": null,
      "layout": "IPY_MODEL_fd442706a66b4a32aaa2953c7e6f46b9",
      "max": 2,
      "min": 0,
      "orientation": "horizontal",
      "style": "IPY_MODEL_9a4179724c114d658c760a7fcc7ec7fb",
      "value": 2
     }
    },
    "45c99333f457481bb95053b363523f70": {
     "model_module": "@jupyter-widgets/controls",
     "model_module_version": "1.5.0",
     "model_name": "DescriptionStyleModel",
     "state": {
      "_model_module": "@jupyter-widgets/controls",
      "_model_module_version": "1.5.0",
      "_model_name": "DescriptionStyleModel",
      "_view_count": null,
      "_view_module": "@jupyter-widgets/base",
      "_view_module_version": "1.2.0",
      "_view_name": "StyleView",
      "description_width": ""
     }
    },
    "49315e21ae3942789b8df74e953c6eaa": {
     "model_module": "@jupyter-widgets/base",
     "model_module_version": "1.2.0",
     "model_name": "LayoutModel",
     "state": {
      "_model_module": "@jupyter-widgets/base",
      "_model_module_version": "1.2.0",
      "_model_name": "LayoutModel",
      "_view_count": null,
      "_view_module": "@jupyter-widgets/base",
      "_view_module_version": "1.2.0",
      "_view_name": "LayoutView",
      "align_content": null,
      "align_items": null,
      "align_self": null,
      "border": null,
      "bottom": null,
      "display": null,
      "flex": null,
      "flex_flow": null,
      "grid_area": null,
      "grid_auto_columns": null,
      "grid_auto_flow": null,
      "grid_auto_rows": null,
      "grid_column": null,
      "grid_gap": null,
      "grid_row": null,
      "grid_template_areas": null,
      "grid_template_columns": null,
      "grid_template_rows": null,
      "height": null,
      "justify_content": null,
      "justify_items": null,
      "left": null,
      "margin": null,
      "max_height": null,
      "max_width": null,
      "min_height": null,
      "min_width": null,
      "object_fit": null,
      "object_position": null,
      "order": null,
      "overflow": null,
      "overflow_x": null,
      "overflow_y": null,
      "padding": null,
      "right": null,
      "top": null,
      "visibility": null,
      "width": null
     }
    },
    "4ade0befe1414888872b802b0b412f12": {
     "model_module": "@jupyter-widgets/controls",
     "model_module_version": "1.5.0",
     "model_name": "HBoxModel",
     "state": {
      "_dom_classes": [],
      "_model_module": "@jupyter-widgets/controls",
      "_model_module_version": "1.5.0",
      "_model_name": "HBoxModel",
      "_view_count": null,
      "_view_module": "@jupyter-widgets/controls",
      "_view_module_version": "1.5.0",
      "_view_name": "HBoxView",
      "box_style": "",
      "children": [
       "IPY_MODEL_1fc52eb93cd34e3cb89f117e1791a489",
       "IPY_MODEL_42f28969d6024d8abf8301eed9923c54",
       "IPY_MODEL_9f8109e53d5c41ad9a1692595675d389"
      ],
      "layout": "IPY_MODEL_5f8ef9c93593421da5f1f70a8bc5ade0"
     }
    },
    "4bb359cc0fe14af980f26ec1def59b18": {
     "model_module": "@jupyter-widgets/controls",
     "model_module_version": "1.5.0",
     "model_name": "HTMLModel",
     "state": {
      "_dom_classes": [],
      "_model_module": "@jupyter-widgets/controls",
      "_model_module_version": "1.5.0",
      "_model_name": "HTMLModel",
      "_view_count": null,
      "_view_module": "@jupyter-widgets/controls",
      "_view_module_version": "1.5.0",
      "_view_name": "HTMLView",
      "description": "",
      "description_tooltip": null,
      "layout": "IPY_MODEL_05cfff6cbbc9423bad1e930feae51330",
      "placeholder": "​",
      "style": "IPY_MODEL_ee69db15664e4ffbb5f03eb18a441b4d",
      "value": " 258/258 [02:30&lt;00:00,  1.72it/s]"
     }
    },
    "4ffa47e9415441eb9e02cfcef64c671e": {
     "model_module": "@jupyter-widgets/controls",
     "model_module_version": "1.5.0",
     "model_name": "FloatProgressModel",
     "state": {
      "_dom_classes": [],
      "_model_module": "@jupyter-widgets/controls",
      "_model_module_version": "1.5.0",
      "_model_name": "FloatProgressModel",
      "_view_count": null,
      "_view_module": "@jupyter-widgets/controls",
      "_view_module_version": "1.5.0",
      "_view_name": "ProgressView",
      "bar_style": "",
      "description": "",
      "description_tooltip": null,
      "layout": "IPY_MODEL_49315e21ae3942789b8df74e953c6eaa",
      "max": 258,
      "min": 0,
      "orientation": "horizontal",
      "style": "IPY_MODEL_afec92ebe95f41a6af8e69b817a0771a",
      "value": 258
     }
    },
    "5d31874c85ea406a8e96915f1081716f": {
     "model_module": "@jupyter-widgets/base",
     "model_module_version": "1.2.0",
     "model_name": "LayoutModel",
     "state": {
      "_model_module": "@jupyter-widgets/base",
      "_model_module_version": "1.2.0",
      "_model_name": "LayoutModel",
      "_view_count": null,
      "_view_module": "@jupyter-widgets/base",
      "_view_module_version": "1.2.0",
      "_view_name": "LayoutView",
      "align_content": null,
      "align_items": null,
      "align_self": null,
      "border": null,
      "bottom": null,
      "display": null,
      "flex": null,
      "flex_flow": null,
      "grid_area": null,
      "grid_auto_columns": null,
      "grid_auto_flow": null,
      "grid_auto_rows": null,
      "grid_column": null,
      "grid_gap": null,
      "grid_row": null,
      "grid_template_areas": null,
      "grid_template_columns": null,
      "grid_template_rows": null,
      "height": null,
      "justify_content": null,
      "justify_items": null,
      "left": null,
      "margin": null,
      "max_height": null,
      "max_width": null,
      "min_height": null,
      "min_width": null,
      "object_fit": null,
      "object_position": null,
      "order": null,
      "overflow": null,
      "overflow_x": null,
      "overflow_y": null,
      "padding": null,
      "right": null,
      "top": null,
      "visibility": null,
      "width": null
     }
    },
    "5f8ef9c93593421da5f1f70a8bc5ade0": {
     "model_module": "@jupyter-widgets/base",
     "model_module_version": "1.2.0",
     "model_name": "LayoutModel",
     "state": {
      "_model_module": "@jupyter-widgets/base",
      "_model_module_version": "1.2.0",
      "_model_name": "LayoutModel",
      "_view_count": null,
      "_view_module": "@jupyter-widgets/base",
      "_view_module_version": "1.2.0",
      "_view_name": "LayoutView",
      "align_content": null,
      "align_items": null,
      "align_self": null,
      "border": null,
      "bottom": null,
      "display": null,
      "flex": null,
      "flex_flow": null,
      "grid_area": null,
      "grid_auto_columns": null,
      "grid_auto_flow": null,
      "grid_auto_rows": null,
      "grid_column": null,
      "grid_gap": null,
      "grid_row": null,
      "grid_template_areas": null,
      "grid_template_columns": null,
      "grid_template_rows": null,
      "height": null,
      "justify_content": null,
      "justify_items": null,
      "left": null,
      "margin": null,
      "max_height": null,
      "max_width": null,
      "min_height": null,
      "min_width": null,
      "object_fit": null,
      "object_position": null,
      "order": null,
      "overflow": null,
      "overflow_x": null,
      "overflow_y": null,
      "padding": null,
      "right": null,
      "top": null,
      "visibility": null,
      "width": null
     }
    },
    "6c45029a3b734d9282af4e23fd4ba909": {
     "model_module": "@jupyter-widgets/controls",
     "model_module_version": "1.5.0",
     "model_name": "DescriptionStyleModel",
     "state": {
      "_model_module": "@jupyter-widgets/controls",
      "_model_module_version": "1.5.0",
      "_model_name": "DescriptionStyleModel",
      "_view_count": null,
      "_view_module": "@jupyter-widgets/base",
      "_view_module_version": "1.2.0",
      "_view_name": "StyleView",
      "description_width": ""
     }
    },
    "76692dc9b6eb485989faf08c62a308e7": {
     "model_module": "@jupyter-widgets/base",
     "model_module_version": "1.2.0",
     "model_name": "LayoutModel",
     "state": {
      "_model_module": "@jupyter-widgets/base",
      "_model_module_version": "1.2.0",
      "_model_name": "LayoutModel",
      "_view_count": null,
      "_view_module": "@jupyter-widgets/base",
      "_view_module_version": "1.2.0",
      "_view_name": "LayoutView",
      "align_content": null,
      "align_items": null,
      "align_self": null,
      "border": null,
      "bottom": null,
      "display": null,
      "flex": null,
      "flex_flow": null,
      "grid_area": null,
      "grid_auto_columns": null,
      "grid_auto_flow": null,
      "grid_auto_rows": null,
      "grid_column": null,
      "grid_gap": null,
      "grid_row": null,
      "grid_template_areas": null,
      "grid_template_columns": null,
      "grid_template_rows": null,
      "height": null,
      "justify_content": null,
      "justify_items": null,
      "left": null,
      "margin": null,
      "max_height": null,
      "max_width": null,
      "min_height": null,
      "min_width": null,
      "object_fit": null,
      "object_position": null,
      "order": null,
      "overflow": null,
      "overflow_x": null,
      "overflow_y": null,
      "padding": null,
      "right": null,
      "top": null,
      "visibility": "hidden",
      "width": null
     }
    },
    "76cadde186484e00b1dc64bbd4643b8f": {
     "model_module": "@jupyter-widgets/controls",
     "model_module_version": "1.5.0",
     "model_name": "FloatProgressModel",
     "state": {
      "_dom_classes": [],
      "_model_module": "@jupyter-widgets/controls",
      "_model_module_version": "1.5.0",
      "_model_name": "FloatProgressModel",
      "_view_count": null,
      "_view_module": "@jupyter-widgets/controls",
      "_view_module_version": "1.5.0",
      "_view_name": "ProgressView",
      "bar_style": "",
      "description": "",
      "description_tooltip": null,
      "layout": "IPY_MODEL_e7011e18973c422695aff03e52afd533",
      "max": 258,
      "min": 0,
      "orientation": "horizontal",
      "style": "IPY_MODEL_b45b3e13611c43cf8cfcc82222c03e94",
      "value": 258
     }
    },
    "7a8185d7409e4d45b56ab956d6a71be8": {
     "model_module": "@jupyter-widgets/controls",
     "model_module_version": "1.5.0",
     "model_name": "HTMLModel",
     "state": {
      "_dom_classes": [],
      "_model_module": "@jupyter-widgets/controls",
      "_model_module_version": "1.5.0",
      "_model_name": "HTMLModel",
      "_view_count": null,
      "_view_module": "@jupyter-widgets/controls",
      "_view_module_version": "1.5.0",
      "_view_name": "HTMLView",
      "description": "",
      "description_tooltip": null,
      "layout": "IPY_MODEL_b9c62d58312f4d5783b70dd4bbec81d0",
      "placeholder": "​",
      "style": "IPY_MODEL_cc182f0174d94769931d2365066e09ae",
      "value": "100%"
     }
    },
    "85ec4d3a036b482dab12b35a47ad0da1": {
     "model_module": "@jupyter-widgets/base",
     "model_module_version": "1.2.0",
     "model_name": "LayoutModel",
     "state": {
      "_model_module": "@jupyter-widgets/base",
      "_model_module_version": "1.2.0",
      "_model_name": "LayoutModel",
      "_view_count": null,
      "_view_module": "@jupyter-widgets/base",
      "_view_module_version": "1.2.0",
      "_view_name": "LayoutView",
      "align_content": null,
      "align_items": null,
      "align_self": null,
      "border": null,
      "bottom": null,
      "display": null,
      "flex": null,
      "flex_flow": null,
      "grid_area": null,
      "grid_auto_columns": null,
      "grid_auto_flow": null,
      "grid_auto_rows": null,
      "grid_column": null,
      "grid_gap": null,
      "grid_row": null,
      "grid_template_areas": null,
      "grid_template_columns": null,
      "grid_template_rows": null,
      "height": null,
      "justify_content": null,
      "justify_items": null,
      "left": null,
      "margin": null,
      "max_height": null,
      "max_width": null,
      "min_height": null,
      "min_width": null,
      "object_fit": null,
      "object_position": null,
      "order": null,
      "overflow": null,
      "overflow_x": null,
      "overflow_y": null,
      "padding": null,
      "right": null,
      "top": null,
      "visibility": "hidden",
      "width": null
     }
    },
    "9a4179724c114d658c760a7fcc7ec7fb": {
     "model_module": "@jupyter-widgets/controls",
     "model_module_version": "1.5.0",
     "model_name": "ProgressStyleModel",
     "state": {
      "_model_module": "@jupyter-widgets/controls",
      "_model_module_version": "1.5.0",
      "_model_name": "ProgressStyleModel",
      "_view_count": null,
      "_view_module": "@jupyter-widgets/base",
      "_view_module_version": "1.2.0",
      "_view_name": "StyleView",
      "bar_color": null,
      "description_width": ""
     }
    },
    "9afd53e8b6984b11a48eff81a0df5925": {
     "model_module": "@jupyter-widgets/controls",
     "model_module_version": "1.5.0",
     "model_name": "DescriptionStyleModel",
     "state": {
      "_model_module": "@jupyter-widgets/controls",
      "_model_module_version": "1.5.0",
      "_model_name": "DescriptionStyleModel",
      "_view_count": null,
      "_view_module": "@jupyter-widgets/base",
      "_view_module_version": "1.2.0",
      "_view_name": "StyleView",
      "description_width": ""
     }
    },
    "9f8109e53d5c41ad9a1692595675d389": {
     "model_module": "@jupyter-widgets/controls",
     "model_module_version": "1.5.0",
     "model_name": "HTMLModel",
     "state": {
      "_dom_classes": [],
      "_model_module": "@jupyter-widgets/controls",
      "_model_module_version": "1.5.0",
      "_model_name": "HTMLModel",
      "_view_count": null,
      "_view_module": "@jupyter-widgets/controls",
      "_view_module_version": "1.5.0",
      "_view_name": "HTMLView",
      "description": "",
      "description_tooltip": null,
      "layout": "IPY_MODEL_22ede869772d45c2bbcab7848e95deb3",
      "placeholder": "​",
      "style": "IPY_MODEL_6c45029a3b734d9282af4e23fd4ba909",
      "value": " 2/2 [05:47&lt;00:00, 169.75s/it]"
     }
    },
    "ae275a12f76f49618109aa907a97bf86": {
     "model_module": "@jupyter-widgets/controls",
     "model_module_version": "1.5.0",
     "model_name": "HBoxModel",
     "state": {
      "_dom_classes": [],
      "_model_module": "@jupyter-widgets/controls",
      "_model_module_version": "1.5.0",
      "_model_name": "HBoxModel",
      "_view_count": null,
      "_view_module": "@jupyter-widgets/controls",
      "_view_module_version": "1.5.0",
      "_view_name": "HBoxView",
      "box_style": "",
      "children": [
       "IPY_MODEL_7a8185d7409e4d45b56ab956d6a71be8",
       "IPY_MODEL_76cadde186484e00b1dc64bbd4643b8f",
       "IPY_MODEL_fbdb84ebeabb4328ada0c92ba62d93f1"
      ],
      "layout": "IPY_MODEL_85ec4d3a036b482dab12b35a47ad0da1"
     }
    },
    "afec92ebe95f41a6af8e69b817a0771a": {
     "model_module": "@jupyter-widgets/controls",
     "model_module_version": "1.5.0",
     "model_name": "ProgressStyleModel",
     "state": {
      "_model_module": "@jupyter-widgets/controls",
      "_model_module_version": "1.5.0",
      "_model_name": "ProgressStyleModel",
      "_view_count": null,
      "_view_module": "@jupyter-widgets/base",
      "_view_module_version": "1.2.0",
      "_view_name": "StyleView",
      "bar_color": null,
      "description_width": ""
     }
    },
    "b45b3e13611c43cf8cfcc82222c03e94": {
     "model_module": "@jupyter-widgets/controls",
     "model_module_version": "1.5.0",
     "model_name": "ProgressStyleModel",
     "state": {
      "_model_module": "@jupyter-widgets/controls",
      "_model_module_version": "1.5.0",
      "_model_name": "ProgressStyleModel",
      "_view_count": null,
      "_view_module": "@jupyter-widgets/base",
      "_view_module_version": "1.2.0",
      "_view_name": "StyleView",
      "bar_color": null,
      "description_width": ""
     }
    },
    "b9c62d58312f4d5783b70dd4bbec81d0": {
     "model_module": "@jupyter-widgets/base",
     "model_module_version": "1.2.0",
     "model_name": "LayoutModel",
     "state": {
      "_model_module": "@jupyter-widgets/base",
      "_model_module_version": "1.2.0",
      "_model_name": "LayoutModel",
      "_view_count": null,
      "_view_module": "@jupyter-widgets/base",
      "_view_module_version": "1.2.0",
      "_view_name": "LayoutView",
      "align_content": null,
      "align_items": null,
      "align_self": null,
      "border": null,
      "bottom": null,
      "display": null,
      "flex": null,
      "flex_flow": null,
      "grid_area": null,
      "grid_auto_columns": null,
      "grid_auto_flow": null,
      "grid_auto_rows": null,
      "grid_column": null,
      "grid_gap": null,
      "grid_row": null,
      "grid_template_areas": null,
      "grid_template_columns": null,
      "grid_template_rows": null,
      "height": null,
      "justify_content": null,
      "justify_items": null,
      "left": null,
      "margin": null,
      "max_height": null,
      "max_width": null,
      "min_height": null,
      "min_width": null,
      "object_fit": null,
      "object_position": null,
      "order": null,
      "overflow": null,
      "overflow_x": null,
      "overflow_y": null,
      "padding": null,
      "right": null,
      "top": null,
      "visibility": null,
      "width": null
     }
    },
    "cc182f0174d94769931d2365066e09ae": {
     "model_module": "@jupyter-widgets/controls",
     "model_module_version": "1.5.0",
     "model_name": "DescriptionStyleModel",
     "state": {
      "_model_module": "@jupyter-widgets/controls",
      "_model_module_version": "1.5.0",
      "_model_name": "DescriptionStyleModel",
      "_view_count": null,
      "_view_module": "@jupyter-widgets/base",
      "_view_module_version": "1.2.0",
      "_view_name": "StyleView",
      "description_width": ""
     }
    },
    "d9f7a068e4224dde985a6bc1d63bef72": {
     "model_module": "@jupyter-widgets/controls",
     "model_module_version": "1.5.0",
     "model_name": "DescriptionStyleModel",
     "state": {
      "_model_module": "@jupyter-widgets/controls",
      "_model_module_version": "1.5.0",
      "_model_name": "DescriptionStyleModel",
      "_view_count": null,
      "_view_module": "@jupyter-widgets/base",
      "_view_module_version": "1.2.0",
      "_view_name": "StyleView",
      "description_width": ""
     }
    },
    "dc223184f772461189bb5b6e283c8e22": {
     "model_module": "@jupyter-widgets/base",
     "model_module_version": "1.2.0",
     "model_name": "LayoutModel",
     "state": {
      "_model_module": "@jupyter-widgets/base",
      "_model_module_version": "1.2.0",
      "_model_name": "LayoutModel",
      "_view_count": null,
      "_view_module": "@jupyter-widgets/base",
      "_view_module_version": "1.2.0",
      "_view_name": "LayoutView",
      "align_content": null,
      "align_items": null,
      "align_self": null,
      "border": null,
      "bottom": null,
      "display": null,
      "flex": null,
      "flex_flow": null,
      "grid_area": null,
      "grid_auto_columns": null,
      "grid_auto_flow": null,
      "grid_auto_rows": null,
      "grid_column": null,
      "grid_gap": null,
      "grid_row": null,
      "grid_template_areas": null,
      "grid_template_columns": null,
      "grid_template_rows": null,
      "height": null,
      "justify_content": null,
      "justify_items": null,
      "left": null,
      "margin": null,
      "max_height": null,
      "max_width": null,
      "min_height": null,
      "min_width": null,
      "object_fit": null,
      "object_position": null,
      "order": null,
      "overflow": null,
      "overflow_x": null,
      "overflow_y": null,
      "padding": null,
      "right": null,
      "top": null,
      "visibility": null,
      "width": null
     }
    },
    "e7011e18973c422695aff03e52afd533": {
     "model_module": "@jupyter-widgets/base",
     "model_module_version": "1.2.0",
     "model_name": "LayoutModel",
     "state": {
      "_model_module": "@jupyter-widgets/base",
      "_model_module_version": "1.2.0",
      "_model_name": "LayoutModel",
      "_view_count": null,
      "_view_module": "@jupyter-widgets/base",
      "_view_module_version": "1.2.0",
      "_view_name": "LayoutView",
      "align_content": null,
      "align_items": null,
      "align_self": null,
      "border": null,
      "bottom": null,
      "display": null,
      "flex": null,
      "flex_flow": null,
      "grid_area": null,
      "grid_auto_columns": null,
      "grid_auto_flow": null,
      "grid_auto_rows": null,
      "grid_column": null,
      "grid_gap": null,
      "grid_row": null,
      "grid_template_areas": null,
      "grid_template_columns": null,
      "grid_template_rows": null,
      "height": null,
      "justify_content": null,
      "justify_items": null,
      "left": null,
      "margin": null,
      "max_height": null,
      "max_width": null,
      "min_height": null,
      "min_width": null,
      "object_fit": null,
      "object_position": null,
      "order": null,
      "overflow": null,
      "overflow_x": null,
      "overflow_y": null,
      "padding": null,
      "right": null,
      "top": null,
      "visibility": null,
      "width": null
     }
    },
    "ee69db15664e4ffbb5f03eb18a441b4d": {
     "model_module": "@jupyter-widgets/controls",
     "model_module_version": "1.5.0",
     "model_name": "DescriptionStyleModel",
     "state": {
      "_model_module": "@jupyter-widgets/controls",
      "_model_module_version": "1.5.0",
      "_model_name": "DescriptionStyleModel",
      "_view_count": null,
      "_view_module": "@jupyter-widgets/base",
      "_view_module_version": "1.2.0",
      "_view_name": "StyleView",
      "description_width": ""
     }
    },
    "fbdb84ebeabb4328ada0c92ba62d93f1": {
     "model_module": "@jupyter-widgets/controls",
     "model_module_version": "1.5.0",
     "model_name": "HTMLModel",
     "state": {
      "_dom_classes": [],
      "_model_module": "@jupyter-widgets/controls",
      "_model_module_version": "1.5.0",
      "_model_name": "HTMLModel",
      "_view_count": null,
      "_view_module": "@jupyter-widgets/controls",
      "_view_module_version": "1.5.0",
      "_view_name": "HTMLView",
      "description": "",
      "description_tooltip": null,
      "layout": "IPY_MODEL_dc223184f772461189bb5b6e283c8e22",
      "placeholder": "​",
      "style": "IPY_MODEL_45c99333f457481bb95053b363523f70",
      "value": " 258/258 [03:17&lt;00:00,  1.72it/s]"
     }
    },
    "fd442706a66b4a32aaa2953c7e6f46b9": {
     "model_module": "@jupyter-widgets/base",
     "model_module_version": "1.2.0",
     "model_name": "LayoutModel",
     "state": {
      "_model_module": "@jupyter-widgets/base",
      "_model_module_version": "1.2.0",
      "_model_name": "LayoutModel",
      "_view_count": null,
      "_view_module": "@jupyter-widgets/base",
      "_view_module_version": "1.2.0",
      "_view_name": "LayoutView",
      "align_content": null,
      "align_items": null,
      "align_self": null,
      "border": null,
      "bottom": null,
      "display": null,
      "flex": null,
      "flex_flow": null,
      "grid_area": null,
      "grid_auto_columns": null,
      "grid_auto_flow": null,
      "grid_auto_rows": null,
      "grid_column": null,
      "grid_gap": null,
      "grid_row": null,
      "grid_template_areas": null,
      "grid_template_columns": null,
      "grid_template_rows": null,
      "height": null,
      "justify_content": null,
      "justify_items": null,
      "left": null,
      "margin": null,
      "max_height": null,
      "max_width": null,
      "min_height": null,
      "min_width": null,
      "object_fit": null,
      "object_position": null,
      "order": null,
      "overflow": null,
      "overflow_x": null,
      "overflow_y": null,
      "padding": null,
      "right": null,
      "top": null,
      "visibility": null,
      "width": null
     }
    }
   }
  }
 },
 "nbformat": 4,
 "nbformat_minor": 0
}
